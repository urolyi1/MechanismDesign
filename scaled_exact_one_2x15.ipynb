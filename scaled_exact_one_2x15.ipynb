{
 "cells": [
  {
   "cell_type": "code",
   "execution_count": 1,
   "metadata": {},
   "outputs": [],
   "source": [
    "import pickle\n",
    "import time\n",
    "import torch\n",
    "import numpy as np\n",
    "from argparse import ArgumentParser\n",
    "from double_net.double_net import DoubleNet, train_loop, test_loop_random_start, test_loop\n",
    "from double_net import datasets as ds\n",
    "import double_net.plot_utils as pu\n",
    "import matplotlib.pyplot as plt"
   ]
  },
  {
   "cell_type": "code",
   "execution_count": 2,
   "outputs": [],
   "source": [
    "train = True\n",
    "test = True"
   ],
   "metadata": {
    "collapsed": false,
    "pycharm": {
     "name": "#%%\n"
    }
   }
  },
  {
   "cell_type": "code",
   "execution_count": 3,
   "outputs": [],
   "source": [
    "# import logging\n",
    "# logger = logging.getLogger()\n",
    "# logger.setLevel(logging.INFO)"
   ],
   "metadata": {
    "collapsed": false,
    "pycharm": {
     "name": "#%%\n"
    }
   }
  },
  {
   "cell_type": "code",
   "execution_count": 4,
   "metadata": {},
   "outputs": [],
   "source": [
    "if torch.cuda.is_available():\n",
    "    device = 'cuda'\n",
    "else:\n",
    "    device = 'cpu'"
   ]
  },
  {
   "cell_type": "code",
   "execution_count": 5,
   "metadata": {},
   "outputs": [
    {
     "data": {
      "text/plain": "'cuda'"
     },
     "execution_count": 5,
     "metadata": {},
     "output_type": "execute_result"
    }
   ],
   "source": [
    "device"
   ]
  },
  {
   "cell_type": "code",
   "execution_count": 6,
   "metadata": {},
   "outputs": [
    {
     "data": {
      "text/plain": "Namespace(batch_size=4096, lagr_update_iter=100, misreport_iter=25, misreport_lr=0.1, model_lr=0.001, n_agents=2, n_items=15, num_epochs=100, num_examples=524288, random_seed=0, rgt_start=0, rho=1.0, rho_incr_amount=1.0, rho_incr_iter=2, sinkhorn_epsilon=0.05, sinkhorn_tol=0.01, test_batch_size=10000, test_iter=5, test_misreport_iter=2000, test_num_examples=10000)"
     },
     "execution_count": 6,
     "metadata": {},
     "output_type": "execute_result"
    }
   ],
   "source": [
    "parser = ArgumentParser()\n",
    "parser.add_argument('--random-seed', type=int, default=0)\n",
    "parser.add_argument('--num-examples', type=int, default=131072 * 4)\n",
    "parser.add_argument('--test-num-examples', type=int, default=10000)\n",
    "parser.add_argument('--test-iter', type=int, default=5)\n",
    "parser.add_argument('--n-agents', type=int, default=2)\n",
    "parser.add_argument('--n-items', type=int, default=15)\n",
    "parser.add_argument('--num-epochs', type=int, default=100)\n",
    "parser.add_argument('--batch-size', type=int, default=128 * 32)\n",
    "parser.add_argument('--test-batch-size', type=int, default=10000)\n",
    "parser.add_argument('--model-lr', type=float, default=1e-3)\n",
    "parser.add_argument('--misreport-lr', type=float, default=1e-1)\n",
    "parser.add_argument('--misreport-iter', type=int, default=25)\n",
    "parser.add_argument('--test-misreport-iter', type=int, default=2000)\n",
    "parser.add_argument('--rho', type=float, default=1.0)\n",
    "parser.add_argument('--rho-incr-iter', type=int, default=2)\n",
    "parser.add_argument('--rho-incr-amount', type=float, default=1.0)\n",
    "parser.add_argument('--lagr-update-iter', type=int, default=100)\n",
    "parser.add_argument('--rgt-start', type=int, default=0)\n",
    "parser.add_argument('--sinkhorn-epsilon', type=float, default=5e-2)\n",
    "# parser.add_argument('--sinkhorn-rounds', type=int, default=20)\n",
    "parser.add_argument('--sinkhorn-tol', type=float, default=0.01)\n",
    "\n",
    "dataset_name = \"\"\n",
    "args = parser.parse_args(args=[])\n",
    "args"
   ]
  },
  {
   "cell_type": "code",
   "execution_count": 7,
   "metadata": {},
   "outputs": [],
   "source": [
    "torch.manual_seed(args.random_seed)\n",
    "np.random.seed(args.random_seed)\n",
    "\n",
    "item_ranges = ds.preset_valuation_range(args.n_agents, args.n_items, dataset_name)\n",
    "clamp_op = ds.get_clamp_op(item_ranges)\n",
    "\n",
    "model = DoubleNet(\n",
    "    args.n_agents, args.n_items, item_ranges, args.sinkhorn_epsilon, args.sinkhorn_tol, marginal_choice='exact_one'\n",
    ").to(device)\n",
    "\n",
    "train_data = ds.generate_dataset_nxk(args.n_agents, args.n_items, args.num_examples, item_ranges).to(device)\n",
    "train_loader = ds.Dataloader(train_data, batch_size=args.batch_size, shuffle=True)"
   ]
  },
  {
   "cell_type": "code",
   "execution_count": 8,
   "outputs": [],
   "source": [
    "import os\n",
    "dir_name = 'scaled_exact_one_2x15_experiment_data/'\n",
    "os.makedirs(dir_name, exist_ok=True)"
   ],
   "metadata": {
    "collapsed": false,
    "pycharm": {
     "name": "#%%\n"
    }
   }
  },
  {
   "cell_type": "code",
   "execution_count": 9,
   "metadata": {},
   "outputs": [
    {
     "name": "stderr",
     "output_type": "stream",
     "text": [
      "100%|██████████| 100/100 [1:29:28<00:00, 53.68s/it]\n"
     ]
    },
    {
     "name": "stdout",
     "output_type": "stream",
     "text": [
      "{'regret_max': 0.5093187093734741, 'regret_mean': 0.040091633796691895, 'regret_mults': tensor([[6.4529, 5.9612]], device='cuda:0'), 'payment': 0.4265807271003723}\n",
      "{'regret_max': 0.20464026927947998, 'regret_mean': 0.02392435260117054, 'regret_mults': tensor([[9.2654, 8.2034]], device='cuda:0'), 'payment': 0.6144001483917236}\n",
      "{'regret_max': 0.20578396320343018, 'regret_mean': 0.017328141257166862, 'regret_mults': tensor([[11.7373, 10.8054]], device='cuda:0'), 'payment': 0.6115469932556152}\n",
      "{'regret_max': 0.23646116256713867, 'regret_mean': 0.013297148048877716, 'regret_mults': tensor([[16.8106, 15.9583]], device='cuda:0'), 'payment': 0.6330505609512329}\n",
      "{'regret_max': 0.23961418867111206, 'regret_mean': 0.01094242837280035, 'regret_mults': tensor([[19.1598, 19.0065]], device='cuda:0'), 'payment': 0.6315922737121582}\n",
      "{'regret_max': 0.2593592405319214, 'regret_mean': 0.010120093822479248, 'regret_mults': tensor([[22.7057, 23.2262]], device='cuda:0'), 'payment': 0.6108881235122681}\n",
      "{'regret_max': 0.240247905254364, 'regret_mean': 0.00855189748108387, 'regret_mults': tensor([[25.9144, 29.3508]], device='cuda:0'), 'payment': 0.6056526899337769}\n",
      "{'regret_max': 0.213351309299469, 'regret_mean': 0.007717309519648552, 'regret_mults': tensor([[35.0171, 37.6535]], device='cuda:0'), 'payment': 0.5970971584320068}\n",
      "{'regret_max': 0.22838672995567322, 'regret_mean': 0.007516026496887207, 'regret_mults': tensor([[39.2041, 41.3111]], device='cuda:0'), 'payment': 0.5859513282775879}\n",
      "{'regret_max': 0.20664337277412415, 'regret_mean': 0.0067648738622665405, 'regret_mults': tensor([[43.5363, 45.3820]], device='cuda:0'), 'payment': 0.5847466588020325}\n",
      "{'regret_max': 0.21228480339050293, 'regret_mean': 0.006461475044488907, 'regret_mults': tensor([[51.8655, 54.3673]], device='cuda:0'), 'payment': 0.5788208246231079}\n",
      "{'regret_max': 0.20876336097717285, 'regret_mean': 0.006174575537443161, 'regret_mults': tensor([[56.4080, 59.1462]], device='cuda:0'), 'payment': 0.5696477890014648}\n",
      "{'regret_max': 0.20730280876159668, 'regret_mean': 0.005779784172773361, 'regret_mults': tensor([[62.5565, 64.0295]], device='cuda:0'), 'payment': 0.5634365677833557}\n",
      "{'regret_max': 0.21125715970993042, 'regret_mean': 0.0054244548082351685, 'regret_mults': tensor([[65.9768, 69.2943]], device='cuda:0'), 'payment': 0.5543922185897827}\n",
      "{'regret_max': 0.2145298719406128, 'regret_mean': 0.005119399167597294, 'regret_mults': tensor([[73.7018, 79.7397]], device='cuda:0'), 'payment': 0.5436800122261047}\n",
      "{'regret_max': 0.20541948080062866, 'regret_mean': 0.004637053236365318, 'regret_mults': tensor([[80.0334, 83.2480]], device='cuda:0'), 'payment': 0.5329334735870361}\n",
      "{'regret_max': 0.2080795168876648, 'regret_mean': 0.004176092799752951, 'regret_mults': tensor([[83.9755, 87.4234]], device='cuda:0'), 'payment': 0.5232125520706177}\n",
      "{'regret_max': 0.2070220708847046, 'regret_mean': 0.003846351057291031, 'regret_mults': tensor([[93.0419, 95.0178]], device='cuda:0'), 'payment': 0.5122588872909546}\n",
      "{'regret_max': 0.24473488330841064, 'regret_mean': 0.003480722662061453, 'regret_mults': tensor([[97.6453, 98.3048]], device='cuda:0'), 'payment': 0.5048350095748901}\n",
      "{'regret_max': 0.2573091387748718, 'regret_mean': 0.002987093757838011, 'regret_mults': tensor([[ 99.5160, 101.7855]], device='cuda:0'), 'payment': 0.4985562860965729}\n",
      "{'regret_max': 0.3106146454811096, 'regret_mean': 0.003196363802999258, 'regret_mults': tensor([[103.2744, 104.0771]], device='cuda:0'), 'payment': 0.47989174723625183}\n",
      "{'regret_max': 0.33424291014671326, 'regret_mean': 0.002678690943866968, 'regret_mults': tensor([[112.0134, 110.1251]], device='cuda:0'), 'payment': 0.47407758235931396}\n",
      "{'regret_max': 0.29461485147476196, 'regret_mean': 0.0023626908659934998, 'regret_mults': tensor([[113.7788, 112.4794]], device='cuda:0'), 'payment': 0.4916493892669678}\n",
      "{'regret_max': 0.3188308775424957, 'regret_mean': 0.002125435508787632, 'regret_mults': tensor([[117.2251, 116.0286]], device='cuda:0'), 'payment': 0.4962471127510071}\n",
      "{'regret_max': 0.29542243480682373, 'regret_mean': 0.002040853723883629, 'regret_mults': tensor([[122.6636, 131.8687]], device='cuda:0'), 'payment': 0.4980355203151703}\n",
      "{'regret_max': 0.2877870798110962, 'regret_mean': 0.001776091055944562, 'regret_mults': tensor([[125.5429, 133.6197]], device='cuda:0'), 'payment': 0.5090293884277344}\n",
      "{'regret_max': 0.287504643201828, 'regret_mean': 0.0019483735086396337, 'regret_mults': tensor([[126.9000, 135.9826]], device='cuda:0'), 'payment': 0.49705207347869873}\n",
      "{'regret_max': 0.2792305648326874, 'regret_mean': 0.00209593353793025, 'regret_mults': tensor([[128.3499, 141.0916]], device='cuda:0'), 'payment': 0.476794958114624}\n",
      "{'regret_max': 0.2798570394515991, 'regret_mean': 0.001757879857905209, 'regret_mults': tensor([[132.8607, 147.1073]], device='cuda:0'), 'payment': 0.48947030305862427}\n",
      "{'regret_max': 0.26302990317344666, 'regret_mean': 0.001886170357465744, 'regret_mults': tensor([[134.7765, 148.6456]], device='cuda:0'), 'payment': 0.4744635820388794}\n",
      "{'regret_max': 0.2628381550312042, 'regret_mean': 0.001636957167647779, 'regret_mults': tensor([[136.0024, 151.1230]], device='cuda:0'), 'payment': 0.4907855987548828}\n",
      "{'regret_max': 0.24829968810081482, 'regret_mean': 0.0014136697864159942, 'regret_mults': tensor([[137.8029, 154.1052]], device='cuda:0'), 'payment': 0.5006839632987976}\n",
      "{'regret_max': 0.24685122072696686, 'regret_mean': 0.0014811723958700895, 'regret_mults': tensor([[144.3736, 159.7395]], device='cuda:0'), 'payment': 0.5015795230865479}\n",
      "{'regret_max': 0.24975967407226562, 'regret_mean': 0.0013561105588451028, 'regret_mults': tensor([[146.0966, 163.2202]], device='cuda:0'), 'payment': 0.504804253578186}\n",
      "{'regret_max': 0.23311899602413177, 'regret_mean': 0.0014532927889376879, 'regret_mults': tensor([[148.1755, 167.2644]], device='cuda:0'), 'payment': 0.49605461955070496}\n",
      "{'regret_max': 0.25171005725860596, 'regret_mean': 0.0014072329504415393, 'regret_mults': tensor([[155.7589, 175.7981]], device='cuda:0'), 'payment': 0.5040535926818848}\n",
      "{'regret_max': 0.24164830148220062, 'regret_mean': 0.0011924200225621462, 'regret_mults': tensor([[158.5816, 180.2771]], device='cuda:0'), 'payment': 0.5124509930610657}\n",
      "{'regret_max': 0.25537627935409546, 'regret_mean': 0.001371154678054154, 'regret_mults': tensor([[165.8095, 185.1031]], device='cuda:0'), 'payment': 0.49315428733825684}\n",
      "{'regret_max': 0.24264967441558838, 'regret_mean': 0.0011513432255014777, 'regret_mults': tensor([[168.2291, 189.4604]], device='cuda:0'), 'payment': 0.5134900808334351}\n",
      "{'regret_max': 0.22997361421585083, 'regret_mean': 0.0012499671429395676, 'regret_mults': tensor([[178.7810, 194.5474]], device='cuda:0'), 'payment': 0.49359169602394104}\n",
      "{'regret_max': 0.24651625752449036, 'regret_mean': 0.0011087516322731972, 'regret_mults': tensor([[181.8945, 198.6922]], device='cuda:0'), 'payment': 0.5144460201263428}\n",
      "{'regret_max': 0.23351193964481354, 'regret_mean': 0.0011249883100390434, 'regret_mults': tensor([[185.4852, 200.8463]], device='cuda:0'), 'payment': 0.5086510181427002}\n",
      "{'regret_max': 0.23641496896743774, 'regret_mean': 0.0009577348828315735, 'regret_mults': tensor([[191.6527, 207.2871]], device='cuda:0'), 'payment': 0.5202246904373169}\n",
      "{'regret_max': 0.23585152626037598, 'regret_mean': 0.001118029234930873, 'regret_mults': tensor([[193.4636, 209.1474]], device='cuda:0'), 'payment': 0.5104168653488159}\n",
      "{'regret_max': 0.23028314113616943, 'regret_mean': 0.0009885281324386597, 'regret_mults': tensor([[195.1470, 210.7025]], device='cuda:0'), 'payment': 0.5157926082611084}\n",
      "{'regret_max': 0.23001714050769806, 'regret_mean': 0.0009956294670701027, 'regret_mults': tensor([[197.6683, 211.8542]], device='cuda:0'), 'payment': 0.5227701663970947}\n",
      "{'regret_max': 0.2316877543926239, 'regret_mean': 0.0009791054762899876, 'regret_mults': tensor([[206.6069, 218.5248]], device='cuda:0'), 'payment': 0.5197715163230896}\n",
      "{'regret_max': 0.23792672157287598, 'regret_mean': 0.0008753913571126759, 'regret_mults': tensor([[209.9778, 222.3802]], device='cuda:0'), 'payment': 0.5288101434707642}\n",
      "{'regret_max': 0.22977961599826813, 'regret_mean': 0.0009868706110864878, 'regret_mults': tensor([[212.2192, 224.0025]], device='cuda:0'), 'payment': 0.5240792036056519}\n",
      "{'regret_max': 0.23154354095458984, 'regret_mean': 0.000944988161791116, 'regret_mults': tensor([[215.4268, 227.6524]], device='cuda:0'), 'payment': 0.5196168422698975}\n",
      "{'regret_max': 0.2304791510105133, 'regret_mean': 0.000888952286913991, 'regret_mults': tensor([[217.2039, 229.3424]], device='cuda:0'), 'payment': 0.5323971509933472}\n",
      "{'regret_max': 0.22811469435691833, 'regret_mean': 0.0008518779068253934, 'regret_mults': tensor([[220.0623, 231.7498]], device='cuda:0'), 'payment': 0.5341541171073914}\n",
      "{'regret_max': 0.22262874245643616, 'regret_mean': 0.0008718062890693545, 'regret_mults': tensor([[225.1687, 235.5634]], device='cuda:0'), 'payment': 0.5317697525024414}\n",
      "{'regret_max': 0.22910726070404053, 'regret_mean': 0.0008506031590513885, 'regret_mults': tensor([[230.4608, 241.6580]], device='cuda:0'), 'payment': 0.5398417711257935}\n",
      "{'regret_max': 0.22415883839130402, 'regret_mean': 0.0009167066309601068, 'regret_mults': tensor([[234.9342, 244.9511]], device='cuda:0'), 'payment': 0.5290741324424744}\n",
      "{'regret_max': 0.23203009366989136, 'regret_mean': 0.0008099914994090796, 'regret_mults': tensor([[236.6602, 246.6606]], device='cuda:0'), 'payment': 0.5448381304740906}\n",
      "{'regret_max': 0.22604262828826904, 'regret_mean': 0.0008315992308780551, 'regret_mults': tensor([[239.7508, 248.1161]], device='cuda:0'), 'payment': 0.5432325601577759}\n",
      "{'regret_max': 0.22247987985610962, 'regret_mean': 0.0008207071805372834, 'regret_mults': tensor([[248.9690, 257.0861]], device='cuda:0'), 'payment': 0.536487877368927}\n",
      "{'regret_max': 0.22893762588500977, 'regret_mean': 0.000770386541262269, 'regret_mults': tensor([[252.9520, 260.4439]], device='cuda:0'), 'payment': 0.5486814975738525}\n",
      "{'regret_max': 0.21930426359176636, 'regret_mean': 0.0008055298822000623, 'regret_mults': tensor([[255.4815, 262.9476]], device='cuda:0'), 'payment': 0.5429404973983765}\n",
      "{'regret_max': 0.22231820225715637, 'regret_mean': 0.000727635866496712, 'regret_mults': tensor([[259.1070, 267.6653]], device='cuda:0'), 'payment': 0.553799033164978}\n",
      "{'regret_max': 0.22859987616539001, 'regret_mean': 0.0007459582411684096, 'regret_mults': tensor([[262.3832, 270.2906]], device='cuda:0'), 'payment': 0.5552176237106323}\n",
      "{'regret_max': 0.22314681112766266, 'regret_mean': 0.0007986420532688498, 'regret_mults': tensor([[265.3011, 273.4011]], device='cuda:0'), 'payment': 0.5439853668212891}\n",
      "{'regret_max': 0.234906405210495, 'regret_mean': 0.0007413447019644082, 'regret_mults': tensor([[269.8798, 277.9483]], device='cuda:0'), 'payment': 0.5544459819793701}\n",
      "{'regret_max': 0.22521507740020752, 'regret_mean': 0.0007182609988376498, 'regret_mults': tensor([[277.4838, 285.4082]], device='cuda:0'), 'payment': 0.5522795915603638}\n",
      "{'regret_max': 0.2247077375650406, 'regret_mean': 0.0006667624693363905, 'regret_mults': tensor([[279.9466, 288.9241]], device='cuda:0'), 'payment': 0.5584916472434998}\n",
      "{'regret_max': 0.23416104912757874, 'regret_mean': 0.000704469159245491, 'regret_mults': tensor([[281.8181, 292.5365]], device='cuda:0'), 'payment': 0.5566211938858032}\n",
      "{'regret_max': 0.2204129993915558, 'regret_mean': 0.0007087354897521436, 'regret_mults': tensor([[285.2732, 297.6511]], device='cuda:0'), 'payment': 0.5511619448661804}\n",
      "{'regret_max': 0.22326034307479858, 'regret_mean': 0.0007751033990643919, 'regret_mults': tensor([[288.9631, 299.3819]], device='cuda:0'), 'payment': 0.5539118051528931}\n",
      "{'regret_max': 0.22461563348770142, 'regret_mean': 0.0006627182010561228, 'regret_mults': tensor([[293.3176, 301.2431]], device='cuda:0'), 'payment': 0.562864363193512}\n",
      "{'regret_max': 0.22363591194152832, 'regret_mean': 0.0006675668992102146, 'regret_mults': tensor([[295.1135, 305.6550]], device='cuda:0'), 'payment': 0.5604444146156311}\n",
      "{'regret_max': 0.22564902901649475, 'regret_mean': 0.0006177034229040146, 'regret_mults': tensor([[300.3607, 312.6179]], device='cuda:0'), 'payment': 0.5689600110054016}\n",
      "{'regret_max': 0.22190320491790771, 'regret_mean': 0.0007410672842524946, 'regret_mults': tensor([[303.1664, 316.5277]], device='cuda:0'), 'payment': 0.5610883235931396}\n",
      "{'regret_max': 0.2314361035823822, 'regret_mean': 0.0006492080865427852, 'regret_mults': tensor([[305.5033, 320.2783]], device='cuda:0'), 'payment': 0.5666251182556152}\n",
      "{'regret_max': 0.2322193831205368, 'regret_mean': 0.00061564811039716, 'regret_mults': tensor([[317.1671, 324.3755]], device='cuda:0'), 'payment': 0.5699951648712158}\n",
      "{'regret_max': 0.23447880148887634, 'regret_mean': 0.0006515239365398884, 'regret_mults': tensor([[319.8777, 327.3385]], device='cuda:0'), 'payment': 0.5649662017822266}\n",
      "{'regret_max': 0.22729015350341797, 'regret_mean': 0.0006867535412311554, 'regret_mults': tensor([[324.1973, 332.4197]], device='cuda:0'), 'payment': 0.5656760931015015}\n",
      "{'regret_max': 0.22217458486557007, 'regret_mean': 0.000618820427916944, 'regret_mults': tensor([[328.2353, 337.2845]], device='cuda:0'), 'payment': 0.567689061164856}\n",
      "{'regret_max': 0.2237280160188675, 'regret_mean': 0.0006081536412239075, 'regret_mults': tensor([[334.0896, 341.4041]], device='cuda:0'), 'payment': 0.5685031414031982}\n",
      "{'regret_max': 0.24230033159255981, 'regret_mean': 0.0006318947998806834, 'regret_mults': tensor([[336.8431, 345.3416]], device='cuda:0'), 'payment': 0.5674059391021729}\n",
      "{'regret_max': 0.22426825761795044, 'regret_mean': 0.0006334396894089878, 'regret_mults': tensor([[339.6870, 348.1335]], device='cuda:0'), 'payment': 0.5660901069641113}\n",
      "{'regret_max': 0.22695136070251465, 'regret_mean': 0.0006061678286641836, 'regret_mults': tensor([[342.4677, 352.8907]], device='cuda:0'), 'payment': 0.5677012801170349}\n",
      "{'regret_max': 0.2273566722869873, 'regret_mean': 0.0006127847009338439, 'regret_mults': tensor([[347.1291, 361.3094]], device='cuda:0'), 'payment': 0.5709071159362793}\n",
      "{'regret_max': 0.23623648285865784, 'regret_mean': 0.0006106609362177551, 'regret_mults': tensor([[349.8932, 368.2743]], device='cuda:0'), 'payment': 0.5685288310050964}\n",
      "{'regret_max': 0.2270960509777069, 'regret_mean': 0.0006471586530096829, 'regret_mults': tensor([[353.7087, 370.5210]], device='cuda:0'), 'payment': 0.5651282668113708}\n",
      "{'regret_max': 0.2289862334728241, 'regret_mean': 0.0005688082310371101, 'regret_mults': tensor([[360.8743, 378.3091]], device='cuda:0'), 'payment': 0.5723103880882263}\n",
      "{'regret_max': 0.22593098878860474, 'regret_mean': 0.0006067852955311537, 'regret_mults': tensor([[365.8350, 382.7198]], device='cuda:0'), 'payment': 0.5709139108657837}\n",
      "{'regret_max': 0.2271709442138672, 'regret_mean': 0.0006179421907290816, 'regret_mults': tensor([[367.6776, 385.6302]], device='cuda:0'), 'payment': 0.5700646042823792}\n",
      "{'regret_max': 0.23104482889175415, 'regret_mean': 0.0005339698400348425, 'regret_mults': tensor([[369.7593, 389.4532]], device='cuda:0'), 'payment': 0.5738317966461182}\n",
      "{'regret_max': 0.22445304691791534, 'regret_mean': 0.0005541421705856919, 'regret_mults': tensor([[376.4810, 395.8185]], device='cuda:0'), 'payment': 0.574276328086853}\n",
      "{'regret_max': 0.22546005249023438, 'regret_mean': 0.0006241502705961466, 'regret_mults': tensor([[378.5208, 399.8943]], device='cuda:0'), 'payment': 0.574457585811615}\n",
      "{'regret_max': 0.22430187463760376, 'regret_mean': 0.0005234909476712346, 'regret_mults': tensor([[380.9096, 403.3003]], device='cuda:0'), 'payment': 0.5761531591415405}\n",
      "{'regret_max': 0.21983888745307922, 'regret_mean': 0.0005339749623090029, 'regret_mults': tensor([[386.8571, 410.8227]], device='cuda:0'), 'payment': 0.5745933055877686}\n",
      "{'regret_max': 0.23301970958709717, 'regret_mean': 0.0005723877111449838, 'regret_mults': tensor([[390.7797, 414.1184]], device='cuda:0'), 'payment': 0.5752950310707092}\n",
      "{'regret_max': 0.22064626216888428, 'regret_mean': 0.0005701750051230192, 'regret_mults': tensor([[397.4898, 417.2055]], device='cuda:0'), 'payment': 0.5720621943473816}\n",
      "{'regret_max': 0.22158241271972656, 'regret_mean': 0.0005557813565246761, 'regret_mults': tensor([[400.7531, 419.7812]], device='cuda:0'), 'payment': 0.5769842267036438}\n",
      "{'regret_max': 0.21704979240894318, 'regret_mean': 0.000510309066157788, 'regret_mults': tensor([[404.7872, 425.5973]], device='cuda:0'), 'payment': 0.5752804279327393}\n",
      "{'regret_max': 0.2282732129096985, 'regret_mean': 0.0005564950406551361, 'regret_mults': tensor([[413.3217, 428.1423]], device='cuda:0'), 'payment': 0.5683639645576477}\n",
      "{'regret_max': 0.22409674525260925, 'regret_mean': 0.0005152664962224662, 'regret_mults': tensor([[416.3016, 432.2460]], device='cuda:0'), 'payment': 0.5746732354164124}\n",
      "{'regret_max': 0.22093714773654938, 'regret_mean': 0.0005097304238006473, 'regret_mults': tensor([[421.8975, 440.8309]], device='cuda:0'), 'payment': 0.577151894569397}\n"
     ]
    }
   ],
   "source": [
    "\n",
    "if train:\n",
    "    start_time = time.time()\n",
    "    mean_rgt, mean_pay, lagr_mults = train_loop(model, train_loader, args, device=device)\n",
    "    end_time = time.time()\n",
    "    with open(dir_name+'time.txt', 'w') as f:\n",
    "        print(f\"runtime: {end_time - start_time}\", file=f)"
   ]
  },
  {
   "cell_type": "code",
   "execution_count": 10,
   "outputs": [],
   "source": [
    "if not train:\n",
    "    model = DoubleNet.load(dir_name).cuda()\n",
    "else:\n",
    "    model.save(dir_name)\n",
    "    to_pkl_lst = [mean_rgt, mean_pay, lagr_mults]\n",
    "    for i, fname in enumerate(['mean_rgt', 'mean_pay', 'lagr_mults']):\n",
    "        with open(dir_name + fname, 'wb') as fp:\n",
    "            pickle.dump(to_pkl_lst[i], fp)"
   ],
   "metadata": {
    "collapsed": false,
    "pycharm": {
     "name": "#%%\n"
    }
   }
  },
  {
   "cell_type": "code",
   "execution_count": 10,
   "outputs": [],
   "source": [],
   "metadata": {
    "collapsed": false,
    "pycharm": {
     "name": "#%%\n"
    }
   }
  },
  {
   "cell_type": "code",
   "execution_count": 11,
   "outputs": [
    {
     "name": "stderr",
     "output_type": "stream",
     "text": [
      "1it [00:30, 30.81s/it]\n"
     ]
    },
    {
     "name": "stdout",
     "output_type": "stream",
     "text": [
      "{'payment_mean': 0.5707309246063232, 'regret_mean': 0.002022291999310255, 'regret_max': 0.1868128925561905}\n",
      "CPU times: user 30.8 s, sys: 16 ms, total: 30.9 s\n",
      "Wall time: 30.8 s\n"
     ]
    }
   ],
   "source": [
    "%%time\n",
    "# model.sinkhorn_rounds = 100\n",
    "# model.sinkhorn_epsilon = 1e-2\n",
    "if test:\n",
    "    test_data = ds.generate_dataset_nxk(args.n_agents, args.n_items, args.test_num_examples, item_ranges).to(device)\n",
    "    # test_data = torch.load(dir_name + 'test_data').to(device=device)\n",
    "    cpu_test_data = test_data.clone().to(device='cpu')\n",
    "\n",
    "    test_loader = ds.Dataloader(test_data, batch_size=args.test_batch_size, shuffle=True)\n",
    "\n",
    "    result = test_loop(model, test_loader, args, device=device)\n",
    "    print(result)"
   ],
   "metadata": {
    "collapsed": false,
    "pycharm": {
     "name": "#%%\n"
    }
   }
  },
  {
   "cell_type": "code",
   "execution_count": 12,
   "metadata": {},
   "outputs": [
    {
     "name": "stderr",
     "output_type": "stream",
     "text": [
      "1it [02:47, 167.79s/it]\n"
     ]
    },
    {
     "name": "stdout",
     "output_type": "stream",
     "text": [
      "{'payment_mean': 0.5703034996986389, 'regret_mean': 0.0028555241879075766, 'regret_max': 0.18862362205982208}\n"
     ]
    }
   ],
   "source": [
    "# %%time\n",
    "if test:\n",
    "    args.test_num_examples = 1000\n",
    "    args.test_batch_size = 1000\n",
    "    args.test_misreport_iter = 1000\n",
    "    args.misreport_lr = 1e-1\n",
    "    test_data2 = ds.generate_dataset_nxk(args.n_agents, args.n_items, args.test_num_examples, item_ranges).to(device)\n",
    "    random_starts = [test_data2]\n",
    "    for i in range(10):\n",
    "        random_starts.append(ds.generate_dataset_nxk(args.n_agents, args.n_items, args.test_num_examples, item_ranges).to(device))\n",
    "    test_loader = ds.Dataloader(test_data2, batch_size=args.test_batch_size, shuffle=True)\n",
    "\n",
    "    result = test_loop_random_start(model, test_loader, args, random_starts, device=device)\n",
    "    print(result)"
   ]
  },
  {
   "cell_type": "code",
   "execution_count": 13,
   "outputs": [],
   "source": [
    "converged = model.check_convergence(torch.rand(10000,2,3).cuda())"
   ],
   "metadata": {
    "collapsed": false,
    "pycharm": {
     "name": "#%%\n"
    }
   }
  },
  {
   "cell_type": "code",
   "execution_count": 14,
   "outputs": [
    {
     "data": {
      "text/plain": "tensor(0.0007, device='cuda:0')"
     },
     "execution_count": 14,
     "metadata": {},
     "output_type": "execute_result"
    }
   ],
   "source": [
    "converged[0].max()"
   ],
   "metadata": {
    "collapsed": false,
    "pycharm": {
     "name": "#%%\n"
    }
   }
  },
  {
   "cell_type": "code",
   "execution_count": 15,
   "outputs": [
    {
     "data": {
      "text/plain": "tensor(2.3842e-07, device='cuda:0')"
     },
     "execution_count": 15,
     "metadata": {},
     "output_type": "execute_result"
    }
   ],
   "source": [
    "converged[1].max()"
   ],
   "metadata": {
    "collapsed": false,
    "pycharm": {
     "name": "#%%\n"
    }
   }
  },
  {
   "cell_type": "code",
   "execution_count": 16,
   "outputs": [
    {
     "name": "stderr",
     "output_type": "stream",
     "text": [
      "1it [09:55, 595.61s/it]\n"
     ]
    },
    {
     "name": "stdout",
     "output_type": "stream",
     "text": [
      "{'payment_mean': 0.7524938583374023, 'regret_mean': 0.23816587030887604, 'regret_max': 0.408466100692749}\n"
     ]
    }
   ],
   "source": [
    "model.cuda()\n",
    "model.sinkhorn_epsilon=5e-3\n",
    "if test:\n",
    "    args.test_num_examples = 1000\n",
    "    args.test_batch_size = 1000\n",
    "    args.test_misreport_iter = 1000\n",
    "    args.misreport_lr = 1e-1\n",
    "    test_data2 = ds.generate_dataset_nxk(args.n_agents, args.n_items, args.test_num_examples, item_ranges).to(device)\n",
    "    random_starts = [test_data2]\n",
    "    for i in range(10):\n",
    "        random_starts.append(ds.generate_dataset_nxk(args.n_agents, args.n_items, args.test_num_examples, item_ranges).to(device))\n",
    "    test_loader = ds.Dataloader(test_data2, batch_size=args.test_batch_size, shuffle=True)\n",
    "\n",
    "    result = test_loop_random_start(model, test_loader, args, random_starts, device=device)\n",
    "    print(result)"
   ],
   "metadata": {
    "collapsed": false,
    "pycharm": {
     "name": "#%%\n"
    }
   }
  },
  {
   "cell_type": "code",
   "execution_count": null,
   "outputs": [],
   "source": [],
   "metadata": {
    "collapsed": false,
    "pycharm": {
     "name": "#%%\n"
    }
   }
  }
 ],
 "metadata": {
  "kernelspec": {
   "display_name": "Python 3",
   "language": "python",
   "name": "python3"
  },
  "language_info": {
   "codemirror_mode": {
    "name": "ipython",
    "version": 3
   },
   "file_extension": ".py",
   "mimetype": "text/x-python",
   "name": "python",
   "nbconvert_exporter": "python",
   "pygments_lexer": "ipython3",
   "version": "3.7.4"
  }
 },
 "nbformat": 4,
 "nbformat_minor": 2
}