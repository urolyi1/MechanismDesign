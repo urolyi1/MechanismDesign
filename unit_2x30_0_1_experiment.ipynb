{
 "cells": [
  {
   "cell_type": "code",
   "execution_count": 1,
   "metadata": {},
   "outputs": [],
   "source": [
    "import torch\n",
    "from torch import nn, optim\n",
    "import torch.nn.functional as F\n",
    "import numpy as np\n",
    "from argparse import ArgumentParser\n",
    "from double_net.double_net import DoubleNet, train_loop, train_loop_no_lagrange, test_loop, test_loop_random_start\n",
    "from double_net import datasets as ds\n",
    "import time\n",
    "import double_net.plot_utils as pu\n",
    "import importlib\n",
    "import matplotlib.pyplot as plt"
   ]
  },
  {
   "cell_type": "code",
   "execution_count": 2,
   "metadata": {},
   "outputs": [],
   "source": [
    "if torch.cuda.is_available():\n",
    "    device = 'cuda'\n",
    "else:\n",
    "    device = 'cpu'"
   ]
  },
  {
   "cell_type": "code",
   "execution_count": 3,
   "metadata": {},
   "outputs": [
    {
     "data": {
      "text/plain": [
       "Namespace(batch_size=4096, lagr_update_iter=100, misreport_iter=25, misreport_lr=0.1, model_lr=0.001, n_agents=2, n_items=30, num_epochs=100, num_examples=524288, random_seed=0, rgt_start=0, rho=1, rho_incr_amount=1.0, rho_incr_iter=2, sinkhorn_epsilon=0.04, sinkhorn_rounds=20, test_batch_size=1000, test_iter=5, test_misreport_iter=1000, test_num_examples=1000)"
      ]
     },
     "execution_count": 3,
     "metadata": {},
     "output_type": "execute_result"
    }
   ],
   "source": [
    "parser = ArgumentParser()\n",
    "parser.add_argument('--random-seed', type=int, default=0)\n",
    "parser.add_argument('--num-examples', type=int, default=131072 * 4)\n",
    "parser.add_argument('--test-num-examples', type=int, default=1000)\n",
    "parser.add_argument('--test-iter', type=int, default=5)\n",
    "parser.add_argument('--n-agents', type=int, default=2)\n",
    "parser.add_argument('--n-items', type=int, default=30)\n",
    "parser.add_argument('--num-epochs', type=int, default=100)\n",
    "parser.add_argument('--batch-size', type=int, default=128 * 32)\n",
    "parser.add_argument('--test-batch-size', type=int, default=1000)\n",
    "parser.add_argument('--model-lr', type=float, default=1e-3)\n",
    "parser.add_argument('--misreport-lr', type=float, default=1e-1)\n",
    "parser.add_argument('--misreport-iter', type=int, default=25)\n",
    "parser.add_argument('--test-misreport-iter', type=int, default=1000)\n",
    "parser.add_argument('--rho', type=float, default=1)\n",
    "parser.add_argument('--rho-incr-iter', type=int, default=2)\n",
    "parser.add_argument('--rho-incr-amount', type=float, default=1.0)\n",
    "parser.add_argument('--lagr-update-iter', type=int, default=100)\n",
    "parser.add_argument('--rgt-start', type=int, default=0)\n",
    "parser.add_argument('--sinkhorn-epsilon', type=float, default=3e-2)\n",
    "parser.add_argument('--sinkhorn-rounds', type=int, default=20)\n",
    "\n",
    "\n",
    "args = parser.parse_args(args=[])\n",
    "args"
   ]
  },
  {
   "cell_type": "code",
   "execution_count": 4,
   "metadata": {},
   "outputs": [],
   "source": [
    "torch.manual_seed(args.random_seed)\n",
    "np.random.seed(args.random_seed)\n",
    "\n",
    "item_ranges = ds.preset_valuation_range(args.n_agents, args.n_items, \"\")\n",
    "\n",
    "model = DoubleNet(\n",
    "    args.n_agents, args.n_items, item_ranges, args.sinkhorn_epsilon, args.sinkhorn_rounds, marginal_choice='unit'\n",
    ").to(device)\n",
    "\n",
    "train_data = ds.generate_dataset_nxk(args.n_agents, args.n_items, args.num_examples, item_ranges).to(device)\n",
    "train_loader = ds.Dataloader(train_data, batch_size=args.batch_size, shuffle=True)"
   ]
  },
  {
   "cell_type": "code",
   "execution_count": 5,
   "metadata": {
    "scrolled": true
   },
   "outputs": [
    {
     "name": "stderr",
     "output_type": "stream",
     "text": [
      "  1%|          | 1/100 [02:11<3:37:29, 131.81s/it]"
     ]
    },
    {
     "name": "stdout",
     "output_type": "stream",
     "text": [
      "{'regret_max': 0.6859252452850342, 'regret_mean': 0.031786367297172546, 'regret_mults': tensor([[5.0471, 6.9338]], device='cuda:0'), 'payment': 0.4308133125305176}\n"
     ]
    },
    {
     "name": "stderr",
     "output_type": "stream",
     "text": [
      "\r",
      "  2%|▏         | 2/100 [04:41<3:44:03, 137.18s/it]"
     ]
    },
    {
     "name": "stdout",
     "output_type": "stream",
     "text": [
      "{'regret_max': 0.17943024635314941, 'regret_mean': 0.011331727728247643, 'regret_mults': tensor([[5.0787, 9.0271]], device='cuda:0'), 'payment': 0.5658590197563171}\n"
     ]
    },
    {
     "name": "stderr",
     "output_type": "stream",
     "text": [
      "\r",
      "  3%|▎         | 3/100 [07:12<3:48:14, 141.18s/it]"
     ]
    },
    {
     "name": "stdout",
     "output_type": "stream",
     "text": [
      "{'regret_max': 0.17232739925384521, 'regret_mean': 0.006627780385315418, 'regret_mults': tensor([[ 5.1153, 11.1945]], device='cuda:0'), 'payment': 0.5488367080688477}\n"
     ]
    },
    {
     "name": "stderr",
     "output_type": "stream",
     "text": [
      "\r",
      "  4%|▍         | 4/100 [09:42<3:50:31, 144.08s/it]"
     ]
    },
    {
     "name": "stdout",
     "output_type": "stream",
     "text": [
      "{'regret_max': 0.11640352010726929, 'regret_mean': 0.0046067014336586, 'regret_mults': tensor([[ 5.2158, 15.1830]], device='cuda:0'), 'payment': 0.5367244482040405}\n"
     ]
    },
    {
     "name": "stderr",
     "output_type": "stream",
     "text": [
      "\r",
      "  5%|▌         | 5/100 [12:13<3:51:11, 146.02s/it]"
     ]
    },
    {
     "name": "stdout",
     "output_type": "stream",
     "text": [
      "{'regret_max': 0.08705097436904907, 'regret_mean': 0.0042073726654052734, 'regret_mults': tensor([[ 5.2839, 17.2347]], device='cuda:0'), 'payment': 0.5334969162940979}\n"
     ]
    },
    {
     "name": "stderr",
     "output_type": "stream",
     "text": [
      "\r",
      "  6%|▌         | 6/100 [14:44<3:50:57, 147.42s/it]"
     ]
    },
    {
     "name": "stdout",
     "output_type": "stream",
     "text": [
      "{'regret_max': 0.08837717771530151, 'regret_mean': 0.0033085988834500313, 'regret_mults': tensor([[ 5.3547, 19.2735]], device='cuda:0'), 'payment': 0.5280556678771973}\n"
     ]
    },
    {
     "name": "stderr",
     "output_type": "stream",
     "text": [
      "\r",
      "  7%|▋         | 7/100 [17:14<3:49:52, 148.31s/it]"
     ]
    },
    {
     "name": "stdout",
     "output_type": "stream",
     "text": [
      "{'regret_max': 0.08835011720657349, 'regret_mean': 0.0035999841056764126, 'regret_mults': tensor([[ 5.4271, 21.1502]], device='cuda:0'), 'payment': 0.511899471282959}\n"
     ]
    },
    {
     "name": "stderr",
     "output_type": "stream",
     "text": [
      "\r",
      "  8%|▊         | 8/100 [19:45<3:48:31, 149.03s/it]"
     ]
    },
    {
     "name": "stdout",
     "output_type": "stream",
     "text": [
      "{'regret_max': 0.06604170799255371, 'regret_mean': 0.0023225012701004744, 'regret_mults': tensor([[ 5.5751, 25.3636]], device='cuda:0'), 'payment': 0.5135524868965149}\n"
     ]
    },
    {
     "name": "stderr",
     "output_type": "stream",
     "text": [
      "\r",
      "  9%|▉         | 9/100 [22:15<3:46:49, 149.55s/it]"
     ]
    },
    {
     "name": "stdout",
     "output_type": "stream",
     "text": [
      "{'regret_max': 0.06065189838409424, 'regret_mean': 0.002419688506051898, 'regret_mults': tensor([[ 5.6576, 27.7602]], device='cuda:0'), 'payment': 0.5038769245147705}\n"
     ]
    },
    {
     "name": "stderr",
     "output_type": "stream",
     "text": [
      "\r",
      " 10%|█         | 10/100 [24:46<3:44:43, 149.82s/it]"
     ]
    },
    {
     "name": "stdout",
     "output_type": "stream",
     "text": [
      "{'regret_max': 0.05932706594467163, 'regret_mean': 0.0017752668354660273, 'regret_mults': tensor([[ 5.7443, 29.7454]], device='cuda:0'), 'payment': 0.500819981098175}\n"
     ]
    },
    {
     "name": "stderr",
     "output_type": "stream",
     "text": [
      "\r",
      " 11%|█         | 11/100 [27:11<3:40:15, 148.49s/it]"
     ]
    },
    {
     "name": "stdout",
     "output_type": "stream",
     "text": [
      "{'regret_max': 0.059025347232818604, 'regret_mean': 0.002000962384045124, 'regret_mults': tensor([[ 5.9221, 34.0118]], device='cuda:0'), 'payment': 0.48966631293296814}\n"
     ]
    },
    {
     "name": "stderr",
     "output_type": "stream",
     "text": [
      "\r",
      " 12%|█▏        | 12/100 [28:24<3:04:19, 125.67s/it]"
     ]
    },
    {
     "name": "stdout",
     "output_type": "stream",
     "text": [
      "{'regret_max': 0.05141282081604004, 'regret_mean': 0.0019443044438958168, 'regret_mults': tensor([[ 6.0183, 36.1774]], device='cuda:0'), 'payment': 0.4881235957145691}\n"
     ]
    },
    {
     "name": "stderr",
     "output_type": "stream",
     "text": [
      "\r",
      " 13%|█▎        | 13/100 [29:37<2:39:15, 109.83s/it]"
     ]
    },
    {
     "name": "stdout",
     "output_type": "stream",
     "text": [
      "{'regret_max': 0.04513561725616455, 'regret_mean': 0.0013880615588277578, 'regret_mults': tensor([[ 6.1161, 37.9769]], device='cuda:0'), 'payment': 0.4830377697944641}\n"
     ]
    },
    {
     "name": "stderr",
     "output_type": "stream",
     "text": [
      "\r",
      " 14%|█▍        | 14/100 [30:49<2:21:20, 98.62s/it] "
     ]
    },
    {
     "name": "stdout",
     "output_type": "stream",
     "text": [
      "{'regret_max': 0.05010026693344116, 'regret_mean': 0.001520669786259532, 'regret_mults': tensor([[ 6.2291, 40.1952]], device='cuda:0'), 'payment': 0.4806482791900635}\n"
     ]
    },
    {
     "name": "stderr",
     "output_type": "stream",
     "text": [
      "\r",
      " 15%|█▌        | 15/100 [32:01<2:08:31, 90.72s/it]"
     ]
    },
    {
     "name": "stdout",
     "output_type": "stream",
     "text": [
      "{'regret_max': 0.043343961238861084, 'regret_mean': 0.0015158341266214848, 'regret_mults': tensor([[ 6.4087, 44.8492]], device='cuda:0'), 'payment': 0.47524335980415344}\n"
     ]
    },
    {
     "name": "stderr",
     "output_type": "stream",
     "text": [
      "\r",
      " 16%|█▌        | 16/100 [33:14<1:59:32, 85.38s/it]"
     ]
    },
    {
     "name": "stdout",
     "output_type": "stream",
     "text": [
      "{'regret_max': 0.04459500312805176, 'regret_mean': 0.0012078671716153622, 'regret_mults': tensor([[ 6.5141, 46.6549]], device='cuda:0'), 'payment': 0.4745303988456726}\n"
     ]
    },
    {
     "name": "stderr",
     "output_type": "stream",
     "text": [
      "\r",
      " 17%|█▋        | 17/100 [34:27<1:52:45, 81.51s/it]"
     ]
    },
    {
     "name": "stdout",
     "output_type": "stream",
     "text": [
      "{'regret_max': 0.040027081966400146, 'regret_mean': 0.0013168139848858118, 'regret_mults': tensor([[ 6.6446, 51.3162]], device='cuda:0'), 'payment': 0.4680488705635071}\n"
     ]
    },
    {
     "name": "stderr",
     "output_type": "stream",
     "text": [
      "\r",
      " 18%|█▊        | 18/100 [35:40<1:47:49, 78.90s/it]"
     ]
    },
    {
     "name": "stdout",
     "output_type": "stream",
     "text": [
      "{'regret_max': 0.03648918867111206, 'regret_mean': 0.0011264989152550697, 'regret_mults': tensor([[ 6.8929, 55.2145]], device='cuda:0'), 'payment': 0.46673792600631714}\n"
     ]
    },
    {
     "name": "stderr",
     "output_type": "stream",
     "text": [
      "\r",
      " 19%|█▉        | 19/100 [36:52<1:44:05, 77.11s/it]"
     ]
    },
    {
     "name": "stdout",
     "output_type": "stream",
     "text": [
      "{'regret_max': 0.04074275493621826, 'regret_mean': 0.001210666261613369, 'regret_mults': tensor([[ 7.0401, 57.1546]], device='cuda:0'), 'payment': 0.4580445885658264}\n"
     ]
    },
    {
     "name": "stderr",
     "output_type": "stream",
     "text": [
      "\r",
      " 20%|██        | 20/100 [38:05<1:41:09, 75.87s/it]"
     ]
    },
    {
     "name": "stdout",
     "output_type": "stream",
     "text": [
      "{'regret_max': 0.03619891405105591, 'regret_mean': 0.00097464001737535, 'regret_mults': tensor([[ 7.1885, 59.2094]], device='cuda:0'), 'payment': 0.4646127223968506}\n"
     ]
    },
    {
     "name": "stderr",
     "output_type": "stream",
     "text": [
      "\r",
      " 21%|██        | 21/100 [39:18<1:38:43, 74.98s/it]"
     ]
    },
    {
     "name": "stdout",
     "output_type": "stream",
     "text": [
      "{'regret_max': 0.03211808204650879, 'regret_mean': 0.0010774987749755383, 'regret_mults': tensor([[ 7.3240, 61.0862]], device='cuda:0'), 'payment': 0.4583929181098938}\n"
     ]
    },
    {
     "name": "stderr",
     "output_type": "stream",
     "text": [
      "\r",
      " 22%|██▏       | 22/100 [40:31<1:36:36, 74.31s/it]"
     ]
    },
    {
     "name": "stdout",
     "output_type": "stream",
     "text": [
      "{'regret_max': 0.02726644277572632, 'regret_mean': 0.0010126425186172128, 'regret_mults': tensor([[ 7.6002, 66.4697]], device='cuda:0'), 'payment': 0.4578990638256073}\n"
     ]
    },
    {
     "name": "stderr",
     "output_type": "stream",
     "text": [
      "\r",
      " 23%|██▎       | 23/100 [41:44<1:34:42, 73.80s/it]"
     ]
    },
    {
     "name": "stdout",
     "output_type": "stream",
     "text": [
      "{'regret_max': 0.0286216139793396, 'regret_mean': 0.0009400758426636457, 'regret_mults': tensor([[ 7.7462, 68.5145]], device='cuda:0'), 'payment': 0.4577047824859619}\n"
     ]
    },
    {
     "name": "stderr",
     "output_type": "stream",
     "text": [
      "\r",
      " 24%|██▍       | 24/100 [42:56<1:32:56, 73.38s/it]"
     ]
    },
    {
     "name": "stdout",
     "output_type": "stream",
     "text": [
      "{'regret_max': 0.029203593730926514, 'regret_mean': 0.0009132297709584236, 'regret_mults': tensor([[ 7.8869, 70.5432]], device='cuda:0'), 'payment': 0.4553074836730957}\n"
     ]
    },
    {
     "name": "stderr",
     "output_type": "stream",
     "text": [
      "\r",
      " 25%|██▌       | 25/100 [44:09<1:31:26, 73.15s/it]"
     ]
    },
    {
     "name": "stdout",
     "output_type": "stream",
     "text": [
      "{'regret_max': 0.02845972776412964, 'regret_mean': 0.0008919392712414265, 'regret_mults': tensor([[ 8.1532, 76.6811]], device='cuda:0'), 'payment': 0.451800674200058}\n"
     ]
    },
    {
     "name": "stderr",
     "output_type": "stream",
     "text": [
      "\r",
      " 26%|██▌       | 26/100 [45:21<1:29:59, 72.97s/it]"
     ]
    },
    {
     "name": "stdout",
     "output_type": "stream",
     "text": [
      "{'regret_max': 0.03206217288970947, 'regret_mean': 0.0007676376262679696, 'regret_mults': tensor([[ 8.3015, 78.8520]], device='cuda:0'), 'payment': 0.45590218901634216}\n"
     ]
    },
    {
     "name": "stderr",
     "output_type": "stream",
     "text": [
      "\r",
      " 27%|██▋       | 27/100 [46:34<1:28:32, 72.77s/it]"
     ]
    },
    {
     "name": "stdout",
     "output_type": "stream",
     "text": [
      "{'regret_max': 0.028794586658477783, 'regret_mean': 0.000871577940415591, 'regret_mults': tensor([[ 8.4667, 81.7133]], device='cuda:0'), 'payment': 0.4464915990829468}\n"
     ]
    },
    {
     "name": "stderr",
     "output_type": "stream",
     "text": [
      "\r",
      " 28%|██▊       | 28/100 [47:46<1:27:14, 72.70s/it]"
     ]
    },
    {
     "name": "stdout",
     "output_type": "stream",
     "text": [
      "{'regret_max': 0.024847567081451416, 'regret_mean': 0.0006852063816040754, 'regret_mults': tensor([[ 8.6184, 83.7848]], device='cuda:0'), 'payment': 0.45303085446357727}\n"
     ]
    },
    {
     "name": "stderr",
     "output_type": "stream",
     "text": [
      "\r",
      " 29%|██▉       | 29/100 [48:59<1:26:12, 72.85s/it]"
     ]
    },
    {
     "name": "stdout",
     "output_type": "stream",
     "text": [
      "{'regret_max': 0.030003607273101807, 'regret_mean': 0.000764775148127228, 'regret_mults': tensor([[ 8.9689, 89.3708]], device='cuda:0'), 'payment': 0.4416418671607971}\n"
     ]
    },
    {
     "name": "stderr",
     "output_type": "stream",
     "text": [
      "\r",
      " 30%|███       | 30/100 [50:12<1:24:58, 72.84s/it]"
     ]
    },
    {
     "name": "stdout",
     "output_type": "stream",
     "text": [
      "{'regret_max': 0.01724618673324585, 'regret_mean': 0.0006841813446953893, 'regret_mults': tensor([[ 9.1373, 91.2118]], device='cuda:0'), 'payment': 0.4497479200363159}\n"
     ]
    },
    {
     "name": "stderr",
     "output_type": "stream",
     "text": [
      "\r",
      " 31%|███       | 31/100 [51:25<1:23:46, 72.85s/it]"
     ]
    },
    {
     "name": "stdout",
     "output_type": "stream",
     "text": [
      "{'regret_max': 0.017245203256607056, 'regret_mean': 0.0005975662497803569, 'regret_mults': tensor([[ 9.3119, 93.8845]], device='cuda:0'), 'payment': 0.45168355107307434}\n"
     ]
    },
    {
     "name": "stderr",
     "output_type": "stream",
     "text": [
      "\r",
      " 32%|███▏      | 32/100 [52:38<1:22:30, 72.80s/it]"
     ]
    },
    {
     "name": "stdout",
     "output_type": "stream",
     "text": [
      "{'regret_max': 0.02064773440361023, 'regret_mean': 0.0007447799434885383, 'regret_mults': tensor([[ 9.4641, 96.6199]], device='cuda:0'), 'payment': 0.43735983967781067}\n"
     ]
    },
    {
     "name": "stderr",
     "output_type": "stream",
     "text": [
      "\r",
      " 33%|███▎      | 33/100 [53:51<1:21:19, 72.82s/it]"
     ]
    },
    {
     "name": "stdout",
     "output_type": "stream",
     "text": [
      "{'regret_max': 0.014758586883544922, 'regret_mean': 0.0006267001735977829, 'regret_mults': tensor([[  9.8094, 100.3587]], device='cuda:0'), 'payment': 0.45174306631088257}\n"
     ]
    },
    {
     "name": "stderr",
     "output_type": "stream",
     "text": [
      "\r",
      " 34%|███▍      | 34/100 [55:03<1:20:07, 72.84s/it]"
     ]
    },
    {
     "name": "stdout",
     "output_type": "stream",
     "text": [
      "{'regret_max': 0.013448745012283325, 'regret_mean': 0.0005950836930423975, 'regret_mults': tensor([[  9.9795, 102.7696]], device='cuda:0'), 'payment': 0.4518599808216095}\n"
     ]
    },
    {
     "name": "stderr",
     "output_type": "stream",
     "text": [
      "\r",
      " 35%|███▌      | 35/100 [56:16<1:18:52, 72.81s/it]"
     ]
    },
    {
     "name": "stdout",
     "output_type": "stream",
     "text": [
      "{'regret_max': 0.012621313333511353, 'regret_mean': 0.0005575813120231032, 'regret_mults': tensor([[ 10.1440, 105.1063]], device='cuda:0'), 'payment': 0.45040833950042725}\n"
     ]
    },
    {
     "name": "stderr",
     "output_type": "stream",
     "text": [
      "\r",
      " 36%|███▌      | 36/100 [57:29<1:17:33, 72.71s/it]"
     ]
    },
    {
     "name": "stdout",
     "output_type": "stream",
     "text": [
      "{'regret_max': 0.013967365026473999, 'regret_mean': 0.0005384666146710515, 'regret_mults': tensor([[ 10.4677, 109.0416]], device='cuda:0'), 'payment': 0.45066073536872864}\n"
     ]
    },
    {
     "name": "stderr",
     "output_type": "stream",
     "text": [
      "\r",
      " 37%|███▋      | 37/100 [58:41<1:16:22, 72.74s/it]"
     ]
    },
    {
     "name": "stdout",
     "output_type": "stream",
     "text": [
      "{'regret_max': 0.014939308166503906, 'regret_mean': 0.0005488894530571997, 'regret_mults': tensor([[ 10.6166, 110.8361]], device='cuda:0'), 'payment': 0.4513281583786011}\n"
     ]
    },
    {
     "name": "stderr",
     "output_type": "stream",
     "text": [
      "\r",
      " 38%|███▊      | 38/100 [59:55<1:15:15, 72.82s/it]"
     ]
    },
    {
     "name": "stdout",
     "output_type": "stream",
     "text": [
      "{'regret_max': 0.018906742334365845, 'regret_mean': 0.0005727072129957378, 'regret_mults': tensor([[ 10.7768, 112.6308]], device='cuda:0'), 'payment': 0.4438251256942749}\n"
     ]
    },
    {
     "name": "stderr",
     "output_type": "stream",
     "text": [
      "\r",
      " 39%|███▉      | 39/100 [1:01:08<1:14:06, 72.89s/it]"
     ]
    },
    {
     "name": "stdout",
     "output_type": "stream",
     "text": [
      "{'regret_max': 0.014853060245513916, 'regret_mean': 0.0005353651358745992, 'regret_mults': tensor([[ 10.9250, 114.1493]], device='cuda:0'), 'payment': 0.44865456223487854}\n"
     ]
    },
    {
     "name": "stderr",
     "output_type": "stream",
     "text": [
      "\r",
      " 40%|████      | 40/100 [1:02:20<1:12:53, 72.89s/it]"
     ]
    },
    {
     "name": "stdout",
     "output_type": "stream",
     "text": [
      "{'regret_max': 0.015715405344963074, 'regret_mean': 0.0004855177248828113, 'regret_mults': tensor([[ 11.2448, 118.6115]], device='cuda:0'), 'payment': 0.4514070749282837}\n"
     ]
    },
    {
     "name": "stderr",
     "output_type": "stream",
     "text": [
      "\r",
      " 41%|████      | 41/100 [1:03:33<1:11:37, 72.84s/it]"
     ]
    },
    {
     "name": "stdout",
     "output_type": "stream",
     "text": [
      "{'regret_max': 0.013568282127380371, 'regret_mean': 0.00044950301526114345, 'regret_mults': tensor([[ 11.4066, 120.1845]], device='cuda:0'), 'payment': 0.45719489455223083}\n"
     ]
    },
    {
     "name": "stderr",
     "output_type": "stream",
     "text": [
      "\r",
      " 42%|████▏     | 42/100 [1:04:46<1:10:25, 72.85s/it]"
     ]
    },
    {
     "name": "stdout",
     "output_type": "stream",
     "text": [
      "{'regret_max': 0.014746755361557007, 'regret_mean': 0.00047792415716685355, 'regret_mults': tensor([[ 11.5649, 121.7631]], device='cuda:0'), 'payment': 0.45302271842956543}\n"
     ]
    },
    {
     "name": "stderr",
     "output_type": "stream",
     "text": [
      "\r",
      " 43%|████▎     | 43/100 [1:05:59<1:09:08, 72.78s/it]"
     ]
    },
    {
     "name": "stdout",
     "output_type": "stream",
     "text": [
      "{'regret_max': 0.01628372073173523, 'regret_mean': 0.0005084662698209286, 'regret_mults': tensor([[ 11.8792, 127.1265]], device='cuda:0'), 'payment': 0.44585931301116943}\n"
     ]
    },
    {
     "name": "stderr",
     "output_type": "stream",
     "text": [
      "\r",
      " 44%|████▍     | 44/100 [1:07:12<1:07:58, 72.83s/it]"
     ]
    },
    {
     "name": "stdout",
     "output_type": "stream",
     "text": [
      "{'regret_max': 0.019048631191253662, 'regret_mean': 0.0004789340018760413, 'regret_mults': tensor([[ 12.0423, 132.6542]], device='cuda:0'), 'payment': 0.44982409477233887}\n"
     ]
    },
    {
     "name": "stderr",
     "output_type": "stream",
     "text": [
      "\r",
      " 45%|████▌     | 45/100 [1:08:24<1:06:46, 72.85s/it]"
     ]
    },
    {
     "name": "stdout",
     "output_type": "stream",
     "text": [
      "{'regret_max': 0.02018551528453827, 'regret_mean': 0.00043570029083639383, 'regret_mults': tensor([[ 12.2110, 135.5109]], device='cuda:0'), 'payment': 0.45194482803344727}\n"
     ]
    },
    {
     "name": "stderr",
     "output_type": "stream",
     "text": [
      "\r",
      " 46%|████▌     | 46/100 [1:09:37<1:05:35, 72.89s/it]"
     ]
    },
    {
     "name": "stdout",
     "output_type": "stream",
     "text": [
      "{'regret_max': 0.01949741691350937, 'regret_mean': 0.00042605906492099166, 'regret_mults': tensor([[ 12.3666, 137.5300]], device='cuda:0'), 'payment': 0.44855815172195435}\n"
     ]
    },
    {
     "name": "stderr",
     "output_type": "stream",
     "text": [
      "\r",
      " 47%|████▋     | 47/100 [1:10:50<1:04:23, 72.89s/it]"
     ]
    },
    {
     "name": "stdout",
     "output_type": "stream",
     "text": [
      "{'regret_max': 0.01747603714466095, 'regret_mean': 0.0003961784823331982, 'regret_mults': tensor([[ 12.6813, 141.3499]], device='cuda:0'), 'payment': 0.4552689492702484}\n"
     ]
    },
    {
     "name": "stderr",
     "output_type": "stream",
     "text": [
      "\r",
      " 48%|████▊     | 48/100 [1:12:03<1:03:09, 72.87s/it]"
     ]
    },
    {
     "name": "stdout",
     "output_type": "stream",
     "text": [
      "{'regret_max': 0.01616959273815155, 'regret_mean': 0.0004418166936375201, 'regret_mults': tensor([[ 12.8314, 142.9234]], device='cuda:0'), 'payment': 0.4471991956233978}\n"
     ]
    },
    {
     "name": "stderr",
     "output_type": "stream",
     "text": [
      "\r",
      " 49%|████▉     | 49/100 [1:13:16<1:01:57, 72.90s/it]"
     ]
    },
    {
     "name": "stdout",
     "output_type": "stream",
     "text": [
      "{'regret_max': 0.01661531627178192, 'regret_mean': 0.00039941779687069356, 'regret_mults': tensor([[ 12.9902, 145.3335]], device='cuda:0'), 'payment': 0.45101240277290344}\n"
     ]
    },
    {
     "name": "stderr",
     "output_type": "stream",
     "text": [
      "\r",
      " 50%|█████     | 50/100 [1:14:29<1:00:39, 72.80s/it]"
     ]
    },
    {
     "name": "stdout",
     "output_type": "stream",
     "text": [
      "{'regret_max': 0.016276881098747253, 'regret_mean': 0.0004006959788966924, 'regret_mults': tensor([[ 13.3216, 148.8952]], device='cuda:0'), 'payment': 0.4508674144744873}\n"
     ]
    },
    {
     "name": "stderr",
     "output_type": "stream",
     "text": [
      "\r",
      " 51%|█████     | 51/100 [1:15:41<59:22, 72.70s/it]  "
     ]
    },
    {
     "name": "stdout",
     "output_type": "stream",
     "text": [
      "{'regret_max': 0.018316850066184998, 'regret_mean': 0.00039192213444039226, 'regret_mults': tensor([[ 13.4816, 151.4335]], device='cuda:0'), 'payment': 0.45205384492874146}\n"
     ]
    },
    {
     "name": "stderr",
     "output_type": "stream",
     "text": [
      "\r",
      " 52%|█████▏    | 52/100 [1:16:53<57:56, 72.43s/it]"
     ]
    },
    {
     "name": "stdout",
     "output_type": "stream",
     "text": [
      "{'regret_max': 0.016974136233329773, 'regret_mean': 0.00039964093593880534, 'regret_mults': tensor([[ 13.6399, 154.3027]], device='cuda:0'), 'payment': 0.44717979431152344}\n"
     ]
    },
    {
     "name": "stderr",
     "output_type": "stream",
     "text": [
      "\r",
      " 53%|█████▎    | 53/100 [1:18:05<56:37, 72.30s/it]"
     ]
    },
    {
     "name": "stdout",
     "output_type": "stream",
     "text": [
      "{'regret_max': 0.01936952769756317, 'regret_mean': 0.00037091621197760105, 'regret_mults': tensor([[ 13.8069, 156.0168]], device='cuda:0'), 'payment': 0.45146501064300537}\n"
     ]
    },
    {
     "name": "stderr",
     "output_type": "stream",
     "text": [
      "\r",
      " 54%|█████▍    | 54/100 [1:19:17<55:21, 72.21s/it]"
     ]
    },
    {
     "name": "stdout",
     "output_type": "stream",
     "text": [
      "{'regret_max': 0.02228579670190811, 'regret_mean': 0.0004145303391851485, 'regret_mults': tensor([[ 14.1489, 161.7267]], device='cuda:0'), 'payment': 0.445975124835968}\n"
     ]
    },
    {
     "name": "stderr",
     "output_type": "stream",
     "text": [
      "\r",
      " 55%|█████▌    | 55/100 [1:20:29<54:08, 72.19s/it]"
     ]
    },
    {
     "name": "stdout",
     "output_type": "stream",
     "text": [
      "{'regret_max': 0.01957373321056366, 'regret_mean': 0.0003775094810407609, 'regret_mults': tensor([[ 14.3164, 163.6876]], device='cuda:0'), 'payment': 0.4487789273262024}\n"
     ]
    },
    {
     "name": "stderr",
     "output_type": "stream",
     "text": [
      "\r",
      " 56%|█████▌    | 56/100 [1:21:41<52:56, 72.20s/it]"
     ]
    },
    {
     "name": "stdout",
     "output_type": "stream",
     "text": [
      "{'regret_max': 0.019586384296417236, 'regret_mean': 0.0003502804320305586, 'regret_mults': tensor([[ 14.4815, 166.1893]], device='cuda:0'), 'payment': 0.4499663710594177}\n"
     ]
    },
    {
     "name": "stderr",
     "output_type": "stream",
     "text": [
      "\r",
      " 57%|█████▋    | 57/100 [1:22:53<51:43, 72.17s/it]"
     ]
    },
    {
     "name": "stdout",
     "output_type": "stream",
     "text": [
      "{'regret_max': 0.017324775457382202, 'regret_mean': 0.00035975739592686296, 'regret_mults': tensor([[ 14.6515, 170.9713]], device='cuda:0'), 'payment': 0.4467177093029022}\n"
     ]
    },
    {
     "name": "stderr",
     "output_type": "stream",
     "text": [
      "\r",
      " 58%|█████▊    | 58/100 [1:24:05<50:24, 72.00s/it]"
     ]
    },
    {
     "name": "stdout",
     "output_type": "stream",
     "text": [
      "{'regret_max': 0.018017321825027466, 'regret_mean': 0.0003485223569441587, 'regret_mults': tensor([[ 14.9705, 175.0719]], device='cuda:0'), 'payment': 0.4467810094356537}\n"
     ]
    },
    {
     "name": "stderr",
     "output_type": "stream",
     "text": [
      "\r",
      " 59%|█████▉    | 59/100 [1:25:17<49:07, 71.90s/it]"
     ]
    },
    {
     "name": "stdout",
     "output_type": "stream",
     "text": [
      "{'regret_max': 0.01937498152256012, 'regret_mean': 0.0003402751171961427, 'regret_mults': tensor([[ 15.1253, 178.1637]], device='cuda:0'), 'payment': 0.4493175148963928}\n"
     ]
    },
    {
     "name": "stderr",
     "output_type": "stream",
     "text": [
      "\r",
      " 60%|██████    | 60/100 [1:26:29<47:56, 71.91s/it]"
     ]
    },
    {
     "name": "stdout",
     "output_type": "stream",
     "text": [
      "{'regret_max': 0.02201750874519348, 'regret_mean': 0.00037691352190449834, 'regret_mults': tensor([[ 15.2930, 181.6358]], device='cuda:0'), 'payment': 0.44086018204689026}\n"
     ]
    },
    {
     "name": "stderr",
     "output_type": "stream",
     "text": [
      "\r",
      " 61%|██████    | 61/100 [1:27:40<46:43, 71.88s/it]"
     ]
    },
    {
     "name": "stdout",
     "output_type": "stream",
     "text": [
      "{'regret_max': 0.02061384916305542, 'regret_mean': 0.00031543467775918543, 'regret_mults': tensor([[ 15.6083, 186.8800]], device='cuda:0'), 'payment': 0.4468676745891571}\n"
     ]
    },
    {
     "name": "stderr",
     "output_type": "stream",
     "text": [
      "\r",
      " 62%|██████▏   | 62/100 [1:28:52<45:32, 71.90s/it]"
     ]
    },
    {
     "name": "stdout",
     "output_type": "stream",
     "text": [
      "{'regret_max': 0.02069951593875885, 'regret_mean': 0.00032036437187343836, 'regret_mults': tensor([[ 15.7722, 189.4910]], device='cuda:0'), 'payment': 0.44746559858322144}\n"
     ]
    },
    {
     "name": "stderr",
     "output_type": "stream",
     "text": [
      "\r",
      " 63%|██████▎   | 63/100 [1:30:04<44:16, 71.79s/it]"
     ]
    },
    {
     "name": "stdout",
     "output_type": "stream",
     "text": [
      "{'regret_max': 0.01990552246570587, 'regret_mean': 0.0003355568624101579, 'regret_mults': tensor([[ 15.9548, 193.4503]], device='cuda:0'), 'payment': 0.44265902042388916}\n"
     ]
    },
    {
     "name": "stderr",
     "output_type": "stream",
     "text": [
      "\r",
      " 64%|██████▍   | 64/100 [1:31:16<43:02, 71.74s/it]"
     ]
    },
    {
     "name": "stdout",
     "output_type": "stream",
     "text": [
      "{'regret_max': 0.0186794251203537, 'regret_mean': 0.00033891972270794213, 'regret_mults': tensor([[ 16.1292, 196.4505]], device='cuda:0'), 'payment': 0.4423380494117737}\n"
     ]
    },
    {
     "name": "stderr",
     "output_type": "stream",
     "text": [
      "\r",
      " 65%|██████▌   | 65/100 [1:32:27<41:52, 71.78s/it]"
     ]
    },
    {
     "name": "stdout",
     "output_type": "stream",
     "text": [
      "{'regret_max': 0.015743866562843323, 'regret_mean': 0.00028956326423212886, 'regret_mults': tensor([[ 16.5208, 201.6700]], device='cuda:0'), 'payment': 0.44655486941337585}\n"
     ]
    },
    {
     "name": "stderr",
     "output_type": "stream",
     "text": [
      "\r",
      " 66%|██████▌   | 66/100 [1:33:39<40:38, 71.71s/it]"
     ]
    },
    {
     "name": "stdout",
     "output_type": "stream",
     "text": [
      "{'regret_max': 0.02101193368434906, 'regret_mean': 0.0003247033746447414, 'regret_mults': tensor([[ 16.6905, 203.0462]], device='cuda:0'), 'payment': 0.44201791286468506}\n"
     ]
    },
    {
     "name": "stderr",
     "output_type": "stream",
     "text": [
      "\r",
      " 67%|██████▋   | 67/100 [1:34:50<39:22, 71.58s/it]"
     ]
    },
    {
     "name": "stdout",
     "output_type": "stream",
     "text": [
      "{'regret_max': 0.020263150334358215, 'regret_mean': 0.0002919233520515263, 'regret_mults': tensor([[ 16.8584, 205.8602]], device='cuda:0'), 'payment': 0.4440162479877472}\n"
     ]
    },
    {
     "name": "stderr",
     "output_type": "stream",
     "text": [
      "\r",
      " 68%|██████▊   | 68/100 [1:36:01<38:04, 71.40s/it]"
     ]
    },
    {
     "name": "stdout",
     "output_type": "stream",
     "text": [
      "{'regret_max': 0.017635375261306763, 'regret_mean': 0.00030254997545853257, 'regret_mults': tensor([[ 17.2055, 210.4241]], device='cuda:0'), 'payment': 0.4430999755859375}\n"
     ]
    },
    {
     "name": "stderr",
     "output_type": "stream",
     "text": [
      "\r",
      " 69%|██████▉   | 69/100 [1:37:12<36:46, 71.17s/it]"
     ]
    },
    {
     "name": "stdout",
     "output_type": "stream",
     "text": [
      "{'regret_max': 0.01775413751602173, 'regret_mean': 0.0002639254671521485, 'regret_mults': tensor([[ 17.3727, 212.2110]], device='cuda:0'), 'payment': 0.44597694277763367}\n"
     ]
    },
    {
     "name": "stderr",
     "output_type": "stream",
     "text": [
      "\r",
      " 70%|███████   | 70/100 [1:38:23<35:30, 71.02s/it]"
     ]
    },
    {
     "name": "stdout",
     "output_type": "stream",
     "text": [
      "{'regret_max': 0.020060211420059204, 'regret_mean': 0.00030214290018193424, 'regret_mults': tensor([[ 17.5397, 214.5666]], device='cuda:0'), 'payment': 0.44061681628227234}\n"
     ]
    },
    {
     "name": "stderr",
     "output_type": "stream",
     "text": [
      "\r",
      " 71%|███████   | 71/100 [1:39:33<34:18, 70.98s/it]"
     ]
    },
    {
     "name": "stdout",
     "output_type": "stream",
     "text": [
      "{'regret_max': 0.019123613834381104, 'regret_mean': 0.0002786635886877775, 'regret_mults': tensor([[ 17.7130, 217.6310]], device='cuda:0'), 'payment': 0.44288718700408936}\n"
     ]
    },
    {
     "name": "stderr",
     "output_type": "stream",
     "text": [
      "\r",
      " 72%|███████▏  | 72/100 [1:40:44<33:05, 70.92s/it]"
     ]
    },
    {
     "name": "stdout",
     "output_type": "stream",
     "text": [
      "{'regret_max': 0.021015450358390808, 'regret_mean': 0.000279551197309047, 'regret_mults': tensor([[ 18.0640, 221.0099]], device='cuda:0'), 'payment': 0.44135352969169617}\n"
     ]
    },
    {
     "name": "stderr",
     "output_type": "stream",
     "text": [
      "\r",
      " 73%|███████▎  | 73/100 [1:41:55<31:55, 70.93s/it]"
     ]
    },
    {
     "name": "stdout",
     "output_type": "stream",
     "text": [
      "{'regret_max': 0.020052552223205566, 'regret_mean': 0.00026690971571952105, 'regret_mults': tensor([[ 18.2343, 223.1602]], device='cuda:0'), 'payment': 0.44435229897499084}\n"
     ]
    },
    {
     "name": "stderr",
     "output_type": "stream",
     "text": [
      "\r",
      " 74%|███████▍  | 74/100 [1:43:06<30:44, 70.93s/it]"
     ]
    },
    {
     "name": "stdout",
     "output_type": "stream",
     "text": [
      "{'regret_max': 0.021098241209983826, 'regret_mean': 0.00027683796361088753, 'regret_mults': tensor([[ 18.4159, 224.5942]], device='cuda:0'), 'payment': 0.43891993165016174}\n"
     ]
    },
    {
     "name": "stderr",
     "output_type": "stream",
     "text": [
      "\r",
      " 75%|███████▌  | 75/100 [1:44:17<29:32, 70.88s/it]"
     ]
    },
    {
     "name": "stdout",
     "output_type": "stream",
     "text": [
      "{'regret_max': 0.018455222249031067, 'regret_mean': 0.00025442420155741274, 'regret_mults': tensor([[ 18.7539, 229.4159]], device='cuda:0'), 'payment': 0.4435707628726959}\n"
     ]
    },
    {
     "name": "stderr",
     "output_type": "stream",
     "text": [
      "\r",
      " 76%|███████▌  | 76/100 [1:45:28<28:20, 70.87s/it]"
     ]
    },
    {
     "name": "stdout",
     "output_type": "stream",
     "text": [
      "{'regret_max': 0.022007882595062256, 'regret_mean': 0.0002823183895088732, 'regret_mults': tensor([[ 18.9189, 231.4221]], device='cuda:0'), 'payment': 0.44135451316833496}\n"
     ]
    },
    {
     "name": "stderr",
     "output_type": "stream",
     "text": [
      "\r",
      " 77%|███████▋  | 77/100 [1:46:38<27:08, 70.80s/it]"
     ]
    },
    {
     "name": "stdout",
     "output_type": "stream",
     "text": [
      "{'regret_max': 0.018946848809719086, 'regret_mean': 0.00027708220295608044, 'regret_mults': tensor([[ 19.1067, 235.8054]], device='cuda:0'), 'payment': 0.43544071912765503}\n"
     ]
    },
    {
     "name": "stderr",
     "output_type": "stream",
     "text": [
      "\r",
      " 78%|███████▊  | 78/100 [1:47:49<25:57, 70.79s/it]"
     ]
    },
    {
     "name": "stdout",
     "output_type": "stream",
     "text": [
      "{'regret_max': 0.019416838884353638, 'regret_mean': 0.0002976713585667312, 'regret_mults': tensor([[ 19.2973, 238.1683]], device='cuda:0'), 'payment': 0.4335145354270935}\n"
     ]
    },
    {
     "name": "stderr",
     "output_type": "stream",
     "text": [
      "\r",
      " 79%|███████▉  | 79/100 [1:49:00<24:48, 70.90s/it]"
     ]
    },
    {
     "name": "stdout",
     "output_type": "stream",
     "text": [
      "{'regret_max': 0.021243959665298462, 'regret_mean': 0.00024172250414267182, 'regret_mults': tensor([[ 19.6389, 242.0537]], device='cuda:0'), 'payment': 0.44326725602149963}\n"
     ]
    },
    {
     "name": "stderr",
     "output_type": "stream",
     "text": [
      "\r",
      " 80%|████████  | 80/100 [1:50:11<23:37, 70.88s/it]"
     ]
    },
    {
     "name": "stdout",
     "output_type": "stream",
     "text": [
      "{'regret_max': 0.021138280630111694, 'regret_mean': 0.00027002699789591134, 'regret_mults': tensor([[ 19.8098, 246.8681]], device='cuda:0'), 'payment': 0.4354919493198395}\n"
     ]
    },
    {
     "name": "stderr",
     "output_type": "stream",
     "text": [
      "\r",
      " 81%|████████  | 81/100 [1:51:22<22:25, 70.83s/it]"
     ]
    },
    {
     "name": "stdout",
     "output_type": "stream",
     "text": [
      "{'regret_max': 0.02274473011493683, 'regret_mean': 0.00023981872072909027, 'regret_mults': tensor([[ 19.9778, 248.8654]], device='cuda:0'), 'payment': 0.4413871765136719}\n"
     ]
    },
    {
     "name": "stderr",
     "output_type": "stream",
     "text": [
      "\r",
      " 82%|████████▏ | 82/100 [1:52:32<21:13, 70.76s/it]"
     ]
    },
    {
     "name": "stdout",
     "output_type": "stream",
     "text": [
      "{'regret_max': 0.023044466972351074, 'regret_mean': 0.00026287289801985025, 'regret_mults': tensor([[ 20.1419, 251.7319]], device='cuda:0'), 'payment': 0.43649864196777344}\n"
     ]
    },
    {
     "name": "stderr",
     "output_type": "stream",
     "text": [
      "\r",
      " 83%|████████▎ | 83/100 [1:53:43<20:03, 70.78s/it]"
     ]
    },
    {
     "name": "stdout",
     "output_type": "stream",
     "text": [
      "{'regret_max': 0.023466095328330994, 'regret_mean': 0.0002447901642881334, 'regret_mults': tensor([[ 20.4995, 256.3392]], device='cuda:0'), 'payment': 0.4379168450832367}\n"
     ]
    },
    {
     "name": "stderr",
     "output_type": "stream",
     "text": [
      "\r",
      " 84%|████████▍ | 84/100 [1:54:54<18:53, 70.84s/it]"
     ]
    },
    {
     "name": "stdout",
     "output_type": "stream",
     "text": [
      "{'regret_max': 0.017712607979774475, 'regret_mean': 0.00024688837584108114, 'regret_mults': tensor([[ 20.6785, 257.9557]], device='cuda:0'), 'payment': 0.43842214345932007}\n"
     ]
    },
    {
     "name": "stderr",
     "output_type": "stream",
     "text": [
      "\r",
      " 85%|████████▌ | 85/100 [1:56:05<17:41, 70.76s/it]"
     ]
    },
    {
     "name": "stdout",
     "output_type": "stream",
     "text": [
      "{'regret_max': 0.02320682257413864, 'regret_mean': 0.00023994097136892378, 'regret_mults': tensor([[ 20.8651, 261.2957]], device='cuda:0'), 'payment': 0.4368038475513458}\n"
     ]
    },
    {
     "name": "stderr",
     "output_type": "stream",
     "text": [
      "\r",
      " 86%|████████▌ | 86/100 [1:57:16<16:31, 70.80s/it]"
     ]
    },
    {
     "name": "stdout",
     "output_type": "stream",
     "text": [
      "{'regret_max': 0.022526845335960388, 'regret_mean': 0.0002572443918325007, 'regret_mults': tensor([[ 21.2085, 264.6913]], device='cuda:0'), 'payment': 0.4317295551300049}\n"
     ]
    },
    {
     "name": "stderr",
     "output_type": "stream",
     "text": [
      "\r",
      " 87%|████████▋ | 87/100 [1:58:26<15:20, 70.80s/it]"
     ]
    },
    {
     "name": "stdout",
     "output_type": "stream",
     "text": [
      "{'regret_max': 0.024561449885368347, 'regret_mean': 0.0002153032401110977, 'regret_mults': tensor([[ 21.3955, 266.7172]], device='cuda:0'), 'payment': 0.44045960903167725}\n"
     ]
    },
    {
     "name": "stderr",
     "output_type": "stream",
     "text": [
      "\r",
      " 88%|████████▊ | 88/100 [1:59:37<14:09, 70.82s/it]"
     ]
    },
    {
     "name": "stdout",
     "output_type": "stream",
     "text": [
      "{'regret_max': 0.023390203714370728, 'regret_mean': 0.00021577792358584702, 'regret_mults': tensor([[ 21.5692, 268.9833]], device='cuda:0'), 'payment': 0.43995222449302673}\n"
     ]
    },
    {
     "name": "stderr",
     "output_type": "stream",
     "text": [
      "\r",
      " 89%|████████▉ | 89/100 [2:00:48<12:58, 70.73s/it]"
     ]
    },
    {
     "name": "stdout",
     "output_type": "stream",
     "text": [
      "{'regret_max': 0.01952575147151947, 'regret_mean': 0.0002550593635533005, 'regret_mults': tensor([[ 21.7667, 270.8821]], device='cuda:0'), 'payment': 0.43014001846313477}\n"
     ]
    },
    {
     "name": "stderr",
     "output_type": "stream",
     "text": [
      "\r",
      " 90%|█████████ | 90/100 [2:01:58<11:46, 70.67s/it]"
     ]
    },
    {
     "name": "stdout",
     "output_type": "stream",
     "text": [
      "{'regret_max': 0.02280527353286743, 'regret_mean': 0.00023730748216621578, 'regret_mults': tensor([[ 22.0963, 274.6909]], device='cuda:0'), 'payment': 0.4348019063472748}\n"
     ]
    },
    {
     "name": "stderr",
     "output_type": "stream",
     "text": [
      "\r",
      " 91%|█████████ | 91/100 [2:03:08<10:32, 70.27s/it]"
     ]
    },
    {
     "name": "stdout",
     "output_type": "stream",
     "text": [
      "{'regret_max': 0.020192526280879974, 'regret_mean': 0.00022427950170822442, 'regret_mults': tensor([[ 22.2668, 276.7812]], device='cuda:0'), 'payment': 0.43685808777809143}\n"
     ]
    },
    {
     "name": "stderr",
     "output_type": "stream",
     "text": [
      "\r",
      " 92%|█████████▏| 92/100 [2:04:15<09:15, 69.48s/it]"
     ]
    },
    {
     "name": "stdout",
     "output_type": "stream",
     "text": [
      "{'regret_max': 0.02209518849849701, 'regret_mean': 0.00021738099167123437, 'regret_mults': tensor([[ 22.4500, 279.0949]], device='cuda:0'), 'payment': 0.4374963939189911}\n"
     ]
    },
    {
     "name": "stderr",
     "output_type": "stream",
     "text": [
      "\r",
      " 93%|█████████▎| 93/100 [2:05:23<08:02, 68.92s/it]"
     ]
    },
    {
     "name": "stdout",
     "output_type": "stream",
     "text": [
      "{'regret_max': 0.021069273352622986, 'regret_mean': 0.00024177329032681882, 'regret_mults': tensor([[ 22.8833, 287.5514]], device='cuda:0'), 'payment': 0.43323883414268494}\n"
     ]
    },
    {
     "name": "stderr",
     "output_type": "stream",
     "text": [
      "\r",
      " 94%|█████████▍| 94/100 [2:06:31<06:51, 68.55s/it]"
     ]
    },
    {
     "name": "stdout",
     "output_type": "stream",
     "text": [
      "{'regret_max': 0.023221217095851898, 'regret_mean': 0.00021093376562930644, 'regret_mults': tensor([[ 23.0656, 289.0475]], device='cuda:0'), 'payment': 0.4349380433559418}\n"
     ]
    },
    {
     "name": "stderr",
     "output_type": "stream",
     "text": [
      "\r",
      " 95%|█████████▌| 95/100 [2:07:38<05:41, 68.27s/it]"
     ]
    },
    {
     "name": "stdout",
     "output_type": "stream",
     "text": [
      "{'regret_max': 0.018986806273460388, 'regret_mean': 0.0002495282096788287, 'regret_mults': tensor([[ 23.2629, 294.8390]], device='cuda:0'), 'payment': 0.4335111379623413}\n"
     ]
    },
    {
     "name": "stderr",
     "output_type": "stream",
     "text": [
      "\r",
      " 96%|█████████▌| 96/100 [2:08:46<04:31, 68.00s/it]"
     ]
    },
    {
     "name": "stdout",
     "output_type": "stream",
     "text": [
      "{'regret_max': 0.026734963059425354, 'regret_mean': 0.00022761846776120365, 'regret_mults': tensor([[ 23.4458, 296.3289]], device='cuda:0'), 'payment': 0.42822837829589844}\n"
     ]
    },
    {
     "name": "stderr",
     "output_type": "stream",
     "text": [
      "\r",
      " 97%|█████████▋| 97/100 [2:09:52<03:22, 67.53s/it]"
     ]
    },
    {
     "name": "stdout",
     "output_type": "stream",
     "text": [
      "{'regret_max': 0.019649922847747803, 'regret_mean': 0.0001899335184134543, 'regret_mults': tensor([[ 23.8253, 299.6477]], device='cuda:0'), 'payment': 0.43814605474472046}\n"
     ]
    },
    {
     "name": "stderr",
     "output_type": "stream",
     "text": [
      "\r",
      " 98%|█████████▊| 98/100 [2:10:59<02:14, 67.30s/it]"
     ]
    },
    {
     "name": "stdout",
     "output_type": "stream",
     "text": [
      "{'regret_max': 0.020160570740699768, 'regret_mean': 0.00021257103071548045, 'regret_mults': tensor([[ 24.0362, 303.5303]], device='cuda:0'), 'payment': 0.431235671043396}\n"
     ]
    },
    {
     "name": "stderr",
     "output_type": "stream",
     "text": [
      "\r",
      " 99%|█████████▉| 99/100 [2:12:05<01:07, 67.04s/it]"
     ]
    },
    {
     "name": "stdout",
     "output_type": "stream",
     "text": [
      "{'regret_max': 0.019202284514904022, 'regret_mean': 0.00021207609097473323, 'regret_mults': tensor([[ 24.2037, 305.9342]], device='cuda:0'), 'payment': 0.4329790472984314}\n"
     ]
    },
    {
     "name": "stderr",
     "output_type": "stream",
     "text": [
      "100%|██████████| 100/100 [2:13:12<00:00, 79.92s/it]"
     ]
    },
    {
     "name": "stdout",
     "output_type": "stream",
     "text": [
      "{'regret_max': 0.02067168802022934, 'regret_mean': 0.00021804639254696667, 'regret_mults': tensor([[ 24.5749, 308.9701]], device='cuda:0'), 'payment': 0.43067851662635803}\n",
      "CPU times: user 1h 59min 1s, sys: 15.5 s, total: 1h 59min 17s\n",
      "Wall time: 2h 13min 12s\n"
     ]
    },
    {
     "name": "stderr",
     "output_type": "stream",
     "text": [
      "\n"
     ]
    }
   ],
   "source": [
    "%%time\n",
    "mean_rgt, mean_pay, lagr_mults = train_loop(model, train_loader, args, device=device)"
   ]
  },
  {
   "cell_type": "code",
   "execution_count": 6,
   "metadata": {},
   "outputs": [],
   "source": [
    "dir_name = 'unit_2x30_0_1_experiment_data/'"
   ]
  },
  {
   "cell_type": "code",
   "execution_count": 7,
   "metadata": {},
   "outputs": [
    {
     "name": "stderr",
     "output_type": "stream",
     "text": [
      "1it [00:19, 19.41s/it]"
     ]
    },
    {
     "name": "stdout",
     "output_type": "stream",
     "text": [
      "CPU times: user 19.4 s, sys: 39 ms, total: 19.4 s\n",
      "Wall time: 19.4 s\n"
     ]
    },
    {
     "name": "stderr",
     "output_type": "stream",
     "text": [
      "\n"
     ]
    },
    {
     "data": {
      "text/plain": [
       "{'payment_mean': 0.4333694875240326,\n",
       " 'regret_mean': 0.0005173520185053349,\n",
       " 'regret_max': 0.0054684653878211975}"
      ]
     },
     "execution_count": 7,
     "metadata": {},
     "output_type": "execute_result"
    }
   ],
   "source": [
    "%%time\n",
    "# model.sinkhorn_rounds = 100\n",
    "# model.sinkhorn_epsilon = 1e-2\n",
    "test_data = ds.generate_dataset_nxk(args.n_agents, args.n_items, args.test_num_examples, item_ranges).to(device)\n",
    "torch.save(test_data, dir_name + 'test_data')\n",
    "#test_data = torch.load(dir_name + 'test_data').to(device=device)\n",
    "cpu_test_data = test_data.clone().to(device='cpu')\n",
    "\n",
    "test_loader = ds.Dataloader(test_data, batch_size=args.test_batch_size, shuffle=True)\n",
    "\n",
    "result = test_loop(model, test_loader, args, device=device)\n",
    "result"
   ]
  },
  {
   "cell_type": "code",
   "execution_count": 8,
   "metadata": {
    "scrolled": true
   },
   "outputs": [
    {
     "name": "stderr",
     "output_type": "stream",
     "text": [
      "1it [03:34, 214.28s/it]"
     ]
    },
    {
     "name": "stdout",
     "output_type": "stream",
     "text": [
      "CPU times: user 3min 33s, sys: 471 ms, total: 3min 34s\n",
      "Wall time: 3min 34s\n"
     ]
    },
    {
     "name": "stderr",
     "output_type": "stream",
     "text": [
      "\n"
     ]
    },
    {
     "data": {
      "text/plain": [
       "{'payment_mean': 0.45920276641845703,\n",
       " 'regret_mean': 0.006679651793092489,\n",
       " 'regret_max': 0.023576200008392334}"
      ]
     },
     "execution_count": 8,
     "metadata": {},
     "output_type": "execute_result"
    }
   ],
   "source": [
    "%%time\n",
    "args.test_num_examples = 1000\n",
    "args.test_batch_size = 1000\n",
    "args.test_misreport_iter = 1000\n",
    "args.misreport_lr = 1e-1\n",
    "model.sinkhorn_rounds = 20\n",
    "model.sinkhorn_epsilon = 3e-2\n",
    "\n",
    "random_starts = [test_data]\n",
    "for i in range(10):\n",
    "    random_starts.append(ds.generate_dataset_nxk(args.n_agents, args.n_items, args.test_num_examples, item_ranges).to(device))\n",
    "test_loader = ds.Dataloader(test_data, batch_size=args.test_batch_size, shuffle=True)\n",
    "\n",
    "result = test_loop_random_start(model, test_loader, args, random_starts, device=device)\n",
    "result"
   ]
  },
  {
   "cell_type": "code",
   "execution_count": 9,
   "metadata": {},
   "outputs": [],
   "source": [
    "model.save(dir_name)"
   ]
  },
  {
   "cell_type": "code",
   "execution_count": 10,
   "metadata": {},
   "outputs": [],
   "source": [
    "import cvxpy as cp\n",
    "import numpy as np\n",
    "from typing import NamedTuple\n",
    "from tqdm.notebook import tqdm"
   ]
  },
  {
   "cell_type": "code",
   "execution_count": 11,
   "metadata": {},
   "outputs": [],
   "source": [
    "class AuctionResult(NamedTuple):\n",
    "    alloc: np.ndarray\n",
    "    welfare: np.ndarray\n",
    "    payment: np.ndarray"
   ]
  },
  {
   "cell_type": "code",
   "execution_count": 12,
   "metadata": {},
   "outputs": [],
   "source": [
    "def max_welfare_alloc(bids_mat, k, exact_demand=False):\n",
    "    # returns allocation, util of allocation\n",
    "\n",
    "    num_agents = bids_mat.shape[0]\n",
    "    num_items = bids_mat.shape[1]\n",
    "    alloc_matrix = cp.Variable((num_agents, num_items), nonneg=True)\n",
    "    item_supply_constraints = cp.sum(alloc_matrix, axis=0) <= 1\n",
    "    if exact_demand:\n",
    "        agent_demand_constraints = cp.sum(alloc_matrix, axis=1) == k\n",
    "    else:\n",
    "        agent_demand_constraints = cp.sum(alloc_matrix, axis=1) <= k\n",
    "    welfare = cp.sum((cp.multiply(bids_mat, alloc_matrix)))\n",
    "    problem = cp.Problem(cp.Maximize(welfare), [item_supply_constraints, agent_demand_constraints])\n",
    "    problem.solve()\n",
    "    return (alloc_matrix.value, problem.value)"
   ]
  },
  {
   "cell_type": "code",
   "execution_count": 13,
   "metadata": {},
   "outputs": [],
   "source": [
    "def vcg_auction(bids_mat, k, exact_demand=False):\n",
    "    main_alloc, max_welfare_total_util = max_welfare_alloc(bids_mat, k, exact_demand=exact_demand)\n",
    "    payments = np.zeros(bids_mat.shape[0])\n",
    "    player_utils = (bids_mat * main_alloc).sum(axis=1)\n",
    "    num_agents = bids_mat.shape[0]\n",
    "    for i in range(num_agents):\n",
    "        dropped_bid_mat = np.delete(bids_mat, (i), axis=0)\n",
    "        dropped_player_utils = np.delete(player_utils, (i), axis=0) # player utils under full auction\n",
    "        new_alloc, new_total_util = max_welfare_alloc(dropped_bid_mat, k, exact_demand=exact_demand)\n",
    "        new_agent_utils = (new_alloc*dropped_bid_mat).sum(axis=1) # player utils without agent i's bid\n",
    "        payments[i] = (new_agent_utils - dropped_player_utils).sum() \n",
    "    return AuctionResult(main_alloc, player_utils, payments)"
   ]
  },
  {
   "cell_type": "code",
   "execution_count": 14,
   "metadata": {},
   "outputs": [],
   "source": [
    "payments = []\n",
    "for i in range(test_data.shape[0]):\n",
    "    payments.append(vcg_auction(cpu_test_data[i].cpu().numpy(), 1, exact_demand=False).payment.sum())"
   ]
  },
  {
   "cell_type": "code",
   "execution_count": 15,
   "metadata": {},
   "outputs": [
    {
     "data": {
      "text/plain": [
       "0.0005645110368723392"
      ]
     },
     "execution_count": 15,
     "metadata": {},
     "output_type": "execute_result"
    }
   ],
   "source": [
    "np.mean(payments)"
   ]
  },
  {
   "cell_type": "code",
   "execution_count": 16,
   "metadata": {},
   "outputs": [],
   "source": [
    "import pickle\n",
    "to_pkl_lst = [mean_rgt, mean_pay, lagr_mults]\n",
    "for i, fname in enumerate(['mean_rgt', 'mean_pay', 'lagr_mults']):\n",
    "    with open(dir_name + fname, 'wb') as fp:\n",
    "        pickle.dump(to_pkl_lst[i], fp)"
   ]
  }
 ],
 "metadata": {
  "kernelspec": {
   "display_name": "Python 3",
   "language": "python",
   "name": "python3"
  },
  "language_info": {
   "codemirror_mode": {
    "name": "ipython",
    "version": 3
   },
   "file_extension": ".py",
   "mimetype": "text/x-python",
   "name": "python",
   "nbconvert_exporter": "python",
   "pygments_lexer": "ipython3",
   "version": "3.7.4"
  }
 },
 "nbformat": 4,
 "nbformat_minor": 2
}
