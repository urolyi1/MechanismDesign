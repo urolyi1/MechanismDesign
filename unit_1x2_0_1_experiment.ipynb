{
 "cells": [
  {
   "cell_type": "code",
   "execution_count": 1,
   "metadata": {},
   "outputs": [],
   "source": [
    "import torch\n",
    "from torch import nn, optim\n",
    "import torch.nn.functional as F\n",
    "import numpy as np\n",
    "from argparse import ArgumentParser\n",
    "from double_net.double_net import DoubleNet, train_loop, train_loop_no_lagrange, test_loop\n",
    "from double_net import datasets as ds\n",
    "import time\n",
    "import double_net.plot_utils as pu\n",
    "import importlib\n",
    "import matplotlib.pyplot as plt"
   ]
  },
  {
   "cell_type": "code",
   "execution_count": 2,
   "metadata": {},
   "outputs": [],
   "source": [
    "if torch.cuda.is_available():\n",
    "    device = 'cuda'\n",
    "else:\n",
    "    device = 'cpu'"
   ]
  },
  {
   "cell_type": "code",
   "execution_count": 3,
   "metadata": {},
   "outputs": [
    {
     "data": {
      "text/plain": [
       "'cuda'"
      ]
     },
     "execution_count": 3,
     "metadata": {},
     "output_type": "execute_result"
    }
   ],
   "source": [
    "device"
   ]
  },
  {
   "cell_type": "code",
   "execution_count": 4,
   "metadata": {},
   "outputs": [
    {
     "data": {
      "text/plain": [
       "Namespace(batch_size=4096, lagr_update_iter=100, misreport_iter=25, misreport_lr=0.1, model_lr=0.001, n_agents=1, n_items=2, num_epochs=100, num_examples=524288, random_seed=0, rgt_start=0, rho=1, rho_incr_amount=1.0, rho_incr_iter=1, sinkhorn_epsilon=0.05, sinkhorn_rounds=20, test_batch_size=10000, test_iter=5, test_misreport_iter=2000, test_num_examples=10000)"
      ]
     },
     "execution_count": 4,
     "metadata": {},
     "output_type": "execute_result"
    }
   ],
   "source": [
    "parser = ArgumentParser()\n",
    "parser.add_argument('--random-seed', type=int, default=0)\n",
    "parser.add_argument('--num-examples', type=int, default=131072 * 4)\n",
    "parser.add_argument('--test-num-examples', type=int, default=10000)\n",
    "parser.add_argument('--test-iter', type=int, default=5)\n",
    "parser.add_argument('--n-agents', type=int, default=1)\n",
    "parser.add_argument('--n-items', type=int, default=2)\n",
    "parser.add_argument('--num-epochs', type=int, default=100)\n",
    "parser.add_argument('--batch-size', type=int, default=128 * 32)\n",
    "parser.add_argument('--test-batch-size', type=int, default=10000)\n",
    "parser.add_argument('--model-lr', type=float, default=1e-3)\n",
    "parser.add_argument('--misreport-lr', type=float, default=1e-1)\n",
    "parser.add_argument('--misreport-iter', type=int, default=25)\n",
    "parser.add_argument('--test-misreport-iter', type=int, default=2000)\n",
    "parser.add_argument('--rho', type=float, default=1)\n",
    "parser.add_argument('--rho-incr-iter', type=int, default=1)\n",
    "parser.add_argument('--rho-incr-amount', type=float, default=1.0)\n",
    "parser.add_argument('--lagr-update-iter', type=int, default=100)\n",
    "parser.add_argument('--rgt-start', type=int, default=0)\n",
    "parser.add_argument('--sinkhorn-epsilon', type=float, default=5e-2)\n",
    "parser.add_argument('--sinkhorn-rounds', type=int, default=20)\n",
    "\n",
    "dataset_name = \"\"\n",
    "args = parser.parse_args(args=[])\n",
    "args"
   ]
  },
  {
   "cell_type": "code",
   "execution_count": 5,
   "metadata": {},
   "outputs": [],
   "source": [
    "torch.manual_seed(args.random_seed)\n",
    "np.random.seed(args.random_seed)\n",
    "\n",
    "item_ranges = ds.preset_valuation_range(args.n_agents, args.n_items, dataset_name)\n",
    "clamp_op = ds.get_clamp_op(item_ranges)\n",
    "\n",
    "model = DoubleNet(\n",
    "    args.n_agents, args.n_items, item_ranges, args.sinkhorn_epsilon, args.sinkhorn_rounds\n",
    ").to(device)\n",
    "\n",
    "train_data = ds.generate_dataset_nxk(args.n_agents, args.n_items, args.num_examples, item_ranges).to(device)\n",
    "train_loader = ds.Dataloader(train_data, batch_size=args.batch_size, shuffle=True)"
   ]
  },
  {
   "cell_type": "code",
   "execution_count": 6,
   "metadata": {
    "scrolled": true
   },
   "outputs": [
    {
     "name": "stderr",
     "output_type": "stream",
     "text": [
      "  1%|          | 1/100 [01:00<1:40:13, 60.74s/it]"
     ]
    },
    {
     "name": "stdout",
     "output_type": "stream",
     "text": [
      "{'regret_max': 0.3724735379219055, 'regret_mean': 0.009128068573772907, 'regret_mults': tensor([[5.4481]], device='cuda:0'), 'payment': 0.32485437393188477}\n"
     ]
    },
    {
     "name": "stderr",
     "output_type": "stream",
     "text": [
      "\r",
      "  2%|▏         | 2/100 [02:00<1:38:55, 60.57s/it]"
     ]
    },
    {
     "name": "stdout",
     "output_type": "stream",
     "text": [
      "{'regret_max': 0.023110568523406982, 'regret_mean': 0.0031907365191727877, 'regret_mults': tensor([[5.9965]], device='cuda:0'), 'payment': 0.37802693247795105}\n"
     ]
    },
    {
     "name": "stderr",
     "output_type": "stream",
     "text": [
      "\r",
      "  3%|▎         | 3/100 [03:01<1:37:54, 60.56s/it]"
     ]
    },
    {
     "name": "stdout",
     "output_type": "stream",
     "text": [
      "{'regret_max': 0.03086411952972412, 'regret_mean': 0.0028098816983401775, 'regret_mults': tensor([[7.6699]], device='cuda:0'), 'payment': 0.38224029541015625}\n"
     ]
    },
    {
     "name": "stderr",
     "output_type": "stream",
     "text": [
      "\r",
      "  4%|▍         | 4/100 [04:01<1:36:42, 60.44s/it]"
     ]
    },
    {
     "name": "stdout",
     "output_type": "stream",
     "text": [
      "{'regret_max': 0.030957520008087158, 'regret_mean': 0.0021988465450704098, 'regret_mults': tensor([[10.1959]], device='cuda:0'), 'payment': 0.3859115540981293}\n"
     ]
    },
    {
     "name": "stderr",
     "output_type": "stream",
     "text": [
      "\r",
      "  5%|▌         | 5/100 [05:01<1:35:28, 60.30s/it]"
     ]
    },
    {
     "name": "stdout",
     "output_type": "stream",
     "text": [
      "{'regret_max': 0.04295104742050171, 'regret_mean': 0.0022363755851984024, 'regret_mults': tensor([[11.1284]], device='cuda:0'), 'payment': 0.38380420207977295}\n"
     ]
    },
    {
     "name": "stderr",
     "output_type": "stream",
     "text": [
      "\r",
      "  6%|▌         | 6/100 [06:01<1:34:19, 60.21s/it]"
     ]
    },
    {
     "name": "stdout",
     "output_type": "stream",
     "text": [
      "{'regret_max': 0.011996269226074219, 'regret_mean': 0.0014668903313577175, 'regret_mults': tensor([[11.8123]], device='cuda:0'), 'payment': 0.38668984174728394}\n"
     ]
    },
    {
     "name": "stderr",
     "output_type": "stream",
     "text": [
      "\r",
      "  7%|▋         | 7/100 [07:01<1:33:16, 60.18s/it]"
     ]
    },
    {
     "name": "stdout",
     "output_type": "stream",
     "text": [
      "{'regret_max': 0.014066338539123535, 'regret_mean': 0.0013976473128423095, 'regret_mults': tensor([[13.2523]], device='cuda:0'), 'payment': 0.3855403661727905}\n"
     ]
    },
    {
     "name": "stderr",
     "output_type": "stream",
     "text": [
      "\r",
      "  8%|▊         | 8/100 [08:02<1:32:23, 60.26s/it]"
     ]
    },
    {
     "name": "stdout",
     "output_type": "stream",
     "text": [
      "{'regret_max': 0.014956295490264893, 'regret_mean': 0.0012535450514405966, 'regret_mults': tensor([[16.4217]], device='cuda:0'), 'payment': 0.38397425413131714}\n"
     ]
    },
    {
     "name": "stderr",
     "output_type": "stream",
     "text": [
      "\r",
      "  9%|▉         | 9/100 [09:02<1:31:22, 60.25s/it]"
     ]
    },
    {
     "name": "stdout",
     "output_type": "stream",
     "text": [
      "{'regret_max': 0.017416954040527344, 'regret_mean': 0.0011488792952150106, 'regret_mults': tensor([[17.7751]], device='cuda:0'), 'payment': 0.3824619650840759}\n"
     ]
    },
    {
     "name": "stderr",
     "output_type": "stream",
     "text": [
      "\r",
      " 10%|█         | 10/100 [10:02<1:30:22, 60.25s/it]"
     ]
    },
    {
     "name": "stdout",
     "output_type": "stream",
     "text": [
      "{'regret_max': 0.012809395790100098, 'regret_mean': 0.0009760611574165523, 'regret_mults': tensor([[18.6853]], device='cuda:0'), 'payment': 0.3818057179450989}\n"
     ]
    },
    {
     "name": "stderr",
     "output_type": "stream",
     "text": [
      "\r",
      " 11%|█         | 11/100 [11:02<1:29:16, 60.18s/it]"
     ]
    },
    {
     "name": "stdout",
     "output_type": "stream",
     "text": [
      "{'regret_max': 0.010723233222961426, 'regret_mean': 0.0008518232498317957, 'regret_mults': tensor([[21.1745]], device='cuda:0'), 'payment': 0.38116735219955444}\n"
     ]
    },
    {
     "name": "stderr",
     "output_type": "stream",
     "text": [
      "\r",
      " 12%|█▏        | 12/100 [12:02<1:28:14, 60.17s/it]"
     ]
    },
    {
     "name": "stdout",
     "output_type": "stream",
     "text": [
      "{'regret_max': 0.010042250156402588, 'regret_mean': 0.0008582124719396234, 'regret_mults': tensor([[22.7059]], device='cuda:0'), 'payment': 0.38051432371139526}\n"
     ]
    },
    {
     "name": "stderr",
     "output_type": "stream",
     "text": [
      "\r",
      " 13%|█▎        | 13/100 [13:03<1:27:23, 60.27s/it]"
     ]
    },
    {
     "name": "stdout",
     "output_type": "stream",
     "text": [
      "{'regret_max': 0.009707331657409668, 'regret_mean': 0.0007600975804962218, 'regret_mults': tensor([[24.1558]], device='cuda:0'), 'payment': 0.379860520362854}\n"
     ]
    },
    {
     "name": "stderr",
     "output_type": "stream",
     "text": [
      "\r",
      " 14%|█▍        | 14/100 [14:03<1:26:20, 60.24s/it]"
     ]
    },
    {
     "name": "stdout",
     "output_type": "stream",
     "text": [
      "{'regret_max': 0.008982479572296143, 'regret_mean': 0.0007359881419688463, 'regret_mults': tensor([[26.1902]], device='cuda:0'), 'payment': 0.37879717350006104}\n"
     ]
    },
    {
     "name": "stderr",
     "output_type": "stream",
     "text": [
      "\r",
      " 15%|█▌        | 15/100 [15:03<1:25:19, 60.22s/it]"
     ]
    },
    {
     "name": "stdout",
     "output_type": "stream",
     "text": [
      "{'regret_max': 0.008297383785247803, 'regret_mean': 0.0006991771515458822, 'regret_mults': tensor([[29.3487]], device='cuda:0'), 'payment': 0.3778485059738159}\n"
     ]
    },
    {
     "name": "stderr",
     "output_type": "stream",
     "text": [
      "\r",
      " 16%|█▌        | 16/100 [16:03<1:24:18, 60.22s/it]"
     ]
    },
    {
     "name": "stdout",
     "output_type": "stream",
     "text": [
      "{'regret_max': 0.008542299270629883, 'regret_mean': 0.000592680589761585, 'regret_mults': tensor([[30.3948]], device='cuda:0'), 'payment': 0.3770895004272461}\n"
     ]
    },
    {
     "name": "stderr",
     "output_type": "stream",
     "text": [
      "\r",
      " 17%|█▋        | 17/100 [17:03<1:23:14, 60.17s/it]"
     ]
    },
    {
     "name": "stdout",
     "output_type": "stream",
     "text": [
      "{'regret_max': 0.012124776840209961, 'regret_mean': 0.0005848071887157857, 'regret_mults': tensor([[31.7256]], device='cuda:0'), 'payment': 0.3767229914665222}\n"
     ]
    },
    {
     "name": "stderr",
     "output_type": "stream",
     "text": [
      "\r",
      " 18%|█▊        | 18/100 [18:04<1:22:22, 60.27s/it]"
     ]
    },
    {
     "name": "stdout",
     "output_type": "stream",
     "text": [
      "{'regret_max': 0.0070795416831970215, 'regret_mean': 0.00046879882575012743, 'regret_mults': tensor([[33.3749]], device='cuda:0'), 'payment': 0.3766375184059143}\n"
     ]
    },
    {
     "name": "stderr",
     "output_type": "stream",
     "text": [
      "\r",
      " 19%|█▉        | 19/100 [19:04<1:21:20, 60.25s/it]"
     ]
    },
    {
     "name": "stdout",
     "output_type": "stream",
     "text": [
      "{'regret_max': 0.007630825042724609, 'regret_mean': 0.0004913349403068423, 'regret_mults': tensor([[36.3958]], device='cuda:0'), 'payment': 0.37618696689605713}\n"
     ]
    },
    {
     "name": "stderr",
     "output_type": "stream",
     "text": [
      "\r",
      " 20%|██        | 20/100 [20:04<1:20:23, 60.29s/it]"
     ]
    },
    {
     "name": "stdout",
     "output_type": "stream",
     "text": [
      "{'regret_max': 0.0064370036125183105, 'regret_mean': 0.00043220800580456853, 'regret_mults': tensor([[37.5086]], device='cuda:0'), 'payment': 0.3754870593547821}\n"
     ]
    },
    {
     "name": "stderr",
     "output_type": "stream",
     "text": [
      "\r",
      " 21%|██        | 21/100 [21:05<1:19:21, 60.27s/it]"
     ]
    },
    {
     "name": "stdout",
     "output_type": "stream",
     "text": [
      "{'regret_max': 0.008595407009124756, 'regret_mean': 0.0004519302165135741, 'regret_mults': tensor([[38.4892]], device='cuda:0'), 'payment': 0.3747621774673462}\n"
     ]
    },
    {
     "name": "stderr",
     "output_type": "stream",
     "text": [
      "\r",
      " 22%|██▏       | 22/100 [22:06<1:18:37, 60.49s/it]"
     ]
    },
    {
     "name": "stdout",
     "output_type": "stream",
     "text": [
      "{'regret_max': 0.00706106424331665, 'regret_mean': 0.00037696139770559967, 'regret_mults': tensor([[40.0490]], device='cuda:0'), 'payment': 0.37481364607810974}\n"
     ]
    },
    {
     "name": "stderr",
     "output_type": "stream",
     "text": [
      "\r",
      " 23%|██▎       | 23/100 [23:06<1:17:36, 60.47s/it]"
     ]
    },
    {
     "name": "stdout",
     "output_type": "stream",
     "text": [
      "{'regret_max': 0.0051648616790771484, 'regret_mean': 0.0003327513986732811, 'regret_mults': tensor([[40.7142]], device='cuda:0'), 'payment': 0.3749696612358093}\n"
     ]
    },
    {
     "name": "stderr",
     "output_type": "stream",
     "text": [
      "\r",
      " 24%|██▍       | 24/100 [24:07<1:16:34, 60.45s/it]"
     ]
    },
    {
     "name": "stdout",
     "output_type": "stream",
     "text": [
      "{'regret_max': 0.006715595722198486, 'regret_mean': 0.0003680615918710828, 'regret_mults': tensor([[41.3107]], device='cuda:0'), 'payment': 0.3746570944786072}\n"
     ]
    },
    {
     "name": "stderr",
     "output_type": "stream",
     "text": [
      "\r",
      " 25%|██▌       | 25/100 [25:07<1:15:27, 60.37s/it]"
     ]
    },
    {
     "name": "stdout",
     "output_type": "stream",
     "text": [
      "{'regret_max': 0.006624341011047363, 'regret_mean': 0.00033968541538342834, 'regret_mults': tensor([[43.1342]], device='cuda:0'), 'payment': 0.37457576394081116}\n"
     ]
    },
    {
     "name": "stderr",
     "output_type": "stream",
     "text": [
      "\r",
      " 26%|██▌       | 26/100 [26:07<1:14:24, 60.33s/it]"
     ]
    },
    {
     "name": "stdout",
     "output_type": "stream",
     "text": [
      "{'regret_max': 0.0055699944496154785, 'regret_mean': 0.00027010045596398413, 'regret_mults': tensor([[44.1707]], device='cuda:0'), 'payment': 0.3747657835483551}\n"
     ]
    },
    {
     "name": "stderr",
     "output_type": "stream",
     "text": [
      "\r",
      " 27%|██▋       | 27/100 [27:07<1:13:27, 60.38s/it]"
     ]
    },
    {
     "name": "stdout",
     "output_type": "stream",
     "text": [
      "{'regret_max': 0.004796922206878662, 'regret_mean': 0.00028752273647114635, 'regret_mults': tensor([[45.2057]], device='cuda:0'), 'payment': 0.37467753887176514}\n"
     ]
    },
    {
     "name": "stderr",
     "output_type": "stream",
     "text": [
      "\r",
      " 28%|██▊       | 28/100 [28:08<1:12:23, 60.33s/it]"
     ]
    },
    {
     "name": "stdout",
     "output_type": "stream",
     "text": [
      "{'regret_max': 0.008395075798034668, 'regret_mean': 0.0002752035215962678, 'regret_mults': tensor([[45.8660]], device='cuda:0'), 'payment': 0.37431859970092773}\n"
     ]
    },
    {
     "name": "stderr",
     "output_type": "stream",
     "text": [
      "\r",
      " 29%|██▉       | 29/100 [29:08<1:11:19, 60.27s/it]"
     ]
    },
    {
     "name": "stdout",
     "output_type": "stream",
     "text": [
      "{'regret_max': 0.004436969757080078, 'regret_mean': 0.00024411526101175696, 'regret_mults': tensor([[47.4574]], device='cuda:0'), 'payment': 0.3739369511604309}\n"
     ]
    },
    {
     "name": "stderr",
     "output_type": "stream",
     "text": [
      "\r",
      " 30%|███       | 30/100 [30:08<1:10:16, 60.24s/it]"
     ]
    },
    {
     "name": "stdout",
     "output_type": "stream",
     "text": [
      "{'regret_max': 0.0049746036529541016, 'regret_mean': 0.00024994707200676203, 'regret_mults': tensor([[48.5284]], device='cuda:0'), 'payment': 0.3741699457168579}\n"
     ]
    },
    {
     "name": "stderr",
     "output_type": "stream",
     "text": [
      "\r",
      " 31%|███       | 31/100 [31:08<1:09:14, 60.20s/it]"
     ]
    },
    {
     "name": "stdout",
     "output_type": "stream",
     "text": [
      "{'regret_max': 0.0058310627937316895, 'regret_mean': 0.000274642399745062, 'regret_mults': tensor([[49.3736]], device='cuda:0'), 'payment': 0.3736386299133301}\n"
     ]
    },
    {
     "name": "stderr",
     "output_type": "stream",
     "text": [
      "\r",
      " 32%|███▏      | 32/100 [32:09<1:08:21, 60.32s/it]"
     ]
    },
    {
     "name": "stdout",
     "output_type": "stream",
     "text": [
      "{'regret_max': 0.005202829837799072, 'regret_mean': 0.00022932518913876265, 'regret_mults': tensor([[50.3741]], device='cuda:0'), 'payment': 0.37386953830718994}\n"
     ]
    },
    {
     "name": "stderr",
     "output_type": "stream",
     "text": [
      "\r",
      " 33%|███▎      | 33/100 [33:09<1:07:17, 60.26s/it]"
     ]
    },
    {
     "name": "stdout",
     "output_type": "stream",
     "text": [
      "{'regret_max': 0.00552445650100708, 'regret_mean': 0.00023990935005713254, 'regret_mults': tensor([[53.2865]], device='cuda:0'), 'payment': 0.37356650829315186}\n"
     ]
    },
    {
     "name": "stderr",
     "output_type": "stream",
     "text": [
      "\r",
      " 34%|███▍      | 34/100 [34:09<1:06:17, 60.27s/it]"
     ]
    },
    {
     "name": "stdout",
     "output_type": "stream",
     "text": [
      "{'regret_max': 0.005434870719909668, 'regret_mean': 0.00020132324425503612, 'regret_mults': tensor([[53.6936]], device='cuda:0'), 'payment': 0.3745778501033783}\n"
     ]
    },
    {
     "name": "stderr",
     "output_type": "stream",
     "text": [
      "\r",
      " 35%|███▌      | 35/100 [35:09<1:05:14, 60.22s/it]"
     ]
    },
    {
     "name": "stdout",
     "output_type": "stream",
     "text": [
      "{'regret_max': 0.004941761493682861, 'regret_mean': 0.00022159605578053743, 'regret_mults': tensor([[54.3197]], device='cuda:0'), 'payment': 0.3739197850227356}\n"
     ]
    },
    {
     "name": "stderr",
     "output_type": "stream",
     "text": [
      "\r",
      " 36%|███▌      | 36/100 [36:09<1:04:13, 60.21s/it]"
     ]
    },
    {
     "name": "stdout",
     "output_type": "stream",
     "text": [
      "{'regret_max': 0.006124317646026611, 'regret_mean': 0.0002178228460252285, 'regret_mults': tensor([[55.6347]], device='cuda:0'), 'payment': 0.3743565082550049}\n"
     ]
    },
    {
     "name": "stderr",
     "output_type": "stream",
     "text": [
      "\r",
      " 37%|███▋      | 37/100 [37:10<1:03:16, 60.27s/it]"
     ]
    },
    {
     "name": "stdout",
     "output_type": "stream",
     "text": [
      "{'regret_max': 0.005015969276428223, 'regret_mean': 0.0001997101935558021, 'regret_mults': tensor([[56.1444]], device='cuda:0'), 'payment': 0.3740680515766144}\n"
     ]
    },
    {
     "name": "stderr",
     "output_type": "stream",
     "text": [
      "\r",
      " 38%|███▊      | 38/100 [38:10<1:02:13, 60.21s/it]"
     ]
    },
    {
     "name": "stdout",
     "output_type": "stream",
     "text": [
      "{'regret_max': 0.006627082824707031, 'regret_mean': 0.00021573860431089997, 'regret_mults': tensor([[56.8822]], device='cuda:0'), 'payment': 0.3739113211631775}\n"
     ]
    },
    {
     "name": "stderr",
     "output_type": "stream",
     "text": [
      "\r",
      " 39%|███▉      | 39/100 [39:10<1:01:11, 60.19s/it]"
     ]
    },
    {
     "name": "stdout",
     "output_type": "stream",
     "text": [
      "{'regret_max': 0.006644070148468018, 'regret_mean': 0.00021521447342820466, 'regret_mults': tensor([[57.8342]], device='cuda:0'), 'payment': 0.3736303448677063}\n"
     ]
    },
    {
     "name": "stderr",
     "output_type": "stream",
     "text": [
      "\r",
      " 40%|████      | 40/100 [40:10<1:00:11, 60.19s/it]"
     ]
    },
    {
     "name": "stdout",
     "output_type": "stream",
     "text": [
      "{'regret_max': 0.0031443238258361816, 'regret_mean': 0.0001440849300706759, 'regret_mults': tensor([[59.8930]], device='cuda:0'), 'payment': 0.37552976608276367}\n"
     ]
    },
    {
     "name": "stderr",
     "output_type": "stream",
     "text": [
      "\r",
      " 41%|████      | 41/100 [41:10<59:10, 60.17s/it]  "
     ]
    },
    {
     "name": "stdout",
     "output_type": "stream",
     "text": [
      "{'regret_max': 0.004514455795288086, 'regret_mean': 0.00015800097025930882, 'regret_mults': tensor([[61.3082]], device='cuda:0'), 'payment': 0.37507787346839905}\n"
     ]
    },
    {
     "name": "stderr",
     "output_type": "stream",
     "text": [
      "\r",
      " 42%|████▏     | 42/100 [42:11<58:16, 60.29s/it]"
     ]
    },
    {
     "name": "stdout",
     "output_type": "stream",
     "text": [
      "{'regret_max': 0.007866322994232178, 'regret_mean': 0.00021758556249551475, 'regret_mults': tensor([[63.0792]], device='cuda:0'), 'payment': 0.3739795386791229}\n"
     ]
    },
    {
     "name": "stderr",
     "output_type": "stream",
     "text": [
      "\r",
      " 43%|████▎     | 43/100 [43:11<57:14, 60.25s/it]"
     ]
    },
    {
     "name": "stdout",
     "output_type": "stream",
     "text": [
      "{'regret_max': 0.005577802658081055, 'regret_mean': 0.0001779643789632246, 'regret_mults': tensor([[64.9751]], device='cuda:0'), 'payment': 0.3745383322238922}\n"
     ]
    },
    {
     "name": "stderr",
     "output_type": "stream",
     "text": [
      "\r",
      " 44%|████▍     | 44/100 [44:11<56:15, 60.28s/it]"
     ]
    },
    {
     "name": "stdout",
     "output_type": "stream",
     "text": [
      "{'regret_max': 0.0067716240882873535, 'regret_mean': 0.00016485262312926352, 'regret_mults': tensor([[65.7507]], device='cuda:0'), 'payment': 0.37433189153671265}\n"
     ]
    },
    {
     "name": "stderr",
     "output_type": "stream",
     "text": [
      "\r",
      " 45%|████▌     | 45/100 [45:12<55:13, 60.24s/it]"
     ]
    },
    {
     "name": "stdout",
     "output_type": "stream",
     "text": [
      "{'regret_max': 0.003484070301055908, 'regret_mean': 0.00013910967390984297, 'regret_mults': tensor([[66.2482]], device='cuda:0'), 'payment': 0.37457236647605896}\n"
     ]
    },
    {
     "name": "stderr",
     "output_type": "stream",
     "text": [
      "\r",
      " 46%|████▌     | 46/100 [46:12<54:13, 60.24s/it]"
     ]
    },
    {
     "name": "stdout",
     "output_type": "stream",
     "text": [
      "{'regret_max': 0.003268718719482422, 'regret_mean': 0.00013170084275770932, 'regret_mults': tensor([[66.8051]], device='cuda:0'), 'payment': 0.37565848231315613}\n"
     ]
    },
    {
     "name": "stderr",
     "output_type": "stream",
     "text": [
      "\r",
      " 47%|████▋     | 47/100 [47:12<53:17, 60.33s/it]"
     ]
    },
    {
     "name": "stdout",
     "output_type": "stream",
     "text": [
      "{'regret_max': 0.00350835919380188, 'regret_mean': 0.0001427134411642328, 'regret_mults': tensor([[67.9585]], device='cuda:0'), 'payment': 0.375402569770813}\n"
     ]
    },
    {
     "name": "stderr",
     "output_type": "stream",
     "text": [
      "\r",
      " 48%|████▊     | 48/100 [48:13<52:19, 60.38s/it]"
     ]
    },
    {
     "name": "stdout",
     "output_type": "stream",
     "text": [
      "{'regret_max': 0.006242632865905762, 'regret_mean': 0.00015728047583252192, 'regret_mults': tensor([[68.5249]], device='cuda:0'), 'payment': 0.37450361251831055}\n"
     ]
    },
    {
     "name": "stderr",
     "output_type": "stream",
     "text": [
      "\r",
      " 49%|████▉     | 49/100 [49:13<51:19, 60.39s/it]"
     ]
    },
    {
     "name": "stdout",
     "output_type": "stream",
     "text": [
      "{'regret_max': 0.0081978440284729, 'regret_mean': 0.00022593185713049024, 'regret_mults': tensor([[69.8716]], device='cuda:0'), 'payment': 0.3735846281051636}\n"
     ]
    },
    {
     "name": "stderr",
     "output_type": "stream",
     "text": [
      "\r",
      " 50%|█████     | 50/100 [50:14<50:18, 60.37s/it]"
     ]
    },
    {
     "name": "stdout",
     "output_type": "stream",
     "text": [
      "{'regret_max': 0.004430234432220459, 'regret_mean': 0.0001403915521223098, 'regret_mults': tensor([[71.9776]], device='cuda:0'), 'payment': 0.3743288516998291}\n"
     ]
    },
    {
     "name": "stderr",
     "output_type": "stream",
     "text": [
      "\r",
      " 51%|█████     | 51/100 [51:14<49:18, 60.39s/it]"
     ]
    },
    {
     "name": "stdout",
     "output_type": "stream",
     "text": [
      "{'regret_max': 0.005541980266571045, 'regret_mean': 0.00015889061614871025, 'regret_mults': tensor([[72.3445]], device='cuda:0'), 'payment': 0.3731823265552521}\n"
     ]
    },
    {
     "name": "stderr",
     "output_type": "stream",
     "text": [
      "\r",
      " 52%|█████▏    | 52/100 [52:15<48:20, 60.43s/it]"
     ]
    },
    {
     "name": "stdout",
     "output_type": "stream",
     "text": [
      "{'regret_max': 0.005003809928894043, 'regret_mean': 0.00011589583300519735, 'regret_mults': tensor([[73.1937]], device='cuda:0'), 'payment': 0.3749334216117859}\n"
     ]
    },
    {
     "name": "stderr",
     "output_type": "stream",
     "text": [
      "\r",
      " 53%|█████▎    | 53/100 [53:15<47:18, 60.39s/it]"
     ]
    },
    {
     "name": "stdout",
     "output_type": "stream",
     "text": [
      "{'regret_max': 0.004609167575836182, 'regret_mean': 0.0001265494793187827, 'regret_mults': tensor([[73.9082]], device='cuda:0'), 'payment': 0.37491095066070557}\n"
     ]
    },
    {
     "name": "stderr",
     "output_type": "stream",
     "text": [
      "\r",
      " 54%|█████▍    | 54/100 [54:15<46:15, 60.34s/it]"
     ]
    },
    {
     "name": "stdout",
     "output_type": "stream",
     "text": [
      "{'regret_max': 0.005151212215423584, 'regret_mean': 0.0001283094461541623, 'regret_mults': tensor([[75.3210]], device='cuda:0'), 'payment': 0.3745681047439575}\n"
     ]
    },
    {
     "name": "stderr",
     "output_type": "stream",
     "text": [
      "\r",
      " 55%|█████▌    | 55/100 [55:15<45:15, 60.34s/it]"
     ]
    },
    {
     "name": "stdout",
     "output_type": "stream",
     "text": [
      "{'regret_max': 0.004214644432067871, 'regret_mean': 0.00013334117829799652, 'regret_mults': tensor([[76.1740]], device='cuda:0'), 'payment': 0.37449610233306885}\n"
     ]
    },
    {
     "name": "stderr",
     "output_type": "stream",
     "text": [
      "\r",
      " 56%|█████▌    | 56/100 [56:16<44:17, 60.39s/it]"
     ]
    },
    {
     "name": "stdout",
     "output_type": "stream",
     "text": [
      "{'regret_max': 0.0033386945724487305, 'regret_mean': 0.00012707611313089728, 'regret_mults': tensor([[77.1245]], device='cuda:0'), 'payment': 0.3749356269836426}\n"
     ]
    },
    {
     "name": "stderr",
     "output_type": "stream",
     "text": [
      "\r",
      " 57%|█████▋    | 57/100 [57:16<43:17, 60.40s/it]"
     ]
    },
    {
     "name": "stdout",
     "output_type": "stream",
     "text": [
      "{'regret_max': 0.006495833396911621, 'regret_mean': 0.00014312042912933975, 'regret_mults': tensor([[78.5735]], device='cuda:0'), 'payment': 0.37416547536849976}\n"
     ]
    },
    {
     "name": "stderr",
     "output_type": "stream",
     "text": [
      "\r",
      " 58%|█████▊    | 58/100 [58:16<42:13, 60.33s/it]"
     ]
    },
    {
     "name": "stdout",
     "output_type": "stream",
     "text": [
      "{'regret_max': 0.00337141752243042, 'regret_mean': 0.00011866360728163272, 'regret_mults': tensor([[79.7494]], device='cuda:0'), 'payment': 0.3744615316390991}\n"
     ]
    },
    {
     "name": "stderr",
     "output_type": "stream",
     "text": [
      "\r",
      " 59%|█████▉    | 59/100 [59:17<41:13, 60.33s/it]"
     ]
    },
    {
     "name": "stdout",
     "output_type": "stream",
     "text": [
      "{'regret_max': 0.009211540222167969, 'regret_mean': 0.00014742107305210084, 'regret_mults': tensor([[80.5002]], device='cuda:0'), 'payment': 0.3738751709461212}\n"
     ]
    },
    {
     "name": "stderr",
     "output_type": "stream",
     "text": [
      "\r",
      " 60%|██████    | 60/100 [1:00:17<40:11, 60.30s/it]"
     ]
    },
    {
     "name": "stdout",
     "output_type": "stream",
     "text": [
      "{'regret_max': 0.004093647003173828, 'regret_mean': 0.00012360807158984244, 'regret_mults': tensor([[82.5566]], device='cuda:0'), 'payment': 0.3745180070400238}\n"
     ]
    },
    {
     "name": "stderr",
     "output_type": "stream",
     "text": [
      "\r",
      " 61%|██████    | 61/100 [1:01:18<39:14, 60.37s/it]"
     ]
    },
    {
     "name": "stdout",
     "output_type": "stream",
     "text": [
      "{'regret_max': 0.007239401340484619, 'regret_mean': 0.00015805459406692535, 'regret_mults': tensor([[84.4324]], device='cuda:0'), 'payment': 0.37374675273895264}\n"
     ]
    },
    {
     "name": "stderr",
     "output_type": "stream",
     "text": [
      "\r",
      " 62%|██████▏   | 62/100 [1:02:18<38:11, 60.31s/it]"
     ]
    },
    {
     "name": "stdout",
     "output_type": "stream",
     "text": [
      "{'regret_max': 0.003944456577301025, 'regret_mean': 0.00010558394569670781, 'regret_mults': tensor([[85.4307]], device='cuda:0'), 'payment': 0.37522584199905396}\n"
     ]
    },
    {
     "name": "stderr",
     "output_type": "stream",
     "text": [
      "\r",
      " 63%|██████▎   | 63/100 [1:03:18<37:12, 60.34s/it]"
     ]
    },
    {
     "name": "stdout",
     "output_type": "stream",
     "text": [
      "{'regret_max': 0.0038145780563354492, 'regret_mean': 0.00012056846753694117, 'regret_mults': tensor([[86.2414]], device='cuda:0'), 'payment': 0.3744535446166992}\n"
     ]
    },
    {
     "name": "stderr",
     "output_type": "stream",
     "text": [
      "\r",
      " 64%|██████▍   | 64/100 [1:04:18<36:10, 60.30s/it]"
     ]
    },
    {
     "name": "stdout",
     "output_type": "stream",
     "text": [
      "{'regret_max': 0.003980278968811035, 'regret_mean': 0.00012454221723601222, 'regret_mults': tensor([[86.8332]], device='cuda:0'), 'payment': 0.37368154525756836}\n"
     ]
    },
    {
     "name": "stderr",
     "output_type": "stream",
     "text": [
      "\r",
      " 65%|██████▌   | 65/100 [1:05:19<35:10, 60.31s/it]"
     ]
    },
    {
     "name": "stdout",
     "output_type": "stream",
     "text": [
      "{'regret_max': 0.0042882561683654785, 'regret_mean': 0.00010660004772944376, 'regret_mults': tensor([[87.5624]], device='cuda:0'), 'payment': 0.37490639090538025}\n"
     ]
    },
    {
     "name": "stderr",
     "output_type": "stream",
     "text": [
      "\r",
      " 66%|██████▌   | 66/100 [1:06:19<34:11, 60.34s/it]"
     ]
    },
    {
     "name": "stdout",
     "output_type": "stream",
     "text": [
      "{'regret_max': 0.003922164440155029, 'regret_mean': 9.562210470903665e-05, 'regret_mults': tensor([[88.3232]], device='cuda:0'), 'payment': 0.3752306401729584}\n"
     ]
    },
    {
     "name": "stderr",
     "output_type": "stream",
     "text": [
      "\r",
      " 67%|██████▋   | 67/100 [1:07:19<33:09, 60.29s/it]"
     ]
    },
    {
     "name": "stdout",
     "output_type": "stream",
     "text": [
      "{'regret_max': 0.004991412162780762, 'regret_mean': 0.00012377301754895598, 'regret_mults': tensor([[88.9711]], device='cuda:0'), 'payment': 0.3744460642337799}\n"
     ]
    },
    {
     "name": "stderr",
     "output_type": "stream",
     "text": [
      "\r",
      " 68%|██████▊   | 68/100 [1:08:20<32:08, 60.28s/it]"
     ]
    },
    {
     "name": "stdout",
     "output_type": "stream",
     "text": [
      "{'regret_max': 0.0038234591484069824, 'regret_mean': 0.00010331034718547016, 'regret_mults': tensor([[90.1175]], device='cuda:0'), 'payment': 0.37431973218917847}\n"
     ]
    },
    {
     "name": "stderr",
     "output_type": "stream",
     "text": [
      "\r",
      " 69%|██████▉   | 69/100 [1:09:20<31:09, 60.31s/it]"
     ]
    },
    {
     "name": "stdout",
     "output_type": "stream",
     "text": [
      "{'regret_max': 0.004464626312255859, 'regret_mean': 0.0001107966381823644, 'regret_mults': tensor([[90.6462]], device='cuda:0'), 'payment': 0.3745748698711395}\n"
     ]
    },
    {
     "name": "stderr",
     "output_type": "stream",
     "text": [
      "\r",
      " 70%|███████   | 70/100 [1:10:20<30:09, 60.32s/it]"
     ]
    },
    {
     "name": "stdout",
     "output_type": "stream",
     "text": [
      "{'regret_max': 0.00823301076889038, 'regret_mean': 0.00014041927352081984, 'regret_mults': tensor([[91.4361]], device='cuda:0'), 'payment': 0.37339916825294495}\n"
     ]
    },
    {
     "name": "stderr",
     "output_type": "stream",
     "text": [
      "\r",
      " 71%|███████   | 71/100 [1:11:21<29:12, 60.45s/it]"
     ]
    },
    {
     "name": "stdout",
     "output_type": "stream",
     "text": [
      "{'regret_max': 0.006026625633239746, 'regret_mean': 0.0001258277625311166, 'regret_mults': tensor([[91.8022]], device='cuda:0'), 'payment': 0.3745499551296234}\n"
     ]
    },
    {
     "name": "stderr",
     "output_type": "stream",
     "text": [
      "\r",
      " 72%|███████▏  | 72/100 [1:12:20<28:00, 60.02s/it]"
     ]
    },
    {
     "name": "stdout",
     "output_type": "stream",
     "text": [
      "{'regret_max': 0.0040122270584106445, 'regret_mean': 8.988497575046495e-05, 'regret_mults': tensor([[93.2159]], device='cuda:0'), 'payment': 0.3756415843963623}\n"
     ]
    },
    {
     "name": "stderr",
     "output_type": "stream",
     "text": [
      "\r",
      " 73%|███████▎  | 73/100 [1:13:19<26:54, 59.79s/it]"
     ]
    },
    {
     "name": "stdout",
     "output_type": "stream",
     "text": [
      "{'regret_max': 0.0034511685371398926, 'regret_mean': 9.216605394612998e-05, 'regret_mults': tensor([[94.5959]], device='cuda:0'), 'payment': 0.3751934766769409}\n"
     ]
    },
    {
     "name": "stderr",
     "output_type": "stream",
     "text": [
      "\r",
      " 74%|███████▍  | 74/100 [1:14:18<25:47, 59.52s/it]"
     ]
    },
    {
     "name": "stdout",
     "output_type": "stream",
     "text": [
      "{'regret_max': 0.004826009273529053, 'regret_mean': 0.00011842662934213877, 'regret_mults': tensor([[94.8499]], device='cuda:0'), 'payment': 0.37449145317077637}\n"
     ]
    },
    {
     "name": "stderr",
     "output_type": "stream",
     "text": [
      "\r",
      " 75%|███████▌  | 75/100 [1:15:17<24:44, 59.37s/it]"
     ]
    },
    {
     "name": "stdout",
     "output_type": "stream",
     "text": [
      "{'regret_max': 0.004305124282836914, 'regret_mean': 9.440800931770355e-05, 'regret_mults': tensor([[96.5544]], device='cuda:0'), 'payment': 0.3747181296348572}\n"
     ]
    },
    {
     "name": "stderr",
     "output_type": "stream",
     "text": [
      "\r",
      " 76%|███████▌  | 76/100 [1:16:16<23:44, 59.34s/it]"
     ]
    },
    {
     "name": "stdout",
     "output_type": "stream",
     "text": [
      "{'regret_max': 0.004131615161895752, 'regret_mean': 0.00011227087088627741, 'regret_mults': tensor([[96.9535]], device='cuda:0'), 'payment': 0.37447574734687805}\n"
     ]
    },
    {
     "name": "stderr",
     "output_type": "stream",
     "text": [
      "\r",
      " 77%|███████▋  | 77/100 [1:17:16<22:43, 59.26s/it]"
     ]
    },
    {
     "name": "stdout",
     "output_type": "stream",
     "text": [
      "{'regret_max': 0.003448665142059326, 'regret_mean': 9.579067409504205e-05, 'regret_mults': tensor([[97.5722]], device='cuda:0'), 'payment': 0.3751722574234009}\n"
     ]
    },
    {
     "name": "stderr",
     "output_type": "stream",
     "text": [
      "\r",
      " 78%|███████▊  | 78/100 [1:18:15<21:45, 59.32s/it]"
     ]
    },
    {
     "name": "stdout",
     "output_type": "stream",
     "text": [
      "{'regret_max': 0.004159450531005859, 'regret_mean': 0.00011300128971925005, 'regret_mults': tensor([[98.1049]], device='cuda:0'), 'payment': 0.3739386796951294}\n"
     ]
    },
    {
     "name": "stderr",
     "output_type": "stream",
     "text": [
      "\r",
      " 79%|███████▉  | 79/100 [1:19:14<20:44, 59.25s/it]"
     ]
    },
    {
     "name": "stdout",
     "output_type": "stream",
     "text": [
      "{'regret_max': 0.0041539669036865234, 'regret_mean': 0.00010386072972323745, 'regret_mults': tensor([[99.3280]], device='cuda:0'), 'payment': 0.3746988773345947}\n"
     ]
    },
    {
     "name": "stderr",
     "output_type": "stream",
     "text": [
      "\r",
      " 80%|████████  | 80/100 [1:20:13<19:44, 59.21s/it]"
     ]
    },
    {
     "name": "stdout",
     "output_type": "stream",
     "text": [
      "{'regret_max': 0.005091845989227295, 'regret_mean': 9.517637226963416e-05, 'regret_mults': tensor([[100.1244]], device='cuda:0'), 'payment': 0.3750314712524414}\n"
     ]
    },
    {
     "name": "stderr",
     "output_type": "stream",
     "text": [
      "\r",
      " 81%|████████  | 81/100 [1:21:12<18:44, 59.18s/it]"
     ]
    },
    {
     "name": "stdout",
     "output_type": "stream",
     "text": [
      "{'regret_max': 0.0047972798347473145, 'regret_mean': 0.0001155668287537992, 'regret_mults': tensor([[101.0676]], device='cuda:0'), 'payment': 0.3741394877433777}\n"
     ]
    },
    {
     "name": "stderr",
     "output_type": "stream",
     "text": [
      "\r",
      " 82%|████████▏ | 82/100 [1:22:11<17:44, 59.15s/it]"
     ]
    },
    {
     "name": "stdout",
     "output_type": "stream",
     "text": [
      "{'regret_max': 0.003617703914642334, 'regret_mean': 8.490595791954547e-05, 'regret_mults': tensor([[102.3595]], device='cuda:0'), 'payment': 0.3745993375778198}\n"
     ]
    },
    {
     "name": "stderr",
     "output_type": "stream",
     "text": [
      "\r",
      " 83%|████████▎ | 83/100 [1:23:10<16:44, 59.07s/it]"
     ]
    },
    {
     "name": "stdout",
     "output_type": "stream",
     "text": [
      "{'regret_max': 0.0034868717193603516, 'regret_mean': 8.036413782974705e-05, 'regret_mults': tensor([[103.4901]], device='cuda:0'), 'payment': 0.37533465027809143}\n"
     ]
    },
    {
     "name": "stderr",
     "output_type": "stream",
     "text": [
      "\r",
      " 84%|████████▍ | 84/100 [1:24:09<15:43, 58.98s/it]"
     ]
    },
    {
     "name": "stdout",
     "output_type": "stream",
     "text": [
      "{'regret_max': 0.003610551357269287, 'regret_mean': 8.459147647954524e-05, 'regret_mults': tensor([[104.0578]], device='cuda:0'), 'payment': 0.3756489157676697}\n"
     ]
    },
    {
     "name": "stderr",
     "output_type": "stream",
     "text": [
      "\r",
      " 85%|████████▌ | 85/100 [1:25:08<14:42, 58.84s/it]"
     ]
    },
    {
     "name": "stdout",
     "output_type": "stream",
     "text": [
      "{'regret_max': 0.003587961196899414, 'regret_mean': 9.120509639615193e-05, 'regret_mults': tensor([[104.8291]], device='cuda:0'), 'payment': 0.3752295970916748}\n"
     ]
    },
    {
     "name": "stderr",
     "output_type": "stream",
     "text": [
      "\r",
      " 86%|████████▌ | 86/100 [1:26:07<13:45, 58.95s/it]"
     ]
    },
    {
     "name": "stdout",
     "output_type": "stream",
     "text": [
      "{'regret_max': 0.0058991312980651855, 'regret_mean': 0.00011013176117558032, 'regret_mults': tensor([[107.7162]], device='cuda:0'), 'payment': 0.3745693564414978}\n"
     ]
    },
    {
     "name": "stderr",
     "output_type": "stream",
     "text": [
      "\r",
      " 87%|████████▋ | 87/100 [1:27:05<12:44, 58.84s/it]"
     ]
    },
    {
     "name": "stdout",
     "output_type": "stream",
     "text": [
      "{'regret_max': 0.0033382773399353027, 'regret_mean': 7.871974958106875e-05, 'regret_mults': tensor([[109.4044]], device='cuda:0'), 'payment': 0.37540769577026367}\n"
     ]
    },
    {
     "name": "stderr",
     "output_type": "stream",
     "text": [
      "\r",
      " 88%|████████▊ | 88/100 [1:28:04<11:45, 58.75s/it]"
     ]
    },
    {
     "name": "stdout",
     "output_type": "stream",
     "text": [
      "{'regret_max': 0.004857838153839111, 'regret_mean': 9.380964911542833e-05, 'regret_mults': tensor([[111.9291]], device='cuda:0'), 'payment': 0.3750612437725067}\n"
     ]
    },
    {
     "name": "stderr",
     "output_type": "stream",
     "text": [
      "\r",
      " 89%|████████▉ | 89/100 [1:29:02<10:45, 58.67s/it]"
     ]
    },
    {
     "name": "stdout",
     "output_type": "stream",
     "text": [
      "{'regret_max': 0.005198299884796143, 'regret_mean': 0.00010171226313104853, 'regret_mults': tensor([[113.1783]], device='cuda:0'), 'payment': 0.3747205138206482}\n"
     ]
    },
    {
     "name": "stderr",
     "output_type": "stream",
     "text": [
      "\r",
      " 90%|█████████ | 90/100 [1:30:01<09:46, 58.61s/it]"
     ]
    },
    {
     "name": "stdout",
     "output_type": "stream",
     "text": [
      "{'regret_max': 0.0033332109451293945, 'regret_mean': 7.886135426815599e-05, 'regret_mults': tensor([[114.1881]], device='cuda:0'), 'payment': 0.3745482265949249}\n"
     ]
    },
    {
     "name": "stderr",
     "output_type": "stream",
     "text": [
      "\r",
      " 91%|█████████ | 91/100 [1:31:00<08:48, 58.69s/it]"
     ]
    },
    {
     "name": "stdout",
     "output_type": "stream",
     "text": [
      "{'regret_max': 0.0029103755950927734, 'regret_mean': 7.470150740118697e-05, 'regret_mults': tensor([[115.2908]], device='cuda:0'), 'payment': 0.3752018213272095}\n"
     ]
    },
    {
     "name": "stderr",
     "output_type": "stream",
     "text": [
      "\r",
      " 92%|█████████▏| 92/100 [1:31:58<07:48, 58.61s/it]"
     ]
    },
    {
     "name": "stdout",
     "output_type": "stream",
     "text": [
      "{'regret_max': 0.005489170551300049, 'regret_mean': 9.58285090746358e-05, 'regret_mults': tensor([[115.7031]], device='cuda:0'), 'payment': 0.3752189874649048}\n"
     ]
    },
    {
     "name": "stderr",
     "output_type": "stream",
     "text": [
      "\r",
      " 93%|█████████▎| 93/100 [1:32:57<06:49, 58.54s/it]"
     ]
    },
    {
     "name": "stdout",
     "output_type": "stream",
     "text": [
      "{'regret_max': 0.003816664218902588, 'regret_mean': 9.159426554106176e-05, 'regret_mults': tensor([[117.7414]], device='cuda:0'), 'payment': 0.3737390637397766}\n"
     ]
    },
    {
     "name": "stderr",
     "output_type": "stream",
     "text": [
      "\r",
      " 94%|█████████▍| 94/100 [1:33:55<05:51, 58.55s/it]"
     ]
    },
    {
     "name": "stdout",
     "output_type": "stream",
     "text": [
      "{'regret_max': 0.0031131505966186523, 'regret_mean': 8.504426659783348e-05, 'regret_mults': tensor([[118.4275]], device='cuda:0'), 'payment': 0.3740427494049072}\n"
     ]
    },
    {
     "name": "stderr",
     "output_type": "stream",
     "text": [
      "\r",
      " 95%|█████████▌| 95/100 [1:34:54<04:52, 58.52s/it]"
     ]
    },
    {
     "name": "stdout",
     "output_type": "stream",
     "text": [
      "{'regret_max': 0.004054367542266846, 'regret_mean': 8.547705510864034e-05, 'regret_mults': tensor([[119.2284]], device='cuda:0'), 'payment': 0.37418311834335327}\n"
     ]
    },
    {
     "name": "stderr",
     "output_type": "stream",
     "text": [
      "\r",
      " 96%|█████████▌| 96/100 [1:35:52<03:54, 58.60s/it]"
     ]
    },
    {
     "name": "stdout",
     "output_type": "stream",
     "text": [
      "{'regret_max': 0.00554502010345459, 'regret_mean': 0.00012511396198533475, 'regret_mults': tensor([[120.1107]], device='cuda:0'), 'payment': 0.372740238904953}\n"
     ]
    },
    {
     "name": "stderr",
     "output_type": "stream",
     "text": [
      "\r",
      " 97%|█████████▋| 97/100 [1:36:51<02:55, 58.53s/it]"
     ]
    },
    {
     "name": "stdout",
     "output_type": "stream",
     "text": [
      "{'regret_max': 0.0036617517471313477, 'regret_mean': 8.381965744774789e-05, 'regret_mults': tensor([[122.2542]], device='cuda:0'), 'payment': 0.37360233068466187}\n"
     ]
    },
    {
     "name": "stderr",
     "output_type": "stream",
     "text": [
      "\r",
      " 98%|█████████▊| 98/100 [1:37:49<01:56, 58.45s/it]"
     ]
    },
    {
     "name": "stdout",
     "output_type": "stream",
     "text": [
      "{'regret_max': 0.005020558834075928, 'regret_mean': 6.678128556814045e-05, 'regret_mults': tensor([[122.5656]], device='cuda:0'), 'payment': 0.3747280240058899}\n"
     ]
    },
    {
     "name": "stderr",
     "output_type": "stream",
     "text": [
      "\r",
      " 99%|█████████▉| 99/100 [1:38:47<00:58, 58.46s/it]"
     ]
    },
    {
     "name": "stdout",
     "output_type": "stream",
     "text": [
      "{'regret_max': 0.00296938419342041, 'regret_mean': 8.656820864416659e-05, 'regret_mults': tensor([[124.9281]], device='cuda:0'), 'payment': 0.37413138151168823}\n"
     ]
    },
    {
     "name": "stderr",
     "output_type": "stream",
     "text": [
      "100%|██████████| 100/100 [1:39:46<00:00, 59.86s/it]"
     ]
    },
    {
     "name": "stdout",
     "output_type": "stream",
     "text": [
      "{'regret_max': 0.0035909414291381836, 'regret_mean': 6.749607564415783e-05, 'regret_mults': tensor([[126.6084]], device='cuda:0'), 'payment': 0.3744492530822754}\n",
      "CPU times: user 1h 39min 28s, sys: 11.6 s, total: 1h 39min 40s\n",
      "Wall time: 1h 39min 46s\n"
     ]
    },
    {
     "name": "stderr",
     "output_type": "stream",
     "text": [
      "\n"
     ]
    }
   ],
   "source": [
    "%%time\n",
    "train_loop(model, train_loader, args, device=device)"
   ]
  },
  {
   "cell_type": "code",
   "execution_count": 14,
   "metadata": {
    "scrolled": true
   },
   "outputs": [
    {
     "name": "stderr",
     "output_type": "stream",
     "text": [
      "1it [00:36, 36.03s/it]"
     ]
    },
    {
     "name": "stdout",
     "output_type": "stream",
     "text": [
      "CPU times: user 35.9 s, sys: 98 ms, total: 36 s\n",
      "Wall time: 36.1 s\n"
     ]
    },
    {
     "name": "stderr",
     "output_type": "stream",
     "text": [
      "\n"
     ]
    },
    {
     "data": {
      "text/plain": [
       "{'payment_mean': 0.09858062863349915,\n",
       " 'regret_mean': 0.3437115550041199,\n",
       " 'regret_max': 0.7154373526573181}"
      ]
     },
     "execution_count": 14,
     "metadata": {},
     "output_type": "execute_result"
    }
   ],
   "source": [
    "%%time\n",
    "\n",
    "# test_data = ds.generate_dataset_nxk(args.n_agents, args.n_items, args.test_num_examples, item_ranges).to(device)\n",
    "test_data = torch.load('unit_1x2_test_data')\n",
    "test_loader = ds.Dataloader(test_data, batch_size=args.test_batch_size, shuffle=True)\n",
    "\n",
    "result = test_loop(model, test_loader, args, device=device)\n",
    "result"
   ]
  },
  {
   "cell_type": "code",
   "execution_count": 24,
   "metadata": {},
   "outputs": [],
   "source": [
    "from tqdm import tqdm\n",
    "from double_net import utils_misreport as utils\n",
    "def test_loop_random_start(model, loader, args, random_starts, device='cpu'):\n",
    "    # regrets and payments are 2d: n_samples x n_agents; unfairs is 1d: n_samples.\n",
    "    test_regrets = torch.Tensor().to(device)\n",
    "    test_payments = torch.Tensor().to(device)\n",
    "\n",
    "    for i, batch in tqdm(enumerate(loader)):\n",
    "        batch = batch.to(device)\n",
    "        allocs, payments = model(batch)\n",
    "        truthful_util = utils.calc_agent_util(batch, allocs, payments)\n",
    "        \n",
    "        max_regrets = torch.zeros(truthful_util.shape).to(device=device)\n",
    "        for c in range(len(random_starts)):\n",
    "            misreport_batch = random_starts[c].clone().detach()\n",
    "            utils.optimize_misreports(model, batch, misreport_batch,\n",
    "                                  misreport_iter=args.test_misreport_iter, lr=args.misreport_lr)\n",
    "            misreport_util = utils.tiled_misreport_util(misreport_batch, batch, model)\n",
    "\n",
    "            regrets = misreport_util - truthful_util\n",
    "            positive_regrets = torch.clamp_min(regrets, 0)\n",
    "            max_regrets = torch.max(max_regrets, positive_regrets)\n",
    "\n",
    "        # Record entire test data\n",
    "        test_regrets = torch.cat((test_regrets, max_regrets), dim=0)\n",
    "        test_payments = torch.cat((test_payments, payments), dim=0)\n",
    "\n",
    "    mean_regret = test_regrets.sum(dim=1).mean(dim=0).item()\n",
    "    # mean_sq_regret = (test_regrets ** 2).sum(dim=1).mean(dim=0).item()\n",
    "    # regret_var = max(mean_sq_regret - mean_regret ** 2, 0)\n",
    "    result = {\n",
    "        \"payment_mean\": test_payments.sum(dim=1).mean(dim=0).item(),\n",
    "        # \"regret_std\": regret_var ** .5,\n",
    "        \"regret_mean\": mean_regret,\n",
    "        \"regret_max\": test_regrets.sum(dim=1).max().item(),\n",
    "    }\n",
    "    # for i in range(model.n_agents):\n",
    "    #     agent_regrets = test_regrets[:, i]\n",
    "    #     result[f\"regret_agt{i}_std\"] = (((agent_regrets ** 2).mean() - agent_regrets.mean() ** 2) ** .5).item()\n",
    "    #     result[f\"regret_agt{i}_mean\"] = agent_regrets.mean().item()\n",
    "    return result"
   ]
  },
  {
   "cell_type": "code",
   "execution_count": 42,
   "metadata": {},
   "outputs": [
    {
     "name": "stderr",
     "output_type": "stream",
     "text": [
      "1it [13:23, 803.00s/it]"
     ]
    },
    {
     "name": "stdout",
     "output_type": "stream",
     "text": [
      "CPU times: user 13min 13s, sys: 399 ms, total: 13min 13s\n",
      "Wall time: 13min 23s\n"
     ]
    },
    {
     "name": "stderr",
     "output_type": "stream",
     "text": [
      "\n"
     ]
    },
    {
     "data": {
      "text/plain": [
       "{'payment_mean': 0.39048677682876587,\n",
       " 'regret_mean': 0.0008985802414827049,\n",
       " 'regret_max': 0.0050833821296691895}"
      ]
     },
     "execution_count": 42,
     "metadata": {},
     "output_type": "execute_result"
    }
   ],
   "source": [
    "%%time\n",
    "args.test_num_examples = 1000\n",
    "args.test_batch_size = 1000\n",
    "args.test_misreport_iter = 1000\n",
    "args.misreport_lr = 1e-1\n",
    "model.sinkhorn_rounds = 100\n",
    "model.sinkhorn_epsilon = 4e-2\n",
    "# test_data = ds.generate_dataset_nxk(args.n_agents, args.n_items, args.test_num_examples, item_ranges).to(device)\n",
    "random_starts = [test_data]\n",
    "for i in range(10):\n",
    "    random_starts.append(ds.generate_dataset_nxk(args.n_agents, args.n_items, args.test_num_examples, item_ranges).to(device))\n",
    "test_loader = ds.Dataloader(test_data, batch_size=args.test_batch_size, shuffle=True)\n",
    "\n",
    "result = test_loop_random_start(model, test_loader, args, random_starts, device=device)\n",
    "result"
   ]
  },
  {
   "cell_type": "code",
   "execution_count": 40,
   "metadata": {},
   "outputs": [],
   "source": [
    "torch.save(test_data, 'unit_1x2_test_data')"
   ]
  },
  {
   "cell_type": "code",
   "execution_count": 10,
   "metadata": {
    "scrolled": true
   },
   "outputs": [
    {
     "name": "stderr",
     "output_type": "stream",
     "text": [
      "1it [00:03,  3.49s/it]"
     ]
    },
    {
     "name": "stdout",
     "output_type": "stream",
     "text": [
      "CPU times: user 1.76 s, sys: 4.44 ms, total: 1.76 s\n",
      "Wall time: 3.51 s\n"
     ]
    },
    {
     "name": "stderr",
     "output_type": "stream",
     "text": [
      "\n"
     ]
    },
    {
     "data": {
      "text/plain": [
       "{'payment_mean': 0.21480141580104828,\n",
       " 'regret_mean': 0.0659351646900177,\n",
       " 'regret_max': 0.24939504265785217}"
      ]
     },
     "execution_count": 10,
     "metadata": {},
     "output_type": "execute_result"
    }
   ],
   "source": [
    "%%time\n",
    "args.test_batch_size = 10000\n",
    "args.test_misreport_iter = 100\n",
    "args.misreport_lr = 1e-1\n",
    "model.sinkhorn_rounds = 20\n",
    "model.sinkhorn_epsilon = 5e-2\n",
    "#test_data = ds.generate_dataset_nxk(args.n_agents, args.n_items, args.test_num_examples, item_ranges).to(device)\n",
    "test_loader = ds.Dataloader(test_data, batch_size=args.test_batch_size, shuffle=True)\n",
    "\n",
    "result = test_loop(model, test_loader, args, device=device)\n",
    "result"
   ]
  },
  {
   "cell_type": "code",
   "execution_count": 11,
   "metadata": {},
   "outputs": [],
   "source": [
    "def plot_12_model(model, grid_width=0.1, item1_range=(0, 1), item2_range=(0, 1), name=\"test\"):\n",
    "    import math\n",
    "    item1_min, item1_max = item1_range\n",
    "    item2_min, item2_max = item2_range\n",
    "    xcoords = (item1_max - item1_min) * torch.arange(0, 1, grid_width).view(1, -1) + item1_min\n",
    "    ycoords = (item2_max - item2_min) * torch.arange(0, 1, grid_width).view(-1, 1) + item2_min\n",
    "    xlen = ycoords.shape[0]\n",
    "    ylen = xcoords.shape[1]\n",
    "\n",
    "    xcoords_tiled = xcoords.repeat(xlen, 1)\n",
    "    ycoords_tiled = ycoords.repeat(1, ylen)\n",
    "\n",
    "    combined = torch.stack((xcoords_tiled, ycoords_tiled), dim=2)\n",
    "\n",
    "    output_allocs, output_payments = model(combined.view(-1, 1, 2))\n",
    "\n",
    "    output_item1_allocs = output_allocs[:, :, 0].view(xlen, ylen)\n",
    "    output_item2_allocs = output_allocs[:, :, 1].view(xlen, ylen)\n",
    "    f, (ax1, ax2) = plt.subplots(2, 1)\n",
    "    im1 = ax1.imshow(output_item1_allocs.cpu().detach().numpy(), origin='lower', cmap='YlOrRd',extent=[0,1,0,1], vmin=0, vmax=1)\n",
    "    ax1.set_title('prob of allocating item 1')\n",
    "    ax1.set_xlabel('v1')\n",
    "    ax1.set_ylabel('v2')\n",
    "    im2 = ax2.imshow(output_item2_allocs.cpu().detach().numpy(), origin='lower', cmap='YlOrRd',extent=[0,1,0,1], vmin=0, vmax=1)\n",
    "    ax2.set_title('prob of allocating item 2')\n",
    "    ax2.set_xlabel('v1')\n",
    "    ax2.set_ylabel('v2')\n",
    "    \n",
    "    # Plot optimals\n",
    "    ax1.plot([math.sqrt(3) / 3, math.sqrt(3) / 3], [0, math.sqrt(3) / 3], 'k--')\n",
    "    ax1.plot([math.sqrt(3) / 3, 1], [math.sqrt(3) / 3, 1], 'k--')\n",
    "    \n",
    "    ax2.plot([0, math.sqrt(3) / 3], [math.sqrt(3) / 3, math.sqrt(3) / 3], 'k--')\n",
    "    ax2.plot([math.sqrt(3) / 3, 1], [math.sqrt(3) / 3, 1], 'k--')\n",
    "    \n",
    "    f.colorbar(im1, ax=ax1)\n",
    "    f.colorbar(im2, ax=ax2)\n",
    "    f.tight_layout()\n",
    "    f.show()"
   ]
  },
  {
   "cell_type": "code",
   "execution_count": 12,
   "metadata": {},
   "outputs": [
    {
     "data": {
      "image/png": "[encoded data removed]",
      "text/plain": [
       "<Figure size 1200x800 with 4 Axes>"
      ]
     },
     "metadata": {
      "needs_background": "light"
     },
     "output_type": "display_data"
    }
   ],
   "source": [
    "plt.rcParams['figure.figsize'] = [12, 8]\n",
    "plt.rcParams['figure.dpi'] = 100\n",
    "model.sinkhorn_rounds = 100\n",
    "model.sinkhorn_epsilon = 5e-2\n",
    "# plot_12_model(model.to(device='cpu'), 0.005, (0,1), (0,1))"
   ]
  },
  {
   "cell_type": "code",
   "execution_count": 11,
   "metadata": {},
   "outputs": [
    {
     "data": {
      "image/png": "[encoded data removed]",
      "text/plain": [
       "<Figure size 1200x800 with 4 Axes>"
      ]
     },
     "metadata": {
      "needs_background": "light"
     },
     "output_type": "display_data"
    }
   ],
   "source": [
    "model.sinkhorn_rounds = 100\n",
    "model.sinkhorn_epsilon = 1e-2\n",
    "# plot_12_model(model.to(device='cpu'), 0.01, (0,1), (0,1))"
   ]
  },
  {
   "cell_type": "code",
   "execution_count": 9,
   "metadata": {},
   "outputs": [],
   "source": [
    "def unit_1x2_0_1_optimal_mechanism(bids):\n",
    "    import math\n",
    "    batch_size, n_agents, n_items = bids.shape\n",
    "    allocs = torch.zeros(bids.shape)\n",
    "    payments = torch.zeros((batch_size, n_agents))\n",
    "    \n",
    "    for i in range(batch_size):\n",
    "        if bids[i, 0, 0] > bids[i, 0, 1] and bids[i, 0, 0] > math.sqrt(3) / 3:\n",
    "            allocs[i, 0, 0] = 1.0\n",
    "            allocs[i, 0, 1] = 0.0\n",
    "            payments[i] = math.sqrt(3) / 3\n",
    "        elif bids[i, 0, 1] > math.sqrt(3) / 3:\n",
    "            allocs[i, 0, 0] = 0.0\n",
    "            allocs[i, 0, 1] = 1.0\n",
    "            payments[i] = math.sqrt(3) / 3\n",
    "    return allocs, payments"
   ]
  },
  {
   "cell_type": "code",
   "execution_count": 37,
   "metadata": {},
   "outputs": [
    {
     "data": {
      "text/plain": [
       "tensor(0.3926)"
      ]
     },
     "execution_count": 37,
     "metadata": {},
     "output_type": "execute_result"
    }
   ],
   "source": [
    "opt_alloc, opt_payments = unit_1x2_0_1_optimal_mechanism(test_data)\n",
    "opt_payments.mean()"
   ]
  },
  {
   "cell_type": "code",
   "execution_count": 11,
   "metadata": {},
   "outputs": [],
   "source": [
    "model.save('./unit_1x2_0_1_')"
   ]
  },
  {
   "cell_type": "code",
   "execution_count": 19,
   "metadata": {},
   "outputs": [],
   "source": [
    "filename_prefix = './unit_1x2_0_1_'\n",
    "torch.save(model.payment_net.state_dict(), filename_prefix + 'pay_net.pytorch')\n",
    "torch.save(model.alloc_head.state_dict(), filename_prefix + 'alloc_head.pytorch')"
   ]
  },
  {
   "cell_type": "code",
   "execution_count": 21,
   "metadata": {},
   "outputs": [
    {
     "data": {
      "text/plain": [
       "<All keys matched successfully>"
      ]
     },
     "execution_count": 21,
     "metadata": {},
     "output_type": "execute_result"
    }
   ],
   "source": [
    "import pickle\n",
    "with open(filename_prefix + 'doublenet_classvariables.pickle', 'rb') as f:\n",
    "            params_dict = pickle.load(f)\n",
    "\n",
    "loaded_model = DoubleNet(\n",
    "    params_dict['n_agents'],\n",
    "    params_dict['n_items'],\n",
    "    params_dict['item_ranges'],\n",
    "    params_dict['sinkhorn_epsilon'],\n",
    "    params_dict['sinkhorn_rounds'],\n",
    "    params_dict['marginal_choice'],\n",
    ")\n",
    "result.neural_net.load_state_dict(torch.load(filename_prefix + 'doublenet.pytorch'))\n",
    "result.payment_net.load_state_dict(torch.load(filename_prefix + 'pay_net.pytorch'))\n",
    "result.alloc_head.load_state_dict(torch.load(filename_prefix + 'alloc_head.pytorch'))"
   ]
  }
 ],
 "metadata": {
  "kernelspec": {
   "display_name": "Python 3",
   "language": "python",
   "name": "python3"
  },
  "language_info": {
   "codemirror_mode": {
    "name": "ipython",
    "version": 3
   },
   "file_extension": ".py",
   "mimetype": "text/x-python",
   "name": "python",
   "nbconvert_exporter": "python",
   "pygments_lexer": "ipython3",
   "version": "3.7.4"
  }
 },
 "nbformat": 4,
 "nbformat_minor": 2
}
