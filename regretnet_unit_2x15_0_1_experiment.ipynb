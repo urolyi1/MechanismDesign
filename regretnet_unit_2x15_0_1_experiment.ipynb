{
 "cells": [
  {
   "cell_type": "code",
   "execution_count": 1,
   "metadata": {},
   "outputs": [],
   "source": [
    "import os\n",
    "import torch\n",
    "from torch import nn, optim\n",
    "import torch.nn.functional as F\n",
    "import numpy as np\n",
    "from argparse import ArgumentParser\n",
    "from double_net.double_net import DoubleNet, train_loop, train_loop_no_lagrange, test_loop, test_loop_random_start\n",
    "from double_net import datasets as ds\n",
    "import time\n",
    "import double_net.plot_utils as pu\n",
    "import importlib\n",
    "import matplotlib.pyplot as plt"
   ]
  },
  {
   "cell_type": "code",
   "execution_count": 2,
   "metadata": {},
   "outputs": [],
   "source": [
    "from double_net.regret_net import RegretNetUnitDemand\n",
    "if torch.cuda.is_available():\n",
    "    device = 'cuda'\n",
    "else:\n",
    "    device = 'cpu'"
   ]
  },
  {
   "cell_type": "code",
   "execution_count": 4,
   "metadata": {},
   "outputs": [
    {
     "data": {
      "text/plain": [
       "Namespace(batch_size=4096, lagr_update_iter=100, misreport_iter=25, misreport_lr=0.1, model_lr=0.001, n_agents=2, n_items=15, num_epochs=100, num_examples=524288, random_seed=0, rgt_start=0, rho=1, rho_incr_amount=1.0, rho_incr_iter=2, sinkhorn_epsilon=0.03, sinkhorn_rounds=20, test_batch_size=1000, test_iter=5, test_misreport_iter=1000, test_num_examples=1000)"
      ]
     },
     "execution_count": 4,
     "metadata": {},
     "output_type": "execute_result"
    }
   ],
   "source": [
    "parser = ArgumentParser()\n",
    "parser.add_argument('--random-seed', type=int, default=0)\n",
    "parser.add_argument('--num-examples', type=int, default=131072 * 4)\n",
    "parser.add_argument('--test-num-examples', type=int, default=1000)\n",
    "parser.add_argument('--test-iter', type=int, default=5)\n",
    "parser.add_argument('--n-agents', type=int, default=2)\n",
    "parser.add_argument('--n-items', type=int, default=15)\n",
    "parser.add_argument('--num-epochs', type=int, default=100)\n",
    "parser.add_argument('--batch-size', type=int, default=128 * 32)\n",
    "parser.add_argument('--test-batch-size', type=int, default=1000)\n",
    "parser.add_argument('--model-lr', type=float, default=1e-3)\n",
    "parser.add_argument('--misreport-lr', type=float, default=1e-1)\n",
    "parser.add_argument('--misreport-iter', type=int, default=25)\n",
    "parser.add_argument('--test-misreport-iter', type=int, default=1000)\n",
    "parser.add_argument('--rho', type=float, default=1)\n",
    "parser.add_argument('--rho-incr-iter', type=int, default=2)\n",
    "parser.add_argument('--rho-incr-amount', type=float, default=1.0)\n",
    "parser.add_argument('--lagr-update-iter', type=int, default=100)\n",
    "parser.add_argument('--rgt-start', type=int, default=0)\n",
    "parser.add_argument('--sinkhorn-epsilon', type=float, default=3e-2)\n",
    "parser.add_argument('--sinkhorn-rounds', type=int, default=20)\n",
    "\n",
    "\n",
    "args = parser.parse_args(args=[])\n",
    "args"
   ]
  },
  {
   "cell_type": "code",
   "execution_count": 5,
   "metadata": {},
   "outputs": [],
   "source": [
    "torch.manual_seed(args.random_seed)\n",
    "np.random.seed(args.random_seed)\n",
    "\n",
    "item_ranges = ds.preset_valuation_range(args.n_agents, args.n_items, \"\")\n",
    "\n",
    "model = RegretNetUnitDemand(\n",
    "    args.n_agents, args.n_items, item_ranges,\n",
    ").to(device)\n",
    "\n",
    "train_data = ds.generate_dataset_nxk(args.n_agents, args.n_items, args.num_examples, item_ranges).to(device)\n",
    "train_loader = ds.Dataloader(train_data, batch_size=args.batch_size, shuffle=True)"
   ]
  },
  {
   "cell_type": "code",
   "execution_count": 5,
   "metadata": {
    "scrolled": true
   },
   "outputs": [
    {
     "name": "stderr",
     "output_type": "stream",
     "text": [
      "100%|██████████| 100/100 [25:44<00:00, 15.45s/it]\n"
     ]
    },
    {
     "name": "stdout",
     "output_type": "stream",
     "text": [
      "{'regret_max': 0.34444117546081543, 'regret_mean': 0.02201312966644764, 'regret_mults': tensor([[5.4711, 5.6012]], device='cuda:0'), 'payment': 0.5245616436004639}\n",
      "{'regret_max': 0.17083024978637695, 'regret_mean': 0.015363702550530434, 'regret_mults': tensor([[6.9752, 7.5294]], device='cuda:0'), 'payment': 0.8687893748283386}\n",
      "{'regret_max': 0.16855323314666748, 'regret_mean': 0.014842233620584011, 'regret_mults': tensor([[9.9534, 9.8317]], device='cuda:0'), 'payment': 0.9342787265777588}\n",
      "{'regret_max': 0.1497558355331421, 'regret_mean': 0.009457921609282494, 'regret_mults': tensor([[14.7462, 14.7848]], device='cuda:0'), 'payment': 0.9045509099960327}\n",
      "{'regret_max': 0.12979954481124878, 'regret_mean': 0.006459108088165522, 'regret_mults': tensor([[16.5373, 16.4416]], device='cuda:0'), 'payment': 0.8890353441238403}\n",
      "{'regret_max': 0.12148416042327881, 'regret_mean': 0.005120438989251852, 'regret_mults': tensor([[18.2389, 18.1287]], device='cuda:0'), 'payment': 0.8853634595870972}\n",
      "{'regret_max': 0.10171288251876831, 'regret_mean': 0.004333732184022665, 'regret_mults': tensor([[20.2432, 20.2446]], device='cuda:0'), 'payment': 0.884939432144165}\n",
      "{'regret_max': 0.09107768535614014, 'regret_mean': 0.0037947543896734715, 'regret_mults': tensor([[24.4961, 23.6226]], device='cuda:0'), 'payment': 0.8882367610931396}\n",
      "{'regret_max': 0.08326584100723267, 'regret_mean': 0.0033441476989537477, 'regret_mults': tensor([[26.2967, 25.1229]], device='cuda:0'), 'payment': 0.8929439783096313}\n",
      "{'regret_max': 0.07913810014724731, 'regret_mean': 0.002984093502163887, 'regret_mults': tensor([[27.9847, 26.9274]], device='cuda:0'), 'payment': 0.9031051397323608}\n",
      "{'regret_max': 0.07293301820755005, 'regret_mean': 0.0027426937595009804, 'regret_mults': tensor([[31.6751, 30.8695]], device='cuda:0'), 'payment': 0.9102164506912231}\n",
      "{'regret_max': 0.06593847274780273, 'regret_mean': 0.002567471470683813, 'regret_mults': tensor([[33.7449, 32.5830]], device='cuda:0'), 'payment': 0.9171408414840698}\n",
      "{'regret_max': 0.06329059600830078, 'regret_mean': 0.0023880447261035442, 'regret_mults': tensor([[35.1654, 34.4201]], device='cuda:0'), 'payment': 0.9272118806838989}\n",
      "{'regret_max': 0.05975031852722168, 'regret_mean': 0.0022599436342716217, 'regret_mults': tensor([[36.6567, 36.0535]], device='cuda:0'), 'payment': 0.9379798769950867}\n",
      "{'regret_max': 0.05891251564025879, 'regret_mean': 0.002373763360083103, 'regret_mults': tensor([[40.5378, 41.6640]], device='cuda:0'), 'payment': 0.944453775882721}\n",
      "{'regret_max': 0.05695456266403198, 'regret_mean': 0.001901173614896834, 'regret_mults': tensor([[42.2535, 43.3237]], device='cuda:0'), 'payment': 0.9539061784744263}\n",
      "{'regret_max': 0.05218863487243652, 'regret_mean': 0.002027116483077407, 'regret_mults': tensor([[43.9859, 45.4045]], device='cuda:0'), 'payment': 0.9583238363265991}\n",
      "{'regret_max': 0.05474841594696045, 'regret_mean': 0.0018592540873214602, 'regret_mults': tensor([[47.7306, 50.3673]], device='cuda:0'), 'payment': 0.9640265107154846}\n",
      "{'regret_max': 0.05047041177749634, 'regret_mean': 0.0018102996982634068, 'regret_mults': tensor([[50.7213, 52.1865]], device='cuda:0'), 'payment': 0.9660398960113525}\n",
      "{'regret_max': 0.04954802989959717, 'regret_mean': 0.0017002490349113941, 'regret_mults': tensor([[52.6528, 53.9664]], device='cuda:0'), 'payment': 0.9667009115219116}\n",
      "{'regret_max': 0.048606693744659424, 'regret_mean': 0.0016585664125159383, 'regret_mults': tensor([[54.5014, 55.9048]], device='cuda:0'), 'payment': 0.9683119058609009}\n",
      "{'regret_max': 0.04654288291931152, 'regret_mean': 0.0015768203884363174, 'regret_mults': tensor([[58.0511, 60.4569]], device='cuda:0'), 'payment': 0.967693030834198}\n",
      "{'regret_max': 0.04558432102203369, 'regret_mean': 0.0015308009460568428, 'regret_mults': tensor([[59.9134, 62.7609]], device='cuda:0'), 'payment': 0.9669318199157715}\n",
      "{'regret_max': 0.04366874694824219, 'regret_mean': 0.0013561560772359371, 'regret_mults': tensor([[61.8109, 65.2147]], device='cuda:0'), 'payment': 0.9706547260284424}\n",
      "{'regret_max': 0.04376035928726196, 'regret_mean': 0.0013374951668083668, 'regret_mults': tensor([[66.1554, 68.5614]], device='cuda:0'), 'payment': 0.9701287746429443}\n",
      "{'regret_max': 0.040358543395996094, 'regret_mean': 0.0013022096827626228, 'regret_mults': tensor([[67.8503, 70.2817]], device='cuda:0'), 'payment': 0.9697341322898865}\n",
      "{'regret_max': 0.043913841247558594, 'regret_mean': 0.0014234071131795645, 'regret_mults': tensor([[69.4576, 72.2928]], device='cuda:0'), 'payment': 0.9618840217590332}\n",
      "{'regret_max': 0.0396614670753479, 'regret_mean': 0.001045911107212305, 'regret_mults': tensor([[71.4798, 73.8699]], device='cuda:0'), 'payment': 0.9729307889938354}\n",
      "{'regret_max': 0.036530137062072754, 'regret_mean': 0.0010731022339314222, 'regret_mults': tensor([[75.5667, 77.6584]], device='cuda:0'), 'payment': 0.9722016453742981}\n",
      "{'regret_max': 0.03520160913467407, 'regret_mean': 0.0011062907287850976, 'regret_mults': tensor([[77.2313, 79.4550]], device='cuda:0'), 'payment': 0.9704687595367432}\n",
      "{'regret_max': 0.03664308786392212, 'regret_mean': 0.001043229829519987, 'regret_mults': tensor([[79.1946, 81.0223]], device='cuda:0'), 'payment': 0.9706465005874634}\n",
      "{'regret_max': 0.036557018756866455, 'regret_mean': 0.001177770784124732, 'regret_mults': tensor([[81.0113, 82.7218]], device='cuda:0'), 'payment': 0.9677190780639648}\n",
      "{'regret_max': 0.034384727478027344, 'regret_mean': 0.0008893118938431144, 'regret_mults': tensor([[84.3838, 86.6744]], device='cuda:0'), 'payment': 0.9731972217559814}\n",
      "{'regret_max': 0.035416364669799805, 'regret_mean': 0.001075083389878273, 'regret_mults': tensor([[86.5763, 88.4112]], device='cuda:0'), 'payment': 0.9676916599273682}\n",
      "{'regret_max': 0.03408569097518921, 'regret_mean': 0.0008311224519275129, 'regret_mults': tensor([[88.7239, 89.9128]], device='cuda:0'), 'payment': 0.9742565155029297}\n",
      "{'regret_max': 0.03286367654800415, 'regret_mean': 0.00099181046243757, 'regret_mults': tensor([[93.2572, 93.1370]], device='cuda:0'), 'payment': 0.9696865081787109}\n",
      "{'regret_max': 0.03142279386520386, 'regret_mean': 0.0007933380547910929, 'regret_mults': tensor([[95.0974, 94.9674]], device='cuda:0'), 'payment': 0.9741857647895813}\n",
      "{'regret_max': 0.03306680917739868, 'regret_mean': 0.0008506437297910452, 'regret_mults': tensor([[98.4422, 96.2947]], device='cuda:0'), 'payment': 0.9736626148223877}\n",
      "{'regret_max': 0.03091585636138916, 'regret_mean': 0.0007605867576785386, 'regret_mults': tensor([[100.2101,  98.5998]], device='cuda:0'), 'payment': 0.9747201800346375}\n",
      "{'regret_max': 0.029885530471801758, 'regret_mean': 0.0007706667529419065, 'regret_mults': tensor([[104.1626, 101.7612]], device='cuda:0'), 'payment': 0.9757384061813354}\n",
      "{'regret_max': 0.05213797092437744, 'regret_mean': 0.0014516543596982956, 'regret_mults': tensor([[107.2966, 106.2807]], device='cuda:0'), 'payment': 0.9598646759986877}\n",
      "{'regret_max': 0.029829025268554688, 'regret_mean': 0.0005520754493772984, 'regret_mults': tensor([[108.5574, 107.7280]], device='cuda:0'), 'payment': 0.9712039828300476}\n",
      "{'regret_max': 0.02953892946243286, 'regret_mean': 0.000584763940423727, 'regret_mults': tensor([[111.6085, 111.1962]], device='cuda:0'), 'payment': 0.9798674583435059}\n",
      "{'regret_max': 0.031600773334503174, 'regret_mean': 0.0006104258354753256, 'regret_mults': tensor([[113.0948, 112.6661]], device='cuda:0'), 'payment': 0.9806843996047974}\n",
      "{'regret_max': 0.02776503562927246, 'regret_mean': 0.0006245234981179237, 'regret_mults': tensor([[114.4383, 114.1761]], device='cuda:0'), 'payment': 0.9813721179962158}\n",
      "{'regret_max': 0.027557551860809326, 'regret_mean': 0.0006648826529271901, 'regret_mults': tensor([[115.9007, 115.8639]], device='cuda:0'), 'payment': 0.9817152619361877}\n",
      "{'regret_max': 0.04013460874557495, 'regret_mean': 0.00106026919092983, 'regret_mults': tensor([[122.6612, 119.6805]], device='cuda:0'), 'payment': 0.968283474445343}\n",
      "{'regret_max': 0.027886152267456055, 'regret_mean': 0.0005110822385177016, 'regret_mults': tensor([[124.3893, 121.1486]], device='cuda:0'), 'payment': 0.9840033650398254}\n",
      "{'regret_max': 0.025130927562713623, 'regret_mean': 0.0004935646429657936, 'regret_mults': tensor([[125.8153, 122.6845]], device='cuda:0'), 'payment': 0.9870381355285645}\n",
      "{'regret_max': 0.03923898935317993, 'regret_mean': 0.001179986516945064, 'regret_mults': tensor([[130.3376, 128.3191]], device='cuda:0'), 'payment': 0.9672272801399231}\n",
      "{'regret_max': 0.026016950607299805, 'regret_mean': 0.0004272979567758739, 'regret_mults': tensor([[131.7491, 129.6815]], device='cuda:0'), 'payment': 0.9855329990386963}\n",
      "{'regret_max': 0.02723604440689087, 'regret_mean': 0.00044332188554108143, 'regret_mults': tensor([[133.0910, 131.1979]], device='cuda:0'), 'payment': 0.9900420904159546}\n",
      "{'regret_max': 0.028821349143981934, 'regret_mean': 0.0005675998399965465, 'regret_mults': tensor([[134.7432, 133.9353]], device='cuda:0'), 'payment': 0.9867812395095825}\n",
      "{'regret_max': 0.038422733545303345, 'regret_mean': 0.0007263607694767416, 'regret_mults': tensor([[137.6097, 138.6402]], device='cuda:0'), 'payment': 0.9875616431236267}\n",
      "{'regret_max': 0.03833070397377014, 'regret_mean': 0.0007914352463558316, 'regret_mults': tensor([[139.6343, 139.8835]], device='cuda:0'), 'payment': 0.975199818611145}\n",
      "{'regret_max': 0.02328634262084961, 'regret_mean': 0.00039218494202941656, 'regret_mults': tensor([[140.9979, 141.3046]], device='cuda:0'), 'payment': 0.9921369552612305}\n",
      "{'regret_max': 0.03446441888809204, 'regret_mean': 0.000754282926209271, 'regret_mults': tensor([[142.3087, 143.0234]], device='cuda:0'), 'payment': 0.9878748655319214}\n",
      "{'regret_max': 0.025450706481933594, 'regret_mean': 0.0005311830900609493, 'regret_mults': tensor([[146.0563, 149.6104]], device='cuda:0'), 'payment': 0.9852509498596191}\n",
      "{'regret_max': 0.02097630500793457, 'regret_mean': 0.0003713483747560531, 'regret_mults': tensor([[147.5052, 151.0377]], device='cuda:0'), 'payment': 0.994300901889801}\n",
      "{'regret_max': 0.0275537371635437, 'regret_mean': 0.0007680871640332043, 'regret_mults': tensor([[148.9123, 152.4180]], device='cuda:0'), 'payment': 0.9892669320106506}\n",
      "{'regret_max': 0.025242865085601807, 'regret_mean': 0.0006071423413231969, 'regret_mults': tensor([[153.9239, 157.0608]], device='cuda:0'), 'payment': 0.978518009185791}\n",
      "{'regret_max': 0.020760059356689453, 'regret_mean': 0.00035192049108445644, 'regret_mults': tensor([[155.2817, 158.4279]], device='cuda:0'), 'payment': 0.9954879283905029}\n",
      "{'regret_max': 0.021572113037109375, 'regret_mean': 0.0003679082728922367, 'regret_mults': tensor([[156.7262, 159.8633]], device='cuda:0'), 'payment': 0.9978305101394653}\n",
      "{'regret_max': 0.04132664203643799, 'regret_mean': 0.001149829593487084, 'regret_mults': tensor([[158.6552, 161.4939]], device='cuda:0'), 'payment': 0.9808700084686279}\n",
      "{'regret_max': 0.022194504737854004, 'regret_mean': 0.0003738233644980937, 'regret_mults': tensor([[163.8371, 165.1521]], device='cuda:0'), 'payment': 0.98542320728302}\n",
      "{'regret_max': 0.019766569137573242, 'regret_mean': 0.00032834953162819147, 'regret_mults': tensor([[165.2219, 166.4554]], device='cuda:0'), 'payment': 0.9968670606613159}\n",
      "{'regret_max': 0.018936097621917725, 'regret_mean': 0.0003389323246665299, 'regret_mults': tensor([[166.6280, 167.8449]], device='cuda:0'), 'payment': 0.9992138147354126}\n",
      "{'regret_max': 0.10990585386753082, 'regret_mean': 0.0014259594026952982, 'regret_mults': tensor([[169.4111, 180.7026]], device='cuda:0'), 'payment': 0.9266595244407654}\n",
      "{'regret_max': 0.019714653491973877, 'regret_mean': 0.0002826681302394718, 'regret_mults': tensor([[170.6771, 182.0216]], device='cuda:0'), 'payment': 0.9724107384681702}\n",
      "{'regret_max': 0.01668858528137207, 'regret_mean': 0.00030281528597697616, 'regret_mults': tensor([[172.0254, 183.3459]], device='cuda:0'), 'payment': 0.9939024448394775}\n",
      "{'regret_max': 0.050867959856987, 'regret_mean': 0.0010858515743166208, 'regret_mults': tensor([[173.4938, 186.9333]], device='cuda:0'), 'payment': 0.9658973217010498}\n",
      "{'regret_max': 0.01833873987197876, 'regret_mean': 0.0002734234440140426, 'regret_mults': tensor([[176.0836, 189.3297]], device='cuda:0'), 'payment': 0.9888820052146912}\n",
      "{'regret_max': 0.01653391122817993, 'regret_mean': 0.0002901725238189101, 'regret_mults': tensor([[177.4672, 190.6399]], device='cuda:0'), 'payment': 0.9957811832427979}\n",
      "{'regret_max': 0.017126381397247314, 'regret_mean': 0.0003003375022672117, 'regret_mults': tensor([[178.8343, 192.2197]], device='cuda:0'), 'payment': 0.9982049465179443}\n",
      "{'regret_max': 0.017083942890167236, 'regret_mean': 0.00037218991201370955, 'regret_mults': tensor([[181.7694, 195.0003]], device='cuda:0'), 'payment': 0.997046947479248}\n",
      "{'regret_max': 0.03132075071334839, 'regret_mean': 0.0009914891561493278, 'regret_mults': tensor([[190.4428, 210.4971]], device='cuda:0'), 'payment': 0.984775185585022}\n",
      "{'regret_max': 0.018337130546569824, 'regret_mean': 0.00029476883355528116, 'regret_mults': tensor([[191.6747, 211.7082]], device='cuda:0'), 'payment': 0.986937403678894}\n",
      "{'regret_max': 0.015731632709503174, 'regret_mean': 0.00026743594207800925, 'regret_mults': tensor([[193.0285, 212.9953]], device='cuda:0'), 'payment': 0.996752142906189}\n",
      "{'regret_max': 0.02853316068649292, 'regret_mean': 0.000734579807613045, 'regret_mults': tensor([[195.7162, 215.3991]], device='cuda:0'), 'payment': 0.981246829032898}\n",
      "{'regret_max': 0.01711028814315796, 'regret_mean': 0.00025583954993635416, 'regret_mults': tensor([[197.1172, 216.6756]], device='cuda:0'), 'payment': 0.9957272410392761}\n",
      "{'regret_max': 0.01596653461456299, 'regret_mean': 0.00026186369359493256, 'regret_mults': tensor([[198.6034, 218.0093]], device='cuda:0'), 'payment': 0.9991130232810974}\n",
      "{'regret_max': 0.023658275604248047, 'regret_mean': 0.00037330813938751817, 'regret_mults': tensor([[200.0121, 219.2422]], device='cuda:0'), 'payment': 0.9992598295211792}\n",
      "{'regret_max': 0.026055514812469482, 'regret_mean': 0.0007778104627504945, 'regret_mults': tensor([[206.2051, 224.3371]], device='cuda:0'), 'payment': 0.9789386987686157}\n",
      "{'regret_max': 0.01595616340637207, 'regret_mean': 0.00024323911929968745, 'regret_mults': tensor([[207.5315, 225.5839]], device='cuda:0'), 'payment': 0.9973453283309937}\n",
      "{'regret_max': 0.014543652534484863, 'regret_mean': 0.0002475092187523842, 'regret_mults': tensor([[208.8925, 226.7743]], device='cuda:0'), 'payment': 1.000411033630371}\n",
      "{'regret_max': 0.03342387080192566, 'regret_mean': 0.0005174705875106156, 'regret_mults': tensor([[227.9489, 235.6529]], device='cuda:0'), 'payment': 0.998346745967865}\n",
      "{'regret_max': 0.049425020813941956, 'regret_mean': 0.0007368692895397544, 'regret_mults': tensor([[229.0058, 236.9353]], device='cuda:0'), 'payment': 0.934302568435669}\n",
      "{'regret_max': 0.01523977518081665, 'regret_mean': 0.00021932553499937057, 'regret_mults': tensor([[230.2810, 238.1408]], device='cuda:0'), 'payment': 0.991081178188324}\n",
      "{'regret_max': 0.01348865032196045, 'regret_mean': 0.00022834716946817935, 'regret_mults': tensor([[231.6301, 239.3990]], device='cuda:0'), 'payment': 0.9970539212226868}\n",
      "{'regret_max': 0.020567476749420166, 'regret_mean': 0.0006643377128057182, 'regret_mults': tensor([[235.4702, 243.3299]], device='cuda:0'), 'payment': 0.9864639043807983}\n",
      "{'regret_max': 0.013750076293945312, 'regret_mean': 0.0002257433079648763, 'regret_mults': tensor([[236.6699, 244.5697]], device='cuda:0'), 'payment': 0.9941562414169312}\n",
      "{'regret_max': 0.012694597244262695, 'regret_mean': 0.00021822740382049233, 'regret_mults': tensor([[238.0687, 245.8002]], device='cuda:0'), 'payment': 0.9995310306549072}\n",
      "{'regret_max': 0.019739657640457153, 'regret_mean': 0.00027390223112888634, 'regret_mults': tensor([[240.6278, 251.8591]], device='cuda:0'), 'payment': 1.0007632970809937}\n",
      "{'regret_max': 0.11211104691028595, 'regret_mean': 0.0012907283380627632, 'regret_mults': tensor([[241.7924, 253.0990]], device='cuda:0'), 'payment': 0.9288062453269958}\n",
      "{'regret_max': 0.01755136251449585, 'regret_mean': 0.00019929601694457233, 'regret_mults': tensor([[243.0289, 254.3992]], device='cuda:0'), 'payment': 0.9906547665596008}\n",
      "{'regret_max': 0.013531208038330078, 'regret_mean': 0.0002061517006950453, 'regret_mults': tensor([[244.4001, 255.6550]], device='cuda:0'), 'payment': 0.9969461560249329}\n",
      "{'regret_max': 0.011658668518066406, 'regret_mean': 0.0002083449944620952, 'regret_mults': tensor([[247.0105, 258.1165]], device='cuda:0'), 'payment': 0.9995999336242676}\n",
      "{'regret_max': 0.0461466908454895, 'regret_mean': 0.0009879681747406721, 'regret_mults': tensor([[248.1610, 259.3243]], device='cuda:0'), 'payment': 0.9586035013198853}\n",
      "{'regret_max': 0.012911617755889893, 'regret_mean': 0.00019384417100809515, 'regret_mults': tensor([[249.4502, 260.5253]], device='cuda:0'), 'payment': 0.9944138526916504}\n",
      "{'regret_max': 0.011702775955200195, 'regret_mean': 0.00020031724125146866, 'regret_mults': tensor([[252.0028, 263.0569]], device='cuda:0'), 'payment': 0.9987374544143677}\n",
      "CPU times: user 25min 47s, sys: 3.36 s, total: 25min 51s\n",
      "Wall time: 25min 45s\n"
     ]
    }
   ],
   "source": [
    "%%time\n",
    "mean_rgt, mean_pay, lagr_mults = train_loop(model, train_loader, args, device=device)"
   ]
  },
  {
   "cell_type": "code",
   "execution_count": 6,
   "metadata": {},
   "outputs": [],
   "source": [
    "dir_name = 'regretnet_unit_2x15_0_1_experiment_data/'\n",
    "old_dir_name = 'unit_2x15_0_1_experiment_data/'"
   ]
  },
  {
   "cell_type": "code",
   "execution_count": 8,
   "metadata": {},
   "outputs": [],
   "source": [
    "model = RegretNetUnitDemand.load(dir_name).to(device)"
   ]
  },
  {
   "cell_type": "code",
   "execution_count": 12,
   "metadata": {},
   "outputs": [
    {
     "name": "stderr",
     "output_type": "stream",
     "text": [
      "1it [00:05,  5.35s/it]"
     ]
    },
    {
     "name": "stdout",
     "output_type": "stream",
     "text": [
      "CPU times: user 5.28 s, sys: 53.7 ms, total: 5.33 s\n",
      "Wall time: 5.36 s\n"
     ]
    },
    {
     "name": "stderr",
     "output_type": "stream",
     "text": [
      "\n"
     ]
    },
    {
     "data": {
      "text/plain": [
       "{'payment_mean': 0.9989009499549866,\n",
       " 'regret_mean': 0.0008753506117500365,\n",
       " 'regret_max': 0.0055207014083862305}"
      ]
     },
     "execution_count": 12,
     "metadata": {},
     "output_type": "execute_result"
    }
   ],
   "source": [
    "%%time\n",
    "# model.sinkhorn_rounds = 100\n",
    "# model.sinkhorn_epsilon = 1e-2\n",
    "#test_data = ds.generate_dataset_nxk(args.n_agents, args.n_items, args.test_num_examples, item_ranges).to(device)\n",
    "test_data = torch.load(old_dir_name + 'test_data').to(device=device)\n",
    "cpu_test_data = test_data.clone().to(device='cpu')\n",
    "\n",
    "test_loader = ds.Dataloader(test_data, batch_size=args.test_batch_size, shuffle=True)\n",
    "\n",
    "result = test_loop(model, test_loader, args, device=device)\n",
    "result"
   ]
  },
  {
   "cell_type": "code",
   "execution_count": 13,
   "metadata": {
    "scrolled": true
   },
   "outputs": [
    {
     "name": "stderr",
     "output_type": "stream",
     "text": [
      "1it [00:59, 59.25s/it]"
     ]
    },
    {
     "name": "stdout",
     "output_type": "stream",
     "text": [
      "CPU times: user 58.4 s, sys: 551 ms, total: 59 s\n",
      "Wall time: 59.3 s\n"
     ]
    },
    {
     "name": "stderr",
     "output_type": "stream",
     "text": [
      "\n"
     ]
    },
    {
     "data": {
      "text/plain": [
       "{'payment_mean': 0.9989009499549866,\n",
       " 'regret_mean': 0.0008838622597977519,\n",
       " 'regret_max': 0.005562007427215576}"
      ]
     },
     "execution_count": 13,
     "metadata": {},
     "output_type": "execute_result"
    }
   ],
   "source": [
    "%%time\n",
    "args.test_num_examples = 1000\n",
    "args.test_batch_size = 1000\n",
    "args.test_misreport_iter = 1000\n",
    "args.misreport_lr = 1e-1\n",
    "\n",
    "random_starts = [test_data]\n",
    "for i in range(10):\n",
    "    random_starts.append(ds.generate_dataset_nxk(args.n_agents, args.n_items, args.test_num_examples, item_ranges).to(device))\n",
    "test_loader = ds.Dataloader(test_data, batch_size=args.test_batch_size, shuffle=True)\n",
    "\n",
    "result = test_loop_random_start(model, test_loader, args, random_starts, device=device)\n",
    "result"
   ]
  },
  {
   "cell_type": "code",
   "execution_count": 9,
   "metadata": {},
   "outputs": [],
   "source": [
    "os.makedirs(dir_name, exist_ok=True)\n",
    "model.save(dir_name)"
   ]
  },
  {
   "cell_type": "code",
   "execution_count": 10,
   "metadata": {},
   "outputs": [],
   "source": [
    "import cvxpy as cp\n",
    "import numpy as np\n",
    "from typing import NamedTuple\n",
    "from tqdm.notebook import tqdm"
   ]
  },
  {
   "cell_type": "code",
   "execution_count": 11,
   "metadata": {},
   "outputs": [],
   "source": [
    "class AuctionResult(NamedTuple):\n",
    "    alloc: np.ndarray\n",
    "    welfare: np.ndarray\n",
    "    payment: np.ndarray"
   ]
  },
  {
   "cell_type": "code",
   "execution_count": 12,
   "metadata": {},
   "outputs": [],
   "source": [
    "def max_welfare_alloc(bids_mat, k, exact_demand=False):\n",
    "    # returns allocation, util of allocation\n",
    "\n",
    "    num_agents = bids_mat.shape[0]\n",
    "    num_items = bids_mat.shape[1]\n",
    "    alloc_matrix = cp.Variable((num_agents, num_items), nonneg=True)\n",
    "    item_supply_constraints = cp.sum(alloc_matrix, axis=0) <= 1\n",
    "    if exact_demand:\n",
    "        agent_demand_constraints = cp.sum(alloc_matrix, axis=1) == k\n",
    "    else:\n",
    "        agent_demand_constraints = cp.sum(alloc_matrix, axis=1) <= k\n",
    "    welfare = cp.sum((cp.multiply(bids_mat, alloc_matrix)))\n",
    "    problem = cp.Problem(cp.Maximize(welfare), [item_supply_constraints, agent_demand_constraints])\n",
    "    problem.solve()\n",
    "    return (alloc_matrix.value, problem.value)"
   ]
  },
  {
   "cell_type": "code",
   "execution_count": 13,
   "metadata": {},
   "outputs": [],
   "source": [
    "def vcg_auction(bids_mat, k, exact_demand=False):\n",
    "    main_alloc, max_welfare_total_util = max_welfare_alloc(bids_mat, k, exact_demand=exact_demand)\n",
    "    payments = np.zeros(bids_mat.shape[0])\n",
    "    player_utils = (bids_mat * main_alloc).sum(axis=1)\n",
    "    num_agents = bids_mat.shape[0]\n",
    "    for i in range(num_agents):\n",
    "        dropped_bid_mat = np.delete(bids_mat, (i), axis=0)\n",
    "        dropped_player_utils = np.delete(player_utils, (i), axis=0) # player utils under full auction\n",
    "        new_alloc, new_total_util = max_welfare_alloc(dropped_bid_mat, k, exact_demand=exact_demand)\n",
    "        new_agent_utils = (new_alloc*dropped_bid_mat).sum(axis=1) # player utils without agent i's bid\n",
    "        payments[i] = (new_agent_utils - dropped_player_utils).sum() \n",
    "    return AuctionResult(main_alloc, player_utils, payments)"
   ]
  },
  {
   "cell_type": "code",
   "execution_count": 14,
   "metadata": {},
   "outputs": [],
   "source": [
    "payments = []\n",
    "for i in range(test_data.shape[0]):\n",
    "    payments.append(vcg_auction(cpu_test_data[i].cpu().numpy(), 1, exact_demand=False).payment.sum())"
   ]
  },
  {
   "cell_type": "code",
   "execution_count": 15,
   "metadata": {},
   "outputs": [
    {
     "data": {
      "text/plain": [
       "0.0030129457344362427"
      ]
     },
     "execution_count": 15,
     "metadata": {},
     "output_type": "execute_result"
    }
   ],
   "source": [
    "np.mean(payments)"
   ]
  },
  {
   "cell_type": "code",
   "execution_count": 16,
   "metadata": {},
   "outputs": [],
   "source": [
    "import pickle\n",
    "to_pkl_lst = [mean_rgt, mean_pay, lagr_mults]\n",
    "for i, fname in enumerate(['mean_rgt', 'mean_pay', 'lagr_mults']):\n",
    "    with open(dir_name + fname, 'wb') as fp:\n",
    "        pickle.dump(to_pkl_lst[i], fp)"
   ]
  },
  {
   "cell_type": "code",
   "execution_count": null,
   "metadata": {
    "pycharm": {
     "name": "#%%\n"
    }
   },
   "outputs": [],
   "source": []
  },
  {
   "cell_type": "code",
   "execution_count": null,
   "metadata": {
    "pycharm": {
     "name": "#%%\n"
    }
   },
   "outputs": [],
   "source": []
  }
 ],
 "metadata": {
  "kernelspec": {
   "display_name": "Python 3",
   "language": "python",
   "name": "python3"
  },
  "language_info": {
   "codemirror_mode": {
    "name": "ipython",
    "version": 3
   },
   "file_extension": ".py",
   "mimetype": "text/x-python",
   "name": "python",
   "nbconvert_exporter": "python",
   "pygments_lexer": "ipython3",
   "version": "3.7.4"
  }
 },
 "nbformat": 4,
 "nbformat_minor": 2
}
