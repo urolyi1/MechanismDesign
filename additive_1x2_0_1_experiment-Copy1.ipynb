{
 "cells": [
  {
   "cell_type": "code",
   "execution_count": 1,
   "metadata": {},
   "outputs": [],
   "source": [
    "import torch\n",
    "from torch import nn, optim\n",
    "import torch.nn.functional as F\n",
    "import numpy as np\n",
    "from argparse import ArgumentParser\n",
    "from double_net.double_net import DoubleNet, train_loop, train_loop_no_lagrange, test_loop\n",
    "from double_net import datasets as ds\n",
    "import time\n",
    "import double_net.plot_utils as pu\n",
    "import importlib\n",
    "import matplotlib.pyplot as plt"
   ]
  },
  {
   "cell_type": "code",
   "execution_count": 2,
   "metadata": {},
   "outputs": [],
   "source": [
    "if torch.cuda.is_available():\n",
    "    device = 'cuda'\n",
    "else:\n",
    "    device = 'cpu'"
   ]
  },
  {
   "cell_type": "code",
   "execution_count": 3,
   "metadata": {},
   "outputs": [
    {
     "data": {
      "text/plain": [
       "'cuda'"
      ]
     },
     "execution_count": 3,
     "metadata": {},
     "output_type": "execute_result"
    }
   ],
   "source": [
    "device"
   ]
  },
  {
   "cell_type": "code",
   "execution_count": 4,
   "metadata": {},
   "outputs": [
    {
     "data": {
      "text/plain": [
       "Namespace(batch_size=4096, lagr_update_iter=30, misreport_iter=25, misreport_lr=0.1, model_lr=0.001, n_agents=1, n_items=2, num_epochs=80, num_examples=524288, random_seed=0, rgt_start=0, rho=1.0, rho_incr_amount=1.0, rho_incr_iter=2, sinkhorn_epsilon=0.05, sinkhorn_rounds=10, test_batch_size=4096, test_iter=5, test_misreport_iter=2000, test_num_examples=16384)"
      ]
     },
     "execution_count": 4,
     "metadata": {},
     "output_type": "execute_result"
    }
   ],
   "source": [
    "parser = ArgumentParser()\n",
    "parser.add_argument('--random-seed', type=int, default=0)\n",
    "parser.add_argument('--num-examples', type=int, default=131072 * 4)\n",
    "parser.add_argument('--test-num-examples', type=int, default=2048 * 8)\n",
    "parser.add_argument('--test-iter', type=int, default=5)\n",
    "parser.add_argument('--n-agents', type=int, default=1)\n",
    "parser.add_argument('--n-items', type=int, default=2)\n",
    "parser.add_argument('--num-epochs', type=int, default=80)\n",
    "parser.add_argument('--batch-size', type=int, default=128 * 32)\n",
    "parser.add_argument('--test-batch-size', type=int, default=4096)\n",
    "parser.add_argument('--model-lr', type=float, default=1e-3)\n",
    "parser.add_argument('--misreport-lr', type=float, default=1e-1)\n",
    "parser.add_argument('--misreport-iter', type=int, default=25)\n",
    "parser.add_argument('--test-misreport-iter', type=int, default=2000)\n",
    "parser.add_argument('--rho', type=float, default=1.0)\n",
    "parser.add_argument('--rho-incr-iter', type=int, default=2)\n",
    "parser.add_argument('--rho-incr-amount', type=float, default=1.0)\n",
    "parser.add_argument('--lagr-update-iter', type=int, default=30)\n",
    "parser.add_argument('--rgt-start', type=int, default=0)\n",
    "parser.add_argument('--sinkhorn-epsilon', type=float, default=5e-2)\n",
    "parser.add_argument('--sinkhorn-rounds', type=int, default=10)\n",
    "\n",
    "dataset_name = \"\"\n",
    "args = parser.parse_args(args=[])\n",
    "args"
   ]
  },
  {
   "cell_type": "code",
   "execution_count": 5,
   "metadata": {},
   "outputs": [],
   "source": [
    "torch.manual_seed(args.random_seed)\n",
    "np.random.seed(args.random_seed)\n",
    "\n",
    "item_ranges = ds.preset_valuation_range(args.n_agents, args.n_items, dataset_name)\n",
    "\n",
    "model = DoubleNet(\n",
    "    args.n_agents, args.n_items, item_ranges, args.sinkhorn_epsilon, args.sinkhorn_rounds, marginal_choice='additive'\n",
    ").to(device)\n",
    "\n",
    "train_data = ds.generate_dataset_nxk(args.n_agents, args.n_items, args.num_examples, item_ranges).to(device)\n",
    "train_loader = ds.Dataloader(train_data, batch_size=args.batch_size, shuffle=True)"
   ]
  },
  {
   "cell_type": "code",
   "execution_count": 6,
   "metadata": {},
   "outputs": [
    {
     "name": "stderr",
     "output_type": "stream",
     "text": [
      "  1%|▏         | 1/80 [00:36<47:40, 36.21s/it]"
     ]
    },
    {
     "name": "stdout",
     "output_type": "stream",
     "text": [
      "{'regret_max': 0.5529031753540039, 'regret_mean': 0.014120207168161869, 'regret_,ults': tensor([[5.8699]], device='cuda:0'), 'payment': 0.4618889391422272}\n"
     ]
    },
    {
     "name": "stderr",
     "output_type": "stream",
     "text": [
      "\r",
      "  2%|▎         | 2/80 [01:11<46:47, 35.99s/it]"
     ]
    },
    {
     "name": "stdout",
     "output_type": "stream",
     "text": [
      "{'regret_max': 0.07803407311439514, 'regret_mean': 0.005194738507270813, 'regret_,ults': tensor([[7.5627]], device='cuda:0'), 'payment': 0.5432776212692261}\n"
     ]
    },
    {
     "name": "stderr",
     "output_type": "stream",
     "text": [
      "\r",
      "  4%|▍         | 3/80 [01:47<46:08, 35.95s/it]"
     ]
    },
    {
     "name": "stdout",
     "output_type": "stream",
     "text": [
      "{'regret_max': 0.05131959915161133, 'regret_mean': 0.004044273868203163, 'regret_,ults': tensor([[9.9265]], device='cuda:0'), 'payment': 0.5428130626678467}\n"
     ]
    },
    {
     "name": "stderr",
     "output_type": "stream",
     "text": [
      "\r",
      "  5%|▌         | 4/80 [02:23<45:40, 36.05s/it]"
     ]
    },
    {
     "name": "stdout",
     "output_type": "stream",
     "text": [
      "{'regret_max': 0.05640590190887451, 'regret_mean': 0.0031839674338698387, 'regret_,ults': tensor([[13.0981]], device='cuda:0'), 'payment': 0.5388477444648743}\n"
     ]
    },
    {
     "name": "stderr",
     "output_type": "stream",
     "text": [
      "\r",
      "  6%|▋         | 5/80 [02:59<44:51, 35.89s/it]"
     ]
    },
    {
     "name": "stdout",
     "output_type": "stream",
     "text": [
      "{'regret_max': 0.03829169273376465, 'regret_mean': 0.002469949424266815, 'regret_,ults': tensor([[16.2401]], device='cuda:0'), 'payment': 0.5342361330986023}\n"
     ]
    },
    {
     "name": "stderr",
     "output_type": "stream",
     "text": [
      "\r",
      "  8%|▊         | 6/80 [03:34<44:06, 35.77s/it]"
     ]
    },
    {
     "name": "stdout",
     "output_type": "stream",
     "text": [
      "{'regret_max': 0.048864126205444336, 'regret_mean': 0.0019422867335379124, 'regret_,ults': tensor([[18.4995]], device='cuda:0'), 'payment': 0.5313857793807983}\n"
     ]
    },
    {
     "name": "stderr",
     "output_type": "stream",
     "text": [
      "\r",
      "  9%|▉         | 7/80 [04:10<43:29, 35.75s/it]"
     ]
    },
    {
     "name": "stdout",
     "output_type": "stream",
     "text": [
      "{'regret_max': 0.03607207536697388, 'regret_mean': 0.0020135275553911924, 'regret_,ults': tensor([[20.8599]], device='cuda:0'), 'payment': 0.5294225811958313}\n"
     ]
    },
    {
     "name": "stderr",
     "output_type": "stream",
     "text": [
      "\r",
      " 10%|█         | 8/80 [04:45<42:41, 35.58s/it]"
     ]
    },
    {
     "name": "stdout",
     "output_type": "stream",
     "text": [
      "{'regret_max': 0.023743867874145508, 'regret_mean': 0.0014743705978617072, 'regret_,ults': tensor([[25.1705]], device='cuda:0'), 'payment': 0.5280948877334595}\n"
     ]
    },
    {
     "name": "stderr",
     "output_type": "stream",
     "text": [
      "\r",
      " 11%|█▏        | 9/80 [05:21<42:16, 35.72s/it]"
     ]
    },
    {
     "name": "stdout",
     "output_type": "stream",
     "text": [
      "{'regret_max': 0.018593549728393555, 'regret_mean': 0.0012086040806025267, 'regret_,ults': tensor([[27.8857]], device='cuda:0'), 'payment': 0.5287677049636841}\n"
     ]
    },
    {
     "name": "stderr",
     "output_type": "stream",
     "text": [
      "\r",
      " 12%|█▎        | 10/80 [05:57<41:39, 35.70s/it]"
     ]
    },
    {
     "name": "stdout",
     "output_type": "stream",
     "text": [
      "{'regret_max': 0.018064260482788086, 'regret_mean': 0.001185651053674519, 'regret_,ults': tensor([[29.8185]], device='cuda:0'), 'payment': 0.5279446840286255}\n"
     ]
    },
    {
     "name": "stderr",
     "output_type": "stream",
     "text": [
      "\r",
      " 14%|█▍        | 11/80 [06:32<40:57, 35.61s/it]"
     ]
    },
    {
     "name": "stdout",
     "output_type": "stream",
     "text": [
      "{'regret_max': 0.0167236328125, 'regret_mean': 0.0009802094427868724, 'regret_,ults': tensor([[33.0619]], device='cuda:0'), 'payment': 0.52926105260849}\n"
     ]
    },
    {
     "name": "stderr",
     "output_type": "stream",
     "text": [
      "\r",
      " 15%|█▌        | 12/80 [07:08<40:12, 35.48s/it]"
     ]
    },
    {
     "name": "stdout",
     "output_type": "stream",
     "text": [
      "{'regret_max': 0.016022324562072754, 'regret_mean': 0.0007752997917123139, 'regret_,ults': tensor([[35.6168]], device='cuda:0'), 'payment': 0.5292091369628906}\n"
     ]
    },
    {
     "name": "stderr",
     "output_type": "stream",
     "text": [
      "\r",
      " 16%|█▋        | 13/80 [07:43<39:37, 35.48s/it]"
     ]
    },
    {
     "name": "stdout",
     "output_type": "stream",
     "text": [
      "{'regret_max': 0.011065363883972168, 'regret_mean': 0.0006351876072585583, 'regret_,ults': tensor([[37.1481]], device='cuda:0'), 'payment': 0.5301740765571594}\n"
     ]
    },
    {
     "name": "stderr",
     "output_type": "stream",
     "text": [
      "\r",
      " 18%|█▊        | 14/80 [08:18<38:56, 35.41s/it]"
     ]
    },
    {
     "name": "stdout",
     "output_type": "stream",
     "text": [
      "{'regret_max': 0.011232435703277588, 'regret_mean': 0.0006310881581157446, 'regret_,ults': tensor([[39.2733]], device='cuda:0'), 'payment': 0.5302718877792358}\n"
     ]
    },
    {
     "name": "stderr",
     "output_type": "stream",
     "text": [
      "\r",
      " 19%|█▉        | 15/80 [08:54<38:21, 35.40s/it]"
     ]
    },
    {
     "name": "stdout",
     "output_type": "stream",
     "text": [
      "{'regret_max': 0.012389063835144043, 'regret_mean': 0.0005821480299346149, 'regret_,ults': tensor([[42.2916]], device='cuda:0'), 'payment': 0.5325024127960205}\n"
     ]
    },
    {
     "name": "stderr",
     "output_type": "stream",
     "text": [
      "\r",
      " 20%|██        | 16/80 [09:29<37:45, 35.40s/it]"
     ]
    },
    {
     "name": "stdout",
     "output_type": "stream",
     "text": [
      "{'regret_max': 0.010187506675720215, 'regret_mean': 0.0004963892861269414, 'regret_,ults': tensor([[43.7568]], device='cuda:0'), 'payment': 0.5321387052536011}\n"
     ]
    },
    {
     "name": "stderr",
     "output_type": "stream",
     "text": [
      "\r",
      " 21%|██▏       | 17/80 [10:04<37:09, 35.38s/it]"
     ]
    },
    {
     "name": "stdout",
     "output_type": "stream",
     "text": [
      "{'regret_max': 0.009659051895141602, 'regret_mean': 0.0005149388452991843, 'regret_,ults': tensor([[45.2105]], device='cuda:0'), 'payment': 0.5306624174118042}\n"
     ]
    },
    {
     "name": "stderr",
     "output_type": "stream",
     "text": [
      "\r",
      " 22%|██▎       | 18/80 [10:40<36:38, 35.46s/it]"
     ]
    },
    {
     "name": "stdout",
     "output_type": "stream",
     "text": [
      "{'regret_max': 0.011746466159820557, 'regret_mean': 0.00043608949636109173, 'regret_,ults': tensor([[46.7429]], device='cuda:0'), 'payment': 0.5318915843963623}\n"
     ]
    },
    {
     "name": "stderr",
     "output_type": "stream",
     "text": [
      "\r",
      " 24%|██▍       | 19/80 [11:15<35:55, 35.34s/it]"
     ]
    },
    {
     "name": "stdout",
     "output_type": "stream",
     "text": [
      "{'regret_max': 0.00872504711151123, 'regret_mean': 0.0003844789753202349, 'regret_,ults': tensor([[48.5848]], device='cuda:0'), 'payment': 0.5325602293014526}\n"
     ]
    },
    {
     "name": "stderr",
     "output_type": "stream",
     "text": [
      "\r",
      " 25%|██▌       | 20/80 [11:50<35:21, 35.37s/it]"
     ]
    },
    {
     "name": "stdout",
     "output_type": "stream",
     "text": [
      "{'regret_max': 0.009974062442779541, 'regret_mean': 0.0003734719648491591, 'regret_,ults': tensor([[50.4545]], device='cuda:0'), 'payment': 0.5324583053588867}\n"
     ]
    },
    {
     "name": "stderr",
     "output_type": "stream",
     "text": [
      "\r",
      " 26%|██▋       | 21/80 [12:26<34:57, 35.55s/it]"
     ]
    },
    {
     "name": "stdout",
     "output_type": "stream",
     "text": [
      "{'regret_max': 0.010802984237670898, 'regret_mean': 0.00036000300315208733, 'regret_,ults': tensor([[53.6358]], device='cuda:0'), 'payment': 0.5307590961456299}\n"
     ]
    },
    {
     "name": "stderr",
     "output_type": "stream",
     "text": [
      "\r",
      " 28%|██▊       | 22/80 [13:02<34:19, 35.51s/it]"
     ]
    },
    {
     "name": "stdout",
     "output_type": "stream",
     "text": [
      "{'regret_max': 0.010015726089477539, 'regret_mean': 0.000380659505026415, 'regret_,ults': tensor([[55.5770]], device='cuda:0'), 'payment': 0.5311190485954285}\n"
     ]
    },
    {
     "name": "stderr",
     "output_type": "stream",
     "text": [
      "\r",
      " 29%|██▉       | 23/80 [13:37<33:38, 35.42s/it]"
     ]
    },
    {
     "name": "stdout",
     "output_type": "stream",
     "text": [
      "{'regret_max': 0.00793534517288208, 'regret_mean': 0.0002894990611821413, 'regret_,ults': tensor([[57.4140]], device='cuda:0'), 'payment': 0.5336016416549683}\n"
     ]
    },
    {
     "name": "stderr",
     "output_type": "stream",
     "text": [
      "\r",
      " 30%|███       | 24/80 [14:12<33:01, 35.38s/it]"
     ]
    },
    {
     "name": "stdout",
     "output_type": "stream",
     "text": [
      "{'regret_max': 0.009882509708404541, 'regret_mean': 0.000351987371686846, 'regret_,ults': tensor([[58.7234]], device='cuda:0'), 'payment': 0.5329045057296753}\n"
     ]
    },
    {
     "name": "stderr",
     "output_type": "stream",
     "text": [
      "\r",
      " 31%|███▏      | 25/80 [14:48<32:21, 35.31s/it]"
     ]
    },
    {
     "name": "stdout",
     "output_type": "stream",
     "text": [
      "{'regret_max': 0.009506940841674805, 'regret_mean': 0.0003395895182620734, 'regret_,ults': tensor([[60.3511]], device='cuda:0'), 'payment': 0.5335543751716614}\n"
     ]
    },
    {
     "name": "stderr",
     "output_type": "stream",
     "text": [
      "\r",
      " 32%|███▎      | 26/80 [15:23<31:51, 35.40s/it]"
     ]
    },
    {
     "name": "stdout",
     "output_type": "stream",
     "text": [
      "{'regret_max': 0.009193956851959229, 'regret_mean': 0.0002904958091676235, 'regret_,ults': tensor([[61.4697]], device='cuda:0'), 'payment': 0.5339443683624268}\n"
     ]
    },
    {
     "name": "stderr",
     "output_type": "stream",
     "text": [
      "\r",
      " 34%|███▍      | 27/80 [15:59<31:17, 35.42s/it]"
     ]
    },
    {
     "name": "stdout",
     "output_type": "stream",
     "text": [
      "{'regret_max': 0.009445250034332275, 'regret_mean': 0.00026163848815485835, 'regret_,ults': tensor([[63.9818]], device='cuda:0'), 'payment': 0.5344236493110657}\n"
     ]
    },
    {
     "name": "stderr",
     "output_type": "stream",
     "text": [
      "\r",
      " 35%|███▌      | 28/80 [16:34<30:34, 35.28s/it]"
     ]
    },
    {
     "name": "stdout",
     "output_type": "stream",
     "text": [
      "{'regret_max': 0.010728240013122559, 'regret_mean': 0.0002751254360191524, 'regret_,ults': tensor([[66.9802]], device='cuda:0'), 'payment': 0.5345418453216553}\n"
     ]
    },
    {
     "name": "stderr",
     "output_type": "stream",
     "text": [
      "\r",
      " 36%|███▋      | 29/80 [17:09<29:58, 35.26s/it]"
     ]
    },
    {
     "name": "stdout",
     "output_type": "stream",
     "text": [
      "{'regret_max': 0.010023713111877441, 'regret_mean': 0.00028177376952953637, 'regret_,ults': tensor([[69.0162]], device='cuda:0'), 'payment': 0.5336803793907166}\n"
     ]
    },
    {
     "name": "stderr",
     "output_type": "stream",
     "text": [
      "\r",
      " 38%|███▊      | 30/80 [17:44<29:27, 35.35s/it]"
     ]
    },
    {
     "name": "stdout",
     "output_type": "stream",
     "text": [
      "{'regret_max': 0.009147465229034424, 'regret_mean': 0.00025545511743985116, 'regret_,ults': tensor([[71.6155]], device='cuda:0'), 'payment': 0.5350079536437988}\n"
     ]
    },
    {
     "name": "stderr",
     "output_type": "stream",
     "text": [
      "\r",
      " 39%|███▉      | 31/80 [18:19<28:48, 35.27s/it]"
     ]
    },
    {
     "name": "stdout",
     "output_type": "stream",
     "text": [
      "{'regret_max': 0.008435487747192383, 'regret_mean': 0.00028331828070804477, 'regret_,ults': tensor([[74.5607]], device='cuda:0'), 'payment': 0.5357389450073242}\n"
     ]
    },
    {
     "name": "stderr",
     "output_type": "stream",
     "text": [
      "\r",
      " 40%|████      | 32/80 [18:54<28:07, 35.16s/it]"
     ]
    },
    {
     "name": "stdout",
     "output_type": "stream",
     "text": [
      "{'regret_max': 0.010226845741271973, 'regret_mean': 0.0002884517307393253, 'regret_,ults': tensor([[76.6145]], device='cuda:0'), 'payment': 0.5336875319480896}\n"
     ]
    },
    {
     "name": "stderr",
     "output_type": "stream",
     "text": [
      "\r",
      " 41%|████▏     | 33/80 [19:29<27:28, 35.08s/it]"
     ]
    },
    {
     "name": "stdout",
     "output_type": "stream",
     "text": [
      "{'regret_max': 0.008559167385101318, 'regret_mean': 0.00022030092077329755, 'regret_,ults': tensor([[78.3042]], device='cuda:0'), 'payment': 0.5357166528701782}\n"
     ]
    },
    {
     "name": "stderr",
     "output_type": "stream",
     "text": [
      "\r",
      " 42%|████▎     | 34/80 [20:04<26:48, 34.98s/it]"
     ]
    },
    {
     "name": "stdout",
     "output_type": "stream",
     "text": [
      "{'regret_max': 0.009626388549804688, 'regret_mean': 0.0002646208449732512, 'regret_,ults': tensor([[80.1957]], device='cuda:0'), 'payment': 0.5331249237060547}\n"
     ]
    },
    {
     "name": "stderr",
     "output_type": "stream",
     "text": [
      "\r",
      " 44%|████▍     | 35/80 [20:39<26:18, 35.07s/it]"
     ]
    },
    {
     "name": "stdout",
     "output_type": "stream",
     "text": [
      "{'regret_max': 0.009503662586212158, 'regret_mean': 0.0002176749549107626, 'regret_,ults': tensor([[82.3901]], device='cuda:0'), 'payment': 0.5364992618560791}\n"
     ]
    },
    {
     "name": "stderr",
     "output_type": "stream",
     "text": [
      "\r",
      " 45%|████▌     | 36/80 [21:14<25:45, 35.12s/it]"
     ]
    },
    {
     "name": "stdout",
     "output_type": "stream",
     "text": [
      "{'regret_max': 0.009728968143463135, 'regret_mean': 0.00023473519831895828, 'regret_,ults': tensor([[84.2750]], device='cuda:0'), 'payment': 0.5353432893753052}\n"
     ]
    },
    {
     "name": "stderr",
     "output_type": "stream",
     "text": [
      "\r",
      " 46%|████▋     | 37/80 [21:49<25:06, 35.04s/it]"
     ]
    },
    {
     "name": "stdout",
     "output_type": "stream",
     "text": [
      "{'regret_max': 0.009067535400390625, 'regret_mean': 0.00022681080736219883, 'regret_,ults': tensor([[86.7577]], device='cuda:0'), 'payment': 0.5353418588638306}\n"
     ]
    },
    {
     "name": "stderr",
     "output_type": "stream",
     "text": [
      "\r",
      " 48%|████▊     | 38/80 [22:25<24:38, 35.20s/it]"
     ]
    },
    {
     "name": "stdout",
     "output_type": "stream",
     "text": [
      "{'regret_max': 0.00964432954788208, 'regret_mean': 0.00019567561685107648, 'regret_,ults': tensor([[88.8793]], device='cuda:0'), 'payment': 0.5359991788864136}\n"
     ]
    },
    {
     "name": "stderr",
     "output_type": "stream",
     "text": [
      "\r",
      " 49%|████▉     | 39/80 [23:00<23:59, 35.10s/it]"
     ]
    },
    {
     "name": "stdout",
     "output_type": "stream",
     "text": [
      "{'regret_max': 0.0122605562210083, 'regret_mean': 0.00023134530056267977, 'regret_,ults': tensor([[91.2349]], device='cuda:0'), 'payment': 0.5343466997146606}\n"
     ]
    },
    {
     "name": "stderr",
     "output_type": "stream",
     "text": [
      "\r",
      " 50%|█████     | 40/80 [23:35<23:20, 35.02s/it]"
     ]
    },
    {
     "name": "stdout",
     "output_type": "stream",
     "text": [
      "{'regret_max': 0.012278437614440918, 'regret_mean': 0.00021117946016602218, 'regret_,ults': tensor([[94.2965]], device='cuda:0'), 'payment': 0.5342555642127991}\n"
     ]
    },
    {
     "name": "stderr",
     "output_type": "stream",
     "text": [
      "\r",
      " 51%|█████▏    | 41/80 [24:10<22:47, 35.08s/it]"
     ]
    },
    {
     "name": "stdout",
     "output_type": "stream",
     "text": [
      "{'regret_max': 0.010915100574493408, 'regret_mean': 0.0002317358594154939, 'regret_,ults': tensor([[96.9612]], device='cuda:0'), 'payment': 0.5339165329933167}\n"
     ]
    },
    {
     "name": "stderr",
     "output_type": "stream",
     "text": [
      "\r",
      " 52%|█████▎    | 42/80 [24:44<22:08, 34.97s/it]"
     ]
    },
    {
     "name": "stdout",
     "output_type": "stream",
     "text": [
      "{'regret_max': 0.011359035968780518, 'regret_mean': 0.00015781589900143445, 'regret_,ults': tensor([[99.0172]], device='cuda:0'), 'payment': 0.5358151197433472}\n"
     ]
    },
    {
     "name": "stderr",
     "output_type": "stream",
     "text": [
      "\r",
      " 54%|█████▍    | 43/80 [25:20<21:34, 34.99s/it]"
     ]
    },
    {
     "name": "stdout",
     "output_type": "stream",
     "text": [
      "{'regret_max': 0.00930088758468628, 'regret_mean': 0.00021270086290314794, 'regret_,ults': tensor([[100.8066]], device='cuda:0'), 'payment': 0.5337192416191101}\n"
     ]
    },
    {
     "name": "stderr",
     "output_type": "stream",
     "text": [
      "\r",
      " 55%|█████▌    | 44/80 [25:54<20:59, 34.97s/it]"
     ]
    },
    {
     "name": "stdout",
     "output_type": "stream",
     "text": [
      "{'regret_max': 0.010062575340270996, 'regret_mean': 0.00018133549019694328, 'regret_,ults': tensor([[102.4824]], device='cuda:0'), 'payment': 0.5346373319625854}\n"
     ]
    },
    {
     "name": "stderr",
     "output_type": "stream",
     "text": [
      "\r",
      " 56%|█████▋    | 45/80 [26:29<20:22, 34.94s/it]"
     ]
    },
    {
     "name": "stdout",
     "output_type": "stream",
     "text": [
      "{'regret_max': 0.011860132217407227, 'regret_mean': 0.00021954672411084175, 'regret_,ults': tensor([[106.8860]], device='cuda:0'), 'payment': 0.5339328050613403}\n"
     ]
    },
    {
     "name": "stderr",
     "output_type": "stream",
     "text": [
      "\r",
      " 57%|█████▊    | 46/80 [27:04<19:46, 34.91s/it]"
     ]
    },
    {
     "name": "stdout",
     "output_type": "stream",
     "text": [
      "{'regret_max': 0.008768618106842041, 'regret_mean': 0.00022184701811056584, 'regret_,ults': tensor([[110.1030]], device='cuda:0'), 'payment': 0.5330172181129456}\n"
     ]
    },
    {
     "name": "stderr",
     "output_type": "stream",
     "text": [
      "\r",
      " 59%|█████▉    | 47/80 [27:39<19:10, 34.87s/it]"
     ]
    },
    {
     "name": "stdout",
     "output_type": "stream",
     "text": [
      "{'regret_max': 0.008788526058197021, 'regret_mean': 0.00016628198500256985, 'regret_,ults': tensor([[112.0672]], device='cuda:0'), 'payment': 0.5330873727798462}\n"
     ]
    },
    {
     "name": "stderr",
     "output_type": "stream",
     "text": [
      "\r",
      " 60%|██████    | 48/80 [28:14<18:35, 34.87s/it]"
     ]
    },
    {
     "name": "stdout",
     "output_type": "stream",
     "text": [
      "{'regret_max': 0.008143186569213867, 'regret_mean': 0.00015857096877880394, 'regret_,ults': tensor([[114.3111]], device='cuda:0'), 'payment': 0.5344979763031006}\n"
     ]
    },
    {
     "name": "stderr",
     "output_type": "stream",
     "text": [
      "\r",
      " 61%|██████▏   | 49/80 [28:50<18:08, 35.12s/it]"
     ]
    },
    {
     "name": "stdout",
     "output_type": "stream",
     "text": [
      "{'regret_max': 0.00844728946685791, 'regret_mean': 0.00014106265734881163, 'regret_,ults': tensor([[116.9149]], device='cuda:0'), 'payment': 0.5346194505691528}\n"
     ]
    },
    {
     "name": "stderr",
     "output_type": "stream",
     "text": [
      "\r",
      " 62%|██████▎   | 50/80 [29:25<17:36, 35.21s/it]"
     ]
    },
    {
     "name": "stdout",
     "output_type": "stream",
     "text": [
      "{'regret_max': 0.01055079698562622, 'regret_mean': 0.00018525455379858613, 'regret_,ults': tensor([[118.3460]], device='cuda:0'), 'payment': 0.5326031446456909}\n"
     ]
    },
    {
     "name": "stderr",
     "output_type": "stream",
     "text": [
      "\r",
      " 64%|██████▍   | 51/80 [30:00<16:58, 35.13s/it]"
     ]
    },
    {
     "name": "stdout",
     "output_type": "stream",
     "text": [
      "{'regret_max': 0.008769810199737549, 'regret_mean': 0.00013549032155424356, 'regret_,ults': tensor([[121.3262]], device='cuda:0'), 'payment': 0.5344223380088806}\n"
     ]
    },
    {
     "name": "stderr",
     "output_type": "stream",
     "text": [
      "\r",
      " 65%|██████▌   | 52/80 [30:35<16:23, 35.14s/it]"
     ]
    },
    {
     "name": "stdout",
     "output_type": "stream",
     "text": [
      "{'regret_max': 0.00794374942779541, 'regret_mean': 0.00020537566160783172, 'regret_,ults': tensor([[124.9165]], device='cuda:0'), 'payment': 0.5321763753890991}\n"
     ]
    },
    {
     "name": "stderr",
     "output_type": "stream",
     "text": [
      "\r",
      " 66%|██████▋   | 53/80 [31:10<15:49, 35.18s/it]"
     ]
    },
    {
     "name": "stdout",
     "output_type": "stream",
     "text": [
      "{'regret_max': 0.008688926696777344, 'regret_mean': 0.00017146441678050905, 'regret_,ults': tensor([[128.1344]], device='cuda:0'), 'payment': 0.5308710336685181}\n"
     ]
    },
    {
     "name": "stderr",
     "output_type": "stream",
     "text": [
      "\r",
      " 68%|██████▊   | 54/80 [31:45<15:09, 34.97s/it]"
     ]
    },
    {
     "name": "stdout",
     "output_type": "stream",
     "text": [
      "{'regret_max': 0.00772404670715332, 'regret_mean': 0.00011937748786294833, 'regret_,ults': tensor([[130.4543]], device='cuda:0'), 'payment': 0.533206582069397}\n"
     ]
    },
    {
     "name": "stderr",
     "output_type": "stream",
     "text": [
      "\r",
      " 69%|██████▉   | 55/80 [32:19<14:32, 34.89s/it]"
     ]
    },
    {
     "name": "stdout",
     "output_type": "stream",
     "text": [
      "{'regret_max': 0.008421003818511963, 'regret_mean': 0.00012022599548799917, 'regret_,ults': tensor([[131.7058]], device='cuda:0'), 'payment': 0.5347685813903809}\n"
     ]
    },
    {
     "name": "stderr",
     "output_type": "stream",
     "text": [
      "\r",
      " 70%|███████   | 56/80 [32:54<13:55, 34.82s/it]"
     ]
    },
    {
     "name": "stdout",
     "output_type": "stream",
     "text": [
      "{'regret_max': 0.010308265686035156, 'regret_mean': 0.00017203651077579707, 'regret_,ults': tensor([[134.1245]], device='cuda:0'), 'payment': 0.5318043828010559}\n"
     ]
    },
    {
     "name": "stderr",
     "output_type": "stream",
     "text": [
      "\r",
      " 71%|███████▏  | 57/80 [33:29<13:17, 34.68s/it]"
     ]
    },
    {
     "name": "stdout",
     "output_type": "stream",
     "text": [
      "{'regret_max': 0.007637441158294678, 'regret_mean': 0.00013774982653558254, 'regret_,ults': tensor([[135.6615]], device='cuda:0'), 'payment': 0.5332939028739929}\n"
     ]
    },
    {
     "name": "stderr",
     "output_type": "stream",
     "text": [
      "\r",
      " 72%|███████▎  | 58/80 [34:03<12:41, 34.60s/it]"
     ]
    },
    {
     "name": "stdout",
     "output_type": "stream",
     "text": [
      "{'regret_max': 0.00919044017791748, 'regret_mean': 0.00013039204350207, 'regret_,ults': tensor([[137.2007]], device='cuda:0'), 'payment': 0.532591700553894}\n"
     ]
    },
    {
     "name": "stderr",
     "output_type": "stream",
     "text": [
      "\r",
      " 74%|███████▍  | 59/80 [34:37<12:04, 34.49s/it]"
     ]
    },
    {
     "name": "stdout",
     "output_type": "stream",
     "text": [
      "{'regret_max': 0.008532941341400146, 'regret_mean': 0.00011584216554183513, 'regret_,ults': tensor([[138.5644]], device='cuda:0'), 'payment': 0.5340332388877869}\n"
     ]
    },
    {
     "name": "stderr",
     "output_type": "stream",
     "text": [
      "\r",
      " 75%|███████▌  | 60/80 [35:12<11:30, 34.51s/it]"
     ]
    },
    {
     "name": "stdout",
     "output_type": "stream",
     "text": [
      "{'regret_max': 0.008401572704315186, 'regret_mean': 0.00011322293721605092, 'regret_,ults': tensor([[140.0605]], device='cuda:0'), 'payment': 0.5339240431785583}\n"
     ]
    },
    {
     "name": "stderr",
     "output_type": "stream",
     "text": [
      "\r",
      " 76%|███████▋  | 61/80 [35:46<10:56, 34.54s/it]"
     ]
    },
    {
     "name": "stdout",
     "output_type": "stream",
     "text": [
      "{'regret_max': 0.008299529552459717, 'regret_mean': 0.00013612318434752524, 'regret_,ults': tensor([[143.6735]], device='cuda:0'), 'payment': 0.5321854948997498}\n"
     ]
    },
    {
     "name": "stderr",
     "output_type": "stream",
     "text": [
      "\r",
      " 78%|███████▊  | 62/80 [36:21<10:22, 34.58s/it]"
     ]
    },
    {
     "name": "stdout",
     "output_type": "stream",
     "text": [
      "{'regret_max': 0.007546186447143555, 'regret_mean': 0.00013968005077913404, 'regret_,ults': tensor([[145.4725]], device='cuda:0'), 'payment': 0.531889021396637}\n"
     ]
    },
    {
     "name": "stderr",
     "output_type": "stream",
     "text": [
      "\r",
      " 79%|███████▉  | 63/80 [36:56<09:48, 34.60s/it]"
     ]
    },
    {
     "name": "stdout",
     "output_type": "stream",
     "text": [
      "{'regret_max': 0.006594836711883545, 'regret_mean': 0.00011884542618645355, 'regret_,ults': tensor([[146.6716]], device='cuda:0'), 'payment': 0.5333112478256226}\n"
     ]
    },
    {
     "name": "stderr",
     "output_type": "stream",
     "text": [
      "\r",
      " 80%|████████  | 64/80 [37:30<09:12, 34.50s/it]"
     ]
    },
    {
     "name": "stdout",
     "output_type": "stream",
     "text": [
      "{'regret_max': 0.007625281810760498, 'regret_mean': 0.00013028996181674302, 'regret_,ults': tensor([[149.3451]], device='cuda:0'), 'payment': 0.5309416055679321}\n"
     ]
    },
    {
     "name": "stderr",
     "output_type": "stream",
     "text": [
      "\r",
      " 81%|████████▏ | 65/80 [38:04<08:36, 34.44s/it]"
     ]
    },
    {
     "name": "stdout",
     "output_type": "stream",
     "text": [
      "{'regret_max': 0.008306145668029785, 'regret_mean': 0.000128746876725927, 'regret_,ults': tensor([[151.2300]], device='cuda:0'), 'payment': 0.532799482345581}\n"
     ]
    },
    {
     "name": "stderr",
     "output_type": "stream",
     "text": [
      "\r",
      " 82%|████████▎ | 66/80 [38:39<08:02, 34.44s/it]"
     ]
    },
    {
     "name": "stdout",
     "output_type": "stream",
     "text": [
      "{'regret_max': 0.011024415493011475, 'regret_mean': 0.00015645587700419128, 'regret_,ults': tensor([[155.7309]], device='cuda:0'), 'payment': 0.5303645133972168}\n"
     ]
    },
    {
     "name": "stderr",
     "output_type": "stream",
     "text": [
      "\r",
      " 84%|████████▍ | 67/80 [39:13<07:26, 34.38s/it]"
     ]
    },
    {
     "name": "stdout",
     "output_type": "stream",
     "text": [
      "{'regret_max': 0.012826323509216309, 'regret_mean': 0.00015479449939448386, 'regret_,ults': tensor([[157.6509]], device='cuda:0'), 'payment': 0.5306333303451538}\n"
     ]
    },
    {
     "name": "stderr",
     "output_type": "stream",
     "text": [
      "\r",
      " 85%|████████▌ | 68/80 [39:47<06:51, 34.32s/it]"
     ]
    },
    {
     "name": "stdout",
     "output_type": "stream",
     "text": [
      "{'regret_max': 0.00681757926940918, 'regret_mean': 0.00010111671872437, 'regret_,ults': tensor([[159.4534]], device='cuda:0'), 'payment': 0.5318573713302612}\n"
     ]
    },
    {
     "name": "stderr",
     "output_type": "stream",
     "text": [
      "\r",
      " 86%|████████▋ | 69/80 [40:22<06:17, 34.36s/it]"
     ]
    },
    {
     "name": "stdout",
     "output_type": "stream",
     "text": [
      "{'regret_max': 0.09840917587280273, 'regret_mean': 0.0011783961672335863, 'regret_,ults': tensor([[167.2567]], device='cuda:0'), 'payment': 0.5277252197265625}\n"
     ]
    },
    {
     "name": "stderr",
     "output_type": "stream",
     "text": [
      "\r",
      " 88%|████████▊ | 70/80 [40:56<05:43, 34.31s/it]"
     ]
    },
    {
     "name": "stdout",
     "output_type": "stream",
     "text": [
      "{'regret_max': 0.006951391696929932, 'regret_mean': 7.071338768582791e-05, 'regret_,ults': tensor([[168.3099]], device='cuda:0'), 'payment': 0.529782772064209}\n"
     ]
    },
    {
     "name": "stderr",
     "output_type": "stream",
     "text": [
      "\r",
      " 89%|████████▉ | 71/80 [41:30<05:08, 34.28s/it]"
     ]
    },
    {
     "name": "stdout",
     "output_type": "stream",
     "text": [
      "{'regret_max': 0.0061528682708740234, 'regret_mean': 9.273974865209311e-05, 'regret_,ults': tensor([[170.5328]], device='cuda:0'), 'payment': 0.530890703201294}\n"
     ]
    },
    {
     "name": "stderr",
     "output_type": "stream",
     "text": [
      "\r",
      " 90%|█████████ | 72/80 [42:04<04:34, 34.32s/it]"
     ]
    },
    {
     "name": "stdout",
     "output_type": "stream",
     "text": [
      "{'regret_max': 0.008728325366973877, 'regret_mean': 0.00012146266817580909, 'regret_,ults': tensor([[173.9193]], device='cuda:0'), 'payment': 0.5308980941772461}\n"
     ]
    },
    {
     "name": "stderr",
     "output_type": "stream",
     "text": [
      "\r",
      " 91%|█████████▏| 73/80 [42:39<04:00, 34.32s/it]"
     ]
    },
    {
     "name": "stdout",
     "output_type": "stream",
     "text": [
      "{'regret_max': 0.007980525493621826, 'regret_mean': 6.496464629890397e-05, 'regret_,ults': tensor([[174.8747]], device='cuda:0'), 'payment': 0.5340282917022705}\n"
     ]
    },
    {
     "name": "stderr",
     "output_type": "stream",
     "text": [
      "\r",
      " 92%|█████████▎| 74/80 [43:13<03:26, 34.35s/it]"
     ]
    },
    {
     "name": "stdout",
     "output_type": "stream",
     "text": [
      "{'regret_max': 0.008266091346740723, 'regret_mean': 0.00010583236871752888, 'regret_,ults': tensor([[176.0343]], device='cuda:0'), 'payment': 0.5312650799751282}\n"
     ]
    },
    {
     "name": "stderr",
     "output_type": "stream",
     "text": [
      "\r",
      " 94%|█████████▍| 75/80 [43:48<02:52, 34.43s/it]"
     ]
    },
    {
     "name": "stdout",
     "output_type": "stream",
     "text": [
      "{'regret_max': 0.008152425289154053, 'regret_mean': 9.580389451002702e-05, 'regret_,ults': tensor([[178.1989]], device='cuda:0'), 'payment': 0.5339574813842773}\n"
     ]
    },
    {
     "name": "stderr",
     "output_type": "stream",
     "text": [
      "\r",
      " 95%|█████████▌| 76/80 [44:22<02:17, 34.44s/it]"
     ]
    },
    {
     "name": "stdout",
     "output_type": "stream",
     "text": [
      "{'regret_max': 0.007105469703674316, 'regret_mean': 9.486335329711437e-05, 'regret_,ults': tensor([[179.7773]], device='cuda:0'), 'payment': 0.5314364433288574}\n"
     ]
    },
    {
     "name": "stderr",
     "output_type": "stream",
     "text": [
      "\r",
      " 96%|█████████▋| 77/80 [44:56<01:42, 34.30s/it]"
     ]
    },
    {
     "name": "stdout",
     "output_type": "stream",
     "text": [
      "{'regret_max': 0.007752478122711182, 'regret_mean': 7.598083175253123e-05, 'regret_,ults': tensor([[180.8829]], device='cuda:0'), 'payment': 0.531731128692627}\n"
     ]
    },
    {
     "name": "stderr",
     "output_type": "stream",
     "text": [
      "\r",
      " 98%|█████████▊| 78/80 [45:30<01:08, 34.30s/it]"
     ]
    },
    {
     "name": "stdout",
     "output_type": "stream",
     "text": [
      "{'regret_max': 0.012428820133209229, 'regret_mean': 0.00011271261610090733, 'regret_,ults': tensor([[182.3803]], device='cuda:0'), 'payment': 0.531445324420929}\n"
     ]
    },
    {
     "name": "stderr",
     "output_type": "stream",
     "text": [
      "\r",
      " 99%|█████████▉| 79/80 [46:06<00:34, 34.56s/it]"
     ]
    },
    {
     "name": "stdout",
     "output_type": "stream",
     "text": [
      "{'regret_max': 0.007569730281829834, 'regret_mean': 7.040906348265707e-05, 'regret_,ults': tensor([[184.6765]], device='cuda:0'), 'payment': 0.5327785015106201}\n"
     ]
    },
    {
     "name": "stderr",
     "output_type": "stream",
     "text": [
      "100%|██████████| 80/80 [46:40<00:00, 35.01s/it]"
     ]
    },
    {
     "name": "stdout",
     "output_type": "stream",
     "text": [
      "{'regret_max': 0.008003652095794678, 'regret_mean': 9.395989764016122e-05, 'regret_,ults': tensor([[186.2366]], device='cuda:0'), 'payment': 0.5300977826118469}\n",
      "CPU times: user 46min 27s, sys: 9.23 s, total: 46min 36s\n",
      "Wall time: 46min 40s\n"
     ]
    },
    {
     "name": "stderr",
     "output_type": "stream",
     "text": [
      "\n"
     ]
    }
   ],
   "source": [
    "%%time\n",
    "train_loop(model, train_loader, args, device=device)"
   ]
  },
  {
   "cell_type": "code",
   "execution_count": 7,
   "metadata": {},
   "outputs": [
    {
     "name": "stdout",
     "output_type": "stream",
     "text": [
      "CPU times: user 1min 18s, sys: 240 ms, total: 1min 19s\n",
      "Wall time: 1min 19s\n"
     ]
    },
    {
     "data": {
      "text/plain": [
       "{'payment_mean': 0.5275906920433044,\n",
       " 'regret_mean': 0.0009520766325294971,\n",
       " 'regret_max': 0.006192505359649658}"
      ]
     },
     "execution_count": 7,
     "metadata": {},
     "output_type": "execute_result"
    }
   ],
   "source": [
    "%%time\n",
    "test_data = ds.generate_dataset_nxk(args.n_agents, args.n_items, args.test_num_examples, item_ranges).to(device)\n",
    "test_loader = ds.Dataloader(test_data, batch_size=args.test_batch_size, shuffle=True)\n",
    "\n",
    "result = test_loop(model, test_loader, args, device=device)\n",
    "result"
   ]
  },
  {
   "cell_type": "code",
   "execution_count": 8,
   "metadata": {},
   "outputs": [
    {
     "data": {
      "image/png": "[encoded data removed]",
      "text/plain": [
       "<Figure size 1200x800 with 4 Axes>"
      ]
     },
     "metadata": {
      "needs_background": "light"
     },
     "output_type": "display_data"
    }
   ],
   "source": [
    "plt.rcParams['figure.figsize'] = [12, 8]\n",
    "plt.rcParams['figure.dpi'] = 100\n",
    "model.sinkhorn_rounds = 100\n",
    "model.sinkhorn_epsilon = 5e-2\n",
    "pu.plot_12_model(model.to(device='cpu'), 0.01, (0,1), (0,1))"
   ]
  },
  {
   "cell_type": "code",
   "execution_count": 9,
   "metadata": {},
   "outputs": [
    {
     "data": {
      "image/png": "[encoded data removed]",
      "text/plain": [
       "<Figure size 1200x800 with 2 Axes>"
      ]
     },
     "metadata": {
      "needs_background": "light"
     },
     "output_type": "display_data"
    }
   ],
   "source": [
    "def plot_12_model_payments(model, grid_width=0.1, item1_range=(0, 1), item2_range=(0, 1), name=\"test\"):\n",
    "    item1_min, item1_max = item1_range\n",
    "    item2_min, item2_max = item2_range\n",
    "    xcoords = (item1_max - item1_min) * torch.arange(0, 1, grid_width).view(1, -1) + item1_min\n",
    "    ycoords = (item2_max - item2_min) * torch.arange(0, 1, grid_width).view(-1, 1) + item2_min\n",
    "    xlen = ycoords.shape[0]\n",
    "    ylen = xcoords.shape[1]\n",
    "\n",
    "    xcoords_tiled = xcoords.repeat(xlen, 1)\n",
    "    ycoords_tiled = ycoords.repeat(1, ylen)\n",
    "\n",
    "    combined = torch.stack((xcoords_tiled, ycoords_tiled), dim=2)\n",
    "\n",
    "    output_allocs, output_payments = model(combined.view(-1, 1, 2))\n",
    "\n",
    "    output_item1_payments = output_payments.view(xlen, ylen)\n",
    "    f, (ax1) = plt.subplots(1, 1)\n",
    "    im1 = ax1.imshow(output_item1_payments.cpu().detach().numpy(), origin='lower', cmap='YlOrRd',extent=[0,1,0,1])\n",
    "    ax1.set_title('payment')\n",
    "    ax1.set_xlabel('v1')\n",
    "    ax1.set_ylabel('v2')\n",
    "    f.colorbar(im1)\n",
    "    f.show()\n",
    "    \n",
    "plot_12_model_payments(model.to(device='cpu'), 0.01, (0,1), (0,1))"
   ]
  },
  {
   "cell_type": "code",
   "execution_count": 10,
   "metadata": {},
   "outputs": [],
   "source": [
    "def additive_1x2_0_1_optimal_mechanism(bids):\n",
    "    import math\n",
    "    allocs = torch.zeros(bids.shape)\n",
    "    payments = torch.zeros((bids.shape[0], bids.shape[1]))\n",
    "    for i in range(bids.shape[0]):\n",
    "        if bids[i, :, 0] > (2 / 3) and bids[i, :, 1] < (2 - math.sqrt(2)) / 3:\n",
    "            allocs[i, 0, :] = torch.tensor([1, 0])\n",
    "            payments[i, :] = 2 / 3\n",
    "        elif bids[i, :, 1] > (2 / 3) and bids[i, :, 0] < (2 - math.sqrt(2)) / 3:\n",
    "            allocs[i, 0, :] = torch.tensor([0, 1])\n",
    "            payments[i, :] = 2 / 3\n",
    "        elif (2 - math.sqrt(2)) / 3 - bids[i, :, 0] < bids[i, 0, 1] - 2 / 3:\n",
    "            allocs[i, 0, :] = torch.tensor([1, 1])\n",
    "            payments[i, :] = 4 / 3 - math.sqrt(2) / 3\n",
    "    return allocs, payments"
   ]
  },
  {
   "cell_type": "code",
   "execution_count": null,
   "metadata": {},
   "outputs": [],
   "source": []
  },
  {
   "cell_type": "code",
   "execution_count": 11,
   "metadata": {},
   "outputs": [],
   "source": [
    "import double_net.utils_misreport as utils\n",
    "allocs, payments = additive_1x2_0_1_optimal_mechanism(test_data)"
   ]
  },
  {
   "cell_type": "code",
   "execution_count": 12,
   "metadata": {},
   "outputs": [],
   "source": [
    "utils = utils.calc_agent_util(test_data, allocs.to(device=device), payments.to(device=device))"
   ]
  },
  {
   "cell_type": "code",
   "execution_count": 13,
   "metadata": {},
   "outputs": [
    {
     "data": {
      "text/plain": [
       "tensor(0.5413)"
      ]
     },
     "execution_count": 13,
     "metadata": {},
     "output_type": "execute_result"
    }
   ],
   "source": [
    "payments.mean()"
   ]
  },
  {
   "cell_type": "code",
   "execution_count": 14,
   "metadata": {},
   "outputs": [
    {
     "data": {
      "text/plain": [
       "(tensor([[[0.5990, 0.9623]]], grad_fn=<ViewBackward>),\n",
       " tensor([[0.7494]], grad_fn=<MulBackward0>))"
      ]
     },
     "execution_count": 14,
     "metadata": {},
     "output_type": "execute_result"
    }
   ],
   "source": [
    "model(torch.tensor([[[.0, .9]]]))"
   ]
  }
 ],
 "metadata": {
  "kernelspec": {
   "display_name": "Python 3",
   "language": "python",
   "name": "python3"
  },
  "language_info": {
   "codemirror_mode": {
    "name": "ipython",
    "version": 3
   },
   "file_extension": ".py",
   "mimetype": "text/x-python",
   "name": "python",
   "nbconvert_exporter": "python",
   "pygments_lexer": "ipython3",
   "version": "3.7.4"
  }
 },
 "nbformat": 4,
 "nbformat_minor": 2
}
