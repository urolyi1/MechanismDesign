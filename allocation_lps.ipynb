{
 "cells": [
  {
   "cell_type": "code",
   "execution_count": 145,
   "metadata": {},
   "outputs": [],
   "source": [
    "%matplotlib inline\n",
    "import torch\n",
    "import cvxpy as cp\n",
    "from cvxpylayers.torch import CvxpyLayer\n",
    "import numpy as np\n"
   ]
  },
  {
   "cell_type": "code",
   "execution_count": 146,
   "metadata": {},
   "outputs": [],
   "source": [
    "# the linear program:\n",
    "\n",
    "# max Sx <= b, get x*, then take b2=(b - x*)\n",
    "# then max Sx <= b2 internal only\n",
    "# all LP relaxations"
   ]
  },
  {
   "cell_type": "code",
   "execution_count": null,
   "metadata": {},
   "outputs": [],
   "source": []
  },
  {
   "cell_type": "code",
   "execution_count": 147,
   "metadata": {},
   "outputs": [],
   "source": [
    "# we're assuming each type here is specific to one hospital\n",
    "# the fact that compatibility doesn't actually depend on hospital should be captured in the S matrix"
   ]
  },
  {
   "cell_type": "code",
   "execution_count": 148,
   "metadata": {},
   "outputs": [],
   "source": [
    "# layer 1\n",
    "num_centers = 2\n",
    "num_structures = 8\n",
    "lam = 0.1\n",
    "num_types = 3*num_centers\n",
    "x1 = cp.Variable(num_structures)\n",
    "S = cp.Parameter( (num_types, num_structures) ) # valid structures\n",
    "w = cp.Parameter(num_structures) # structure weight\n",
    "z = cp.Parameter(num_structures) # control parameter\n",
    "b = cp.Parameter(num_types) # max bid\n",
    "constraints = [x1 >= 0,S @ x1 <= b]\n",
    "\n",
    "objective = cp.Maximize( (w.T @ x1) - cp.norm(x1 - z, 2) - lam*cp.norm(x1, 2) )\n",
    "problem = cp.Problem(objective, constraints)"
   ]
  },
  {
   "cell_type": "code",
   "execution_count": 149,
   "metadata": {},
   "outputs": [],
   "source": [
    "layer1 = CvxpyLayer(problem, parameters = [S, w, b, z], variables=[x1])"
   ]
  },
  {
   "cell_type": "code",
   "execution_count": 150,
   "metadata": {},
   "outputs": [],
   "source": [
    "test_S = torch.tensor([[1.0,1.0,0.0,0.0,0.0,0.0],\n",
    "[0.0,0.0,0.0,1.0,1.0,0.0],\n",
    "[1.0,0.0,0.0,0.0,1.0,0.0],\n",
    " [0.0,1.0,0.0,1.0,0.0,0.0],\n",
    " [0.0,1.0,1.0,0.0,0.0,0.0],\n",
    " [0.0,0.0,0.0,1.0,1.0,0.0],\n",
    " [0.0,1.0,0.0,0.0,0.0,1.0],\n",
    " [0.0,0.0,1.0,0.0,1.0,0.0]], requires_grad=False).t() # a constant\n",
    "testW = torch.ones(num_structures) # will come out of NN later\n",
    "testZ = torch.zeros(num_structures)\n",
    "testB = 5.0*torch.ones(num_types)"
   ]
  },
  {
   "cell_type": "code",
   "execution_count": 151,
   "metadata": {},
   "outputs": [],
   "source": [
    "x1_out, = layer1(test_S, testW, testB, testZ)"
   ]
  },
  {
   "cell_type": "code",
   "execution_count": 152,
   "metadata": {},
   "outputs": [],
   "source": [
    "resulting_allocations = (test_S @ x1_out)"
   ]
  },
  {
   "cell_type": "code",
   "execution_count": 153,
   "metadata": {},
   "outputs": [],
   "source": [
    "remaining_vals = (testB - resulting_allocations)"
   ]
  },
  {
   "cell_type": "code",
   "execution_count": 154,
   "metadata": {},
   "outputs": [],
   "source": [
    "center1, center2 = remaining_vals[0:3], remaining_vals[3:]"
   ]
  },
  {
   "cell_type": "code",
   "execution_count": 155,
   "metadata": {},
   "outputs": [],
   "source": [
    "num_types_2 = 3\n",
    "num_structures_2 = 2\n",
    "x2 = cp.Variable(num_structures_2)\n",
    "S2 = cp.Parameter( (num_types_2, num_structures_2) )\n",
    "w2 = cp.Parameter(num_structures_2)\n",
    "b2 = cp.Parameter(num_types_2)\n",
    "constraints2 = [x2 >= 0,S2 @ x2 <= b2]\n",
    "\n",
    "objective2 = cp.Maximize( (w2.T @ x2) )\n",
    "problem2 = cp.Problem(objective2, constraints2)"
   ]
  },
  {
   "cell_type": "code",
   "execution_count": 156,
   "metadata": {},
   "outputs": [],
   "source": [
    "test_S2 = torch.tensor([[1.0,1.0,0.0],[0.0,1.0,1.0]], requires_grad=False).t()\n",
    "testW2 = torch.ones(num_structures_2)\n",
    "layer2 = CvxpyLayer(problem2, parameters = [S2, w2, b2], variables = [x2])"
   ]
  },
  {
   "cell_type": "code",
   "execution_count": 157,
   "metadata": {},
   "outputs": [],
   "source": [
    "center1_internal_result, = layer2(test_S2, testW2, center1)"
   ]
  },
  {
   "cell_type": "code",
   "execution_count": 158,
   "metadata": {},
   "outputs": [],
   "source": [
    "center1_internal_matched = test_S2 @ center1_internal_result"
   ]
  },
  {
   "cell_type": "code",
   "execution_count": 159,
   "metadata": {},
   "outputs": [
    {
     "data": {
      "text/plain": [
       "tensor([-4.3194e-16, -5.9655e-16, -1.6462e-16])"
      ]
     },
     "execution_count": 159,
     "metadata": {},
     "output_type": "execute_result"
    }
   ],
   "source": [
    "center1_internal_matched"
   ]
  },
  {
   "cell_type": "code",
   "execution_count": 160,
   "metadata": {},
   "outputs": [],
   "source": [
    "center1_total_pairs = center1_internal_matched + resulting_allocations[0:3]"
   ]
  },
  {
   "cell_type": "code",
   "execution_count": 161,
   "metadata": {},
   "outputs": [
    {
     "data": {
      "text/plain": [
       "tensor([2.5000, 5.0000, 2.5000])"
      ]
     },
     "execution_count": 161,
     "metadata": {},
     "output_type": "execute_result"
    }
   ],
   "source": [
    "center1_total_pairs"
   ]
  },
  {
   "cell_type": "code",
   "execution_count": null,
   "metadata": {},
   "outputs": [],
   "source": []
  }
 ],
 "metadata": {
  "kernelspec": {
   "display_name": "Python 3",
   "language": "python",
   "name": "python3"
  },
  "language_info": {
   "codemirror_mode": {
    "name": "ipython",
    "version": 3
   },
   "file_extension": ".py",
   "mimetype": "text/x-python",
   "name": "python",
   "nbconvert_exporter": "python",
   "pygments_lexer": "ipython3",
   "version": "3.7.4"
  }
 },
 "nbformat": 4,
 "nbformat_minor": 2
}
