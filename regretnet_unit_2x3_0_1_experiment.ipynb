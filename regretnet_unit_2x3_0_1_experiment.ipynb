{
 "cells": [
  {
   "cell_type": "code",
   "execution_count": 1,
   "metadata": {},
   "outputs": [],
   "source": [
    "import os\n",
    "import torch\n",
    "from torch import nn, optim\n",
    "import torch.nn.functional as F\n",
    "import numpy as np\n",
    "from argparse import ArgumentParser\n",
    "from double_net.double_net import DoubleNet, train_loop, train_loop_no_lagrange, test_loop, test_loop_random_start\n",
    "from double_net import datasets as ds\n",
    "import time\n",
    "import double_net.plot_utils as pu\n",
    "import importlib\n",
    "import matplotlib.pyplot as plt"
   ]
  },
  {
   "cell_type": "code",
   "execution_count": 2,
   "metadata": {},
   "outputs": [],
   "source": [
    "from double_net.regret_net import RegretNetUnitDemand\n",
    "if torch.cuda.is_available():\n",
    "    device = 'cuda'\n",
    "else:\n",
    "    device = 'cpu'"
   ]
  },
  {
   "cell_type": "code",
   "execution_count": 3,
   "metadata": {},
   "outputs": [
    {
     "data": {
      "text/plain": "Namespace(batch_size=4096, lagr_update_iter=100, misreport_iter=25, misreport_lr=0.1, model_lr=0.001, n_agents=2, n_items=3, num_epochs=100, num_examples=524288, random_seed=0, rgt_start=0, rho=1, rho_incr_amount=1.0, rho_incr_iter=2, sinkhorn_epsilon=0.03, sinkhorn_rounds=20, test_batch_size=1000, test_iter=5, test_misreport_iter=1000, test_num_examples=1000)"
     },
     "execution_count": 3,
     "metadata": {},
     "output_type": "execute_result"
    }
   ],
   "source": [
    "parser = ArgumentParser()\n",
    "parser.add_argument('--random-seed', type=int, default=0)\n",
    "parser.add_argument('--num-examples', type=int, default=131072 * 4)\n",
    "parser.add_argument('--test-num-examples', type=int, default=1000)\n",
    "parser.add_argument('--test-iter', type=int, default=5)\n",
    "parser.add_argument('--n-agents', type=int, default=2)\n",
    "parser.add_argument('--n-items', type=int, default=3)\n",
    "parser.add_argument('--num-epochs', type=int, default=100)\n",
    "parser.add_argument('--batch-size', type=int, default=128 * 32)\n",
    "parser.add_argument('--test-batch-size', type=int, default=1000)\n",
    "parser.add_argument('--model-lr', type=float, default=1e-3)\n",
    "parser.add_argument('--misreport-lr', type=float, default=1e-1)\n",
    "parser.add_argument('--misreport-iter', type=int, default=25)\n",
    "parser.add_argument('--test-misreport-iter', type=int, default=1000)\n",
    "parser.add_argument('--rho', type=float, default=1)\n",
    "parser.add_argument('--rho-incr-iter', type=int, default=2)\n",
    "parser.add_argument('--rho-incr-amount', type=float, default=1.0)\n",
    "parser.add_argument('--lagr-update-iter', type=int, default=100)\n",
    "parser.add_argument('--rgt-start', type=int, default=0)\n",
    "parser.add_argument('--sinkhorn-epsilon', type=float, default=3e-2)\n",
    "parser.add_argument('--sinkhorn-rounds', type=int, default=20)\n",
    "\n",
    "\n",
    "args = parser.parse_args(args=[])\n",
    "args"
   ]
  },
  {
   "cell_type": "code",
   "execution_count": 4,
   "metadata": {},
   "outputs": [],
   "source": [
    "torch.manual_seed(args.random_seed)\n",
    "np.random.seed(args.random_seed)\n",
    "\n",
    "item_ranges = ds.preset_valuation_range(args.n_agents, args.n_items, \"\")\n",
    "\n",
    "model = RegretNetUnitDemand(\n",
    "    args.n_agents, args.n_items, item_ranges,\n",
    ").to(device)\n",
    "\n",
    "train_data = ds.generate_dataset_nxk(args.n_agents, args.n_items, args.num_examples, item_ranges).to(device)\n",
    "train_loader = ds.Dataloader(train_data, batch_size=args.batch_size, shuffle=True)"
   ]
  },
  {
   "cell_type": "code",
   "execution_count": 5,
   "metadata": {
    "scrolled": true
   },
   "outputs": [
    {
     "name": "stderr",
     "output_type": "stream",
     "text": [
      "100%|██████████| 100/100 [20:28<00:00, 12.29s/it]\n"
     ]
    },
    {
     "name": "stdout",
     "output_type": "stream",
     "text": [
      "{'regret_max': 0.36091700196266174, 'regret_mean': 0.021196171641349792, 'regret_mults': tensor([[6.2159, 6.1418]], device='cuda:0'), 'payment': 0.6060324907302856}\n",
      "{'regret_max': 0.1442321538925171, 'regret_mean': 0.01091060321778059, 'regret_mults': tensor([[7.2965, 7.4287]], device='cuda:0'), 'payment': 0.846517026424408}\n",
      "{'regret_max': 0.08088564872741699, 'regret_mean': 0.007068561390042305, 'regret_mults': tensor([[8.5190, 8.7733]], device='cuda:0'), 'payment': 0.8987231254577637}\n",
      "{'regret_max': 0.045929133892059326, 'regret_mean': 0.0055594369769096375, 'regret_mults': tensor([[10.8866, 11.1879]], device='cuda:0'), 'payment': 0.9006080627441406}\n",
      "{'regret_max': 0.041577816009521484, 'regret_mean': 0.004408669658005238, 'regret_mults': tensor([[12.5198, 12.4836]], device='cuda:0'), 'payment': 0.8991167545318604}\n",
      "{'regret_max': 0.030805349349975586, 'regret_mean': 0.003459576051682234, 'regret_mults': tensor([[13.6604, 13.6975]], device='cuda:0'), 'payment': 0.8991491198539734}\n",
      "{'regret_max': 0.025375723838806152, 'regret_mean': 0.0029082689434289932, 'regret_mults': tensor([[14.8456, 14.7185]], device='cuda:0'), 'payment': 0.9002306461334229}\n",
      "{'regret_max': 0.023445844650268555, 'regret_mean': 0.00248105451464653, 'regret_mults': tensor([[17.3708, 17.4927]], device='cuda:0'), 'payment': 0.9009360671043396}\n",
      "{'regret_max': 0.02424377202987671, 'regret_mean': 0.0021023049484938383, 'regret_mults': tensor([[18.3887, 18.5264]], device='cuda:0'), 'payment': 0.90168297290802}\n",
      "{'regret_max': 0.017453759908676147, 'regret_mean': 0.001822104211896658, 'regret_mults': tensor([[19.3340, 19.6548]], device='cuda:0'), 'payment': 0.9031475186347961}\n",
      "{'regret_max': 0.021380960941314697, 'regret_mean': 0.0017545436276122928, 'regret_mults': tensor([[21.8358, 21.8221]], device='cuda:0'), 'payment': 0.9026741981506348}\n",
      "{'regret_max': 0.016740500926971436, 'regret_mean': 0.0015202166978269815, 'regret_mults': tensor([[23.1038, 22.8804]], device='cuda:0'), 'payment': 0.9031922817230225}\n",
      "{'regret_max': 0.030100345611572266, 'regret_mean': 0.0015601946506649256, 'regret_mults': tensor([[24.1125, 23.7847]], device='cuda:0'), 'payment': 0.901659369468689}\n",
      "{'regret_max': 0.013067126274108887, 'regret_mean': 0.0012094990815967321, 'regret_mults': tensor([[25.1579, 24.8899]], device='cuda:0'), 'payment': 0.9035108089447021}\n",
      "{'regret_max': 0.022011995315551758, 'regret_mean': 0.0013736989349126816, 'regret_mults': tensor([[27.0954, 27.0009]], device='cuda:0'), 'payment': 0.9010719060897827}\n",
      "{'regret_max': 0.014127969741821289, 'regret_mean': 0.001132434350438416, 'regret_mults': tensor([[28.1757, 28.3783]], device='cuda:0'), 'payment': 0.9016603231430054}\n",
      "{'regret_max': 0.014314353466033936, 'regret_mean': 0.0010337913408875465, 'regret_mults': tensor([[29.2472, 29.3510]], device='cuda:0'), 'payment': 0.9011542797088623}\n",
      "{'regret_max': 0.019354939460754395, 'regret_mean': 0.0010990285081788898, 'regret_mults': tensor([[31.1479, 31.3009]], device='cuda:0'), 'payment': 0.8995203971862793}\n",
      "{'regret_max': 0.018756628036499023, 'regret_mean': 0.0009843461448326707, 'regret_mults': tensor([[31.9120, 32.0921]], device='cuda:0'), 'payment': 0.8998361229896545}\n",
      "{'regret_max': 0.023348569869995117, 'regret_mean': 0.0009038378484547138, 'regret_mults': tensor([[32.8842, 33.0355]], device='cuda:0'), 'payment': 0.8992717266082764}\n",
      "{'regret_max': 0.02412116527557373, 'regret_mean': 0.000947443419136107, 'regret_mults': tensor([[34.1188, 34.4162]], device='cuda:0'), 'payment': 0.898248553276062}\n",
      "{'regret_max': 0.009567737579345703, 'regret_mean': 0.0007396297878585756, 'regret_mults': tensor([[36.2991, 36.4673]], device='cuda:0'), 'payment': 0.8990886211395264}\n",
      "{'regret_max': 0.03100055456161499, 'regret_mean': 0.0009997659362852573, 'regret_mults': tensor([[37.7407, 37.5665]], device='cuda:0'), 'payment': 0.8960151076316833}\n",
      "{'regret_max': 0.010695278644561768, 'regret_mean': 0.0006249620928429067, 'regret_mults': tensor([[38.6466, 38.4380]], device='cuda:0'), 'payment': 0.8974887132644653}\n",
      "{'regret_max': 0.00958794355392456, 'regret_mean': 0.0006564181530848145, 'regret_mults': tensor([[40.4677, 40.3120]], device='cuda:0'), 'payment': 0.8974196910858154}\n",
      "{'regret_max': 0.009293437004089355, 'regret_mean': 0.0006506411009468138, 'regret_mults': tensor([[41.2614, 41.1688]], device='cuda:0'), 'payment': 0.8969190120697021}\n",
      "{'regret_max': 0.01330345869064331, 'regret_mean': 0.0006132575799711049, 'regret_mults': tensor([[42.2215, 42.2072]], device='cuda:0'), 'payment': 0.8965535163879395}\n",
      "{'regret_max': 0.0198403000831604, 'regret_mean': 0.0006446106126531959, 'regret_mults': tensor([[43.0015, 43.1177]], device='cuda:0'), 'payment': 0.8955259323120117}\n",
      "{'regret_max': 0.00958031415939331, 'regret_mean': 0.0005555641837418079, 'regret_mults': tensor([[45.0421, 45.5336]], device='cuda:0'), 'payment': 0.8961734771728516}\n",
      "{'regret_max': 0.015976250171661377, 'regret_mean': 0.0005559691926464438, 'regret_mults': tensor([[46.1073, 46.3457]], device='cuda:0'), 'payment': 0.8953953981399536}\n",
      "{'regret_max': 0.014956772327423096, 'regret_mean': 0.0006234634201973677, 'regret_mults': tensor([[47.5484, 47.8985]], device='cuda:0'), 'payment': 0.8938603401184082}\n",
      "{'regret_max': 0.011324107646942139, 'regret_mean': 0.0006336286314763129, 'regret_mults': tensor([[48.8581, 49.0593]], device='cuda:0'), 'payment': 0.8924502730369568}\n",
      "{'regret_max': 0.00785738229751587, 'regret_mean': 0.00044103225809521973, 'regret_mults': tensor([[50.4408, 50.6880]], device='cuda:0'), 'payment': 0.8946362733840942}\n",
      "{'regret_max': 0.0069370269775390625, 'regret_mean': 0.00040187250124290586, 'regret_mults': tensor([[51.3132, 51.5413]], device='cuda:0'), 'payment': 0.8955522775650024}\n",
      "{'regret_max': 0.010073721408843994, 'regret_mean': 0.000521558802574873, 'regret_mults': tensor([[52.9690, 52.3074]], device='cuda:0'), 'payment': 0.8932749032974243}\n",
      "{'regret_max': 0.008456528186798096, 'regret_mean': 0.00044790346873924136, 'regret_mults': tensor([[55.1055, 54.2461]], device='cuda:0'), 'payment': 0.8938503861427307}\n",
      "{'regret_max': 0.00840294361114502, 'regret_mean': 0.000419466698076576, 'regret_mults': tensor([[55.9811, 55.1000]], device='cuda:0'), 'payment': 0.8938232660293579}\n",
      "{'regret_max': 0.011353373527526855, 'regret_mean': 0.00043060159077867866, 'regret_mults': tensor([[57.0477, 56.2891]], device='cuda:0'), 'payment': 0.8933073282241821}\n",
      "{'regret_max': 0.01548987627029419, 'regret_mean': 0.0005398544017225504, 'regret_mults': tensor([[59.3894, 58.4998]], device='cuda:0'), 'payment': 0.8904772996902466}\n",
      "{'regret_max': 0.008661150932312012, 'regret_mean': 0.00037165635148994625, 'regret_mults': tensor([[61.5614, 60.2984]], device='cuda:0'), 'payment': 0.8923437595367432}\n",
      "{'regret_max': 0.007469832897186279, 'regret_mean': 0.0003540259203873575, 'regret_mults': tensor([[63.3748, 61.0345]], device='cuda:0'), 'payment': 0.8930339813232422}\n",
      "{'regret_max': 0.026877284049987793, 'regret_mean': 0.0006955467397347093, 'regret_mults': tensor([[64.4700, 62.5667]], device='cuda:0'), 'payment': 0.8885983228683472}\n",
      "{'regret_max': 0.016440510749816895, 'regret_mean': 0.0003362583229318261, 'regret_mults': tensor([[66.0009, 64.1484]], device='cuda:0'), 'payment': 0.8895648717880249}\n",
      "{'regret_max': 0.005758404731750488, 'regret_mean': 0.00027488014893606305, 'regret_mults': tensor([[66.9583, 64.9088]], device='cuda:0'), 'payment': 0.8930240869522095}\n",
      "{'regret_max': 0.008974671363830566, 'regret_mean': 0.00029796361923217773, 'regret_mults': tensor([[67.7214, 65.7046]], device='cuda:0'), 'payment': 0.8930381536483765}\n",
      "{'regret_max': 0.009195387363433838, 'regret_mean': 0.0003281567187514156, 'regret_mults': tensor([[68.5383, 66.5255]], device='cuda:0'), 'payment': 0.8918240666389465}\n",
      "{'regret_max': 0.028468787670135498, 'regret_mean': 0.000529821845702827, 'regret_mults': tensor([[77.8779, 69.6736]], device='cuda:0'), 'payment': 0.8896244168281555}\n",
      "{'regret_max': 0.01656186580657959, 'regret_mean': 0.0003173133882228285, 'regret_mults': tensor([[78.5644, 70.3509]], device='cuda:0'), 'payment': 0.8881475925445557}\n",
      "{'regret_max': 0.007542908191680908, 'regret_mean': 0.00027160008903592825, 'regret_mults': tensor([[79.1597, 71.1434]], device='cuda:0'), 'payment': 0.8908625841140747}\n",
      "{'regret_max': 0.0075640082359313965, 'regret_mean': 0.00026579739642329514, 'regret_mults': tensor([[81.3477, 72.8056]], device='cuda:0'), 'payment': 0.8911291360855103}\n",
      "{'regret_max': 0.022625446319580078, 'regret_mean': 0.0004999016528017819, 'regret_mults': tensor([[81.9745, 74.1712]], device='cuda:0'), 'payment': 0.8852758407592773}\n",
      "{'regret_max': 0.005620479583740234, 'regret_mean': 0.00022036908194422722, 'regret_mults': tensor([[82.7658, 74.8071]], device='cuda:0'), 'payment': 0.8912920951843262}\n",
      "{'regret_max': 0.007669031620025635, 'regret_mean': 0.00024705921532586217, 'regret_mults': tensor([[83.5243, 75.5261]], device='cuda:0'), 'payment': 0.8911554217338562}\n",
      "{'regret_max': 0.008246302604675293, 'regret_mean': 0.00029800512129440904, 'regret_mults': tensor([[85.1307, 77.4198]], device='cuda:0'), 'payment': 0.8891353607177734}\n",
      "{'regret_max': 0.016090214252471924, 'regret_mean': 0.00046452501555904746, 'regret_mults': tensor([[89.1953, 78.6751]], device='cuda:0'), 'payment': 0.8857483863830566}\n",
      "{'regret_max': 0.0073122382164001465, 'regret_mean': 0.00020498016965575516, 'regret_mults': tensor([[89.8704, 79.5363]], device='cuda:0'), 'payment': 0.8898696303367615}\n",
      "{'regret_max': 0.007555544376373291, 'regret_mean': 0.00022506914683617651, 'regret_mults': tensor([[90.6276, 80.3795]], device='cuda:0'), 'payment': 0.8905938863754272}\n",
      "{'regret_max': 0.012624144554138184, 'regret_mean': 0.00032487144926562905, 'regret_mults': tensor([[96.5345, 81.9037]], device='cuda:0'), 'payment': 0.8868120908737183}\n",
      "{'regret_max': 0.0072362422943115234, 'regret_mean': 0.0001973783946596086, 'regret_mults': tensor([[97.5531, 82.8020]], device='cuda:0'), 'payment': 0.8905225396156311}\n",
      "{'regret_max': 0.005950450897216797, 'regret_mean': 0.0002353955351281911, 'regret_mults': tensor([[98.4482, 83.9909]], device='cuda:0'), 'payment': 0.8892230987548828}\n",
      "{'regret_max': 0.012959778308868408, 'regret_mean': 0.0004513199965003878, 'regret_mults': tensor([[99.8703, 85.8305]], device='cuda:0'), 'payment': 0.8834434747695923}\n",
      "{'regret_max': 0.0046503543853759766, 'regret_mean': 0.00017103741993196309, 'regret_mults': tensor([[100.4988,  86.4641]], device='cuda:0'), 'payment': 0.8900102376937866}\n",
      "{'regret_max': 0.005418717861175537, 'regret_mean': 0.00018205205560661852, 'regret_mults': tensor([[101.0972,  87.1564]], device='cuda:0'), 'payment': 0.8907921314239502}\n",
      "{'regret_max': 0.005523502826690674, 'regret_mean': 0.00019729023915715516, 'regret_mults': tensor([[101.7870,  87.8742]], device='cuda:0'), 'payment': 0.8905523419380188}\n",
      "{'regret_max': 0.01953279972076416, 'regret_mean': 0.0004463940276764333, 'regret_mults': tensor([[103.0760,  89.6143]], device='cuda:0'), 'payment': 0.8833691477775574}\n",
      "{'regret_max': 0.005360662937164307, 'regret_mean': 0.00016735111421439797, 'regret_mults': tensor([[104.1633,  90.2231]], device='cuda:0'), 'payment': 0.8896628618240356}\n",
      "{'regret_max': 0.004657387733459473, 'regret_mean': 0.00017382277292199433, 'regret_mults': tensor([[104.8098,  90.9329]], device='cuda:0'), 'payment': 0.8904001712799072}\n",
      "{'regret_max': 0.005707800388336182, 'regret_mean': 0.0001868865656433627, 'regret_mults': tensor([[106.3229,  92.4361]], device='cuda:0'), 'payment': 0.8904402256011963}\n",
      "{'regret_max': 0.01605457067489624, 'regret_mean': 0.00038050414877943695, 'regret_mults': tensor([[107.3600,  93.3014]], device='cuda:0'), 'payment': 0.884554386138916}\n",
      "{'regret_max': 0.007988333702087402, 'regret_mean': 0.00018034987442661077, 'regret_mults': tensor([[108.1548,  94.2657]], device='cuda:0'), 'payment': 0.8894474506378174}\n",
      "{'regret_max': 0.0056858062744140625, 'regret_mean': 0.00016358340508304536, 'regret_mults': tensor([[109.0013,  95.0208]], device='cuda:0'), 'payment': 0.8905396461486816}\n",
      "{'regret_max': 0.005576133728027344, 'regret_mean': 0.00017920226673595607, 'regret_mults': tensor([[110.4718,  97.1051]], device='cuda:0'), 'payment': 0.890385627746582}\n",
      "{'regret_max': 0.006509840488433838, 'regret_mean': 0.00019684224389493465, 'regret_mults': tensor([[111.3253,  98.0703]], device='cuda:0'), 'payment': 0.8895323276519775}\n",
      "{'regret_max': 0.005968153476715088, 'regret_mean': 0.0002015196077991277, 'regret_mults': tensor([[111.9952,  98.8739]], device='cuda:0'), 'payment': 0.8882063627243042}\n",
      "{'regret_max': 0.01686680316925049, 'regret_mean': 0.00033023476134985685, 'regret_mults': tensor([[113.5056, 100.3117]], device='cuda:0'), 'payment': 0.8849086165428162}\n",
      "{'regret_max': 0.006720602512359619, 'regret_mean': 0.0001428620016667992, 'regret_mults': tensor([[114.0648, 100.9969]], device='cuda:0'), 'payment': 0.8902698755264282}\n",
      "{'regret_max': 0.014382481575012207, 'regret_mean': 0.0003052580577787012, 'regret_mults': tensor([[114.8305, 101.7233]], device='cuda:0'), 'payment': 0.8870362639427185}\n",
      "{'regret_max': 0.013527452945709229, 'regret_mean': 0.00022053375141695142, 'regret_mults': tensor([[115.8081, 102.6888]], device='cuda:0'), 'payment': 0.8854548335075378}\n",
      "{'regret_max': 0.007060825824737549, 'regret_mean': 0.00017528313037473708, 'regret_mults': tensor([[117.3385, 104.4685]], device='cuda:0'), 'payment': 0.8879899382591248}\n",
      "{'regret_max': 0.005296587944030762, 'regret_mean': 0.00013602932449430227, 'regret_mults': tensor([[118.0148, 105.2104]], device='cuda:0'), 'payment': 0.8909088969230652}\n",
      "{'regret_max': 0.006261229515075684, 'regret_mean': 0.00016512857109773904, 'regret_mults': tensor([[118.7463, 106.0729]], device='cuda:0'), 'payment': 0.8901129961013794}\n",
      "{'regret_max': 0.02642577886581421, 'regret_mean': 0.0005111497011967003, 'regret_mults': tensor([[119.8093, 108.4087]], device='cuda:0'), 'payment': 0.8784297108650208}\n",
      "{'regret_max': 0.0037409067153930664, 'regret_mean': 0.00012445083120837808, 'regret_mults': tensor([[121.1336, 109.6922]], device='cuda:0'), 'payment': 0.8892963528633118}\n",
      "{'regret_max': 0.004217207431793213, 'regret_mean': 0.00012785661965608597, 'regret_mults': tensor([[121.7854, 110.4862]], device='cuda:0'), 'payment': 0.8906841278076172}\n",
      "{'regret_max': 0.005536258220672607, 'regret_mean': 0.00013617714284919202, 'regret_mults': tensor([[122.5170, 111.2145]], device='cuda:0'), 'payment': 0.8908672332763672}\n",
      "{'regret_max': 0.007231593132019043, 'regret_mean': 0.00016643664275761694, 'regret_mults': tensor([[124.4330, 112.7156]], device='cuda:0'), 'payment': 0.8896912932395935}\n",
      "{'regret_max': 0.00995558500289917, 'regret_mean': 0.00020661350572481751, 'regret_mults': tensor([[125.1502, 113.3950]], device='cuda:0'), 'payment': 0.8880993127822876}\n",
      "{'regret_max': 0.018966972827911377, 'regret_mean': 0.0003018086717929691, 'regret_mults': tensor([[125.7861, 113.9816]], device='cuda:0'), 'payment': 0.8826384544372559}\n",
      "{'regret_max': 0.004853725433349609, 'regret_mean': 0.00012052239617332816, 'regret_mults': tensor([[126.3897, 114.7311]], device='cuda:0'), 'payment': 0.8903501629829407}\n",
      "{'regret_max': 0.006095468997955322, 'regret_mean': 0.00014795616152696311, 'regret_mults': tensor([[127.7953, 116.0906]], device='cuda:0'), 'payment': 0.8898634314537048}\n",
      "{'regret_max': 0.023397088050842285, 'regret_mean': 0.0004942681407555938, 'regret_mults': tensor([[132.5870, 117.2659]], device='cuda:0'), 'payment': 0.8804487586021423}\n",
      "{'regret_max': 0.007333815097808838, 'regret_mean': 0.0001263969752471894, 'regret_mults': tensor([[133.2059, 117.9817]], device='cuda:0'), 'payment': 0.8869462013244629}\n",
      "{'regret_max': 0.004948556423187256, 'regret_mean': 0.0001129683296312578, 'regret_mults': tensor([[134.3105, 119.4050]], device='cuda:0'), 'payment': 0.8902074098587036}\n",
      "{'regret_max': 0.004537343978881836, 'regret_mean': 0.00011754239676520228, 'regret_mults': tensor([[134.9724, 120.0701]], device='cuda:0'), 'payment': 0.8908567428588867}\n",
      "{'regret_max': 0.005904972553253174, 'regret_mean': 0.0001286926562897861, 'regret_mults': tensor([[135.8009, 120.8228]], device='cuda:0'), 'payment': 0.8905012607574463}\n",
      "{'regret_max': 0.0058876872062683105, 'regret_mean': 0.00014564914454240352, 'regret_mults': tensor([[136.7296, 121.8097]], device='cuda:0'), 'payment': 0.8896172642707825}\n",
      "{'regret_max': 0.005931496620178223, 'regret_mean': 0.0001738923747325316, 'regret_mults': tensor([[138.0886, 123.6433]], device='cuda:0'), 'payment': 0.8876898288726807}\n",
      "{'regret_max': 0.021227777004241943, 'regret_mean': 0.0003170990676153451, 'regret_mults': tensor([[142.7740, 125.2658]], device='cuda:0'), 'payment': 0.8826740980148315}\n",
      "{'regret_max': 0.005839288234710693, 'regret_mean': 0.00012488094216678292, 'regret_mults': tensor([[143.4184, 125.8925]], device='cuda:0'), 'payment': 0.8862779140472412}\n",
      "{'regret_max': 0.004468202590942383, 'regret_mean': 0.00010635545186232775, 'regret_mults': tensor([[144.5728, 127.2493]], device='cuda:0'), 'payment': 0.8899072408676147}\n",
      "CPU times: user 20min 31s, sys: 3.36 s, total: 20min 35s\n",
      "Wall time: 20min 28s\n"
     ]
    }
   ],
   "source": [
    "%%time\n",
    "mean_rgt, mean_pay, lagr_mults = train_loop(model, train_loader, args, device=device)"
   ]
  },
  {
   "cell_type": "code",
   "execution_count": 6,
   "metadata": {},
   "outputs": [],
   "source": [
    "dir_name = 'regretnet_unit_2x3_0_1_experiment_data/'\n",
    "old_dir_name = 'unit_2x3_0_1_experiment_data/'"
   ]
  },
  {
   "cell_type": "code",
   "execution_count": 7,
   "metadata": {},
   "outputs": [
    {
     "name": "stderr",
     "output_type": "stream",
     "text": [
      "1it [00:03,  3.51s/it]\n"
     ]
    },
    {
     "name": "stdout",
     "output_type": "stream",
     "text": [
      "CPU times: user 3.51 s, sys: 4 ms, total: 3.52 s\n",
      "Wall time: 3.51 s\n"
     ]
    },
    {
     "data": {
      "text/plain": "{'payment_mean': 0.8778939843177795,\n 'regret_mean': 0.0011085437145084143,\n 'regret_max': 0.005724966526031494}"
     },
     "execution_count": 7,
     "metadata": {},
     "output_type": "execute_result"
    }
   ],
   "source": [
    "%%time\n",
    "# model.sinkhorn_rounds = 100\n",
    "# model.sinkhorn_epsilon = 1e-2\n",
    "# test_data = ds.generate_dataset_nxk(args.n_agents, args.n_items, args.test_num_examples, item_ranges).to(device)\n",
    "test_data = torch.load(old_dir_name + 'test_data').to(device=device)\n",
    "cpu_test_data = test_data.clone().to(device='cpu')\n",
    "\n",
    "test_loader = ds.Dataloader(test_data, batch_size=args.test_batch_size, shuffle=True)\n",
    "\n",
    "result = test_loop(model, test_loader, args, device=device)\n",
    "result"
   ]
  },
  {
   "cell_type": "code",
   "execution_count": 8,
   "metadata": {
    "scrolled": true
   },
   "outputs": [
    {
     "name": "stderr",
     "output_type": "stream",
     "text": [
      "1it [00:38, 38.80s/it]\n"
     ]
    },
    {
     "name": "stdout",
     "output_type": "stream",
     "text": [
      "CPU times: user 38.8 s, sys: 88.2 ms, total: 38.9 s\n",
      "Wall time: 38.8 s\n"
     ]
    },
    {
     "data": {
      "text/plain": "{'payment_mean': 0.8778939843177795,\n 'regret_mean': 0.0012301210081204772,\n 'regret_max': 0.005725085735321045}"
     },
     "execution_count": 8,
     "metadata": {},
     "output_type": "execute_result"
    }
   ],
   "source": [
    "%%time\n",
    "args.test_num_examples = 1000\n",
    "args.test_batch_size = 1000\n",
    "args.test_misreport_iter = 1000\n",
    "args.misreport_lr = 1e-1\n",
    "model.sinkhorn_rounds = 20\n",
    "model.sinkhorn_epsilon = 3e-2\n",
    "\n",
    "random_starts = [test_data]\n",
    "for i in range(10):\n",
    "    random_starts.append(ds.generate_dataset_nxk(args.n_agents, args.n_items, args.test_num_examples, item_ranges).to(device))\n",
    "test_loader = ds.Dataloader(test_data, batch_size=args.test_batch_size, shuffle=True)\n",
    "\n",
    "result = test_loop_random_start(model, test_loader, args, random_starts, device=device)\n",
    "result"
   ]
  },
  {
   "cell_type": "code",
   "execution_count": 9,
   "metadata": {},
   "outputs": [],
   "source": [
    "os.makedirs(dir_name, exist_ok=True)\n",
    "model.save(dir_name)"
   ]
  },
  {
   "cell_type": "code",
   "execution_count": 10,
   "metadata": {},
   "outputs": [],
   "source": [
    "import cvxpy as cp\n",
    "import numpy as np\n",
    "from typing import NamedTuple\n",
    "from tqdm.notebook import tqdm"
   ]
  },
  {
   "cell_type": "code",
   "execution_count": 11,
   "metadata": {},
   "outputs": [],
   "source": [
    "class AuctionResult(NamedTuple):\n",
    "    alloc: np.ndarray\n",
    "    welfare: np.ndarray\n",
    "    payment: np.ndarray"
   ]
  },
  {
   "cell_type": "code",
   "execution_count": 12,
   "metadata": {},
   "outputs": [],
   "source": [
    "def max_welfare_alloc(bids_mat, k, exact_demand=False):\n",
    "    # returns allocation, util of allocation\n",
    "\n",
    "    num_agents = bids_mat.shape[0]\n",
    "    num_items = bids_mat.shape[1]\n",
    "    alloc_matrix = cp.Variable((num_agents, num_items), nonneg=True)\n",
    "    item_supply_constraints = cp.sum(alloc_matrix, axis=0) <= 1\n",
    "    if exact_demand:\n",
    "        agent_demand_constraints = cp.sum(alloc_matrix, axis=1) == k\n",
    "    else:\n",
    "        agent_demand_constraints = cp.sum(alloc_matrix, axis=1) <= k\n",
    "    welfare = cp.sum((cp.multiply(bids_mat, alloc_matrix)))\n",
    "    problem = cp.Problem(cp.Maximize(welfare), [item_supply_constraints, agent_demand_constraints])\n",
    "    problem.solve()\n",
    "    return (alloc_matrix.value, problem.value)"
   ]
  },
  {
   "cell_type": "code",
   "execution_count": 13,
   "metadata": {},
   "outputs": [],
   "source": [
    "def vcg_auction(bids_mat, k, exact_demand=False):\n",
    "    main_alloc, max_welfare_total_util = max_welfare_alloc(bids_mat, k, exact_demand=exact_demand)\n",
    "    payments = np.zeros(bids_mat.shape[0])\n",
    "    player_utils = (bids_mat * main_alloc).sum(axis=1)\n",
    "    num_agents = bids_mat.shape[0]\n",
    "    for i in range(num_agents):\n",
    "        dropped_bid_mat = np.delete(bids_mat, (i), axis=0)\n",
    "        dropped_player_utils = np.delete(player_utils, (i), axis=0) # player utils under full auction\n",
    "        new_alloc, new_total_util = max_welfare_alloc(dropped_bid_mat, k, exact_demand=exact_demand)\n",
    "        new_agent_utils = (new_alloc*dropped_bid_mat).sum(axis=1) # player utils without agent i's bid\n",
    "        payments[i] = (new_agent_utils - dropped_player_utils).sum() \n",
    "    return AuctionResult(main_alloc, player_utils, payments)"
   ]
  },
  {
   "cell_type": "code",
   "execution_count": 14,
   "metadata": {},
   "outputs": [],
   "source": [
    "payments = []\n",
    "for i in range(test_data.shape[0]):\n",
    "    payments.append(vcg_auction(cpu_test_data[i].cpu().numpy(), 1, exact_demand=False).payment.sum())"
   ]
  },
  {
   "cell_type": "code",
   "execution_count": 15,
   "metadata": {},
   "outputs": [
    {
     "data": {
      "text/plain": "0.04831120999135777"
     },
     "execution_count": 15,
     "metadata": {},
     "output_type": "execute_result"
    }
   ],
   "source": [
    "np.mean(payments)"
   ]
  },
  {
   "cell_type": "code",
   "execution_count": 16,
   "metadata": {},
   "outputs": [],
   "source": [
    "import pickle\n",
    "to_pkl_lst = [mean_rgt, mean_pay, lagr_mults]\n",
    "for i, fname in enumerate(['mean_rgt', 'mean_pay', 'lagr_mults']):\n",
    "    with open(dir_name + fname, 'wb') as fp:\n",
    "        pickle.dump(to_pkl_lst[i], fp)"
   ]
  },
  {
   "cell_type": "code",
   "execution_count": null,
   "outputs": [],
   "source": [],
   "metadata": {
    "collapsed": false,
    "pycharm": {
     "name": "#%%\n"
    }
   }
  },
  {
   "cell_type": "code",
   "execution_count": null,
   "outputs": [],
   "source": [],
   "metadata": {
    "collapsed": false,
    "pycharm": {
     "name": "#%%\n"
    }
   }
  }
 ],
 "metadata": {
  "kernelspec": {
   "display_name": "Python 3",
   "language": "python",
   "name": "python3"
  },
  "language_info": {
   "codemirror_mode": {
    "name": "ipython",
    "version": 3
   },
   "file_extension": ".py",
   "mimetype": "text/x-python",
   "name": "python",
   "nbconvert_exporter": "python",
   "pygments_lexer": "ipython3",
   "version": "3.7.4"
  }
 },
 "nbformat": 4,
 "nbformat_minor": 2
}