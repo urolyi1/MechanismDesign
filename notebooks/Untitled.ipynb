{
 "cells": [
  {
   "cell_type": "code",
   "execution_count": 1,
   "metadata": {},
   "outputs": [],
   "source": [
    "import cvxpy as cp"
   ]
  },
  {
   "cell_type": "code",
   "execution_count": 5,
   "metadata": {},
   "outputs": [],
   "source": [
    "n_structures = 24\n",
    "n_h_t_combos = 2 * 7\n",
    "\n",
    "x1 = cp.Variable(n_structures)\n",
    "w = cp.Parameter(n_structures)  # structure weight\n",
    "z = cp.Parameter(n_structures)  # control parameter\n",
    "b = cp.Parameter(n_h_t_combos)  # max bid\n",
    "c_strength = cp.Parameter(nonneg=True)\n",
    "s = cp.Parameter((n_h_t_combos, n_structures), nonneg=True)\n",
    "\n",
    "constraints = [x1 >= 0, s @ x1 <= b]  # constraint for positive allocation and less than true bid\n",
    "objective = cp.Maximize((w.T @ x1) + c_strength * cp.norm(x1, 1))\n",
    "problem = cp.Problem(objective, constraints)\n"
   ]
  },
  {
   "cell_type": "code",
   "execution_count": 6,
   "metadata": {},
   "outputs": [
    {
     "ename": "TypeError",
     "evalue": "is_dcp() got an unexpected keyword argument 'dpp'",
     "output_type": "error",
     "traceback": [
      "\u001b[1;31m---------------------------------------------------------------------------\u001b[0m",
      "\u001b[1;31mTypeError\u001b[0m                                 Traceback (most recent call last)",
      "\u001b[1;32m<ipython-input-6-a23cde725cc3>\u001b[0m in \u001b[0;36m<module>\u001b[1;34m\u001b[0m\n\u001b[1;32m----> 1\u001b[1;33m \u001b[0mobjective\u001b[0m\u001b[1;33m.\u001b[0m\u001b[0mis_dcp\u001b[0m\u001b[1;33m(\u001b[0m\u001b[0mdpp\u001b[0m\u001b[1;33m=\u001b[0m\u001b[1;32mTrue\u001b[0m\u001b[1;33m)\u001b[0m\u001b[1;33m\u001b[0m\u001b[1;33m\u001b[0m\u001b[0m\n\u001b[0m",
      "\u001b[1;31mTypeError\u001b[0m: is_dcp() got an unexpected keyword argument 'dpp'"
     ]
    }
   ],
   "source": [
    "objective.is_dcp(dpp=True)"
   ]
  }
 ],
 "metadata": {
  "kernelspec": {
   "display_name": "Python 3",
   "language": "python",
   "name": "python3"
  },
  "language_info": {
   "codemirror_mode": {
    "name": "ipython",
    "version": 3
   },
   "file_extension": ".py",
   "mimetype": "text/x-python",
   "name": "python",
   "nbconvert_exporter": "python",
   "pygments_lexer": "ipython3",
   "version": "3.7.6"
  }
 },
 "nbformat": 4,
 "nbformat_minor": 4
}
