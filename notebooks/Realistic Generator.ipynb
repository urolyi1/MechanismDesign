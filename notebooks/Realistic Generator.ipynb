{
 "cells": [
  {
   "cell_type": "code",
   "execution_count": 1,
   "metadata": {},
   "outputs": [],
   "source": [
    "import numpy as np\n",
    "import torch\n",
    "import HospitalGenerators as hg"
   ]
  },
  {
   "cell_type": "code",
   "execution_count": 2,
   "metadata": {},
   "outputs": [
    {
     "data": {
      "text/plain": [
       "(2, 0)"
      ]
     },
     "execution_count": 2,
     "metadata": {},
     "output_type": "execute_result"
    }
   ],
   "source": [
    "(2, 0, 3, 4)[:2]"
   ]
  },
  {
   "cell_type": "code",
   "execution_count": 12,
   "metadata": {},
   "outputs": [],
   "source": [
    "class RealisticHospitalNoTissue:\n",
    "    def __init__(self, k, with_tissue=False):\n",
    "        # [O, A, B, AB] Probabilities\n",
    "        self.bloodtypes = ['', 'A', 'B', 'AB']\n",
    "        self.bloodtype_probs = [0.04, 0.34, 0.14, 0.48]\n",
    "        self.bloodtype_cutoffs = [0.48, 0.82, 0.96, 1.0]\n",
    "        \n",
    "        self.patients = k\n",
    "        self.tissue = with_tissue\n",
    "        \n",
    "    def generate(self, batch_size):\n",
    "        num_types = len(self.bloodtype_probs)\n",
    "        \n",
    "        # patient type, donor_type, patient tissue_type, donor tissue type\n",
    "        bids = np.zeros((batch_size, num_types, num_types))\n",
    "        \n",
    "        for i in range(batch_size):\n",
    "            for j in range(self.patients):\n",
    "                bids[(i, ) + self.generate_pair()] += 1.0\n",
    "            \n",
    "        return bids.reshape((batch_size, -1))\n",
    "    \n",
    "    def generate_pair(self):\n",
    "        blood_idx = np.random.choice(len(self.bloodtype_probs), p=self.bloodtype_probs, size=2)\n",
    "        p_blood_idx = blood_idx[0]\n",
    "        d_blood_idx = blood_idx[1]\n",
    "\n",
    "        ret_tuple = (p_blood_idx, d_blood_idx)\n",
    "                \n",
    "        return ret_tuple\n",
    "    \n",
    "    def is_blood_compat(self, p_idx, d_idx):\n",
    "        p_type = self.bloodtypes[p_idx]\n",
    "        d_type = self.bloodtypes[d_idx]\n",
    "        for ch in d_type:\n",
    "            if ch not in p_type:\n",
    "                return False\n",
    "        return True"
   ]
  },
  {
   "cell_type": "code",
   "execution_count": 36,
   "metadata": {},
   "outputs": [],
   "source": [
    "class RealisticHospital:\n",
    "    def __init__(self, k, with_tissue=False):\n",
    "        # [O, A, B, AB] Probabilities\n",
    "        self.bloodtypes = ['', 'A', 'B', 'AB']\n",
    "        self.bloodtype_probs = [0.48, 0.34, 0.14, 0.04]\n",
    "        self.bloodtype_cutoffs = [0.48, 0.82, 0.96, 1.0]\n",
    "\n",
    "        # Tissue incompatibilitiy probabilities\n",
    "        self.tissue_probs = [.7, .2, .1]\n",
    "        self.tissue_cutoffs = [.7, .9, 1.0]\n",
    "\n",
    "        # Tissue incompat values\n",
    "        self.tissue_vals = [0.05, 0.45, 0.9]\n",
    "        self.patients = k\n",
    "        self.tissue = with_tissue\n",
    "\n",
    "    def generate(self, batch_size):\n",
    "        num_types = len(self.bloodtype_probs)\n",
    "        num_tissue = len(self.tissue_probs)\n",
    "        \n",
    "        if self.tissue:\n",
    "            # patient type, donor_type, patient tissue_type, donor tissue type\n",
    "            bids = np.zeros((batch_size, num_types, num_types, num_tissue, num_tissue))\n",
    "            for i in range(batch_size):\n",
    "                for j in range(self.patients):\n",
    "                    bids[(i, ) + self.generate_pair()] += 1.0\n",
    "        else:\n",
    "            # patient type, donor_type,\n",
    "            bids = np.zeros((batch_size, num_types, num_types))\n",
    "            for i in range(batch_size):\n",
    "                for j in range(self.patients):\n",
    "                    bids[(i, ) + self.generate_pair()[:2]] += 1.0\n",
    "            \n",
    "        return bids.reshape((batch_size, -1))\n",
    "    \n",
    "    def generate_pair(self):\n",
    "        incompat = False\n",
    "        ret_tuple = None\n",
    "        while (not incompat):\n",
    "            tissue_idx = np.random.choice(len(self.tissue_probs), p=self.tissue_probs, size=2)\n",
    "            p_tissue_idx = tissue_idx[0]\n",
    "            d_tissue_idx = tissue_idx[1]\n",
    "\n",
    "            blood_idx = np.random.choice(len(self.bloodtype_probs), p=self.bloodtype_probs, size=2)\n",
    "            p_blood_idx = blood_idx[0]\n",
    "            d_blood_idx = blood_idx[1]\n",
    "            \n",
    "            if (self.tissue_vals[d_tissue_idx] < self.tissue_vals[p_tissue_idx] \n",
    "                or not self.is_blood_compat(p_blood_idx, d_blood_idx)):\n",
    "                incompat = True\n",
    "                ret_tuple = (p_blood_idx, d_blood_idx, p_tissue_idx, d_tissue_idx)\n",
    "        return ret_tuple\n",
    "    \n",
    "    def is_blood_compat(self, p_idx, d_idx):\n",
    "        p_type = self.bloodtypes[p_idx]\n",
    "        d_type = self.bloodtypes[d_idx]\n",
    "        for ch in d_type:\n",
    "            if ch not in p_type:\n",
    "                return False\n",
    "        return True\n",
    "            \n",
    "        \n",
    "        "
   ]
  },
  {
   "cell_type": "code",
   "execution_count": 43,
   "metadata": {},
   "outputs": [],
   "source": [
    "np.random.seed(0)\n",
    "test = RealisticHospital(100)"
   ]
  },
  {
   "cell_type": "code",
   "execution_count": 47,
   "metadata": {},
   "outputs": [
    {
     "data": {
      "text/plain": [
       "array([[11., 26., 16.,  2.],\n",
       "       [12.,  8., 10.,  0.],\n",
       "       [ 1.,  9.,  1.,  2.],\n",
       "       [ 1.,  1.,  0.,  0.]])"
      ]
     },
     "execution_count": 47,
     "metadata": {},
     "output_type": "execute_result"
    }
   ],
   "source": [
    "test.generate(10)[0, :].reshape((4, 4))"
   ]
  },
  {
   "cell_type": "code",
   "execution_count": 13,
   "metadata": {},
   "outputs": [],
   "source": [
    "hos_list = [RealisticHospitalNoTissue(200), RealisticHospitalNoTissue(100), RealisticHospitalNoTissue(10)]\n",
    "gen = hg.ReportGenerator(hos_list, (3, 16))"
   ]
  },
  {
   "cell_type": "code",
   "execution_count": 14,
   "metadata": {},
   "outputs": [
    {
     "data": {
      "text/plain": [
       "array([[[ 0.,  0.,  1.,  3.,  2., 18., 13., 29.,  0., 14.,  4., 14.,\n",
       "          4., 29., 14., 55.],\n",
       "        [ 0.,  1.,  0.,  2.,  0., 18.,  5., 12.,  0.,  9.,  2.,  7.,\n",
       "          2., 17.,  6., 19.],\n",
       "        [ 0.,  0.,  0.,  0.,  0.,  1.,  2.,  1.,  0.,  0.,  1.,  0.,\n",
       "          1.,  2.,  1.,  1.]],\n",
       "\n",
       "       [[ 2.,  4.,  1.,  2.,  4., 28.,  7., 36.,  1., 13.,  3.,  9.,\n",
       "          1., 36., 13., 40.],\n",
       "        [ 0.,  1.,  1.,  0.,  2.,  9.,  9., 11.,  1.,  8.,  1.,  5.,\n",
       "          2., 19.,  4., 27.],\n",
       "        [ 0.,  0.,  0.,  0.,  0.,  2.,  2.,  1.,  0.,  0.,  1.,  1.,\n",
       "          0.,  1.,  1.,  1.]],\n",
       "\n",
       "       [[ 0.,  1.,  0.,  2.,  2., 28.,  9., 28.,  1., 11.,  4.,  7.,\n",
       "         10., 31., 14., 52.],\n",
       "        [ 1.,  1.,  0.,  5.,  0., 15.,  2., 15.,  0.,  5.,  0.,  9.,\n",
       "          4., 12.,  6., 25.],\n",
       "        [ 0.,  0.,  0.,  3.,  1.,  0.,  0.,  1.,  0.,  0.,  0.,  0.,\n",
       "          0.,  1.,  0.,  4.]],\n",
       "\n",
       "       [[ 0.,  1.,  0.,  3.,  3., 18.,  7., 31.,  0.,  8.,  5., 15.,\n",
       "          7., 38., 21., 43.],\n",
       "        [ 0.,  2.,  2.,  3.,  2.,  9.,  5., 13.,  1.,  4.,  3.,  6.,\n",
       "          0., 15.,  3., 32.],\n",
       "        [ 0.,  0.,  0.,  0.,  0.,  3.,  1.,  0.,  0.,  0.,  0.,  1.,\n",
       "          0.,  2.,  1.,  2.]],\n",
       "\n",
       "       [[ 0.,  2.,  2.,  6.,  2., 27.,  4., 29.,  1.,  5.,  5., 20.,\n",
       "          5., 40., 14., 38.],\n",
       "        [ 0.,  2.,  0.,  0.,  1., 11.,  6., 19.,  0.,  5.,  2.,  6.,\n",
       "          1., 14.,  7., 26.],\n",
       "        [ 0.,  0.,  0.,  0.,  0.,  1.,  1.,  1.,  0.,  1.,  0.,  1.,\n",
       "          0.,  1.,  0.,  4.]],\n",
       "\n",
       "       [[ 0.,  4.,  0.,  2.,  2., 28.,  8., 37.,  1., 10.,  3., 14.,\n",
       "          3., 26., 15., 47.],\n",
       "        [ 0.,  4.,  0.,  2.,  1., 15.,  7., 18.,  0.,  8.,  2.,  4.,\n",
       "          1., 15.,  5., 18.],\n",
       "        [ 0.,  0.,  0.,  0.,  0.,  0.,  0.,  4.,  0.,  0.,  1.,  1.,\n",
       "          0.,  2.,  1.,  1.]],\n",
       "\n",
       "       [[ 0.,  4.,  2.,  5.,  3., 20., 11., 40.,  1.,  5.,  5., 11.,\n",
       "          5., 35., 11., 42.],\n",
       "        [ 0.,  3.,  0.,  1.,  3., 14.,  4., 18.,  0.,  8.,  3.,  8.,\n",
       "          2., 13.,  4., 19.],\n",
       "        [ 0.,  0.,  0.,  0.,  0.,  3.,  1.,  1.,  1.,  2.,  0.,  1.,\n",
       "          0.,  0.,  0.,  1.]],\n",
       "\n",
       "       [[ 1.,  5.,  0.,  1.,  2., 17.,  9., 44.,  1., 12.,  4., 14.,\n",
       "          4., 22., 20., 44.],\n",
       "        [ 0.,  0.,  2.,  4.,  0.,  9.,  3., 19.,  0.,  5.,  4.,  7.,\n",
       "          1., 19.,  7., 20.],\n",
       "        [ 0.,  0.,  0.,  0.,  0.,  1.,  1.,  0.,  0.,  1.,  0.,  0.,\n",
       "          1.,  5.,  0.,  1.]],\n",
       "\n",
       "       [[ 0.,  4.,  3.,  5.,  1., 20., 10., 21.,  0., 11.,  5., 19.,\n",
       "          2., 32., 13., 54.],\n",
       "        [ 0.,  2.,  0.,  2.,  1., 12.,  8., 12.,  0.,  5.,  3., 10.,\n",
       "          1., 15., 10., 19.],\n",
       "        [ 0.,  0.,  0.,  0.,  0.,  1.,  2.,  0.,  0.,  2.,  0.,  1.,\n",
       "          0.,  1.,  2.,  1.]],\n",
       "\n",
       "       [[ 0.,  2.,  2.,  5.,  5., 19.,  8., 29.,  3.,  7.,  1., 14.,\n",
       "          0., 36., 11., 58.],\n",
       "        [ 0.,  1.,  0.,  0.,  1.,  8.,  9., 22.,  0.,  5.,  0.,  5.,\n",
       "          1., 20.,  7., 21.],\n",
       "        [ 0.,  0.,  0.,  0.,  0.,  1.,  0.,  2.,  0.,  0.,  0.,  0.,\n",
       "          0.,  3.,  0.,  4.]]])"
      ]
     },
     "execution_count": 14,
     "metadata": {},
     "output_type": "execute_result"
    }
   ],
   "source": [
    "next(gen.generate_report(10))"
   ]
  }
 ],
 "metadata": {
  "kernelspec": {
   "display_name": "Python 3",
   "language": "python",
   "name": "python3"
  },
  "language_info": {
   "codemirror_mode": {
    "name": "ipython",
    "version": 3
   },
   "file_extension": ".py",
   "mimetype": "text/x-python",
   "name": "python",
   "nbconvert_exporter": "python",
   "pygments_lexer": "ipython3",
   "version": "3.7.6"
  }
 },
 "nbformat": 4,
 "nbformat_minor": 4
}
