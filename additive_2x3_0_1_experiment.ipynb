{
 "cells": [
  {
   "cell_type": "code",
   "execution_count": 1,
   "metadata": {},
   "outputs": [],
   "source": [
    "import torch\n",
    "from torch import nn, optim\n",
    "import torch.nn.functional as F\n",
    "import numpy as np\n",
    "from argparse import ArgumentParser\n",
    "from double_net.double_net import DoubleNet, train_loop, train_loop_no_lagrange, test_loop\n",
    "from double_net import datasets as ds\n",
    "import time\n",
    "import double_net.plot_utils as pu\n",
    "import importlib\n",
    "import matplotlib.pyplot as plt"
   ]
  },
  {
   "cell_type": "code",
   "execution_count": 2,
   "metadata": {},
   "outputs": [],
   "source": [
    "if torch.cuda.is_available():\n",
    "    device = 'cuda'\n",
    "else:\n",
    "    device = 'cpu'"
   ]
  },
  {
   "cell_type": "code",
   "execution_count": 3,
   "metadata": {},
   "outputs": [
    {
     "data": {
      "text/plain": [
       "Namespace(batch_size=4096, lagr_update_iter=100, misreport_iter=25, misreport_lr=0.1, model_lr=0.001, n_agents=2, n_items=3, num_epochs=100, num_examples=524288, random_seed=0, rgt_start=0, rho=1, rho_incr_amount=1.0, rho_incr_iter=2, sinkhorn_epsilon=0.05, sinkhorn_rounds=20, test_batch_size=1000, test_iter=5, test_misreport_iter=1000, test_num_examples=1000)"
      ]
     },
     "execution_count": 3,
     "metadata": {},
     "output_type": "execute_result"
    }
   ],
   "source": [
    "parser = ArgumentParser()\n",
    "parser.add_argument('--random-seed', type=int, default=0)\n",
    "parser.add_argument('--num-examples', type=int, default=131072 * 4)\n",
    "parser.add_argument('--test-num-examples', type=int, default=1000)\n",
    "parser.add_argument('--test-iter', type=int, default=5)\n",
    "parser.add_argument('--n-agents', type=int, default=2)\n",
    "parser.add_argument('--n-items', type=int, default=3)\n",
    "parser.add_argument('--num-epochs', type=int, default=100)\n",
    "parser.add_argument('--batch-size', type=int, default=128 * 32)\n",
    "parser.add_argument('--test-batch-size', type=int, default=1000)\n",
    "parser.add_argument('--model-lr', type=float, default=1e-3)\n",
    "parser.add_argument('--misreport-lr', type=float, default=1e-1)\n",
    "parser.add_argument('--misreport-iter', type=int, default=25)\n",
    "parser.add_argument('--test-misreport-iter', type=int, default=1000)\n",
    "parser.add_argument('--rho', type=float, default=1)\n",
    "parser.add_argument('--rho-incr-iter', type=int, default=2)\n",
    "parser.add_argument('--rho-incr-amount', type=float, default=1.0)\n",
    "parser.add_argument('--lagr-update-iter', type=int, default=100)\n",
    "parser.add_argument('--rgt-start', type=int, default=0)\n",
    "parser.add_argument('--sinkhorn-epsilon', type=float, default=5e-2)\n",
    "parser.add_argument('--sinkhorn-rounds', type=int, default=20)\n",
    "\n",
    "\n",
    "args = parser.parse_args(args=[])\n",
    "args"
   ]
  },
  {
   "cell_type": "code",
   "execution_count": 4,
   "metadata": {},
   "outputs": [],
   "source": [
    "torch.manual_seed(args.random_seed)\n",
    "np.random.seed(args.random_seed)\n",
    "\n",
    "item_ranges = ds.preset_valuation_range(args.n_agents, args.n_items, \"\")\n",
    "\n",
    "model = DoubleNet(\n",
    "    args.n_agents, args.n_items, item_ranges, args.sinkhorn_epsilon, args.sinkhorn_rounds, marginal_choice='additive'\n",
    ").to(device)\n",
    "\n",
    "train_data = ds.generate_dataset_nxk(args.n_agents, args.n_items, args.num_examples, item_ranges).to(device)\n",
    "train_loader = ds.Dataloader(train_data, batch_size=args.batch_size, shuffle=True)"
   ]
  },
  {
   "cell_type": "code",
   "execution_count": 5,
   "metadata": {
    "scrolled": true
   },
   "outputs": [
    {
     "name": "stderr",
     "output_type": "stream",
     "text": [
      "  1%|          | 1/100 [01:09<1:55:08, 69.78s/it]"
     ]
    },
    {
     "name": "stdout",
     "output_type": "stream",
     "text": [
      "{'regret_max': 0.7837794423103333, 'regret_mean': 0.030194148421287537, 'regret_mults': tensor([[6.0785, 5.9748]], device='cuda:0'), 'payment': 1.2467942237854004}\n"
     ]
    },
    {
     "name": "stderr",
     "output_type": "stream",
     "text": [
      "\r",
      "  2%|▏         | 2/100 [02:18<1:53:13, 69.32s/it]"
     ]
    },
    {
     "name": "stdout",
     "output_type": "stream",
     "text": [
      "{'regret_max': 0.2061464786529541, 'regret_mean': 0.011071741580963135, 'regret_mults': tensor([[7.2694, 7.0683]], device='cuda:0'), 'payment': 1.3274056911468506}\n"
     ]
    },
    {
     "name": "stderr",
     "output_type": "stream",
     "text": [
      "\r",
      "  3%|▎         | 3/100 [03:20<1:48:53, 67.35s/it]"
     ]
    },
    {
     "name": "stdout",
     "output_type": "stream",
     "text": [
      "{'regret_max': 0.3419687747955322, 'regret_mean': 0.008798059076070786, 'regret_mults': tensor([[8.2989, 7.9674]], device='cuda:0'), 'payment': 1.3052198886871338}\n"
     ]
    },
    {
     "name": "stderr",
     "output_type": "stream",
     "text": [
      "\r",
      "  4%|▍         | 4/100 [04:25<1:46:31, 66.58s/it]"
     ]
    },
    {
     "name": "stdout",
     "output_type": "stream",
     "text": [
      "{'regret_max': 0.15235847234725952, 'regret_mean': 0.005339287221431732, 'regret_mults': tensor([[10.5670, 11.0634]], device='cuda:0'), 'payment': 1.3097811937332153}\n"
     ]
    },
    {
     "name": "stderr",
     "output_type": "stream",
     "text": [
      "\r",
      "  5%|▌         | 5/100 [05:33<1:46:01, 66.97s/it]"
     ]
    },
    {
     "name": "stdout",
     "output_type": "stream",
     "text": [
      "{'regret_max': 0.13378262519836426, 'regret_mean': 0.004928014241158962, 'regret_mults': tensor([[11.7516, 12.1886]], device='cuda:0'), 'payment': 1.3044145107269287}\n"
     ]
    },
    {
     "name": "stderr",
     "output_type": "stream",
     "text": [
      "\r",
      "  6%|▌         | 6/100 [06:36<1:43:06, 65.81s/it]"
     ]
    },
    {
     "name": "stdout",
     "output_type": "stream",
     "text": [
      "{'regret_max': 0.07348227500915527, 'regret_mean': 0.0038359961472451687, 'regret_mults': tensor([[13.3173, 13.0847]], device='cuda:0'), 'payment': 1.3050858974456787}\n"
     ]
    },
    {
     "name": "stderr",
     "output_type": "stream",
     "text": [
      "\r",
      "  7%|▋         | 7/100 [07:39<1:40:49, 65.05s/it]"
     ]
    },
    {
     "name": "stdout",
     "output_type": "stream",
     "text": [
      "{'regret_max': 0.07174301147460938, 'regret_mean': 0.0035237749107182026, 'regret_mults': tensor([[14.5313, 14.2045]], device='cuda:0'), 'payment': 1.3021867275238037}\n"
     ]
    },
    {
     "name": "stderr",
     "output_type": "stream",
     "text": [
      "\r",
      "  8%|▊         | 8/100 [08:43<1:39:20, 64.78s/it]"
     ]
    },
    {
     "name": "stdout",
     "output_type": "stream",
     "text": [
      "{'regret_max': 0.5392380952835083, 'regret_mean': 0.014241544529795647, 'regret_mults': tensor([[21.5745, 21.2409]], device='cuda:0'), 'payment': 0.9322757720947266}\n"
     ]
    },
    {
     "name": "stderr",
     "output_type": "stream",
     "text": [
      "\r",
      "  9%|▉         | 9/100 [09:47<1:37:53, 64.54s/it]"
     ]
    },
    {
     "name": "stdout",
     "output_type": "stream",
     "text": [
      "{'regret_max': 0.12228822708129883, 'regret_mean': 0.0051458049565553665, 'regret_mults': tensor([[24.0357, 22.9223]], device='cuda:0'), 'payment': 1.168781042098999}\n"
     ]
    },
    {
     "name": "stderr",
     "output_type": "stream",
     "text": [
      "\r",
      " 10%|█         | 10/100 [10:52<1:36:47, 64.53s/it]"
     ]
    },
    {
     "name": "stdout",
     "output_type": "stream",
     "text": [
      "{'regret_max': 0.08020293712615967, 'regret_mean': 0.002430805703625083, 'regret_mults': tensor([[25.6473, 24.2905]], device='cuda:0'), 'payment': 1.235047459602356}\n"
     ]
    },
    {
     "name": "stderr",
     "output_type": "stream",
     "text": [
      "\r",
      " 11%|█         | 11/100 [12:00<1:37:24, 65.67s/it]"
     ]
    },
    {
     "name": "stdout",
     "output_type": "stream",
     "text": [
      "{'regret_max': 0.10214102268218994, 'regret_mean': 0.002234497806057334, 'regret_mults': tensor([[27.8699, 25.8079]], device='cuda:0'), 'payment': 1.2460811138153076}\n"
     ]
    },
    {
     "name": "stderr",
     "output_type": "stream",
     "text": [
      "\r",
      " 12%|█▏        | 12/100 [13:10<1:38:14, 66.99s/it]"
     ]
    },
    {
     "name": "stdout",
     "output_type": "stream",
     "text": [
      "{'regret_max': 0.03430783748626709, 'regret_mean': 0.001394101302139461, 'regret_mults': tensor([[28.8010, 26.9474]], device='cuda:0'), 'payment': 1.2571349143981934}\n"
     ]
    },
    {
     "name": "stderr",
     "output_type": "stream",
     "text": [
      "\r",
      " 13%|█▎        | 13/100 [14:20<1:38:18, 67.80s/it]"
     ]
    },
    {
     "name": "stdout",
     "output_type": "stream",
     "text": [
      "{'regret_max': 0.05207711458206177, 'regret_mean': 0.0016858212184160948, 'regret_mults': tensor([[29.6145, 27.9340]], device='cuda:0'), 'payment': 1.2629913091659546}\n"
     ]
    },
    {
     "name": "stderr",
     "output_type": "stream",
     "text": [
      "\r",
      " 14%|█▍        | 14/100 [15:30<1:38:07, 68.46s/it]"
     ]
    },
    {
     "name": "stdout",
     "output_type": "stream",
     "text": [
      "{'regret_max': 0.07615017890930176, 'regret_mean': 0.0018316502682864666, 'regret_mults': tensor([[32.5822, 29.7130]], device='cuda:0'), 'payment': 1.265346884727478}\n"
     ]
    },
    {
     "name": "stderr",
     "output_type": "stream",
     "text": [
      "\r",
      " 15%|█▌        | 15/100 [16:32<1:34:22, 66.62s/it]"
     ]
    },
    {
     "name": "stdout",
     "output_type": "stream",
     "text": [
      "{'regret_max': 0.049458324909210205, 'regret_mean': 0.0015878417761996388, 'regret_mults': tensor([[35.0745, 32.3701]], device='cuda:0'), 'payment': 1.266992211341858}\n"
     ]
    },
    {
     "name": "stderr",
     "output_type": "stream",
     "text": [
      "\r",
      " 16%|█▌        | 16/100 [17:37<1:32:28, 66.06s/it]"
     ]
    },
    {
     "name": "stdout",
     "output_type": "stream",
     "text": [
      "{'regret_max': 0.06046760082244873, 'regret_mean': 0.001734023098833859, 'regret_mults': tensor([[36.2978, 33.4420]], device='cuda:0'), 'payment': 1.2657954692840576}\n"
     ]
    },
    {
     "name": "stderr",
     "output_type": "stream",
     "text": [
      "\r",
      " 17%|█▋        | 17/100 [18:44<1:31:39, 66.26s/it]"
     ]
    },
    {
     "name": "stdout",
     "output_type": "stream",
     "text": [
      "{'regret_max': 0.06241750717163086, 'regret_mean': 0.0014960307162255049, 'regret_mults': tensor([[37.6317, 34.7516]], device='cuda:0'), 'payment': 1.2654517889022827}\n"
     ]
    },
    {
     "name": "stderr",
     "output_type": "stream",
     "text": [
      "\r",
      " 18%|█▊        | 18/100 [19:48<1:29:45, 65.68s/it]"
     ]
    },
    {
     "name": "stdout",
     "output_type": "stream",
     "text": [
      "{'regret_max': 0.48063111305236816, 'regret_mean': 0.004821081645786762, 'regret_mults': tensor([[39.5477, 41.9254]], device='cuda:0'), 'payment': 0.8190990686416626}\n"
     ]
    },
    {
     "name": "stderr",
     "output_type": "stream",
     "text": [
      "\r",
      " 19%|█▉        | 19/100 [20:51<1:27:33, 64.86s/it]"
     ]
    },
    {
     "name": "stdout",
     "output_type": "stream",
     "text": [
      "{'regret_max': 0.06038200855255127, 'regret_mean': 0.0016055181622505188, 'regret_mults': tensor([[40.1307, 49.5862]], device='cuda:0'), 'payment': 0.8197664618492126}\n"
     ]
    },
    {
     "name": "stderr",
     "output_type": "stream",
     "text": [
      "\r",
      " 20%|██        | 20/100 [21:55<1:26:06, 64.58s/it]"
     ]
    },
    {
     "name": "stdout",
     "output_type": "stream",
     "text": [
      "{'regret_max': 0.44337064027786255, 'regret_mean': 0.004317754879593849, 'regret_mults': tensor([[41.6819, 51.1401]], device='cuda:0'), 'payment': 0.9744274616241455}\n"
     ]
    },
    {
     "name": "stderr",
     "output_type": "stream",
     "text": [
      "\r",
      " 21%|██        | 21/100 [22:59<1:24:44, 64.36s/it]"
     ]
    },
    {
     "name": "stdout",
     "output_type": "stream",
     "text": [
      "{'regret_max': 0.06332206726074219, 'regret_mean': 0.0010496738832443953, 'regret_mults': tensor([[42.8188, 52.2144]], device='cuda:0'), 'payment': 1.1657767295837402}\n"
     ]
    },
    {
     "name": "stderr",
     "output_type": "stream",
     "text": [
      "\r",
      " 22%|██▏       | 22/100 [24:03<1:23:35, 64.30s/it]"
     ]
    },
    {
     "name": "stdout",
     "output_type": "stream",
     "text": [
      "{'regret_max': 0.06980133056640625, 'regret_mean': 0.0011493966449052095, 'regret_mults': tensor([[44.6235, 55.4218]], device='cuda:0'), 'payment': 1.2512154579162598}\n"
     ]
    },
    {
     "name": "stderr",
     "output_type": "stream",
     "text": [
      "\r",
      " 23%|██▎       | 23/100 [25:10<1:23:27, 65.03s/it]"
     ]
    },
    {
     "name": "stdout",
     "output_type": "stream",
     "text": [
      "{'regret_max': 0.047178030014038086, 'regret_mean': 0.0010516326874494553, 'regret_mults': tensor([[46.5236, 57.1871]], device='cuda:0'), 'payment': 1.2536375522613525}\n"
     ]
    },
    {
     "name": "stderr",
     "output_type": "stream",
     "text": [
      "\r",
      " 24%|██▍       | 24/100 [26:20<1:24:09, 66.45s/it]"
     ]
    },
    {
     "name": "stdout",
     "output_type": "stream",
     "text": [
      "{'regret_max': 0.05967003107070923, 'regret_mean': 0.0012824446894228458, 'regret_mults': tensor([[48.8798, 58.7757]], device='cuda:0'), 'payment': 1.2503372430801392}\n"
     ]
    },
    {
     "name": "stderr",
     "output_type": "stream",
     "text": [
      "\r",
      " 25%|██▌       | 25/100 [27:29<1:24:17, 67.44s/it]"
     ]
    },
    {
     "name": "stdout",
     "output_type": "stream",
     "text": [
      "{'regret_max': 0.04022479057312012, 'regret_mean': 0.0008945458685047925, 'regret_mults': tensor([[51.1241, 61.6831]], device='cuda:0'), 'payment': 1.2525476217269897}\n"
     ]
    },
    {
     "name": "stderr",
     "output_type": "stream",
     "text": [
      "\r",
      " 26%|██▌       | 26/100 [28:39<1:24:01, 68.13s/it]"
     ]
    },
    {
     "name": "stdout",
     "output_type": "stream",
     "text": [
      "{'regret_max': 0.050194501876831055, 'regret_mean': 0.0008810973376967013, 'regret_mults': tensor([[52.7926, 63.4668]], device='cuda:0'), 'payment': 1.2528867721557617}\n"
     ]
    },
    {
     "name": "stderr",
     "output_type": "stream",
     "text": [
      "\r",
      " 27%|██▋       | 27/100 [29:43<1:21:19, 66.84s/it]"
     ]
    },
    {
     "name": "stdout",
     "output_type": "stream",
     "text": [
      "{'regret_max': 0.03895127773284912, 'regret_mean': 0.0009015964460559189, 'regret_mults': tensor([[54.5076, 65.4425]], device='cuda:0'), 'payment': 1.2501567602157593}\n"
     ]
    },
    {
     "name": "stderr",
     "output_type": "stream",
     "text": [
      "\r",
      " 28%|██▊       | 28/100 [30:47<1:19:12, 66.00s/it]"
     ]
    },
    {
     "name": "stdout",
     "output_type": "stream",
     "text": [
      "{'regret_max': 0.05986940860748291, 'regret_mean': 0.0009640339994803071, 'regret_mults': tensor([[56.0535, 66.5289]], device='cuda:0'), 'payment': 1.248320460319519}\n"
     ]
    },
    {
     "name": "stderr",
     "output_type": "stream",
     "text": [
      "\r",
      " 29%|██▉       | 29/100 [31:52<1:17:55, 65.86s/it]"
     ]
    },
    {
     "name": "stdout",
     "output_type": "stream",
     "text": [
      "{'regret_max': 0.059793949127197266, 'regret_mean': 0.0010307920165359974, 'regret_mults': tensor([[58.4090, 72.0640]], device='cuda:0'), 'payment': 1.2447173595428467}\n"
     ]
    },
    {
     "name": "stderr",
     "output_type": "stream",
     "text": [
      "\r",
      " 30%|███       | 30/100 [32:58<1:16:53, 65.91s/it]"
     ]
    },
    {
     "name": "stdout",
     "output_type": "stream",
     "text": [
      "{'regret_max': 0.05806112289428711, 'regret_mean': 0.0008678844897076488, 'regret_mults': tensor([[60.0956, 73.0340]], device='cuda:0'), 'payment': 1.2463963031768799}\n"
     ]
    },
    {
     "name": "stderr",
     "output_type": "stream",
     "text": [
      "\r",
      " 31%|███       | 31/100 [34:01<1:14:42, 64.96s/it]"
     ]
    },
    {
     "name": "stdout",
     "output_type": "stream",
     "text": [
      "{'regret_max': 0.04266965389251709, 'regret_mean': 0.0007711916114203632, 'regret_mults': tensor([[62.1913, 74.3049]], device='cuda:0'), 'payment': 1.2455356121063232}\n"
     ]
    },
    {
     "name": "stderr",
     "output_type": "stream",
     "text": [
      "\r",
      " 32%|███▏      | 32/100 [35:05<1:13:17, 64.66s/it]"
     ]
    },
    {
     "name": "stdout",
     "output_type": "stream",
     "text": [
      "{'regret_max': 0.046646714210510254, 'regret_mean': 0.0008370529976673424, 'regret_mults': tensor([[64.6100, 76.3427]], device='cuda:0'), 'payment': 1.2431845664978027}\n"
     ]
    },
    {
     "name": "stderr",
     "output_type": "stream",
     "text": [
      "\r",
      " 33%|███▎      | 33/100 [36:09<1:11:53, 64.38s/it]"
     ]
    },
    {
     "name": "stdout",
     "output_type": "stream",
     "text": [
      "{'regret_max': 0.061841368675231934, 'regret_mean': 0.0008546389872208238, 'regret_mults': tensor([[66.8335, 78.5247]], device='cuda:0'), 'payment': 1.2415134906768799}\n"
     ]
    },
    {
     "name": "stderr",
     "output_type": "stream",
     "text": [
      "\r",
      " 34%|███▍      | 34/100 [37:13<1:10:44, 64.32s/it]"
     ]
    },
    {
     "name": "stdout",
     "output_type": "stream",
     "text": [
      "{'regret_max': 0.25632643699645996, 'regret_mean': 0.0022070719860494137, 'regret_mults': tensor([[68.4432, 79.9604]], device='cuda:0'), 'payment': 1.2118370532989502}\n"
     ]
    },
    {
     "name": "stderr",
     "output_type": "stream",
     "text": [
      "\r",
      " 35%|███▌      | 35/100 [38:18<1:10:01, 64.64s/it]"
     ]
    },
    {
     "name": "stdout",
     "output_type": "stream",
     "text": [
      "{'regret_max': 0.08922302722930908, 'regret_mean': 0.0008247453952208161, 'regret_mults': tensor([[69.8658, 81.7450]], device='cuda:0'), 'payment': 1.2383437156677246}\n"
     ]
    },
    {
     "name": "stderr",
     "output_type": "stream",
     "text": [
      "\r",
      " 36%|███▌      | 36/100 [39:28<1:10:39, 66.23s/it]"
     ]
    },
    {
     "name": "stdout",
     "output_type": "stream",
     "text": [
      "{'regret_max': 0.03412926197052002, 'regret_mean': 0.0005590712535195053, 'regret_mults': tensor([[72.5319, 83.9867]], device='cuda:0'), 'payment': 1.2376291751861572}\n"
     ]
    },
    {
     "name": "stderr",
     "output_type": "stream",
     "text": [
      "\r",
      " 37%|███▋      | 37/100 [40:38<1:10:44, 67.37s/it]"
     ]
    },
    {
     "name": "stdout",
     "output_type": "stream",
     "text": [
      "{'regret_max': 0.0424884557723999, 'regret_mean': 0.0007095803739503026, 'regret_mults': tensor([[73.3799, 84.6894]], device='cuda:0'), 'payment': 1.2368100881576538}\n"
     ]
    },
    {
     "name": "stderr",
     "output_type": "stream",
     "text": [
      "\r",
      " 38%|███▊      | 38/100 [41:48<1:10:26, 68.16s/it]"
     ]
    },
    {
     "name": "stdout",
     "output_type": "stream",
     "text": [
      "{'regret_max': 0.04901742935180664, 'regret_mean': 0.00063435168704018, 'regret_mults': tensor([[74.6144, 85.9920]], device='cuda:0'), 'payment': 1.236924409866333}\n"
     ]
    },
    {
     "name": "stderr",
     "output_type": "stream",
     "text": [
      "\r",
      " 39%|███▉      | 39/100 [42:51<1:07:43, 66.62s/it]"
     ]
    },
    {
     "name": "stdout",
     "output_type": "stream",
     "text": [
      "{'regret_max': 0.04010176658630371, 'regret_mean': 0.0006443759193643928, 'regret_mults': tensor([[75.6953, 86.8634]], device='cuda:0'), 'payment': 1.2377276420593262}\n"
     ]
    },
    {
     "name": "stderr",
     "output_type": "stream",
     "text": [
      "\r",
      " 40%|████      | 40/100 [43:56<1:05:55, 65.93s/it]"
     ]
    },
    {
     "name": "stdout",
     "output_type": "stream",
     "text": [
      "{'regret_max': 0.0636293888092041, 'regret_mean': 0.0007348793442361057, 'regret_mults': tensor([[78.9921, 90.5799]], device='cuda:0'), 'payment': 1.2361094951629639}\n"
     ]
    },
    {
     "name": "stderr",
     "output_type": "stream",
     "text": [
      "\r",
      " 41%|████      | 41/100 [45:02<1:04:49, 65.92s/it]"
     ]
    },
    {
     "name": "stdout",
     "output_type": "stream",
     "text": [
      "{'regret_max': 0.029435157775878906, 'regret_mean': 0.000491965445689857, 'regret_mults': tensor([[81.1094, 91.7984]], device='cuda:0'), 'payment': 1.234452486038208}\n"
     ]
    },
    {
     "name": "stderr",
     "output_type": "stream",
     "text": [
      "\r",
      " 42%|████▏     | 42/100 [46:07<1:03:38, 65.83s/it]"
     ]
    },
    {
     "name": "stdout",
     "output_type": "stream",
     "text": [
      "{'regret_max': 0.03226590156555176, 'regret_mean': 0.0006891589146107435, 'regret_mults': tensor([[81.8802, 92.8964]], device='cuda:0'), 'payment': 1.2332487106323242}\n"
     ]
    },
    {
     "name": "stderr",
     "output_type": "stream",
     "text": [
      "\r",
      " 43%|████▎     | 43/100 [47:10<1:01:40, 64.92s/it]"
     ]
    },
    {
     "name": "stdout",
     "output_type": "stream",
     "text": [
      "{'regret_max': 0.02561664581298828, 'regret_mean': 0.0005251315888017416, 'regret_mults': tensor([[84.9101, 96.0087]], device='cuda:0'), 'payment': 1.2361187934875488}\n"
     ]
    },
    {
     "name": "stderr",
     "output_type": "stream",
     "text": [
      "\r",
      " 44%|████▍     | 44/100 [48:14<1:00:21, 64.68s/it]"
     ]
    },
    {
     "name": "stdout",
     "output_type": "stream",
     "text": [
      "{'regret_max': 0.25063496828079224, 'regret_mean': 0.0017581006977707148, 'regret_mults': tensor([[88.9037, 97.4822]], device='cuda:0'), 'payment': 1.2138423919677734}\n"
     ]
    },
    {
     "name": "stderr",
     "output_type": "stream",
     "text": [
      "\r",
      " 45%|████▌     | 45/100 [49:18<59:02, 64.40s/it]  "
     ]
    },
    {
     "name": "stdout",
     "output_type": "stream",
     "text": [
      "{'regret_max': 0.08147811889648438, 'regret_mean': 0.000979653443209827, 'regret_mults': tensor([[90.0740, 98.4449]], device='cuda:0'), 'payment': 1.219411849975586}\n"
     ]
    },
    {
     "name": "stderr",
     "output_type": "stream",
     "text": [
      "\r",
      " 46%|████▌     | 46/100 [50:22<57:56, 64.37s/it]"
     ]
    },
    {
     "name": "stdout",
     "output_type": "stream",
     "text": [
      "{'regret_max': 0.03154122829437256, 'regret_mean': 0.000488468271214515, 'regret_mults': tensor([[91.3780, 99.4076]], device='cuda:0'), 'payment': 1.232010841369629}\n"
     ]
    },
    {
     "name": "stderr",
     "output_type": "stream",
     "text": [
      "\r",
      " 47%|████▋     | 47/100 [51:28<57:14, 64.81s/it]"
     ]
    },
    {
     "name": "stdout",
     "output_type": "stream",
     "text": [
      "{'regret_max': 0.026808857917785645, 'regret_mean': 0.000542190857231617, 'regret_mults': tensor([[ 93.7440, 101.8779]], device='cuda:0'), 'payment': 1.2297618389129639}\n"
     ]
    },
    {
     "name": "stderr",
     "output_type": "stream",
     "text": [
      "\r",
      " 48%|████▊     | 48/100 [52:38<57:30, 66.35s/it]"
     ]
    },
    {
     "name": "stdout",
     "output_type": "stream",
     "text": [
      "{'regret_max': 0.026616454124450684, 'regret_mean': 0.00047324056504294276, 'regret_mults': tensor([[ 94.6002, 103.7107]], device='cuda:0'), 'payment': 1.230704665184021}\n"
     ]
    },
    {
     "name": "stderr",
     "output_type": "stream",
     "text": [
      "\r",
      " 49%|████▉     | 49/100 [53:48<57:20, 67.46s/it]"
     ]
    },
    {
     "name": "stdout",
     "output_type": "stream",
     "text": [
      "{'regret_max': 0.033657193183898926, 'regret_mean': 0.0005952540086582303, 'regret_mults': tensor([[ 95.7182, 106.7753]], device='cuda:0'), 'payment': 1.2287583351135254}\n"
     ]
    },
    {
     "name": "stderr",
     "output_type": "stream",
     "text": [
      "\r",
      " 50%|█████     | 50/100 [54:58<56:51, 68.24s/it]"
     ]
    },
    {
     "name": "stdout",
     "output_type": "stream",
     "text": [
      "{'regret_max': 0.03796052932739258, 'regret_mean': 0.0005278500029817224, 'regret_mults': tensor([[100.0535, 113.7253]], device='cuda:0'), 'payment': 1.2300841808319092}\n"
     ]
    },
    {
     "name": "stderr",
     "output_type": "stream",
     "text": [
      "\r",
      " 51%|█████     | 51/100 [56:01<54:24, 66.62s/it]"
     ]
    },
    {
     "name": "stdout",
     "output_type": "stream",
     "text": [
      "{'regret_max': 0.02793562412261963, 'regret_mean': 0.00042157183634117246, 'regret_mults': tensor([[103.1655, 115.1108]], device='cuda:0'), 'payment': 1.229315161705017}\n"
     ]
    },
    {
     "name": "stderr",
     "output_type": "stream",
     "text": [
      "\r",
      " 52%|█████▏    | 52/100 [57:05<52:46, 65.97s/it]"
     ]
    },
    {
     "name": "stdout",
     "output_type": "stream",
     "text": [
      "{'regret_max': 0.033091068267822266, 'regret_mean': 0.0005463293637149036, 'regret_mults': tensor([[103.9968, 116.3542]], device='cuda:0'), 'payment': 1.227173089981079}\n"
     ]
    },
    {
     "name": "stderr",
     "output_type": "stream",
     "text": [
      "\r",
      " 53%|█████▎    | 53/100 [58:12<51:44, 66.05s/it]"
     ]
    },
    {
     "name": "stdout",
     "output_type": "stream",
     "text": [
      "{'regret_max': 0.023826003074645996, 'regret_mean': 0.0005441874964162707, 'regret_mults': tensor([[105.6766, 118.0040]], device='cuda:0'), 'payment': 1.226088285446167}\n"
     ]
    },
    {
     "name": "stderr",
     "output_type": "stream",
     "text": [
      "\r",
      " 54%|█████▍    | 54/100 [59:17<50:25, 65.77s/it]"
     ]
    },
    {
     "name": "stdout",
     "output_type": "stream",
     "text": [
      "{'regret_max': 0.04318821430206299, 'regret_mean': 0.0005243226187303662, 'regret_mults': tensor([[109.8100, 128.0381]], device='cuda:0'), 'payment': 1.2272330522537231}\n"
     ]
    },
    {
     "name": "stderr",
     "output_type": "stream",
     "text": [
      "\r",
      " 55%|█████▌    | 55/100 [1:00:20<48:40, 64.89s/it]"
     ]
    },
    {
     "name": "stdout",
     "output_type": "stream",
     "text": [
      "{'regret_max': 0.022384047508239746, 'regret_mean': 0.00046161754289641976, 'regret_mults': tensor([[110.5302, 129.1422]], device='cuda:0'), 'payment': 1.225914716720581}\n"
     ]
    },
    {
     "name": "stderr",
     "output_type": "stream",
     "text": [
      "\r",
      " 56%|█████▌    | 56/100 [1:01:24<47:24, 64.64s/it]"
     ]
    },
    {
     "name": "stdout",
     "output_type": "stream",
     "text": [
      "{'regret_max': 0.03578639030456543, 'regret_mean': 0.0003745590802282095, 'regret_mults': tensor([[111.3679, 130.1161]], device='cuda:0'), 'payment': 1.2294601202011108}\n"
     ]
    },
    {
     "name": "stderr",
     "output_type": "stream",
     "text": [
      "\r",
      " 57%|█████▋    | 57/100 [1:02:27<46:07, 64.37s/it]"
     ]
    },
    {
     "name": "stdout",
     "output_type": "stream",
     "text": [
      "{'regret_max': 0.13734650611877441, 'regret_mean': 0.001014280365779996, 'regret_mults': tensor([[115.2633, 134.7977]], device='cuda:0'), 'payment': 1.2115137577056885}\n"
     ]
    },
    {
     "name": "stderr",
     "output_type": "stream",
     "text": [
      "\r",
      " 58%|█████▊    | 58/100 [1:03:32<45:00, 64.30s/it]"
     ]
    },
    {
     "name": "stdout",
     "output_type": "stream",
     "text": [
      "{'regret_max': 0.02371835708618164, 'regret_mean': 0.0004074698663316667, 'regret_mults': tensor([[120.6379, 138.0506]], device='cuda:0'), 'payment': 1.226905107498169}\n"
     ]
    },
    {
     "name": "stderr",
     "output_type": "stream",
     "text": [
      "\r",
      " 59%|█████▉    | 59/100 [1:04:38<44:18, 64.84s/it]"
     ]
    },
    {
     "name": "stdout",
     "output_type": "stream",
     "text": [
      "{'regret_max': 0.02677321434020996, 'regret_mean': 0.00038274156395345926, 'regret_mults': tensor([[121.2860, 138.8325]], device='cuda:0'), 'payment': 1.2272768020629883}\n"
     ]
    },
    {
     "name": "stderr",
     "output_type": "stream",
     "text": [
      "\r",
      " 60%|██████    | 60/100 [1:05:47<44:11, 66.28s/it]"
     ]
    },
    {
     "name": "stdout",
     "output_type": "stream",
     "text": [
      "{'regret_max': 0.030441999435424805, 'regret_mean': 0.0003752984048333019, 'regret_mults': tensor([[123.1627, 139.4362]], device='cuda:0'), 'payment': 1.2266285419464111}\n"
     ]
    },
    {
     "name": "stderr",
     "output_type": "stream",
     "text": [
      "\r",
      " 61%|██████    | 61/100 [1:06:57<43:45, 67.33s/it]"
     ]
    },
    {
     "name": "stdout",
     "output_type": "stream",
     "text": [
      "{'regret_max': 0.027797818183898926, 'regret_mean': 0.0003209012793377042, 'regret_mults': tensor([[125.2640, 141.5316]], device='cuda:0'), 'payment': 1.2280409336090088}\n"
     ]
    },
    {
     "name": "stderr",
     "output_type": "stream",
     "text": [
      "\r",
      " 62%|██████▏   | 62/100 [1:08:07<43:04, 68.01s/it]"
     ]
    },
    {
     "name": "stdout",
     "output_type": "stream",
     "text": [
      "{'regret_max': 0.024819016456604004, 'regret_mean': 0.00037904089549556375, 'regret_mults': tensor([[126.6086, 143.4615]], device='cuda:0'), 'payment': 1.228276014328003}\n"
     ]
    },
    {
     "name": "stderr",
     "output_type": "stream",
     "text": [
      "\r",
      " 63%|██████▎   | 63/100 [1:09:12<41:22, 67.10s/it]"
     ]
    },
    {
     "name": "stdout",
     "output_type": "stream",
     "text": [
      "{'regret_max': 0.021555066108703613, 'regret_mean': 0.0003957863955292851, 'regret_mults': tensor([[128.6901, 144.6561]], device='cuda:0'), 'payment': 1.2283239364624023}\n"
     ]
    },
    {
     "name": "stderr",
     "output_type": "stream",
     "text": [
      "\r",
      " 64%|██████▍   | 64/100 [1:10:15<39:39, 66.09s/it]"
     ]
    },
    {
     "name": "stdout",
     "output_type": "stream",
     "text": [
      "{'regret_max': 0.040027737617492676, 'regret_mean': 0.0004301956796552986, 'regret_mults': tensor([[129.5615, 145.2951]], device='cuda:0'), 'payment': 1.226137638092041}\n"
     ]
    },
    {
     "name": "stderr",
     "output_type": "stream",
     "text": [
      "\r",
      " 65%|██████▌   | 65/100 [1:11:20<38:16, 65.62s/it]"
     ]
    },
    {
     "name": "stdout",
     "output_type": "stream",
     "text": [
      "{'regret_max': 0.03520345687866211, 'regret_mean': 0.0003471283707767725, 'regret_mults': tensor([[131.0677, 147.1268]], device='cuda:0'), 'payment': 1.2287962436676025}\n"
     ]
    },
    {
     "name": "stderr",
     "output_type": "stream",
     "text": [
      "\r",
      " 66%|██████▌   | 66/100 [1:12:27<37:27, 66.10s/it]"
     ]
    },
    {
     "name": "stdout",
     "output_type": "stream",
     "text": [
      "{'regret_max': 0.02539503574371338, 'regret_mean': 0.00038590855547226965, 'regret_mults': tensor([[132.7420, 147.6099]], device='cuda:0'), 'payment': 1.227951169013977}\n"
     ]
    },
    {
     "name": "stderr",
     "output_type": "stream",
     "text": [
      "\r",
      " 67%|██████▋   | 67/100 [1:13:30<35:48, 65.11s/it]"
     ]
    },
    {
     "name": "stdout",
     "output_type": "stream",
     "text": [
      "{'regret_max': 0.023450732231140137, 'regret_mean': 0.00029376050224527717, 'regret_mults': tensor([[133.6738, 148.3981]], device='cuda:0'), 'payment': 1.2294244766235352}\n"
     ]
    },
    {
     "name": "stderr",
     "output_type": "stream",
     "text": [
      "\r",
      " 68%|██████▊   | 68/100 [1:14:34<34:30, 64.70s/it]"
     ]
    },
    {
     "name": "stdout",
     "output_type": "stream",
     "text": [
      "{'regret_max': 0.27274084091186523, 'regret_mean': 0.002478895243257284, 'regret_mults': tensor([[135.6281, 151.9068]], device='cuda:0'), 'payment': 1.1392474174499512}\n"
     ]
    },
    {
     "name": "stderr",
     "output_type": "stream",
     "text": [
      "\r",
      " 69%|██████▉   | 69/100 [1:15:37<33:15, 64.38s/it]"
     ]
    },
    {
     "name": "stdout",
     "output_type": "stream",
     "text": [
      "{'regret_max': 0.0754244327545166, 'regret_mean': 0.0004928509588353336, 'regret_mults': tensor([[137.1588, 152.9969]], device='cuda:0'), 'payment': 1.2055476903915405}\n"
     ]
    },
    {
     "name": "stderr",
     "output_type": "stream",
     "text": [
      "\r",
      " 70%|███████   | 70/100 [1:16:42<32:09, 64.33s/it]"
     ]
    },
    {
     "name": "stdout",
     "output_type": "stream",
     "text": [
      "{'regret_max': 0.02834153175354004, 'regret_mean': 0.00031188485445454717, 'regret_mults': tensor([[137.8220, 154.7977]], device='cuda:0'), 'payment': 1.2244656085968018}\n"
     ]
    },
    {
     "name": "stderr",
     "output_type": "stream",
     "text": [
      "\r",
      " 71%|███████   | 71/100 [1:17:46<31:08, 64.45s/it]"
     ]
    },
    {
     "name": "stdout",
     "output_type": "stream",
     "text": [
      "{'regret_max': 0.026431560516357422, 'regret_mean': 0.00031471019610762596, 'regret_mults': tensor([[138.4547, 155.3314]], device='cuda:0'), 'payment': 1.226393222808838}\n"
     ]
    },
    {
     "name": "stderr",
     "output_type": "stream",
     "text": [
      "\r",
      " 72%|███████▏  | 72/100 [1:18:56<30:50, 66.08s/it]"
     ]
    },
    {
     "name": "stdout",
     "output_type": "stream",
     "text": [
      "{'regret_max': 0.03200775384902954, 'regret_mean': 0.00031301731360144913, 'regret_mults': tensor([[140.1866, 156.8628]], device='cuda:0'), 'payment': 1.2262985706329346}\n"
     ]
    },
    {
     "name": "stderr",
     "output_type": "stream",
     "text": [
      "\r",
      " 73%|███████▎  | 73/100 [1:20:06<30:17, 67.32s/it]"
     ]
    },
    {
     "name": "stdout",
     "output_type": "stream",
     "text": [
      "{'regret_max': 0.018404126167297363, 'regret_mean': 0.00027771363966166973, 'regret_mults': tensor([[141.0305, 157.4152]], device='cuda:0'), 'payment': 1.2274926900863647}\n"
     ]
    },
    {
     "name": "stderr",
     "output_type": "stream",
     "text": [
      "\r",
      " 74%|███████▍  | 74/100 [1:21:16<29:31, 68.13s/it]"
     ]
    },
    {
     "name": "stdout",
     "output_type": "stream",
     "text": [
      "{'regret_max': 0.0299685001373291, 'regret_mean': 0.00038119161035865545, 'regret_mults': tensor([[141.7035, 158.0674]], device='cuda:0'), 'payment': 1.2273423671722412}\n"
     ]
    },
    {
     "name": "stderr",
     "output_type": "stream",
     "text": [
      "\r",
      " 75%|███████▌  | 75/100 [1:22:21<27:55, 67.02s/it]"
     ]
    },
    {
     "name": "stdout",
     "output_type": "stream",
     "text": [
      "{'regret_max': 0.019084453582763672, 'regret_mean': 0.0002538874396122992, 'regret_mults': tensor([[144.9718, 159.3388]], device='cuda:0'), 'payment': 1.2257544994354248}\n"
     ]
    },
    {
     "name": "stderr",
     "output_type": "stream",
     "text": [
      "\r",
      " 76%|███████▌  | 76/100 [1:23:25<26:26, 66.11s/it]"
     ]
    },
    {
     "name": "stdout",
     "output_type": "stream",
     "text": [
      "{'regret_max': 0.03557860851287842, 'regret_mean': 0.00035971752367913723, 'regret_mults': tensor([[145.6571, 159.9824]], device='cuda:0'), 'payment': 1.2237117290496826}\n"
     ]
    },
    {
     "name": "stderr",
     "output_type": "stream",
     "text": [
      "\r",
      " 77%|███████▋  | 77/100 [1:24:30<25:13, 65.81s/it]"
     ]
    },
    {
     "name": "stdout",
     "output_type": "stream",
     "text": [
      "{'regret_max': 0.018334269523620605, 'regret_mean': 0.00023752936976961792, 'regret_mults': tensor([[146.6312, 160.7624]], device='cuda:0'), 'payment': 1.2303268909454346}\n"
     ]
    },
    {
     "name": "stderr",
     "output_type": "stream",
     "text": [
      "\r",
      " 78%|███████▊  | 78/100 [1:25:36<24:12, 66.04s/it]"
     ]
    },
    {
     "name": "stdout",
     "output_type": "stream",
     "text": [
      "{'regret_max': 0.03182411193847656, 'regret_mean': 0.0003208586713299155, 'regret_mults': tensor([[147.2971, 161.8100]], device='cuda:0'), 'payment': 1.2275018692016602}\n"
     ]
    },
    {
     "name": "stderr",
     "output_type": "stream",
     "text": [
      "\r",
      " 79%|███████▉  | 79/100 [1:26:39<22:46, 65.06s/it]"
     ]
    },
    {
     "name": "stdout",
     "output_type": "stream",
     "text": [
      "{'regret_max': 0.01965785026550293, 'regret_mean': 0.00026672915555536747, 'regret_mults': tensor([[149.5366, 164.6246]], device='cuda:0'), 'payment': 1.2305333614349365}\n"
     ]
    },
    {
     "name": "stderr",
     "output_type": "stream",
     "text": [
      "\r",
      " 80%|████████  | 80/100 [1:27:43<21:34, 64.72s/it]"
     ]
    },
    {
     "name": "stdout",
     "output_type": "stream",
     "text": [
      "{'regret_max': 0.03775590658187866, 'regret_mean': 0.000355253170710057, 'regret_mults': tensor([[150.4583, 165.3857]], device='cuda:0'), 'payment': 1.2266967296600342}\n"
     ]
    },
    {
     "name": "stderr",
     "output_type": "stream",
     "text": [
      "\r",
      " 81%|████████  | 81/100 [1:28:47<20:24, 64.46s/it]"
     ]
    },
    {
     "name": "stdout",
     "output_type": "stream",
     "text": [
      "{'regret_max': 0.040050506591796875, 'regret_mean': 0.00028510126867331564, 'regret_mults': tensor([[151.6550, 166.0827]], device='cuda:0'), 'payment': 1.2283599376678467}\n"
     ]
    },
    {
     "name": "stderr",
     "output_type": "stream",
     "text": [
      "\r",
      " 82%|████████▏ | 82/100 [1:29:51<19:18, 64.38s/it]"
     ]
    },
    {
     "name": "stdout",
     "output_type": "stream",
     "text": [
      "{'regret_max': 0.017287611961364746, 'regret_mean': 0.0002502599381841719, 'regret_mults': tensor([[152.7202, 166.7898]], device='cuda:0'), 'payment': 1.2277030944824219}\n"
     ]
    },
    {
     "name": "stderr",
     "output_type": "stream",
     "text": [
      "\r",
      " 83%|████████▎ | 83/100 [1:30:56<18:17, 64.54s/it]"
     ]
    },
    {
     "name": "stdout",
     "output_type": "stream",
     "text": [
      "{'regret_max': 0.01992332935333252, 'regret_mean': 0.00024393387138843536, 'regret_mults': tensor([[154.2014, 169.0863]], device='cuda:0'), 'payment': 1.231724739074707}\n"
     ]
    },
    {
     "name": "stderr",
     "output_type": "stream",
     "text": [
      "\r",
      " 84%|████████▍ | 84/100 [1:32:06<17:38, 66.16s/it]"
     ]
    },
    {
     "name": "stdout",
     "output_type": "stream",
     "text": [
      "{'regret_max': 0.11543542146682739, 'regret_mean': 0.0006538356537930667, 'regret_mults': tensor([[155.6894, 169.9678]], device='cuda:0'), 'payment': 1.215614676475525}\n"
     ]
    },
    {
     "name": "stderr",
     "output_type": "stream",
     "text": [
      "\r",
      " 85%|████████▌ | 85/100 [1:33:16<16:49, 67.28s/it]"
     ]
    },
    {
     "name": "stdout",
     "output_type": "stream",
     "text": [
      "{'regret_max': 0.031818509101867676, 'regret_mean': 0.0003063107724301517, 'regret_mults': tensor([[156.9769, 171.5905]], device='cuda:0'), 'payment': 1.2274259328842163}\n"
     ]
    },
    {
     "name": "stderr",
     "output_type": "stream",
     "text": [
      "\r",
      " 86%|████████▌ | 86/100 [1:34:26<15:53, 68.12s/it]"
     ]
    },
    {
     "name": "stdout",
     "output_type": "stream",
     "text": [
      "{'regret_max': 0.02150106430053711, 'regret_mean': 0.00018907547928392887, 'regret_mults': tensor([[159.2386, 173.7933]], device='cuda:0'), 'payment': 1.2297234535217285}\n"
     ]
    },
    {
     "name": "stderr",
     "output_type": "stream",
     "text": [
      "\r",
      " 87%|████████▋ | 87/100 [1:35:36<14:52, 68.68s/it]"
     ]
    },
    {
     "name": "stdout",
     "output_type": "stream",
     "text": [
      "{'regret_max': 0.03840219974517822, 'regret_mean': 0.0003238431818317622, 'regret_mults': tensor([[161.3603, 175.1519]], device='cuda:0'), 'payment': 1.2274619340896606}\n"
     ]
    },
    {
     "name": "stderr",
     "output_type": "stream",
     "text": [
      "\r",
      " 88%|████████▊ | 88/100 [1:36:39<13:22, 66.90s/it]"
     ]
    },
    {
     "name": "stdout",
     "output_type": "stream",
     "text": [
      "{'regret_max': 0.02181720733642578, 'regret_mean': 0.00031573185697197914, 'regret_mults': tensor([[162.9240, 177.8294]], device='cuda:0'), 'payment': 1.2239794731140137}\n"
     ]
    },
    {
     "name": "stderr",
     "output_type": "stream",
     "text": [
      "\r",
      " 89%|████████▉ | 89/100 [1:37:43<12:07, 66.14s/it]"
     ]
    },
    {
     "name": "stdout",
     "output_type": "stream",
     "text": [
      "{'regret_max': 0.01777482032775879, 'regret_mean': 0.000212508428376168, 'regret_mults': tensor([[163.5929, 180.6406]], device='cuda:0'), 'payment': 1.2304422855377197}\n"
     ]
    },
    {
     "name": "stderr",
     "output_type": "stream",
     "text": [
      "\r",
      " 90%|█████████ | 90/100 [1:38:50<11:02, 66.21s/it]"
     ]
    },
    {
     "name": "stdout",
     "output_type": "stream",
     "text": [
      "{'regret_max': 0.01630115509033203, 'regret_mean': 0.00026101822732016444, 'regret_mults': tensor([[165.8131, 183.9149]], device='cuda:0'), 'payment': 1.228288173675537}\n"
     ]
    },
    {
     "name": "stderr",
     "output_type": "stream",
     "text": [
      "\r",
      " 91%|█████████ | 91/100 [1:39:55<09:52, 65.86s/it]"
     ]
    },
    {
     "name": "stdout",
     "output_type": "stream",
     "text": [
      "{'regret_max': 0.01856088638305664, 'regret_mean': 0.00020660777227021754, 'regret_mults': tensor([[167.3967, 185.4072]], device='cuda:0'), 'payment': 1.229459524154663}\n"
     ]
    },
    {
     "name": "stderr",
     "output_type": "stream",
     "text": [
      "\r",
      " 92%|█████████▏| 92/100 [1:40:57<08:39, 64.96s/it]"
     ]
    },
    {
     "name": "stdout",
     "output_type": "stream",
     "text": [
      "{'regret_max': 0.01677107810974121, 'regret_mean': 0.00025359942810609937, 'regret_mults': tensor([[169.2508, 187.3923]], device='cuda:0'), 'payment': 1.2278822660446167}\n"
     ]
    },
    {
     "name": "stderr",
     "output_type": "stream",
     "text": [
      "\r",
      " 93%|█████████▎| 93/100 [1:42:01<07:32, 64.68s/it]"
     ]
    },
    {
     "name": "stdout",
     "output_type": "stream",
     "text": [
      "{'regret_max': 0.2582228183746338, 'regret_mean': 0.001798171317204833, 'regret_mults': tensor([[174.9658, 189.2568]], device='cuda:0'), 'payment': 1.1658152341842651}\n"
     ]
    },
    {
     "name": "stderr",
     "output_type": "stream",
     "text": [
      "\r",
      " 94%|█████████▍| 94/100 [1:43:05<06:26, 64.43s/it]"
     ]
    },
    {
     "name": "stdout",
     "output_type": "stream",
     "text": [
      "{'regret_max': 0.036989450454711914, 'regret_mean': 0.000267994764726609, 'regret_mults': tensor([[175.6675, 189.7684]], device='cuda:0'), 'payment': 1.2198078632354736}\n"
     ]
    },
    {
     "name": "stderr",
     "output_type": "stream",
     "text": [
      "\r",
      " 95%|█████████▌| 95/100 [1:44:09<05:21, 64.35s/it]"
     ]
    },
    {
     "name": "stdout",
     "output_type": "stream",
     "text": [
      "{'regret_max': 0.030949115753173828, 'regret_mean': 0.0003004375612363219, 'regret_mults': tensor([[180.5373, 190.2301]], device='cuda:0'), 'payment': 1.2189977169036865}\n"
     ]
    },
    {
     "name": "stderr",
     "output_type": "stream",
     "text": [
      "\r",
      " 96%|█████████▌| 96/100 [1:45:16<04:19, 64.96s/it]"
     ]
    },
    {
     "name": "stdout",
     "output_type": "stream",
     "text": [
      "{'regret_max': 0.01701664924621582, 'regret_mean': 0.00021971092792227864, 'regret_mults': tensor([[183.2938, 192.4986]], device='cuda:0'), 'payment': 1.2241106033325195}\n"
     ]
    },
    {
     "name": "stderr",
     "output_type": "stream",
     "text": [
      "\r",
      " 97%|█████████▋| 97/100 [1:46:26<03:19, 66.50s/it]"
     ]
    },
    {
     "name": "stdout",
     "output_type": "stream",
     "text": [
      "{'regret_max': 0.029382765293121338, 'regret_mean': 0.0002857478684745729, 'regret_mults': tensor([[188.7648, 197.3551]], device='cuda:0'), 'payment': 1.2225979566574097}\n"
     ]
    },
    {
     "name": "stderr",
     "output_type": "stream",
     "text": [
      "\r",
      " 98%|█████████▊| 98/100 [1:47:36<02:15, 67.59s/it]"
     ]
    },
    {
     "name": "stdout",
     "output_type": "stream",
     "text": [
      "{'regret_max': 0.0260465145111084, 'regret_mean': 0.0002087180910166353, 'regret_mults': tensor([[192.7953, 198.3011]], device='cuda:0'), 'payment': 1.2219252586364746}\n"
     ]
    },
    {
     "name": "stderr",
     "output_type": "stream",
     "text": [
      "\r",
      " 99%|█████████▉| 99/100 [1:48:46<01:08, 68.34s/it]"
     ]
    },
    {
     "name": "stdout",
     "output_type": "stream",
     "text": [
      "{'regret_max': 0.031783461570739746, 'regret_mean': 0.0002479145477991551, 'regret_mults': tensor([[193.3525, 199.5122]], device='cuda:0'), 'payment': 1.223276138305664}\n"
     ]
    },
    {
     "name": "stderr",
     "output_type": "stream",
     "text": [
      "100%|██████████| 100/100 [1:49:49<00:00, 65.89s/it]"
     ]
    },
    {
     "name": "stdout",
     "output_type": "stream",
     "text": [
      "{'regret_max': 0.03066706657409668, 'regret_mean': 0.0003167768591083586, 'regret_mults': tensor([[195.1678, 202.0174]], device='cuda:0'), 'payment': 1.2201862335205078}\n",
      "CPU times: user 1h 49min 26s, sys: 16 s, total: 1h 49min 42s\n",
      "Wall time: 1h 49min 49s\n"
     ]
    },
    {
     "name": "stderr",
     "output_type": "stream",
     "text": [
      "\n"
     ]
    }
   ],
   "source": [
    "%%time\n",
    "train_loop(model, train_loader, args, device=device)"
   ]
  },
  {
   "cell_type": "code",
   "execution_count": 6,
   "metadata": {},
   "outputs": [],
   "source": [
    "test_data = torch.load('./additive_2x3_test_data')"
   ]
  },
  {
   "cell_type": "code",
   "execution_count": 7,
   "metadata": {},
   "outputs": [
    {
     "name": "stderr",
     "output_type": "stream",
     "text": [
      "1it [00:18, 18.19s/it]"
     ]
    },
    {
     "name": "stdout",
     "output_type": "stream",
     "text": [
      "CPU times: user 18.1 s, sys: 49 ms, total: 18.2 s\n",
      "Wall time: 18.2 s\n"
     ]
    },
    {
     "name": "stderr",
     "output_type": "stream",
     "text": [
      "\n"
     ]
    },
    {
     "data": {
      "text/plain": [
       "{'payment_mean': 1.1748871803283691,\n",
       " 'regret_mean': 0.001791558344848454,\n",
       " 'regret_max': 0.014467060565948486}"
      ]
     },
     "execution_count": 7,
     "metadata": {},
     "output_type": "execute_result"
    }
   ],
   "source": [
    "%%time\n",
    "# model.sinkhorn_rounds = 100\n",
    "# model.sinkhorn_epsilon = 1e-2\n",
    "# test_data = ds.generate_dataset_nxk(args.n_agents, args.n_items, args.test_num_examples, item_ranges).to(device)\n",
    "# cpu_test_data = test_data.clone()\n",
    "test_data = torch.load('./additive_2x3_test_data')\n",
    "test_loader = ds.Dataloader(test_data, batch_size=args.test_batch_size, shuffle=True)\n",
    "\n",
    "result = test_loop(model, test_loader, args, device=device)\n",
    "result"
   ]
  },
  {
   "cell_type": "code",
   "execution_count": 8,
   "metadata": {},
   "outputs": [],
   "source": [
    "from tqdm import tqdm\n",
    "from double_net import utils_misreport as utils\n",
    "def test_loop_random_start(model, loader, args, random_starts, device='cpu'):\n",
    "    # regrets and payments are 2d: n_samples x n_agents; unfairs is 1d: n_samples.\n",
    "    test_regrets = torch.Tensor().to(device)\n",
    "    test_payments = torch.Tensor().to(device)\n",
    "\n",
    "    for i, batch in tqdm(enumerate(loader)):\n",
    "        batch = batch.to(device)\n",
    "        allocs, payments = model(batch)\n",
    "        truthful_util = utils.calc_agent_util(batch, allocs, payments)\n",
    "        \n",
    "        max_regrets = torch.zeros(truthful_util.shape).to(device=device)\n",
    "        for c in range(len(random_starts)):\n",
    "            misreport_batch = random_starts[c].clone().detach()\n",
    "            utils.optimize_misreports(model, batch, misreport_batch,\n",
    "                                  misreport_iter=args.test_misreport_iter, lr=args.misreport_lr)\n",
    "            misreport_util = utils.tiled_misreport_util(misreport_batch, batch, model)\n",
    "\n",
    "            regrets = misreport_util - truthful_util\n",
    "            positive_regrets = torch.clamp_min(regrets, 0)\n",
    "            max_regrets = torch.max(max_regrets, positive_regrets)\n",
    "\n",
    "        # Record entire test data\n",
    "        test_regrets = torch.cat((test_regrets, max_regrets), dim=0)\n",
    "        test_payments = torch.cat((test_payments, payments), dim=0)\n",
    "\n",
    "    mean_regret = test_regrets.sum(dim=1).mean(dim=0).item()\n",
    "    result = {\n",
    "        \"payment_mean\": test_payments.sum(dim=1).mean(dim=0).item(),\n",
    "        \"regret_mean\": mean_regret,\n",
    "        \"regret_max\": test_regrets.sum(dim=1).max().item(),\n",
    "    }\n",
    "    return result"
   ]
  },
  {
   "cell_type": "code",
   "execution_count": 9,
   "metadata": {
    "scrolled": true
   },
   "outputs": [
    {
     "name": "stderr",
     "output_type": "stream",
     "text": [
      "1it [03:25, 205.16s/it]"
     ]
    },
    {
     "name": "stdout",
     "output_type": "stream",
     "text": [
      "CPU times: user 3min 24s, sys: 419 ms, total: 3min 24s\n",
      "Wall time: 3min 25s\n"
     ]
    },
    {
     "name": "stderr",
     "output_type": "stream",
     "text": [
      "\n"
     ]
    },
    {
     "data": {
      "text/plain": [
       "{'payment_mean': 1.2150055170059204,\n",
       " 'regret_mean': 0.019259242340922356,\n",
       " 'regret_max': 0.06496179848909378}"
      ]
     },
     "execution_count": 9,
     "metadata": {},
     "output_type": "execute_result"
    }
   ],
   "source": [
    "%%time\n",
    "args.test_num_examples = 1000\n",
    "args.test_batch_size = 1000\n",
    "args.test_misreport_iter = 1000\n",
    "args.misreport_lr = 1e-1\n",
    "model.sinkhorn_rounds = 20\n",
    "model.sinkhorn_epsilon = 3e-2\n",
    "\n",
    "random_starts = [test_data]\n",
    "for i in range(10):\n",
    "    random_starts.append(ds.generate_dataset_nxk(args.n_agents, args.n_items, args.test_num_examples, item_ranges).to(device))\n",
    "test_loader = ds.Dataloader(test_data, batch_size=args.test_batch_size, shuffle=True)\n",
    "\n",
    "result = test_loop_random_start(model, test_loader, args, random_starts, device=device)\n",
    "result"
   ]
  },
  {
   "cell_type": "code",
   "execution_count": 10,
   "metadata": {},
   "outputs": [],
   "source": [
    "torch.save(test_data, './additive_2x3_test_data')"
   ]
  },
  {
   "cell_type": "code",
   "execution_count": 11,
   "metadata": {},
   "outputs": [],
   "source": [
    "model.save('./additive_one_2x3_0_1_')"
   ]
  },
  {
   "cell_type": "code",
   "execution_count": 12,
   "metadata": {},
   "outputs": [],
   "source": [
    "import cvxpy as cp\n",
    "import numpy as np\n",
    "from typing import NamedTuple\n",
    "from tqdm.notebook import tqdm"
   ]
  },
  {
   "cell_type": "code",
   "execution_count": 13,
   "metadata": {},
   "outputs": [],
   "source": [
    "class AuctionResult(NamedTuple):\n",
    "    alloc: np.ndarray\n",
    "    welfare: np.ndarray\n",
    "    payment: np.ndarray"
   ]
  },
  {
   "cell_type": "code",
   "execution_count": 14,
   "metadata": {},
   "outputs": [],
   "source": [
    "def max_welfare_alloc(bids_mat, k, exact_demand=True):\n",
    "    # returns allocation, util of allocation\n",
    "\n",
    "    num_agents = bids_mat.shape[0]\n",
    "    num_items = bids_mat.shape[1]\n",
    "    alloc_matrix = cp.Variable((num_agents, num_items), nonneg=True)\n",
    "    item_supply_constraints = cp.sum(alloc_matrix, axis=0) <= 1\n",
    "    if exact_demand:\n",
    "        agent_demand_constraints = cp.sum(alloc_matrix, axis=1) == k\n",
    "    else:\n",
    "        agent_demand_constraints = cp.sum(alloc_matrix, axis=1) <= k\n",
    "    welfare = cp.sum((cp.multiply(bids_mat, alloc_matrix)))\n",
    "    problem = cp.Problem(cp.Maximize(welfare), [item_supply_constraints, agent_demand_constraints])\n",
    "    problem.solve()\n",
    "    return (alloc_matrix.value, problem.value)"
   ]
  },
  {
   "cell_type": "code",
   "execution_count": 15,
   "metadata": {},
   "outputs": [],
   "source": [
    "def vcg_auction(bids_mat, k, exact_demand=False):\n",
    "    main_alloc, max_welfare_total_util = max_welfare_alloc(bids_mat, k, exact_demand=exact_demand)\n",
    "    payments = np.zeros(bids_mat.shape[0])\n",
    "    player_utils = (bids_mat * main_alloc).sum(axis=1)\n",
    "    num_agents = bids_mat.shape[0]\n",
    "    for i in range(num_agents):\n",
    "        dropped_bid_mat = np.delete(bids_mat, (i), axis=0)\n",
    "        dropped_player_utils = np.delete(player_utils, (i), axis=0) # player utils under full auction\n",
    "        new_alloc, new_total_util = max_welfare_alloc(dropped_bid_mat, k, exact_demand=exact_demand)\n",
    "        new_agent_utils = (new_alloc*dropped_bid_mat).sum(axis=1) # player utils without agent i's bid\n",
    "        payments[i] = (new_agent_utils - dropped_player_utils).sum() \n",
    "    return AuctionResult(main_alloc, player_utils, payments)"
   ]
  },
  {
   "cell_type": "code",
   "execution_count": 17,
   "metadata": {},
   "outputs": [],
   "source": [
    "payments = []\n",
    "for i in range(test_data.shape[0]):\n",
    "    payments.append(vcg_auction(test_data[i].cpu().numpy(), 3, exact_demand=False).payment.sum())"
   ]
  },
  {
   "cell_type": "code",
   "execution_count": 18,
   "metadata": {},
   "outputs": [
    {
     "data": {
      "text/plain": [
       "0.9816638948070513"
      ]
     },
     "execution_count": 18,
     "metadata": {},
     "output_type": "execute_result"
    }
   ],
   "source": [
    "np.mean(payments)"
   ]
  },
  {
   "cell_type": "code",
   "execution_count": null,
   "metadata": {},
   "outputs": [],
   "source": [
    "test_data.shape"
   ]
  },
  {
   "cell_type": "code",
   "execution_count": null,
   "metadata": {},
   "outputs": [],
   "source": [
    "bids = torch.tensor([[\n",
    "    [0., 1., 1.],\n",
    "    [0., 1., 0.]\n",
    "]]).to(device)\n",
    "model.sinkhorn_rounds = 20\n",
    "model.sinkhorn_epsilon = 3e-2\n",
    "model(bids)"
   ]
  },
  {
   "cell_type": "code",
   "execution_count": null,
   "metadata": {},
   "outputs": [],
   "source": [
    "cated = torch.cat((torch.ones((1, 3, 4)), torch.ones(1, 3, 4) * 2), dim=0)\n",
    "cated[1, 0, 0] = 0 "
   ]
  }
 ],
 "metadata": {
  "kernelspec": {
   "display_name": "Python 3",
   "language": "python",
   "name": "python3"
  },
  "language_info": {
   "codemirror_mode": {
    "name": "ipython",
    "version": 3
   },
   "file_extension": ".py",
   "mimetype": "text/x-python",
   "name": "python",
   "nbconvert_exporter": "python",
   "pygments_lexer": "ipython3",
   "version": "3.7.4"
  }
 },
 "nbformat": 4,
 "nbformat_minor": 2
}
