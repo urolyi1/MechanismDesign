{
 "cells": [
  {
   "cell_type": "code",
   "execution_count": 1,
   "metadata": {},
   "outputs": [],
   "source": [
    "import pickle\n",
    "import time\n",
    "import torch\n",
    "import numpy as np\n",
    "from argparse import ArgumentParser\n",
    "from double_net.double_net import DoubleNet, train_loop, test_loop_random_start, test_loop\n",
    "from double_net import datasets as ds\n",
    "import double_net.plot_utils as pu\n",
    "import matplotlib.pyplot as plt"
   ]
  },
  {
   "cell_type": "code",
   "execution_count": 2,
   "outputs": [],
   "source": [
    "train = True\n",
    "test = True"
   ],
   "metadata": {
    "collapsed": false,
    "pycharm": {
     "name": "#%%\n"
    }
   }
  },
  {
   "cell_type": "code",
   "execution_count": 3,
   "outputs": [],
   "source": [
    "# import logging\n",
    "# logger = logging.getLogger()\n",
    "# logger.setLevel(logging.INFO)"
   ],
   "metadata": {
    "collapsed": false,
    "pycharm": {
     "name": "#%%\n"
    }
   }
  },
  {
   "cell_type": "code",
   "execution_count": 4,
   "metadata": {},
   "outputs": [],
   "source": [
    "if torch.cuda.is_available():\n",
    "    device = 'cuda'\n",
    "else:\n",
    "    device = 'cpu'"
   ]
  },
  {
   "cell_type": "code",
   "execution_count": 5,
   "metadata": {},
   "outputs": [
    {
     "data": {
      "text/plain": "'cuda'"
     },
     "execution_count": 5,
     "metadata": {},
     "output_type": "execute_result"
    }
   ],
   "source": [
    "device"
   ]
  },
  {
   "cell_type": "code",
   "execution_count": 6,
   "metadata": {},
   "outputs": [
    {
     "data": {
      "text/plain": "Namespace(batch_size=4096, lagr_update_iter=100, misreport_iter=25, misreport_lr=0.1, model_lr=0.001, n_agents=2, n_items=3, num_epochs=100, num_examples=524288, random_seed=0, rgt_start=0, rho=1.0, rho_incr_amount=1.0, rho_incr_iter=2, sinkhorn_epsilon=0.05, sinkhorn_tol=0.01, test_batch_size=10000, test_iter=5, test_misreport_iter=2000, test_num_examples=10000)"
     },
     "execution_count": 6,
     "metadata": {},
     "output_type": "execute_result"
    }
   ],
   "source": [
    "parser = ArgumentParser()\n",
    "parser.add_argument('--random-seed', type=int, default=0)\n",
    "parser.add_argument('--num-examples', type=int, default=131072 * 4)\n",
    "parser.add_argument('--test-num-examples', type=int, default=10000)\n",
    "parser.add_argument('--test-iter', type=int, default=5)\n",
    "parser.add_argument('--n-agents', type=int, default=2)\n",
    "parser.add_argument('--n-items', type=int, default=3)\n",
    "parser.add_argument('--num-epochs', type=int, default=100)\n",
    "parser.add_argument('--batch-size', type=int, default=128 * 32)\n",
    "parser.add_argument('--test-batch-size', type=int, default=10000)\n",
    "parser.add_argument('--model-lr', type=float, default=1e-3)\n",
    "parser.add_argument('--misreport-lr', type=float, default=1e-1)\n",
    "parser.add_argument('--misreport-iter', type=int, default=25)\n",
    "parser.add_argument('--test-misreport-iter', type=int, default=2000)\n",
    "parser.add_argument('--rho', type=float, default=1.0)\n",
    "parser.add_argument('--rho-incr-iter', type=int, default=2)\n",
    "parser.add_argument('--rho-incr-amount', type=float, default=1.0)\n",
    "parser.add_argument('--lagr-update-iter', type=int, default=100)\n",
    "parser.add_argument('--rgt-start', type=int, default=0)\n",
    "parser.add_argument('--sinkhorn-epsilon', type=float, default=5e-2)\n",
    "# parser.add_argument('--sinkhorn-rounds', type=int, default=20)\n",
    "parser.add_argument('--sinkhorn-tol', type=float, default=0.01)\n",
    "\n",
    "dataset_name = \"\"\n",
    "args = parser.parse_args(args=[])\n",
    "args"
   ]
  },
  {
   "cell_type": "code",
   "execution_count": 7,
   "metadata": {},
   "outputs": [],
   "source": [
    "torch.manual_seed(args.random_seed)\n",
    "np.random.seed(args.random_seed)\n",
    "\n",
    "item_ranges = ds.preset_valuation_range(args.n_agents, args.n_items, dataset_name)\n",
    "clamp_op = ds.get_clamp_op(item_ranges)\n",
    "\n",
    "model = DoubleNet(\n",
    "    args.n_agents, args.n_items, item_ranges, args.sinkhorn_epsilon, args.sinkhorn_tol, marginal_choice='exact_one'\n",
    ").to(device)\n",
    "\n",
    "train_data = ds.generate_dataset_nxk(args.n_agents, args.n_items, args.num_examples, item_ranges).to(device)\n",
    "train_loader = ds.Dataloader(train_data, batch_size=args.batch_size, shuffle=True)"
   ]
  },
  {
   "cell_type": "code",
   "execution_count": 8,
   "outputs": [],
   "source": [
    "import os\n",
    "dir_name = 'scaled_exact_one_2x3_experiment_data/'\n",
    "os.makedirs(dir_name, exist_ok=True)"
   ],
   "metadata": {
    "collapsed": false,
    "pycharm": {
     "name": "#%%\n"
    }
   }
  },
  {
   "cell_type": "code",
   "execution_count": 9,
   "metadata": {},
   "outputs": [
    {
     "name": "stderr",
     "output_type": "stream",
     "text": [
      "100%|██████████| 100/100 [2:37:54<00:00, 94.75s/it] \n"
     ]
    },
    {
     "name": "stdout",
     "output_type": "stream",
     "text": [
      "{'regret_max': 0.5398610830307007, 'regret_mean': 0.04150930047035217, 'regret_mults': tensor([[6.5384, 6.5607]], device='cuda:0'), 'payment': 0.30793923139572144}\n",
      "{'regret_max': 0.13323211669921875, 'regret_mean': 0.020696990191936493, 'regret_mults': tensor([[8.8280, 8.5167]], device='cuda:0'), 'payment': 0.24025686085224152}\n",
      "{'regret_max': 0.08781695365905762, 'regret_mean': 0.009107845835387707, 'regret_mults': tensor([[10.5312,  9.9670]], device='cuda:0'), 'payment': 0.23520201444625854}\n",
      "{'regret_max': 0.07362759113311768, 'regret_mean': 0.006394682452082634, 'regret_mults': tensor([[13.6271, 12.9795]], device='cuda:0'), 'payment': 0.23903131484985352}\n",
      "{'regret_max': 0.06508219242095947, 'regret_mean': 0.0049968985840678215, 'regret_mults': tensor([[15.0256, 14.2970]], device='cuda:0'), 'payment': 0.24433918297290802}\n",
      "{'regret_max': 0.06649917364120483, 'regret_mean': 0.004285966511815786, 'regret_mults': tensor([[16.5534, 16.0264]], device='cuda:0'), 'payment': 0.24728292226791382}\n",
      "{'regret_max': 0.0650932788848877, 'regret_mean': 0.003647743258625269, 'regret_mults': tensor([[18.3411, 17.9848]], device='cuda:0'), 'payment': 0.24827978014945984}\n",
      "{'regret_max': 0.07157546281814575, 'regret_mean': 0.0033333729952573776, 'regret_mults': tensor([[21.5351, 21.2624]], device='cuda:0'), 'payment': 0.2505720555782318}\n",
      "{'regret_max': 0.06347924470901489, 'regret_mean': 0.0028474917635321617, 'regret_mults': tensor([[23.0153, 23.0229]], device='cuda:0'), 'payment': 0.2552502751350403}\n",
      "{'regret_max': 0.06452804803848267, 'regret_mean': 0.002751183696091175, 'regret_mults': tensor([[24.6698, 24.5135]], device='cuda:0'), 'payment': 0.25731033086776733}\n",
      "{'regret_max': 0.06625127792358398, 'regret_mean': 0.002338274847716093, 'regret_mults': tensor([[27.9340, 27.4615]], device='cuda:0'), 'payment': 0.2573873698711395}\n",
      "{'regret_max': 0.06502953171730042, 'regret_mean': 0.0021690968424081802, 'regret_mults': tensor([[29.2117, 28.7206]], device='cuda:0'), 'payment': 0.25685906410217285}\n",
      "{'regret_max': 0.06474542617797852, 'regret_mean': 0.0020284191705286503, 'regret_mults': tensor([[30.6088, 30.4566]], device='cuda:0'), 'payment': 0.2561829388141632}\n",
      "{'regret_max': 0.06235969066619873, 'regret_mean': 0.0018728617578744888, 'regret_mults': tensor([[32.6300, 32.0645]], device='cuda:0'), 'payment': 0.2534096837043762}\n",
      "{'regret_max': 0.06142985820770264, 'regret_mean': 0.0017183995805680752, 'regret_mults': tensor([[35.5861, 35.6071]], device='cuda:0'), 'payment': 0.25257062911987305}\n",
      "{'regret_max': 0.06113165616989136, 'regret_mean': 0.0015946171479299664, 'regret_mults': tensor([[37.1246, 37.1244]], device='cuda:0'), 'payment': 0.2496253103017807}\n",
      "{'regret_max': 0.05796229839324951, 'regret_mean': 0.0014707680093124509, 'regret_mults': tensor([[38.5095, 38.5600]], device='cuda:0'), 'payment': 0.24785050749778748}\n",
      "{'regret_max': 0.0621071457862854, 'regret_mean': 0.001402736408635974, 'regret_mults': tensor([[41.7040, 41.4938]], device='cuda:0'), 'payment': 0.24619406461715698}\n",
      "{'regret_max': 0.05916333198547363, 'regret_mean': 0.001293202512897551, 'regret_mults': tensor([[43.0969, 43.0173]], device='cuda:0'), 'payment': 0.24369072914123535}\n",
      "{'regret_max': 0.059487760066986084, 'regret_mean': 0.0012314566411077976, 'regret_mults': tensor([[44.5214, 44.4525]], device='cuda:0'), 'payment': 0.24155640602111816}\n",
      "{'regret_max': 0.057325005531311035, 'regret_mean': 0.0011357443872839212, 'regret_mults': tensor([[45.7880, 46.2649]], device='cuda:0'), 'payment': 0.24030819535255432}\n",
      "{'regret_max': 0.06597119569778442, 'regret_mean': 0.0010975815821439028, 'regret_mults': tensor([[48.1025, 49.0922]], device='cuda:0'), 'payment': 0.23644715547561646}\n",
      "{'regret_max': 0.0605010986328125, 'regret_mean': 0.0010483619989827275, 'regret_mults': tensor([[49.7462, 50.9399]], device='cuda:0'), 'payment': 0.23564723134040833}\n",
      "{'regret_max': 0.05683809518814087, 'regret_mean': 0.000970249529927969, 'regret_mults': tensor([[51.4476, 52.0632]], device='cuda:0'), 'payment': 0.23327302932739258}\n",
      "{'regret_max': 0.06106044352054596, 'regret_mean': 0.0009624502854421735, 'regret_mults': tensor([[54.3255, 55.1491]], device='cuda:0'), 'payment': 0.23201850056648254}\n",
      "{'regret_max': 0.05903322994709015, 'regret_mean': 0.0008950380724854767, 'regret_mults': tensor([[55.7200, 56.2374]], device='cuda:0'), 'payment': 0.23076030611991882}\n",
      "{'regret_max': 0.05815082788467407, 'regret_mean': 0.0009517509024590254, 'regret_mults': tensor([[57.1838, 57.8504]], device='cuda:0'), 'payment': 0.22668245434761047}\n",
      "{'regret_max': 0.05568651854991913, 'regret_mean': 0.0007967869169078767, 'regret_mults': tensor([[58.6175, 58.8975]], device='cuda:0'), 'payment': 0.23027238249778748}\n",
      "{'regret_max': 0.05787937343120575, 'regret_mean': 0.0007996311760507524, 'regret_mults': tensor([[61.3126, 61.7968]], device='cuda:0'), 'payment': 0.22876572608947754}\n",
      "{'regret_max': 0.05667126178741455, 'regret_mean': 0.0007687786710448563, 'regret_mults': tensor([[62.3456, 62.8750]], device='cuda:0'), 'payment': 0.2259960174560547}\n",
      "{'regret_max': 0.05425092577934265, 'regret_mean': 0.0007266541942954063, 'regret_mults': tensor([[63.8260, 64.3659]], device='cuda:0'), 'payment': 0.22573116421699524}\n",
      "{'regret_max': 0.05395752191543579, 'regret_mean': 0.0007148340810090303, 'regret_mults': tensor([[65.3237, 65.2307]], device='cuda:0'), 'payment': 0.2256254255771637}\n",
      "{'regret_max': 0.05333292484283447, 'regret_mean': 0.0007432957645505667, 'regret_mults': tensor([[68.3777, 68.0292]], device='cuda:0'), 'payment': 0.22116628289222717}\n",
      "{'regret_max': 0.0525573194026947, 'regret_mean': 0.0006442471640184522, 'regret_mults': tensor([[69.5529, 69.4855]], device='cuda:0'), 'payment': 0.223347008228302}\n",
      "{'regret_max': 0.05560141056776047, 'regret_mean': 0.0006820782436989248, 'regret_mults': tensor([[70.5190, 70.7760]], device='cuda:0'), 'payment': 0.21936626732349396}\n",
      "{'regret_max': 0.050048209726810455, 'regret_mean': 0.0006142470519989729, 'regret_mults': tensor([[73.3602, 73.6981]], device='cuda:0'), 'payment': 0.22119270265102386}\n",
      "{'regret_max': 0.0506250262260437, 'regret_mean': 0.0006167604587972164, 'regret_mults': tensor([[74.6823, 75.0661]], device='cuda:0'), 'payment': 0.21934697031974792}\n",
      "{'regret_max': 0.047517359256744385, 'regret_mean': 0.0005697990418411791, 'regret_mults': tensor([[75.8215, 76.7209]], device='cuda:0'), 'payment': 0.22156983613967896}\n",
      "{'regret_max': 0.04884888231754303, 'regret_mean': 0.0006147556123323739, 'regret_mults': tensor([[77.0360, 78.9149]], device='cuda:0'), 'payment': 0.2164527326822281}\n",
      "{'regret_max': 0.049157388508319855, 'regret_mean': 0.0005632319953292608, 'regret_mults': tensor([[79.9884, 81.6868]], device='cuda:0'), 'payment': 0.2189353108406067}\n",
      "{'regret_max': 0.051300048828125, 'regret_mean': 0.0005513029173016548, 'regret_mults': tensor([[81.3871, 82.9686]], device='cuda:0'), 'payment': 0.21390339732170105}\n",
      "{'regret_max': 0.046092867851257324, 'regret_mean': 0.0005065009463578463, 'regret_mults': tensor([[82.7446, 84.2706]], device='cuda:0'), 'payment': 0.21640339493751526}\n",
      "{'regret_max': 0.04662330448627472, 'regret_mean': 0.000799275585450232, 'regret_mults': tensor([[85.3667, 87.8433]], device='cuda:0'), 'payment': 0.209504634141922}\n",
      "{'regret_max': 0.04407668113708496, 'regret_mean': 0.00045620364835485816, 'regret_mults': tensor([[86.6303, 88.8605]], device='cuda:0'), 'payment': 0.2146715521812439}\n",
      "{'regret_max': 0.045073866844177246, 'regret_mean': 0.00046356278471648693, 'regret_mults': tensor([[88.2134, 89.9323]], device='cuda:0'), 'payment': 0.21791580319404602}\n",
      "{'regret_max': 0.041324444115161896, 'regret_mean': 0.00044796912698075175, 'regret_mults': tensor([[89.4205, 91.5800]], device='cuda:0'), 'payment': 0.2163628339767456}\n",
      "{'regret_max': 0.04368516802787781, 'regret_mean': 0.00044700547005049884, 'regret_mults': tensor([[92.3939, 93.9531]], device='cuda:0'), 'payment': 0.21624813973903656}\n",
      "{'regret_max': 0.045359522104263306, 'regret_mean': 0.00045533606316894293, 'regret_mults': tensor([[93.9763, 96.1124]], device='cuda:0'), 'payment': 0.21329936385154724}\n",
      "{'regret_max': 0.04366803914308548, 'regret_mean': 0.00045051693450659513, 'regret_mults': tensor([[95.3008, 97.1309]], device='cuda:0'), 'payment': 0.20894409716129303}\n",
      "{'regret_max': 0.04439961910247803, 'regret_mean': 0.00040509275277145207, 'regret_mults': tensor([[98.7202, 99.9573]], device='cuda:0'), 'payment': 0.21272507309913635}\n",
      "{'regret_max': 0.04237207770347595, 'regret_mean': 0.0006056955317035317, 'regret_mults': tensor([[100.4622, 101.8263]], device='cuda:0'), 'payment': 0.2049027532339096}\n",
      "{'regret_max': 0.04054516553878784, 'regret_mean': 0.00039123729220591486, 'regret_mults': tensor([[101.4993, 102.6390]], device='cuda:0'), 'payment': 0.2119399756193161}\n",
      "{'regret_max': 0.04072439670562744, 'regret_mean': 0.0003851205692626536, 'regret_mults': tensor([[103.2349, 104.1226]], device='cuda:0'), 'payment': 0.21079832315444946}\n",
      "{'regret_max': 0.04061228036880493, 'regret_mean': 0.0003673432511277497, 'regret_mults': tensor([[105.8163, 107.0301]], device='cuda:0'), 'payment': 0.21155104041099548}\n",
      "{'regret_max': 0.04103828966617584, 'regret_mean': 0.00038455892354249954, 'regret_mults': tensor([[107.2793, 108.3532]], device='cuda:0'), 'payment': 0.20999281108379364}\n",
      "{'regret_max': 0.04081219434738159, 'regret_mean': 0.0006338731036521494, 'regret_mults': tensor([[108.7630, 109.4617]], device='cuda:0'), 'payment': 0.2043589949607849}\n",
      "{'regret_max': 0.039597347378730774, 'regret_mean': 0.00034646602580323815, 'regret_mults': tensor([[109.7032, 110.2954]], device='cuda:0'), 'payment': 0.20836502313613892}\n",
      "{'regret_max': 0.03894856572151184, 'regret_mean': 0.0003441334411036223, 'regret_mults': tensor([[112.4683, 113.1402]], device='cuda:0'), 'payment': 0.21115565299987793}\n",
      "{'regret_max': 0.03930521011352539, 'regret_mean': 0.00032999401446431875, 'regret_mults': tensor([[114.0962, 114.2012]], device='cuda:0'), 'payment': 0.21145974099636078}\n",
      "{'regret_max': 0.03928422927856445, 'regret_mean': 0.0003361410927027464, 'regret_mults': tensor([[115.1403, 115.3031]], device='cuda:0'), 'payment': 0.21148622035980225}\n",
      "{'regret_max': 0.03933563828468323, 'regret_mean': 0.0003303754492662847, 'regret_mults': tensor([[117.7252, 118.6954]], device='cuda:0'), 'payment': 0.2107345461845398}\n",
      "{'regret_max': 0.041460394859313965, 'regret_mean': 0.00041419448098167777, 'regret_mults': tensor([[118.7253, 119.7375]], device='cuda:0'), 'payment': 0.20419806241989136}\n",
      "{'regret_max': 0.03979519009590149, 'regret_mean': 0.0003099357709288597, 'regret_mults': tensor([[120.0819, 121.6215]], device='cuda:0'), 'payment': 0.2074761539697647}\n",
      "{'regret_max': 0.03665009140968323, 'regret_mean': 0.00031363428570330143, 'regret_mults': tensor([[121.7402, 122.7215]], device='cuda:0'), 'payment': 0.20895090699195862}\n",
      "{'regret_max': 0.040361225605010986, 'regret_mean': 0.0003577166935428977, 'regret_mults': tensor([[124.2365, 124.5467]], device='cuda:0'), 'payment': 0.20632579922676086}\n",
      "{'regret_max': 0.037693917751312256, 'regret_mean': 0.00030483229784294963, 'regret_mults': tensor([[125.9073, 126.5523]], device='cuda:0'), 'payment': 0.20436497032642365}\n",
      "{'regret_max': 0.037993431091308594, 'regret_mean': 0.00029237166745588183, 'regret_mults': tensor([[127.1422, 127.8309]], device='cuda:0'), 'payment': 0.20440036058425903}\n",
      "{'regret_max': 0.038962408900260925, 'regret_mean': 0.0003064487245865166, 'regret_mults': tensor([[129.5366, 130.5485]], device='cuda:0'), 'payment': 0.20502017438411713}\n",
      "{'regret_max': 0.03648379445075989, 'regret_mean': 0.0003090148384217173, 'regret_mults': tensor([[130.4055, 131.5098]], device='cuda:0'), 'payment': 0.20280838012695312}\n",
      "{'regret_max': 0.035394079983234406, 'regret_mean': 0.00027990498347207904, 'regret_mults': tensor([[131.5029, 132.5667]], device='cuda:0'), 'payment': 0.2068285346031189}\n",
      "{'regret_max': 0.03725457191467285, 'regret_mean': 0.0002971185022033751, 'regret_mults': tensor([[133.4733, 134.7437]], device='cuda:0'), 'payment': 0.20380505919456482}\n",
      "{'regret_max': 0.05368083715438843, 'regret_mean': 0.0010160310193896294, 'regret_mults': tensor([[135.7186, 136.5713]], device='cuda:0'), 'payment': 0.18655124306678772}\n",
      "{'regret_max': 0.03352610766887665, 'regret_mean': 0.00025821482995525, 'regret_mults': tensor([[136.7126, 138.0181]], device='cuda:0'), 'payment': 0.19853836297988892}\n",
      "{'regret_max': 0.032562702894210815, 'regret_mean': 0.0002522135619074106, 'regret_mults': tensor([[137.5639, 139.1904]], device='cuda:0'), 'payment': 0.20455273985862732}\n",
      "{'regret_max': 0.03387528285384178, 'regret_mean': 0.00025759550044313073, 'regret_mults': tensor([[139.9580, 142.0206]], device='cuda:0'), 'payment': 0.20622435212135315}\n",
      "{'regret_max': 0.03410722315311432, 'regret_mean': 0.0002483135904185474, 'regret_mults': tensor([[141.1514, 143.1200]], device='cuda:0'), 'payment': 0.2063973993062973}\n",
      "{'regret_max': 0.0355178639292717, 'regret_mean': 0.0002465104917064309, 'regret_mults': tensor([[142.6257, 144.3308]], device='cuda:0'), 'payment': 0.20628544688224792}\n",
      "{'regret_max': 0.03255775570869446, 'regret_mean': 0.00024886353639885783, 'regret_mults': tensor([[143.7845, 145.4610]], device='cuda:0'), 'payment': 0.20715640485286713}\n",
      "{'regret_max': 0.03333163261413574, 'regret_mean': 0.0002465445431880653, 'regret_mults': tensor([[146.3234, 148.5582]], device='cuda:0'), 'payment': 0.20715215802192688}\n",
      "{'regret_max': 0.03383302688598633, 'regret_mean': 0.00024659864720888436, 'regret_mults': tensor([[147.2573, 149.5395]], device='cuda:0'), 'payment': 0.20610696077346802}\n",
      "{'regret_max': 0.038878053426742554, 'regret_mean': 0.0002590024087112397, 'regret_mults': tensor([[148.6221, 151.4820]], device='cuda:0'), 'payment': 0.20362190902233124}\n",
      "{'regret_max': 0.03596504032611847, 'regret_mean': 0.0002496634842827916, 'regret_mults': tensor([[150.3644, 152.4615]], device='cuda:0'), 'payment': 0.2045358121395111}\n",
      "{'regret_max': 0.03362804651260376, 'regret_mean': 0.00040491472464054823, 'regret_mults': tensor([[153.0897, 154.8279]], device='cuda:0'), 'payment': 0.19552525877952576}\n",
      "{'regret_max': 0.03341953456401825, 'regret_mean': 0.00022302537399809808, 'regret_mults': tensor([[154.0467, 155.9809]], device='cuda:0'), 'payment': 0.2047402262687683}\n",
      "{'regret_max': 0.03471830487251282, 'regret_mean': 0.00022581956000067294, 'regret_mults': tensor([[155.1921, 157.0589]], device='cuda:0'), 'payment': 0.20569494366645813}\n",
      "{'regret_max': 0.03501594066619873, 'regret_mean': 0.00022748831543140113, 'regret_mults': tensor([[158.3894, 159.7868]], device='cuda:0'), 'payment': 0.2047557681798935}\n",
      "{'regret_max': 0.03447498381137848, 'regret_mean': 0.00022469714167527854, 'regret_mults': tensor([[159.4782, 160.9517]], device='cuda:0'), 'payment': 0.20540499687194824}\n",
      "{'regret_max': 0.035792410373687744, 'regret_mean': 0.0002351286675548181, 'regret_mults': tensor([[160.6431, 162.2558]], device='cuda:0'), 'payment': 0.20378448069095612}\n",
      "{'regret_max': 0.03423742949962616, 'regret_mean': 0.00023643241729587317, 'regret_mults': tensor([[162.2823, 163.1193]], device='cuda:0'), 'payment': 0.20385602116584778}\n",
      "{'regret_max': 0.03354574739933014, 'regret_mean': 0.0002216809371020645, 'regret_mults': tensor([[165.3739, 166.2613]], device='cuda:0'), 'payment': 0.20029783248901367}\n",
      "{'regret_max': 0.034844204783439636, 'regret_mean': 0.0002518690889701247, 'regret_mults': tensor([[167.1685, 170.9228]], device='cuda:0'), 'payment': 0.20087391138076782}\n",
      "{'regret_max': 0.03430676460266113, 'regret_mean': 0.0002085511659970507, 'regret_mults': tensor([[168.0063, 171.7347]], device='cuda:0'), 'payment': 0.20189674198627472}\n",
      "{'regret_max': 0.03493469953536987, 'regret_mean': 0.0002063247375190258, 'regret_mults': tensor([[170.3649, 174.0293]], device='cuda:0'), 'payment': 0.20340916514396667}\n",
      "{'regret_max': 0.03488347679376602, 'regret_mean': 0.0003131526755169034, 'regret_mults': tensor([[171.8821, 175.8511]], device='cuda:0'), 'payment': 0.19627240300178528}\n",
      "{'regret_max': 0.03297814726829529, 'regret_mean': 0.00019941001664847136, 'regret_mults': tensor([[172.7212, 176.5017]], device='cuda:0'), 'payment': 0.2007964551448822}\n",
      "{'regret_max': 0.03557494282722473, 'regret_mean': 0.00019539038476068527, 'regret_mults': tensor([[173.6658, 177.3764]], device='cuda:0'), 'payment': 0.20275169610977173}\n",
      "{'regret_max': 0.03384286165237427, 'regret_mean': 0.00019378040451556444, 'regret_mults': tensor([[176.6299, 179.5678]], device='cuda:0'), 'payment': 0.20272356271743774}\n",
      "{'regret_max': 0.03627954423427582, 'regret_mean': 0.00020505732391029596, 'regret_mults': tensor([[177.6889, 181.3219]], device='cuda:0'), 'payment': 0.2008829265832901}\n",
      "{'regret_max': 0.035813599824905396, 'regret_mean': 0.0001970285375136882, 'regret_mults': tensor([[178.8039, 182.8260]], device='cuda:0'), 'payment': 0.20237325131893158}\n",
      "{'regret_max': 0.040215298533439636, 'regret_mean': 0.00048384591354988515, 'regret_mults': tensor([[182.4353, 185.8872]], device='cuda:0'), 'payment': 0.19179007411003113}\n"
     ]
    }
   ],
   "source": [
    "\n",
    "if train:\n",
    "    start_time = time.time()\n",
    "    mean_rgt, mean_pay, lagr_mults = train_loop(model, train_loader, args, device=device)\n",
    "    end_time = time.time()\n",
    "    with open(dir_name+'time.txt', 'w') as f:\n",
    "        print(f\"runtime: {end_time - start_time}\", file=f)"
   ]
  },
  {
   "cell_type": "code",
   "execution_count": 10,
   "outputs": [],
   "source": [
    "if not train:\n",
    "    model = DoubleNet.load(dir_name).cuda()\n",
    "else:\n",
    "    model.save(dir_name)\n",
    "    to_pkl_lst = [mean_rgt, mean_pay, lagr_mults]\n",
    "    for i, fname in enumerate(['mean_rgt', 'mean_pay', 'lagr_mults']):\n",
    "        with open(dir_name + fname, 'wb') as fp:\n",
    "            pickle.dump(to_pkl_lst[i], fp)"
   ],
   "metadata": {
    "collapsed": false,
    "pycharm": {
     "name": "#%%\n"
    }
   }
  },
  {
   "cell_type": "code",
   "execution_count": 10,
   "outputs": [],
   "source": [],
   "metadata": {
    "collapsed": false,
    "pycharm": {
     "name": "#%%\n"
    }
   }
  },
  {
   "cell_type": "code",
   "execution_count": 11,
   "outputs": [
    {
     "name": "stderr",
     "output_type": "stream",
     "text": [
      "1it [00:50, 50.15s/it]\n"
     ]
    },
    {
     "name": "stdout",
     "output_type": "stream",
     "text": [
      "{'payment_mean': 0.19130839407444, 'regret_mean': 0.004152871668338776, 'regret_max': 0.052350521087646484}\n",
      "CPU times: user 50.2 s, sys: 16 ms, total: 50.2 s\n",
      "Wall time: 50.2 s\n"
     ]
    }
   ],
   "source": [
    "%%time\n",
    "# model.sinkhorn_rounds = 100\n",
    "# model.sinkhorn_epsilon = 1e-2\n",
    "if test:\n",
    "    test_data = ds.generate_dataset_nxk(args.n_agents, args.n_items, args.test_num_examples, item_ranges).to(device)\n",
    "    # test_data = torch.load(dir_name + 'test_data').to(device=device)\n",
    "    cpu_test_data = test_data.clone().to(device='cpu')\n",
    "\n",
    "    test_loader = ds.Dataloader(test_data, batch_size=args.test_batch_size, shuffle=True)\n",
    "\n",
    "    result = test_loop(model, test_loader, args, device=device)\n",
    "    print(result)"
   ],
   "metadata": {
    "collapsed": false,
    "pycharm": {
     "name": "#%%\n"
    }
   }
  },
  {
   "cell_type": "code",
   "execution_count": 12,
   "metadata": {},
   "outputs": [
    {
     "name": "stderr",
     "output_type": "stream",
     "text": [
      "1it [04:34, 274.39s/it]\n"
     ]
    },
    {
     "name": "stdout",
     "output_type": "stream",
     "text": [
      "{'payment_mean': 0.18918870389461517, 'regret_mean': 0.004495672881603241, 'regret_max': 0.047275155782699585}\n"
     ]
    }
   ],
   "source": [
    "# %%time\n",
    "if test:\n",
    "    args.test_num_examples = 1000\n",
    "    args.test_batch_size = 1000\n",
    "    args.test_misreport_iter = 1000\n",
    "    args.misreport_lr = 1e-1\n",
    "    test_data2 = ds.generate_dataset_nxk(args.n_agents, args.n_items, args.test_num_examples, item_ranges).to(device)\n",
    "    random_starts = [test_data2]\n",
    "    for i in range(10):\n",
    "        random_starts.append(ds.generate_dataset_nxk(args.n_agents, args.n_items, args.test_num_examples, item_ranges).to(device))\n",
    "    test_loader = ds.Dataloader(test_data2, batch_size=args.test_batch_size, shuffle=True)\n",
    "\n",
    "    result = test_loop_random_start(model, test_loader, args, random_starts, device=device)\n",
    "    print(result)"
   ]
  },
  {
   "cell_type": "code",
   "execution_count": 13,
   "outputs": [],
   "source": [
    "converged = model.check_convergence(torch.rand(10000,2,3).cuda())"
   ],
   "metadata": {
    "collapsed": false,
    "pycharm": {
     "name": "#%%\n"
    }
   }
  },
  {
   "cell_type": "code",
   "execution_count": 14,
   "outputs": [
    {
     "data": {
      "text/plain": "tensor(0.0051, device='cuda:0')"
     },
     "execution_count": 14,
     "metadata": {},
     "output_type": "execute_result"
    }
   ],
   "source": [
    "converged[0].max()"
   ],
   "metadata": {
    "collapsed": false,
    "pycharm": {
     "name": "#%%\n"
    }
   }
  },
  {
   "cell_type": "code",
   "execution_count": 15,
   "outputs": [
    {
     "data": {
      "text/plain": "tensor(8.3446e-07, device='cuda:0')"
     },
     "execution_count": 15,
     "metadata": {},
     "output_type": "execute_result"
    }
   ],
   "source": [
    "converged[1].max()"
   ],
   "metadata": {
    "collapsed": false,
    "pycharm": {
     "name": "#%%\n"
    }
   }
  },
  {
   "cell_type": "code",
   "execution_count": 16,
   "outputs": [
    {
     "name": "stderr",
     "output_type": "stream",
     "text": [
      "1it [12:34, 754.04s/it]\n"
     ]
    },
    {
     "name": "stdout",
     "output_type": "stream",
     "text": [
      "{'payment_mean': 0.21054710447788239, 'regret_mean': 0.13626669347286224, 'regret_max': 0.3283197283744812}\n"
     ]
    }
   ],
   "source": [
    "model.cuda()\n",
    "model.sinkhorn_epsilon=5e-3\n",
    "if test:\n",
    "    args.test_num_examples = 1000\n",
    "    args.test_batch_size = 1000\n",
    "    args.test_misreport_iter = 1000\n",
    "    args.misreport_lr = 1e-1\n",
    "    test_data2 = ds.generate_dataset_nxk(args.n_agents, args.n_items, args.test_num_examples, item_ranges).to(device)\n",
    "    random_starts = [test_data2]\n",
    "    for i in range(10):\n",
    "        random_starts.append(ds.generate_dataset_nxk(args.n_agents, args.n_items, args.test_num_examples, item_ranges).to(device))\n",
    "    test_loader = ds.Dataloader(test_data2, batch_size=args.test_batch_size, shuffle=True)\n",
    "\n",
    "    result = test_loop_random_start(model, test_loader, args, random_starts, device=device)\n",
    "    print(result)"
   ],
   "metadata": {
    "collapsed": false,
    "pycharm": {
     "name": "#%%\n"
    }
   }
  },
  {
   "cell_type": "code",
   "execution_count": null,
   "outputs": [],
   "source": [],
   "metadata": {
    "collapsed": false,
    "pycharm": {
     "name": "#%%\n"
    }
   }
  }
 ],
 "metadata": {
  "kernelspec": {
   "display_name": "Python 3",
   "language": "python",
   "name": "python3"
  },
  "language_info": {
   "codemirror_mode": {
    "name": "ipython",
    "version": 3
   },
   "file_extension": ".py",
   "mimetype": "text/x-python",
   "name": "python",
   "nbconvert_exporter": "python",
   "pygments_lexer": "ipython3",
   "version": "3.7.4"
  }
 },
 "nbformat": 4,
 "nbformat_minor": 2
}