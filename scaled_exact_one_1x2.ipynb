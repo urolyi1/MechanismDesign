{
 "cells": [
  {
   "cell_type": "code",
   "execution_count": 1,
   "metadata": {},
   "outputs": [],
   "source": [
    "import torch\n",
    "import numpy as np\n",
    "from argparse import ArgumentParser\n",
    "from double_net.double_net import DoubleNet, train_loop, test_loop_random_start, test_loop\n",
    "from double_net import datasets as ds\n",
    "import double_net.plot_utils as pu\n",
    "import matplotlib.pyplot as plt"
   ]
  },
  {
   "cell_type": "code",
   "execution_count": 2,
   "outputs": [],
   "source": [
    "train = False\n",
    "test = True"
   ],
   "metadata": {
    "collapsed": false,
    "pycharm": {
     "name": "#%%\n"
    }
   }
  },
  {
   "cell_type": "code",
   "execution_count": 3,
   "outputs": [],
   "source": [
    "# import logging\n",
    "# logger = logging.getLogger()\n",
    "# logger.setLevel(logging.INFO)"
   ],
   "metadata": {
    "collapsed": false,
    "pycharm": {
     "name": "#%%\n"
    }
   }
  },
  {
   "cell_type": "code",
   "execution_count": 4,
   "metadata": {},
   "outputs": [],
   "source": [
    "if torch.cuda.is_available():\n",
    "    device = 'cuda'\n",
    "else:\n",
    "    device = 'cpu'"
   ]
  },
  {
   "cell_type": "code",
   "execution_count": 5,
   "metadata": {},
   "outputs": [
    {
     "data": {
      "text/plain": "'cuda'"
     },
     "execution_count": 5,
     "metadata": {},
     "output_type": "execute_result"
    }
   ],
   "source": [
    "device"
   ]
  },
  {
   "cell_type": "code",
   "execution_count": 6,
   "metadata": {},
   "outputs": [
    {
     "data": {
      "text/plain": "Namespace(batch_size=4096, lagr_update_iter=100, misreport_iter=25, misreport_lr=0.1, model_lr=0.001, n_agents=1, n_items=2, num_epochs=100, num_examples=524288, random_seed=0, rgt_start=0, rho=1.0, rho_incr_amount=1.0, rho_incr_iter=2, sinkhorn_epsilon=0.05, sinkhorn_tol=0.01, test_batch_size=10000, test_iter=5, test_misreport_iter=2000, test_num_examples=10000)"
     },
     "execution_count": 6,
     "metadata": {},
     "output_type": "execute_result"
    }
   ],
   "source": [
    "parser = ArgumentParser()\n",
    "parser.add_argument('--random-seed', type=int, default=0)\n",
    "parser.add_argument('--num-examples', type=int, default=131072 * 4)\n",
    "parser.add_argument('--test-num-examples', type=int, default=10000)\n",
    "parser.add_argument('--test-iter', type=int, default=5)\n",
    "parser.add_argument('--n-agents', type=int, default=1)\n",
    "parser.add_argument('--n-items', type=int, default=2)\n",
    "parser.add_argument('--num-epochs', type=int, default=100)\n",
    "parser.add_argument('--batch-size', type=int, default=128 * 32)\n",
    "parser.add_argument('--test-batch-size', type=int, default=10000)\n",
    "parser.add_argument('--model-lr', type=float, default=1e-3)\n",
    "parser.add_argument('--misreport-lr', type=float, default=1e-1)\n",
    "parser.add_argument('--misreport-iter', type=int, default=25)\n",
    "parser.add_argument('--test-misreport-iter', type=int, default=2000)\n",
    "parser.add_argument('--rho', type=float, default=1.0)\n",
    "parser.add_argument('--rho-incr-iter', type=int, default=2)\n",
    "parser.add_argument('--rho-incr-amount', type=float, default=1.0)\n",
    "parser.add_argument('--lagr-update-iter', type=int, default=100)\n",
    "parser.add_argument('--rgt-start', type=int, default=0)\n",
    "parser.add_argument('--sinkhorn-epsilon', type=float, default=5e-2)\n",
    "# parser.add_argument('--sinkhorn-rounds', type=int, default=20)\n",
    "parser.add_argument('--sinkhorn-tol', type=float, default=0.01)\n",
    "\n",
    "dataset_name = \"\"\n",
    "args = parser.parse_args(args=[])\n",
    "args"
   ]
  },
  {
   "cell_type": "code",
   "execution_count": 7,
   "metadata": {},
   "outputs": [],
   "source": [
    "torch.manual_seed(args.random_seed)\n",
    "np.random.seed(args.random_seed)\n",
    "\n",
    "item_ranges = ds.preset_valuation_range(args.n_agents, args.n_items, dataset_name)\n",
    "clamp_op = ds.get_clamp_op(item_ranges)\n",
    "\n",
    "model = DoubleNet(\n",
    "    args.n_agents, args.n_items, item_ranges, args.sinkhorn_epsilon, args.sinkhorn_tol, marginal_choice='exact_one'\n",
    ").to(device)\n",
    "\n",
    "train_data = ds.generate_dataset_nxk(args.n_agents, args.n_items, args.num_examples, item_ranges).to(device)\n",
    "train_loader = ds.Dataloader(train_data, batch_size=args.batch_size, shuffle=True)"
   ]
  },
  {
   "cell_type": "code",
   "execution_count": 8,
   "metadata": {},
   "outputs": [
    {
     "name": "stdout",
     "output_type": "stream",
     "text": [
      "CPU times: user 1 µs, sys: 1e+03 ns, total: 2 µs\n",
      "Wall time: 2.86 µs\n"
     ]
    }
   ],
   "source": [
    "%%time\n",
    "if train:\n",
    "    train_loop(model, train_loader, args, device=device)"
   ]
  },
  {
   "cell_type": "code",
   "execution_count": 9,
   "outputs": [],
   "source": [
    "import os\n",
    "dir_name = 'scaled_exact_one_1x2_experiment_data/'\n",
    "os.makedirs(dir_name, exist_ok=True)\n",
    "\n",
    "train=False"
   ],
   "metadata": {
    "collapsed": false,
    "pycharm": {
     "name": "#%%\n"
    }
   }
  },
  {
   "cell_type": "code",
   "execution_count": 10,
   "outputs": [],
   "source": [
    "if not train:\n",
    "    model = DoubleNet.load(dir_name).cuda()\n",
    "else:\n",
    "    model.save(dir_name)"
   ],
   "metadata": {
    "collapsed": false,
    "pycharm": {
     "name": "#%%\n"
    }
   }
  },
  {
   "cell_type": "code",
   "execution_count": null,
   "outputs": [
    {
     "name": "stderr",
     "output_type": "stream",
     "text": [
      "0it [00:00, ?it/s]"
     ]
    }
   ],
   "source": [
    "%%time\n",
    "# model.sinkhorn_rounds = 100\n",
    "# model.sinkhorn_epsilon = 1e-2\n",
    "if test:\n",
    "    test_data = ds.generate_dataset_nxk(args.n_agents, args.n_items, args.test_num_examples, item_ranges).to(device)\n",
    "    # test_data = torch.load(dir_name + 'test_data').to(device=device)\n",
    "    cpu_test_data = test_data.clone().to(device='cpu')\n",
    "\n",
    "    test_loader = ds.Dataloader(test_data, batch_size=args.test_batch_size, shuffle=True)\n",
    "\n",
    "    result = test_loop(model, test_loader, args, device=device)\n",
    "    result"
   ],
   "metadata": {
    "collapsed": false,
    "pycharm": {
     "name": "#%%\n",
     "is_executing": true
    }
   }
  },
  {
   "cell_type": "code",
   "execution_count": null,
   "metadata": {
    "pycharm": {
     "is_executing": true
    }
   },
   "outputs": [],
   "source": [
    "# %%time\n",
    "# if test:\n",
    "#     random_starts = [test_data]\n",
    "#     for i in range(10):\n",
    "#         random_starts.append(ds.generate_dataset_nxk(args.n_agents, args.n_items, args.test_num_examples, item_ranges).to(device))\n",
    "#     test_loader = ds.Dataloader(test_data, batch_size=args.test_batch_size, shuffle=True)\n",
    "#\n",
    "#     result = test_loop_random_start(model, test_loader, args, random_starts, device=device)\n",
    "#     result"
   ]
  },
  {
   "cell_type": "code",
   "execution_count": null,
   "outputs": [],
   "source": [
    "converged = model.check_convergence(torch.rand(10000,1,2).cuda())"
   ],
   "metadata": {
    "collapsed": false,
    "pycharm": {
     "name": "#%%\n",
     "is_executing": true
    }
   }
  },
  {
   "cell_type": "code",
   "execution_count": null,
   "outputs": [],
   "source": [
    "converged[0].max()"
   ],
   "metadata": {
    "collapsed": false,
    "pycharm": {
     "name": "#%%\n",
     "is_executing": true
    }
   }
  },
  {
   "cell_type": "code",
   "execution_count": null,
   "outputs": [],
   "source": [
    "converged[1].max()\n"
   ],
   "metadata": {
    "collapsed": false,
    "pycharm": {
     "name": "#%%\n",
     "is_executing": true
    }
   }
  },
  {
   "cell_type": "code",
   "execution_count": null,
   "metadata": {
    "pycharm": {
     "is_executing": true
    }
   },
   "outputs": [],
   "source": [
    "plt.rcParams['figure.figsize'] = [12, 8]\n",
    "plt.rcParams['figure.dpi'] = 100\n",
    "# # model.sinkhorn_rounds = 200"
   ]
  },
  {
   "cell_type": "code",
   "execution_count": null,
   "outputs": [],
   "source": [
    "pu.plot_12_model(model.to(device='cpu'), 0.01, (0,1), (0,1))"
   ],
   "metadata": {
    "collapsed": false,
    "pycharm": {
     "name": "#%%\n",
     "is_executing": true
    }
   }
  },
  {
   "cell_type": "code",
   "execution_count": null,
   "outputs": [],
   "source": [
    "model.sinkhorn_epsilon = 5e-3\n",
    "pu.plot_12_model(model.to(device='cpu'), 0.01, (0,1), (0,1))"
   ],
   "metadata": {
    "collapsed": false,
    "pycharm": {
     "name": "#%%\n",
     "is_executing": true
    }
   }
  },
  {
   "cell_type": "code",
   "execution_count": null,
   "outputs": [],
   "source": [],
   "metadata": {
    "collapsed": false,
    "pycharm": {
     "name": "#%%\n",
     "is_executing": true
    }
   }
  },
  {
   "cell_type": "code",
   "execution_count": null,
   "metadata": {
    "scrolled": false,
    "pycharm": {
     "is_executing": true
    }
   },
   "outputs": [],
   "source": [
    "def plot_12_model_payments(model, grid_width=0.1, item1_range=(0, 1), item2_range=(0, 1), name=\"test\"):\n",
    "    item1_min, item1_max = item1_range\n",
    "    item2_min, item2_max = item2_range\n",
    "    xcoords = (item1_max - item1_min) * torch.arange(0, 1, grid_width).view(1, -1) + item1_min\n",
    "    ycoords = (item2_max - item2_min) * torch.arange(0, 1, grid_width).view(-1, 1) + item2_min\n",
    "    xlen = ycoords.shape[0]\n",
    "    ylen = xcoords.shape[1]\n",
    "\n",
    "    xcoords_tiled = xcoords.repeat(xlen, 1)\n",
    "    ycoords_tiled = ycoords.repeat(1, ylen)\n",
    "\n",
    "    combined = torch.stack((xcoords_tiled, ycoords_tiled), dim=2)\n",
    "\n",
    "    output_allocs, output_payments = model(combined.view(-1, 1, 2))\n",
    "\n",
    "    output_item1_payments = output_payments.view(xlen, ylen)\n",
    "    f, (ax1) = plt.subplots(1, 1)\n",
    "    im1 = ax1.imshow(output_item1_payments.cpu().detach().numpy(), origin='lower', cmap='YlOrRd',extent=[0,1,0,1])\n",
    "    ax1.set_title('payment')\n",
    "    ax1.set_xlabel('v1')\n",
    "    ax1.set_ylabel('v2')\n",
    "    f.colorbar(im1)\n",
    "    f.show()\n",
    "    \n",
    "# plot_12_model_payments(model.to(device='cpu'), 0.01, (0,1), (0,1))"
   ]
  },
  {
   "cell_type": "code",
   "execution_count": null,
   "metadata": {
    "pycharm": {
     "name": "#%%\n",
     "is_executing": true
    }
   },
   "outputs": [],
   "source": [
    "def exact_one_1x2_0_1_optimal_mechanism(bids):\n",
    "    batch_size, n_agents, n_items = bids.shape\n",
    "    allocs = torch.zeros(bids.shape)\n",
    "    payments = torch.zeros((batch_size, n_agents))\n",
    "    \n",
    "    for i in range(batch_size):\n",
    "        if bids[i, 0, 1] - 1 / 3 > bids[i, 0, 0]:\n",
    "            allocs[i, 0, 1] = 1.0\n",
    "            allocs[i, 0, 0] = 0.0\n",
    "            payments[i] = 1 / 3\n",
    "        else:\n",
    "            allocs[i, 0, 1] = 0.0\n",
    "            allocs[i, 0, 0] = 1.0\n",
    "            payments[i] = 0.0\n",
    "    return allocs, payments"
   ]
  },
  {
   "cell_type": "code",
   "execution_count": null,
   "outputs": [],
   "source": [
    "pu.plot_12_model(exact_one_1x2_0_1_optimal_mechanism, 0.01, (0,1), (0,1))"
   ],
   "metadata": {
    "collapsed": false,
    "pycharm": {
     "name": "#%%\n",
     "is_executing": true
    }
   }
  },
  {
   "cell_type": "code",
   "execution_count": null,
   "outputs": [],
   "source": [],
   "metadata": {
    "collapsed": false,
    "pycharm": {
     "name": "#%%\n",
     "is_executing": true
    }
   }
  },
  {
   "cell_type": "code",
   "execution_count": null,
   "outputs": [],
   "source": [],
   "metadata": {
    "collapsed": false,
    "pycharm": {
     "name": "#%%\n"
    }
   }
  }
 ],
 "metadata": {
  "kernelspec": {
   "display_name": "Python 3",
   "language": "python",
   "name": "python3"
  },
  "language_info": {
   "codemirror_mode": {
    "name": "ipython",
    "version": 3
   },
   "file_extension": ".py",
   "mimetype": "text/x-python",
   "name": "python",
   "nbconvert_exporter": "python",
   "pygments_lexer": "ipython3",
   "version": "3.7.4"
  }
 },
 "nbformat": 4,
 "nbformat_minor": 2
}