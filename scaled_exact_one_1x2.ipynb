{
 "cells": [
  {
   "cell_type": "code",
   "execution_count": 1,
   "metadata": {},
   "outputs": [],
   "source": [
    "import torch\n",
    "import time\n",
    "import numpy as np\n",
    "from argparse import ArgumentParser\n",
    "from double_net.double_net import DoubleNet, train_loop, test_loop_random_start, test_loop\n",
    "from double_net import datasets as ds\n",
    "import double_net.plot_utils as pu\n",
    "import matplotlib.pyplot as plt"
   ]
  },
  {
   "cell_type": "code",
   "execution_count": 2,
   "outputs": [],
   "source": [
    "train = True\n",
    "test = True"
   ],
   "metadata": {
    "collapsed": false,
    "pycharm": {
     "name": "#%%\n"
    }
   }
  },
  {
   "cell_type": "code",
   "execution_count": 3,
   "outputs": [],
   "source": [
    "# import logging\n",
    "# logger = logging.getLogger()\n",
    "# logger.setLevel(logging.INFO)"
   ],
   "metadata": {
    "collapsed": false,
    "pycharm": {
     "name": "#%%\n"
    }
   }
  },
  {
   "cell_type": "code",
   "execution_count": 4,
   "metadata": {},
   "outputs": [],
   "source": [
    "if torch.cuda.is_available():\n",
    "    device = 'cuda'\n",
    "else:\n",
    "    device = 'cpu'"
   ]
  },
  {
   "cell_type": "code",
   "execution_count": 5,
   "metadata": {},
   "outputs": [
    {
     "data": {
      "text/plain": "'cuda'"
     },
     "execution_count": 5,
     "metadata": {},
     "output_type": "execute_result"
    }
   ],
   "source": [
    "device"
   ]
  },
  {
   "cell_type": "code",
   "execution_count": 6,
   "metadata": {},
   "outputs": [
    {
     "data": {
      "text/plain": "Namespace(batch_size=4096, lagr_update_iter=100, misreport_iter=25, misreport_lr=0.1, model_lr=0.001, n_agents=1, n_items=2, num_epochs=100, num_examples=524288, random_seed=0, rgt_start=0, rho=1.0, rho_incr_amount=1.0, rho_incr_iter=2, sinkhorn_epsilon=0.05, sinkhorn_tol=0.01, test_batch_size=10000, test_iter=5, test_misreport_iter=2000, test_num_examples=10000)"
     },
     "execution_count": 6,
     "metadata": {},
     "output_type": "execute_result"
    }
   ],
   "source": [
    "parser = ArgumentParser()\n",
    "parser.add_argument('--random-seed', type=int, default=0)\n",
    "parser.add_argument('--num-examples', type=int, default=131072 * 4)\n",
    "parser.add_argument('--test-num-examples', type=int, default=10000)\n",
    "parser.add_argument('--test-iter', type=int, default=5)\n",
    "parser.add_argument('--n-agents', type=int, default=1)\n",
    "parser.add_argument('--n-items', type=int, default=2)\n",
    "parser.add_argument('--num-epochs', type=int, default=100)\n",
    "parser.add_argument('--batch-size', type=int, default=128 * 32)\n",
    "parser.add_argument('--test-batch-size', type=int, default=10000)\n",
    "parser.add_argument('--model-lr', type=float, default=1e-3)\n",
    "parser.add_argument('--misreport-lr', type=float, default=1e-1)\n",
    "parser.add_argument('--misreport-iter', type=int, default=25)\n",
    "parser.add_argument('--test-misreport-iter', type=int, default=2000)\n",
    "parser.add_argument('--rho', type=float, default=1.0)\n",
    "parser.add_argument('--rho-incr-iter', type=int, default=2)\n",
    "parser.add_argument('--rho-incr-amount', type=float, default=1.0)\n",
    "parser.add_argument('--lagr-update-iter', type=int, default=100)\n",
    "parser.add_argument('--rgt-start', type=int, default=0)\n",
    "parser.add_argument('--sinkhorn-epsilon', type=float, default=5e-2)\n",
    "# parser.add_argument('--sinkhorn-rounds', type=int, default=20)\n",
    "parser.add_argument('--sinkhorn-tol', type=float, default=0.01)\n",
    "\n",
    "dataset_name = \"\"\n",
    "args = parser.parse_args(args=[])\n",
    "args"
   ]
  },
  {
   "cell_type": "code",
   "execution_count": 7,
   "metadata": {},
   "outputs": [],
   "source": [
    "torch.manual_seed(args.random_seed)\n",
    "np.random.seed(args.random_seed)\n",
    "\n",
    "item_ranges = ds.preset_valuation_range(args.n_agents, args.n_items, dataset_name)\n",
    "clamp_op = ds.get_clamp_op(item_ranges)\n",
    "\n",
    "model = DoubleNet(\n",
    "    args.n_agents, args.n_items, item_ranges, args.sinkhorn_epsilon, args.sinkhorn_tol, marginal_choice='exact_one'\n",
    ").to(device)\n",
    "\n",
    "train_data = ds.generate_dataset_nxk(args.n_agents, args.n_items, args.num_examples, item_ranges).to(device)\n",
    "train_loader = ds.Dataloader(train_data, batch_size=args.batch_size, shuffle=True)"
   ]
  },
  {
   "cell_type": "code",
   "execution_count": 8,
   "outputs": [],
   "source": [
    "import os\n",
    "dir_name = 'scaled_exact_one_1x2_experiment_data/'\n",
    "os.makedirs(dir_name, exist_ok=True)"
   ],
   "metadata": {
    "collapsed": false,
    "pycharm": {
     "name": "#%%\n"
    }
   }
  },
  {
   "cell_type": "code",
   "execution_count": 9,
   "metadata": {},
   "outputs": [
    {
     "name": "stderr",
     "output_type": "stream",
     "text": [
      "100%|██████████| 100/100 [1:21:36<00:00, 48.96s/it]\n"
     ]
    },
    {
     "name": "stdout",
     "output_type": "stream",
     "text": [
      "{'regret_max': 0.5448424816131592, 'regret_mean': 0.015742210671305656, 'regret_mults': tensor([[5.6359]], device='cuda:0'), 'payment': 0.05877286195755005}\n",
      "{'regret_max': 0.07196295261383057, 'regret_mean': 0.007703216280788183, 'regret_mults': tensor([[6.4146]], device='cuda:0'), 'payment': 0.07380017638206482}\n",
      "{'regret_max': 0.06995272636413574, 'regret_mean': 0.005112932529300451, 'regret_mults': tensor([[7.2224]], device='cuda:0'), 'payment': 0.07083748281002045}\n",
      "{'regret_max': 0.06668210029602051, 'regret_mean': 0.003815488424152136, 'regret_mults': tensor([[9.0133]], device='cuda:0'), 'payment': 0.06410682946443558}\n",
      "{'regret_max': 0.059958577156066895, 'regret_mean': 0.003062198869884014, 'regret_mults': tensor([[9.9105]], device='cuda:0'), 'payment': 0.05783797428011894}\n",
      "{'regret_max': 0.053939104080200195, 'regret_mean': 0.0027106483466923237, 'regret_mults': tensor([[10.7961]], device='cuda:0'), 'payment': 0.05295293405652046}\n",
      "{'regret_max': 0.08750597387552261, 'regret_mean': 0.0027162847109138966, 'regret_mults': tensor([[12.6462]], device='cuda:0'), 'payment': 0.042452964931726456}\n",
      "{'regret_max': 0.05349087715148926, 'regret_mean': 0.0022692708298563957, 'regret_mults': tensor([[14.8626]], device='cuda:0'), 'payment': 0.058920327574014664}\n",
      "{'regret_max': 0.07094776630401611, 'regret_mean': 0.0021524056792259216, 'regret_mults': tensor([[15.7724]], device='cuda:0'), 'payment': 0.06984521448612213}\n",
      "{'regret_max': 0.05064345896244049, 'regret_mean': 0.001369140692986548, 'regret_mults': tensor([[16.5867]], device='cuda:0'), 'payment': 0.07895398885011673}\n",
      "{'regret_max': 0.035708844661712646, 'regret_mean': 0.001051238039508462, 'regret_mults': tensor([[17.8056]], device='cuda:0'), 'payment': 0.08079307526350021}\n",
      "{'regret_max': 0.038945794105529785, 'regret_mean': 0.000950900255702436, 'regret_mults': tensor([[18.1842]], device='cuda:0'), 'payment': 0.08004027605056763}\n",
      "{'regret_max': 0.027495145797729492, 'regret_mean': 0.0007573082693852484, 'regret_mults': tensor([[18.6712]], device='cuda:0'), 'payment': 0.08199892938137054}\n",
      "{'regret_max': 0.038672685623168945, 'regret_mean': 0.0007542688399553299, 'regret_mults': tensor([[19.2561]], device='cuda:0'), 'payment': 0.08090393245220184}\n",
      "{'regret_max': 0.027807950973510742, 'regret_mean': 0.0005990145727992058, 'regret_mults': tensor([[21.0430]], device='cuda:0'), 'payment': 0.0830172449350357}\n",
      "{'regret_max': 0.028302490711212158, 'regret_mean': 0.000684943632222712, 'regret_mults': tensor([[21.8776]], device='cuda:0'), 'payment': 0.07976626604795456}\n",
      "{'regret_max': 0.022595465183258057, 'regret_mean': 0.0005284770159050822, 'regret_mults': tensor([[22.4552]], device='cuda:0'), 'payment': 0.08172915875911713}\n",
      "{'regret_max': 0.024042904376983643, 'regret_mean': 0.00050947698764503, 'regret_mults': tensor([[23.5102]], device='cuda:0'), 'payment': 0.08056022226810455}\n",
      "{'regret_max': 0.03372710943222046, 'regret_mean': 0.0005758826155215502, 'regret_mults': tensor([[24.0400]], device='cuda:0'), 'payment': 0.07856562733650208}\n",
      "{'regret_max': 0.01867803931236267, 'regret_mean': 0.0004451335989870131, 'regret_mults': tensor([[24.6742]], device='cuda:0'), 'payment': 0.0814749151468277}\n",
      "{'regret_max': 0.025959551334381104, 'regret_mean': 0.00044488406274467707, 'regret_mults': tensor([[25.0963]], device='cuda:0'), 'payment': 0.0799025148153305}\n",
      "{'regret_max': 0.024467647075653076, 'regret_mean': 0.0004548462457023561, 'regret_mults': tensor([[26.1395]], device='cuda:0'), 'payment': 0.07936558872461319}\n",
      "{'regret_max': 0.021465063095092773, 'regret_mean': 0.0004021393833681941, 'regret_mults': tensor([[26.6160]], device='cuda:0'), 'payment': 0.08010616153478622}\n",
      "{'regret_max': 0.019420236349105835, 'regret_mean': 0.0003738364321179688, 'regret_mults': tensor([[27.1384]], device='cuda:0'), 'payment': 0.0800725445151329}\n",
      "{'regret_max': 0.021235764026641846, 'regret_mean': 0.0003574003931134939, 'regret_mults': tensor([[28.3315]], device='cuda:0'), 'payment': 0.07922287285327911}\n",
      "{'regret_max': 0.022173047065734863, 'regret_mean': 0.0003857075935229659, 'regret_mults': tensor([[28.8005]], device='cuda:0'), 'payment': 0.07920124381780624}\n",
      "{'regret_max': 0.021034836769104004, 'regret_mean': 0.00032359937904402614, 'regret_mults': tensor([[29.3146]], device='cuda:0'), 'payment': 0.08030236512422562}\n",
      "{'regret_max': 0.021600544452667236, 'regret_mean': 0.0003658612258732319, 'regret_mults': tensor([[29.6372]], device='cuda:0'), 'payment': 0.07890130579471588}\n",
      "{'regret_max': 0.01856708526611328, 'regret_mean': 0.0003211308503523469, 'regret_mults': tensor([[31.0485]], device='cuda:0'), 'payment': 0.07918284833431244}\n",
      "{'regret_max': 0.017942041158676147, 'regret_mean': 0.00031161995138973, 'regret_mults': tensor([[31.5975]], device='cuda:0'), 'payment': 0.07885579764842987}\n",
      "{'regret_max': 0.01870119571685791, 'regret_mean': 0.0002963495790027082, 'regret_mults': tensor([[32.0325]], device='cuda:0'), 'payment': 0.07937466353178024}\n",
      "{'regret_max': 0.022049248218536377, 'regret_mean': 0.00034287068410776556, 'regret_mults': tensor([[32.5798]], device='cuda:0'), 'payment': 0.07829800993204117}\n",
      "{'regret_max': 0.023056209087371826, 'regret_mean': 0.0003043311298824847, 'regret_mults': tensor([[33.7081]], device='cuda:0'), 'payment': 0.07801997661590576}\n",
      "{'regret_max': 0.018447577953338623, 'regret_mean': 0.0002616543206386268, 'regret_mults': tensor([[34.2576]], device='cuda:0'), 'payment': 0.07951390743255615}\n",
      "{'regret_max': 0.02045363187789917, 'regret_mean': 0.00026886817067861557, 'regret_mults': tensor([[34.7373]], device='cuda:0'), 'payment': 0.07858681678771973}\n",
      "{'regret_max': 0.08528614044189453, 'regret_mean': 0.000999279785901308, 'regret_mults': tensor([[39.4885]], device='cuda:0'), 'payment': 0.07360850274562836}\n",
      "{'regret_max': 0.019785627722740173, 'regret_mean': 0.00032225309405475855, 'regret_mults': tensor([[40.0982]], device='cuda:0'), 'payment': 0.0741683840751648}\n",
      "{'regret_max': 0.009609073400497437, 'regret_mean': 0.00020937746739946306, 'regret_mults': tensor([[40.5569]], device='cuda:0'), 'payment': 0.07860352843999863}\n",
      "{'regret_max': 0.0127657949924469, 'regret_mean': 0.00021290610311552882, 'regret_mults': tensor([[40.9785]], device='cuda:0'), 'payment': 0.07852621376514435}\n",
      "{'regret_max': 0.013819515705108643, 'regret_mean': 0.00020119166583754122, 'regret_mults': tensor([[41.8736]], device='cuda:0'), 'payment': 0.078999824821949}\n",
      "{'regret_max': 0.013776600360870361, 'regret_mean': 0.0002140412398148328, 'regret_mults': tensor([[42.7541]], device='cuda:0'), 'payment': 0.07893470674753189}\n",
      "{'regret_max': 0.016009628772735596, 'regret_mean': 0.000246047624386847, 'regret_mults': tensor([[43.2398]], device='cuda:0'), 'payment': 0.07809540629386902}\n",
      "{'regret_max': 0.01591545343399048, 'regret_mean': 0.00022979288769420236, 'regret_mults': tensor([[44.0864]], device='cuda:0'), 'payment': 0.07849511504173279}\n",
      "{'regret_max': 0.016045212745666504, 'regret_mean': 0.00020778249017894268, 'regret_mults': tensor([[44.6052]], device='cuda:0'), 'payment': 0.07824929058551788}\n",
      "{'regret_max': 0.01652008295059204, 'regret_mean': 0.0002023384440690279, 'regret_mults': tensor([[45.3235]], device='cuda:0'), 'payment': 0.07824811339378357}\n",
      "{'regret_max': 0.01602804660797119, 'regret_mean': 0.0002073607756756246, 'regret_mults': tensor([[45.6418]], device='cuda:0'), 'payment': 0.07738542556762695}\n",
      "{'regret_max': 0.01820532977581024, 'regret_mean': 0.0002054043870884925, 'regret_mults': tensor([[46.7073]], device='cuda:0'), 'payment': 0.07756928354501724}\n",
      "{'regret_max': 0.020457029342651367, 'regret_mean': 0.00024277546617668122, 'regret_mults': tensor([[47.3007]], device='cuda:0'), 'payment': 0.07653583586215973}\n",
      "{'regret_max': 0.016059964895248413, 'regret_mean': 0.00021479609131347388, 'regret_mults': tensor([[47.8255]], device='cuda:0'), 'payment': 0.07709228247404099}\n",
      "{'regret_max': 0.01650238037109375, 'regret_mean': 0.00018652094877324998, 'regret_mults': tensor([[48.6892]], device='cuda:0'), 'payment': 0.0766591727733612}\n",
      "{'regret_max': 0.017646968364715576, 'regret_mean': 0.00020051360479556024, 'regret_mults': tensor([[49.2615]], device='cuda:0'), 'payment': 0.077267125248909}\n",
      "{'regret_max': 0.013378262519836426, 'regret_mean': 0.00020554829097818583, 'regret_mults': tensor([[50.0731]], device='cuda:0'), 'payment': 0.07672550529241562}\n",
      "{'regret_max': 0.013145625591278076, 'regret_mean': 0.00018279982032254338, 'regret_mults': tensor([[50.4398]], device='cuda:0'), 'payment': 0.07698597759008408}\n",
      "{'regret_max': 0.017319977283477783, 'regret_mean': 0.00018153118435293436, 'regret_mults': tensor([[51.4898]], device='cuda:0'), 'payment': 0.07678979635238647}\n",
      "{'regret_max': 0.015485182404518127, 'regret_mean': 0.00021278919302858412, 'regret_mults': tensor([[52.1945]], device='cuda:0'), 'payment': 0.07612939178943634}\n",
      "{'regret_max': 0.020770788192749023, 'regret_mean': 0.0001995205821003765, 'regret_mults': tensor([[53.0221]], device='cuda:0'), 'payment': 0.07570120692253113}\n",
      "{'regret_max': 0.013638883829116821, 'regret_mean': 0.00017527645104564726, 'regret_mults': tensor([[53.8212]], device='cuda:0'), 'payment': 0.07697738707065582}\n",
      "{'regret_max': 0.01773899793624878, 'regret_mean': 0.0001555407070554793, 'regret_mults': tensor([[55.3508]], device='cuda:0'), 'payment': 0.07674910128116608}\n",
      "{'regret_max': 0.01826333999633789, 'regret_mean': 0.00015834529767744243, 'regret_mults': tensor([[55.7231]], device='cuda:0'), 'payment': 0.07689963281154633}\n",
      "{'regret_max': 0.019728004932403564, 'regret_mean': 0.00018072233069688082, 'regret_mults': tensor([[56.2055]], device='cuda:0'), 'payment': 0.07560029625892639}\n",
      "{'regret_max': 0.016570448875427246, 'regret_mean': 0.00017451014718972147, 'regret_mults': tensor([[57.3123]], device='cuda:0'), 'payment': 0.07568776607513428}\n",
      "{'regret_max': 0.01170453429222107, 'regret_mean': 0.00015847249596845359, 'regret_mults': tensor([[58.5179]], device='cuda:0'), 'payment': 0.07666578888893127}\n",
      "{'regret_max': 0.01606599986553192, 'regret_mean': 0.00017293963173869997, 'regret_mults': tensor([[59.2676]], device='cuda:0'), 'payment': 0.0754028707742691}\n",
      "{'regret_max': 0.013276517391204834, 'regret_mean': 0.00014886933786328882, 'regret_mults': tensor([[60.0066]], device='cuda:0'), 'payment': 0.07620760798454285}\n",
      "{'regret_max': 0.015997350215911865, 'regret_mean': 0.0001734591496642679, 'regret_mults': tensor([[63.0360]], device='cuda:0'), 'payment': 0.07547582685947418}\n",
      "{'regret_max': 0.014752507209777832, 'regret_mean': 0.00016626955766696483, 'regret_mults': tensor([[63.6677]], device='cuda:0'), 'payment': 0.07523570209741592}\n",
      "{'regret_max': 0.01579725742340088, 'regret_mean': 0.00016744769527576864, 'regret_mults': tensor([[64.0480]], device='cuda:0'), 'payment': 0.07513986527919769}\n",
      "{'regret_max': 0.010834068059921265, 'regret_mean': 0.00012306671123951674, 'regret_mults': tensor([[64.7414]], device='cuda:0'), 'payment': 0.07657924294471741}\n",
      "{'regret_max': 0.018689095973968506, 'regret_mean': 0.0001564427511766553, 'regret_mults': tensor([[65.1526]], device='cuda:0'), 'payment': 0.07542799413204193}\n",
      "{'regret_max': 0.06325224041938782, 'regret_mean': 0.0007475409656763077, 'regret_mults': tensor([[66.0368]], device='cuda:0'), 'payment': 0.06953997164964676}\n",
      "{'regret_max': 0.026633530855178833, 'regret_mean': 0.0002120654098689556, 'regret_mults': tensor([[66.7384]], device='cuda:0'), 'payment': 0.07412407547235489}\n",
      "{'regret_max': 0.008368581533432007, 'regret_mean': 0.00011267213994869962, 'regret_mults': tensor([[67.8760]], device='cuda:0'), 'payment': 0.07800952345132828}\n",
      "{'regret_max': 0.01184430718421936, 'regret_mean': 0.00011946633458137512, 'regret_mults': tensor([[68.3914]], device='cuda:0'), 'payment': 0.07746760547161102}\n",
      "{'regret_max': 0.011503815650939941, 'regret_mean': 0.00010939452477032319, 'regret_mults': tensor([[69.0538]], device='cuda:0'), 'payment': 0.07782697677612305}\n",
      "{'regret_max': 0.011481747031211853, 'regret_mean': 0.00011526946036610752, 'regret_mults': tensor([[69.9062]], device='cuda:0'), 'payment': 0.07716631144285202}\n",
      "{'regret_max': 0.012063205242156982, 'regret_mean': 0.0001081641239579767, 'regret_mults': tensor([[70.2424]], device='cuda:0'), 'payment': 0.07754114270210266}\n",
      "{'regret_max': 0.01168203353881836, 'regret_mean': 0.0001095560219255276, 'regret_mults': tensor([[70.5823]], device='cuda:0'), 'payment': 0.07674084603786469}\n",
      "{'regret_max': 0.010065972805023193, 'regret_mean': 0.00011512120545376092, 'regret_mults': tensor([[71.0221]], device='cuda:0'), 'payment': 0.0769263356924057}\n",
      "{'regret_max': 0.01577259600162506, 'regret_mean': 0.00013250480697024614, 'regret_mults': tensor([[73.8776]], device='cuda:0'), 'payment': 0.0757785439491272}\n",
      "{'regret_max': 0.014298439025878906, 'regret_mean': 0.00013022663188166916, 'regret_mults': tensor([[74.6554]], device='cuda:0'), 'payment': 0.07487371563911438}\n",
      "{'regret_max': 0.014197170734405518, 'regret_mean': 0.0001338485162705183, 'regret_mults': tensor([[75.0815]], device='cuda:0'), 'payment': 0.07582582533359528}\n",
      "{'regret_max': 0.013084053993225098, 'regret_mean': 0.00011934703798033297, 'regret_mults': tensor([[75.6668]], device='cuda:0'), 'payment': 0.07540596276521683}\n",
      "{'regret_max': 0.013222098350524902, 'regret_mean': 0.0001217377939610742, 'regret_mults': tensor([[77.0260]], device='cuda:0'), 'payment': 0.07538625597953796}\n",
      "{'regret_max': 0.011290788650512695, 'regret_mean': 0.00011770513083320111, 'regret_mults': tensor([[77.5923]], device='cuda:0'), 'payment': 0.07532481849193573}\n",
      "{'regret_max': 0.018246322870254517, 'regret_mean': 0.00011355012247804552, 'regret_mults': tensor([[78.0497]], device='cuda:0'), 'payment': 0.07536422461271286}\n",
      "{'regret_max': 0.012381471693515778, 'regret_mean': 0.00012782379053533077, 'regret_mults': tensor([[79.9115]], device='cuda:0'), 'payment': 0.07507549226284027}\n",
      "{'regret_max': 0.011891841888427734, 'regret_mean': 0.00011828525748569518, 'regret_mults': tensor([[81.1011]], device='cuda:0'), 'payment': 0.07522916793823242}\n",
      "{'regret_max': 0.011650413274765015, 'regret_mean': 0.00010346490307711065, 'regret_mults': tensor([[81.3302]], device='cuda:0'), 'payment': 0.07522252202033997}\n",
      "{'regret_max': 0.012279152870178223, 'regret_mean': 0.00011004526459146291, 'regret_mults': tensor([[81.7076]], device='cuda:0'), 'payment': 0.07595747709274292}\n",
      "{'regret_max': 0.017439797520637512, 'regret_mean': 0.00013744963507633656, 'regret_mults': tensor([[82.8943]], device='cuda:0'), 'payment': 0.07359004020690918}\n",
      "{'regret_max': 0.010671451687812805, 'regret_mean': 0.00010704529995564371, 'regret_mults': tensor([[83.3275]], device='cuda:0'), 'payment': 0.07525953650474548}\n",
      "{'regret_max': 0.010941684246063232, 'regret_mean': 9.855147800408304e-05, 'regret_mults': tensor([[83.7876]], device='cuda:0'), 'payment': 0.0761447548866272}\n",
      "{'regret_max': 0.013235867023468018, 'regret_mean': 9.453190432395786e-05, 'regret_mults': tensor([[84.8010]], device='cuda:0'), 'payment': 0.07621165364980698}\n",
      "{'regret_max': 0.014806456863880157, 'regret_mean': 0.00012995279394090176, 'regret_mults': tensor([[85.7281]], device='cuda:0'), 'payment': 0.07426394522190094}\n",
      "{'regret_max': 0.015279054641723633, 'regret_mean': 0.00014434490003623068, 'regret_mults': tensor([[86.3057]], device='cuda:0'), 'payment': 0.07427982985973358}\n",
      "{'regret_max': 0.013341188430786133, 'regret_mean': 9.709596633911133e-05, 'regret_mults': tensor([[86.7527]], device='cuda:0'), 'payment': 0.07510416954755783}\n",
      "{'regret_max': 0.01299653947353363, 'regret_mean': 9.007475455291569e-05, 'regret_mults': tensor([[87.8220]], device='cuda:0'), 'payment': 0.07546523958444595}\n",
      "{'regret_max': 0.01321101188659668, 'regret_mean': 0.00010793506226036698, 'regret_mults': tensor([[88.3018]], device='cuda:0'), 'payment': 0.07562470436096191}\n",
      "{'regret_max': 0.029948130249977112, 'regret_mean': 0.00022342924785334617, 'regret_mults': tensor([[88.9144]], device='cuda:0'), 'payment': 0.07304862141609192}\n",
      "{'regret_max': 0.017684221267700195, 'regret_mean': 0.00015035989054013044, 'regret_mults': tensor([[90.6103]], device='cuda:0'), 'payment': 0.07353439927101135}\n",
      "runtime: 4896.524174451828\n"
     ]
    }
   ],
   "source": [
    "if train:\n",
    "    start_time = time.time()\n",
    "    train_loop(model, train_loader, args, device=device)\n",
    "    end_time = time.time()\n",
    "    with open(dir_name+'time.txt', 'w') as f:\n",
    "        print(f\"runtime: {end_time - start_time}\", file=f)\n",
    "        print(f\"runtime: {end_time - start_time}\")"
   ]
  },
  {
   "cell_type": "code",
   "execution_count": 10,
   "outputs": [],
   "source": [
    "if not train:\n",
    "    model = DoubleNet.load(dir_name).cuda()\n",
    "else:\n",
    "    model.save(dir_name)"
   ],
   "metadata": {
    "collapsed": false,
    "pycharm": {
     "name": "#%%\n"
    }
   }
  },
  {
   "cell_type": "code",
   "execution_count": 11,
   "outputs": [
    {
     "name": "stderr",
     "output_type": "stream",
     "text": [
      "1it [00:29, 29.14s/it]\n"
     ]
    },
    {
     "name": "stdout",
     "output_type": "stream",
     "text": [
      "CPU times: user 29.1 s, sys: 12 ms, total: 29.1 s\n",
      "Wall time: 29.1 s\n"
     ]
    }
   ],
   "source": [
    "%%time\n",
    "# model.sinkhorn_rounds = 100\n",
    "# model.sinkhorn_epsilon = 1e-2\n",
    "if test:\n",
    "    test_data = ds.generate_dataset_nxk(args.n_agents, args.n_items, args.test_num_examples, item_ranges).to(device)\n",
    "    # test_data = torch.load(dir_name + 'test_data').to(device=device)\n",
    "    cpu_test_data = test_data.clone().to(device='cpu')\n",
    "\n",
    "    test_loader = ds.Dataloader(test_data, batch_size=args.test_batch_size, shuffle=True)\n",
    "\n",
    "    result = test_loop(model, test_loader, args, device=device)\n",
    "    result"
   ],
   "metadata": {
    "collapsed": false,
    "pycharm": {
     "name": "#%%\n"
    }
   }
  },
  {
   "cell_type": "code",
   "execution_count": 12,
   "metadata": {},
   "outputs": [
    {
     "name": "stderr",
     "output_type": "stream",
     "text": [
      "1it [02:36, 156.24s/it]\n"
     ]
    },
    {
     "name": "stdout",
     "output_type": "stream",
     "text": [
      "{'payment_mean': 0.07880309969186783, 'regret_mean': 0.0008007679134607315, 'regret_max': 0.006203770637512207}\n"
     ]
    }
   ],
   "source": [
    "if test:\n",
    "    args.test_num_examples = 1000\n",
    "    args.test_batch_size = 1000\n",
    "    args.test_misreport_iter = 1000\n",
    "    args.misreport_lr = 1e-1\n",
    "    test_data2 = ds.generate_dataset_nxk(args.n_agents, args.n_items, args.test_num_examples, item_ranges).to(device)\n",
    "    random_starts = [test_data2]\n",
    "    for i in range(10):\n",
    "        random_starts.append(ds.generate_dataset_nxk(args.n_agents, args.n_items, args.test_num_examples, item_ranges).to(device))\n",
    "    test_loader = ds.Dataloader(test_data2, batch_size=args.test_batch_size, shuffle=True)\n",
    "\n",
    "    result = test_loop_random_start(model, test_loader, args, random_starts, device=device)\n",
    "    print(result)"
   ]
  },
  {
   "cell_type": "code",
   "execution_count": 13,
   "outputs": [],
   "source": [
    "converged = model.check_convergence(torch.rand(10000,1,2).cuda())"
   ],
   "metadata": {
    "collapsed": false,
    "pycharm": {
     "name": "#%%\n"
    }
   }
  },
  {
   "cell_type": "code",
   "execution_count": 14,
   "outputs": [
    {
     "data": {
      "text/plain": "tensor(1.6689e-06, device='cuda:0')"
     },
     "execution_count": 14,
     "metadata": {},
     "output_type": "execute_result"
    }
   ],
   "source": [
    "converged[0].max()"
   ],
   "metadata": {
    "collapsed": false,
    "pycharm": {
     "name": "#%%\n"
    }
   }
  },
  {
   "cell_type": "code",
   "execution_count": 15,
   "outputs": [
    {
     "data": {
      "text/plain": "tensor(1.6689e-06, device='cuda:0')"
     },
     "execution_count": 15,
     "metadata": {},
     "output_type": "execute_result"
    }
   ],
   "source": [
    "converged[1].max()\n"
   ],
   "metadata": {
    "collapsed": false,
    "pycharm": {
     "name": "#%%\n"
    }
   }
  },
  {
   "cell_type": "code",
   "execution_count": 16,
   "metadata": {},
   "outputs": [],
   "source": [
    "plt.rcParams['figure.figsize'] = [12, 8]\n",
    "plt.rcParams['figure.dpi'] = 100\n",
    "# # model.sinkhorn_rounds = 200"
   ]
  },
  {
   "cell_type": "code",
   "execution_count": 17,
   "outputs": [
    {
     "name": "stderr",
     "output_type": "stream",
     "text": [
      "/home/curry/src/MechanismDesign/double_net/plot_utils.py:35: UserWarning: Matplotlib is currently using module://ipykernel.pylab.backend_inline, which is a non-GUI backend, so cannot show the figure.\n",
      "  f.show()\n"
     ]
    },
    {
     "data": {
      "text/plain": "<Figure size 1200x800 with 4 Axes>",
      "image/png": "[encoded data removed]"
     },
     "metadata": {
      "needs_background": "light"
     },
     "output_type": "display_data"
    }
   ],
   "source": [
    "pu.plot_12_model(model.to(device='cpu'), 0.01, (0,1), (0,1))"
   ],
   "metadata": {
    "collapsed": false,
    "pycharm": {
     "name": "#%%\n"
    }
   }
  },
  {
   "cell_type": "code",
   "execution_count": 18,
   "outputs": [
    {
     "data": {
      "text/plain": "<Figure size 1200x800 with 4 Axes>",
      "image/png": "[encoded data removed]"
     },
     "metadata": {
      "needs_background": "light"
     },
     "output_type": "display_data"
    }
   ],
   "source": [
    "model.sinkhorn_epsilon = 5e-3\n",
    "pu.plot_12_model(model.to(device='cpu'), 0.01, (0,1), (0,1))"
   ],
   "metadata": {
    "collapsed": false,
    "pycharm": {
     "name": "#%%\n"
    }
   }
  },
  {
   "cell_type": "code",
   "execution_count": 18,
   "outputs": [],
   "source": [],
   "metadata": {
    "collapsed": false,
    "pycharm": {
     "name": "#%%\n"
    }
   }
  },
  {
   "cell_type": "code",
   "execution_count": 19,
   "metadata": {
    "scrolled": false
   },
   "outputs": [],
   "source": [
    "def plot_12_model_payments(model, grid_width=0.1, item1_range=(0, 1), item2_range=(0, 1), name=\"test\"):\n",
    "    item1_min, item1_max = item1_range\n",
    "    item2_min, item2_max = item2_range\n",
    "    xcoords = (item1_max - item1_min) * torch.arange(0, 1, grid_width).view(1, -1) + item1_min\n",
    "    ycoords = (item2_max - item2_min) * torch.arange(0, 1, grid_width).view(-1, 1) + item2_min\n",
    "    xlen = ycoords.shape[0]\n",
    "    ylen = xcoords.shape[1]\n",
    "\n",
    "    xcoords_tiled = xcoords.repeat(xlen, 1)\n",
    "    ycoords_tiled = ycoords.repeat(1, ylen)\n",
    "\n",
    "    combined = torch.stack((xcoords_tiled, ycoords_tiled), dim=2)\n",
    "\n",
    "    output_allocs, output_payments = model(combined.view(-1, 1, 2))\n",
    "\n",
    "    output_item1_payments = output_payments.view(xlen, ylen)\n",
    "    f, (ax1) = plt.subplots(1, 1)\n",
    "    im1 = ax1.imshow(output_item1_payments.cpu().detach().numpy(), origin='lower', cmap='YlOrRd',extent=[0,1,0,1])\n",
    "    ax1.set_title('payment')\n",
    "    ax1.set_xlabel('v1')\n",
    "    ax1.set_ylabel('v2')\n",
    "    f.colorbar(im1)\n",
    "    f.show()\n",
    "    \n",
    "# plot_12_model_payments(model.to(device='cpu'), 0.01, (0,1), (0,1))"
   ]
  },
  {
   "cell_type": "code",
   "execution_count": 20,
   "metadata": {
    "pycharm": {
     "name": "#%%\n"
    }
   },
   "outputs": [],
   "source": [
    "def exact_one_1x2_0_1_optimal_mechanism(bids):\n",
    "    batch_size, n_agents, n_items = bids.shape\n",
    "    allocs = torch.zeros(bids.shape)\n",
    "    payments = torch.zeros((batch_size, n_agents))\n",
    "    \n",
    "    for i in range(batch_size):\n",
    "        if bids[i, 0, 1] - 1 / 3 > bids[i, 0, 0]:\n",
    "            allocs[i, 0, 1] = 1.0\n",
    "            allocs[i, 0, 0] = 0.0\n",
    "            payments[i] = 1 / 3\n",
    "        else:\n",
    "            allocs[i, 0, 1] = 0.0\n",
    "            allocs[i, 0, 0] = 1.0\n",
    "            payments[i] = 0.0\n",
    "    return allocs, payments"
   ]
  },
  {
   "cell_type": "code",
   "execution_count": 21,
   "outputs": [
    {
     "data": {
      "text/plain": "<Figure size 1200x800 with 4 Axes>",
      "image/png": "[encoded data removed]"
     },
     "metadata": {
      "needs_background": "light"
     },
     "output_type": "display_data"
    }
   ],
   "source": [
    "pu.plot_12_model(exact_one_1x2_0_1_optimal_mechanism, 0.01, (0,1), (0,1))"
   ],
   "metadata": {
    "collapsed": false,
    "pycharm": {
     "name": "#%%\n"
    }
   }
  },
  {
   "cell_type": "code",
   "execution_count": 21,
   "outputs": [],
   "source": [],
   "metadata": {
    "collapsed": false,
    "pycharm": {
     "name": "#%%\n"
    }
   }
  },
  {
   "cell_type": "code",
   "execution_count": null,
   "outputs": [],
   "source": [],
   "metadata": {
    "collapsed": false,
    "pycharm": {
     "name": "#%%\n"
    }
   }
  }
 ],
 "metadata": {
  "kernelspec": {
   "display_name": "Python 3",
   "language": "python",
   "name": "python3"
  },
  "language_info": {
   "codemirror_mode": {
    "name": "ipython",
    "version": 3
   },
   "file_extension": ".py",
   "mimetype": "text/x-python",
   "name": "python",
   "nbconvert_exporter": "python",
   "pygments_lexer": "ipython3",
   "version": "3.7.4"
  }
 },
 "nbformat": 4,
 "nbformat_minor": 2
}