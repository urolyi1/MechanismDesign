{
 "cells": [
  {
   "cell_type": "code",
   "execution_count": 1,
   "metadata": {},
   "outputs": [],
   "source": [
    "import torch\n",
    "from torch import nn, optim\n",
    "import torch.nn.functional as F\n",
    "import numpy as np\n",
    "from argparse import ArgumentParser\n",
    "from double_net.double_net import DoubleNet, train_loop, train_loop_no_lagrange, test_loop, test_loop_random_start\n",
    "from double_net import datasets as ds\n",
    "import time\n",
    "import double_net.plot_utils as pu\n",
    "import importlib\n",
    "import matplotlib.pyplot as plt"
   ]
  },
  {
   "cell_type": "code",
   "execution_count": 2,
   "metadata": {},
   "outputs": [],
   "source": [
    "if torch.cuda.is_available():\n",
    "    device = 'cuda'\n",
    "else:\n",
    "    device = 'cpu'"
   ]
  },
  {
   "cell_type": "code",
   "execution_count": 3,
   "metadata": {},
   "outputs": [
    {
     "data": {
      "text/plain": [
       "Namespace(batch_size=4096, lagr_update_iter=100, misreport_iter=25, misreport_lr=0.1, model_lr=0.001, n_agents=2, n_items=3, num_epochs=100, num_examples=524288, random_seed=0, rgt_start=0, rho=1, rho_incr_amount=1.0, rho_incr_iter=2, sinkhorn_epsilon=0.05, sinkhorn_rounds=10, test_batch_size=1000, test_iter=5, test_misreport_iter=1000, test_num_examples=1000)"
      ]
     },
     "execution_count": 3,
     "metadata": {},
     "output_type": "execute_result"
    }
   ],
   "source": [
    "parser = ArgumentParser()\n",
    "parser.add_argument('--random-seed', type=int, default=0)\n",
    "parser.add_argument('--num-examples', type=int, default=131072 * 4)\n",
    "parser.add_argument('--test-num-examples', type=int, default=1000)\n",
    "parser.add_argument('--test-iter', type=int, default=5)\n",
    "parser.add_argument('--n-agents', type=int, default=2)\n",
    "parser.add_argument('--n-items', type=int, default=3)\n",
    "parser.add_argument('--num-epochs', type=int, default=100)\n",
    "parser.add_argument('--batch-size', type=int, default=128 * 32)\n",
    "parser.add_argument('--test-batch-size', type=int, default=1000)\n",
    "parser.add_argument('--model-lr', type=float, default=1e-3)\n",
    "parser.add_argument('--misreport-lr', type=float, default=1e-1)\n",
    "parser.add_argument('--misreport-iter', type=int, default=25)\n",
    "parser.add_argument('--test-misreport-iter', type=int, default=1000)\n",
    "parser.add_argument('--rho', type=float, default=1)\n",
    "parser.add_argument('--rho-incr-iter', type=int, default=2)\n",
    "parser.add_argument('--rho-incr-amount', type=float, default=1.0)\n",
    "parser.add_argument('--lagr-update-iter', type=int, default=100)\n",
    "parser.add_argument('--rgt-start', type=int, default=0)\n",
    "parser.add_argument('--sinkhorn-epsilon', type=float, default=5e-2)\n",
    "parser.add_argument('--sinkhorn-rounds', type=int, default=10)\n",
    "\n",
    "\n",
    "args = parser.parse_args(args=[])\n",
    "args"
   ]
  },
  {
   "cell_type": "code",
   "execution_count": 4,
   "metadata": {},
   "outputs": [],
   "source": [
    "torch.manual_seed(args.random_seed)\n",
    "np.random.seed(args.random_seed)\n",
    "\n",
    "item_ranges = ds.preset_valuation_range(args.n_agents, args.n_items, \"\")\n",
    "\n",
    "model = DoubleNet(\n",
    "    args.n_agents, args.n_items, item_ranges, args.sinkhorn_epsilon, args.sinkhorn_rounds, marginal_choice='unit'\n",
    ").to(device)\n",
    "\n",
    "train_data = ds.generate_dataset_nxk(args.n_agents, args.n_items, args.num_examples, item_ranges).to(device)\n",
    "train_loader = ds.Dataloader(train_data, batch_size=args.batch_size, shuffle=True)"
   ]
  },
  {
   "cell_type": "code",
   "execution_count": 5,
   "metadata": {
    "scrolled": true
   },
   "outputs": [
    {
     "name": "stderr",
     "output_type": "stream",
     "text": [
      "  1%|          | 1/100 [03:10<5:13:34, 190.05s/it]"
     ]
    },
    {
     "name": "stdout",
     "output_type": "stream",
     "text": [
      "{'regret_max': 0.4473593831062317, 'regret_mean': 0.05779673531651497, 'regret_mults': tensor([[3.9939, 3.8471]], device='cuda:0'), 'payment': 0.9835703372955322}\n"
     ]
    },
    {
     "name": "stderr",
     "output_type": "stream",
     "text": [
      "\r",
      "  2%|▏         | 2/100 [06:35<5:17:50, 194.60s/it]"
     ]
    },
    {
     "name": "stdout",
     "output_type": "stream",
     "text": [
      "{'regret_max': 0.20585590600967407, 'regret_mean': 0.018545515835285187, 'regret_mults': tensor([[5.6892, 5.5479]], device='cuda:0'), 'payment': 0.8718996644020081}\n"
     ]
    },
    {
     "name": "stderr",
     "output_type": "stream",
     "text": [
      "\r",
      "  3%|▎         | 3/100 [09:53<5:16:27, 195.75s/it]"
     ]
    },
    {
     "name": "stdout",
     "output_type": "stream",
     "text": [
      "{'regret_max': 0.14979994297027588, 'regret_mean': 0.010260988026857376, 'regret_mults': tensor([[7.3161, 7.2876]], device='cuda:0'), 'payment': 0.8555461764335632}\n"
     ]
    },
    {
     "name": "stderr",
     "output_type": "stream",
     "text": [
      "\r",
      "  4%|▍         | 4/100 [13:17<5:16:59, 198.12s/it]"
     ]
    },
    {
     "name": "stdout",
     "output_type": "stream",
     "text": [
      "{'regret_max': 0.12529891729354858, 'regret_mean': 0.00677118543535471, 'regret_mults': tensor([[10.1470, 10.3439]], device='cuda:0'), 'payment': 0.8779810667037964}\n"
     ]
    },
    {
     "name": "stderr",
     "output_type": "stream",
     "text": [
      "\r",
      "  5%|▌         | 5/100 [16:42<5:17:13, 200.35s/it]"
     ]
    },
    {
     "name": "stdout",
     "output_type": "stream",
     "text": [
      "{'regret_max': 0.06150931119918823, 'regret_mean': 0.0051033999770879745, 'regret_mults': tensor([[11.8778, 11.8807]], device='cuda:0'), 'payment': 0.8926442861557007}\n"
     ]
    },
    {
     "name": "stderr",
     "output_type": "stream",
     "text": [
      "\r",
      "  6%|▌         | 6/100 [20:11<5:17:45, 202.82s/it]"
     ]
    },
    {
     "name": "stdout",
     "output_type": "stream",
     "text": [
      "{'regret_max': 0.0405048131942749, 'regret_mean': 0.0042273313738405704, 'regret_mults': tensor([[13.1268, 13.2871]], device='cuda:0'), 'payment': 0.8980156183242798}\n"
     ]
    },
    {
     "name": "stderr",
     "output_type": "stream",
     "text": [
      "\r",
      "  7%|▋         | 7/100 [23:40<5:17:05, 204.57s/it]"
     ]
    },
    {
     "name": "stdout",
     "output_type": "stream",
     "text": [
      "{'regret_max': 0.03561806678771973, 'regret_mean': 0.0035453313030302525, 'regret_mults': tensor([[14.5969, 15.0057]], device='cuda:0'), 'payment': 0.9012049436569214}\n"
     ]
    },
    {
     "name": "stderr",
     "output_type": "stream",
     "text": [
      "\r",
      "  8%|▊         | 8/100 [27:09<5:15:51, 206.00s/it]"
     ]
    },
    {
     "name": "stdout",
     "output_type": "stream",
     "text": [
      "{'regret_max': 0.038771092891693115, 'regret_mean': 0.003230741247534752, 'regret_mults': tensor([[17.8294, 18.4830]], device='cuda:0'), 'payment': 0.9010574221611023}\n"
     ]
    },
    {
     "name": "stderr",
     "output_type": "stream",
     "text": [
      "\r",
      "  9%|▉         | 9/100 [30:38<5:13:56, 206.99s/it]"
     ]
    },
    {
     "name": "stdout",
     "output_type": "stream",
     "text": [
      "{'regret_max': 0.03330552577972412, 'regret_mean': 0.0027594263665378094, 'regret_mults': tensor([[19.1939, 20.0469]], device='cuda:0'), 'payment': 0.902395486831665}\n"
     ]
    },
    {
     "name": "stderr",
     "output_type": "stream",
     "text": [
      "\r",
      " 10%|█         | 10/100 [34:09<5:11:58, 207.98s/it]"
     ]
    },
    {
     "name": "stdout",
     "output_type": "stream",
     "text": [
      "{'regret_max': 0.030238032341003418, 'regret_mean': 0.002542420756071806, 'regret_mults': tensor([[20.6126, 21.4951]], device='cuda:0'), 'payment': 0.9018529653549194}\n"
     ]
    },
    {
     "name": "stderr",
     "output_type": "stream",
     "text": [
      "\r",
      " 11%|█         | 11/100 [37:39<5:09:29, 208.65s/it]"
     ]
    },
    {
     "name": "stdout",
     "output_type": "stream",
     "text": [
      "{'regret_max': 0.03341585397720337, 'regret_mean': 0.002257187617942691, 'regret_mults': tensor([[23.5483, 24.4609]], device='cuda:0'), 'payment': 0.901883602142334}\n"
     ]
    },
    {
     "name": "stderr",
     "output_type": "stream",
     "text": [
      "\r",
      " 12%|█▏        | 12/100 [41:10<5:07:02, 209.35s/it]"
     ]
    },
    {
     "name": "stdout",
     "output_type": "stream",
     "text": [
      "{'regret_max': 0.029084980487823486, 'regret_mean': 0.0020686741918325424, 'regret_mults': tensor([[25.0283, 25.7076]], device='cuda:0'), 'payment': 0.9005594253540039}\n"
     ]
    },
    {
     "name": "stderr",
     "output_type": "stream",
     "text": [
      "\r",
      " 13%|█▎        | 13/100 [44:43<5:05:25, 210.63s/it]"
     ]
    },
    {
     "name": "stdout",
     "output_type": "stream",
     "text": [
      "{'regret_max': 0.027958452701568604, 'regret_mean': 0.002005860675126314, 'regret_mults': tensor([[26.5046, 27.1463]], device='cuda:0'), 'payment': 0.8990294337272644}\n"
     ]
    },
    {
     "name": "stderr",
     "output_type": "stream",
     "text": [
      "\r",
      " 14%|█▍        | 14/100 [48:18<5:03:33, 211.78s/it]"
     ]
    },
    {
     "name": "stdout",
     "output_type": "stream",
     "text": [
      "{'regret_max': 0.02707916498184204, 'regret_mean': 0.0017693769186735153, 'regret_mults': tensor([[28.0349, 29.2176]], device='cuda:0'), 'payment': 0.898202657699585}\n"
     ]
    },
    {
     "name": "stderr",
     "output_type": "stream",
     "text": [
      "\r",
      " 15%|█▌        | 15/100 [51:52<5:00:53, 212.40s/it]"
     ]
    },
    {
     "name": "stdout",
     "output_type": "stream",
     "text": [
      "{'regret_max': 0.0638611912727356, 'regret_mean': 0.002038672799244523, 'regret_mults': tensor([[30.7310, 31.7900]], device='cuda:0'), 'payment': 0.8941929936408997}\n"
     ]
    },
    {
     "name": "stderr",
     "output_type": "stream",
     "text": [
      "\r",
      " 16%|█▌        | 16/100 [55:24<4:57:17, 212.35s/it]"
     ]
    },
    {
     "name": "stdout",
     "output_type": "stream",
     "text": [
      "{'regret_max': 0.028065383434295654, 'regret_mean': 0.0015407268656417727, 'regret_mults': tensor([[32.0836, 33.2585]], device='cuda:0'), 'payment': 0.8944774270057678}\n"
     ]
    },
    {
     "name": "stderr",
     "output_type": "stream",
     "text": [
      "\r",
      " 17%|█▋        | 17/100 [58:59<4:54:41, 213.03s/it]"
     ]
    },
    {
     "name": "stdout",
     "output_type": "stream",
     "text": [
      "{'regret_max': 0.018434762954711914, 'regret_mean': 0.0013165813870728016, 'regret_mults': tensor([[33.4502, 34.6497]], device='cuda:0'), 'payment': 0.8956903219223022}\n"
     ]
    },
    {
     "name": "stderr",
     "output_type": "stream",
     "text": [
      "\r",
      " 18%|█▊        | 18/100 [1:02:33<4:51:32, 213.32s/it]"
     ]
    },
    {
     "name": "stdout",
     "output_type": "stream",
     "text": [
      "{'regret_max': 0.024061203002929688, 'regret_mean': 0.0014945932198315859, 'regret_mults': tensor([[36.1301, 37.7553]], device='cuda:0'), 'payment': 0.8919500112533569}\n"
     ]
    },
    {
     "name": "stderr",
     "output_type": "stream",
     "text": [
      "\r",
      " 19%|█▉        | 19/100 [1:06:09<4:49:17, 214.29s/it]"
     ]
    },
    {
     "name": "stdout",
     "output_type": "stream",
     "text": [
      "{'regret_max': 0.01847076416015625, 'regret_mean': 0.0011592893861234188, 'regret_mults': tensor([[37.5591, 39.0516]], device='cuda:0'), 'payment': 0.8933329582214355}\n"
     ]
    },
    {
     "name": "stderr",
     "output_type": "stream",
     "text": [
      "\r",
      " 20%|██        | 20/100 [1:09:48<4:47:28, 215.61s/it]"
     ]
    },
    {
     "name": "stdout",
     "output_type": "stream",
     "text": [
      "{'regret_max': 0.022982090711593628, 'regret_mean': 0.0011722147464752197, 'regret_mults': tensor([[39.0789, 40.3115]], device='cuda:0'), 'payment': 0.8915904760360718}\n"
     ]
    },
    {
     "name": "stderr",
     "output_type": "stream",
     "text": [
      "\r",
      " 21%|██        | 21/100 [1:13:27<4:45:28, 216.81s/it]"
     ]
    },
    {
     "name": "stdout",
     "output_type": "stream",
     "text": [
      "{'regret_max': 0.027851879596710205, 'regret_mean': 0.001273137517273426, 'regret_mults': tensor([[41.3474, 42.6385]], device='cuda:0'), 'payment': 0.8883745670318604}\n"
     ]
    },
    {
     "name": "stderr",
     "output_type": "stream",
     "text": [
      "\r",
      " 22%|██▏       | 22/100 [1:17:10<4:44:16, 218.67s/it]"
     ]
    },
    {
     "name": "stdout",
     "output_type": "stream",
     "text": [
      "{'regret_max': 0.019440889358520508, 'regret_mean': 0.0010667024180293083, 'regret_mults': tensor([[44.0796, 45.1324]], device='cuda:0'), 'payment': 0.888311505317688}\n"
     ]
    },
    {
     "name": "stderr",
     "output_type": "stream",
     "text": [
      "\r",
      " 23%|██▎       | 23/100 [1:20:53<4:42:12, 219.90s/it]"
     ]
    },
    {
     "name": "stdout",
     "output_type": "stream",
     "text": [
      "{'regret_max': 0.018293797969818115, 'regret_mean': 0.0008836561464704573, 'regret_mults': tensor([[45.2731, 46.2546]], device='cuda:0'), 'payment': 0.8892242908477783}\n"
     ]
    },
    {
     "name": "stderr",
     "output_type": "stream",
     "text": [
      "\r",
      " 24%|██▍       | 24/100 [1:24:36<4:39:44, 220.85s/it]"
     ]
    },
    {
     "name": "stdout",
     "output_type": "stream",
     "text": [
      "{'regret_max': 0.0362587571144104, 'regret_mean': 0.0012685705441981554, 'regret_mults': tensor([[46.4263, 47.5609]], device='cuda:0'), 'payment': 0.8835131525993347}\n"
     ]
    },
    {
     "name": "stderr",
     "output_type": "stream",
     "text": [
      "\r",
      " 25%|██▌       | 25/100 [1:28:21<4:37:25, 221.94s/it]"
     ]
    },
    {
     "name": "stdout",
     "output_type": "stream",
     "text": [
      "{'regret_max': 0.01459038257598877, 'regret_mean': 0.0007467520190402865, 'regret_mults': tensor([[48.9296, 49.8496]], device='cuda:0'), 'payment': 0.8889088034629822}\n"
     ]
    },
    {
     "name": "stderr",
     "output_type": "stream",
     "text": [
      "\r",
      " 26%|██▌       | 26/100 [1:32:06<4:35:08, 223.08s/it]"
     ]
    },
    {
     "name": "stdout",
     "output_type": "stream",
     "text": [
      "{'regret_max': 0.014124393463134766, 'regret_mean': 0.0007495867321267724, 'regret_mults': tensor([[50.3266, 51.0189]], device='cuda:0'), 'payment': 0.8882158398628235}\n"
     ]
    },
    {
     "name": "stderr",
     "output_type": "stream",
     "text": [
      "\r",
      " 27%|██▋       | 27/100 [1:35:53<4:32:49, 224.24s/it]"
     ]
    },
    {
     "name": "stdout",
     "output_type": "stream",
     "text": [
      "{'regret_max': 0.024161845445632935, 'regret_mean': 0.0009020925499498844, 'regret_mults': tensor([[51.4688, 52.1825]], device='cuda:0'), 'payment': 0.8849911689758301}\n"
     ]
    },
    {
     "name": "stderr",
     "output_type": "stream",
     "text": [
      "\r",
      " 28%|██▊       | 28/100 [1:39:42<4:30:30, 225.42s/it]"
     ]
    },
    {
     "name": "stdout",
     "output_type": "stream",
     "text": [
      "{'regret_max': 0.02257847785949707, 'regret_mean': 0.0007406590157188475, 'regret_mults': tensor([[52.5799, 53.1000]], device='cuda:0'), 'payment': 0.8866444826126099}\n"
     ]
    },
    {
     "name": "stderr",
     "output_type": "stream",
     "text": [
      "\r",
      " 29%|██▉       | 29/100 [1:43:31<4:28:00, 226.49s/it]"
     ]
    },
    {
     "name": "stdout",
     "output_type": "stream",
     "text": [
      "{'regret_max': 0.05614668130874634, 'regret_mean': 0.0012074047699570656, 'regret_mults': tensor([[64.4658, 62.8078]], device='cuda:0'), 'payment': 0.880556583404541}\n"
     ]
    },
    {
     "name": "stderr",
     "output_type": "stream",
     "text": [
      "\r",
      " 30%|███       | 30/100 [1:47:17<4:24:05, 226.36s/it]"
     ]
    },
    {
     "name": "stdout",
     "output_type": "stream",
     "text": [
      "{'regret_max': 0.0169638991355896, 'regret_mean': 0.0006198770133778453, 'regret_mults': tensor([[65.4218, 63.8254]], device='cuda:0'), 'payment': 0.882277250289917}\n"
     ]
    },
    {
     "name": "stderr",
     "output_type": "stream",
     "text": [
      "\r",
      " 31%|███       | 31/100 [1:51:05<4:20:50, 226.82s/it]"
     ]
    },
    {
     "name": "stdout",
     "output_type": "stream",
     "text": [
      "{'regret_max': 0.010215729475021362, 'regret_mean': 0.00048066547606140375, 'regret_mults': tensor([[66.3259, 64.7289]], device='cuda:0'), 'payment': 0.884037971496582}\n"
     ]
    },
    {
     "name": "stderr",
     "output_type": "stream",
     "text": [
      "\r",
      " 32%|███▏      | 32/100 [1:54:52<4:17:21, 227.08s/it]"
     ]
    },
    {
     "name": "stdout",
     "output_type": "stream",
     "text": [
      "{'regret_max': 0.018225014209747314, 'regret_mean': 0.000695830793119967, 'regret_mults': tensor([[67.4525, 66.2078]], device='cuda:0'), 'payment': 0.8804720640182495}\n"
     ]
    },
    {
     "name": "stderr",
     "output_type": "stream",
     "text": [
      "\r",
      " 33%|███▎      | 33/100 [1:58:42<4:14:22, 227.80s/it]"
     ]
    },
    {
     "name": "stdout",
     "output_type": "stream",
     "text": [
      "{'regret_max': 0.008810371160507202, 'regret_mean': 0.0004339678562246263, 'regret_mults': tensor([[69.4267, 67.9022]], device='cuda:0'), 'payment': 0.8838223218917847}\n"
     ]
    },
    {
     "name": "stderr",
     "output_type": "stream",
     "text": [
      "\r",
      " 34%|███▍      | 34/100 [2:02:32<4:11:30, 228.64s/it]"
     ]
    },
    {
     "name": "stdout",
     "output_type": "stream",
     "text": [
      "{'regret_max': 0.05012249946594238, 'regret_mean': 0.0008820023504085839, 'regret_mults': tensor([[70.3249, 68.6855]], device='cuda:0'), 'payment': 0.8777210116386414}\n"
     ]
    },
    {
     "name": "stderr",
     "output_type": "stream",
     "text": [
      "\r",
      " 35%|███▌      | 35/100 [2:06:21<4:07:46, 228.72s/it]"
     ]
    },
    {
     "name": "stdout",
     "output_type": "stream",
     "text": [
      "{'regret_max': 0.011314809322357178, 'regret_mean': 0.0004585158312693238, 'regret_mults': tensor([[71.2432, 69.5435]], device='cuda:0'), 'payment': 0.8823011517524719}\n"
     ]
    },
    {
     "name": "stderr",
     "output_type": "stream",
     "text": [
      "\r",
      " 36%|███▌      | 36/100 [2:10:18<4:06:24, 231.01s/it]"
     ]
    },
    {
     "name": "stdout",
     "output_type": "stream",
     "text": [
      "{'regret_max': 0.008205413818359375, 'regret_mean': 0.00039830393507145345, 'regret_mults': tensor([[72.9129, 71.2616]], device='cuda:0'), 'payment': 0.8839342594146729}\n"
     ]
    },
    {
     "name": "stderr",
     "output_type": "stream",
     "text": [
      "\r",
      " 37%|███▋      | 37/100 [2:14:09<4:02:36, 231.06s/it]"
     ]
    },
    {
     "name": "stdout",
     "output_type": "stream",
     "text": [
      "{'regret_max': 0.01835256814956665, 'regret_mean': 0.0006206510006450117, 'regret_mults': tensor([[74.0292, 74.1558]], device='cuda:0'), 'payment': 0.8807745575904846}\n"
     ]
    },
    {
     "name": "stderr",
     "output_type": "stream",
     "text": [
      "\r",
      " 38%|███▊      | 38/100 [2:18:00<3:58:47, 231.10s/it]"
     ]
    },
    {
     "name": "stdout",
     "output_type": "stream",
     "text": [
      "{'regret_max': 0.00703507661819458, 'regret_mean': 0.00035577244125306606, 'regret_mults': tensor([[74.8418, 75.0392]], device='cuda:0'), 'payment': 0.8840597867965698}\n"
     ]
    },
    {
     "name": "stderr",
     "output_type": "stream",
     "text": [
      "\r",
      " 39%|███▉      | 39/100 [2:21:51<3:54:56, 231.09s/it]"
     ]
    },
    {
     "name": "stdout",
     "output_type": "stream",
     "text": [
      "{'regret_max': 0.029690444469451904, 'regret_mean': 0.0006843050359748304, 'regret_mults': tensor([[75.7910, 75.8390]], device='cuda:0'), 'payment': 0.8797588348388672}\n"
     ]
    },
    {
     "name": "stderr",
     "output_type": "stream",
     "text": [
      "\r",
      " 40%|████      | 40/100 [2:25:43<3:51:15, 231.26s/it]"
     ]
    },
    {
     "name": "stdout",
     "output_type": "stream",
     "text": [
      "{'regret_max': 0.006502360105514526, 'regret_mean': 0.00033394512138329446, 'regret_mults': tensor([[77.5720, 77.5749]], device='cuda:0'), 'payment': 0.8842472434043884}\n"
     ]
    },
    {
     "name": "stderr",
     "output_type": "stream",
     "text": [
      "\r",
      " 41%|████      | 41/100 [2:29:35<3:47:43, 231.59s/it]"
     ]
    },
    {
     "name": "stdout",
     "output_type": "stream",
     "text": [
      "{'regret_max': 0.00760883092880249, 'regret_mean': 0.0003438513958826661, 'regret_mults': tensor([[78.4620, 78.3796]], device='cuda:0'), 'payment': 0.8846217393875122}\n"
     ]
    },
    {
     "name": "stderr",
     "output_type": "stream",
     "text": [
      "\r",
      " 42%|████▏     | 42/100 [2:33:28<3:44:14, 231.98s/it]"
     ]
    },
    {
     "name": "stdout",
     "output_type": "stream",
     "text": [
      "{'regret_max': 0.007120072841644287, 'regret_mean': 0.00034845754271373153, 'regret_mults': tensor([[79.4117, 79.2651]], device='cuda:0'), 'payment': 0.8847686052322388}\n"
     ]
    },
    {
     "name": "stderr",
     "output_type": "stream",
     "text": [
      "\r",
      " 43%|████▎     | 43/100 [2:37:19<3:40:07, 231.72s/it]"
     ]
    },
    {
     "name": "stdout",
     "output_type": "stream",
     "text": [
      "{'regret_max': 0.024055302143096924, 'regret_mean': 0.0007035789312794805, 'regret_mults': tensor([[89.8774, 82.5096]], device='cuda:0'), 'payment': 0.8775964975357056}\n"
     ]
    },
    {
     "name": "stderr",
     "output_type": "stream",
     "text": [
      "\r",
      " 44%|████▍     | 44/100 [2:41:06<3:34:52, 230.22s/it]"
     ]
    },
    {
     "name": "stdout",
     "output_type": "stream",
     "text": [
      "{'regret_max': 0.006822526454925537, 'regret_mean': 0.00028269007452763617, 'regret_mults': tensor([[90.6015, 83.2424]], device='cuda:0'), 'payment': 0.8837622404098511}\n"
     ]
    },
    {
     "name": "stderr",
     "output_type": "stream",
     "text": [
      "\r",
      " 45%|████▌     | 45/100 [2:44:53<3:30:19, 229.44s/it]"
     ]
    },
    {
     "name": "stdout",
     "output_type": "stream",
     "text": [
      "{'regret_max': 0.015211105346679688, 'regret_mean': 0.00044432305730879307, 'regret_mults': tensor([[92.1268, 86.0373]], device='cuda:0'), 'payment': 0.881023645401001}\n"
     ]
    },
    {
     "name": "stderr",
     "output_type": "stream",
     "text": [
      "\r",
      " 46%|████▌     | 46/100 [2:48:43<3:26:37, 229.58s/it]"
     ]
    },
    {
     "name": "stdout",
     "output_type": "stream",
     "text": [
      "{'regret_max': 0.006528317928314209, 'regret_mean': 0.0002673500857781619, 'regret_mults': tensor([[92.8710, 86.9025]], device='cuda:0'), 'payment': 0.8841315507888794}\n"
     ]
    },
    {
     "name": "stderr",
     "output_type": "stream",
     "text": [
      "\r",
      " 47%|████▋     | 47/100 [2:52:33<3:22:44, 229.52s/it]"
     ]
    },
    {
     "name": "stdout",
     "output_type": "stream",
     "text": [
      "{'regret_max': 0.0225716233253479, 'regret_mean': 0.0005001822719350457, 'regret_mults': tensor([[95.4820, 90.2009]], device='cuda:0'), 'payment': 0.8803337216377258}\n"
     ]
    },
    {
     "name": "stderr",
     "output_type": "stream",
     "text": [
      "\r",
      " 48%|████▊     | 48/100 [2:56:22<3:18:49, 229.42s/it]"
     ]
    },
    {
     "name": "stdout",
     "output_type": "stream",
     "text": [
      "{'regret_max': 0.00702977180480957, 'regret_mean': 0.0002641999744810164, 'regret_mults': tensor([[96.3343, 91.0587]], device='cuda:0'), 'payment': 0.8834754228591919}\n"
     ]
    },
    {
     "name": "stderr",
     "output_type": "stream",
     "text": [
      "\r",
      " 49%|████▉     | 49/100 [3:00:12<3:15:08, 229.58s/it]"
     ]
    },
    {
     "name": "stdout",
     "output_type": "stream",
     "text": [
      "{'regret_max': 0.013502180576324463, 'regret_mean': 0.00033305754186585546, 'regret_mults': tensor([[97.0854, 92.0313]], device='cuda:0'), 'payment': 0.88294517993927}\n"
     ]
    },
    {
     "name": "stderr",
     "output_type": "stream",
     "text": [
      "\r",
      " 50%|█████     | 50/100 [3:04:02<3:11:22, 229.65s/it]"
     ]
    },
    {
     "name": "stdout",
     "output_type": "stream",
     "text": [
      "{'regret_max': 0.006488204002380371, 'regret_mean': 0.00024864249280653894, 'regret_mults': tensor([[98.5360, 93.4746]], device='cuda:0'), 'payment': 0.884427547454834}\n"
     ]
    },
    {
     "name": "stderr",
     "output_type": "stream",
     "text": [
      "\r",
      " 51%|█████     | 51/100 [3:07:54<3:08:12, 230.46s/it]"
     ]
    },
    {
     "name": "stdout",
     "output_type": "stream",
     "text": [
      "{'regret_max': 0.038461387157440186, 'regret_mean': 0.0007354093249887228, 'regret_mults': tensor([[102.8995,  97.5348]], device='cuda:0'), 'payment': 0.8761915564537048}\n"
     ]
    },
    {
     "name": "stderr",
     "output_type": "stream",
     "text": [
      "\r",
      " 52%|█████▏    | 52/100 [3:11:44<3:04:22, 230.47s/it]"
     ]
    },
    {
     "name": "stdout",
     "output_type": "stream",
     "text": [
      "{'regret_max': 0.0055002570152282715, 'regret_mean': 0.00023151325876824558, 'regret_mults': tensor([[103.5600,  98.1833]], device='cuda:0'), 'payment': 0.8830291032791138}\n"
     ]
    },
    {
     "name": "stderr",
     "output_type": "stream",
     "text": [
      "\r",
      " 53%|█████▎    | 53/100 [3:15:34<3:00:24, 230.31s/it]"
     ]
    },
    {
     "name": "stdout",
     "output_type": "stream",
     "text": [
      "{'regret_max': 0.005570352077484131, 'regret_mean': 0.00022420965251512825, 'regret_mults': tensor([[104.2526,  98.8878]], device='cuda:0'), 'payment': 0.8844937086105347}\n"
     ]
    },
    {
     "name": "stderr",
     "output_type": "stream",
     "text": [
      "\r",
      " 54%|█████▍    | 54/100 [3:19:26<2:56:49, 230.64s/it]"
     ]
    },
    {
     "name": "stdout",
     "output_type": "stream",
     "text": [
      "{'regret_max': 0.006870269775390625, 'regret_mean': 0.00023093842901289463, 'regret_mults': tensor([[105.7715, 100.3123]], device='cuda:0'), 'payment': 0.8846659660339355}\n"
     ]
    },
    {
     "name": "stderr",
     "output_type": "stream",
     "text": [
      "\r",
      " 55%|█████▌    | 55/100 [3:23:15<2:52:39, 230.20s/it]"
     ]
    },
    {
     "name": "stdout",
     "output_type": "stream",
     "text": [
      "{'regret_max': 0.015839815139770508, 'regret_mean': 0.00034092634450644255, 'regret_mults': tensor([[106.5132, 101.1588]], device='cuda:0'), 'payment': 0.8819820880889893}\n"
     ]
    },
    {
     "name": "stderr",
     "output_type": "stream",
     "text": [
      "\r",
      " 56%|█████▌    | 56/100 [3:27:05<2:48:50, 230.24s/it]"
     ]
    },
    {
     "name": "stdout",
     "output_type": "stream",
     "text": [
      "{'regret_max': 0.02082580327987671, 'regret_mean': 0.0004480542556848377, 'regret_mults': tensor([[107.3562, 102.3018]], device='cuda:0'), 'payment': 0.8801157474517822}\n"
     ]
    },
    {
     "name": "stderr",
     "output_type": "stream",
     "text": [
      "\r",
      " 57%|█████▋    | 57/100 [3:30:57<2:45:13, 230.55s/it]"
     ]
    },
    {
     "name": "stdout",
     "output_type": "stream",
     "text": [
      "{'regret_max': 0.006570339202880859, 'regret_mean': 0.00020658849098253995, 'regret_mults': tensor([[108.1577, 102.9671]], device='cuda:0'), 'payment': 0.8842247724533081}\n"
     ]
    },
    {
     "name": "stderr",
     "output_type": "stream",
     "text": [
      "\r",
      " 58%|█████▊    | 58/100 [3:34:49<2:41:44, 231.05s/it]"
     ]
    },
    {
     "name": "stdout",
     "output_type": "stream",
     "text": [
      "{'regret_max': 0.015074849128723145, 'regret_mean': 0.00029749219538643956, 'regret_mults': tensor([[109.5231, 104.6367]], device='cuda:0'), 'payment': 0.8836886882781982}\n"
     ]
    },
    {
     "name": "stderr",
     "output_type": "stream",
     "text": [
      "\r",
      " 59%|█████▉    | 59/100 [3:38:37<2:37:22, 230.30s/it]"
     ]
    },
    {
     "name": "stdout",
     "output_type": "stream",
     "text": [
      "{'regret_max': 0.013027787208557129, 'regret_mean': 0.00027499551651999354, 'regret_mults': tensor([[110.2064, 105.2808]], device='cuda:0'), 'payment': 0.88289874792099}\n"
     ]
    },
    {
     "name": "stderr",
     "output_type": "stream",
     "text": [
      "\r",
      " 60%|██████    | 60/100 [3:42:29<2:33:45, 230.65s/it]"
     ]
    },
    {
     "name": "stdout",
     "output_type": "stream",
     "text": [
      "{'regret_max': 0.0059149861335754395, 'regret_mean': 0.00020001691882498562, 'regret_mults': tensor([[110.8742, 106.0345]], device='cuda:0'), 'payment': 0.8858934640884399}\n"
     ]
    },
    {
     "name": "stderr",
     "output_type": "stream",
     "text": [
      "\r",
      " 61%|██████    | 61/100 [3:46:22<2:30:22, 231.34s/it]"
     ]
    },
    {
     "name": "stdout",
     "output_type": "stream",
     "text": [
      "{'regret_max': 0.010640561580657959, 'regret_mean': 0.00023171072825789452, 'regret_mults': tensor([[113.3956, 108.7466]], device='cuda:0'), 'payment': 0.8851687908172607}\n"
     ]
    },
    {
     "name": "stderr",
     "output_type": "stream",
     "text": [
      "\r",
      " 62%|██████▏   | 62/100 [3:50:11<2:26:10, 230.81s/it]"
     ]
    },
    {
     "name": "stdout",
     "output_type": "stream",
     "text": [
      "{'regret_max': 0.0354689359664917, 'regret_mean': 0.0005578754935413599, 'regret_mults': tensor([[114.0967, 109.4991]], device='cuda:0'), 'payment': 0.8777757883071899}\n"
     ]
    },
    {
     "name": "stderr",
     "output_type": "stream",
     "text": [
      "\r",
      " 63%|██████▎   | 63/100 [3:54:04<2:22:42, 231.41s/it]"
     ]
    },
    {
     "name": "stdout",
     "output_type": "stream",
     "text": [
      "{'regret_max': 0.0060836076736450195, 'regret_mean': 0.00018048990750685334, 'regret_mults': tensor([[114.7934, 110.1196]], device='cuda:0'), 'payment': 0.8862251043319702}\n"
     ]
    },
    {
     "name": "stderr",
     "output_type": "stream",
     "text": [
      "\r",
      " 64%|██████▍   | 64/100 [3:57:57<2:19:08, 231.90s/it]"
     ]
    },
    {
     "name": "stdout",
     "output_type": "stream",
     "text": [
      "{'regret_max': 0.006935834884643555, 'regret_mean': 0.00020772188145201653, 'regret_mults': tensor([[115.4771, 111.1139]], device='cuda:0'), 'payment': 0.8858831524848938}\n"
     ]
    },
    {
     "name": "stderr",
     "output_type": "stream",
     "text": [
      "\r",
      " 65%|██████▌   | 65/100 [4:01:49<2:15:19, 232.00s/it]"
     ]
    },
    {
     "name": "stdout",
     "output_type": "stream",
     "text": [
      "{'regret_max': 0.015411913394927979, 'regret_mean': 0.00027828593738377094, 'regret_mults': tensor([[116.9450, 112.6949]], device='cuda:0'), 'payment': 0.8838649392127991}\n"
     ]
    },
    {
     "name": "stderr",
     "output_type": "stream",
     "text": [
      "\r",
      " 66%|██████▌   | 66/100 [4:05:43<2:11:45, 232.50s/it]"
     ]
    },
    {
     "name": "stdout",
     "output_type": "stream",
     "text": [
      "{'regret_max': 0.006144523620605469, 'regret_mean': 0.00017950944311451167, 'regret_mults': tensor([[117.8244, 113.4149]], device='cuda:0'), 'payment': 0.8868988752365112}\n"
     ]
    },
    {
     "name": "stderr",
     "output_type": "stream",
     "text": [
      "\r",
      " 67%|██████▋   | 67/100 [4:09:33<2:07:27, 231.75s/it]"
     ]
    },
    {
     "name": "stdout",
     "output_type": "stream",
     "text": [
      "{'regret_max': 0.02391117811203003, 'regret_mean': 0.00046382041182368994, 'regret_mults': tensor([[125.1265, 116.0553]], device='cuda:0'), 'payment': 0.8798662424087524}\n"
     ]
    },
    {
     "name": "stderr",
     "output_type": "stream",
     "text": [
      "\r",
      " 68%|██████▊   | 68/100 [4:13:27<2:03:54, 232.31s/it]"
     ]
    },
    {
     "name": "stdout",
     "output_type": "stream",
     "text": [
      "{'regret_max': 0.005226314067840576, 'regret_mean': 0.00016295176465064287, 'regret_mults': tensor([[126.4802, 117.3587]], device='cuda:0'), 'payment': 0.8864577412605286}\n"
     ]
    },
    {
     "name": "stderr",
     "output_type": "stream",
     "text": [
      "\r",
      " 69%|██████▉   | 69/100 [4:17:18<1:59:54, 232.07s/it]"
     ]
    },
    {
     "name": "stdout",
     "output_type": "stream",
     "text": [
      "{'regret_max': 0.01708883047103882, 'regret_mean': 0.0003752870252355933, 'regret_mults': tensor([[128.3688, 118.9435]], device='cuda:0'), 'payment': 0.8808796405792236}\n"
     ]
    },
    {
     "name": "stderr",
     "output_type": "stream",
     "text": [
      "\r",
      " 70%|███████   | 70/100 [4:21:13<1:56:26, 232.88s/it]"
     ]
    },
    {
     "name": "stdout",
     "output_type": "stream",
     "text": [
      "{'regret_max': 0.005558490753173828, 'regret_mean': 0.00015574213466607034, 'regret_mults': tensor([[128.9949, 119.6494]], device='cuda:0'), 'payment': 0.8861029148101807}\n"
     ]
    },
    {
     "name": "stderr",
     "output_type": "stream",
     "text": [
      "\r",
      " 71%|███████   | 71/100 [4:25:09<1:52:57, 233.69s/it]"
     ]
    },
    {
     "name": "stdout",
     "output_type": "stream",
     "text": [
      "{'regret_max': 0.009009182453155518, 'regret_mean': 0.00020761189807672054, 'regret_mults': tensor([[129.6796, 120.4033]], device='cuda:0'), 'payment': 0.8853365778923035}\n"
     ]
    },
    {
     "name": "stderr",
     "output_type": "stream",
     "text": [
      "\r",
      " 72%|███████▏  | 72/100 [4:29:08<1:49:50, 235.38s/it]"
     ]
    },
    {
     "name": "stdout",
     "output_type": "stream",
     "text": [
      "{'regret_max': 0.005270421504974365, 'regret_mean': 0.0001589335734024644, 'regret_mults': tensor([[131.1664, 122.1636]], device='cuda:0'), 'payment': 0.886853039264679}\n"
     ]
    },
    {
     "name": "stderr",
     "output_type": "stream",
     "text": [
      "\r",
      " 73%|███████▎  | 73/100 [4:33:02<1:45:41, 234.88s/it]"
     ]
    },
    {
     "name": "stdout",
     "output_type": "stream",
     "text": [
      "{'regret_max': 0.01223844289779663, 'regret_mean': 0.0002655683783814311, 'regret_mults': tensor([[132.0277, 123.1214]], device='cuda:0'), 'payment': 0.8830075263977051}\n"
     ]
    },
    {
     "name": "stderr",
     "output_type": "stream",
     "text": [
      "\r",
      " 74%|███████▍  | 74/100 [4:36:59<1:42:07, 235.68s/it]"
     ]
    },
    {
     "name": "stdout",
     "output_type": "stream",
     "text": [
      "{'regret_max': 0.007260143756866455, 'regret_mean': 0.00017976431990973651, 'regret_mults': tensor([[133.0927, 124.1855]], device='cuda:0'), 'payment': 0.8857314586639404}\n"
     ]
    },
    {
     "name": "stderr",
     "output_type": "stream",
     "text": [
      "\r",
      " 75%|███████▌  | 75/100 [4:40:52<1:37:52, 234.89s/it]"
     ]
    },
    {
     "name": "stdout",
     "output_type": "stream",
     "text": [
      "{'regret_max': 0.018837809562683105, 'regret_mean': 0.00035552948247641325, 'regret_mults': tensor([[140.0961, 128.2830]], device='cuda:0'), 'payment': 0.880635142326355}\n"
     ]
    },
    {
     "name": "stderr",
     "output_type": "stream",
     "text": [
      "\r",
      " 76%|███████▌  | 76/100 [4:44:50<1:34:17, 235.73s/it]"
     ]
    },
    {
     "name": "stdout",
     "output_type": "stream",
     "text": [
      "{'regret_max': 0.005376994609832764, 'regret_mean': 0.00014066416770219803, 'regret_mults': tensor([[140.7602, 128.9110]], device='cuda:0'), 'payment': 0.8868667483329773}\n"
     ]
    },
    {
     "name": "stderr",
     "output_type": "stream",
     "text": [
      "\r",
      " 77%|███████▋  | 77/100 [4:48:48<1:30:36, 236.36s/it]"
     ]
    },
    {
     "name": "stdout",
     "output_type": "stream",
     "text": [
      "{'regret_max': 0.016919255256652832, 'regret_mean': 0.000326079607475549, 'regret_mults': tensor([[141.2831, 129.6072]], device='cuda:0'), 'payment': 0.8834711313247681}\n"
     ]
    },
    {
     "name": "stderr",
     "output_type": "stream",
     "text": [
      "\r",
      " 78%|███████▊  | 78/100 [4:52:40<1:26:13, 235.16s/it]"
     ]
    },
    {
     "name": "stdout",
     "output_type": "stream",
     "text": [
      "{'regret_max': 0.01523163914680481, 'regret_mean': 0.00024304090766236186, 'regret_mults': tensor([[141.9733, 130.3294]], device='cuda:0'), 'payment': 0.8814486265182495}\n"
     ]
    },
    {
     "name": "stderr",
     "output_type": "stream",
     "text": [
      "\r",
      " 79%|███████▉  | 79/100 [4:56:39<1:22:45, 236.44s/it]"
     ]
    },
    {
     "name": "stdout",
     "output_type": "stream",
     "text": [
      "{'regret_max': 0.005609571933746338, 'regret_mean': 0.00014965390437282622, 'regret_mults': tensor([[143.2375, 131.6178]], device='cuda:0'), 'payment': 0.8865353465080261}\n"
     ]
    },
    {
     "name": "stderr",
     "output_type": "stream",
     "text": [
      "\r",
      " 80%|████████  | 80/100 [5:00:38<1:19:01, 237.08s/it]"
     ]
    },
    {
     "name": "stdout",
     "output_type": "stream",
     "text": [
      "{'regret_max': 0.008702993392944336, 'regret_mean': 0.00019220128888264298, 'regret_mults': tensor([[143.9690, 132.4412]], device='cuda:0'), 'payment': 0.885478138923645}\n"
     ]
    },
    {
     "name": "stderr",
     "output_type": "stream",
     "text": [
      "\r",
      " 81%|████████  | 81/100 [5:04:36<1:15:09, 237.35s/it]"
     ]
    },
    {
     "name": "stdout",
     "output_type": "stream",
     "text": [
      "{'regret_max': 0.008958756923675537, 'regret_mean': 0.00015434928354807198, 'regret_mults': tensor([[145.1039, 133.7166]], device='cuda:0'), 'payment': 0.8862053751945496}\n"
     ]
    },
    {
     "name": "stderr",
     "output_type": "stream",
     "text": [
      "\r",
      " 82%|████████▏ | 82/100 [5:08:30<1:10:56, 236.49s/it]"
     ]
    },
    {
     "name": "stdout",
     "output_type": "stream",
     "text": [
      "{'regret_max': 0.020115375518798828, 'regret_mean': 0.00036248599644750357, 'regret_mults': tensor([[147.1611, 135.2286]], device='cuda:0'), 'payment': 0.8796230554580688}\n"
     ]
    },
    {
     "name": "stderr",
     "output_type": "stream",
     "text": [
      "\r",
      " 83%|████████▎ | 83/100 [5:12:29<1:07:08, 236.98s/it]"
     ]
    },
    {
     "name": "stdout",
     "output_type": "stream",
     "text": [
      "{'regret_max': 0.004962801933288574, 'regret_mean': 0.00012620061170309782, 'regret_mults': tensor([[148.7289, 136.5693]], device='cuda:0'), 'payment': 0.8867558240890503}\n"
     ]
    },
    {
     "name": "stderr",
     "output_type": "stream",
     "text": [
      "\r",
      " 84%|████████▍ | 84/100 [5:16:31<1:03:38, 238.67s/it]"
     ]
    },
    {
     "name": "stdout",
     "output_type": "stream",
     "text": [
      "{'regret_max': 0.0051708221435546875, 'regret_mean': 0.00013702425349038094, 'regret_mults': tensor([[149.4733, 137.3348]], device='cuda:0'), 'payment': 0.887265682220459}\n"
     ]
    },
    {
     "name": "stderr",
     "output_type": "stream",
     "text": [
      "\r",
      " 85%|████████▌ | 85/100 [5:20:27<59:27, 237.81s/it]  "
     ]
    },
    {
     "name": "stdout",
     "output_type": "stream",
     "text": [
      "{'regret_max': 0.02222830057144165, 'regret_mean': 0.00037959989276714623, 'regret_mults': tensor([[158.5989, 140.7046]], device='cuda:0'), 'payment': 0.8793283104896545}\n"
     ]
    },
    {
     "name": "stderr",
     "output_type": "stream",
     "text": [
      "\r",
      " 86%|████████▌ | 86/100 [5:24:29<55:48, 239.21s/it]"
     ]
    },
    {
     "name": "stdout",
     "output_type": "stream",
     "text": [
      "{'regret_max': 0.004936635494232178, 'regret_mean': 0.00011938986426685005, 'regret_mults': tensor([[160.1642, 142.0424]], device='cuda:0'), 'payment': 0.8870866894721985}\n"
     ]
    },
    {
     "name": "stderr",
     "output_type": "stream",
     "text": [
      "\r",
      " 87%|████████▋ | 87/100 [5:28:32<52:04, 240.34s/it]"
     ]
    },
    {
     "name": "stdout",
     "output_type": "stream",
     "text": [
      "{'regret_max': 0.005011439323425293, 'regret_mean': 0.0001329772494500503, 'regret_mults': tensor([[160.9013, 142.7718]], device='cuda:0'), 'payment': 0.8869670629501343}\n"
     ]
    },
    {
     "name": "stderr",
     "output_type": "stream",
     "text": [
      "\r",
      " 88%|████████▊ | 88/100 [5:32:35<48:13, 241.10s/it]"
     ]
    },
    {
     "name": "stdout",
     "output_type": "stream",
     "text": [
      "{'regret_max': 0.005381107330322266, 'regret_mean': 0.00014516449300572276, 'regret_mults': tensor([[161.9533, 143.5611]], device='cuda:0'), 'payment': 0.8863227963447571}\n"
     ]
    },
    {
     "name": "stderr",
     "output_type": "stream",
     "text": [
      "\r",
      " 89%|████████▉ | 89/100 [5:36:30<43:49, 239.06s/it]"
     ]
    },
    {
     "name": "stdout",
     "output_type": "stream",
     "text": [
      "{'regret_max': 0.035941362380981445, 'regret_mean': 0.0005210564704611897, 'regret_mults': tensor([[179.4345, 151.5696]], device='cuda:0'), 'payment': 0.8714728355407715}\n"
     ]
    },
    {
     "name": "stderr",
     "output_type": "stream",
     "text": [
      "\r",
      " 90%|█████████ | 90/100 [5:40:29<39:51, 239.19s/it]"
     ]
    },
    {
     "name": "stdout",
     "output_type": "stream",
     "text": [
      "{'regret_max': 0.005219399929046631, 'regret_mean': 0.0001057161862263456, 'regret_mults': tensor([[180.4831, 152.9246]], device='cuda:0'), 'payment': 0.8857151865959167}\n"
     ]
    },
    {
     "name": "stderr",
     "output_type": "stream",
     "text": [
      "\r",
      " 91%|█████████ | 91/100 [5:44:34<36:07, 240.81s/it]"
     ]
    },
    {
     "name": "stdout",
     "output_type": "stream",
     "text": [
      "{'regret_max': 0.005214214324951172, 'regret_mean': 0.00010919727355940267, 'regret_mults': tensor([[181.2941, 153.6140]], device='cuda:0'), 'payment': 0.8865171670913696}\n"
     ]
    },
    {
     "name": "stderr",
     "output_type": "stream",
     "text": [
      "\r",
      " 92%|█████████▏| 92/100 [5:48:27<31:49, 238.64s/it]"
     ]
    },
    {
     "name": "stdout",
     "output_type": "stream",
     "text": [
      "{'regret_max': 0.024688541889190674, 'regret_mean': 0.0004175616195425391, 'regret_mults': tensor([[182.3049, 154.7917]], device='cuda:0'), 'payment': 0.8743681907653809}\n"
     ]
    },
    {
     "name": "stderr",
     "output_type": "stream",
     "text": [
      "\r",
      " 93%|█████████▎| 93/100 [5:52:26<27:51, 238.79s/it]"
     ]
    },
    {
     "name": "stdout",
     "output_type": "stream",
     "text": [
      "{'regret_max': 0.004882395267486572, 'regret_mean': 0.00010158816439798102, 'regret_mults': tensor([[183.4233, 156.0202]], device='cuda:0'), 'payment': 0.8857200145721436}\n"
     ]
    },
    {
     "name": "stderr",
     "output_type": "stream",
     "text": [
      "\r",
      " 94%|█████████▍| 94/100 [5:56:29<24:00, 240.07s/it]"
     ]
    },
    {
     "name": "stdout",
     "output_type": "stream",
     "text": [
      "{'regret_max': 0.005124270915985107, 'regret_mean': 0.00010321376612409949, 'regret_mults': tensor([[183.9418, 156.6249]], device='cuda:0'), 'payment': 0.8865994811058044}\n"
     ]
    },
    {
     "name": "stderr",
     "output_type": "stream",
     "text": [
      "\r",
      " 95%|█████████▌| 95/100 [6:00:33<20:06, 241.24s/it]"
     ]
    },
    {
     "name": "stdout",
     "output_type": "stream",
     "text": [
      "{'regret_max': 0.005621731281280518, 'regret_mean': 0.00011555716628208756, 'regret_mults': tensor([[184.6152, 157.7095]], device='cuda:0'), 'payment': 0.8862616419792175}\n"
     ]
    },
    {
     "name": "stderr",
     "output_type": "stream",
     "text": [
      "\r",
      " 96%|█████████▌| 96/100 [6:04:30<15:59, 239.95s/it]"
     ]
    },
    {
     "name": "stdout",
     "output_type": "stream",
     "text": [
      "{'regret_max': 0.026213467121124268, 'regret_mean': 0.0004009936819784343, 'regret_mults': tensor([[185.5944, 160.0606]], device='cuda:0'), 'payment': 0.8761366009712219}\n"
     ]
    },
    {
     "name": "stderr",
     "output_type": "stream",
     "text": [
      "\r",
      " 97%|█████████▋| 97/100 [6:08:28<11:58, 239.37s/it]"
     ]
    },
    {
     "name": "stdout",
     "output_type": "stream",
     "text": [
      "{'regret_max': 0.004335165023803711, 'regret_mean': 9.808209870243445e-05, 'regret_mults': tensor([[186.8010, 161.2968]], device='cuda:0'), 'payment': 0.8854312896728516}\n"
     ]
    },
    {
     "name": "stderr",
     "output_type": "stream",
     "text": [
      "\r",
      " 98%|█████████▊| 98/100 [6:12:32<08:01, 240.60s/it]"
     ]
    },
    {
     "name": "stdout",
     "output_type": "stream",
     "text": [
      "{'regret_max': 0.004706442356109619, 'regret_mean': 9.999795292969793e-05, 'regret_mults': tensor([[187.4236, 162.0167]], device='cuda:0'), 'payment': 0.8865998983383179}\n"
     ]
    },
    {
     "name": "stderr",
     "output_type": "stream",
     "text": [
      "\r",
      " 99%|█████████▉| 99/100 [6:16:31<04:00, 240.13s/it]"
     ]
    },
    {
     "name": "stdout",
     "output_type": "stream",
     "text": [
      "{'regret_max': 0.017929136753082275, 'regret_mean': 0.0002716023300308734, 'regret_mults': tensor([[188.4155, 162.8794]], device='cuda:0'), 'payment': 0.8798197507858276}\n"
     ]
    },
    {
     "name": "stderr",
     "output_type": "stream",
     "text": [
      "100%|██████████| 100/100 [6:20:32<00:00, 228.33s/it]"
     ]
    },
    {
     "name": "stdout",
     "output_type": "stream",
     "text": [
      "{'regret_max': 0.004993796348571777, 'regret_mean': 9.488315845374018e-05, 'regret_mults': tensor([[189.5029, 164.2386]], device='cuda:0'), 'payment': 0.8859788179397583}\n"
     ]
    },
    {
     "name": "stderr",
     "output_type": "stream",
     "text": [
      "\n"
     ]
    },
    {
     "name": "stdout",
     "output_type": "stream",
     "text": [
      "CPU times: user 6h 16min 45s, sys: 1min 9s, total: 6h 17min 55s\n",
      "Wall time: 6h 20min 33s\n"
     ]
    }
   ],
   "source": [
    "%%time\n",
    "mean_rgt, mean_pay, lagr_mults = train_loop(model, train_loader, args, device=device)"
   ]
  },
  {
   "cell_type": "code",
   "execution_count": 6,
   "metadata": {},
   "outputs": [],
   "source": [
    "dir_name = 'unit_2x3_0_1_experiment_data/'"
   ]
  },
  {
   "cell_type": "code",
   "execution_count": 7,
   "metadata": {},
   "outputs": [
    {
     "name": "stderr",
     "output_type": "stream",
     "text": [
      "1it [01:05, 66.00s/it]"
     ]
    },
    {
     "name": "stdout",
     "output_type": "stream",
     "text": [
      "CPU times: user 1min 5s, sys: 187 ms, total: 1min 5s\n",
      "Wall time: 1min 6s\n"
     ]
    },
    {
     "name": "stderr",
     "output_type": "stream",
     "text": [
      "\n"
     ]
    },
    {
     "data": {
      "text/plain": [
       "{'payment_mean': 0.8757041692733765,\n",
       " 'regret_mean': 0.0010432235430926085,\n",
       " 'regret_max': 0.005172848701477051}"
      ]
     },
     "execution_count": 7,
     "metadata": {},
     "output_type": "execute_result"
    }
   ],
   "source": [
    "%%time\n",
    "# model.sinkhorn_rounds = 100\n",
    "# model.sinkhorn_epsilon = 1e-2\n",
    "# test_data = ds.generate_dataset_nxk(args.n_agents, args.n_items, args.test_num_examples, item_ranges).to(device)\n",
    "test_data = torch.load(dir_name + 'test_data').to(device=device)\n",
    "cpu_test_data = test_data.clone().to(device='cpu')\n",
    "\n",
    "test_loader = ds.Dataloader(test_data, batch_size=args.test_batch_size, shuffle=True)\n",
    "\n",
    "result = test_loop(model, test_loader, args, device=device)\n",
    "result"
   ]
  },
  {
   "cell_type": "code",
   "execution_count": 8,
   "metadata": {
    "scrolled": true
   },
   "outputs": [
    {
     "name": "stderr",
     "output_type": "stream",
     "text": [
      "1it [12:24, 744.77s/it]"
     ]
    },
    {
     "name": "stdout",
     "output_type": "stream",
     "text": [
      "CPU times: user 12min 18s, sys: 1.94 s, total: 12min 20s\n",
      "Wall time: 12min 24s\n"
     ]
    },
    {
     "name": "stderr",
     "output_type": "stream",
     "text": [
      "\n"
     ]
    },
    {
     "data": {
      "text/plain": [
       "{'payment_mean': 0.8757041692733765,\n",
       " 'regret_mean': 0.0011330819688737392,\n",
       " 'regret_max': 0.0051729679107666016}"
      ]
     },
     "execution_count": 8,
     "metadata": {},
     "output_type": "execute_result"
    }
   ],
   "source": [
    "%%time\n",
    "args.test_num_examples = 1000\n",
    "args.test_batch_size = 1000\n",
    "args.test_misreport_iter = 1000\n",
    "args.misreport_lr = 1e-1\n",
    "model.sinkhorn_rounds = 10\n",
    "model.sinkhorn_epsilon = 5e-2\n",
    "\n",
    "random_starts = [test_data]\n",
    "for i in range(10):\n",
    "    random_starts.append(ds.generate_dataset_nxk(args.n_agents, args.n_items, args.test_num_examples, item_ranges).to(device))\n",
    "test_loader = ds.Dataloader(test_data, batch_size=args.test_batch_size, shuffle=True)\n",
    "\n",
    "result = test_loop_random_start(model, test_loader, args, random_starts, device=device)\n",
    "result"
   ]
  },
  {
   "cell_type": "code",
   "execution_count": 9,
   "metadata": {},
   "outputs": [],
   "source": [
    "model.save(dir_name)"
   ]
  },
  {
   "cell_type": "code",
   "execution_count": 10,
   "metadata": {},
   "outputs": [],
   "source": [
    "import cvxpy as cp\n",
    "import numpy as np\n",
    "from typing import NamedTuple\n",
    "from tqdm.notebook import tqdm"
   ]
  },
  {
   "cell_type": "code",
   "execution_count": 11,
   "metadata": {},
   "outputs": [],
   "source": [
    "class AuctionResult(NamedTuple):\n",
    "    alloc: np.ndarray\n",
    "    welfare: np.ndarray\n",
    "    payment: np.ndarray"
   ]
  },
  {
   "cell_type": "code",
   "execution_count": 12,
   "metadata": {},
   "outputs": [],
   "source": [
    "def max_welfare_alloc(bids_mat, k, exact_demand=False):\n",
    "    # returns allocation, util of allocation\n",
    "\n",
    "    num_agents = bids_mat.shape[0]\n",
    "    num_items = bids_mat.shape[1]\n",
    "    alloc_matrix = cp.Variable((num_agents, num_items), nonneg=True)\n",
    "    item_supply_constraints = cp.sum(alloc_matrix, axis=0) <= 1\n",
    "    if exact_demand:\n",
    "        agent_demand_constraints = cp.sum(alloc_matrix, axis=1) == k\n",
    "    else:\n",
    "        agent_demand_constraints = cp.sum(alloc_matrix, axis=1) <= k\n",
    "    welfare = cp.sum((cp.multiply(bids_mat, alloc_matrix)))\n",
    "    problem = cp.Problem(cp.Maximize(welfare), [item_supply_constraints, agent_demand_constraints])\n",
    "    problem.solve()\n",
    "    return (alloc_matrix.value, problem.value)"
   ]
  },
  {
   "cell_type": "code",
   "execution_count": 13,
   "metadata": {},
   "outputs": [],
   "source": [
    "def vcg_auction(bids_mat, k, exact_demand=False):\n",
    "    main_alloc, max_welfare_total_util = max_welfare_alloc(bids_mat, k, exact_demand=exact_demand)\n",
    "    payments = np.zeros(bids_mat.shape[0])\n",
    "    player_utils = (bids_mat * main_alloc).sum(axis=1)\n",
    "    num_agents = bids_mat.shape[0]\n",
    "    for i in range(num_agents):\n",
    "        dropped_bid_mat = np.delete(bids_mat, (i), axis=0)\n",
    "        dropped_player_utils = np.delete(player_utils, (i), axis=0) # player utils under full auction\n",
    "        new_alloc, new_total_util = max_welfare_alloc(dropped_bid_mat, k, exact_demand=exact_demand)\n",
    "        new_agent_utils = (new_alloc*dropped_bid_mat).sum(axis=1) # player utils without agent i's bid\n",
    "        payments[i] = (new_agent_utils - dropped_player_utils).sum() \n",
    "    return AuctionResult(main_alloc, player_utils, payments)"
   ]
  },
  {
   "cell_type": "code",
   "execution_count": 14,
   "metadata": {},
   "outputs": [],
   "source": [
    "payments = []\n",
    "for i in range(test_data.shape[0]):\n",
    "    payments.append(vcg_auction(cpu_test_data[i].cpu().numpy(), 1, exact_demand=False).payment.sum())"
   ]
  },
  {
   "cell_type": "code",
   "execution_count": 15,
   "metadata": {},
   "outputs": [
    {
     "data": {
      "text/plain": [
       "0.04831120999135777"
      ]
     },
     "execution_count": 15,
     "metadata": {},
     "output_type": "execute_result"
    }
   ],
   "source": [
    "np.mean(payments)"
   ]
  },
  {
   "cell_type": "code",
   "execution_count": 16,
   "metadata": {},
   "outputs": [],
   "source": [
    "import pickle\n",
    "to_pkl_lst = [mean_rgt, mean_pay, lagr_mults]\n",
    "for i, fname in enumerate(['mean_rgt', 'mean_pay', 'lagr_mults']):\n",
    "    with open(dir_name + fname, 'wb') as fp:\n",
    "        pickle.dump(to_pkl_lst[i], fp)"
   ]
  }
 ],
 "metadata": {
  "kernelspec": {
   "display_name": "Python 3",
   "language": "python",
   "name": "python3"
  },
  "language_info": {
   "codemirror_mode": {
    "name": "ipython",
    "version": 3
   },
   "file_extension": ".py",
   "mimetype": "text/x-python",
   "name": "python",
   "nbconvert_exporter": "python",
   "pygments_lexer": "ipython3",
   "version": "3.7.4"
  }
 },
 "nbformat": 4,
 "nbformat_minor": 2
}
