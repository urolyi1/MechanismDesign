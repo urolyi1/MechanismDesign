{
 "cells": [
  {
   "cell_type": "code",
   "execution_count": 1,
   "metadata": {},
   "outputs": [],
   "source": [
    "import torch\n",
    "from torch import nn, optim\n",
    "import torch.nn.functional as F\n",
    "import numpy as np\n",
    "from argparse import ArgumentParser\n",
    "from double_net.double_net import DoubleNet, train_loop, train_loop_no_lagrange, test_loop, test_loop_random_start\n",
    "from double_net import datasets as ds\n",
    "import time\n",
    "import double_net.plot_utils as pu\n",
    "import importlib\n",
    "import matplotlib.pyplot as plt"
   ]
  },
  {
   "cell_type": "code",
   "execution_count": 2,
   "metadata": {},
   "outputs": [],
   "source": [
    "if torch.cuda.is_available():\n",
    "    device = 'cuda'\n",
    "else:\n",
    "    device = 'cpu'"
   ]
  },
  {
   "cell_type": "code",
   "execution_count": 3,
   "metadata": {},
   "outputs": [
    {
     "data": {
      "text/plain": [
       "Namespace(batch_size=4096, lagr_update_iter=100, misreport_iter=25, misreport_lr=0.1, model_lr=0.001, n_agents=2, n_items=3, num_epochs=100, num_examples=524288, random_seed=0, rgt_start=0, rho=1, rho_incr_amount=1.0, rho_incr_iter=2, sinkhorn_epsilon=0.05, sinkhorn_rounds=20, test_batch_size=1000, test_iter=5, test_misreport_iter=1000, test_num_examples=1000)"
      ]
     },
     "execution_count": 3,
     "metadata": {},
     "output_type": "execute_result"
    }
   ],
   "source": [
    "parser = ArgumentParser()\n",
    "parser.add_argument('--random-seed', type=int, default=0)\n",
    "parser.add_argument('--num-examples', type=int, default=131072 * 4)\n",
    "parser.add_argument('--test-num-examples', type=int, default=1000)\n",
    "parser.add_argument('--test-iter', type=int, default=5)\n",
    "parser.add_argument('--n-agents', type=int, default=2)\n",
    "parser.add_argument('--n-items', type=int, default=3)\n",
    "parser.add_argument('--num-epochs', type=int, default=100)\n",
    "parser.add_argument('--batch-size', type=int, default=128 * 32)\n",
    "parser.add_argument('--test-batch-size', type=int, default=1000)\n",
    "parser.add_argument('--model-lr', type=float, default=1e-3)\n",
    "parser.add_argument('--misreport-lr', type=float, default=1e-1)\n",
    "parser.add_argument('--misreport-iter', type=int, default=25)\n",
    "parser.add_argument('--test-misreport-iter', type=int, default=1000)\n",
    "parser.add_argument('--rho', type=float, default=1)\n",
    "parser.add_argument('--rho-incr-iter', type=int, default=2)\n",
    "parser.add_argument('--rho-incr-amount', type=float, default=1.0)\n",
    "parser.add_argument('--lagr-update-iter', type=int, default=100)\n",
    "parser.add_argument('--rgt-start', type=int, default=0)\n",
    "parser.add_argument('--sinkhorn-epsilon', type=float, default=5e-2)\n",
    "parser.add_argument('--sinkhorn-rounds', type=int, default=20)\n",
    "\n",
    "\n",
    "args = parser.parse_args(args=[])\n",
    "args"
   ]
  },
  {
   "cell_type": "code",
   "execution_count": 4,
   "metadata": {},
   "outputs": [],
   "source": [
    "torch.manual_seed(args.random_seed)\n",
    "np.random.seed(args.random_seed)\n",
    "\n",
    "item_ranges = ds.preset_valuation_range(args.n_agents, args.n_items, \"\")\n",
    "\n",
    "model = DoubleNet(\n",
    "    args.n_agents, args.n_items, item_ranges, args.sinkhorn_epsilon, args.sinkhorn_rounds, marginal_choice='unit'\n",
    ").to(device)\n",
    "\n",
    "train_data = ds.generate_dataset_nxk(args.n_agents, args.n_items, args.num_examples, item_ranges).to(device)\n",
    "train_loader = ds.Dataloader(train_data, batch_size=args.batch_size, shuffle=True)"
   ]
  },
  {
   "cell_type": "code",
   "execution_count": 5,
   "metadata": {
    "scrolled": true
   },
   "outputs": [
    {
     "name": "stderr",
     "output_type": "stream",
     "text": [
      "  1%|          | 1/100 [00:59<1:38:24, 59.64s/it]"
     ]
    },
    {
     "name": "stdout",
     "output_type": "stream",
     "text": [
      "{'regret_max': 0.4474698603153229, 'regret_mean': 0.026606125757098198, 'regret_mults': tensor([[6.2513, 6.0761]], device='cuda:0'), 'payment': 0.7985957264900208}\n"
     ]
    },
    {
     "name": "stderr",
     "output_type": "stream",
     "text": [
      "\r",
      "  2%|▏         | 2/100 [01:59<1:37:31, 59.71s/it]"
     ]
    },
    {
     "name": "stdout",
     "output_type": "stream",
     "text": [
      "{'regret_max': 0.16461628675460815, 'regret_mean': 0.012735269032418728, 'regret_mults': tensor([[7.2990, 7.2231]], device='cuda:0'), 'payment': 0.8505147695541382}\n"
     ]
    },
    {
     "name": "stderr",
     "output_type": "stream",
     "text": [
      "\r",
      "  3%|▎         | 3/100 [02:59<1:36:31, 59.71s/it]"
     ]
    },
    {
     "name": "stdout",
     "output_type": "stream",
     "text": [
      "{'regret_max': 0.13373595476150513, 'regret_mean': 0.008291096426546574, 'regret_mults': tensor([[8.5574, 8.3232]], device='cuda:0'), 'payment': 0.875927746295929}\n"
     ]
    },
    {
     "name": "stderr",
     "output_type": "stream",
     "text": [
      "\r",
      "  4%|▍         | 4/100 [03:59<1:35:35, 59.74s/it]"
     ]
    },
    {
     "name": "stdout",
     "output_type": "stream",
     "text": [
      "{'regret_max': 0.047586262226104736, 'regret_mean': 0.006036357954144478, 'regret_mults': tensor([[11.4214, 10.7859]], device='cuda:0'), 'payment': 0.8853514194488525}\n"
     ]
    },
    {
     "name": "stderr",
     "output_type": "stream",
     "text": [
      "\r",
      "  5%|▌         | 5/100 [04:58<1:34:38, 59.77s/it]"
     ]
    },
    {
     "name": "stdout",
     "output_type": "stream",
     "text": [
      "{'regret_max': 0.03765767812728882, 'regret_mean': 0.00490542221814394, 'regret_mults': tensor([[12.8172, 12.3114]], device='cuda:0'), 'payment': 0.8829503655433655}\n"
     ]
    },
    {
     "name": "stderr",
     "output_type": "stream",
     "text": [
      "\r",
      "  6%|▌         | 6/100 [05:58<1:33:37, 59.76s/it]"
     ]
    },
    {
     "name": "stdout",
     "output_type": "stream",
     "text": [
      "{'regret_max': 0.038855552673339844, 'regret_mean': 0.0038742362521588802, 'regret_mults': tensor([[14.0959, 13.6387]], device='cuda:0'), 'payment': 0.8859020471572876}\n"
     ]
    },
    {
     "name": "stderr",
     "output_type": "stream",
     "text": [
      "\r",
      "  7%|▋         | 7/100 [06:58<1:32:38, 59.76s/it]"
     ]
    },
    {
     "name": "stdout",
     "output_type": "stream",
     "text": [
      "{'regret_max': 0.03656625747680664, 'regret_mean': 0.003533021081238985, 'regret_mults': tensor([[15.4108, 15.1269]], device='cuda:0'), 'payment': 0.8864131569862366}\n"
     ]
    },
    {
     "name": "stderr",
     "output_type": "stream",
     "text": [
      "\r",
      "  8%|▊         | 8/100 [07:58<1:31:37, 59.75s/it]"
     ]
    },
    {
     "name": "stdout",
     "output_type": "stream",
     "text": [
      "{'regret_max': 0.0325278639793396, 'regret_mean': 0.0031588037963956594, 'regret_mults': tensor([[18.4269, 17.7839]], device='cuda:0'), 'payment': 0.8866053819656372}\n"
     ]
    },
    {
     "name": "stderr",
     "output_type": "stream",
     "text": [
      "\r",
      "  9%|▉         | 9/100 [08:57<1:30:34, 59.72s/it]"
     ]
    },
    {
     "name": "stdout",
     "output_type": "stream",
     "text": [
      "{'regret_max': 0.029883384704589844, 'regret_mean': 0.0028754007071256638, 'regret_mults': tensor([[19.9952, 19.2450]], device='cuda:0'), 'payment': 0.8859336376190186}\n"
     ]
    },
    {
     "name": "stderr",
     "output_type": "stream",
     "text": [
      "\r",
      " 10%|█         | 10/100 [09:57<1:29:34, 59.72s/it]"
     ]
    },
    {
     "name": "stdout",
     "output_type": "stream",
     "text": [
      "{'regret_max': 0.026151299476623535, 'regret_mean': 0.002628407906740904, 'regret_mults': tensor([[21.4063, 20.8946]], device='cuda:0'), 'payment': 0.884925365447998}\n"
     ]
    },
    {
     "name": "stderr",
     "output_type": "stream",
     "text": [
      "\r",
      " 11%|█         | 11/100 [10:57<1:28:33, 59.70s/it]"
     ]
    },
    {
     "name": "stdout",
     "output_type": "stream",
     "text": [
      "{'regret_max': 0.029892683029174805, 'regret_mean': 0.002520090201869607, 'regret_mults': tensor([[24.4764, 23.9607]], device='cuda:0'), 'payment': 0.8827721476554871}\n"
     ]
    },
    {
     "name": "stderr",
     "output_type": "stream",
     "text": [
      "\r",
      " 12%|█▏        | 12/100 [11:56<1:27:34, 59.71s/it]"
     ]
    },
    {
     "name": "stdout",
     "output_type": "stream",
     "text": [
      "{'regret_max': 0.023883581161499023, 'regret_mean': 0.0021992656402289867, 'regret_mults': tensor([[25.8521, 25.1979]], device='cuda:0'), 'payment': 0.8817706108093262}\n"
     ]
    },
    {
     "name": "stderr",
     "output_type": "stream",
     "text": [
      "\r",
      " 13%|█▎        | 13/100 [12:56<1:26:38, 59.76s/it]"
     ]
    },
    {
     "name": "stdout",
     "output_type": "stream",
     "text": [
      "{'regret_max': 0.024242162704467773, 'regret_mean': 0.0020392269361764193, 'regret_mults': tensor([[27.2783, 26.5867]], device='cuda:0'), 'payment': 0.8805850744247437}\n"
     ]
    },
    {
     "name": "stderr",
     "output_type": "stream",
     "text": [
      "\r",
      " 14%|█▍        | 14/100 [13:56<1:25:41, 59.78s/it]"
     ]
    },
    {
     "name": "stdout",
     "output_type": "stream",
     "text": [
      "{'regret_max': 0.021325528621673584, 'regret_mean': 0.0019009842071682215, 'regret_mults': tensor([[29.2856, 28.4059]], device='cuda:0'), 'payment': 0.8787201642990112}\n"
     ]
    },
    {
     "name": "stderr",
     "output_type": "stream",
     "text": [
      "\r",
      " 15%|█▌        | 15/100 [14:56<1:24:45, 59.83s/it]"
     ]
    },
    {
     "name": "stdout",
     "output_type": "stream",
     "text": [
      "{'regret_max': 0.021817147731781006, 'regret_mean': 0.0018072174862027168, 'regret_mults': tensor([[32.3820, 31.9765]], device='cuda:0'), 'payment': 0.8766172528266907}\n"
     ]
    },
    {
     "name": "stderr",
     "output_type": "stream",
     "text": [
      "\r",
      " 16%|█▌        | 16/100 [15:56<1:23:46, 59.84s/it]"
     ]
    },
    {
     "name": "stdout",
     "output_type": "stream",
     "text": [
      "{'regret_max': 0.024247586727142334, 'regret_mean': 0.0016575255431234837, 'regret_mults': tensor([[33.9247, 33.4792]], device='cuda:0'), 'payment': 0.8750253319740295}\n"
     ]
    },
    {
     "name": "stderr",
     "output_type": "stream",
     "text": [
      "\r",
      " 17%|█▋        | 17/100 [16:56<1:22:50, 59.89s/it]"
     ]
    },
    {
     "name": "stdout",
     "output_type": "stream",
     "text": [
      "{'regret_max': 0.019010603427886963, 'regret_mean': 0.0014778662007302046, 'regret_mults': tensor([[35.4320, 34.8494]], device='cuda:0'), 'payment': 0.8740006685256958}\n"
     ]
    },
    {
     "name": "stderr",
     "output_type": "stream",
     "text": [
      "\r",
      " 18%|█▊        | 18/100 [17:56<1:21:49, 59.87s/it]"
     ]
    },
    {
     "name": "stdout",
     "output_type": "stream",
     "text": [
      "{'regret_max': 0.021086573600769043, 'regret_mean': 0.0014533000066876411, 'regret_mults': tensor([[38.5178, 38.0053]], device='cuda:0'), 'payment': 0.8719505071640015}\n"
     ]
    },
    {
     "name": "stderr",
     "output_type": "stream",
     "text": [
      "\r",
      " 19%|█▉        | 19/100 [18:56<1:20:48, 59.86s/it]"
     ]
    },
    {
     "name": "stdout",
     "output_type": "stream",
     "text": [
      "{'regret_max': 0.018081247806549072, 'regret_mean': 0.001303990837186575, 'regret_mults': tensor([[40.0758, 39.3012]], device='cuda:0'), 'payment': 0.8708314895629883}\n"
     ]
    },
    {
     "name": "stderr",
     "output_type": "stream",
     "text": [
      "\r",
      " 20%|██        | 20/100 [19:55<1:19:45, 59.82s/it]"
     ]
    },
    {
     "name": "stdout",
     "output_type": "stream",
     "text": [
      "{'regret_max': 0.023328304290771484, 'regret_mean': 0.0013241260312497616, 'regret_mults': tensor([[41.5337, 40.5156]], device='cuda:0'), 'payment': 0.8690094947814941}\n"
     ]
    },
    {
     "name": "stderr",
     "output_type": "stream",
     "text": [
      "\r",
      " 21%|██        | 21/100 [20:55<1:18:41, 59.76s/it]"
     ]
    },
    {
     "name": "stdout",
     "output_type": "stream",
     "text": [
      "{'regret_max': 0.017103374004364014, 'regret_mean': 0.0010792900575324893, 'regret_mults': tensor([[42.9209, 41.7495]], device='cuda:0'), 'payment': 0.8686225414276123}\n"
     ]
    },
    {
     "name": "stderr",
     "output_type": "stream",
     "text": [
      "\r",
      " 22%|██▏       | 22/100 [21:55<1:17:43, 59.79s/it]"
     ]
    },
    {
     "name": "stdout",
     "output_type": "stream",
     "text": [
      "{'regret_max': 0.021649718284606934, 'regret_mean': 0.0010905563831329346, 'regret_mults': tensor([[46.2349, 44.8872]], device='cuda:0'), 'payment': 0.8669028282165527}\n"
     ]
    },
    {
     "name": "stderr",
     "output_type": "stream",
     "text": [
      "\r",
      " 23%|██▎       | 23/100 [22:55<1:16:45, 59.81s/it]"
     ]
    },
    {
     "name": "stdout",
     "output_type": "stream",
     "text": [
      "{'regret_max': 0.02807462215423584, 'regret_mean': 0.0011046899016946554, 'regret_mults': tensor([[47.8644, 46.0185]], device='cuda:0'), 'payment': 0.8652825951576233}\n"
     ]
    },
    {
     "name": "stderr",
     "output_type": "stream",
     "text": [
      "\r",
      " 24%|██▍       | 24/100 [23:54<1:15:46, 59.82s/it]"
     ]
    },
    {
     "name": "stdout",
     "output_type": "stream",
     "text": [
      "{'regret_max': 0.014999687671661377, 'regret_mean': 0.0009216406033374369, 'regret_mults': tensor([[50.1032, 48.0235]], device='cuda:0'), 'payment': 0.8653297424316406}\n"
     ]
    },
    {
     "name": "stderr",
     "output_type": "stream",
     "text": [
      "\r",
      " 25%|██▌       | 25/100 [24:54<1:14:45, 59.81s/it]"
     ]
    },
    {
     "name": "stdout",
     "output_type": "stream",
     "text": [
      "{'regret_max': 0.015871822834014893, 'regret_mean': 0.0008765838574618101, 'regret_mults': tensor([[52.7560, 50.2594]], device='cuda:0'), 'payment': 0.8648701906204224}\n"
     ]
    },
    {
     "name": "stderr",
     "output_type": "stream",
     "text": [
      "\r",
      " 26%|██▌       | 26/100 [25:54<1:13:45, 59.80s/it]"
     ]
    },
    {
     "name": "stdout",
     "output_type": "stream",
     "text": [
      "{'regret_max': 0.027192533016204834, 'regret_mean': 0.0009558962192386389, 'regret_mults': tensor([[54.0131, 51.3064]], device='cuda:0'), 'payment': 0.8630808591842651}\n"
     ]
    },
    {
     "name": "stderr",
     "output_type": "stream",
     "text": [
      "\r",
      " 27%|██▋       | 27/100 [26:54<1:12:42, 59.77s/it]"
     ]
    },
    {
     "name": "stdout",
     "output_type": "stream",
     "text": [
      "{'regret_max': 0.015972822904586792, 'regret_mean': 0.0007154992781579494, 'regret_mults': tensor([[55.0462, 52.3213]], device='cuda:0'), 'payment': 0.864936113357544}\n"
     ]
    },
    {
     "name": "stderr",
     "output_type": "stream",
     "text": [
      "\r",
      " 28%|██▊       | 28/100 [27:55<1:12:12, 60.17s/it]"
     ]
    },
    {
     "name": "stdout",
     "output_type": "stream",
     "text": [
      "{'regret_max': 0.014864295721054077, 'regret_mean': 0.0007726990152150393, 'regret_mults': tensor([[56.6817, 53.6554]], device='cuda:0'), 'payment': 0.8635015487670898}\n"
     ]
    },
    {
     "name": "stderr",
     "output_type": "stream",
     "text": [
      "\r",
      " 29%|██▉       | 29/100 [28:57<1:11:48, 60.69s/it]"
     ]
    },
    {
     "name": "stdout",
     "output_type": "stream",
     "text": [
      "{'regret_max': 0.03352701663970947, 'regret_mean': 0.0009060159791260958, 'regret_mults': tensor([[58.8393, 56.5550]], device='cuda:0'), 'payment': 0.8612335920333862}\n"
     ]
    },
    {
     "name": "stderr",
     "output_type": "stream",
     "text": [
      "\r",
      " 30%|███       | 30/100 [29:59<1:11:13, 61.05s/it]"
     ]
    },
    {
     "name": "stdout",
     "output_type": "stream",
     "text": [
      "{'regret_max': 0.015341341495513916, 'regret_mean': 0.000660648278426379, 'regret_mults': tensor([[59.8581, 57.5117]], device='cuda:0'), 'payment': 0.8636823892593384}\n"
     ]
    },
    {
     "name": "stderr",
     "output_type": "stream",
     "text": [
      "\r",
      " 31%|███       | 31/100 [31:00<1:10:29, 61.30s/it]"
     ]
    },
    {
     "name": "stdout",
     "output_type": "stream",
     "text": [
      "{'regret_max': 0.01196974515914917, 'regret_mean': 0.0005436415667645633, 'regret_mults': tensor([[60.9466, 58.5350]], device='cuda:0'), 'payment': 0.864677906036377}\n"
     ]
    },
    {
     "name": "stderr",
     "output_type": "stream",
     "text": [
      "\r",
      " 32%|███▏      | 32/100 [32:02<1:09:40, 61.47s/it]"
     ]
    },
    {
     "name": "stdout",
     "output_type": "stream",
     "text": [
      "{'regret_max': 0.02025967836380005, 'regret_mean': 0.0007932428270578384, 'regret_mults': tensor([[63.9828, 60.7027]], device='cuda:0'), 'payment': 0.8608183860778809}\n"
     ]
    },
    {
     "name": "stderr",
     "output_type": "stream",
     "text": [
      "\r",
      " 33%|███▎      | 33/100 [33:04<1:08:46, 61.59s/it]"
     ]
    },
    {
     "name": "stdout",
     "output_type": "stream",
     "text": [
      "{'regret_max': 0.01453542709350586, 'regret_mean': 0.0005651904502883554, 'regret_mults': tensor([[66.1299, 62.6147]], device='cuda:0'), 'payment': 0.8628729581832886}\n"
     ]
    },
    {
     "name": "stderr",
     "output_type": "stream",
     "text": [
      "\r",
      " 34%|███▍      | 34/100 [34:06<1:07:51, 61.69s/it]"
     ]
    },
    {
     "name": "stdout",
     "output_type": "stream",
     "text": [
      "{'regret_max': 0.015181660652160645, 'regret_mean': 0.0006409521447494626, 'regret_mults': tensor([[66.9989, 63.5817]], device='cuda:0'), 'payment': 0.8617321252822876}\n"
     ]
    },
    {
     "name": "stderr",
     "output_type": "stream",
     "text": [
      "\r",
      " 35%|███▌      | 35/100 [35:08<1:06:53, 61.74s/it]"
     ]
    },
    {
     "name": "stdout",
     "output_type": "stream",
     "text": [
      "{'regret_max': 0.016025245189666748, 'regret_mean': 0.0005830954178236425, 'regret_mults': tensor([[68.3179, 65.2232]], device='cuda:0'), 'payment': 0.8619909882545471}\n"
     ]
    },
    {
     "name": "stderr",
     "output_type": "stream",
     "text": [
      "\r",
      " 36%|███▌      | 36/100 [36:10<1:05:54, 61.79s/it]"
     ]
    },
    {
     "name": "stdout",
     "output_type": "stream",
     "text": [
      "{'regret_max': 0.011273086071014404, 'regret_mean': 0.0005372807499952614, 'regret_mults': tensor([[70.4047, 67.3711]], device='cuda:0'), 'payment': 0.8621813058853149}\n"
     ]
    },
    {
     "name": "stderr",
     "output_type": "stream",
     "text": [
      "\r",
      " 37%|███▋      | 37/100 [37:12<1:04:54, 61.82s/it]"
     ]
    },
    {
     "name": "stdout",
     "output_type": "stream",
     "text": [
      "{'regret_max': 0.020068705081939697, 'regret_mean': 0.0006144793005660176, 'regret_mults': tensor([[71.5907, 68.8757]], device='cuda:0'), 'payment': 0.8609426021575928}\n"
     ]
    },
    {
     "name": "stderr",
     "output_type": "stream",
     "text": [
      "\r",
      " 38%|███▊      | 38/100 [38:14<1:03:53, 61.83s/it]"
     ]
    },
    {
     "name": "stdout",
     "output_type": "stream",
     "text": [
      "{'regret_max': 0.01062464714050293, 'regret_mean': 0.00045767263509333134, 'regret_mults': tensor([[72.4840, 69.9088]], device='cuda:0'), 'payment': 0.8624535799026489}\n"
     ]
    },
    {
     "name": "stderr",
     "output_type": "stream",
     "text": [
      "\r",
      " 39%|███▉      | 39/100 [39:15<1:02:51, 61.83s/it]"
     ]
    },
    {
     "name": "stdout",
     "output_type": "stream",
     "text": [
      "{'regret_max': 0.018415391445159912, 'regret_mean': 0.0006050311494618654, 'regret_mults': tensor([[74.1372, 71.7524]], device='cuda:0'), 'payment': 0.8605336546897888}\n"
     ]
    },
    {
     "name": "stderr",
     "output_type": "stream",
     "text": [
      "\r",
      " 40%|████      | 40/100 [40:17<1:01:50, 61.84s/it]"
     ]
    },
    {
     "name": "stdout",
     "output_type": "stream",
     "text": [
      "{'regret_max': 0.013405919075012207, 'regret_mean': 0.0005627562641166151, 'regret_mults': tensor([[76.6489, 74.2031]], device='cuda:0'), 'payment': 0.8607248067855835}\n"
     ]
    },
    {
     "name": "stderr",
     "output_type": "stream",
     "text": [
      "\r",
      " 41%|████      | 41/100 [41:19<1:00:48, 61.84s/it]"
     ]
    },
    {
     "name": "stdout",
     "output_type": "stream",
     "text": [
      "{'regret_max': 0.013197839260101318, 'regret_mean': 0.00034919020254164934, 'regret_mults': tensor([[77.5350, 75.0975]], device='cuda:0'), 'payment': 0.86314457654953}\n"
     ]
    },
    {
     "name": "stderr",
     "output_type": "stream",
     "text": [
      "\r",
      " 42%|████▏     | 42/100 [42:21<59:48, 61.87s/it]  "
     ]
    },
    {
     "name": "stdout",
     "output_type": "stream",
     "text": [
      "{'regret_max': 0.016365766525268555, 'regret_mean': 0.0005724470247514546, 'regret_mults': tensor([[81.2628, 76.3851]], device='cuda:0'), 'payment': 0.859770655632019}\n"
     ]
    },
    {
     "name": "stderr",
     "output_type": "stream",
     "text": [
      "\r",
      " 43%|████▎     | 43/100 [43:23<58:46, 61.86s/it]"
     ]
    },
    {
     "name": "stdout",
     "output_type": "stream",
     "text": [
      "{'regret_max': 0.008635103702545166, 'regret_mean': 0.0003287075087428093, 'regret_mults': tensor([[83.0568, 78.7527]], device='cuda:0'), 'payment': 0.8630534410476685}\n"
     ]
    },
    {
     "name": "stderr",
     "output_type": "stream",
     "text": [
      "\r",
      " 44%|████▍     | 44/100 [44:25<57:44, 61.87s/it]"
     ]
    },
    {
     "name": "stdout",
     "output_type": "stream",
     "text": [
      "{'regret_max': 0.017863690853118896, 'regret_mean': 0.0005332190776243806, 'regret_mults': tensor([[83.9218, 79.5729]], device='cuda:0'), 'payment': 0.8598099946975708}\n"
     ]
    },
    {
     "name": "stderr",
     "output_type": "stream",
     "text": [
      "\r",
      " 45%|████▌     | 45/100 [45:27<56:41, 61.85s/it]"
     ]
    },
    {
     "name": "stdout",
     "output_type": "stream",
     "text": [
      "{'regret_max': 0.0102308988571167, 'regret_mean': 0.0003708353906404227, 'regret_mults': tensor([[84.8512, 80.3902]], device='cuda:0'), 'payment': 0.8619377613067627}\n"
     ]
    },
    {
     "name": "stderr",
     "output_type": "stream",
     "text": [
      "\r",
      " 46%|████▌     | 46/100 [46:29<55:41, 61.87s/it]"
     ]
    },
    {
     "name": "stdout",
     "output_type": "stream",
     "text": [
      "{'regret_max': 0.00907522439956665, 'regret_mean': 0.00035924260737374425, 'regret_mults': tensor([[85.6435, 81.3923]], device='cuda:0'), 'payment': 0.8619058728218079}\n"
     ]
    },
    {
     "name": "stderr",
     "output_type": "stream",
     "text": [
      "\r",
      " 47%|████▋     | 47/100 [47:30<54:38, 61.85s/it]"
     ]
    },
    {
     "name": "stdout",
     "output_type": "stream",
     "text": [
      "{'regret_max': 0.013133704662322998, 'regret_mean': 0.0005054873181506991, 'regret_mults': tensor([[87.8517, 83.2180]], device='cuda:0'), 'payment': 0.8598737716674805}\n"
     ]
    },
    {
     "name": "stderr",
     "output_type": "stream",
     "text": [
      "\r",
      " 48%|████▊     | 48/100 [48:32<53:29, 61.71s/it]"
     ]
    },
    {
     "name": "stdout",
     "output_type": "stream",
     "text": [
      "{'regret_max': 0.008324980735778809, 'regret_mean': 0.00027764064725488424, 'regret_mults': tensor([[88.8479, 84.0647]], device='cuda:0'), 'payment': 0.8632568120956421}\n"
     ]
    },
    {
     "name": "stderr",
     "output_type": "stream",
     "text": [
      "\r",
      " 49%|████▉     | 49/100 [49:33<52:21, 61.60s/it]"
     ]
    },
    {
     "name": "stdout",
     "output_type": "stream",
     "text": [
      "{'regret_max': 0.008485019207000732, 'regret_mean': 0.0003115242288913578, 'regret_mults': tensor([[89.8998, 84.9432]], device='cuda:0'), 'payment': 0.8626383543014526}\n"
     ]
    },
    {
     "name": "stderr",
     "output_type": "stream",
     "text": [
      "\r",
      " 50%|█████     | 50/100 [50:34<51:16, 61.52s/it]"
     ]
    },
    {
     "name": "stdout",
     "output_type": "stream",
     "text": [
      "{'regret_max': 0.016772210597991943, 'regret_mean': 0.0004606706788763404, 'regret_mults': tensor([[92.6177, 88.0049]], device='cuda:0'), 'payment': 0.860175609588623}\n"
     ]
    },
    {
     "name": "stderr",
     "output_type": "stream",
     "text": [
      "\r",
      " 51%|█████     | 51/100 [51:36<50:11, 61.45s/it]"
     ]
    },
    {
     "name": "stdout",
     "output_type": "stream",
     "text": [
      "{'regret_max': 0.008262991905212402, 'regret_mean': 0.0003088447847403586, 'regret_mults': tensor([[93.3947, 88.8868]], device='cuda:0'), 'payment': 0.8621349930763245}\n"
     ]
    },
    {
     "name": "stderr",
     "output_type": "stream",
     "text": [
      "\r",
      " 52%|█████▏    | 52/100 [52:37<49:08, 61.42s/it]"
     ]
    },
    {
     "name": "stdout",
     "output_type": "stream",
     "text": [
      "{'regret_max': 0.00838017463684082, 'regret_mean': 0.0003363870782777667, 'regret_mults': tensor([[94.2212, 89.6907]], device='cuda:0'), 'payment': 0.8614951372146606}\n"
     ]
    },
    {
     "name": "stderr",
     "output_type": "stream",
     "text": [
      "\r",
      " 53%|█████▎    | 53/100 [53:38<48:05, 61.39s/it]"
     ]
    },
    {
     "name": "stdout",
     "output_type": "stream",
     "text": [
      "{'regret_max': 0.016488313674926758, 'regret_mean': 0.0004503909731283784, 'regret_mults': tensor([[100.3153,  91.7084]], device='cuda:0'), 'payment': 0.8593244552612305}\n"
     ]
    },
    {
     "name": "stderr",
     "output_type": "stream",
     "text": [
      "\r",
      " 54%|█████▍    | 54/100 [54:40<47:03, 61.38s/it]"
     ]
    },
    {
     "name": "stdout",
     "output_type": "stream",
     "text": [
      "{'regret_max': 0.0071950554847717285, 'regret_mean': 0.0002627671346999705, 'regret_mults': tensor([[101.8751,  93.4408]], device='cuda:0'), 'payment': 0.8621055483818054}\n"
     ]
    },
    {
     "name": "stderr",
     "output_type": "stream",
     "text": [
      "\r",
      " 55%|█████▌    | 55/100 [55:41<46:00, 61.35s/it]"
     ]
    },
    {
     "name": "stdout",
     "output_type": "stream",
     "text": [
      "{'regret_max': 0.02169358730316162, 'regret_mean': 0.00046065999777056277, 'regret_mults': tensor([[102.7160,  94.3369]], device='cuda:0'), 'payment': 0.8588025569915771}\n"
     ]
    },
    {
     "name": "stderr",
     "output_type": "stream",
     "text": [
      "\r",
      " 56%|█████▌    | 56/100 [56:43<45:02, 61.42s/it]"
     ]
    },
    {
     "name": "stdout",
     "output_type": "stream",
     "text": [
      "{'regret_max': 0.006654322147369385, 'regret_mean': 0.0002203537296736613, 'regret_mults': tensor([[103.5078,  95.0958]], device='cuda:0'), 'payment': 0.863059937953949}\n"
     ]
    },
    {
     "name": "stderr",
     "output_type": "stream",
     "text": [
      "\r",
      " 57%|█████▋    | 57/100 [57:44<43:59, 61.37s/it]"
     ]
    },
    {
     "name": "stdout",
     "output_type": "stream",
     "text": [
      "{'regret_max': 0.011984646320343018, 'regret_mean': 0.0003241146041546017, 'regret_mults': tensor([[104.5244,  96.0264]], device='cuda:0'), 'payment': 0.8609271049499512}\n"
     ]
    },
    {
     "name": "stderr",
     "output_type": "stream",
     "text": [
      "\r",
      " 58%|█████▊    | 58/100 [58:45<42:56, 61.35s/it]"
     ]
    },
    {
     "name": "stdout",
     "output_type": "stream",
     "text": [
      "{'regret_max': 0.007288992404937744, 'regret_mean': 0.00029220321448519826, 'regret_mults': tensor([[106.2999,  98.5003]], device='cuda:0'), 'payment': 0.8611114621162415}\n"
     ]
    },
    {
     "name": "stderr",
     "output_type": "stream",
     "text": [
      "\r",
      " 59%|█████▉    | 59/100 [59:46<41:54, 61.33s/it]"
     ]
    },
    {
     "name": "stdout",
     "output_type": "stream",
     "text": [
      "{'regret_max': 0.008606255054473877, 'regret_mean': 0.0002983667654916644, 'regret_mults': tensor([[107.0149,  99.4690]], device='cuda:0'), 'payment': 0.8610371351242065}\n"
     ]
    },
    {
     "name": "stderr",
     "output_type": "stream",
     "text": [
      "\r",
      " 60%|██████    | 60/100 [1:00:48<40:52, 61.32s/it]"
     ]
    },
    {
     "name": "stdout",
     "output_type": "stream",
     "text": [
      "{'regret_max': 0.012926340103149414, 'regret_mean': 0.0003495108394417912, 'regret_mults': tensor([[107.8392, 100.3592]], device='cuda:0'), 'payment': 0.8598006367683411}\n"
     ]
    },
    {
     "name": "stderr",
     "output_type": "stream",
     "text": [
      "\r",
      " 61%|██████    | 61/100 [1:01:49<39:52, 61.33s/it]"
     ]
    },
    {
     "name": "stdout",
     "output_type": "stream",
     "text": [
      "{'regret_max': 0.006556272506713867, 'regret_mean': 0.0002095756062772125, 'regret_mults': tensor([[109.6891, 101.9220]], device='cuda:0'), 'payment': 0.8630170822143555}\n"
     ]
    },
    {
     "name": "stderr",
     "output_type": "stream",
     "text": [
      "\r",
      " 62%|██████▏   | 62/100 [1:02:50<38:49, 61.30s/it]"
     ]
    },
    {
     "name": "stdout",
     "output_type": "stream",
     "text": [
      "{'regret_max': 0.008144199848175049, 'regret_mean': 0.00025787908816710114, 'regret_mults': tensor([[110.3375, 102.6035]], device='cuda:0'), 'payment': 0.8619354963302612}\n"
     ]
    },
    {
     "name": "stderr",
     "output_type": "stream",
     "text": [
      "\r",
      " 63%|██████▎   | 63/100 [1:03:52<37:48, 61.30s/it]"
     ]
    },
    {
     "name": "stdout",
     "output_type": "stream",
     "text": [
      "{'regret_max': 0.0220644474029541, 'regret_mean': 0.0003904493059962988, 'regret_mults': tensor([[111.2696, 103.1900]], device='cuda:0'), 'payment': 0.8608230948448181}\n"
     ]
    },
    {
     "name": "stderr",
     "output_type": "stream",
     "text": [
      "\r",
      " 64%|██████▍   | 64/100 [1:04:53<36:45, 61.27s/it]"
     ]
    },
    {
     "name": "stdout",
     "output_type": "stream",
     "text": [
      "{'regret_max': 0.01224207878112793, 'regret_mean': 0.0002743812801782042, 'regret_mults': tensor([[112.1579, 104.0319]], device='cuda:0'), 'payment': 0.8607884645462036}\n"
     ]
    },
    {
     "name": "stderr",
     "output_type": "stream",
     "text": [
      "\r",
      " 65%|██████▌   | 65/100 [1:05:54<35:45, 61.30s/it]"
     ]
    },
    {
     "name": "stdout",
     "output_type": "stream",
     "text": [
      "{'regret_max': 0.018051624298095703, 'regret_mean': 0.00034614960895851254, 'regret_mults': tensor([[114.7918, 108.9824]], device='cuda:0'), 'payment': 0.8606302738189697}\n"
     ]
    },
    {
     "name": "stderr",
     "output_type": "stream",
     "text": [
      "\r",
      " 66%|██████▌   | 66/100 [1:06:55<34:43, 61.27s/it]"
     ]
    },
    {
     "name": "stdout",
     "output_type": "stream",
     "text": [
      "{'regret_max': 0.0085030198097229, 'regret_mean': 0.00021562038455158472, 'regret_mults': tensor([[115.5738, 109.7677]], device='cuda:0'), 'payment': 0.8621771931648254}\n"
     ]
    },
    {
     "name": "stderr",
     "output_type": "stream",
     "text": [
      "\r",
      " 67%|██████▋   | 67/100 [1:07:56<33:39, 61.20s/it]"
     ]
    },
    {
     "name": "stdout",
     "output_type": "stream",
     "text": [
      "{'regret_max': 0.020866990089416504, 'regret_mean': 0.0003557392046786845, 'regret_mults': tensor([[116.4611, 110.5900]], device='cuda:0'), 'payment': 0.8599795699119568}\n"
     ]
    },
    {
     "name": "stderr",
     "output_type": "stream",
     "text": [
      "\r",
      " 68%|██████▊   | 68/100 [1:08:57<32:35, 61.12s/it]"
     ]
    },
    {
     "name": "stdout",
     "output_type": "stream",
     "text": [
      "{'regret_max': 0.007058680057525635, 'regret_mean': 0.000199918111320585, 'regret_mults': tensor([[118.0030, 112.2460]], device='cuda:0'), 'payment': 0.8622452020645142}\n"
     ]
    },
    {
     "name": "stderr",
     "output_type": "stream",
     "text": [
      "\r",
      " 69%|██████▉   | 69/100 [1:09:58<31:33, 61.08s/it]"
     ]
    },
    {
     "name": "stdout",
     "output_type": "stream",
     "text": [
      "{'regret_max': 0.013967633247375488, 'regret_mean': 0.0003866639453917742, 'regret_mults': tensor([[118.8360, 113.0841]], device='cuda:0'), 'payment': 0.8586774468421936}\n"
     ]
    },
    {
     "name": "stderr",
     "output_type": "stream",
     "text": [
      "\r",
      " 70%|███████   | 70/100 [1:10:59<30:30, 61.03s/it]"
     ]
    },
    {
     "name": "stdout",
     "output_type": "stream",
     "text": [
      "{'regret_max': 0.005133450031280518, 'regret_mean': 0.00016769941430538893, 'regret_mults': tensor([[119.5901, 113.8332]], device='cuda:0'), 'payment': 0.8636696338653564}\n"
     ]
    },
    {
     "name": "stderr",
     "output_type": "stream",
     "text": [
      "\r",
      " 71%|███████   | 71/100 [1:12:00<29:29, 61.02s/it]"
     ]
    },
    {
     "name": "stdout",
     "output_type": "stream",
     "text": [
      "{'regret_max': 0.0048239827156066895, 'regret_mean': 0.00017887720605358481, 'regret_mults': tensor([[120.3896, 114.5683]], device='cuda:0'), 'payment': 0.8635654449462891}\n"
     ]
    },
    {
     "name": "stderr",
     "output_type": "stream",
     "text": [
      "\r",
      " 72%|███████▏  | 72/100 [1:13:01<28:27, 60.98s/it]"
     ]
    },
    {
     "name": "stdout",
     "output_type": "stream",
     "text": [
      "{'regret_max': 0.007593333721160889, 'regret_mean': 0.0002190952654927969, 'regret_mults': tensor([[121.9831, 116.4318]], device='cuda:0'), 'payment': 0.8621547818183899}\n"
     ]
    },
    {
     "name": "stderr",
     "output_type": "stream",
     "text": [
      "\r",
      " 73%|███████▎  | 73/100 [1:14:02<27:26, 60.99s/it]"
     ]
    },
    {
     "name": "stdout",
     "output_type": "stream",
     "text": [
      "{'regret_max': 0.013432085514068604, 'regret_mean': 0.00030257139587774873, 'regret_mults': tensor([[122.6740, 117.2973]], device='cuda:0'), 'payment': 0.8606601357460022}\n"
     ]
    },
    {
     "name": "stderr",
     "output_type": "stream",
     "text": [
      "\r",
      " 74%|███████▍  | 74/100 [1:15:03<26:25, 60.98s/it]"
     ]
    },
    {
     "name": "stdout",
     "output_type": "stream",
     "text": [
      "{'regret_max': 0.004333913326263428, 'regret_mean': 0.00017608772031962872, 'regret_mults': tensor([[123.3343, 117.9407]], device='cuda:0'), 'payment': 0.8634637594223022}\n"
     ]
    },
    {
     "name": "stderr",
     "output_type": "stream",
     "text": [
      "\r",
      " 75%|███████▌  | 75/100 [1:16:04<25:25, 61.00s/it]"
     ]
    },
    {
     "name": "stdout",
     "output_type": "stream",
     "text": [
      "{'regret_max': 0.006509721279144287, 'regret_mean': 0.00020751960983034223, 'regret_mults': tensor([[127.9647, 119.7035]], device='cuda:0'), 'payment': 0.8625733256340027}\n"
     ]
    },
    {
     "name": "stderr",
     "output_type": "stream",
     "text": [
      "\r",
      " 76%|███████▌  | 76/100 [1:17:05<24:23, 60.99s/it]"
     ]
    },
    {
     "name": "stdout",
     "output_type": "stream",
     "text": [
      "{'regret_max': 0.016724824905395508, 'regret_mean': 0.0003634158056229353, 'regret_mults': tensor([[128.6810, 120.5249]], device='cuda:0'), 'payment': 0.8593244552612305}\n"
     ]
    },
    {
     "name": "stderr",
     "output_type": "stream",
     "text": [
      "\r",
      " 77%|███████▋  | 77/100 [1:18:06<23:23, 61.01s/it]"
     ]
    },
    {
     "name": "stdout",
     "output_type": "stream",
     "text": [
      "{'regret_max': 0.006626605987548828, 'regret_mean': 0.00018537708092480898, 'regret_mults': tensor([[129.4444, 121.3043]], device='cuda:0'), 'payment': 0.8631192445755005}\n"
     ]
    },
    {
     "name": "stderr",
     "output_type": "stream",
     "text": [
      "\r",
      " 78%|███████▊  | 78/100 [1:19:07<22:21, 60.98s/it]"
     ]
    },
    {
     "name": "stdout",
     "output_type": "stream",
     "text": [
      "{'regret_max': 0.01925218105316162, 'regret_mean': 0.0002600247971713543, 'regret_mults': tensor([[130.0790, 121.9717]], device='cuda:0'), 'payment': 0.8623580932617188}\n"
     ]
    },
    {
     "name": "stderr",
     "output_type": "stream",
     "text": [
      "\r",
      " 79%|███████▉  | 79/100 [1:20:08<21:20, 60.99s/it]"
     ]
    },
    {
     "name": "stdout",
     "output_type": "stream",
     "text": [
      "{'regret_max': 0.013549387454986572, 'regret_mean': 0.0002678665332496166, 'regret_mults': tensor([[135.1473, 124.2443]], device='cuda:0'), 'payment': 0.8606428503990173}\n"
     ]
    },
    {
     "name": "stderr",
     "output_type": "stream",
     "text": [
      "\r",
      " 80%|████████  | 80/100 [1:21:09<20:19, 60.97s/it]"
     ]
    },
    {
     "name": "stdout",
     "output_type": "stream",
     "text": [
      "{'regret_max': 0.00958174467086792, 'regret_mean': 0.00018300478404853493, 'regret_mults': tensor([[135.9695, 125.0561]], device='cuda:0'), 'payment': 0.8634700775146484}\n"
     ]
    },
    {
     "name": "stderr",
     "output_type": "stream",
     "text": [
      "\r",
      " 81%|████████  | 81/100 [1:22:10<19:18, 60.98s/it]"
     ]
    },
    {
     "name": "stdout",
     "output_type": "stream",
     "text": [
      "{'regret_max': 0.006104171276092529, 'regret_mean': 0.00017105351435020566, 'regret_mults': tensor([[136.6206, 125.8093]], device='cuda:0'), 'payment': 0.863182008266449}\n"
     ]
    },
    {
     "name": "stderr",
     "output_type": "stream",
     "text": [
      "\r",
      " 82%|████████▏ | 82/100 [1:23:11<18:17, 60.97s/it]"
     ]
    },
    {
     "name": "stdout",
     "output_type": "stream",
     "text": [
      "{'regret_max': 0.017431914806365967, 'regret_mean': 0.00034956602030433714, 'regret_mults': tensor([[140.0625, 131.0502]], device='cuda:0'), 'payment': 0.8587477803230286}\n"
     ]
    },
    {
     "name": "stderr",
     "output_type": "stream",
     "text": [
      "\r",
      " 83%|████████▎ | 83/100 [1:24:12<17:16, 60.98s/it]"
     ]
    },
    {
     "name": "stdout",
     "output_type": "stream",
     "text": [
      "{'regret_max': 0.006710529327392578, 'regret_mean': 0.00016657686501275748, 'regret_mults': tensor([[141.5414, 132.5568]], device='cuda:0'), 'payment': 0.8632826805114746}\n"
     ]
    },
    {
     "name": "stderr",
     "output_type": "stream",
     "text": [
      "\r",
      " 84%|████████▍ | 84/100 [1:25:13<16:15, 60.98s/it]"
     ]
    },
    {
     "name": "stdout",
     "output_type": "stream",
     "text": [
      "{'regret_max': 0.005135774612426758, 'regret_mean': 0.00015672107110731304, 'regret_mults': tensor([[142.1448, 133.1999]], device='cuda:0'), 'payment': 0.8631749153137207}\n"
     ]
    },
    {
     "name": "stderr",
     "output_type": "stream",
     "text": [
      "\r",
      " 85%|████████▌ | 85/100 [1:26:14<15:14, 60.98s/it]"
     ]
    },
    {
     "name": "stdout",
     "output_type": "stream",
     "text": [
      "{'regret_max': 0.017400622367858887, 'regret_mean': 0.00034356783726252615, 'regret_mults': tensor([[144.3943, 136.5538]], device='cuda:0'), 'payment': 0.8587255477905273}\n"
     ]
    },
    {
     "name": "stderr",
     "output_type": "stream",
     "text": [
      "\r",
      " 86%|████████▌ | 86/100 [1:27:15<14:13, 60.95s/it]"
     ]
    },
    {
     "name": "stdout",
     "output_type": "stream",
     "text": [
      "{'regret_max': 0.00457233190536499, 'regret_mean': 0.00013203310663811862, 'regret_mults': tensor([[145.7143, 137.9197]], device='cuda:0'), 'payment': 0.8639934062957764}\n"
     ]
    },
    {
     "name": "stderr",
     "output_type": "stream",
     "text": [
      "\r",
      " 87%|████████▋ | 87/100 [1:28:16<13:12, 60.98s/it]"
     ]
    },
    {
     "name": "stdout",
     "output_type": "stream",
     "text": [
      "{'regret_max': 0.024807870388031006, 'regret_mean': 0.0003908633370883763, 'regret_mults': tensor([[146.4792, 138.7325]], device='cuda:0'), 'payment': 0.8585871458053589}\n"
     ]
    },
    {
     "name": "stderr",
     "output_type": "stream",
     "text": [
      "\r",
      " 88%|████████▊ | 88/100 [1:29:17<12:11, 60.97s/it]"
     ]
    },
    {
     "name": "stdout",
     "output_type": "stream",
     "text": [
      "{'regret_max': 0.006543576717376709, 'regret_mean': 0.00014722361811436713, 'regret_mults': tensor([[147.1659, 139.5247]], device='cuda:0'), 'payment': 0.8625496625900269}\n"
     ]
    },
    {
     "name": "stderr",
     "output_type": "stream",
     "text": [
      "\r",
      " 89%|████████▉ | 89/100 [1:30:18<11:10, 60.98s/it]"
     ]
    },
    {
     "name": "stdout",
     "output_type": "stream",
     "text": [
      "{'regret_max': 0.004466354846954346, 'regret_mean': 0.00012378643441479653, 'regret_mults': tensor([[147.7957, 140.1898]], device='cuda:0'), 'payment': 0.8645896911621094}\n"
     ]
    },
    {
     "name": "stderr",
     "output_type": "stream",
     "text": [
      "\r",
      " 90%|█████████ | 90/100 [1:31:19<10:09, 60.96s/it]"
     ]
    },
    {
     "name": "stdout",
     "output_type": "stream",
     "text": [
      "{'regret_max': 0.008239030838012695, 'regret_mean': 0.00016709972987882793, 'regret_mults': tensor([[149.1237, 141.5229]], device='cuda:0'), 'payment': 0.8630520105361938}\n"
     ]
    },
    {
     "name": "stderr",
     "output_type": "stream",
     "text": [
      "\r",
      " 91%|█████████ | 91/100 [1:32:20<09:08, 60.98s/it]"
     ]
    },
    {
     "name": "stdout",
     "output_type": "stream",
     "text": [
      "{'regret_max': 0.00535130500793457, 'regret_mean': 0.00012599758338183165, 'regret_mults': tensor([[149.9162, 142.2302]], device='cuda:0'), 'payment': 0.8648476600646973}\n"
     ]
    },
    {
     "name": "stderr",
     "output_type": "stream",
     "text": [
      "\r",
      " 92%|█████████▏| 92/100 [1:33:21<08:07, 60.96s/it]"
     ]
    },
    {
     "name": "stdout",
     "output_type": "stream",
     "text": [
      "{'regret_max': 0.02558523416519165, 'regret_mean': 0.00042443687561899424, 'regret_mults': tensor([[151.4958, 144.0740]], device='cuda:0'), 'payment': 0.8562005758285522}\n"
     ]
    },
    {
     "name": "stderr",
     "output_type": "stream",
     "text": [
      "\r",
      " 93%|█████████▎| 93/100 [1:34:22<07:06, 60.97s/it]"
     ]
    },
    {
     "name": "stdout",
     "output_type": "stream",
     "text": [
      "{'regret_max': 0.004180848598480225, 'regret_mean': 0.00011658604489639401, 'regret_mults': tensor([[152.8114, 145.4523]], device='cuda:0'), 'payment': 0.8646080493927002}\n"
     ]
    },
    {
     "name": "stderr",
     "output_type": "stream",
     "text": [
      "\r",
      " 94%|█████████▍| 94/100 [1:35:23<06:05, 60.97s/it]"
     ]
    },
    {
     "name": "stdout",
     "output_type": "stream",
     "text": [
      "{'regret_max': 0.01989924907684326, 'regret_mean': 0.00037000884185545146, 'regret_mults': tensor([[153.6012, 146.3048]], device='cuda:0'), 'payment': 0.8571336269378662}\n"
     ]
    },
    {
     "name": "stderr",
     "output_type": "stream",
     "text": [
      "\r",
      " 95%|█████████▌| 95/100 [1:36:24<05:04, 60.99s/it]"
     ]
    },
    {
     "name": "stdout",
     "output_type": "stream",
     "text": [
      "{'regret_max': 0.004140377044677734, 'regret_mean': 0.00011253047705395147, 'regret_mults': tensor([[154.3013, 146.9117]], device='cuda:0'), 'payment': 0.8645401000976562}\n"
     ]
    },
    {
     "name": "stderr",
     "output_type": "stream",
     "text": [
      "\r",
      " 96%|█████████▌| 96/100 [1:37:25<04:03, 60.99s/it]"
     ]
    },
    {
     "name": "stdout",
     "output_type": "stream",
     "text": [
      "{'regret_max': 0.003725409507751465, 'regret_mean': 0.00011474685015855357, 'regret_mults': tensor([[154.9504, 147.6611]], device='cuda:0'), 'payment': 0.8651002645492554}\n"
     ]
    },
    {
     "name": "stderr",
     "output_type": "stream",
     "text": [
      "\r",
      " 97%|█████████▋| 97/100 [1:38:26<03:03, 61.01s/it]"
     ]
    },
    {
     "name": "stdout",
     "output_type": "stream",
     "text": [
      "{'regret_max': 0.018628299236297607, 'regret_mean': 0.00036447428283281624, 'regret_mults': tensor([[156.2842, 149.0074]], device='cuda:0'), 'payment': 0.8580178618431091}\n"
     ]
    },
    {
     "name": "stderr",
     "output_type": "stream",
     "text": [
      "\r",
      " 98%|█████████▊| 98/100 [1:39:27<02:01, 60.99s/it]"
     ]
    },
    {
     "name": "stdout",
     "output_type": "stream",
     "text": [
      "{'regret_max': 0.004471480846405029, 'regret_mean': 0.00010979448416037485, 'regret_mults': tensor([[156.9793, 149.7927]], device='cuda:0'), 'payment': 0.8648833632469177}\n"
     ]
    },
    {
     "name": "stderr",
     "output_type": "stream",
     "text": [
      "\r",
      " 99%|█████████▉| 99/100 [1:40:28<01:00, 60.99s/it]"
     ]
    },
    {
     "name": "stdout",
     "output_type": "stream",
     "text": [
      "{'regret_max': 0.003989219665527344, 'regret_mean': 0.00011421921226428822, 'regret_mults': tensor([[157.6939, 150.7170]], device='cuda:0'), 'payment': 0.8652638792991638}\n"
     ]
    },
    {
     "name": "stderr",
     "output_type": "stream",
     "text": [
      "100%|██████████| 100/100 [1:41:29<00:00, 60.89s/it]"
     ]
    },
    {
     "name": "stdout",
     "output_type": "stream",
     "text": [
      "{'regret_max': 0.004089087247848511, 'regret_mean': 0.00012464250903576612, 'regret_mults': tensor([[159.1331, 152.2217]], device='cuda:0'), 'payment': 0.8650714755058289}\n",
      "CPU times: user 1h 41min 6s, sys: 12.4 s, total: 1h 41min 19s\n",
      "Wall time: 1h 41min 29s\n"
     ]
    },
    {
     "name": "stderr",
     "output_type": "stream",
     "text": [
      "\n"
     ]
    }
   ],
   "source": [
    "%%time\n",
    "mean_rgt, mean_pay, lagr_mults = train_loop(model, train_loader, args, device=device)"
   ]
  },
  {
   "cell_type": "code",
   "execution_count": 6,
   "metadata": {},
   "outputs": [],
   "source": [
    "dir_name = 'unit_2x3_0_1_experiment_data/'"
   ]
  },
  {
   "cell_type": "code",
   "execution_count": 7,
   "metadata": {},
   "outputs": [
    {
     "name": "stderr",
     "output_type": "stream",
     "text": [
      "1it [00:17, 17.59s/it]"
     ]
    },
    {
     "name": "stdout",
     "output_type": "stream",
     "text": [
      "CPU times: user 17.5 s, sys: 36 ms, total: 17.6 s\n",
      "Wall time: 17.6 s\n"
     ]
    },
    {
     "name": "stderr",
     "output_type": "stream",
     "text": [
      "\n"
     ]
    },
    {
     "data": {
      "text/plain": [
       "{'payment_mean': 0.8508860468864441,\n",
       " 'regret_mean': 0.0006896626437082887,\n",
       " 'regret_max': 0.0031672418117523193}"
      ]
     },
     "execution_count": 7,
     "metadata": {},
     "output_type": "execute_result"
    }
   ],
   "source": [
    "%%time\n",
    "# model.sinkhorn_rounds = 100\n",
    "# model.sinkhorn_epsilon = 1e-2\n",
    "# test_data = ds.generate_dataset_nxk(args.n_agents, args.n_items, args.test_num_examples, item_ranges).to(device)\n",
    "test_data = torch.load(dir_name + 'test_data').to(device=device)\n",
    "cpu_test_data = test_data.clone().to(device='cpu')\n",
    "\n",
    "test_loader = ds.Dataloader(test_data, batch_size=args.test_batch_size, shuffle=True)\n",
    "\n",
    "result = test_loop(model, test_loader, args, device=device)\n",
    "result"
   ]
  },
  {
   "cell_type": "code",
   "execution_count": 17,
   "metadata": {
    "scrolled": true
   },
   "outputs": [
    {
     "name": "stderr",
     "output_type": "stream",
     "text": [
      "1it [03:13, 193.96s/it]"
     ]
    },
    {
     "name": "stdout",
     "output_type": "stream",
     "text": [
      "CPU times: user 3min 12s, sys: 478 ms, total: 3min 12s\n",
      "Wall time: 3min 13s\n"
     ]
    },
    {
     "name": "stderr",
     "output_type": "stream",
     "text": [
      "\n"
     ]
    },
    {
     "data": {
      "text/plain": [
       "{'payment_mean': 0.8508860468864441,\n",
       " 'regret_mean': 0.0007247113389894366,\n",
       " 'regret_max': 0.00316736102104187}"
      ]
     },
     "execution_count": 17,
     "metadata": {},
     "output_type": "execute_result"
    }
   ],
   "source": [
    "%%time\n",
    "args.test_num_examples = 1000\n",
    "args.test_batch_size = 1000\n",
    "args.test_misreport_iter = 1000\n",
    "args.misreport_lr = 1e-1\n",
    "model.sinkhorn_rounds = 20\n",
    "model.sinkhorn_epsilon = 5e-2\n",
    "\n",
    "random_starts = [test_data]\n",
    "for i in range(10):\n",
    "    random_starts.append(ds.generate_dataset_nxk(args.n_agents, args.n_items, args.test_num_examples, item_ranges).to(device))\n",
    "test_loader = ds.Dataloader(test_data, batch_size=args.test_batch_size, shuffle=True)\n",
    "\n",
    "result = test_loop_random_start(model, test_loader, args, random_starts, device=device)\n",
    "result"
   ]
  },
  {
   "cell_type": "code",
   "execution_count": 9,
   "metadata": {},
   "outputs": [],
   "source": [
    "model.save(dir_name)"
   ]
  },
  {
   "cell_type": "code",
   "execution_count": 10,
   "metadata": {},
   "outputs": [],
   "source": [
    "import cvxpy as cp\n",
    "import numpy as np\n",
    "from typing import NamedTuple\n",
    "from tqdm.notebook import tqdm"
   ]
  },
  {
   "cell_type": "code",
   "execution_count": 11,
   "metadata": {},
   "outputs": [],
   "source": [
    "class AuctionResult(NamedTuple):\n",
    "    alloc: np.ndarray\n",
    "    welfare: np.ndarray\n",
    "    payment: np.ndarray"
   ]
  },
  {
   "cell_type": "code",
   "execution_count": 12,
   "metadata": {},
   "outputs": [],
   "source": [
    "def max_welfare_alloc(bids_mat, k, exact_demand=False):\n",
    "    # returns allocation, util of allocation\n",
    "\n",
    "    num_agents = bids_mat.shape[0]\n",
    "    num_items = bids_mat.shape[1]\n",
    "    alloc_matrix = cp.Variable((num_agents, num_items), nonneg=True)\n",
    "    item_supply_constraints = cp.sum(alloc_matrix, axis=0) <= 1\n",
    "    if exact_demand:\n",
    "        agent_demand_constraints = cp.sum(alloc_matrix, axis=1) == k\n",
    "    else:\n",
    "        agent_demand_constraints = cp.sum(alloc_matrix, axis=1) <= k\n",
    "    welfare = cp.sum((cp.multiply(bids_mat, alloc_matrix)))\n",
    "    problem = cp.Problem(cp.Maximize(welfare), [item_supply_constraints, agent_demand_constraints])\n",
    "    problem.solve()\n",
    "    return (alloc_matrix.value, problem.value)"
   ]
  },
  {
   "cell_type": "code",
   "execution_count": 13,
   "metadata": {},
   "outputs": [],
   "source": [
    "def vcg_auction(bids_mat, k, exact_demand=False):\n",
    "    main_alloc, max_welfare_total_util = max_welfare_alloc(bids_mat, k, exact_demand=exact_demand)\n",
    "    payments = np.zeros(bids_mat.shape[0])\n",
    "    player_utils = (bids_mat * main_alloc).sum(axis=1)\n",
    "    num_agents = bids_mat.shape[0]\n",
    "    for i in range(num_agents):\n",
    "        dropped_bid_mat = np.delete(bids_mat, (i), axis=0)\n",
    "        dropped_player_utils = np.delete(player_utils, (i), axis=0) # player utils under full auction\n",
    "        new_alloc, new_total_util = max_welfare_alloc(dropped_bid_mat, k, exact_demand=exact_demand)\n",
    "        new_agent_utils = (new_alloc*dropped_bid_mat).sum(axis=1) # player utils without agent i's bid\n",
    "        payments[i] = (new_agent_utils - dropped_player_utils).sum() \n",
    "    return AuctionResult(main_alloc, player_utils, payments)"
   ]
  },
  {
   "cell_type": "code",
   "execution_count": 14,
   "metadata": {},
   "outputs": [],
   "source": [
    "payments = []\n",
    "for i in range(test_data.shape[0]):\n",
    "    payments.append(vcg_auction(cpu_test_data[i].cpu().numpy(), 1, exact_demand=False).payment.sum())"
   ]
  },
  {
   "cell_type": "code",
   "execution_count": 15,
   "metadata": {},
   "outputs": [
    {
     "data": {
      "text/plain": [
       "0.04831120999135777"
      ]
     },
     "execution_count": 15,
     "metadata": {},
     "output_type": "execute_result"
    }
   ],
   "source": [
    "np.mean(payments)"
   ]
  },
  {
   "cell_type": "code",
   "execution_count": 16,
   "metadata": {},
   "outputs": [],
   "source": [
    "import pickle\n",
    "to_pkl_lst = [mean_rgt, mean_pay, lagr_mults]\n",
    "for i, fname in enumerate(['mean_rgt', 'mean_pay', 'lagr_mults']):\n",
    "    with open(dir_name + fname, 'wb') as fp:\n",
    "        pickle.dump(to_pkl_lst[i], fp)"
   ]
  }
 ],
 "metadata": {
  "kernelspec": {
   "display_name": "Python 3",
   "language": "python",
   "name": "python3"
  },
  "language_info": {
   "codemirror_mode": {
    "name": "ipython",
    "version": 3
   },
   "file_extension": ".py",
   "mimetype": "text/x-python",
   "name": "python",
   "nbconvert_exporter": "python",
   "pygments_lexer": "ipython3",
   "version": "3.7.4"
  }
 },
 "nbformat": 4,
 "nbformat_minor": 2
}
