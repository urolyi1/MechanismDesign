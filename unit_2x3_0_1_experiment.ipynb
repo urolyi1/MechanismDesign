{
 "cells": [
  {
   "cell_type": "code",
   "execution_count": 1,
   "metadata": {},
   "outputs": [],
   "source": [
    "import torch\n",
    "from torch import nn, optim\n",
    "import torch.nn.functional as F\n",
    "import numpy as np\n",
    "from argparse import ArgumentParser\n",
    "from double_net.double_net import DoubleNet, train_loop, train_loop_no_lagrange, test_loop, test_loop_random_start\n",
    "from double_net import datasets as ds\n",
    "import time\n",
    "import double_net.plot_utils as pu\n",
    "import importlib\n",
    "import matplotlib.pyplot as plt"
   ]
  },
  {
   "cell_type": "code",
   "execution_count": 2,
   "metadata": {},
   "outputs": [],
   "source": [
    "if torch.cuda.is_available():\n",
    "    device = 'cuda'\n",
    "else:\n",
    "    device = 'cpu'"
   ]
  },
  {
   "cell_type": "code",
   "execution_count": 3,
   "metadata": {},
   "outputs": [
    {
     "data": {
      "text/plain": [
       "Namespace(batch_size=4096, lagr_update_iter=100, misreport_iter=25, misreport_lr=0.1, model_lr=0.001, n_agents=2, n_items=3, num_epochs=100, num_examples=524288, random_seed=0, rgt_start=0, rho=1, rho_incr_amount=1.0, rho_incr_iter=2, sinkhorn_epsilon=0.03, sinkhorn_rounds=20, test_batch_size=1000, test_iter=5, test_misreport_iter=1000, test_num_examples=1000)"
      ]
     },
     "execution_count": 3,
     "metadata": {},
     "output_type": "execute_result"
    }
   ],
   "source": [
    "parser = ArgumentParser()\n",
    "parser.add_argument('--random-seed', type=int, default=0)\n",
    "parser.add_argument('--num-examples', type=int, default=131072 * 4)\n",
    "parser.add_argument('--test-num-examples', type=int, default=1000)\n",
    "parser.add_argument('--test-iter', type=int, default=5)\n",
    "parser.add_argument('--n-agents', type=int, default=2)\n",
    "parser.add_argument('--n-items', type=int, default=3)\n",
    "parser.add_argument('--num-epochs', type=int, default=100)\n",
    "parser.add_argument('--batch-size', type=int, default=128 * 32)\n",
    "parser.add_argument('--test-batch-size', type=int, default=1000)\n",
    "parser.add_argument('--model-lr', type=float, default=1e-3)\n",
    "parser.add_argument('--misreport-lr', type=float, default=1e-1)\n",
    "parser.add_argument('--misreport-iter', type=int, default=25)\n",
    "parser.add_argument('--test-misreport-iter', type=int, default=1000)\n",
    "parser.add_argument('--rho', type=float, default=1)\n",
    "parser.add_argument('--rho-incr-iter', type=int, default=2)\n",
    "parser.add_argument('--rho-incr-amount', type=float, default=1.0)\n",
    "parser.add_argument('--lagr-update-iter', type=int, default=100)\n",
    "parser.add_argument('--rgt-start', type=int, default=0)\n",
    "parser.add_argument('--sinkhorn-epsilon', type=float, default=3e-2)\n",
    "parser.add_argument('--sinkhorn-rounds', type=int, default=20)\n",
    "\n",
    "\n",
    "args = parser.parse_args(args=[])\n",
    "args"
   ]
  },
  {
   "cell_type": "code",
   "execution_count": 4,
   "metadata": {},
   "outputs": [],
   "source": [
    "torch.manual_seed(args.random_seed)\n",
    "np.random.seed(args.random_seed)\n",
    "\n",
    "item_ranges = ds.preset_valuation_range(args.n_agents, args.n_items, \"\")\n",
    "\n",
    "model = DoubleNet(\n",
    "    args.n_agents, args.n_items, item_ranges, args.sinkhorn_epsilon, args.sinkhorn_rounds, marginal_choice='unit'\n",
    ").to(device)\n",
    "\n",
    "train_data = ds.generate_dataset_nxk(args.n_agents, args.n_items, args.num_examples, item_ranges).to(device)\n",
    "train_loader = ds.Dataloader(train_data, batch_size=args.batch_size, shuffle=True)"
   ]
  },
  {
   "cell_type": "code",
   "execution_count": null,
   "metadata": {
    "scrolled": true
   },
   "outputs": [
    {
     "name": "stderr",
     "output_type": "stream",
     "text": [
      "  1%|          | 1/100 [01:04<1:45:49, 64.13s/it]"
     ]
    },
    {
     "name": "stdout",
     "output_type": "stream",
     "text": [
      "{'regret_max': 0.5195688009262085, 'regret_mean': 0.03104616515338421, 'regret_mults': tensor([[6.3817, 6.2232]], device='cuda:0'), 'payment': 0.784247875213623}\n"
     ]
    },
    {
     "name": "stderr",
     "output_type": "stream",
     "text": [
      "\r",
      "  2%|▏         | 2/100 [02:08<1:44:51, 64.20s/it]"
     ]
    },
    {
     "name": "stdout",
     "output_type": "stream",
     "text": [
      "{'regret_max': 0.1957651674747467, 'regret_mean': 0.014169297181069851, 'regret_mults': tensor([[7.7811, 7.7429]], device='cuda:0'), 'payment': 0.8334047794342041}\n"
     ]
    },
    {
     "name": "stderr",
     "output_type": "stream",
     "text": [
      "\r",
      "  3%|▎         | 3/100 [03:12<1:43:52, 64.25s/it]"
     ]
    },
    {
     "name": "stdout",
     "output_type": "stream",
     "text": [
      "{'regret_max': 0.12878981232643127, 'regret_mean': 0.009000031277537346, 'regret_mults': tensor([[9.4830, 9.1540]], device='cuda:0'), 'payment': 0.8588908910751343}\n"
     ]
    },
    {
     "name": "stderr",
     "output_type": "stream",
     "text": [
      "\r",
      "  4%|▍         | 4/100 [04:17<1:42:49, 64.26s/it]"
     ]
    },
    {
     "name": "stdout",
     "output_type": "stream",
     "text": [
      "{'regret_max': 0.10225439071655273, 'regret_mean': 0.006692627444863319, 'regret_mults': tensor([[12.4122, 12.2525]], device='cuda:0'), 'payment': 0.8555178642272949}\n"
     ]
    },
    {
     "name": "stderr",
     "output_type": "stream",
     "text": [
      "\r",
      "  5%|▌         | 5/100 [05:23<1:42:55, 65.01s/it]"
     ]
    },
    {
     "name": "stdout",
     "output_type": "stream",
     "text": [
      "{'regret_max': 0.07794976234436035, 'regret_mean': 0.005446628201752901, 'regret_mults': tensor([[13.8899, 13.6533]], device='cuda:0'), 'payment': 0.8592128157615662}\n"
     ]
    },
    {
     "name": "stderr",
     "output_type": "stream",
     "text": [
      "\r",
      "  6%|▌         | 6/100 [06:30<1:42:44, 65.57s/it]"
     ]
    },
    {
     "name": "stdout",
     "output_type": "stream",
     "text": [
      "{'regret_max': 0.07724721729755402, 'regret_mean': 0.004781264346092939, 'regret_mults': tensor([[15.5141, 15.1452]], device='cuda:0'), 'payment': 0.8626058101654053}\n"
     ]
    },
    {
     "name": "stderr",
     "output_type": "stream",
     "text": [
      "\r",
      "  7%|▋         | 7/100 [07:35<1:41:03, 65.20s/it]"
     ]
    },
    {
     "name": "stdout",
     "output_type": "stream",
     "text": [
      "{'regret_max': 0.07780063152313232, 'regret_mean': 0.004261253867298365, 'regret_mults': tensor([[17.2129, 16.8332]], device='cuda:0'), 'payment': 0.8625038266181946}\n"
     ]
    },
    {
     "name": "stderr",
     "output_type": "stream",
     "text": [
      "\r",
      "  8%|▊         | 8/100 [08:39<1:39:34, 64.94s/it]"
     ]
    },
    {
     "name": "stdout",
     "output_type": "stream",
     "text": [
      "{'regret_max': 0.07309512794017792, 'regret_mean': 0.00385151244699955, 'regret_mults': tensor([[20.5076, 21.5509]], device='cuda:0'), 'payment': 0.8590236902236938}\n"
     ]
    },
    {
     "name": "stderr",
     "output_type": "stream",
     "text": [
      "\r",
      "  9%|▉         | 9/100 [09:44<1:38:20, 64.84s/it]"
     ]
    },
    {
     "name": "stdout",
     "output_type": "stream",
     "text": [
      "{'regret_max': 0.06889358162879944, 'regret_mean': 0.003496947232633829, 'regret_mults': tensor([[22.7677, 23.0135]], device='cuda:0'), 'payment': 0.8552103638648987}\n"
     ]
    },
    {
     "name": "stderr",
     "output_type": "stream",
     "text": [
      "\r",
      " 10%|█         | 10/100 [10:48<1:37:03, 64.70s/it]"
     ]
    },
    {
     "name": "stdout",
     "output_type": "stream",
     "text": [
      "{'regret_max': 0.06490826606750488, 'regret_mean': 0.0030603588093072176, 'regret_mults': tensor([[24.4014, 24.6562]], device='cuda:0'), 'payment': 0.8533830642700195}\n"
     ]
    },
    {
     "name": "stderr",
     "output_type": "stream",
     "text": [
      "\r",
      " 11%|█         | 11/100 [11:52<1:35:47, 64.58s/it]"
     ]
    },
    {
     "name": "stdout",
     "output_type": "stream",
     "text": [
      "{'regret_max': 0.06257177889347076, 'regret_mean': 0.0028249318711459637, 'regret_mults': tensor([[27.9771, 28.2265]], device='cuda:0'), 'payment': 0.8502411246299744}\n"
     ]
    },
    {
     "name": "stderr",
     "output_type": "stream",
     "text": [
      "\r",
      " 12%|█▏        | 12/100 [12:57<1:34:35, 64.50s/it]"
     ]
    },
    {
     "name": "stdout",
     "output_type": "stream",
     "text": [
      "{'regret_max': 0.059538647532463074, 'regret_mean': 0.0026244772598147392, 'regret_mults': tensor([[30.6489, 29.7620]], device='cuda:0'), 'payment': 0.8466753959655762}\n"
     ]
    },
    {
     "name": "stderr",
     "output_type": "stream",
     "text": [
      "\r",
      " 13%|█▎        | 13/100 [14:01<1:33:28, 64.47s/it]"
     ]
    },
    {
     "name": "stdout",
     "output_type": "stream",
     "text": [
      "{'regret_max': 0.05538944900035858, 'regret_mean': 0.0023839790374040604, 'regret_mults': tensor([[32.4870, 31.3766]], device='cuda:0'), 'payment': 0.8439131379127502}\n"
     ]
    },
    {
     "name": "stderr",
     "output_type": "stream",
     "text": [
      "\r",
      " 14%|█▍        | 14/100 [15:05<1:32:23, 64.46s/it]"
     ]
    },
    {
     "name": "stdout",
     "output_type": "stream",
     "text": [
      "{'regret_max': 0.04980049282312393, 'regret_mean': 0.0022526790853589773, 'regret_mults': tensor([[34.1461, 33.2548]], device='cuda:0'), 'payment': 0.8409461975097656}\n"
     ]
    },
    {
     "name": "stderr",
     "output_type": "stream",
     "text": [
      "\r",
      " 15%|█▌        | 15/100 [16:10<1:31:16, 64.43s/it]"
     ]
    },
    {
     "name": "stdout",
     "output_type": "stream",
     "text": [
      "{'regret_max': 0.0453965961933136, 'regret_mean': 0.0022055150475353003, 'regret_mults': tensor([[38.7311, 37.0777]], device='cuda:0'), 'payment': 0.8373129367828369}\n"
     ]
    },
    {
     "name": "stderr",
     "output_type": "stream",
     "text": [
      "\r",
      " 16%|█▌        | 16/100 [17:14<1:30:08, 64.39s/it]"
     ]
    },
    {
     "name": "stdout",
     "output_type": "stream",
     "text": [
      "{'regret_max': 0.04260702431201935, 'regret_mean': 0.0018746936693787575, 'regret_mults': tensor([[40.4250, 38.7767]], device='cuda:0'), 'payment': 0.8354123830795288}\n"
     ]
    },
    {
     "name": "stderr",
     "output_type": "stream",
     "text": [
      "\r",
      " 17%|█▋        | 17/100 [18:18<1:29:03, 64.38s/it]"
     ]
    },
    {
     "name": "stdout",
     "output_type": "stream",
     "text": [
      "{'regret_max': 0.03914014250040054, 'regret_mean': 0.0018227825639769435, 'regret_mults': tensor([[42.0965, 40.4441]], device='cuda:0'), 'payment': 0.832970917224884}\n"
     ]
    },
    {
     "name": "stderr",
     "output_type": "stream",
     "text": [
      "\r",
      " 18%|█▊        | 18/100 [19:24<1:28:16, 64.60s/it]"
     ]
    },
    {
     "name": "stdout",
     "output_type": "stream",
     "text": [
      "{'regret_max': 0.04073996841907501, 'regret_mean': 0.0015920840669423342, 'regret_mults': tensor([[45.5092, 43.7457]], device='cuda:0'), 'payment': 0.8321415185928345}\n"
     ]
    },
    {
     "name": "stderr",
     "output_type": "stream",
     "text": [
      "\r",
      " 19%|█▉        | 19/100 [20:30<1:27:53, 65.11s/it]"
     ]
    },
    {
     "name": "stdout",
     "output_type": "stream",
     "text": [
      "{'regret_max': 0.036017537117004395, 'regret_mean': 0.0015516614075750113, 'regret_mults': tensor([[47.2326, 45.3912]], device='cuda:0'), 'payment': 0.8295046091079712}\n"
     ]
    },
    {
     "name": "stderr",
     "output_type": "stream",
     "text": [
      "\r",
      " 20%|██        | 20/100 [21:36<1:27:18, 65.48s/it]"
     ]
    },
    {
     "name": "stdout",
     "output_type": "stream",
     "text": [
      "{'regret_max': 0.03529500961303711, 'regret_mean': 0.0015581712359562516, 'regret_mults': tensor([[49.1307, 46.9053]], device='cuda:0'), 'payment': 0.8270809054374695}\n"
     ]
    },
    {
     "name": "stderr",
     "output_type": "stream",
     "text": [
      "\r",
      " 21%|██        | 21/100 [22:41<1:25:52, 65.22s/it]"
     ]
    },
    {
     "name": "stdout",
     "output_type": "stream",
     "text": [
      "{'regret_max': 0.030110225081443787, 'regret_mean': 0.0013961694203317165, 'regret_mults': tensor([[50.8098, 48.4364]], device='cuda:0'), 'payment': 0.826351523399353}\n"
     ]
    },
    {
     "name": "stderr",
     "output_type": "stream",
     "text": [
      "\r",
      " 22%|██▏       | 22/100 [23:45<1:24:15, 64.82s/it]"
     ]
    },
    {
     "name": "stdout",
     "output_type": "stream",
     "text": [
      "{'regret_max': 0.03143990784883499, 'regret_mean': 0.0013994488399475813, 'regret_mults': tensor([[54.4396, 53.7364]], device='cuda:0'), 'payment': 0.8245961666107178}\n"
     ]
    },
    {
     "name": "stderr",
     "output_type": "stream",
     "text": [
      "\r",
      " 23%|██▎       | 23/100 [24:49<1:22:49, 64.54s/it]"
     ]
    },
    {
     "name": "stdout",
     "output_type": "stream",
     "text": [
      "{'regret_max': 0.028058990836143494, 'regret_mean': 0.0010626472067087889, 'regret_mults': tensor([[56.0321, 55.1095]], device='cuda:0'), 'payment': 0.8255566954612732}\n"
     ]
    },
    {
     "name": "stderr",
     "output_type": "stream",
     "text": [
      "\r",
      " 24%|██▍       | 24/100 [25:52<1:21:30, 64.35s/it]"
     ]
    },
    {
     "name": "stdout",
     "output_type": "stream",
     "text": [
      "{'regret_max': 0.03274470567703247, 'regret_mean': 0.001370008452795446, 'regret_mults': tensor([[57.8018, 56.7292]], device='cuda:0'), 'payment': 0.8208229541778564}\n"
     ]
    },
    {
     "name": "stderr",
     "output_type": "stream",
     "text": [
      "\r",
      " 25%|██▌       | 25/100 [26:56<1:20:16, 64.21s/it]"
     ]
    },
    {
     "name": "stdout",
     "output_type": "stream",
     "text": [
      "{'regret_max': 0.025384485721588135, 'regret_mean': 0.0009316857904195786, 'regret_mults': tensor([[60.8154, 60.4110]], device='cuda:0'), 'payment': 0.8248052000999451}\n"
     ]
    },
    {
     "name": "stderr",
     "output_type": "stream",
     "text": [
      "\r",
      " 26%|██▌       | 26/100 [28:00<1:19:06, 64.14s/it]"
     ]
    },
    {
     "name": "stdout",
     "output_type": "stream",
     "text": [
      "{'regret_max': 0.03428441286087036, 'regret_mean': 0.001244185958057642, 'regret_mults': tensor([[62.3083, 61.7360]], device='cuda:0'), 'payment': 0.8194241523742676}\n"
     ]
    },
    {
     "name": "stderr",
     "output_type": "stream",
     "text": [
      "\r",
      " 27%|██▋       | 27/100 [29:04<1:17:56, 64.07s/it]"
     ]
    },
    {
     "name": "stdout",
     "output_type": "stream",
     "text": [
      "{'regret_max': 0.025803960859775543, 'regret_mean': 0.00113050383515656, 'regret_mults': tensor([[63.7419, 63.0577]], device='cuda:0'), 'payment': 0.8205777406692505}\n"
     ]
    },
    {
     "name": "stderr",
     "output_type": "stream",
     "text": [
      "\r",
      " 28%|██▊       | 28/100 [30:08<1:16:54, 64.09s/it]"
     ]
    },
    {
     "name": "stdout",
     "output_type": "stream",
     "text": [
      "{'regret_max': 0.023843854665756226, 'regret_mean': 0.0008047089795581996, 'regret_mults': tensor([[65.1111, 64.3504]], device='cuda:0'), 'payment': 0.8238348960876465}\n"
     ]
    },
    {
     "name": "stderr",
     "output_type": "stream",
     "text": [
      "\r",
      " 29%|██▉       | 29/100 [31:15<1:16:35, 64.73s/it]"
     ]
    },
    {
     "name": "stdout",
     "output_type": "stream",
     "text": [
      "{'regret_max': 0.024138152599334717, 'regret_mean': 0.0010505313985049725, 'regret_mults': tensor([[68.3605, 67.3792]], device='cuda:0'), 'payment': 0.8204905986785889}\n"
     ]
    },
    {
     "name": "stderr",
     "output_type": "stream",
     "text": [
      "\r",
      " 30%|███       | 30/100 [32:21<1:16:06, 65.24s/it]"
     ]
    },
    {
     "name": "stdout",
     "output_type": "stream",
     "text": [
      "{'regret_max': 0.02582205832004547, 'regret_mean': 0.0007266903994604945, 'regret_mults': tensor([[69.8293, 68.6724]], device='cuda:0'), 'payment': 0.8238950967788696}\n"
     ]
    },
    {
     "name": "stderr",
     "output_type": "stream",
     "text": [
      "\r",
      " 31%|███       | 31/100 [33:26<1:15:01, 65.24s/it]"
     ]
    },
    {
     "name": "stdout",
     "output_type": "stream",
     "text": [
      "{'regret_max': 0.024465411901474, 'regret_mean': 0.001087853917852044, 'regret_mults': tensor([[71.8993, 72.1142]], device='cuda:0'), 'payment': 0.8189836144447327}\n"
     ]
    },
    {
     "name": "stderr",
     "output_type": "stream",
     "text": [
      "\r",
      " 32%|███▏      | 32/100 [34:30<1:13:32, 64.89s/it]"
     ]
    },
    {
     "name": "stdout",
     "output_type": "stream",
     "text": [
      "{'regret_max': 0.024797670543193817, 'regret_mean': 0.0006545225623995066, 'regret_mults': tensor([[73.2423, 73.4811]], device='cuda:0'), 'payment': 0.8234707713127136}\n"
     ]
    },
    {
     "name": "stderr",
     "output_type": "stream",
     "text": [
      "\r",
      " 33%|███▎      | 33/100 [35:34<1:12:09, 64.61s/it]"
     ]
    },
    {
     "name": "stdout",
     "output_type": "stream",
     "text": [
      "{'regret_max': 0.028204798698425293, 'regret_mean': 0.0009434169624000788, 'regret_mults': tensor([[75.8813, 76.0556]], device='cuda:0'), 'payment': 0.8197243809700012}\n"
     ]
    }
   ],
   "source": [
    "%%time\n",
    "mean_rgt, mean_pay, lagr_mults = train_loop(model, train_loader, args, device=device)"
   ]
  },
  {
   "cell_type": "code",
   "execution_count": null,
   "metadata": {},
   "outputs": [],
   "source": [
    "dir_name = 'unit_2x3_0_1_experiment_data/'"
   ]
  },
  {
   "cell_type": "code",
   "execution_count": null,
   "metadata": {},
   "outputs": [],
   "source": [
    "%%time\n",
    "# model.sinkhorn_rounds = 100\n",
    "# model.sinkhorn_epsilon = 1e-2\n",
    "# test_data = ds.generate_dataset_nxk(args.n_agents, args.n_items, args.test_num_examples, item_ranges).to(device)\n",
    "test_data = torch.load(dir_name + 'test_data').to(device=device)\n",
    "cpu_test_data = test_data.clone().to(device='cpu')\n",
    "\n",
    "test_loader = ds.Dataloader(test_data, batch_size=args.test_batch_size, shuffle=True)\n",
    "\n",
    "result = test_loop(model, test_loader, args, device=device)\n",
    "result"
   ]
  },
  {
   "cell_type": "code",
   "execution_count": null,
   "metadata": {
    "scrolled": true
   },
   "outputs": [],
   "source": [
    "%%time\n",
    "args.test_num_examples = 1000\n",
    "args.test_batch_size = 1000\n",
    "args.test_misreport_iter = 1000\n",
    "args.misreport_lr = 1e-1\n",
    "model.sinkhorn_rounds = 20\n",
    "model.sinkhorn_epsilon = 3e-2\n",
    "\n",
    "random_starts = [test_data]\n",
    "for i in range(10):\n",
    "    random_starts.append(ds.generate_dataset_nxk(args.n_agents, args.n_items, args.test_num_examples, item_ranges).to(device))\n",
    "test_loader = ds.Dataloader(test_data, batch_size=args.test_batch_size, shuffle=True)\n",
    "\n",
    "result = test_loop_random_start(model, test_loader, args, random_starts, device=device)\n",
    "result"
   ]
  },
  {
   "cell_type": "code",
   "execution_count": null,
   "metadata": {},
   "outputs": [],
   "source": [
    "model.save(dir_name)"
   ]
  },
  {
   "cell_type": "code",
   "execution_count": null,
   "metadata": {},
   "outputs": [],
   "source": [
    "import cvxpy as cp\n",
    "import numpy as np\n",
    "from typing import NamedTuple\n",
    "from tqdm.notebook import tqdm"
   ]
  },
  {
   "cell_type": "code",
   "execution_count": null,
   "metadata": {},
   "outputs": [],
   "source": [
    "class AuctionResult(NamedTuple):\n",
    "    alloc: np.ndarray\n",
    "    welfare: np.ndarray\n",
    "    payment: np.ndarray"
   ]
  },
  {
   "cell_type": "code",
   "execution_count": null,
   "metadata": {},
   "outputs": [],
   "source": [
    "def max_welfare_alloc(bids_mat, k, exact_demand=False):\n",
    "    # returns allocation, util of allocation\n",
    "\n",
    "    num_agents = bids_mat.shape[0]\n",
    "    num_items = bids_mat.shape[1]\n",
    "    alloc_matrix = cp.Variable((num_agents, num_items), nonneg=True)\n",
    "    item_supply_constraints = cp.sum(alloc_matrix, axis=0) <= 1\n",
    "    if exact_demand:\n",
    "        agent_demand_constraints = cp.sum(alloc_matrix, axis=1) == k\n",
    "    else:\n",
    "        agent_demand_constraints = cp.sum(alloc_matrix, axis=1) <= k\n",
    "    welfare = cp.sum((cp.multiply(bids_mat, alloc_matrix)))\n",
    "    problem = cp.Problem(cp.Maximize(welfare), [item_supply_constraints, agent_demand_constraints])\n",
    "    problem.solve()\n",
    "    return (alloc_matrix.value, problem.value)"
   ]
  },
  {
   "cell_type": "code",
   "execution_count": null,
   "metadata": {},
   "outputs": [],
   "source": [
    "def vcg_auction(bids_mat, k, exact_demand=False):\n",
    "    main_alloc, max_welfare_total_util = max_welfare_alloc(bids_mat, k, exact_demand=exact_demand)\n",
    "    payments = np.zeros(bids_mat.shape[0])\n",
    "    player_utils = (bids_mat * main_alloc).sum(axis=1)\n",
    "    num_agents = bids_mat.shape[0]\n",
    "    for i in range(num_agents):\n",
    "        dropped_bid_mat = np.delete(bids_mat, (i), axis=0)\n",
    "        dropped_player_utils = np.delete(player_utils, (i), axis=0) # player utils under full auction\n",
    "        new_alloc, new_total_util = max_welfare_alloc(dropped_bid_mat, k, exact_demand=exact_demand)\n",
    "        new_agent_utils = (new_alloc*dropped_bid_mat).sum(axis=1) # player utils without agent i's bid\n",
    "        payments[i] = (new_agent_utils - dropped_player_utils).sum() \n",
    "    return AuctionResult(main_alloc, player_utils, payments)"
   ]
  },
  {
   "cell_type": "code",
   "execution_count": null,
   "metadata": {},
   "outputs": [],
   "source": [
    "payments = []\n",
    "for i in range(test_data.shape[0]):\n",
    "    payments.append(vcg_auction(cpu_test_data[i].cpu().numpy(), 1, exact_demand=False).payment.sum())"
   ]
  },
  {
   "cell_type": "code",
   "execution_count": null,
   "metadata": {},
   "outputs": [],
   "source": [
    "np.mean(payments)"
   ]
  },
  {
   "cell_type": "code",
   "execution_count": null,
   "metadata": {},
   "outputs": [],
   "source": [
    "import pickle\n",
    "to_pkl_lst = [mean_rgt, mean_pay, lagr_mults]\n",
    "for i, fname in enumerate(['mean_rgt', 'mean_pay', 'lagr_mults']):\n",
    "    with open(dir_name + fname, 'wb') as fp:\n",
    "        pickle.dump(to_pkl_lst[i], fp)"
   ]
  }
 ],
 "metadata": {
  "kernelspec": {
   "display_name": "Python 3",
   "language": "python",
   "name": "python3"
  },
  "language_info": {
   "codemirror_mode": {
    "name": "ipython",
    "version": 3
   },
   "file_extension": ".py",
   "mimetype": "text/x-python",
   "name": "python",
   "nbconvert_exporter": "python",
   "pygments_lexer": "ipython3",
   "version": "3.7.4"
  }
 },
 "nbformat": 4,
 "nbformat_minor": 2
}
