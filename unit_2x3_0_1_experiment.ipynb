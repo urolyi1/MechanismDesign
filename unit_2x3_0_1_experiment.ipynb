{
 "cells": [
  {
   "cell_type": "code",
   "execution_count": 1,
   "metadata": {},
   "outputs": [],
   "source": [
    "import torch\n",
    "from torch import nn, optim\n",
    "import torch.nn.functional as F\n",
    "import numpy as np\n",
    "from argparse import ArgumentParser\n",
    "from double_net.double_net import DoubleNet, train_loop, train_loop_no_lagrange, test_loop, test_loop_random_start\n",
    "from double_net import datasets as ds\n",
    "import time\n",
    "import double_net.plot_utils as pu\n",
    "import importlib\n",
    "import matplotlib.pyplot as plt"
   ]
  },
  {
   "cell_type": "code",
   "execution_count": 2,
   "metadata": {},
   "outputs": [],
   "source": [
    "if torch.cuda.is_available():\n",
    "    device = 'cuda'\n",
    "else:\n",
    "    device = 'cpu'"
   ]
  },
  {
   "cell_type": "code",
   "execution_count": 3,
   "metadata": {},
   "outputs": [
    {
     "data": {
      "text/plain": [
       "Namespace(batch_size=4096, lagr_update_iter=100, misreport_iter=25, misreport_lr=0.1, model_lr=0.001, n_agents=2, n_items=3, num_epochs=100, num_examples=524288, random_seed=0, rgt_start=0, rho=1, rho_incr_amount=1.0, rho_incr_iter=2, sinkhorn_epsilon=0.03, sinkhorn_rounds=20, test_batch_size=1000, test_iter=5, test_misreport_iter=1000, test_num_examples=1000)"
      ]
     },
     "execution_count": 3,
     "metadata": {},
     "output_type": "execute_result"
    }
   ],
   "source": [
    "parser = ArgumentParser()\n",
    "parser.add_argument('--random-seed', type=int, default=0)\n",
    "parser.add_argument('--num-examples', type=int, default=131072 * 4)\n",
    "parser.add_argument('--test-num-examples', type=int, default=1000)\n",
    "parser.add_argument('--test-iter', type=int, default=5)\n",
    "parser.add_argument('--n-agents', type=int, default=2)\n",
    "parser.add_argument('--n-items', type=int, default=3)\n",
    "parser.add_argument('--num-epochs', type=int, default=100)\n",
    "parser.add_argument('--batch-size', type=int, default=128 * 32)\n",
    "parser.add_argument('--test-batch-size', type=int, default=1000)\n",
    "parser.add_argument('--model-lr', type=float, default=1e-3)\n",
    "parser.add_argument('--misreport-lr', type=float, default=1e-1)\n",
    "parser.add_argument('--misreport-iter', type=int, default=25)\n",
    "parser.add_argument('--test-misreport-iter', type=int, default=1000)\n",
    "parser.add_argument('--rho', type=float, default=1)\n",
    "parser.add_argument('--rho-incr-iter', type=int, default=2)\n",
    "parser.add_argument('--rho-incr-amount', type=float, default=1.0)\n",
    "parser.add_argument('--lagr-update-iter', type=int, default=100)\n",
    "parser.add_argument('--rgt-start', type=int, default=0)\n",
    "parser.add_argument('--sinkhorn-epsilon', type=float, default=3e-2)\n",
    "parser.add_argument('--sinkhorn-rounds', type=int, default=20)\n",
    "\n",
    "\n",
    "args = parser.parse_args(args=[])\n",
    "args"
   ]
  },
  {
   "cell_type": "code",
   "execution_count": 4,
   "metadata": {},
   "outputs": [],
   "source": [
    "torch.manual_seed(args.random_seed)\n",
    "np.random.seed(args.random_seed)\n",
    "\n",
    "item_ranges = ds.preset_valuation_range(args.n_agents, args.n_items, \"\")\n",
    "\n",
    "model = DoubleNet(\n",
    "    args.n_agents, args.n_items, item_ranges, args.sinkhorn_epsilon, args.sinkhorn_rounds, marginal_choice='unit'\n",
    ").to(device)\n",
    "\n",
    "train_data = ds.generate_dataset_nxk(args.n_agents, args.n_items, args.num_examples, item_ranges).to(device)\n",
    "train_loader = ds.Dataloader(train_data, batch_size=args.batch_size, shuffle=True)"
   ]
  },
  {
   "cell_type": "code",
   "execution_count": 5,
   "metadata": {
    "scrolled": true
   },
   "outputs": [
    {
     "name": "stderr",
     "output_type": "stream",
     "text": [
      "  1%|          | 1/100 [00:57<1:35:21, 57.80s/it]"
     ]
    },
    {
     "name": "stdout",
     "output_type": "stream",
     "text": [
      "{'regret_max': 0.5125516057014465, 'regret_mean': 0.026512857526540756, 'regret_mults': tensor([[6.2125, 6.0279]], device='cuda:0'), 'payment': 0.7788999080657959}\n"
     ]
    },
    {
     "name": "stderr",
     "output_type": "stream",
     "text": [
      "\r",
      "  2%|▏         | 2/100 [01:55<1:34:20, 57.76s/it]"
     ]
    },
    {
     "name": "stdout",
     "output_type": "stream",
     "text": [
      "{'regret_max': 0.17288607358932495, 'regret_mean': 0.013298610225319862, 'regret_mults': tensor([[7.5506, 7.2185]], device='cuda:0'), 'payment': 0.8282417058944702}\n"
     ]
    },
    {
     "name": "stderr",
     "output_type": "stream",
     "text": [
      "\r",
      "  3%|▎         | 3/100 [02:52<1:33:14, 57.67s/it]"
     ]
    },
    {
     "name": "stdout",
     "output_type": "stream",
     "text": [
      "{'regret_max': 0.13475778698921204, 'regret_mean': 0.008366769179701805, 'regret_mults': tensor([[8.7965, 9.1830]], device='cuda:0'), 'payment': 0.8495275974273682}\n"
     ]
    },
    {
     "name": "stderr",
     "output_type": "stream",
     "text": [
      "\r",
      "  4%|▍         | 4/100 [03:50<1:32:15, 57.66s/it]"
     ]
    },
    {
     "name": "stdout",
     "output_type": "stream",
     "text": [
      "{'regret_max': 0.10663539171218872, 'regret_mean': 0.006308063864707947, 'regret_mults': tensor([[11.3157, 11.7811]], device='cuda:0'), 'payment': 0.8603929281234741}\n"
     ]
    },
    {
     "name": "stderr",
     "output_type": "stream",
     "text": [
      "\r",
      "  5%|▌         | 5/100 [04:48<1:31:13, 57.61s/it]"
     ]
    },
    {
     "name": "stdout",
     "output_type": "stream",
     "text": [
      "{'regret_max': 0.048915207386016846, 'regret_mean': 0.004835614934563637, 'regret_mults': tensor([[12.6199, 13.1613]], device='cuda:0'), 'payment': 0.8740391731262207}\n"
     ]
    },
    {
     "name": "stderr",
     "output_type": "stream",
     "text": [
      "\r",
      "  6%|▌         | 6/100 [05:45<1:30:12, 57.58s/it]"
     ]
    },
    {
     "name": "stdout",
     "output_type": "stream",
     "text": [
      "{'regret_max': 0.03495514392852783, 'regret_mean': 0.004035979509353638, 'regret_mults': tensor([[13.8999, 14.2518]], device='cuda:0'), 'payment': 0.8776490688323975}\n"
     ]
    },
    {
     "name": "stderr",
     "output_type": "stream",
     "text": [
      "\r",
      "  7%|▋         | 7/100 [06:46<1:30:47, 58.57s/it]"
     ]
    },
    {
     "name": "stdout",
     "output_type": "stream",
     "text": [
      "{'regret_max': 0.034036993980407715, 'regret_mean': 0.0035213453229516745, 'regret_mults': tensor([[15.3893, 15.8766]], device='cuda:0'), 'payment': 0.8796308040618896}\n"
     ]
    },
    {
     "name": "stderr",
     "output_type": "stream",
     "text": [
      "\r",
      "  8%|▊         | 8/100 [07:47<1:30:54, 59.28s/it]"
     ]
    },
    {
     "name": "stdout",
     "output_type": "stream",
     "text": [
      "{'regret_max': 0.03475692868232727, 'regret_mean': 0.0030838025268167257, 'regret_mults': tensor([[18.3414, 19.1541]], device='cuda:0'), 'payment': 0.880233645439148}\n"
     ]
    },
    {
     "name": "stderr",
     "output_type": "stream",
     "text": [
      "\r",
      "  9%|▉         | 9/100 [08:48<1:30:41, 59.79s/it]"
     ]
    },
    {
     "name": "stdout",
     "output_type": "stream",
     "text": [
      "{'regret_max': 0.03307318687438965, 'regret_mean': 0.0028046686202287674, 'regret_mults': tensor([[19.8134, 20.4989]], device='cuda:0'), 'payment': 0.8810452818870544}\n"
     ]
    },
    {
     "name": "stderr",
     "output_type": "stream",
     "text": [
      "\r",
      " 10%|█         | 10/100 [09:46<1:29:06, 59.41s/it]"
     ]
    },
    {
     "name": "stdout",
     "output_type": "stream",
     "text": [
      "{'regret_max': 0.03599882125854492, 'regret_mean': 0.002620150800794363, 'regret_mults': tensor([[21.4672, 22.8026]], device='cuda:0'), 'payment': 0.8802294731140137}\n"
     ]
    },
    {
     "name": "stderr",
     "output_type": "stream",
     "text": [
      "\r",
      " 11%|█         | 11/100 [10:48<1:28:57, 59.97s/it]"
     ]
    },
    {
     "name": "stdout",
     "output_type": "stream",
     "text": [
      "{'regret_max': 0.032664716243743896, 'regret_mean': 0.0024042041040956974, 'regret_mults': tensor([[24.5849, 25.5410]], device='cuda:0'), 'payment': 0.8790416717529297}\n"
     ]
    },
    {
     "name": "stderr",
     "output_type": "stream",
     "text": [
      "\r",
      " 12%|█▏        | 12/100 [11:49<1:28:25, 60.29s/it]"
     ]
    },
    {
     "name": "stdout",
     "output_type": "stream",
     "text": [
      "{'regret_max': 0.02889806032180786, 'regret_mean': 0.002281389432027936, 'regret_mults': tensor([[26.2201, 27.1855]], device='cuda:0'), 'payment': 0.8770518898963928}\n"
     ]
    },
    {
     "name": "stderr",
     "output_type": "stream",
     "text": [
      "\r",
      " 13%|█▎        | 13/100 [12:50<1:27:50, 60.58s/it]"
     ]
    },
    {
     "name": "stdout",
     "output_type": "stream",
     "text": [
      "{'regret_max': 0.024892032146453857, 'regret_mean': 0.0018762222025543451, 'regret_mults': tensor([[27.7554, 28.5624]], device='cuda:0'), 'payment': 0.8777254223823547}\n"
     ]
    },
    {
     "name": "stderr",
     "output_type": "stream",
     "text": [
      "\r",
      " 14%|█▍        | 14/100 [13:51<1:26:51, 60.60s/it]"
     ]
    },
    {
     "name": "stdout",
     "output_type": "stream",
     "text": [
      "{'regret_max': 0.03009021282196045, 'regret_mean': 0.0021157003939151764, 'regret_mults': tensor([[29.3530, 29.9901]], device='cuda:0'), 'payment': 0.8735082745552063}\n"
     ]
    },
    {
     "name": "stderr",
     "output_type": "stream",
     "text": [
      "\r",
      " 15%|█▌        | 15/100 [14:51<1:25:54, 60.64s/it]"
     ]
    },
    {
     "name": "stdout",
     "output_type": "stream",
     "text": [
      "{'regret_max': 0.02480393648147583, 'regret_mean': 0.001609863480553031, 'regret_mults': tensor([[32.2702, 32.9294]], device='cuda:0'), 'payment': 0.8754366636276245}\n"
     ]
    },
    {
     "name": "stderr",
     "output_type": "stream",
     "text": [
      "\r",
      " 16%|█▌        | 16/100 [15:52<1:24:59, 60.71s/it]"
     ]
    },
    {
     "name": "stdout",
     "output_type": "stream",
     "text": [
      "{'regret_max': 0.02509385347366333, 'regret_mean': 0.0017446910496801138, 'regret_mults': tensor([[33.7775, 34.3734]], device='cuda:0'), 'payment': 0.8721027970314026}\n"
     ]
    },
    {
     "name": "stderr",
     "output_type": "stream",
     "text": [
      "\r",
      " 17%|█▋        | 17/100 [16:54<1:24:23, 61.01s/it]"
     ]
    },
    {
     "name": "stdout",
     "output_type": "stream",
     "text": [
      "{'regret_max': 0.0226934552192688, 'regret_mean': 0.0015115333953872323, 'regret_mults': tensor([[35.1499, 35.7096]], device='cuda:0'), 'payment': 0.8723849654197693}\n"
     ]
    },
    {
     "name": "stderr",
     "output_type": "stream",
     "text": [
      "\r",
      " 18%|█▊        | 18/100 [17:59<1:24:52, 62.11s/it]"
     ]
    },
    {
     "name": "stdout",
     "output_type": "stream",
     "text": [
      "{'regret_max': 0.03198432922363281, 'regret_mean': 0.0016821734607219696, 'regret_mults': tensor([[38.1892, 38.6565]], device='cuda:0'), 'payment': 0.8691937923431396}\n"
     ]
    },
    {
     "name": "stderr",
     "output_type": "stream",
     "text": [
      "\r",
      " 19%|█▉        | 19/100 [19:03<1:24:41, 62.73s/it]"
     ]
    },
    {
     "name": "stdout",
     "output_type": "stream",
     "text": [
      "{'regret_max': 0.020463943481445312, 'regret_mean': 0.0012541516916826367, 'regret_mults': tensor([[39.6757, 40.0504]], device='cuda:0'), 'payment': 0.8711208701133728}\n"
     ]
    },
    {
     "name": "stderr",
     "output_type": "stream",
     "text": [
      "\r",
      " 20%|██        | 20/100 [20:07<1:24:24, 63.31s/it]"
     ]
    },
    {
     "name": "stdout",
     "output_type": "stream",
     "text": [
      "{'regret_max': 0.024345219135284424, 'regret_mean': 0.0014696191065013409, 'regret_mults': tensor([[41.1990, 41.3834]], device='cuda:0'), 'payment': 0.867249071598053}\n"
     ]
    },
    {
     "name": "stderr",
     "output_type": "stream",
     "text": [
      "\r",
      " 21%|██        | 21/100 [21:12<1:24:01, 63.82s/it]"
     ]
    },
    {
     "name": "stdout",
     "output_type": "stream",
     "text": [
      "{'regret_max': 0.017693400382995605, 'regret_mean': 0.0011824383400380611, 'regret_mults': tensor([[42.8438, 42.9947]], device='cuda:0'), 'payment': 0.8684952259063721}\n"
     ]
    },
    {
     "name": "stderr",
     "output_type": "stream",
     "text": [
      "\r",
      " 22%|██▏       | 22/100 [22:17<1:23:25, 64.17s/it]"
     ]
    },
    {
     "name": "stdout",
     "output_type": "stream",
     "text": [
      "{'regret_max': 0.018092036247253418, 'regret_mean': 0.0011528353206813335, 'regret_mults': tensor([[45.8926, 45.9124]], device='cuda:0'), 'payment': 0.8672326803207397}\n"
     ]
    },
    {
     "name": "stderr",
     "output_type": "stream",
     "text": [
      "\r",
      " 23%|██▎       | 23/100 [23:23<1:22:51, 64.56s/it]"
     ]
    },
    {
     "name": "stdout",
     "output_type": "stream",
     "text": [
      "{'regret_max': 0.022778749465942383, 'regret_mean': 0.0011801456566900015, 'regret_mults': tensor([[47.3885, 47.2321]], device='cuda:0'), 'payment': 0.8652074933052063}\n"
     ]
    },
    {
     "name": "stderr",
     "output_type": "stream",
     "text": [
      "\r",
      " 24%|██▍       | 24/100 [24:28<1:22:01, 64.75s/it]"
     ]
    },
    {
     "name": "stdout",
     "output_type": "stream",
     "text": [
      "{'regret_max': 0.032926738262176514, 'regret_mean': 0.0014107035240158439, 'regret_mults': tensor([[49.2620, 50.9317]], device='cuda:0'), 'payment': 0.8614820241928101}\n"
     ]
    },
    {
     "name": "stderr",
     "output_type": "stream",
     "text": [
      "\r",
      " 25%|██▌       | 25/100 [25:34<1:21:10, 64.95s/it]"
     ]
    },
    {
     "name": "stdout",
     "output_type": "stream",
     "text": [
      "{'regret_max': 0.014156222343444824, 'regret_mean': 0.000847131188493222, 'regret_mults': tensor([[52.0566, 53.5837]], device='cuda:0'), 'payment': 0.8655275106430054}\n"
     ]
    },
    {
     "name": "stderr",
     "output_type": "stream",
     "text": [
      "\r",
      " 26%|██▌       | 26/100 [26:39<1:20:19, 65.12s/it]"
     ]
    },
    {
     "name": "stdout",
     "output_type": "stream",
     "text": [
      "{'regret_max': 0.01590210199356079, 'regret_mean': 0.0009706451091915369, 'regret_mults': tensor([[53.7336, 54.8417]], device='cuda:0'), 'payment': 0.8632647395133972}\n"
     ]
    },
    {
     "name": "stderr",
     "output_type": "stream",
     "text": [
      "\r",
      " 27%|██▋       | 27/100 [27:44<1:19:06, 65.02s/it]"
     ]
    },
    {
     "name": "stdout",
     "output_type": "stream",
     "text": [
      "{'regret_max': 0.03246575593948364, 'regret_mean': 0.0011493684723973274, 'regret_mults': tensor([[55.0117, 56.1050]], device='cuda:0'), 'payment': 0.8599497079849243}\n"
     ]
    },
    {
     "name": "stderr",
     "output_type": "stream",
     "text": [
      "\r",
      " 28%|██▊       | 28/100 [28:49<1:18:05, 65.08s/it]"
     ]
    },
    {
     "name": "stdout",
     "output_type": "stream",
     "text": [
      "{'regret_max': 0.013137638568878174, 'regret_mean': 0.0007561806705780327, 'regret_mults': tensor([[56.4007, 57.2634]], device='cuda:0'), 'payment': 0.8628348708152771}\n"
     ]
    },
    {
     "name": "stderr",
     "output_type": "stream",
     "text": [
      "\r",
      " 29%|██▉       | 29/100 [29:54<1:17:08, 65.18s/it]"
     ]
    },
    {
     "name": "stdout",
     "output_type": "stream",
     "text": [
      "{'regret_max': 0.016034364700317383, 'regret_mean': 0.0008215155685320497, 'regret_mults': tensor([[58.8763, 59.6014]], device='cuda:0'), 'payment': 0.8617346286773682}\n"
     ]
    },
    {
     "name": "stderr",
     "output_type": "stream",
     "text": [
      "\r",
      " 30%|███       | 30/100 [30:59<1:15:54, 65.07s/it]"
     ]
    },
    {
     "name": "stdout",
     "output_type": "stream",
     "text": [
      "{'regret_max': 0.012630373239517212, 'regret_mean': 0.000755601970013231, 'regret_mults': tensor([[60.2054, 60.9181]], device='cuda:0'), 'payment': 0.8616365194320679}\n"
     ]
    },
    {
     "name": "stderr",
     "output_type": "stream",
     "text": [
      "\r",
      " 31%|███       | 31/100 [32:04<1:14:48, 65.05s/it]"
     ]
    },
    {
     "name": "stdout",
     "output_type": "stream",
     "text": [
      "{'regret_max': 0.023759305477142334, 'regret_mean': 0.0009660141076892614, 'regret_mults': tensor([[61.9152, 62.1656]], device='cuda:0'), 'payment': 0.85797119140625}\n"
     ]
    },
    {
     "name": "stderr",
     "output_type": "stream",
     "text": [
      "\r",
      " 32%|███▏      | 32/100 [33:10<1:13:46, 65.10s/it]"
     ]
    },
    {
     "name": "stdout",
     "output_type": "stream",
     "text": [
      "{'regret_max': 0.014480233192443848, 'regret_mean': 0.0007113647880032659, 'regret_mults': tensor([[63.1486, 63.6088]], device='cuda:0'), 'payment': 0.8602204322814941}\n"
     ]
    },
    {
     "name": "stderr",
     "output_type": "stream",
     "text": [
      "\r",
      " 33%|███▎      | 33/100 [34:15<1:12:43, 65.13s/it]"
     ]
    },
    {
     "name": "stdout",
     "output_type": "stream",
     "text": [
      "{'regret_max': 0.020615100860595703, 'regret_mean': 0.00080629822332412, 'regret_mults': tensor([[65.6166, 66.2455]], device='cuda:0'), 'payment': 0.8590397834777832}\n"
     ]
    },
    {
     "name": "stderr",
     "output_type": "stream",
     "text": [
      "\r",
      " 34%|███▍      | 34/100 [35:20<1:11:39, 65.14s/it]"
     ]
    },
    {
     "name": "stdout",
     "output_type": "stream",
     "text": [
      "{'regret_max': 0.01715266704559326, 'regret_mean': 0.0006536177825182676, 'regret_mults': tensor([[66.8022, 67.3521]], device='cuda:0'), 'payment': 0.8584866523742676}\n"
     ]
    },
    {
     "name": "stderr",
     "output_type": "stream",
     "text": [
      "\r",
      " 35%|███▌      | 35/100 [36:25<1:10:37, 65.20s/it]"
     ]
    },
    {
     "name": "stdout",
     "output_type": "stream",
     "text": [
      "{'regret_max': 0.019696712493896484, 'regret_mean': 0.0007151850732043386, 'regret_mults': tensor([[68.0564, 68.6635]], device='cuda:0'), 'payment': 0.8584622740745544}\n"
     ]
    },
    {
     "name": "stderr",
     "output_type": "stream",
     "text": [
      "\r",
      " 36%|███▌      | 36/100 [37:30<1:09:32, 65.20s/it]"
     ]
    },
    {
     "name": "stdout",
     "output_type": "stream",
     "text": [
      "{'regret_max': 0.013521730899810791, 'regret_mean': 0.0005837795906700194, 'regret_mults': tensor([[70.9382, 71.5850]], device='cuda:0'), 'payment': 0.858367919921875}\n"
     ]
    },
    {
     "name": "stderr",
     "output_type": "stream",
     "text": [
      "\r",
      " 37%|███▋      | 37/100 [38:36<1:08:28, 65.21s/it]"
     ]
    },
    {
     "name": "stdout",
     "output_type": "stream",
     "text": [
      "{'regret_max': 0.028250813484191895, 'regret_mean': 0.000902482308447361, 'regret_mults': tensor([[72.4348, 73.2172]], device='cuda:0'), 'payment': 0.8535865545272827}\n"
     ]
    },
    {
     "name": "stderr",
     "output_type": "stream",
     "text": [
      "\r",
      " 38%|███▊      | 38/100 [39:41<1:07:26, 65.26s/it]"
     ]
    },
    {
     "name": "stdout",
     "output_type": "stream",
     "text": [
      "{'regret_max': 0.012167215347290039, 'regret_mean': 0.0004795849381480366, 'regret_mults': tensor([[73.6474, 74.2062]], device='cuda:0'), 'payment': 0.858970046043396}\n"
     ]
    },
    {
     "name": "stderr",
     "output_type": "stream",
     "text": [
      "\r",
      " 39%|███▉      | 39/100 [40:46<1:06:20, 65.25s/it]"
     ]
    },
    {
     "name": "stdout",
     "output_type": "stream",
     "text": [
      "{'regret_max': 0.026371777057647705, 'regret_mean': 0.0006790540064685047, 'regret_mults': tensor([[74.9703, 75.4592]], device='cuda:0'), 'payment': 0.8554935455322266}\n"
     ]
    },
    {
     "name": "stderr",
     "output_type": "stream",
     "text": [
      "\r",
      " 40%|████      | 40/100 [41:51<1:04:58, 64.97s/it]"
     ]
    },
    {
     "name": "stdout",
     "output_type": "stream",
     "text": [
      "{'regret_max': 0.013600707054138184, 'regret_mean': 0.00045604960178025067, 'regret_mults': tensor([[77.2092, 77.7469]], device='cuda:0'), 'payment': 0.8580761551856995}\n"
     ]
    },
    {
     "name": "stderr",
     "output_type": "stream",
     "text": [
      "\r",
      " 41%|████      | 41/100 [42:52<1:02:50, 63.91s/it]"
     ]
    },
    {
     "name": "stdout",
     "output_type": "stream",
     "text": [
      "{'regret_max': 0.018961846828460693, 'regret_mean': 0.0006420542486011982, 'regret_mults': tensor([[78.5359, 79.0017]], device='cuda:0'), 'payment': 0.855037271976471}\n"
     ]
    },
    {
     "name": "stderr",
     "output_type": "stream",
     "text": [
      "\r",
      " 42%|████▏     | 42/100 [43:54<1:01:19, 63.43s/it]"
     ]
    },
    {
     "name": "stdout",
     "output_type": "stream",
     "text": [
      "{'regret_max': 0.02667766809463501, 'regret_mean': 0.0007696724496781826, 'regret_mults': tensor([[79.7537, 80.1556]], device='cuda:0'), 'payment': 0.8523833155632019}\n"
     ]
    },
    {
     "name": "stderr",
     "output_type": "stream",
     "text": [
      "\r",
      " 43%|████▎     | 43/100 [44:57<1:00:05, 63.25s/it]"
     ]
    },
    {
     "name": "stdout",
     "output_type": "stream",
     "text": [
      "{'regret_max': 0.012857675552368164, 'regret_mean': 0.0004270162316970527, 'regret_mults': tensor([[81.9105, 82.4287]], device='cuda:0'), 'payment': 0.8569566011428833}\n"
     ]
    },
    {
     "name": "stderr",
     "output_type": "stream",
     "text": [
      "\r",
      " 44%|████▍     | 44/100 [45:59<58:36, 62.79s/it]  "
     ]
    },
    {
     "name": "stdout",
     "output_type": "stream",
     "text": [
      "{'regret_max': 0.020142972469329834, 'regret_mean': 0.0005326643004082143, 'regret_mults': tensor([[83.1331, 83.4419]], device='cuda:0'), 'payment': 0.8559331297874451}\n"
     ]
    },
    {
     "name": "stderr",
     "output_type": "stream",
     "text": [
      "\r",
      " 45%|████▌     | 45/100 [47:01<57:17, 62.49s/it]"
     ]
    },
    {
     "name": "stdout",
     "output_type": "stream",
     "text": [
      "{'regret_max': 0.020655333995819092, 'regret_mean': 0.0005654147826135159, 'regret_mults': tensor([[84.2127, 84.4643]], device='cuda:0'), 'payment': 0.8543519377708435}\n"
     ]
    },
    {
     "name": "stderr",
     "output_type": "stream",
     "text": [
      "\r",
      " 46%|████▌     | 46/100 [48:03<56:04, 62.31s/it]"
     ]
    },
    {
     "name": "stdout",
     "output_type": "stream",
     "text": [
      "{'regret_max': 0.018123626708984375, 'regret_mean': 0.0005161775043234229, 'regret_mults': tensor([[85.4123, 85.7568]], device='cuda:0'), 'payment': 0.8534558415412903}\n"
     ]
    },
    {
     "name": "stderr",
     "output_type": "stream",
     "text": [
      "\r",
      " 47%|████▋     | 47/100 [49:05<54:59, 62.25s/it]"
     ]
    },
    {
     "name": "stdout",
     "output_type": "stream",
     "text": [
      "{'regret_max': 0.010118186473846436, 'regret_mean': 0.00036924422602169216, 'regret_mults': tensor([[87.4339, 87.7519]], device='cuda:0'), 'payment': 0.8570258617401123}\n"
     ]
    },
    {
     "name": "stderr",
     "output_type": "stream",
     "text": [
      "\r",
      " 48%|████▊     | 48/100 [50:06<53:45, 62.03s/it]"
     ]
    },
    {
     "name": "stdout",
     "output_type": "stream",
     "text": [
      "{'regret_max': 0.012753546237945557, 'regret_mean': 0.0004279722343198955, 'regret_mults': tensor([[88.5945, 88.8036]], device='cuda:0'), 'payment': 0.8555071353912354}\n"
     ]
    },
    {
     "name": "stderr",
     "output_type": "stream",
     "text": [
      "\r",
      " 49%|████▉     | 49/100 [51:08<52:38, 61.93s/it]"
     ]
    },
    {
     "name": "stdout",
     "output_type": "stream",
     "text": [
      "{'regret_max': 0.018747389316558838, 'regret_mean': 0.0005640489980578423, 'regret_mults': tensor([[89.7145, 89.7936]], device='cuda:0'), 'payment': 0.8537326455116272}\n"
     ]
    },
    {
     "name": "stderr",
     "output_type": "stream",
     "text": [
      "\r",
      " 50%|█████     | 50/100 [52:09<51:30, 61.82s/it]"
     ]
    },
    {
     "name": "stdout",
     "output_type": "stream",
     "text": [
      "{'regret_max': 0.018184959888458252, 'regret_mean': 0.0005164842586964369, 'regret_mults': tensor([[93.0517, 92.2087]], device='cuda:0'), 'payment': 0.8521764278411865}\n"
     ]
    },
    {
     "name": "stderr",
     "output_type": "stream",
     "text": [
      "\r",
      " 51%|█████     | 51/100 [53:11<50:23, 61.70s/it]"
     ]
    },
    {
     "name": "stdout",
     "output_type": "stream",
     "text": [
      "{'regret_max': 0.009905517101287842, 'regret_mean': 0.0003084834897890687, 'regret_mults': tensor([[94.0370, 93.2275]], device='cuda:0'), 'payment': 0.8568595051765442}\n"
     ]
    },
    {
     "name": "stderr",
     "output_type": "stream",
     "text": [
      "\r",
      " 52%|█████▏    | 52/100 [54:12<49:16, 61.60s/it]"
     ]
    },
    {
     "name": "stdout",
     "output_type": "stream",
     "text": [
      "{'regret_max': 0.018517911434173584, 'regret_mean': 0.0005822408711537719, 'regret_mults': tensor([[95.0452, 94.2242]], device='cuda:0'), 'payment': 0.8516702651977539}\n"
     ]
    },
    {
     "name": "stderr",
     "output_type": "stream",
     "text": [
      "\r",
      " 53%|█████▎    | 53/100 [55:14<48:11, 61.52s/it]"
     ]
    },
    {
     "name": "stdout",
     "output_type": "stream",
     "text": [
      "{'regret_max': 0.010220199823379517, 'regret_mean': 0.00029953097691759467, 'regret_mults': tensor([[96.0320, 95.1791]], device='cuda:0'), 'payment': 0.8565230369567871}\n"
     ]
    },
    {
     "name": "stderr",
     "output_type": "stream",
     "text": [
      "\r",
      " 54%|█████▍    | 54/100 [56:15<47:10, 61.53s/it]"
     ]
    },
    {
     "name": "stdout",
     "output_type": "stream",
     "text": [
      "{'regret_max': 0.008987843990325928, 'regret_mean': 0.0003505675995256752, 'regret_mults': tensor([[98.4837, 97.6570]], device='cuda:0'), 'payment': 0.8553447723388672}\n"
     ]
    },
    {
     "name": "stderr",
     "output_type": "stream",
     "text": [
      "\r",
      " 55%|█████▌    | 55/100 [57:17<46:07, 61.50s/it]"
     ]
    },
    {
     "name": "stdout",
     "output_type": "stream",
     "text": [
      "{'regret_max': 0.015588521957397461, 'regret_mean': 0.000538248335942626, 'regret_mults': tensor([[99.5615, 98.9619]], device='cuda:0'), 'payment': 0.8517066240310669}\n"
     ]
    },
    {
     "name": "stderr",
     "output_type": "stream",
     "text": [
      "\r",
      " 56%|█████▌    | 56/100 [58:18<45:02, 61.42s/it]"
     ]
    },
    {
     "name": "stdout",
     "output_type": "stream",
     "text": [
      "{'regret_max': 0.00929298996925354, 'regret_mean': 0.0002668816305231303, 'regret_mults': tensor([[100.4680,  99.9306]], device='cuda:0'), 'payment': 0.8566451668739319}\n"
     ]
    },
    {
     "name": "stderr",
     "output_type": "stream",
     "text": [
      "\r",
      " 57%|█████▋    | 57/100 [59:19<44:01, 61.44s/it]"
     ]
    },
    {
     "name": "stdout",
     "output_type": "stream",
     "text": [
      "{'regret_max': 0.01910644769668579, 'regret_mean': 0.0004120374214835465, 'regret_mults': tensor([[101.3977, 100.8524]], device='cuda:0'), 'payment': 0.8539682626724243}\n"
     ]
    },
    {
     "name": "stderr",
     "output_type": "stream",
     "text": [
      "\r",
      " 58%|█████▊    | 58/100 [1:00:21<42:58, 61.39s/it]"
     ]
    },
    {
     "name": "stdout",
     "output_type": "stream",
     "text": [
      "{'regret_max': 0.014296889305114746, 'regret_mean': 0.0004291413351893425, 'regret_mults': tensor([[104.8337, 103.6014]], device='cuda:0'), 'payment': 0.8534272909164429}\n"
     ]
    },
    {
     "name": "stderr",
     "output_type": "stream",
     "text": [
      "\r",
      " 59%|█████▉    | 59/100 [1:01:22<41:52, 61.28s/it]"
     ]
    },
    {
     "name": "stdout",
     "output_type": "stream",
     "text": [
      "{'regret_max': 0.007457435131072998, 'regret_mean': 0.0002438089286442846, 'regret_mults': tensor([[105.6514, 104.5061]], device='cuda:0'), 'payment': 0.856652557849884}\n"
     ]
    },
    {
     "name": "stderr",
     "output_type": "stream",
     "text": [
      "\r",
      " 60%|██████    | 60/100 [1:02:22<40:44, 61.12s/it]"
     ]
    },
    {
     "name": "stdout",
     "output_type": "stream",
     "text": [
      "{'regret_max': 0.013151794672012329, 'regret_mean': 0.0003608501865528524, 'regret_mults': tensor([[108.8132, 107.5166]], device='cuda:0'), 'payment': 0.8545336127281189}\n"
     ]
    },
    {
     "name": "stderr",
     "output_type": "stream",
     "text": [
      "\r",
      " 61%|██████    | 61/100 [1:03:25<40:01, 61.58s/it]"
     ]
    },
    {
     "name": "stdout",
     "output_type": "stream",
     "text": [
      "{'regret_max': 0.013455986976623535, 'regret_mean': 0.00034459360176697373, 'regret_mults': tensor([[110.9158, 109.1974]], device='cuda:0'), 'payment': 0.854129433631897}\n"
     ]
    },
    {
     "name": "stderr",
     "output_type": "stream",
     "text": [
      "\r",
      " 62%|██████▏   | 62/100 [1:04:27<39:01, 61.62s/it]"
     ]
    },
    {
     "name": "stdout",
     "output_type": "stream",
     "text": [
      "{'regret_max': 0.017141282558441162, 'regret_mean': 0.00036179786548018456, 'regret_mults': tensor([[112.8700, 111.0279]], device='cuda:0'), 'payment': 0.8542342185974121}\n"
     ]
    },
    {
     "name": "stderr",
     "output_type": "stream",
     "text": [
      "\r",
      " 63%|██████▎   | 63/100 [1:05:28<38:02, 61.68s/it]"
     ]
    },
    {
     "name": "stdout",
     "output_type": "stream",
     "text": [
      "{'regret_max': 0.007158160209655762, 'regret_mean': 0.000215220294194296, 'regret_mults': tensor([[113.6906, 111.8344]], device='cuda:0'), 'payment': 0.8567869663238525}\n"
     ]
    },
    {
     "name": "stderr",
     "output_type": "stream",
     "text": [
      "\r",
      " 64%|██████▍   | 64/100 [1:06:30<36:58, 61.64s/it]"
     ]
    },
    {
     "name": "stdout",
     "output_type": "stream",
     "text": [
      "{'regret_max': 0.017716825008392334, 'regret_mean': 0.0003378340625204146, 'regret_mults': tensor([[114.8702, 113.9278]], device='cuda:0'), 'payment': 0.8544600009918213}\n"
     ]
    },
    {
     "name": "stderr",
     "output_type": "stream",
     "text": [
      "\r",
      " 65%|██████▌   | 65/100 [1:07:31<35:54, 61.56s/it]"
     ]
    },
    {
     "name": "stdout",
     "output_type": "stream",
     "text": [
      "{'regret_max': 0.010707437992095947, 'regret_mean': 0.0003178137412760407, 'regret_mults': tensor([[117.2246, 115.7159]], device='cuda:0'), 'payment': 0.8545083403587341}\n"
     ]
    },
    {
     "name": "stderr",
     "output_type": "stream",
     "text": [
      "\r",
      " 66%|██████▌   | 66/100 [1:08:33<34:49, 61.45s/it]"
     ]
    },
    {
     "name": "stdout",
     "output_type": "stream",
     "text": [
      "{'regret_max': 0.01707547903060913, 'regret_mean': 0.00044675078243017197, 'regret_mults': tensor([[119.7314, 123.3265]], device='cuda:0'), 'payment': 0.8521642684936523}\n"
     ]
    },
    {
     "name": "stderr",
     "output_type": "stream",
     "text": [
      "\r",
      " 67%|██████▋   | 67/100 [1:09:34<33:44, 61.34s/it]"
     ]
    },
    {
     "name": "stdout",
     "output_type": "stream",
     "text": [
      "{'regret_max': 0.01124805212020874, 'regret_mean': 0.0002501465496607125, 'regret_mults': tensor([[120.5611, 124.1083]], device='cuda:0'), 'payment': 0.8554562330245972}\n"
     ]
    },
    {
     "name": "stderr",
     "output_type": "stream",
     "text": [
      "\r",
      " 68%|██████▊   | 68/100 [1:10:35<32:43, 61.36s/it]"
     ]
    },
    {
     "name": "stdout",
     "output_type": "stream",
     "text": [
      "{'regret_max': 0.0072318315505981445, 'regret_mean': 0.0002651064423844218, 'regret_mults': tensor([[125.7478, 126.1451]], device='cuda:0'), 'payment': 0.8541450500488281}\n"
     ]
    },
    {
     "name": "stderr",
     "output_type": "stream",
     "text": [
      "\r",
      " 69%|██████▉   | 69/100 [1:11:36<31:42, 61.36s/it]"
     ]
    },
    {
     "name": "stdout",
     "output_type": "stream",
     "text": [
      "{'regret_max': 0.011326611042022705, 'regret_mean': 0.00027596234576776624, 'regret_mults': tensor([[128.0063, 128.8740]], device='cuda:0'), 'payment': 0.8544600009918213}\n"
     ]
    },
    {
     "name": "stderr",
     "output_type": "stream",
     "text": [
      "\r",
      " 70%|███████   | 70/100 [1:12:37<30:37, 61.26s/it]"
     ]
    },
    {
     "name": "stdout",
     "output_type": "stream",
     "text": [
      "{'regret_max': 0.014670372009277344, 'regret_mean': 0.0002500507980585098, 'regret_mults': tensor([[128.7347, 129.6979]], device='cuda:0'), 'payment': 0.8550143241882324}\n"
     ]
    },
    {
     "name": "stderr",
     "output_type": "stream",
     "text": [
      "\r",
      " 71%|███████   | 71/100 [1:13:39<29:36, 61.27s/it]"
     ]
    },
    {
     "name": "stdout",
     "output_type": "stream",
     "text": [
      "{'regret_max': 0.005452215671539307, 'regret_mean': 0.0002097285760100931, 'regret_mults': tensor([[129.5082, 130.5373]], device='cuda:0'), 'payment': 0.8553046584129333}\n"
     ]
    },
    {
     "name": "stderr",
     "output_type": "stream",
     "text": [
      "\r",
      " 72%|███████▏  | 72/100 [1:14:40<28:33, 61.19s/it]"
     ]
    },
    {
     "name": "stdout",
     "output_type": "stream",
     "text": [
      "{'regret_max': 0.017116427421569824, 'regret_mean': 0.00034796303953044116, 'regret_mults': tensor([[131.1500, 132.6856]], device='cuda:0'), 'payment': 0.8533521890640259}\n"
     ]
    },
    {
     "name": "stderr",
     "output_type": "stream",
     "text": [
      "\r",
      " 73%|███████▎  | 73/100 [1:15:41<27:30, 61.14s/it]"
     ]
    },
    {
     "name": "stdout",
     "output_type": "stream",
     "text": [
      "{'regret_max': 0.00481414794921875, 'regret_mean': 0.00016797300486359745, 'regret_mults': tensor([[131.9649, 133.6947]], device='cuda:0'), 'payment': 0.8567562103271484}\n"
     ]
    },
    {
     "name": "stderr",
     "output_type": "stream",
     "text": [
      "\r",
      " 74%|███████▍  | 74/100 [1:16:42<26:32, 61.25s/it]"
     ]
    },
    {
     "name": "stdout",
     "output_type": "stream",
     "text": [
      "{'regret_max': 0.009755730628967285, 'regret_mean': 0.0002069315523840487, 'regret_mults': tensor([[132.8344, 134.5885]], device='cuda:0'), 'payment': 0.8560426235198975}\n"
     ]
    },
    {
     "name": "stderr",
     "output_type": "stream",
     "text": [
      "\r",
      " 75%|███████▌  | 75/100 [1:17:44<25:35, 61.40s/it]"
     ]
    },
    {
     "name": "stdout",
     "output_type": "stream",
     "text": [
      "{'regret_max': 0.0261879563331604, 'regret_mean': 0.0004418065072968602, 'regret_mults': tensor([[134.9639, 136.8025]], device='cuda:0'), 'payment': 0.8506580591201782}\n"
     ]
    },
    {
     "name": "stderr",
     "output_type": "stream",
     "text": [
      "\r",
      " 76%|███████▌  | 76/100 [1:18:46<24:34, 61.43s/it]"
     ]
    },
    {
     "name": "stdout",
     "output_type": "stream",
     "text": [
      "{'regret_max': 0.004953920841217041, 'regret_mean': 0.0001552364556118846, 'regret_mults': tensor([[135.6634, 137.4931]], device='cuda:0'), 'payment': 0.8573458194732666}\n"
     ]
    },
    {
     "name": "stderr",
     "output_type": "stream",
     "text": [
      "\r",
      " 77%|███████▋  | 77/100 [1:19:47<23:35, 61.55s/it]"
     ]
    },
    {
     "name": "stdout",
     "output_type": "stream",
     "text": [
      "{'regret_max': 0.014765143394470215, 'regret_mean': 0.00036158369039185345, 'regret_mults': tensor([[139.3691, 139.6381]], device='cuda:0'), 'payment': 0.8529947996139526}\n"
     ]
    },
    {
     "name": "stderr",
     "output_type": "stream",
     "text": [
      "\r",
      " 78%|███████▊  | 78/100 [1:20:49<22:33, 61.51s/it]"
     ]
    },
    {
     "name": "stdout",
     "output_type": "stream",
     "text": [
      "{'regret_max': 0.004334092140197754, 'regret_mean': 0.0001487165573053062, 'regret_mults': tensor([[140.0726, 140.3412]], device='cuda:0'), 'payment': 0.8572549819946289}\n"
     ]
    },
    {
     "name": "stderr",
     "output_type": "stream",
     "text": [
      "\r",
      " 79%|███████▉  | 79/100 [1:21:51<21:33, 61.58s/it]"
     ]
    },
    {
     "name": "stdout",
     "output_type": "stream",
     "text": [
      "{'regret_max': 0.009038269519805908, 'regret_mean': 0.0002443500852677971, 'regret_mults': tensor([[141.6181, 141.8411]], device='cuda:0'), 'payment': 0.8548973798751831}\n"
     ]
    },
    {
     "name": "stderr",
     "output_type": "stream",
     "text": [
      "\r",
      " 80%|████████  | 80/100 [1:22:52<20:31, 61.59s/it]"
     ]
    },
    {
     "name": "stdout",
     "output_type": "stream",
     "text": [
      "{'regret_max': 0.004664123058319092, 'regret_mean': 0.00014329995610751212, 'regret_mults': tensor([[142.3702, 142.5896]], device='cuda:0'), 'payment': 0.8581511974334717}\n"
     ]
    },
    {
     "name": "stderr",
     "output_type": "stream",
     "text": [
      "\r",
      " 81%|████████  | 81/100 [1:23:54<19:32, 61.71s/it]"
     ]
    },
    {
     "name": "stdout",
     "output_type": "stream",
     "text": [
      "{'regret_max': 0.017721593379974365, 'regret_mean': 0.0003706054703798145, 'regret_mults': tensor([[143.4280, 143.8975]], device='cuda:0'), 'payment': 0.8525360226631165}\n"
     ]
    },
    {
     "name": "stderr",
     "output_type": "stream",
     "text": [
      "\r",
      " 82%|████████▏ | 82/100 [1:24:56<18:30, 61.69s/it]"
     ]
    },
    {
     "name": "stdout",
     "output_type": "stream",
     "text": [
      "{'regret_max': 0.010793447494506836, 'regret_mean': 0.00021485408069565892, 'regret_mults': tensor([[144.1601, 144.5747]], device='cuda:0'), 'payment': 0.8560839891433716}\n"
     ]
    },
    {
     "name": "stderr",
     "output_type": "stream",
     "text": [
      "\r",
      " 83%|████████▎ | 83/100 [1:25:57<17:28, 61.68s/it]"
     ]
    },
    {
     "name": "stdout",
     "output_type": "stream",
     "text": [
      "{'regret_max': 0.004921853542327881, 'regret_mean': 0.00013914817827753723, 'regret_mults': tensor([[145.8451, 145.9473]], device='cuda:0'), 'payment': 0.8582534790039062}\n"
     ]
    },
    {
     "name": "stderr",
     "output_type": "stream",
     "text": [
      "\r",
      " 84%|████████▍ | 84/100 [1:26:59<16:27, 61.72s/it]"
     ]
    },
    {
     "name": "stdout",
     "output_type": "stream",
     "text": [
      "{'regret_max': 0.010137617588043213, 'regret_mean': 0.00021294402540661395, 'regret_mults': tensor([[146.7272, 146.7839]], device='cuda:0'), 'payment': 0.8561537265777588}\n"
     ]
    },
    {
     "name": "stderr",
     "output_type": "stream",
     "text": [
      "\r",
      " 85%|████████▌ | 85/100 [1:28:01<15:23, 61.58s/it]"
     ]
    },
    {
     "name": "stdout",
     "output_type": "stream",
     "text": [
      "{'regret_max': 0.012783348560333252, 'regret_mean': 0.0002921053674072027, 'regret_mults': tensor([[147.4547, 147.4261]], device='cuda:0'), 'payment': 0.855167031288147}\n"
     ]
    },
    {
     "name": "stderr",
     "output_type": "stream",
     "text": [
      "\r",
      " 86%|████████▌ | 86/100 [1:29:02<14:21, 61.51s/it]"
     ]
    },
    {
     "name": "stdout",
     "output_type": "stream",
     "text": [
      "{'regret_max': 0.006239652633666992, 'regret_mean': 0.00014716533769387752, 'regret_mults': tensor([[148.9321, 148.9035]], device='cuda:0'), 'payment': 0.8575562238693237}\n"
     ]
    },
    {
     "name": "stderr",
     "output_type": "stream",
     "text": [
      "\r",
      " 87%|████████▋ | 87/100 [1:30:03<13:18, 61.45s/it]"
     ]
    },
    {
     "name": "stdout",
     "output_type": "stream",
     "text": [
      "{'regret_max': 0.016274094581604004, 'regret_mean': 0.00016229593893513083, 'regret_mults': tensor([[149.6319, 149.6677]], device='cuda:0'), 'payment': 0.8591127395629883}\n"
     ]
    },
    {
     "name": "stderr",
     "output_type": "stream",
     "text": [
      "\r",
      " 88%|████████▊ | 88/100 [1:31:05<12:17, 61.44s/it]"
     ]
    },
    {
     "name": "stdout",
     "output_type": "stream",
     "text": [
      "{'regret_max': 0.017284095287322998, 'regret_mean': 0.00028170389123260975, 'regret_mults': tensor([[150.3421, 150.4336]], device='cuda:0'), 'payment': 0.8547003269195557}\n"
     ]
    },
    {
     "name": "stderr",
     "output_type": "stream",
     "text": [
      "\r",
      " 89%|████████▉ | 89/100 [1:32:06<11:15, 61.45s/it]"
     ]
    },
    {
     "name": "stdout",
     "output_type": "stream",
     "text": [
      "{'regret_max': 0.011947870254516602, 'regret_mean': 0.00022039124451112002, 'regret_mults': tensor([[151.0237, 151.1214]], device='cuda:0'), 'payment': 0.8570914268493652}\n"
     ]
    },
    {
     "name": "stderr",
     "output_type": "stream",
     "text": [
      "\r",
      " 90%|█████████ | 90/100 [1:33:07<10:13, 61.38s/it]"
     ]
    },
    {
     "name": "stdout",
     "output_type": "stream",
     "text": [
      "{'regret_max': 0.0045694708824157715, 'regret_mean': 0.0001304549805354327, 'regret_mults': tensor([[152.6813, 152.6494]], device='cuda:0'), 'payment': 0.8591079711914062}\n"
     ]
    },
    {
     "name": "stderr",
     "output_type": "stream",
     "text": [
      "\r",
      " 91%|█████████ | 91/100 [1:34:09<09:13, 61.48s/it]"
     ]
    },
    {
     "name": "stdout",
     "output_type": "stream",
     "text": [
      "{'regret_max': 0.01358407735824585, 'regret_mean': 0.0002730175037868321, 'regret_mults': tensor([[154.0430, 154.3933]], device='cuda:0'), 'payment': 0.8556841611862183}\n"
     ]
    },
    {
     "name": "stderr",
     "output_type": "stream",
     "text": [
      "\r",
      " 92%|█████████▏| 92/100 [1:35:10<08:11, 61.44s/it]"
     ]
    },
    {
     "name": "stdout",
     "output_type": "stream",
     "text": [
      "{'regret_max': 0.00411379337310791, 'regret_mean': 0.00012291343591641635, 'regret_mults': tensor([[154.7968, 155.0339]], device='cuda:0'), 'payment': 0.8597840070724487}\n"
     ]
    },
    {
     "name": "stderr",
     "output_type": "stream",
     "text": [
      "\r",
      " 93%|█████████▎| 93/100 [1:36:12<07:10, 61.47s/it]"
     ]
    },
    {
     "name": "stdout",
     "output_type": "stream",
     "text": [
      "{'regret_max': 0.022109627723693848, 'regret_mean': 0.0003444287576712668, 'regret_mults': tensor([[156.5648, 156.6617]], device='cuda:0'), 'payment': 0.8542736172676086}\n"
     ]
    },
    {
     "name": "stderr",
     "output_type": "stream",
     "text": [
      "\r",
      " 94%|█████████▍| 94/100 [1:37:13<06:09, 61.50s/it]"
     ]
    },
    {
     "name": "stdout",
     "output_type": "stream",
     "text": [
      "{'regret_max': 0.004570484161376953, 'regret_mean': 0.00012175175652373582, 'regret_mults': tensor([[157.1781, 157.2806]], device='cuda:0'), 'payment': 0.8595117330551147}\n"
     ]
    },
    {
     "name": "stderr",
     "output_type": "stream",
     "text": [
      "\r",
      " 95%|█████████▌| 95/100 [1:38:15<05:07, 61.53s/it]"
     ]
    },
    {
     "name": "stdout",
     "output_type": "stream",
     "text": [
      "{'regret_max': 0.004464387893676758, 'regret_mean': 0.00012013370724162087, 'regret_mults': tensor([[157.9842, 157.9136]], device='cuda:0'), 'payment': 0.860388994216919}\n"
     ]
    },
    {
     "name": "stderr",
     "output_type": "stream",
     "text": [
      "\r",
      " 96%|█████████▌| 96/100 [1:39:17<04:06, 61.54s/it]"
     ]
    },
    {
     "name": "stdout",
     "output_type": "stream",
     "text": [
      "{'regret_max': 0.012459039688110352, 'regret_mean': 0.00026561314007267356, 'regret_mults': tensor([[158.7132, 158.7105]], device='cuda:0'), 'payment': 0.8561544418334961}\n"
     ]
    },
    {
     "name": "stderr",
     "output_type": "stream",
     "text": [
      "\r",
      " 97%|█████████▋| 97/100 [1:40:18<03:04, 61.44s/it]"
     ]
    },
    {
     "name": "stdout",
     "output_type": "stream",
     "text": [
      "{'regret_max': 0.003928124904632568, 'regret_mean': 0.00011528398317750543, 'regret_mults': tensor([[160.1841, 160.1770]], device='cuda:0'), 'payment': 0.8603646755218506}\n"
     ]
    },
    {
     "name": "stderr",
     "output_type": "stream",
     "text": [
      "\r",
      " 98%|█████████▊| 98/100 [1:41:19<02:02, 61.42s/it]"
     ]
    },
    {
     "name": "stdout",
     "output_type": "stream",
     "text": [
      "{'regret_max': 0.01116943359375, 'regret_mean': 0.00029100343817844987, 'regret_mults': tensor([[165.6126, 164.6231]], device='cuda:0'), 'payment': 0.8552806973457336}\n"
     ]
    },
    {
     "name": "stderr",
     "output_type": "stream",
     "text": [
      "\r",
      " 99%|█████████▉| 99/100 [1:42:20<01:01, 61.38s/it]"
     ]
    },
    {
     "name": "stdout",
     "output_type": "stream",
     "text": [
      "{'regret_max': 0.005852341651916504, 'regret_mean': 0.00011584478488657624, 'regret_mults': tensor([[166.3348, 165.2262]], device='cuda:0'), 'payment': 0.8596652746200562}\n"
     ]
    },
    {
     "name": "stderr",
     "output_type": "stream",
     "text": [
      "100%|██████████| 100/100 [1:43:22<00:00, 62.03s/it]"
     ]
    },
    {
     "name": "stdout",
     "output_type": "stream",
     "text": [
      "{'regret_max': 0.010782957077026367, 'regret_mean': 0.00029929919401183724, 'regret_mults': tensor([[169.9763, 170.4520]], device='cuda:0'), 'payment': 0.8549370765686035}\n",
      "CPU times: user 1h 42min 14s, sys: 58.7 s, total: 1h 43min 12s\n",
      "Wall time: 1h 43min 22s\n"
     ]
    },
    {
     "name": "stderr",
     "output_type": "stream",
     "text": [
      "\n"
     ]
    }
   ],
   "source": [
    "%%time\n",
    "mean_rgt, mean_pay, lagr_mults = train_loop(model, train_loader, args, device=device)"
   ]
  },
  {
   "cell_type": "code",
   "execution_count": 6,
   "metadata": {},
   "outputs": [],
   "source": [
    "dir_name = 'unit_2x3_0_1_experiment_data/'"
   ]
  },
  {
   "cell_type": "code",
   "execution_count": 7,
   "metadata": {},
   "outputs": [
    {
     "name": "stderr",
     "output_type": "stream",
     "text": [
      "1it [00:17, 17.67s/it]"
     ]
    },
    {
     "name": "stdout",
     "output_type": "stream",
     "text": [
      "CPU times: user 17.6 s, sys: 38 ms, total: 17.7 s\n",
      "Wall time: 17.7 s\n"
     ]
    },
    {
     "name": "stderr",
     "output_type": "stream",
     "text": [
      "\n"
     ]
    },
    {
     "data": {
      "text/plain": [
       "{'payment_mean': 0.8341610431671143,\n",
       " 'regret_mean': 0.0014608436031267047,\n",
       " 'regret_max': 0.006519794464111328}"
      ]
     },
     "execution_count": 7,
     "metadata": {},
     "output_type": "execute_result"
    }
   ],
   "source": [
    "%%time\n",
    "# model.sinkhorn_rounds = 100\n",
    "# model.sinkhorn_epsilon = 1e-2\n",
    "# test_data = ds.generate_dataset_nxk(args.n_agents, args.n_items, args.test_num_examples, item_ranges).to(device)\n",
    "test_data = torch.load(dir_name + 'test_data').to(device=device)\n",
    "cpu_test_data = test_data.clone().to(device='cpu')\n",
    "\n",
    "test_loader = ds.Dataloader(test_data, batch_size=args.test_batch_size, shuffle=True)\n",
    "\n",
    "result = test_loop(model, test_loader, args, device=device)\n",
    "result"
   ]
  },
  {
   "cell_type": "code",
   "execution_count": 8,
   "metadata": {
    "scrolled": true
   },
   "outputs": [
    {
     "name": "stderr",
     "output_type": "stream",
     "text": [
      "1it [03:15, 195.56s/it]"
     ]
    },
    {
     "name": "stdout",
     "output_type": "stream",
     "text": [
      "CPU times: user 3min 14s, sys: 467 ms, total: 3min 15s\n",
      "Wall time: 3min 15s\n"
     ]
    },
    {
     "name": "stderr",
     "output_type": "stream",
     "text": [
      "\n"
     ]
    },
    {
     "data": {
      "text/plain": [
       "{'payment_mean': 0.8341609835624695,\n",
       " 'regret_mean': 0.0014809578424319625,\n",
       " 'regret_max': 0.00652003288269043}"
      ]
     },
     "execution_count": 8,
     "metadata": {},
     "output_type": "execute_result"
    }
   ],
   "source": [
    "%%time\n",
    "args.test_num_examples = 1000\n",
    "args.test_batch_size = 1000\n",
    "args.test_misreport_iter = 1000\n",
    "args.misreport_lr = 1e-1\n",
    "model.sinkhorn_rounds = 20\n",
    "model.sinkhorn_epsilon = 3e-2\n",
    "\n",
    "random_starts = [test_data]\n",
    "for i in range(10):\n",
    "    random_starts.append(ds.generate_dataset_nxk(args.n_agents, args.n_items, args.test_num_examples, item_ranges).to(device))\n",
    "test_loader = ds.Dataloader(test_data, batch_size=args.test_batch_size, shuffle=True)\n",
    "\n",
    "result = test_loop_random_start(model, test_loader, args, random_starts, device=device)\n",
    "result"
   ]
  },
  {
   "cell_type": "code",
   "execution_count": 9,
   "metadata": {},
   "outputs": [],
   "source": [
    "model.save(dir_name)"
   ]
  },
  {
   "cell_type": "code",
   "execution_count": 10,
   "metadata": {},
   "outputs": [],
   "source": [
    "import cvxpy as cp\n",
    "import numpy as np\n",
    "from typing import NamedTuple\n",
    "from tqdm.notebook import tqdm"
   ]
  },
  {
   "cell_type": "code",
   "execution_count": 11,
   "metadata": {},
   "outputs": [],
   "source": [
    "class AuctionResult(NamedTuple):\n",
    "    alloc: np.ndarray\n",
    "    welfare: np.ndarray\n",
    "    payment: np.ndarray"
   ]
  },
  {
   "cell_type": "code",
   "execution_count": 12,
   "metadata": {},
   "outputs": [],
   "source": [
    "def max_welfare_alloc(bids_mat, k, exact_demand=False):\n",
    "    # returns allocation, util of allocation\n",
    "\n",
    "    num_agents = bids_mat.shape[0]\n",
    "    num_items = bids_mat.shape[1]\n",
    "    alloc_matrix = cp.Variable((num_agents, num_items), nonneg=True)\n",
    "    item_supply_constraints = cp.sum(alloc_matrix, axis=0) <= 1\n",
    "    if exact_demand:\n",
    "        agent_demand_constraints = cp.sum(alloc_matrix, axis=1) == k\n",
    "    else:\n",
    "        agent_demand_constraints = cp.sum(alloc_matrix, axis=1) <= k\n",
    "    welfare = cp.sum((cp.multiply(bids_mat, alloc_matrix)))\n",
    "    problem = cp.Problem(cp.Maximize(welfare), [item_supply_constraints, agent_demand_constraints])\n",
    "    problem.solve()\n",
    "    return (alloc_matrix.value, problem.value)"
   ]
  },
  {
   "cell_type": "code",
   "execution_count": 13,
   "metadata": {},
   "outputs": [],
   "source": [
    "def vcg_auction(bids_mat, k, exact_demand=False):\n",
    "    main_alloc, max_welfare_total_util = max_welfare_alloc(bids_mat, k, exact_demand=exact_demand)\n",
    "    payments = np.zeros(bids_mat.shape[0])\n",
    "    player_utils = (bids_mat * main_alloc).sum(axis=1)\n",
    "    num_agents = bids_mat.shape[0]\n",
    "    for i in range(num_agents):\n",
    "        dropped_bid_mat = np.delete(bids_mat, (i), axis=0)\n",
    "        dropped_player_utils = np.delete(player_utils, (i), axis=0) # player utils under full auction\n",
    "        new_alloc, new_total_util = max_welfare_alloc(dropped_bid_mat, k, exact_demand=exact_demand)\n",
    "        new_agent_utils = (new_alloc*dropped_bid_mat).sum(axis=1) # player utils without agent i's bid\n",
    "        payments[i] = (new_agent_utils - dropped_player_utils).sum() \n",
    "    return AuctionResult(main_alloc, player_utils, payments)"
   ]
  },
  {
   "cell_type": "code",
   "execution_count": 14,
   "metadata": {},
   "outputs": [],
   "source": [
    "payments = []\n",
    "for i in range(test_data.shape[0]):\n",
    "    payments.append(vcg_auction(cpu_test_data[i].cpu().numpy(), 1, exact_demand=False).payment.sum())"
   ]
  },
  {
   "cell_type": "code",
   "execution_count": 15,
   "metadata": {},
   "outputs": [
    {
     "data": {
      "text/plain": [
       "0.04831120999135777"
      ]
     },
     "execution_count": 15,
     "metadata": {},
     "output_type": "execute_result"
    }
   ],
   "source": [
    "np.mean(payments)"
   ]
  },
  {
   "cell_type": "code",
   "execution_count": null,
   "metadata": {},
   "outputs": [],
   "source": [
    "import pickle\n",
    "to_pkl_lst = [mean_rgt, mean_pay, lagr_mults]\n",
    "for i, fname in enumerate(['mean_rgt', 'mean_pay', 'lagr_mults']):\n",
    "    with open(dir_name + fname, 'wb') as fp:\n",
    "        pickle.dump(to_pkl_lst[i], fp)"
   ]
  }
 ],
 "metadata": {
  "kernelspec": {
   "display_name": "Python 3",
   "language": "python",
   "name": "python3"
  },
  "language_info": {
   "codemirror_mode": {
    "name": "ipython",
    "version": 3
   },
   "file_extension": ".py",
   "mimetype": "text/x-python",
   "name": "python",
   "nbconvert_exporter": "python",
   "pygments_lexer": "ipython3",
   "version": "3.7.4"
  }
 },
 "nbformat": 4,
 "nbformat_minor": 2
}
