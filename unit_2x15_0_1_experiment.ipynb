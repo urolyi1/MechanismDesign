{
 "cells": [
  {
   "cell_type": "code",
   "execution_count": 1,
   "metadata": {},
   "outputs": [],
   "source": [
    "import torch\n",
    "from torch import nn, optim\n",
    "import torch.nn.functional as F\n",
    "import numpy as np\n",
    "from argparse import ArgumentParser\n",
    "from double_net.double_net import DoubleNet, train_loop, train_loop_no_lagrange, test_loop, test_loop_random_start\n",
    "from double_net import datasets as ds\n",
    "import time\n",
    "import double_net.plot_utils as pu\n",
    "import importlib\n",
    "import matplotlib.pyplot as plt"
   ]
  },
  {
   "cell_type": "code",
   "execution_count": 2,
   "metadata": {},
   "outputs": [],
   "source": [
    "if torch.cuda.is_available():\n",
    "    device = 'cuda'\n",
    "else:\n",
    "    device = 'cpu'"
   ]
  },
  {
   "cell_type": "code",
   "execution_count": 3,
   "metadata": {},
   "outputs": [
    {
     "data": {
      "text/plain": [
       "Namespace(batch_size=4096, lagr_update_iter=100, misreport_iter=25, misreport_lr=0.1, model_lr=0.001, n_agents=2, n_items=15, num_epochs=100, num_examples=524288, random_seed=0, rgt_start=0, rho=1, rho_incr_amount=1.0, rho_incr_iter=2, sinkhorn_epsilon=0.05, sinkhorn_rounds=20, test_batch_size=1000, test_iter=5, test_misreport_iter=1000, test_num_examples=1000)"
      ]
     },
     "execution_count": 3,
     "metadata": {},
     "output_type": "execute_result"
    }
   ],
   "source": [
    "parser = ArgumentParser()\n",
    "parser.add_argument('--random-seed', type=int, default=0)\n",
    "parser.add_argument('--num-examples', type=int, default=131072 * 4)\n",
    "parser.add_argument('--test-num-examples', type=int, default=1000)\n",
    "parser.add_argument('--test-iter', type=int, default=5)\n",
    "parser.add_argument('--n-agents', type=int, default=2)\n",
    "parser.add_argument('--n-items', type=int, default=15)\n",
    "parser.add_argument('--num-epochs', type=int, default=100)\n",
    "parser.add_argument('--batch-size', type=int, default=128 * 32)\n",
    "parser.add_argument('--test-batch-size', type=int, default=1000)\n",
    "parser.add_argument('--model-lr', type=float, default=1e-3)\n",
    "parser.add_argument('--misreport-lr', type=float, default=1e-1)\n",
    "parser.add_argument('--misreport-iter', type=int, default=25)\n",
    "parser.add_argument('--test-misreport-iter', type=int, default=1000)\n",
    "parser.add_argument('--rho', type=float, default=1)\n",
    "parser.add_argument('--rho-incr-iter', type=int, default=2)\n",
    "parser.add_argument('--rho-incr-amount', type=float, default=1.0)\n",
    "parser.add_argument('--lagr-update-iter', type=int, default=100)\n",
    "parser.add_argument('--rgt-start', type=int, default=0)\n",
    "parser.add_argument('--sinkhorn-epsilon', type=float, default=5e-2)\n",
    "parser.add_argument('--sinkhorn-tolerance', type=float, default=0.01)\n",
    "\n",
    "\n",
    "args = parser.parse_args(args=[])\n",
    "args"
   ]
  },
  {
   "cell_type": "code",
   "execution_count": 4,
   "metadata": {},
   "outputs": [],
   "source": [
    "torch.manual_seed(args.random_seed)\n",
    "np.random.seed(args.random_seed)\n",
    "\n",
    "item_ranges = ds.preset_valuation_range(args.n_agents, args.n_items, \"\")\n",
    "\n",
    "model = DoubleNet(\n",
    "    args.n_agents, args.n_items, item_ranges, args.sinkhorn_epsilon, args.sinkhorn_tolerance, marginal_choice='unit'\n",
    ").to(device)\n",
    "\n",
    "train_data = ds.generate_dataset_nxk(args.n_agents, args.n_items, args.num_examples, item_ranges).to(device)\n",
    "train_loader = ds.Dataloader(train_data, batch_size=args.batch_size, shuffle=True)"
   ]
  },
  {
   "cell_type": "code",
   "execution_count": 5,
   "metadata": {
    "scrolled": true
   },
   "outputs": [
    {
     "name": "stderr",
     "output_type": "stream",
     "text": [
      "  1%|          | 1/100 [01:05<1:47:58, 65.43s/it]"
     ]
    },
    {
     "name": "stdout",
     "output_type": "stream",
     "text": [
      "{'regret_max': 0.5126627683639526, 'regret_mean': 0.038296401500701904, 'regret_mults': tensor([[6.7697, 6.7880]], device='cuda:0'), 'payment': 0.8730233907699585}\n"
     ]
    },
    {
     "name": "stderr",
     "output_type": "stream",
     "text": [
      "\r",
      "  2%|▏         | 2/100 [02:10<1:46:48, 65.39s/it]"
     ]
    },
    {
     "name": "stdout",
     "output_type": "stream",
     "text": [
      "{'regret_max': 0.13299113512039185, 'regret_mean': 0.018997671082615852, 'regret_mults': tensor([[8.7282, 8.8623]], device='cuda:0'), 'payment': 1.1199986934661865}\n"
     ]
    },
    {
     "name": "stderr",
     "output_type": "stream",
     "text": [
      "\r",
      "  3%|▎         | 3/100 [03:15<1:45:38, 65.34s/it]"
     ]
    },
    {
     "name": "stdout",
     "output_type": "stream",
     "text": [
      "{'regret_max': 0.10975736379623413, 'regret_mean': 0.013049432076513767, 'regret_mults': tensor([[10.8722, 11.1061]], device='cuda:0'), 'payment': 1.1327707767486572}\n"
     ]
    },
    {
     "name": "stderr",
     "output_type": "stream",
     "text": [
      "\r",
      "  4%|▍         | 4/100 [04:21<1:44:25, 65.26s/it]"
     ]
    },
    {
     "name": "stdout",
     "output_type": "stream",
     "text": [
      "{'regret_max': 0.08674347400665283, 'regret_mean': 0.010142883285880089, 'regret_mults': tensor([[15.1849, 15.6689]], device='cuda:0'), 'payment': 1.1149044036865234}\n"
     ]
    },
    {
     "name": "stderr",
     "output_type": "stream",
     "text": [
      "\r",
      "  5%|▌         | 5/100 [05:26<1:43:22, 65.29s/it]"
     ]
    },
    {
     "name": "stdout",
     "output_type": "stream",
     "text": [
      "{'regret_max': 0.07164192199707031, 'regret_mean': 0.008304036222398281, 'regret_mults': tensor([[17.5641, 17.9250]], device='cuda:0'), 'payment': 1.1004778146743774}\n"
     ]
    },
    {
     "name": "stderr",
     "output_type": "stream",
     "text": [
      "\r",
      "  6%|▌         | 6/100 [06:31<1:42:19, 65.31s/it]"
     ]
    },
    {
     "name": "stdout",
     "output_type": "stream",
     "text": [
      "{'regret_max': 0.06448131799697876, 'regret_mean': 0.006522296462208033, 'regret_mults': tensor([[19.8869, 20.1300]], device='cuda:0'), 'payment': 1.079651117324829}\n"
     ]
    },
    {
     "name": "stderr",
     "output_type": "stream",
     "text": [
      "\r",
      "  7%|▋         | 7/100 [07:39<1:42:10, 65.92s/it]"
     ]
    },
    {
     "name": "stdout",
     "output_type": "stream",
     "text": [
      "{'regret_max': 0.058857738971710205, 'regret_mean': 0.005829222500324249, 'regret_mults': tensor([[22.1504, 22.4020]], device='cuda:0'), 'payment': 1.0585598945617676}\n"
     ]
    },
    {
     "name": "stderr",
     "output_type": "stream",
     "text": [
      "\r",
      "  8%|▊         | 8/100 [08:46<1:41:34, 66.25s/it]"
     ]
    },
    {
     "name": "stdout",
     "output_type": "stream",
     "text": [
      "{'regret_max': 0.05292701721191406, 'regret_mean': 0.005038068164139986, 'regret_mults': tensor([[26.5063, 26.7850]], device='cuda:0'), 'payment': 1.0427477359771729}\n"
     ]
    },
    {
     "name": "stderr",
     "output_type": "stream",
     "text": [
      "\r",
      "  9%|▉         | 9/100 [09:51<1:40:13, 66.08s/it]"
     ]
    },
    {
     "name": "stdout",
     "output_type": "stream",
     "text": [
      "{'regret_max': 0.05411648750305176, 'regret_mean': 0.0043867481872439384, 'regret_mults': tensor([[28.6808, 29.0333]], device='cuda:0'), 'payment': 1.0295231342315674}\n"
     ]
    },
    {
     "name": "stderr",
     "output_type": "stream",
     "text": [
      "\r",
      " 10%|█         | 10/100 [10:58<1:39:30, 66.34s/it]"
     ]
    },
    {
     "name": "stdout",
     "output_type": "stream",
     "text": [
      "{'regret_max': 0.04631918668746948, 'regret_mean': 0.0038649679627269506, 'regret_mults': tensor([[30.9699, 31.2526]], device='cuda:0'), 'payment': 1.0211957693099976}\n"
     ]
    },
    {
     "name": "stderr",
     "output_type": "stream",
     "text": [
      "\r",
      " 11%|█         | 11/100 [12:06<1:39:12, 66.88s/it]"
     ]
    },
    {
     "name": "stdout",
     "output_type": "stream",
     "text": [
      "{'regret_max': 0.05929407477378845, 'regret_mean': 0.0037372212391346693, 'regret_mults': tensor([[36.5531, 37.0807]], device='cuda:0'), 'payment': 1.010962724685669}\n"
     ]
    },
    {
     "name": "stderr",
     "output_type": "stream",
     "text": [
      "\r",
      " 12%|█▏        | 12/100 [13:12<1:37:36, 66.55s/it]"
     ]
    },
    {
     "name": "stdout",
     "output_type": "stream",
     "text": [
      "{'regret_max': 0.061217665672302246, 'regret_mean': 0.0034603497479110956, 'regret_mults': tensor([[38.4867, 39.2129]], device='cuda:0'), 'payment': 0.9821678400039673}\n"
     ]
    },
    {
     "name": "stderr",
     "output_type": "stream",
     "text": [
      "\r",
      " 13%|█▎        | 13/100 [14:18<1:36:05, 66.27s/it]"
     ]
    },
    {
     "name": "stdout",
     "output_type": "stream",
     "text": [
      "{'regret_max': 0.038487136363983154, 'regret_mean': 0.0028402749449014664, 'regret_mults': tensor([[40.8300, 42.2106]], device='cuda:0'), 'payment': 0.9922803640365601}\n"
     ]
    },
    {
     "name": "stderr",
     "output_type": "stream",
     "text": [
      "\r",
      " 14%|█▍        | 14/100 [15:24<1:34:46, 66.12s/it]"
     ]
    },
    {
     "name": "stdout",
     "output_type": "stream",
     "text": [
      "{'regret_max': 0.03622615337371826, 'regret_mean': 0.002591528929769993, 'regret_mults': tensor([[42.8943, 44.5222]], device='cuda:0'), 'payment': 0.9853729009628296}\n"
     ]
    },
    {
     "name": "stderr",
     "output_type": "stream",
     "text": [
      "\r",
      " 15%|█▌        | 15/100 [16:30<1:33:57, 66.33s/it]"
     ]
    },
    {
     "name": "stdout",
     "output_type": "stream",
     "text": [
      "{'regret_max': 0.03481161594390869, 'regret_mean': 0.0024816051591187716, 'regret_mults': tensor([[47.1019, 48.4315]], device='cuda:0'), 'payment': 0.9811791777610779}\n"
     ]
    },
    {
     "name": "stderr",
     "output_type": "stream",
     "text": [
      "\r",
      " 16%|█▌        | 16/100 [17:36<1:32:23, 66.00s/it]"
     ]
    },
    {
     "name": "stdout",
     "output_type": "stream",
     "text": [
      "{'regret_max': 0.033284664154052734, 'regret_mean': 0.0023218023125082254, 'regret_mults': tensor([[49.1707, 50.4214]], device='cuda:0'), 'payment': 0.9744305610656738}\n"
     ]
    },
    {
     "name": "stderr",
     "output_type": "stream",
     "text": [
      "\r",
      " 17%|█▋        | 17/100 [18:41<1:30:59, 65.77s/it]"
     ]
    },
    {
     "name": "stdout",
     "output_type": "stream",
     "text": [
      "{'regret_max': 0.03309100866317749, 'regret_mean': 0.002214244566857815, 'regret_mults': tensor([[51.3654, 52.4089]], device='cuda:0'), 'payment': 0.9730386137962341}\n"
     ]
    },
    {
     "name": "stderr",
     "output_type": "stream",
     "text": [
      "\r",
      " 18%|█▊        | 18/100 [19:46<1:29:36, 65.57s/it]"
     ]
    },
    {
     "name": "stdout",
     "output_type": "stream",
     "text": [
      "{'regret_max': 0.030345499515533447, 'regret_mean': 0.0018560575554147363, 'regret_mults': tensor([[55.6445, 56.1764]], device='cuda:0'), 'payment': 0.9731325507164001}\n"
     ]
    },
    {
     "name": "stderr",
     "output_type": "stream",
     "text": [
      "\r",
      " 19%|█▉        | 19/100 [20:51<1:28:23, 65.48s/it]"
     ]
    },
    {
     "name": "stdout",
     "output_type": "stream",
     "text": [
      "{'regret_max': 0.03172248601913452, 'regret_mean': 0.0021897393744438887, 'regret_mults': tensor([[57.6428, 57.9670]], device='cuda:0'), 'payment': 0.9590848684310913}\n"
     ]
    },
    {
     "name": "stderr",
     "output_type": "stream",
     "text": [
      "\r",
      " 20%|██        | 20/100 [21:57<1:27:14, 65.43s/it]"
     ]
    },
    {
     "name": "stdout",
     "output_type": "stream",
     "text": [
      "{'regret_max': 0.02981024980545044, 'regret_mean': 0.001873695058748126, 'regret_mults': tensor([[59.8199, 59.9132]], device='cuda:0'), 'payment': 0.9668948650360107}\n"
     ]
    },
    {
     "name": "stderr",
     "output_type": "stream",
     "text": [
      "\r",
      " 21%|██        | 21/100 [23:01<1:25:58, 65.29s/it]"
     ]
    },
    {
     "name": "stdout",
     "output_type": "stream",
     "text": [
      "{'regret_max': 0.028242945671081543, 'regret_mean': 0.0015392252244055271, 'regret_mults': tensor([[61.9426, 61.7193]], device='cuda:0'), 'payment': 0.9598228931427002}\n"
     ]
    },
    {
     "name": "stderr",
     "output_type": "stream",
     "text": [
      "\r",
      " 22%|██▏       | 22/100 [24:07<1:24:50, 65.26s/it]"
     ]
    },
    {
     "name": "stdout",
     "output_type": "stream",
     "text": [
      "{'regret_max': 0.03045511245727539, 'regret_mean': 0.0018010090570896864, 'regret_mults': tensor([[66.1787, 65.3602]], device='cuda:0'), 'payment': 0.9523890018463135}\n"
     ]
    },
    {
     "name": "stderr",
     "output_type": "stream",
     "text": [
      "\r",
      " 23%|██▎       | 23/100 [25:12<1:23:37, 65.17s/it]"
     ]
    },
    {
     "name": "stdout",
     "output_type": "stream",
     "text": [
      "{'regret_max': 0.028311610221862793, 'regret_mean': 0.001478475285694003, 'regret_mults': tensor([[68.3091, 67.2250]], device='cuda:0'), 'payment': 0.9589688181877136}\n"
     ]
    },
    {
     "name": "stderr",
     "output_type": "stream",
     "text": [
      "\r",
      " 24%|██▍       | 24/100 [26:17<1:22:36, 65.22s/it]"
     ]
    },
    {
     "name": "stdout",
     "output_type": "stream",
     "text": [
      "{'regret_max': 0.037880897521972656, 'regret_mean': 0.00204817159101367, 'regret_mults': tensor([[70.2228, 69.0372]], device='cuda:0'), 'payment': 0.928569495677948}\n"
     ]
    },
    {
     "name": "stderr",
     "output_type": "stream",
     "text": [
      "\r",
      " 25%|██▌       | 25/100 [27:22<1:21:36, 65.29s/it]"
     ]
    },
    {
     "name": "stdout",
     "output_type": "stream",
     "text": [
      "{'regret_max': 0.025379478931427002, 'regret_mean': 0.0012418453115969896, 'regret_mults': tensor([[74.5936, 72.5285]], device='cuda:0'), 'payment': 0.9525432586669922}\n"
     ]
    },
    {
     "name": "stderr",
     "output_type": "stream",
     "text": [
      "\r",
      " 26%|██▌       | 26/100 [28:27<1:20:24, 65.20s/it]"
     ]
    },
    {
     "name": "stdout",
     "output_type": "stream",
     "text": [
      "{'regret_max': 0.023937702178955078, 'regret_mean': 0.0013917069882154465, 'regret_mults': tensor([[76.7759, 74.5121]], device='cuda:0'), 'payment': 0.9508237838745117}\n"
     ]
    },
    {
     "name": "stderr",
     "output_type": "stream",
     "text": [
      "\r",
      " 27%|██▋       | 27/100 [29:32<1:19:11, 65.08s/it]"
     ]
    },
    {
     "name": "stdout",
     "output_type": "stream",
     "text": [
      "{'regret_max': 0.023147940635681152, 'regret_mean': 0.0012439275160431862, 'regret_mults': tensor([[78.7592, 76.6788]], device='cuda:0'), 'payment': 0.9424489736557007}\n"
     ]
    },
    {
     "name": "stderr",
     "output_type": "stream",
     "text": [
      "\r",
      " 28%|██▊       | 28/100 [30:37<1:18:03, 65.05s/it]"
     ]
    },
    {
     "name": "stdout",
     "output_type": "stream",
     "text": [
      "{'regret_max': 0.027572154998779297, 'regret_mean': 0.001648292993195355, 'regret_mults': tensor([[81.1718, 78.7704]], device='cuda:0'), 'payment': 0.9347708225250244}\n"
     ]
    },
    {
     "name": "stderr",
     "output_type": "stream",
     "text": [
      "\r",
      " 29%|██▉       | 29/100 [31:42<1:16:53, 64.98s/it]"
     ]
    },
    {
     "name": "stdout",
     "output_type": "stream",
     "text": [
      "{'regret_max': 0.020523667335510254, 'regret_mean': 0.0010273740626871586, 'regret_mults': tensor([[85.2896, 82.2537]], device='cuda:0'), 'payment': 0.9357777833938599}\n"
     ]
    },
    {
     "name": "stderr",
     "output_type": "stream",
     "text": [
      "\r",
      " 30%|███       | 30/100 [32:47<1:15:46, 64.95s/it]"
     ]
    },
    {
     "name": "stdout",
     "output_type": "stream",
     "text": [
      "{'regret_max': 0.02376478910446167, 'regret_mean': 0.0012145262444391847, 'regret_mults': tensor([[87.2282, 83.9519]], device='cuda:0'), 'payment': 0.934982180595398}\n"
     ]
    },
    {
     "name": "stderr",
     "output_type": "stream",
     "text": [
      "\r",
      " 31%|███       | 31/100 [33:52<1:14:39, 64.92s/it]"
     ]
    },
    {
     "name": "stdout",
     "output_type": "stream",
     "text": [
      "{'regret_max': 0.02182328701019287, 'regret_mean': 0.0010243726428598166, 'regret_mults': tensor([[89.3464, 85.6525]], device='cuda:0'), 'payment': 0.9382542371749878}\n"
     ]
    },
    {
     "name": "stderr",
     "output_type": "stream",
     "text": [
      "\r",
      " 32%|███▏      | 32/100 [34:57<1:13:35, 64.94s/it]"
     ]
    },
    {
     "name": "stdout",
     "output_type": "stream",
     "text": [
      "{'regret_max': 0.03733193874359131, 'regret_mean': 0.001965888775885105, 'regret_mults': tensor([[91.6024, 87.4295]], device='cuda:0'), 'payment': 0.9018368721008301}\n"
     ]
    },
    {
     "name": "stderr",
     "output_type": "stream",
     "text": [
      "\r",
      " 33%|███▎      | 33/100 [36:02<1:12:29, 64.91s/it]"
     ]
    },
    {
     "name": "stdout",
     "output_type": "stream",
     "text": [
      "{'regret_max': 0.019156217575073242, 'regret_mean': 0.0008758421754464507, 'regret_mults': tensor([[95.4337, 90.7630]], device='cuda:0'), 'payment': 0.9216735363006592}\n"
     ]
    },
    {
     "name": "stderr",
     "output_type": "stream",
     "text": [
      "\r",
      " 34%|███▍      | 34/100 [37:06<1:11:08, 64.67s/it]"
     ]
    },
    {
     "name": "stdout",
     "output_type": "stream",
     "text": [
      "{'regret_max': 0.020004630088806152, 'regret_mean': 0.0009205215028487146, 'regret_mults': tensor([[97.7457, 92.5632]], device='cuda:0'), 'payment': 0.9324499368667603}\n"
     ]
    },
    {
     "name": "stderr",
     "output_type": "stream",
     "text": [
      "\r",
      " 35%|███▌      | 35/100 [38:10<1:09:54, 64.53s/it]"
     ]
    },
    {
     "name": "stdout",
     "output_type": "stream",
     "text": [
      "{'regret_max': 0.02034074068069458, 'regret_mean': 0.0009066136553883553, 'regret_mults': tensor([[99.7722, 94.4056]], device='cuda:0'), 'payment': 0.931941568851471}\n"
     ]
    },
    {
     "name": "stderr",
     "output_type": "stream",
     "text": [
      "\r",
      " 36%|███▌      | 36/100 [39:14<1:08:48, 64.51s/it]"
     ]
    },
    {
     "name": "stdout",
     "output_type": "stream",
     "text": [
      "{'regret_max': 0.06363236904144287, 'regret_mean': 0.0015946279745548964, 'regret_mults': tensor([[104.0559,  98.0483]], device='cuda:0'), 'payment': 0.9019397497177124}\n"
     ]
    },
    {
     "name": "stderr",
     "output_type": "stream",
     "text": [
      "\r",
      " 37%|███▋      | 37/100 [40:19<1:07:48, 64.58s/it]"
     ]
    },
    {
     "name": "stdout",
     "output_type": "stream",
     "text": [
      "{'regret_max': 0.01897716522216797, 'regret_mean': 0.0008178774733096361, 'regret_mults': tensor([[106.1620,  99.7806]], device='cuda:0'), 'payment': 0.9188711047172546}\n"
     ]
    },
    {
     "name": "stderr",
     "output_type": "stream",
     "text": [
      "\r",
      " 38%|███▊      | 38/100 [41:24<1:06:42, 64.55s/it]"
     ]
    },
    {
     "name": "stdout",
     "output_type": "stream",
     "text": [
      "{'regret_max': 0.018495559692382812, 'regret_mean': 0.0008463631384074688, 'regret_mults': tensor([[108.9036, 101.7269]], device='cuda:0'), 'payment': 0.922498345375061}\n"
     ]
    },
    {
     "name": "stderr",
     "output_type": "stream",
     "text": [
      "\r",
      " 39%|███▉      | 39/100 [42:28<1:05:30, 64.43s/it]"
     ]
    },
    {
     "name": "stdout",
     "output_type": "stream",
     "text": [
      "{'regret_max': 0.023449838161468506, 'regret_mean': 0.0010939729399979115, 'regret_mults': tensor([[110.8662, 103.6444]], device='cuda:0'), 'payment': 0.9092711210250854}\n"
     ]
    },
    {
     "name": "stderr",
     "output_type": "stream",
     "text": [
      "\r",
      " 40%|████      | 40/100 [43:32<1:04:16, 64.28s/it]"
     ]
    },
    {
     "name": "stdout",
     "output_type": "stream",
     "text": [
      "{'regret_max': 0.01837897300720215, 'regret_mean': 0.0007346257334575057, 'regret_mults': tensor([[114.7832, 107.1232]], device='cuda:0'), 'payment': 0.9184033870697021}\n"
     ]
    },
    {
     "name": "stderr",
     "output_type": "stream",
     "text": [
      "\r",
      " 41%|████      | 41/100 [44:36<1:03:10, 64.25s/it]"
     ]
    },
    {
     "name": "stdout",
     "output_type": "stream",
     "text": [
      "{'regret_max': 0.018001258373260498, 'regret_mean': 0.0008265563519671559, 'regret_mults': tensor([[116.8894, 109.1688]], device='cuda:0'), 'payment': 0.9178750514984131}\n"
     ]
    },
    {
     "name": "stderr",
     "output_type": "stream",
     "text": [
      "\r",
      " 42%|████▏     | 42/100 [45:40<1:02:07, 64.27s/it]"
     ]
    },
    {
     "name": "stdout",
     "output_type": "stream",
     "text": [
      "{'regret_max': 0.1282118856906891, 'regret_mean': 0.0030929907225072384, 'regret_mults': tensor([[118.8347, 110.7801]], device='cuda:0'), 'payment': 0.8398319482803345}\n"
     ]
    },
    {
     "name": "stderr",
     "output_type": "stream",
     "text": [
      "\r",
      " 43%|████▎     | 43/100 [46:44<1:00:59, 64.19s/it]"
     ]
    },
    {
     "name": "stdout",
     "output_type": "stream",
     "text": [
      "{'regret_max': 0.017907828092575073, 'regret_mean': 0.0007716846885159612, 'regret_mults': tensor([[127.0827, 110.9150]], device='cuda:0'), 'payment': 0.3923114538192749}\n"
     ]
    },
    {
     "name": "stderr",
     "output_type": "stream",
     "text": [
      "\r",
      " 44%|████▍     | 44/100 [47:48<59:54, 64.18s/it]  "
     ]
    },
    {
     "name": "stdout",
     "output_type": "stream",
     "text": [
      "{'regret_max': 0.01407092809677124, 'regret_mean': 0.0005690582329407334, 'regret_mults': tensor([[129.8203, 110.9600]], device='cuda:0'), 'payment': 0.42934083938598633}\n"
     ]
    },
    {
     "name": "stderr",
     "output_type": "stream",
     "text": [
      "\r",
      " 45%|████▌     | 45/100 [48:53<58:51, 64.21s/it]"
     ]
    },
    {
     "name": "stdout",
     "output_type": "stream",
     "text": [
      "{'regret_max': 0.017062261700630188, 'regret_mean': 0.0005897725932300091, 'regret_mults': tensor([[133.8613, 110.9928]], device='cuda:0'), 'payment': 0.4308660626411438}\n"
     ]
    },
    {
     "name": "stderr",
     "output_type": "stream",
     "text": [
      "\r",
      " 46%|████▌     | 46/100 [49:57<57:46, 64.20s/it]"
     ]
    },
    {
     "name": "stdout",
     "output_type": "stream",
     "text": [
      "{'regret_max': 0.01399374008178711, 'regret_mean': 0.0004054260207340121, 'regret_mults': tensor([[136.0745, 111.0402]], device='cuda:0'), 'payment': 0.4357350766658783}\n"
     ]
    },
    {
     "name": "stderr",
     "output_type": "stream",
     "text": [
      "\r",
      " 47%|████▋     | 47/100 [51:01<56:38, 64.13s/it]"
     ]
    },
    {
     "name": "stdout",
     "output_type": "stream",
     "text": [
      "{'regret_max': 0.01264113187789917, 'regret_mean': 0.00041643582517281175, 'regret_mults': tensor([[140.4636, 111.1061]], device='cuda:0'), 'payment': 0.435085654258728}\n"
     ]
    },
    {
     "name": "stderr",
     "output_type": "stream",
     "text": [
      "\r",
      " 48%|████▊     | 48/100 [52:05<55:38, 64.20s/it]"
     ]
    },
    {
     "name": "stdout",
     "output_type": "stream",
     "text": [
      "{'regret_max': 0.013270199298858643, 'regret_mean': 0.00038837161264382303, 'regret_mults': tensor([[142.7163, 111.1385]], device='cuda:0'), 'payment': 0.4358469545841217}\n"
     ]
    },
    {
     "name": "stderr",
     "output_type": "stream",
     "text": [
      "\r",
      " 49%|████▉     | 49/100 [53:09<54:31, 64.14s/it]"
     ]
    },
    {
     "name": "stdout",
     "output_type": "stream",
     "text": [
      "{'regret_max': 0.032067686319351196, 'regret_mean': 0.0007490591960959136, 'regret_mults': tensor([[146.5436, 111.3567]], device='cuda:0'), 'payment': 0.41940420866012573}\n"
     ]
    },
    {
     "name": "stderr",
     "output_type": "stream",
     "text": [
      "\r",
      " 50%|█████     | 50/100 [54:13<53:28, 64.17s/it]"
     ]
    },
    {
     "name": "stdout",
     "output_type": "stream",
     "text": [
      "{'regret_max': 0.012645602226257324, 'regret_mean': 0.0003275280469097197, 'regret_mults': tensor([[150.6741, 111.4435]], device='cuda:0'), 'payment': 0.43560105562210083}\n"
     ]
    },
    {
     "name": "stderr",
     "output_type": "stream",
     "text": [
      "\r",
      " 51%|█████     | 51/100 [55:17<52:21, 64.12s/it]"
     ]
    },
    {
     "name": "stdout",
     "output_type": "stream",
     "text": [
      "{'regret_max': 0.012775659561157227, 'regret_mean': 0.0003306143917143345, 'regret_mults': tensor([[152.8957, 111.4674]], device='cuda:0'), 'payment': 0.435668408870697}\n"
     ]
    },
    {
     "name": "stderr",
     "output_type": "stream",
     "text": [
      "\r",
      " 52%|█████▏    | 52/100 [56:22<51:19, 64.16s/it]"
     ]
    },
    {
     "name": "stdout",
     "output_type": "stream",
     "text": [
      "{'regret_max': 0.12709903717041016, 'regret_mean': 0.001140177482739091, 'regret_mults': tensor([[155.0183, 111.4892]], device='cuda:0'), 'payment': 0.3508490025997162}\n"
     ]
    },
    {
     "name": "stderr",
     "output_type": "stream",
     "text": [
      "\r",
      " 53%|█████▎    | 53/100 [57:26<50:12, 64.09s/it]"
     ]
    },
    {
     "name": "stdout",
     "output_type": "stream",
     "text": [
      "{'regret_max': 0.016625940799713135, 'regret_mean': 0.0005673288833349943, 'regret_mults': tensor([[158.7723, 111.6182]], device='cuda:0'), 'payment': 0.3254260718822479}\n"
     ]
    },
    {
     "name": "stderr",
     "output_type": "stream",
     "text": [
      "\r",
      " 54%|█████▍    | 54/100 [58:30<49:07, 64.08s/it]"
     ]
    },
    {
     "name": "stdout",
     "output_type": "stream",
     "text": [
      "{'regret_max': 0.014752358198165894, 'regret_mean': 0.0003753146738745272, 'regret_mults': tensor([[163.9928, 111.7499]], device='cuda:0'), 'payment': 0.3958622217178345}\n"
     ]
    },
    {
     "name": "stderr",
     "output_type": "stream",
     "text": [
      "\r",
      " 55%|█████▌    | 55/100 [59:34<48:06, 64.14s/it]"
     ]
    },
    {
     "name": "stdout",
     "output_type": "stream",
     "text": [
      "{'regret_max': 0.010559558868408203, 'regret_mean': 0.00030912223155610263, 'regret_mults': tensor([[166.1276, 111.7911]], device='cuda:0'), 'payment': 0.41396671533584595}\n"
     ]
    },
    {
     "name": "stderr",
     "output_type": "stream",
     "text": [
      "\r",
      " 56%|█████▌    | 56/100 [1:00:38<47:01, 64.11s/it]"
     ]
    },
    {
     "name": "stdout",
     "output_type": "stream",
     "text": [
      "{'regret_max': 0.009090900421142578, 'regret_mean': 0.00030586589127779007, 'regret_mults': tensor([[168.5604, 111.8225]], device='cuda:0'), 'payment': 0.41993412375450134}\n"
     ]
    },
    {
     "name": "stderr",
     "output_type": "stream",
     "text": [
      "\r",
      " 57%|█████▋    | 57/100 [1:01:42<45:56, 64.11s/it]"
     ]
    },
    {
     "name": "stdout",
     "output_type": "stream",
     "text": [
      "{'regret_max': 0.009722679853439331, 'regret_mean': 0.0002957600518129766, 'regret_mults': tensor([[170.8295, 111.8488]], device='cuda:0'), 'payment': 0.42184850573539734}\n"
     ]
    },
    {
     "name": "stderr",
     "output_type": "stream",
     "text": [
      "\r",
      " 58%|█████▊    | 58/100 [1:02:46<44:57, 64.22s/it]"
     ]
    },
    {
     "name": "stdout",
     "output_type": "stream",
     "text": [
      "{'regret_max': 0.009915858507156372, 'regret_mean': 0.00032988114980980754, 'regret_mults': tensor([[174.6859, 111.9305]], device='cuda:0'), 'payment': 0.4225214421749115}\n"
     ]
    },
    {
     "name": "stderr",
     "output_type": "stream",
     "text": [
      "\r",
      " 59%|█████▉    | 59/100 [1:03:51<43:56, 64.31s/it]"
     ]
    },
    {
     "name": "stdout",
     "output_type": "stream",
     "text": [
      "{'regret_max': 0.010544300079345703, 'regret_mean': 0.00027517142007127404, 'regret_mults': tensor([[176.6185, 111.9658]], device='cuda:0'), 'payment': 0.4256781041622162}\n"
     ]
    },
    {
     "name": "stderr",
     "output_type": "stream",
     "text": [
      "\r",
      " 60%|██████    | 60/100 [1:04:55<42:48, 64.21s/it]"
     ]
    },
    {
     "name": "stdout",
     "output_type": "stream",
     "text": [
      "{'regret_max': 0.014780491590499878, 'regret_mean': 0.00046504545025527477, 'regret_mults': tensor([[179.7888, 111.9959]], device='cuda:0'), 'payment': 0.4191160202026367}\n"
     ]
    },
    {
     "name": "stderr",
     "output_type": "stream",
     "text": [
      "\r",
      " 61%|██████    | 61/100 [1:05:59<41:43, 64.20s/it]"
     ]
    },
    {
     "name": "stdout",
     "output_type": "stream",
     "text": [
      "{'regret_max': 0.010363996028900146, 'regret_mean': 0.0002481454284861684, 'regret_mults': tensor([[183.3167, 112.1477]], device='cuda:0'), 'payment': 0.4265046715736389}\n"
     ]
    },
    {
     "name": "stderr",
     "output_type": "stream",
     "text": [
      "\r",
      " 62%|██████▏   | 62/100 [1:07:04<40:43, 64.29s/it]"
     ]
    },
    {
     "name": "stdout",
     "output_type": "stream",
     "text": [
      "{'regret_max': 0.013350814580917358, 'regret_mean': 0.00041172505007125437, 'regret_mults': tensor([[185.6978, 112.2010]], device='cuda:0'), 'payment': 0.4212941527366638}\n"
     ]
    },
    {
     "name": "stderr",
     "output_type": "stream",
     "text": [
      "\r",
      " 63%|██████▎   | 63/100 [1:08:08<39:37, 64.26s/it]"
     ]
    },
    {
     "name": "stdout",
     "output_type": "stream",
     "text": [
      "{'regret_max': 0.010281801223754883, 'regret_mean': 0.00023081354447640479, 'regret_mults': tensor([[187.3724, 112.3186]], device='cuda:0'), 'payment': 0.4264757037162781}\n"
     ]
    },
    {
     "name": "stderr",
     "output_type": "stream",
     "text": [
      "\r",
      " 64%|██████▍   | 64/100 [1:09:12<38:35, 64.32s/it]"
     ]
    },
    {
     "name": "stdout",
     "output_type": "stream",
     "text": [
      "{'regret_max': 0.010683178901672363, 'regret_mean': 0.0002493004431016743, 'regret_mults': tensor([[190.0314, 112.3965]], device='cuda:0'), 'payment': 0.42937952280044556}\n"
     ]
    },
    {
     "name": "stderr",
     "output_type": "stream",
     "text": [
      "\r",
      " 65%|██████▌   | 65/100 [1:10:16<37:29, 64.27s/it]"
     ]
    },
    {
     "name": "stdout",
     "output_type": "stream",
     "text": [
      "{'regret_max': 0.010986119508743286, 'regret_mean': 0.0003474281693343073, 'regret_mults': tensor([[193.2377, 112.7091]], device='cuda:0'), 'payment': 0.4285459816455841}\n"
     ]
    },
    {
     "name": "stderr",
     "output_type": "stream",
     "text": [
      "\r",
      " 66%|██████▌   | 66/100 [1:11:21<36:23, 64.21s/it]"
     ]
    },
    {
     "name": "stdout",
     "output_type": "stream",
     "text": [
      "{'regret_max': 0.01445460319519043, 'regret_mean': 0.00028804061003029346, 'regret_mults': tensor([[194.9176, 113.1181]], device='cuda:0'), 'payment': 0.4433263838291168}\n"
     ]
    },
    {
     "name": "stderr",
     "output_type": "stream",
     "text": [
      "\r",
      " 67%|██████▋   | 67/100 [1:12:24<35:14, 64.06s/it]"
     ]
    },
    {
     "name": "stdout",
     "output_type": "stream",
     "text": [
      "{'regret_max': 0.03634604811668396, 'regret_mean': 0.0007687733741477132, 'regret_mults': tensor([[196.8734, 117.1871]], device='cuda:0'), 'payment': 0.4676823616027832}\n"
     ]
    },
    {
     "name": "stderr",
     "output_type": "stream",
     "text": [
      "\r",
      " 68%|██████▊   | 68/100 [1:13:28<34:06, 63.97s/it]"
     ]
    },
    {
     "name": "stdout",
     "output_type": "stream",
     "text": [
      "{'regret_max': 0.008626461029052734, 'regret_mean': 0.00026932902983389795, 'regret_mults': tensor([[200.2386, 118.8358]], device='cuda:0'), 'payment': 0.44386255741119385}\n"
     ]
    },
    {
     "name": "stderr",
     "output_type": "stream",
     "text": [
      "\r",
      " 69%|██████▉   | 69/100 [1:14:32<33:01, 63.92s/it]"
     ]
    },
    {
     "name": "stdout",
     "output_type": "stream",
     "text": [
      "{'regret_max': 0.01664641499519348, 'regret_mean': 0.0006380744162015617, 'regret_mults': tensor([[201.6362, 122.2100]], device='cuda:0'), 'payment': 0.6867766380310059}\n"
     ]
    },
    {
     "name": "stderr",
     "output_type": "stream",
     "text": [
      "\r",
      " 70%|███████   | 70/100 [1:15:36<31:57, 63.91s/it]"
     ]
    },
    {
     "name": "stdout",
     "output_type": "stream",
     "text": [
      "{'regret_max': 0.010678797960281372, 'regret_mean': 0.0004782266332767904, 'regret_mults': tensor([[203.1224, 125.1530]], device='cuda:0'), 'payment': 0.7702890038490295}\n"
     ]
    },
    {
     "name": "stderr",
     "output_type": "stream",
     "text": [
      "\r",
      " 71%|███████   | 71/100 [1:16:40<30:55, 63.98s/it]"
     ]
    },
    {
     "name": "stdout",
     "output_type": "stream",
     "text": [
      "{'regret_max': 0.01609402894973755, 'regret_mean': 0.0005428031436167657, 'regret_mults': tensor([[204.7463, 128.1219]], device='cuda:0'), 'payment': 0.8292744159698486}\n"
     ]
    },
    {
     "name": "stderr",
     "output_type": "stream",
     "text": [
      "\r",
      " 72%|███████▏  | 72/100 [1:17:44<29:50, 63.94s/it]"
     ]
    },
    {
     "name": "stdout",
     "output_type": "stream",
     "text": [
      "{'regret_max': 0.01449275016784668, 'regret_mean': 0.0005527902394533157, 'regret_mults': tensor([[207.7423, 133.3397]], device='cuda:0'), 'payment': 0.860650360584259}\n"
     ]
    },
    {
     "name": "stderr",
     "output_type": "stream",
     "text": [
      "\r",
      " 75%|███████▌  | 75/100 [1:20:55<26:38, 63.94s/it]"
     ]
    },
    {
     "name": "stdout",
     "output_type": "stream",
     "text": [
      "{'regret_max': 0.014131009578704834, 'regret_mean': 0.0005949634360149503, 'regret_mults': tensor([[214.8182, 145.1461]], device='cuda:0'), 'payment': 0.8858221769332886}\n"
     ]
    },
    {
     "name": "stderr",
     "output_type": "stream",
     "text": [
      "\r",
      " 76%|███████▌  | 76/100 [1:21:59<25:31, 63.83s/it]"
     ]
    },
    {
     "name": "stdout",
     "output_type": "stream",
     "text": [
      "{'regret_max': 0.012159407138824463, 'regret_mean': 0.0004221603157930076, 'regret_mults': tensor([[216.1891, 147.4359]], device='cuda:0'), 'payment': 0.8840594291687012}\n"
     ]
    },
    {
     "name": "stderr",
     "output_type": "stream",
     "text": [
      "\r",
      " 77%|███████▋  | 77/100 [1:23:03<24:29, 63.88s/it]"
     ]
    },
    {
     "name": "stdout",
     "output_type": "stream",
     "text": [
      "{'regret_max': 0.019572317600250244, 'regret_mean': 0.0007315920665860176, 'regret_mults': tensor([[217.6222, 149.8648]], device='cuda:0'), 'payment': 0.8797954320907593}\n"
     ]
    },
    {
     "name": "stderr",
     "output_type": "stream",
     "text": [
      "\r",
      " 78%|███████▊  | 78/100 [1:24:07<23:24, 63.83s/it]"
     ]
    },
    {
     "name": "stdout",
     "output_type": "stream",
     "text": [
      "{'regret_max': 0.012529909610748291, 'regret_mean': 0.00037581741344183683, 'regret_mults': tensor([[218.9505, 151.9997]], device='cuda:0'), 'payment': 0.8818738460540771}\n"
     ]
    },
    {
     "name": "stderr",
     "output_type": "stream",
     "text": [
      "\r",
      " 79%|███████▉  | 79/100 [1:25:10<22:19, 63.79s/it]"
     ]
    },
    {
     "name": "stdout",
     "output_type": "stream",
     "text": [
      "{'regret_max': 0.03089800477027893, 'regret_mean': 0.0007001139456406236, 'regret_mults': tensor([[237.6710, 170.9560]], device='cuda:0'), 'payment': 0.8896337747573853}\n"
     ]
    },
    {
     "name": "stderr",
     "output_type": "stream",
     "text": [
      "\r",
      " 80%|████████  | 80/100 [1:26:14<21:15, 63.79s/it]"
     ]
    },
    {
     "name": "stdout",
     "output_type": "stream",
     "text": [
      "{'regret_max': 0.01757952570915222, 'regret_mean': 0.0004634576034732163, 'regret_mults': tensor([[238.9495, 173.0380]], device='cuda:0'), 'payment': 0.8582789897918701}\n"
     ]
    },
    {
     "name": "stderr",
     "output_type": "stream",
     "text": [
      "\r",
      " 81%|████████  | 81/100 [1:27:18<20:12, 63.81s/it]"
     ]
    },
    {
     "name": "stdout",
     "output_type": "stream",
     "text": [
      "{'regret_max': 0.018184304237365723, 'regret_mean': 0.0006635506288148463, 'regret_mults': tensor([[240.3044, 175.2260]], device='cuda:0'), 'payment': 0.8667736053466797}\n"
     ]
    },
    {
     "name": "stderr",
     "output_type": "stream",
     "text": [
      "\r",
      " 82%|████████▏ | 82/100 [1:28:22<19:08, 63.80s/it]"
     ]
    },
    {
     "name": "stdout",
     "output_type": "stream",
     "text": [
      "{'regret_max': 0.010876238346099854, 'regret_mean': 0.0003116967563983053, 'regret_mults': tensor([[241.4657, 177.3033]], device='cuda:0'), 'payment': 0.879525899887085}\n"
     ]
    },
    {
     "name": "stderr",
     "output_type": "stream",
     "text": [
      "\r",
      " 83%|████████▎ | 83/100 [1:29:26<18:04, 63.79s/it]"
     ]
    },
    {
     "name": "stdout",
     "output_type": "stream",
     "text": [
      "{'regret_max': 0.011030793190002441, 'regret_mean': 0.0003255823685321957, 'regret_mults': tensor([[243.8974, 181.5596]], device='cuda:0'), 'payment': 0.8896813988685608}\n"
     ]
    },
    {
     "name": "stderr",
     "output_type": "stream",
     "text": [
      "\r",
      " 84%|████████▍ | 84/100 [1:30:29<17:00, 63.75s/it]"
     ]
    },
    {
     "name": "stdout",
     "output_type": "stream",
     "text": [
      "{'regret_max': 0.024469077587127686, 'regret_mean': 0.0006768461898900568, 'regret_mults': tensor([[246.6219, 185.6156]], device='cuda:0'), 'payment': 0.8618186712265015}\n"
     ]
    },
    {
     "name": "stderr",
     "output_type": "stream",
     "text": [
      "\r",
      " 85%|████████▌ | 85/100 [1:31:33<15:56, 63.76s/it]"
     ]
    },
    {
     "name": "stdout",
     "output_type": "stream",
     "text": [
      "{'regret_max': 0.011153221130371094, 'regret_mean': 0.0002961935824714601, 'regret_mults': tensor([[247.7705, 187.6141]], device='cuda:0'), 'payment': 0.8847329616546631}\n"
     ]
    },
    {
     "name": "stderr",
     "output_type": "stream",
     "text": [
      "\r",
      " 86%|████████▌ | 86/100 [1:32:37<14:52, 63.78s/it]"
     ]
    },
    {
     "name": "stdout",
     "output_type": "stream",
     "text": [
      "{'regret_max': 0.011283516883850098, 'regret_mean': 0.0003079817979596555, 'regret_mults': tensor([[250.3454, 191.7568]], device='cuda:0'), 'payment': 0.8913731575012207}\n"
     ]
    },
    {
     "name": "stderr",
     "output_type": "stream",
     "text": [
      "\r",
      " 87%|████████▋ | 87/100 [1:33:41<13:49, 63.77s/it]"
     ]
    },
    {
     "name": "stdout",
     "output_type": "stream",
     "text": [
      "{'regret_max': 0.023510098457336426, 'regret_mean': 0.0006425774190574884, 'regret_mults': tensor([[251.4535, 193.7934]], device='cuda:0'), 'payment': 0.8647053241729736}\n"
     ]
    },
    {
     "name": "stderr",
     "output_type": "stream",
     "text": [
      "\r",
      " 88%|████████▊ | 88/100 [1:34:44<12:45, 63.76s/it]"
     ]
    },
    {
     "name": "stdout",
     "output_type": "stream",
     "text": [
      "{'regret_max': 0.011210441589355469, 'regret_mean': 0.00028568602283485234, 'regret_mults': tensor([[252.7202, 195.8206]], device='cuda:0'), 'payment': 0.8883545398712158}\n"
     ]
    },
    {
     "name": "stderr",
     "output_type": "stream",
     "text": [
      "\r",
      " 89%|████████▉ | 89/100 [1:35:48<11:41, 63.77s/it]"
     ]
    },
    {
     "name": "stdout",
     "output_type": "stream",
     "text": [
      "{'regret_max': 0.010400176048278809, 'regret_mean': 0.000297451886581257, 'regret_mults': tensor([[253.9277, 197.8826]], device='cuda:0'), 'payment': 0.8928418159484863}\n"
     ]
    },
    {
     "name": "stderr",
     "output_type": "stream",
     "text": [
      "\r",
      " 90%|█████████ | 90/100 [1:36:52<10:37, 63.75s/it]"
     ]
    },
    {
     "name": "stdout",
     "output_type": "stream",
     "text": [
      "{'regret_max': 0.04617968201637268, 'regret_mean': 0.0013517566258087754, 'regret_mults': tensor([[304.9201, 204.5162]], device='cuda:0'), 'payment': 0.5695967674255371}\n"
     ]
    },
    {
     "name": "stderr",
     "output_type": "stream",
     "text": [
      "\r",
      " 91%|█████████ | 91/100 [1:37:56<09:33, 63.74s/it]"
     ]
    },
    {
     "name": "stdout",
     "output_type": "stream",
     "text": [
      "{'regret_max': 0.011491000652313232, 'regret_mean': 0.0003764767025131732, 'regret_mults': tensor([[307.1387, 206.2955]], device='cuda:0'), 'payment': 0.7500126361846924}\n"
     ]
    },
    {
     "name": "stderr",
     "output_type": "stream",
     "text": [
      "\r",
      " 92%|█████████▏| 92/100 [1:38:59<08:30, 63.78s/it]"
     ]
    },
    {
     "name": "stdout",
     "output_type": "stream",
     "text": [
      "{'regret_max': 0.01016908884048462, 'regret_mean': 0.00029768887907266617, 'regret_mults': tensor([[308.7852, 208.2594]], device='cuda:0'), 'payment': 0.8233309984207153}\n"
     ]
    },
    {
     "name": "stderr",
     "output_type": "stream",
     "text": [
      "\r",
      " 93%|█████████▎| 93/100 [1:40:03<07:26, 63.79s/it]"
     ]
    },
    {
     "name": "stdout",
     "output_type": "stream",
     "text": [
      "{'regret_max': 0.01021188497543335, 'regret_mean': 0.00026974992942996323, 'regret_mults': tensor([[311.2154, 212.1665]], device='cuda:0'), 'payment': 0.8566388487815857}\n"
     ]
    },
    {
     "name": "stderr",
     "output_type": "stream",
     "text": [
      "\r",
      " 94%|█████████▍| 94/100 [1:41:07<06:22, 63.79s/it]"
     ]
    },
    {
     "name": "stdout",
     "output_type": "stream",
     "text": [
      "{'regret_max': 0.02118629217147827, 'regret_mean': 0.0004917855840176344, 'regret_mults': tensor([[312.2628, 214.2459]], device='cuda:0'), 'payment': 0.8679125308990479}\n"
     ]
    },
    {
     "name": "stderr",
     "output_type": "stream",
     "text": [
      "\r",
      " 95%|█████████▌| 95/100 [1:42:11<05:19, 63.82s/it]"
     ]
    },
    {
     "name": "stdout",
     "output_type": "stream",
     "text": [
      "{'regret_max': 0.011974036693572998, 'regret_mean': 0.00034010675153695047, 'regret_mults': tensor([[313.2178, 215.9709]], device='cuda:0'), 'payment': 0.8495630025863647}\n"
     ]
    },
    {
     "name": "stderr",
     "output_type": "stream",
     "text": [
      "\r",
      " 96%|█████████▌| 96/100 [1:43:15<04:15, 63.78s/it]"
     ]
    },
    {
     "name": "stdout",
     "output_type": "stream",
     "text": [
      "{'regret_max': 0.01003032922744751, 'regret_mean': 0.00024321589444298297, 'regret_mults': tensor([[314.3250, 217.7967]], device='cuda:0'), 'payment': 0.8805698156356812}\n"
     ]
    },
    {
     "name": "stderr",
     "output_type": "stream",
     "text": [
      "\r",
      " 97%|█████████▋| 97/100 [1:44:18<03:11, 63.77s/it]"
     ]
    },
    {
     "name": "stdout",
     "output_type": "stream",
     "text": [
      "{'regret_max': 0.009858906269073486, 'regret_mean': 0.000245817587710917, 'regret_mults': tensor([[316.4079, 221.6467]], device='cuda:0'), 'payment': 0.885425865650177}\n"
     ]
    },
    {
     "name": "stderr",
     "output_type": "stream",
     "text": [
      "\r",
      " 98%|█████████▊| 98/100 [1:45:22<02:07, 63.71s/it]"
     ]
    },
    {
     "name": "stdout",
     "output_type": "stream",
     "text": [
      "{'regret_max': 0.02804628014564514, 'regret_mean': 0.0006132174748927355, 'regret_mults': tensor([[318.2228, 223.8218]], device='cuda:0'), 'payment': 0.8451941013336182}\n"
     ]
    },
    {
     "name": "stderr",
     "output_type": "stream",
     "text": [
      "\r",
      " 99%|█████████▉| 99/100 [1:46:26<01:03, 63.69s/it]"
     ]
    },
    {
     "name": "stdout",
     "output_type": "stream",
     "text": [
      "{'regret_max': 0.009754776954650879, 'regret_mean': 0.00022779843129683286, 'regret_mults': tensor([[319.1113, 225.6398]], device='cuda:0'), 'payment': 0.8812506198883057}\n"
     ]
    },
    {
     "name": "stderr",
     "output_type": "stream",
     "text": [
      "100%|██████████| 100/100 [1:47:29<00:00, 64.50s/it]"
     ]
    },
    {
     "name": "stdout",
     "output_type": "stream",
     "text": [
      "{'regret_max': 0.009842455387115479, 'regret_mean': 0.000235067680478096, 'regret_mults': tensor([[321.1943, 229.6456]], device='cuda:0'), 'payment': 0.8878908157348633}\n",
      "CPU times: user 1h 47min 10s, sys: 12 s, total: 1h 47min 22s\n",
      "Wall time: 1h 47min 29s\n"
     ]
    },
    {
     "name": "stderr",
     "output_type": "stream",
     "text": [
      "\n"
     ]
    }
   ],
   "source": [
    "%%time\n",
    "mean_rgt, mean_pay, lagr_mults = train_loop(model, train_loader, args, device=device)"
   ]
  },
  {
   "cell_type": "code",
   "execution_count": 6,
   "metadata": {},
   "outputs": [],
   "source": [
    "dir_name = 'unit_2x15_0_1_experiment_data/'"
   ]
  },
  {
   "cell_type": "code",
   "execution_count": 7,
   "metadata": {},
   "outputs": [
    {
     "name": "stderr",
     "output_type": "stream",
     "text": [
      "1it [00:18, 18.65s/it]"
     ]
    },
    {
     "name": "stdout",
     "output_type": "stream",
     "text": [
      "CPU times: user 18.6 s, sys: 23 ms, total: 18.6 s\n",
      "Wall time: 18.7 s\n"
     ]
    },
    {
     "name": "stderr",
     "output_type": "stream",
     "text": [
      "\n"
     ]
    },
    {
     "data": {
      "text/plain": [
       "{'payment_mean': 0.886029839515686,\n",
       " 'regret_mean': 0.0012264503166079521,\n",
       " 'regret_max': 0.008139997720718384}"
      ]
     },
     "execution_count": 7,
     "metadata": {},
     "output_type": "execute_result"
    }
   ],
   "source": [
    "%%time\n",
    "# model.sinkhorn_rounds = 100\n",
    "# model.sinkhorn_epsilon = 1e-2\n",
    "test_data = ds.generate_dataset_nxk(args.n_agents, args.n_items, args.test_num_examples, item_ranges).to(device)\n",
    "torch.save(test_data, dir_name + 'test_data')\n",
    "#test_data = torch.load(dir_name + 'test_data').to(device=device)\n",
    "cpu_test_data = test_data.clone().to(device='cpu')\n",
    "\n",
    "test_loader = ds.Dataloader(test_data, batch_size=args.test_batch_size, shuffle=True)\n",
    "\n",
    "result = test_loop(model, test_loader, args, device=device)\n",
    "result"
   ]
  },
  {
   "cell_type": "code",
   "execution_count": 17,
   "metadata": {
    "scrolled": true
   },
   "outputs": [
    {
     "name": "stderr",
     "output_type": "stream",
     "text": [
      "1it [03:25, 205.94s/it]"
     ]
    },
    {
     "name": "stdout",
     "output_type": "stream",
     "text": [
      "CPU times: user 3min 25s, sys: 391 ms, total: 3min 25s\n",
      "Wall time: 3min 25s\n"
     ]
    },
    {
     "name": "stderr",
     "output_type": "stream",
     "text": [
      "\n"
     ]
    },
    {
     "data": {
      "text/plain": [
       "{'payment_mean': 0.886029839515686,\n",
       " 'regret_mean': 0.0012776502408087254,\n",
       " 'regret_max': 0.008141130208969116}"
      ]
     },
     "execution_count": 17,
     "metadata": {},
     "output_type": "execute_result"
    }
   ],
   "source": [
    "%%time\n",
    "args.test_num_examples = 1000\n",
    "args.test_batch_size = 1000\n",
    "args.test_misreport_iter = 1000\n",
    "args.misreport_lr = 1e-1\n",
    "model.sinkhorn_rounds = 20\n",
    "model.sinkhorn_epsilon = 5e-2\n",
    "\n",
    "random_starts = [test_data]\n",
    "for i in range(10):\n",
    "    random_starts.append(ds.generate_dataset_nxk(args.n_agents, args.n_items, args.test_num_examples, item_ranges).to(device))\n",
    "test_loader = ds.Dataloader(test_data, batch_size=args.test_batch_size, shuffle=True)\n",
    "\n",
    "result = test_loop_random_start(model, test_loader, args, random_starts, device=device)\n",
    "result"
   ]
  },
  {
   "cell_type": "code",
   "execution_count": 9,
   "metadata": {},
   "outputs": [],
   "source": [
    "model.save(dir_name)"
   ]
  },
  {
   "cell_type": "code",
   "execution_count": 10,
   "metadata": {},
   "outputs": [],
   "source": [
    "import cvxpy as cp\n",
    "import numpy as np\n",
    "from typing import NamedTuple\n",
    "from tqdm.notebook import tqdm"
   ]
  },
  {
   "cell_type": "code",
   "execution_count": 11,
   "metadata": {},
   "outputs": [],
   "source": [
    "class AuctionResult(NamedTuple):\n",
    "    alloc: np.ndarray\n",
    "    welfare: np.ndarray\n",
    "    payment: np.ndarray"
   ]
  },
  {
   "cell_type": "code",
   "execution_count": 12,
   "metadata": {},
   "outputs": [],
   "source": [
    "def max_welfare_alloc(bids_mat, k, exact_demand=False):\n",
    "    # returns allocation, util of allocation\n",
    "\n",
    "    num_agents = bids_mat.shape[0]\n",
    "    num_items = bids_mat.shape[1]\n",
    "    alloc_matrix = cp.Variable((num_agents, num_items), nonneg=True)\n",
    "    item_supply_constraints = cp.sum(alloc_matrix, axis=0) <= 1\n",
    "    if exact_demand:\n",
    "        agent_demand_constraints = cp.sum(alloc_matrix, axis=1) == k\n",
    "    else:\n",
    "        agent_demand_constraints = cp.sum(alloc_matrix, axis=1) <= k\n",
    "    welfare = cp.sum((cp.multiply(bids_mat, alloc_matrix)))\n",
    "    problem = cp.Problem(cp.Maximize(welfare), [item_supply_constraints, agent_demand_constraints])\n",
    "    problem.solve()\n",
    "    return (alloc_matrix.value, problem.value)"
   ]
  },
  {
   "cell_type": "code",
   "execution_count": 13,
   "metadata": {},
   "outputs": [],
   "source": [
    "def vcg_auction(bids_mat, k, exact_demand=False):\n",
    "    main_alloc, max_welfare_total_util = max_welfare_alloc(bids_mat, k, exact_demand=exact_demand)\n",
    "    payments = np.zeros(bids_mat.shape[0])\n",
    "    player_utils = (bids_mat * main_alloc).sum(axis=1)\n",
    "    num_agents = bids_mat.shape[0]\n",
    "    for i in range(num_agents):\n",
    "        dropped_bid_mat = np.delete(bids_mat, (i), axis=0)\n",
    "        dropped_player_utils = np.delete(player_utils, (i), axis=0) # player utils under full auction\n",
    "        new_alloc, new_total_util = max_welfare_alloc(dropped_bid_mat, k, exact_demand=exact_demand)\n",
    "        new_agent_utils = (new_alloc*dropped_bid_mat).sum(axis=1) # player utils without agent i's bid\n",
    "        payments[i] = (new_agent_utils - dropped_player_utils).sum() \n",
    "    return AuctionResult(main_alloc, player_utils, payments)"
   ]
  },
  {
   "cell_type": "code",
   "execution_count": 14,
   "metadata": {},
   "outputs": [],
   "source": [
    "payments = []\n",
    "for i in range(test_data.shape[0]):\n",
    "    payments.append(vcg_auction(cpu_test_data[i].cpu().numpy(), 1, exact_demand=False).payment.sum())"
   ]
  },
  {
   "cell_type": "code",
   "execution_count": 15,
   "metadata": {},
   "outputs": [
    {
     "data": {
      "text/plain": [
       "0.0018617426402055984"
      ]
     },
     "execution_count": 15,
     "metadata": {},
     "output_type": "execute_result"
    }
   ],
   "source": [
    "np.mean(payments)"
   ]
  },
  {
   "cell_type": "code",
   "execution_count": 16,
   "metadata": {},
   "outputs": [],
   "source": [
    "import pickle\n",
    "to_pkl_lst = [mean_rgt, mean_pay, lagr_mults]\n",
    "for i, fname in enumerate(['mean_rgt', 'mean_pay', 'lagr_mults']):\n",
    "    with open(dir_name + fname, 'wb') as fp:\n",
    "        pickle.dump(to_pkl_lst[i], fp)"
   ]
  }
 ],
 "metadata": {
  "kernelspec": {
   "display_name": "Python 3",
   "language": "python",
   "name": "python3"
  },
  "language_info": {
   "codemirror_mode": {
    "name": "ipython",
    "version": 3
   },
   "file_extension": ".py",
   "mimetype": "text/x-python",
   "name": "python",
   "nbconvert_exporter": "python",
   "pygments_lexer": "ipython3",
   "version": "3.7.4"
  }
 },
 "nbformat": 4,
 "nbformat_minor": 2
}
