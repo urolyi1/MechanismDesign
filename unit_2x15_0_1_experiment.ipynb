{
 "cells": [
  {
   "cell_type": "code",
   "execution_count": 1,
   "metadata": {},
   "outputs": [],
   "source": [
    "import torch\n",
    "from torch import nn, optim\n",
    "import torch.nn.functional as F\n",
    "import numpy as np\n",
    "from argparse import ArgumentParser\n",
    "from double_net.double_net import DoubleNet, train_loop, train_loop_no_lagrange, test_loop, test_loop_random_start\n",
    "from double_net import datasets as ds\n",
    "import time\n",
    "import double_net.plot_utils as pu\n",
    "import importlib\n",
    "import matplotlib.pyplot as plt"
   ]
  },
  {
   "cell_type": "code",
   "execution_count": 2,
   "metadata": {},
   "outputs": [],
   "source": [
    "if torch.cuda.is_available():\n",
    "    device = 'cuda'\n",
    "else:\n",
    "    device = 'cpu'"
   ]
  },
  {
   "cell_type": "code",
   "execution_count": 3,
   "metadata": {},
   "outputs": [
    {
     "data": {
      "text/plain": [
       "Namespace(batch_size=4096, lagr_update_iter=100, misreport_iter=25, misreport_lr=0.1, model_lr=0.001, n_agents=2, n_items=15, num_epochs=100, num_examples=524288, random_seed=0, rgt_start=0, rho=1, rho_incr_amount=1.0, rho_incr_iter=2, sinkhorn_epsilon=0.05, sinkhorn_rounds=10, test_batch_size=1000, test_iter=5, test_misreport_iter=1000, test_num_examples=1000)"
      ]
     },
     "execution_count": 3,
     "metadata": {},
     "output_type": "execute_result"
    }
   ],
   "source": [
    "parser = ArgumentParser()\n",
    "parser.add_argument('--random-seed', type=int, default=0)\n",
    "parser.add_argument('--num-examples', type=int, default=131072 * 4)\n",
    "parser.add_argument('--test-num-examples', type=int, default=1000)\n",
    "parser.add_argument('--test-iter', type=int, default=5)\n",
    "parser.add_argument('--n-agents', type=int, default=2)\n",
    "parser.add_argument('--n-items', type=int, default=15)\n",
    "parser.add_argument('--num-epochs', type=int, default=100)\n",
    "parser.add_argument('--batch-size', type=int, default=128 * 32)\n",
    "parser.add_argument('--test-batch-size', type=int, default=1000)\n",
    "parser.add_argument('--model-lr', type=float, default=1e-3)\n",
    "parser.add_argument('--misreport-lr', type=float, default=1e-1)\n",
    "parser.add_argument('--misreport-iter', type=int, default=25)\n",
    "parser.add_argument('--test-misreport-iter', type=int, default=1000)\n",
    "parser.add_argument('--rho', type=float, default=1)\n",
    "parser.add_argument('--rho-incr-iter', type=int, default=2)\n",
    "parser.add_argument('--rho-incr-amount', type=float, default=1.0)\n",
    "parser.add_argument('--lagr-update-iter', type=int, default=100)\n",
    "parser.add_argument('--rgt-start', type=int, default=0)\n",
    "parser.add_argument('--sinkhorn-epsilon', type=float, default=5e-2)\n",
    "parser.add_argument('--sinkhorn-rounds', type=int, default=10)\n",
    "\n",
    "\n",
    "args = parser.parse_args(args=[])\n",
    "args"
   ]
  },
  {
   "cell_type": "code",
   "execution_count": 4,
   "metadata": {},
   "outputs": [],
   "source": [
    "torch.manual_seed(args.random_seed)\n",
    "np.random.seed(args.random_seed)\n",
    "\n",
    "item_ranges = ds.preset_valuation_range(args.n_agents, args.n_items, \"\")\n",
    "\n",
    "model = DoubleNet(\n",
    "    args.n_agents, args.n_items, item_ranges, args.sinkhorn_epsilon, args.sinkhorn_rounds, marginal_choice='unit'\n",
    ").to(device)\n",
    "\n",
    "train_data = ds.generate_dataset_nxk(args.n_agents, args.n_items, args.num_examples, item_ranges).to(device)\n",
    "train_loader = ds.Dataloader(train_data, batch_size=args.batch_size, shuffle=True)"
   ]
  },
  {
   "cell_type": "code",
   "execution_count": 5,
   "metadata": {
    "scrolled": true
   },
   "outputs": [
    {
     "name": "stderr",
     "output_type": "stream",
     "text": [
      "  1%|          | 1/100 [02:19<3:50:38, 139.79s/it]"
     ]
    },
    {
     "name": "stdout",
     "output_type": "stream",
     "text": [
      "{'regret_max': 0.5104876756668091, 'regret_mean': 0.06810922920703888, 'regret_mults': tensor([[4.9695, 5.1302]], device='cuda:0'), 'payment': 1.1747324466705322}\n"
     ]
    },
    {
     "name": "stderr",
     "output_type": "stream",
     "text": [
      "\r",
      "  2%|▏         | 2/100 [05:08<4:02:42, 148.59s/it]"
     ]
    },
    {
     "name": "stdout",
     "output_type": "stream",
     "text": [
      "{'regret_max': 0.1295037865638733, 'regret_mean': 0.025091122835874557, 'regret_mults': tensor([[7.8900, 8.0482]], device='cuda:0'), 'payment': 1.2767478227615356}\n"
     ]
    },
    {
     "name": "stderr",
     "output_type": "stream",
     "text": [
      "\r",
      "  3%|▎         | 3/100 [07:34<3:58:35, 147.58s/it]"
     ]
    },
    {
     "name": "stdout",
     "output_type": "stream",
     "text": [
      "{'regret_max': 0.15584594011306763, 'regret_mean': 0.015460350550711155, 'regret_mults': tensor([[10.6839, 10.6796]], device='cuda:0'), 'payment': 1.2102285623550415}\n"
     ]
    },
    {
     "name": "stderr",
     "output_type": "stream",
     "text": [
      "\r",
      "  4%|▍         | 4/100 [09:42<3:46:51, 141.78s/it]"
     ]
    },
    {
     "name": "stdout",
     "output_type": "stream",
     "text": [
      "{'regret_max': 0.10177552700042725, 'regret_mean': 0.011259044520556927, 'regret_mults': tensor([[16.0909, 15.9112]], device='cuda:0'), 'payment': 1.176579475402832}\n"
     ]
    },
    {
     "name": "stderr",
     "output_type": "stream",
     "text": [
      "\r",
      "  5%|▌         | 5/100 [11:41<3:33:41, 134.96s/it]"
     ]
    },
    {
     "name": "stdout",
     "output_type": "stream",
     "text": [
      "{'regret_max': 0.0666155219078064, 'regret_mean': 0.008392645046114922, 'regret_mults': tensor([[18.8946, 18.9309]], device='cuda:0'), 'payment': 1.1419869661331177}\n"
     ]
    },
    {
     "name": "stderr",
     "output_type": "stream",
     "text": [
      "\r",
      "  6%|▌         | 6/100 [13:35<3:21:47, 128.80s/it]"
     ]
    },
    {
     "name": "stdout",
     "output_type": "stream",
     "text": [
      "{'regret_max': 0.06578248739242554, 'regret_mean': 0.006772239692509174, 'regret_mults': tensor([[21.2605, 21.2147]], device='cuda:0'), 'payment': 1.1159634590148926}\n"
     ]
    },
    {
     "name": "stderr",
     "output_type": "stream",
     "text": [
      "\r",
      "  7%|▋         | 7/100 [15:27<3:11:30, 123.55s/it]"
     ]
    },
    {
     "name": "stdout",
     "output_type": "stream",
     "text": [
      "{'regret_max': 0.05560511350631714, 'regret_mean': 0.005796357523649931, 'regret_mults': tensor([[23.5620, 23.7578]], device='cuda:0'), 'payment': 1.0953820943832397}\n"
     ]
    },
    {
     "name": "stderr",
     "output_type": "stream",
     "text": [
      "\r",
      "  8%|▊         | 8/100 [17:17<3:03:12, 119.48s/it]"
     ]
    },
    {
     "name": "stdout",
     "output_type": "stream",
     "text": [
      "{'regret_max': 0.053995609283447266, 'regret_mean': 0.005147078074514866, 'regret_mults': tensor([[28.3173, 28.6241]], device='cuda:0'), 'payment': 1.0772485733032227}\n"
     ]
    },
    {
     "name": "stderr",
     "output_type": "stream",
     "text": [
      "\r",
      "  9%|▉         | 9/100 [19:05<2:56:10, 116.16s/it]"
     ]
    },
    {
     "name": "stdout",
     "output_type": "stream",
     "text": [
      "{'regret_max': 0.051261723041534424, 'regret_mean': 0.004458335693925619, 'regret_mults': tensor([[30.5700, 30.9551]], device='cuda:0'), 'payment': 1.0623786449432373}\n"
     ]
    },
    {
     "name": "stderr",
     "output_type": "stream",
     "text": [
      "\r",
      " 10%|█         | 10/100 [20:52<2:50:02, 113.36s/it]"
     ]
    },
    {
     "name": "stdout",
     "output_type": "stream",
     "text": [
      "{'regret_max': 0.05081355571746826, 'regret_mean': 0.004121740814298391, 'regret_mults': tensor([[32.8520, 33.3268]], device='cuda:0'), 'payment': 1.0479862689971924}\n"
     ]
    },
    {
     "name": "stderr",
     "output_type": "stream",
     "text": [
      "\r",
      " 11%|█         | 11/100 [22:38<2:44:55, 111.19s/it]"
     ]
    },
    {
     "name": "stdout",
     "output_type": "stream",
     "text": [
      "{'regret_max': 0.045315682888031006, 'regret_mean': 0.0038318755105137825, 'regret_mults': tensor([[37.3246, 37.7910]], device='cuda:0'), 'payment': 1.0340831279754639}\n"
     ]
    },
    {
     "name": "stderr",
     "output_type": "stream",
     "text": [
      "\r",
      " 12%|█▏        | 12/100 [24:27<2:41:57, 110.42s/it]"
     ]
    },
    {
     "name": "stdout",
     "output_type": "stream",
     "text": [
      "{'regret_max': 0.04332566261291504, 'regret_mean': 0.0036788424476981163, 'regret_mults': tensor([[39.7031, 40.1323]], device='cuda:0'), 'payment': 1.03053617477417}\n"
     ]
    },
    {
     "name": "stderr",
     "output_type": "stream",
     "text": [
      "\r",
      " 13%|█▎        | 13/100 [26:12<2:37:49, 108.84s/it]"
     ]
    },
    {
     "name": "stdout",
     "output_type": "stream",
     "text": [
      "{'regret_max': 0.04259449243545532, 'regret_mean': 0.002930755028501153, 'regret_mults': tensor([[42.0591, 42.5914]], device='cuda:0'), 'payment': 1.0166409015655518}\n"
     ]
    },
    {
     "name": "stderr",
     "output_type": "stream",
     "text": [
      "\r",
      " 14%|█▍        | 14/100 [27:58<2:34:48, 108.00s/it]"
     ]
    },
    {
     "name": "stdout",
     "output_type": "stream",
     "text": [
      "{'regret_max': 0.04052329063415527, 'regret_mean': 0.002916911384090781, 'regret_mults': tensor([[44.5013, 45.2509]], device='cuda:0'), 'payment': 1.01230788230896}\n"
     ]
    },
    {
     "name": "stderr",
     "output_type": "stream",
     "text": [
      "\r",
      " 15%|█▌        | 15/100 [29:44<2:32:18, 107.52s/it]"
     ]
    },
    {
     "name": "stdout",
     "output_type": "stream",
     "text": [
      "{'regret_max': 0.038160741329193115, 'regret_mean': 0.0028144160751253366, 'regret_mults': tensor([[49.3420, 50.0106]], device='cuda:0'), 'payment': 1.0044341087341309}\n"
     ]
    },
    {
     "name": "stderr",
     "output_type": "stream",
     "text": [
      "\r",
      " 16%|█▌        | 16/100 [31:29<2:29:21, 106.68s/it]"
     ]
    },
    {
     "name": "stdout",
     "output_type": "stream",
     "text": [
      "{'regret_max': 0.06383591890335083, 'regret_mean': 0.003572282148525119, 'regret_mults': tensor([[51.5057, 52.3606]], device='cuda:0'), 'payment': 0.9499381184577942}\n"
     ]
    },
    {
     "name": "stderr",
     "output_type": "stream",
     "text": [
      "\r",
      " 17%|█▋        | 17/100 [33:15<2:27:07, 106.36s/it]"
     ]
    },
    {
     "name": "stdout",
     "output_type": "stream",
     "text": [
      "{'regret_max': 0.03298819065093994, 'regret_mean': 0.002275912556797266, 'regret_mults': tensor([[53.8478, 54.6589]], device='cuda:0'), 'payment': 0.9873009920120239}\n"
     ]
    },
    {
     "name": "stderr",
     "output_type": "stream",
     "text": [
      "\r",
      " 18%|█▊        | 18/100 [35:01<2:25:32, 106.49s/it]"
     ]
    },
    {
     "name": "stdout",
     "output_type": "stream",
     "text": [
      "{'regret_max': 0.034037888050079346, 'regret_mean': 0.002215922111645341, 'regret_mults': tensor([[58.8073, 59.5316]], device='cuda:0'), 'payment': 0.9857287406921387}\n"
     ]
    },
    {
     "name": "stderr",
     "output_type": "stream",
     "text": [
      "\r",
      " 19%|█▉        | 19/100 [36:49<2:24:05, 106.74s/it]"
     ]
    },
    {
     "name": "stdout",
     "output_type": "stream",
     "text": [
      "{'regret_max': 0.030093014240264893, 'regret_mean': 0.0021373366471379995, 'regret_mults': tensor([[61.2313, 62.0020]], device='cuda:0'), 'payment': 0.9801058769226074}\n"
     ]
    },
    {
     "name": "stderr",
     "output_type": "stream",
     "text": [
      "\r",
      " 20%|██        | 20/100 [38:35<2:21:59, 106.50s/it]"
     ]
    },
    {
     "name": "stdout",
     "output_type": "stream",
     "text": [
      "{'regret_max': 0.02980482578277588, 'regret_mean': 0.0020508808083832264, 'regret_mults': tensor([[63.8186, 64.4533]], device='cuda:0'), 'payment': 0.9742264747619629}\n"
     ]
    },
    {
     "name": "stderr",
     "output_type": "stream",
     "text": [
      "\r",
      " 21%|██        | 21/100 [40:20<2:19:37, 106.04s/it]"
     ]
    },
    {
     "name": "stdout",
     "output_type": "stream",
     "text": [
      "{'regret_max': 0.030452370643615723, 'regret_mean': 0.0019294873345643282, 'regret_mults': tensor([[66.1081, 66.6822]], device='cuda:0'), 'payment': 0.9692943096160889}\n"
     ]
    },
    {
     "name": "stderr",
     "output_type": "stream",
     "text": [
      "\r",
      " 22%|██▏       | 22/100 [42:05<2:17:33, 105.82s/it]"
     ]
    },
    {
     "name": "stdout",
     "output_type": "stream",
     "text": [
      "{'regret_max': 0.027286291122436523, 'regret_mean': 0.001855341950431466, 'regret_mults': tensor([[70.9356, 71.3644]], device='cuda:0'), 'payment': 0.9664717316627502}\n"
     ]
    },
    {
     "name": "stderr",
     "output_type": "stream",
     "text": [
      "\r",
      " 23%|██▎       | 23/100 [43:50<2:15:31, 105.60s/it]"
     ]
    },
    {
     "name": "stdout",
     "output_type": "stream",
     "text": [
      "{'regret_max': 0.025763869285583496, 'regret_mean': 0.0018470233771950006, 'regret_mults': tensor([[73.2676, 73.5140]], device='cuda:0'), 'payment': 0.9594696164131165}\n"
     ]
    },
    {
     "name": "stderr",
     "output_type": "stream",
     "text": [
      "\r",
      " 24%|██▍       | 24/100 [45:35<2:13:42, 105.56s/it]"
     ]
    },
    {
     "name": "stdout",
     "output_type": "stream",
     "text": [
      "{'regret_max': 0.03991657495498657, 'regret_mean': 0.0019524433882907033, 'regret_mults': tensor([[75.8328, 75.6586]], device='cuda:0'), 'payment': 0.9563559293746948}\n"
     ]
    },
    {
     "name": "stderr",
     "output_type": "stream",
     "text": [
      "\r",
      " 25%|██▌       | 25/100 [47:20<2:11:23, 105.11s/it]"
     ]
    },
    {
     "name": "stdout",
     "output_type": "stream",
     "text": [
      "{'regret_max': 0.02530992031097412, 'regret_mean': 0.0016307812184095383, 'regret_mults': tensor([[80.6843, 80.5533]], device='cuda:0'), 'payment': 0.9383583068847656}\n"
     ]
    },
    {
     "name": "stderr",
     "output_type": "stream",
     "text": [
      "\r",
      " 26%|██▌       | 26/100 [49:04<2:09:24, 104.93s/it]"
     ]
    },
    {
     "name": "stdout",
     "output_type": "stream",
     "text": [
      "{'regret_max': 0.02382296323776245, 'regret_mean': 0.0014778361655771732, 'regret_mults': tensor([[83.0823, 82.8649]], device='cuda:0'), 'payment': 0.9516894817352295}\n"
     ]
    },
    {
     "name": "stderr",
     "output_type": "stream",
     "text": [
      "\r",
      " 27%|██▋       | 27/100 [50:49<2:07:30, 104.80s/it]"
     ]
    },
    {
     "name": "stdout",
     "output_type": "stream",
     "text": [
      "{'regret_max': 0.022412002086639404, 'regret_mean': 0.0014871445018798113, 'regret_mults': tensor([[85.4126, 85.4770]], device='cuda:0'), 'payment': 0.9494786858558655}\n"
     ]
    },
    {
     "name": "stderr",
     "output_type": "stream",
     "text": [
      "\r",
      " 28%|██▊       | 28/100 [52:33<2:05:41, 104.75s/it]"
     ]
    },
    {
     "name": "stdout",
     "output_type": "stream",
     "text": [
      "{'regret_max': 0.022041141986846924, 'regret_mean': 0.0014224930200725794, 'regret_mults': tensor([[87.9779, 87.7082]], device='cuda:0'), 'payment': 0.9479987621307373}\n"
     ]
    },
    {
     "name": "stderr",
     "output_type": "stream",
     "text": [
      "\r",
      " 29%|██▉       | 29/100 [54:19<2:04:19, 105.06s/it]"
     ]
    },
    {
     "name": "stdout",
     "output_type": "stream",
     "text": [
      "{'regret_max': 0.01965188980102539, 'regret_mean': 0.0013601297978311777, 'regret_mults': tensor([[92.5739, 92.4067]], device='cuda:0'), 'payment': 0.9474087953567505}\n"
     ]
    },
    {
     "name": "stderr",
     "output_type": "stream",
     "text": [
      "\r",
      " 30%|███       | 30/100 [56:07<2:03:35, 105.94s/it]"
     ]
    },
    {
     "name": "stdout",
     "output_type": "stream",
     "text": [
      "{'regret_max': 0.017726242542266846, 'regret_mean': 0.0013478181790560484, 'regret_mults': tensor([[94.6583, 94.6623]], device='cuda:0'), 'payment': 0.9510478973388672}\n"
     ]
    },
    {
     "name": "stderr",
     "output_type": "stream",
     "text": [
      "\r",
      " 31%|███       | 31/100 [57:57<2:03:15, 107.18s/it]"
     ]
    },
    {
     "name": "stdout",
     "output_type": "stream",
     "text": [
      "{'regret_max': 0.020108938217163086, 'regret_mean': 0.0012291116872802377, 'regret_mults': tensor([[96.5949, 96.7221]], device='cuda:0'), 'payment': 0.951083779335022}\n"
     ]
    },
    {
     "name": "stderr",
     "output_type": "stream",
     "text": [
      "\r",
      " 32%|███▏      | 32/100 [59:48<2:02:53, 108.43s/it]"
     ]
    },
    {
     "name": "stdout",
     "output_type": "stream",
     "text": [
      "{'regret_max': 0.019551396369934082, 'regret_mean': 0.0012281601084396243, 'regret_mults': tensor([[98.8845, 98.9605]], device='cuda:0'), 'payment': 0.9529879689216614}\n"
     ]
    },
    {
     "name": "stderr",
     "output_type": "stream",
     "text": [
      "\r",
      " 33%|███▎      | 33/100 [1:01:42<2:02:41, 109.88s/it]"
     ]
    },
    {
     "name": "stdout",
     "output_type": "stream",
     "text": [
      "{'regret_max': 0.019101977348327637, 'regret_mean': 0.0011015112977474928, 'regret_mults': tensor([[103.0563, 103.2544]], device='cuda:0'), 'payment': 0.9555980563163757}\n"
     ]
    },
    {
     "name": "stderr",
     "output_type": "stream",
     "text": [
      "\r",
      " 34%|███▍      | 34/100 [1:03:35<2:01:57, 110.87s/it]"
     ]
    },
    {
     "name": "stdout",
     "output_type": "stream",
     "text": [
      "{'regret_max': 0.03527906537055969, 'regret_mean': 0.001401109853759408, 'regret_mults': tensor([[108.1822, 106.2391]], device='cuda:0'), 'payment': 0.9477399587631226}\n"
     ]
    },
    {
     "name": "stderr",
     "output_type": "stream",
     "text": [
      "\r",
      " 35%|███▌      | 35/100 [1:05:31<2:01:48, 112.43s/it]"
     ]
    },
    {
     "name": "stdout",
     "output_type": "stream",
     "text": [
      "{'regret_max': 0.02157139778137207, 'regret_mean': 0.000942601531278342, 'regret_mults': tensor([[110.0886, 108.0747]], device='cuda:0'), 'payment': 0.9510531425476074}\n"
     ]
    },
    {
     "name": "stderr",
     "output_type": "stream",
     "text": [
      "\r",
      " 36%|███▌      | 36/100 [1:07:26<2:00:56, 113.39s/it]"
     ]
    },
    {
     "name": "stdout",
     "output_type": "stream",
     "text": [
      "{'regret_max': 0.019401907920837402, 'regret_mean': 0.0009971123654395342, 'regret_mults': tensor([[114.1524, 112.5257]], device='cuda:0'), 'payment': 0.9523934721946716}\n"
     ]
    },
    {
     "name": "stderr",
     "output_type": "stream",
     "text": [
      "\r",
      " 37%|███▋      | 37/100 [1:09:23<1:59:52, 114.17s/it]"
     ]
    },
    {
     "name": "stdout",
     "output_type": "stream",
     "text": [
      "{'regret_max': 0.01911073923110962, 'regret_mean': 0.0010563777759671211, 'regret_mults': tensor([[116.2325, 114.5293]], device='cuda:0'), 'payment': 0.9496234059333801}\n"
     ]
    },
    {
     "name": "stderr",
     "output_type": "stream",
     "text": [
      "\r",
      " 38%|███▊      | 38/100 [1:11:19<1:58:46, 114.95s/it]"
     ]
    },
    {
     "name": "stdout",
     "output_type": "stream",
     "text": [
      "{'regret_max': 0.019036173820495605, 'regret_mean': 0.0010037386091426015, 'regret_mults': tensor([[119.0853, 116.6618]], device='cuda:0'), 'payment': 0.9509462118148804}\n"
     ]
    },
    {
     "name": "stderr",
     "output_type": "stream",
     "text": [
      "\r",
      " 39%|███▉      | 39/100 [1:13:16<1:57:22, 115.46s/it]"
     ]
    },
    {
     "name": "stdout",
     "output_type": "stream",
     "text": [
      "{'regret_max': 0.017966628074645996, 'regret_mean': 0.0008227959624491632, 'regret_mults': tensor([[121.0050, 118.7196]], device='cuda:0'), 'payment': 0.9497300386428833}\n"
     ]
    },
    {
     "name": "stderr",
     "output_type": "stream",
     "text": [
      "\r",
      " 40%|████      | 40/100 [1:15:17<1:56:59, 117.00s/it]"
     ]
    },
    {
     "name": "stdout",
     "output_type": "stream",
     "text": [
      "{'regret_max': 0.10040488839149475, 'regret_mean': 0.002048191614449024, 'regret_mults': tensor([[127.3154, 124.0659]], device='cuda:0'), 'payment': 0.8408339023590088}\n"
     ]
    },
    {
     "name": "stderr",
     "output_type": "stream",
     "text": [
      "\r",
      " 41%|████      | 41/100 [1:17:09<1:53:50, 115.77s/it]"
     ]
    },
    {
     "name": "stdout",
     "output_type": "stream",
     "text": [
      "{'regret_max': 0.02591627836227417, 'regret_mean': 0.0012106698704883456, 'regret_mults': tensor([[129.3877, 127.1844]], device='cuda:0'), 'payment': 0.8446992635726929}\n"
     ]
    },
    {
     "name": "stderr",
     "output_type": "stream",
     "text": [
      "\r",
      " 42%|████▏     | 42/100 [1:19:04<1:51:41, 115.54s/it]"
     ]
    },
    {
     "name": "stdout",
     "output_type": "stream",
     "text": [
      "{'regret_max': 0.01615661382675171, 'regret_mean': 0.0008579016430303454, 'regret_mults': tensor([[131.5797, 129.6359]], device='cuda:0'), 'payment': 0.8939336538314819}\n"
     ]
    },
    {
     "name": "stderr",
     "output_type": "stream",
     "text": [
      "\r",
      " 43%|████▎     | 43/100 [1:21:01<1:50:03, 115.84s/it]"
     ]
    },
    {
     "name": "stdout",
     "output_type": "stream",
     "text": [
      "{'regret_max': 0.016199886798858643, 'regret_mean': 0.000794957100879401, 'regret_mults': tensor([[136.0289, 133.7870]], device='cuda:0'), 'payment': 0.9078453183174133}\n"
     ]
    },
    {
     "name": "stderr",
     "output_type": "stream",
     "text": [
      "\r",
      " 44%|████▍     | 44/100 [1:22:59<1:48:42, 116.48s/it]"
     ]
    },
    {
     "name": "stdout",
     "output_type": "stream",
     "text": [
      "{'regret_max': 0.015875577926635742, 'regret_mean': 0.0007698498084209859, 'regret_mults': tensor([[138.1086, 136.1102]], device='cuda:0'), 'payment': 0.9126766920089722}\n"
     ]
    },
    {
     "name": "stderr",
     "output_type": "stream",
     "text": [
      "\r",
      " 45%|████▌     | 45/100 [1:24:58<1:47:23, 117.15s/it]"
     ]
    },
    {
     "name": "stdout",
     "output_type": "stream",
     "text": [
      "{'regret_max': 0.016014456748962402, 'regret_mean': 0.000765657052397728, 'regret_mults': tensor([[140.2039, 138.1957]], device='cuda:0'), 'payment': 0.9111554622650146}\n"
     ]
    },
    {
     "name": "stderr",
     "output_type": "stream",
     "text": [
      "\r",
      " 46%|████▌     | 46/100 [1:26:57<1:46:08, 117.94s/it]"
     ]
    },
    {
     "name": "stdout",
     "output_type": "stream",
     "text": [
      "{'regret_max': 0.016574621200561523, 'regret_mean': 0.0007626276346854866, 'regret_mults': tensor([[142.6737, 140.2689]], device='cuda:0'), 'payment': 0.911262035369873}\n"
     ]
    },
    {
     "name": "stderr",
     "output_type": "stream",
     "text": [
      "\r",
      " 47%|████▋     | 47/100 [1:28:57<1:44:39, 118.48s/it]"
     ]
    },
    {
     "name": "stdout",
     "output_type": "stream",
     "text": [
      "{'regret_max': 0.01667502522468567, 'regret_mean': 0.0008745273808017373, 'regret_mults': tensor([[146.5518, 144.8219]], device='cuda:0'), 'payment': 0.9049347639083862}\n"
     ]
    },
    {
     "name": "stderr",
     "output_type": "stream",
     "text": [
      "\r",
      " 48%|████▊     | 48/100 [1:30:58<1:43:13, 119.10s/it]"
     ]
    },
    {
     "name": "stdout",
     "output_type": "stream",
     "text": [
      "{'regret_max': 0.015352964401245117, 'regret_mean': 0.0006788203027099371, 'regret_mults': tensor([[148.3803, 147.0960]], device='cuda:0'), 'payment': 0.9094806909561157}\n"
     ]
    },
    {
     "name": "stderr",
     "output_type": "stream",
     "text": [
      "\r",
      " 49%|████▉     | 49/100 [1:32:58<1:41:28, 119.37s/it]"
     ]
    },
    {
     "name": "stdout",
     "output_type": "stream",
     "text": [
      "{'regret_max': 0.014664173126220703, 'regret_mean': 0.0007237504469230771, 'regret_mults': tensor([[150.4975, 149.5835]], device='cuda:0'), 'payment': 0.9117755889892578}\n"
     ]
    },
    {
     "name": "stderr",
     "output_type": "stream",
     "text": [
      "\r",
      " 50%|█████     | 50/100 [1:34:48<1:37:16, 116.74s/it]"
     ]
    },
    {
     "name": "stdout",
     "output_type": "stream",
     "text": [
      "{'regret_max': 0.04556494951248169, 'regret_mean': 0.0013459727633744478, 'regret_mults': tensor([[154.5498, 153.9315]], device='cuda:0'), 'payment': 0.8564822673797607}\n"
     ]
    },
    {
     "name": "stderr",
     "output_type": "stream",
     "text": [
      "\r",
      " 51%|█████     | 51/100 [1:36:42<1:34:39, 115.90s/it]"
     ]
    },
    {
     "name": "stdout",
     "output_type": "stream",
     "text": [
      "{'regret_max': 0.013935565948486328, 'regret_mean': 0.0006316731451079249, 'regret_mults': tensor([[156.3655, 156.1456]], device='cuda:0'), 'payment': 0.8956825733184814}\n"
     ]
    },
    {
     "name": "stderr",
     "output_type": "stream",
     "text": [
      "\r",
      " 52%|█████▏    | 52/100 [1:38:39<1:32:52, 116.10s/it]"
     ]
    },
    {
     "name": "stdout",
     "output_type": "stream",
     "text": [
      "{'regret_max': 0.013536900281906128, 'regret_mean': 0.0006440171273425221, 'regret_mults': tensor([[158.1452, 158.3412]], device='cuda:0'), 'payment': 0.9119321703910828}\n"
     ]
    },
    {
     "name": "stderr",
     "output_type": "stream",
     "text": [
      "\r",
      " 53%|█████▎    | 53/100 [1:40:37<1:31:25, 116.70s/it]"
     ]
    },
    {
     "name": "stdout",
     "output_type": "stream",
     "text": [
      "{'regret_max': 0.013483285903930664, 'regret_mean': 0.0006620200583711267, 'regret_mults': tensor([[160.0518, 160.4990]], device='cuda:0'), 'payment': 0.9113105535507202}\n"
     ]
    },
    {
     "name": "stderr",
     "output_type": "stream",
     "text": [
      "\r",
      " 54%|█████▍    | 54/100 [1:42:36<1:29:55, 117.29s/it]"
     ]
    },
    {
     "name": "stdout",
     "output_type": "stream",
     "text": [
      "{'regret_max': 0.01381218433380127, 'regret_mean': 0.000677035772241652, 'regret_mults': tensor([[164.2623, 165.5079]], device='cuda:0'), 'payment': 0.9137864112854004}\n"
     ]
    },
    {
     "name": "stderr",
     "output_type": "stream",
     "text": [
      "\r",
      " 55%|█████▌    | 55/100 [1:44:35<1:28:19, 117.78s/it]"
     ]
    },
    {
     "name": "stdout",
     "output_type": "stream",
     "text": [
      "{'regret_max': 0.013969779014587402, 'regret_mean': 0.0006441568257287145, 'regret_mults': tensor([[166.2796, 167.8233]], device='cuda:0'), 'payment': 0.9129816293716431}\n"
     ]
    },
    {
     "name": "stderr",
     "output_type": "stream",
     "text": [
      "\r",
      " 56%|█████▌    | 56/100 [1:46:33<1:26:31, 117.98s/it]"
     ]
    },
    {
     "name": "stdout",
     "output_type": "stream",
     "text": [
      "{'regret_max': 0.017211735248565674, 'regret_mean': 0.0007644069846719503, 'regret_mults': tensor([[168.2825, 170.3009]], device='cuda:0'), 'payment': 0.9118750095367432}\n"
     ]
    },
    {
     "name": "stderr",
     "output_type": "stream",
     "text": [
      "\r",
      " 57%|█████▋    | 57/100 [1:48:31<1:24:34, 118.01s/it]"
     ]
    },
    {
     "name": "stdout",
     "output_type": "stream",
     "text": [
      "{'regret_max': 0.012471497058868408, 'regret_mean': 0.0005807883571833372, 'regret_mults': tensor([[170.3208, 172.4082]], device='cuda:0'), 'payment': 0.9114830493927002}\n"
     ]
    },
    {
     "name": "stderr",
     "output_type": "stream",
     "text": [
      "\r",
      " 58%|█████▊    | 58/100 [1:50:29<1:22:37, 118.05s/it]"
     ]
    },
    {
     "name": "stdout",
     "output_type": "stream",
     "text": [
      "{'regret_max': 0.01323014497756958, 'regret_mean': 0.0006165314116515219, 'regret_mults': tensor([[174.7217, 176.6497]], device='cuda:0'), 'payment': 0.9173018932342529}\n"
     ]
    },
    {
     "name": "stderr",
     "output_type": "stream",
     "text": [
      "\r",
      " 59%|█████▉    | 59/100 [1:52:28<1:20:43, 118.14s/it]"
     ]
    },
    {
     "name": "stdout",
     "output_type": "stream",
     "text": [
      "{'regret_max': 0.013996124267578125, 'regret_mean': 0.0006044049514457583, 'regret_mults': tensor([[176.5885, 179.1229]], device='cuda:0'), 'payment': 0.9189956188201904}\n"
     ]
    },
    {
     "name": "stderr",
     "output_type": "stream",
     "text": [
      "\r",
      " 60%|██████    | 60/100 [1:54:26<1:18:49, 118.24s/it]"
     ]
    },
    {
     "name": "stdout",
     "output_type": "stream",
     "text": [
      "{'regret_max': 0.01324385404586792, 'regret_mean': 0.0006856744876131415, 'regret_mults': tensor([[178.8854, 182.3208]], device='cuda:0'), 'payment': 0.9144355058670044}\n"
     ]
    },
    {
     "name": "stderr",
     "output_type": "stream",
     "text": [
      "\r",
      " 61%|██████    | 61/100 [1:56:25<1:16:55, 118.33s/it]"
     ]
    },
    {
     "name": "stdout",
     "output_type": "stream",
     "text": [
      "{'regret_max': 0.012742817401885986, 'regret_mean': 0.0005678160232491791, 'regret_mults': tensor([[182.6089, 186.8374]], device='cuda:0'), 'payment': 0.917900800704956}\n"
     ]
    },
    {
     "name": "stderr",
     "output_type": "stream",
     "text": [
      "\r",
      " 62%|██████▏   | 62/100 [1:58:25<1:15:21, 118.99s/it]"
     ]
    },
    {
     "name": "stdout",
     "output_type": "stream",
     "text": [
      "{'regret_max': 0.02468949556350708, 'regret_mean': 0.0005935876397415996, 'regret_mults': tensor([[184.5279, 189.2289]], device='cuda:0'), 'payment': 0.9215573072433472}\n"
     ]
    },
    {
     "name": "stderr",
     "output_type": "stream",
     "text": [
      "\r",
      " 63%|██████▎   | 63/100 [2:00:25<1:13:27, 119.13s/it]"
     ]
    },
    {
     "name": "stdout",
     "output_type": "stream",
     "text": [
      "{'regret_max': 0.027470052242279053, 'regret_mean': 0.0007510249270126224, 'regret_mults': tensor([[186.2191, 191.1704]], device='cuda:0'), 'payment': 0.8950860500335693}\n"
     ]
    },
    {
     "name": "stderr",
     "output_type": "stream",
     "text": [
      "\r",
      " 64%|██████▍   | 64/100 [2:02:23<1:11:22, 118.96s/it]"
     ]
    },
    {
     "name": "stdout",
     "output_type": "stream",
     "text": [
      "{'regret_max': 0.012881457805633545, 'regret_mean': 0.0005146241746842861, 'regret_mults': tensor([[189.0693, 193.1922]], device='cuda:0'), 'payment': 0.9192845821380615}\n"
     ]
    },
    {
     "name": "stderr",
     "output_type": "stream",
     "text": [
      "\r",
      " 65%|██████▌   | 65/100 [2:04:21<1:09:15, 118.72s/it]"
     ]
    },
    {
     "name": "stdout",
     "output_type": "stream",
     "text": [
      "{'regret_max': 0.015886425971984863, 'regret_mean': 0.0006246716948226094, 'regret_mults': tensor([[193.0955, 197.3080]], device='cuda:0'), 'payment': 0.9228634834289551}\n"
     ]
    },
    {
     "name": "stderr",
     "output_type": "stream",
     "text": [
      "\r",
      " 66%|██████▌   | 66/100 [2:06:14<1:06:17, 116.98s/it]"
     ]
    },
    {
     "name": "stdout",
     "output_type": "stream",
     "text": [
      "{'regret_max': 0.0184781551361084, 'regret_mean': 0.000658819917589426, 'regret_mults': tensor([[194.7227, 199.2777]], device='cuda:0'), 'payment': 0.9028082489967346}\n"
     ]
    },
    {
     "name": "stderr",
     "output_type": "stream",
     "text": [
      "\r",
      " 67%|██████▋   | 67/100 [2:08:11<1:04:15, 116.82s/it]"
     ]
    },
    {
     "name": "stdout",
     "output_type": "stream",
     "text": [
      "{'regret_max': 0.012393712997436523, 'regret_mean': 0.0005528975161723793, 'regret_mults': tensor([[196.5575, 202.7205]], device='cuda:0'), 'payment': 0.9198641777038574}\n"
     ]
    },
    {
     "name": "stderr",
     "output_type": "stream",
     "text": [
      "\r",
      " 68%|██████▊   | 68/100 [2:10:07<1:02:14, 116.70s/it]"
     ]
    },
    {
     "name": "stdout",
     "output_type": "stream",
     "text": [
      "{'regret_max': 0.012206733226776123, 'regret_mean': 0.0004811848048120737, 'regret_mults': tensor([[200.2822, 206.6684]], device='cuda:0'), 'payment': 0.9229857921600342}\n"
     ]
    },
    {
     "name": "stderr",
     "output_type": "stream",
     "text": [
      "\r",
      " 69%|██████▉   | 69/100 [2:12:04<1:00:23, 116.88s/it]"
     ]
    },
    {
     "name": "stdout",
     "output_type": "stream",
     "text": [
      "{'regret_max': 0.011653482913970947, 'regret_mean': 0.0005380990915000439, 'regret_mults': tensor([[202.0922, 208.5843]], device='cuda:0'), 'payment': 0.9232296943664551}\n"
     ]
    },
    {
     "name": "stderr",
     "output_type": "stream",
     "text": [
      "\r",
      " 70%|███████   | 70/100 [2:14:01<58:28, 116.94s/it]  "
     ]
    },
    {
     "name": "stdout",
     "output_type": "stream",
     "text": [
      "{'regret_max': 0.012461662292480469, 'regret_mean': 0.000556924962438643, 'regret_mults': tensor([[203.9776, 210.6669]], device='cuda:0'), 'payment': 0.9236769676208496}\n"
     ]
    },
    {
     "name": "stderr",
     "output_type": "stream",
     "text": [
      "\r",
      " 71%|███████   | 71/100 [2:15:59<56:34, 117.06s/it]"
     ]
    },
    {
     "name": "stdout",
     "output_type": "stream",
     "text": [
      "{'regret_max': 0.01183861494064331, 'regret_mean': 0.00047864086809568107, 'regret_mults': tensor([[205.8400, 212.6637]], device='cuda:0'), 'payment': 0.9253569841384888}\n"
     ]
    },
    {
     "name": "stderr",
     "output_type": "stream",
     "text": [
      "\r",
      " 72%|███████▏  | 72/100 [2:17:55<54:28, 116.73s/it]"
     ]
    },
    {
     "name": "stdout",
     "output_type": "stream",
     "text": [
      "{'regret_max': 0.02470526099205017, 'regret_mean': 0.0008315714076161385, 'regret_mults': tensor([[209.6074, 217.3959]], device='cuda:0'), 'payment': 0.9029312133789062}\n"
     ]
    },
    {
     "name": "stderr",
     "output_type": "stream",
     "text": [
      "\r",
      " 73%|███████▎  | 73/100 [2:19:50<52:23, 116.41s/it]"
     ]
    },
    {
     "name": "stdout",
     "output_type": "stream",
     "text": [
      "{'regret_max': 0.010864317417144775, 'regret_mean': 0.0003900801530107856, 'regret_mults': tensor([[211.3981, 219.1908]], device='cuda:0'), 'payment': 0.9228470325469971}\n"
     ]
    },
    {
     "name": "stderr",
     "output_type": "stream",
     "text": [
      "\r",
      " 74%|███████▍  | 74/100 [2:21:46<50:23, 116.31s/it]"
     ]
    },
    {
     "name": "stdout",
     "output_type": "stream",
     "text": [
      "{'regret_max': 0.012790024280548096, 'regret_mean': 0.00044400925980880857, 'regret_mults': tensor([[215.3439, 221.3232]], device='cuda:0'), 'payment': 0.9308780431747437}\n"
     ]
    },
    {
     "name": "stderr",
     "output_type": "stream",
     "text": [
      "\r",
      " 75%|███████▌  | 75/100 [2:23:41<48:17, 115.90s/it]"
     ]
    },
    {
     "name": "stdout",
     "output_type": "stream",
     "text": [
      "{'regret_max': 0.013494908809661865, 'regret_mean': 0.0005926810554228723, 'regret_mults': tensor([[219.2435, 225.8065]], device='cuda:0'), 'payment': 0.9248409867286682}\n"
     ]
    },
    {
     "name": "stderr",
     "output_type": "stream",
     "text": [
      "\r",
      " 76%|███████▌  | 76/100 [2:25:37<46:20, 115.87s/it]"
     ]
    },
    {
     "name": "stdout",
     "output_type": "stream",
     "text": [
      "{'regret_max': 0.012990951538085938, 'regret_mean': 0.0004116310738027096, 'regret_mults': tensor([[221.0806, 227.8468]], device='cuda:0'), 'payment': 0.9287867546081543}\n"
     ]
    },
    {
     "name": "stderr",
     "output_type": "stream",
     "text": [
      "\r",
      " 77%|███████▋  | 77/100 [2:27:32<44:17, 115.56s/it]"
     ]
    },
    {
     "name": "stdout",
     "output_type": "stream",
     "text": [
      "{'regret_max': 0.012279391288757324, 'regret_mean': 0.00044964984408579767, 'regret_mults': tensor([[222.8961, 229.5778]], device='cuda:0'), 'payment': 0.9303388595581055}\n"
     ]
    },
    {
     "name": "stderr",
     "output_type": "stream",
     "text": [
      "\r",
      " 78%|███████▊  | 78/100 [2:29:25<42:07, 114.87s/it]"
     ]
    },
    {
     "name": "stdout",
     "output_type": "stream",
     "text": [
      "{'regret_max': 0.012934267520904541, 'regret_mean': 0.0005708896205760539, 'regret_mults': tensor([[226.7045, 237.2260]], device='cuda:0'), 'payment': 0.9243556261062622}\n"
     ]
    },
    {
     "name": "stderr",
     "output_type": "stream",
     "text": [
      "\r",
      " 79%|███████▉  | 79/100 [2:31:19<40:05, 114.56s/it]"
     ]
    },
    {
     "name": "stdout",
     "output_type": "stream",
     "text": [
      "{'regret_max': 0.01202547550201416, 'regret_mean': 0.0004523414245340973, 'regret_mults': tensor([[232.2563, 240.9659]], device='cuda:0'), 'payment': 0.9318047761917114}\n"
     ]
    },
    {
     "name": "stderr",
     "output_type": "stream",
     "text": [
      "\r",
      " 80%|████████  | 80/100 [2:33:10<37:51, 113.57s/it]"
     ]
    },
    {
     "name": "stdout",
     "output_type": "stream",
     "text": [
      "{'regret_max': 0.0122605562210083, 'regret_mean': 0.0004967577988281846, 'regret_mults': tensor([[234.0639, 242.6572]], device='cuda:0'), 'payment': 0.9167828559875488}\n"
     ]
    },
    {
     "name": "stderr",
     "output_type": "stream",
     "text": [
      "\r",
      " 81%|████████  | 81/100 [2:35:03<35:49, 113.15s/it]"
     ]
    },
    {
     "name": "stdout",
     "output_type": "stream",
     "text": [
      "{'regret_max': 0.012765228748321533, 'regret_mean': 0.00039414476486854255, 'regret_mults': tensor([[236.1697, 244.5039]], device='cuda:0'), 'payment': 0.9344213008880615}\n"
     ]
    },
    {
     "name": "stderr",
     "output_type": "stream",
     "text": [
      "\r",
      " 82%|████████▏ | 82/100 [2:36:54<33:45, 112.53s/it]"
     ]
    },
    {
     "name": "stdout",
     "output_type": "stream",
     "text": [
      "{'regret_max': 0.01096111536026001, 'regret_mean': 0.0004497394256759435, 'regret_mults': tensor([[238.4896, 247.2010]], device='cuda:0'), 'payment': 0.929111897945404}\n"
     ]
    },
    {
     "name": "stderr",
     "output_type": "stream",
     "text": [
      "\r",
      " 83%|████████▎ | 83/100 [2:38:44<31:40, 111.80s/it]"
     ]
    },
    {
     "name": "stdout",
     "output_type": "stream",
     "text": [
      "{'regret_max': 0.015208959579467773, 'regret_mean': 0.0006019439315423369, 'regret_mults': tensor([[242.3543, 250.8736]], device='cuda:0'), 'payment': 0.9181078672409058}\n"
     ]
    },
    {
     "name": "stderr",
     "output_type": "stream",
     "text": [
      "\r",
      " 84%|████████▍ | 84/100 [2:40:34<29:42, 111.38s/it]"
     ]
    },
    {
     "name": "stdout",
     "output_type": "stream",
     "text": [
      "{'regret_max': 0.01511460542678833, 'regret_mean': 0.0005321173230186105, 'regret_mults': tensor([[244.2388, 253.0721]], device='cuda:0'), 'payment': 0.9275825023651123}\n"
     ]
    },
    {
     "name": "stderr",
     "output_type": "stream",
     "text": [
      "\r",
      " 85%|████████▌ | 85/100 [2:42:24<27:43, 110.88s/it]"
     ]
    },
    {
     "name": "stdout",
     "output_type": "stream",
     "text": [
      "{'regret_max': 0.010597139596939087, 'regret_mean': 0.0003575753071345389, 'regret_mults': tensor([[246.0334, 254.6969]], device='cuda:0'), 'payment': 0.922643780708313}\n"
     ]
    },
    {
     "name": "stderr",
     "output_type": "stream",
     "text": [
      "\r",
      " 86%|████████▌ | 86/100 [2:44:14<25:50, 110.72s/it]"
     ]
    },
    {
     "name": "stdout",
     "output_type": "stream",
     "text": [
      "{'regret_max': 0.011304140090942383, 'regret_mean': 0.0003623186203185469, 'regret_mults': tensor([[250.5806, 258.5157]], device='cuda:0'), 'payment': 0.937019944190979}\n"
     ]
    },
    {
     "name": "stderr",
     "output_type": "stream",
     "text": [
      "\r",
      " 87%|████████▋ | 87/100 [2:46:05<23:58, 110.65s/it]"
     ]
    },
    {
     "name": "stdout",
     "output_type": "stream",
     "text": [
      "{'regret_max': 0.011757969856262207, 'regret_mean': 0.000446653546532616, 'regret_mults': tensor([[253.0090, 260.7636]], device='cuda:0'), 'payment': 0.9331633448600769}\n"
     ]
    },
    {
     "name": "stderr",
     "output_type": "stream",
     "text": [
      "\r",
      " 88%|████████▊ | 88/100 [2:47:56<22:08, 110.74s/it]"
     ]
    },
    {
     "name": "stdout",
     "output_type": "stream",
     "text": [
      "{'regret_max': 0.011995196342468262, 'regret_mean': 0.000431082327850163, 'regret_mults': tensor([[254.8518, 262.5190]], device='cuda:0'), 'payment': 0.9357635974884033}\n"
     ]
    },
    {
     "name": "stderr",
     "output_type": "stream",
     "text": [
      "\r",
      " 89%|████████▉ | 89/100 [2:49:46<20:16, 110.63s/it]"
     ]
    },
    {
     "name": "stdout",
     "output_type": "stream",
     "text": [
      "{'regret_max': 0.014645874500274658, 'regret_mean': 0.00044924550456926227, 'regret_mults': tensor([[256.6960, 264.1367]], device='cuda:0'), 'payment': 0.9306255578994751}\n"
     ]
    },
    {
     "name": "stderr",
     "output_type": "stream",
     "text": [
      "\r",
      " 90%|█████████ | 90/100 [2:51:37<18:28, 110.87s/it]"
     ]
    },
    {
     "name": "stdout",
     "output_type": "stream",
     "text": [
      "{'regret_max': 0.012804567813873291, 'regret_mean': 0.00032159691909328103, 'regret_mults': tensor([[260.1774, 267.6701]], device='cuda:0'), 'payment': 0.9404172301292419}\n"
     ]
    },
    {
     "name": "stderr",
     "output_type": "stream",
     "text": [
      "\r",
      " 91%|█████████ | 91/100 [2:53:28<16:37, 110.81s/it]"
     ]
    },
    {
     "name": "stdout",
     "output_type": "stream",
     "text": [
      "{'regret_max': 0.027906209230422974, 'regret_mean': 0.0006187916151247919, 'regret_mults': tensor([[262.1269, 269.3788]], device='cuda:0'), 'payment': 0.9204702377319336}\n"
     ]
    },
    {
     "name": "stderr",
     "output_type": "stream",
     "text": [
      "\r",
      " 92%|█████████▏| 92/100 [2:55:18<14:44, 110.56s/it]"
     ]
    },
    {
     "name": "stdout",
     "output_type": "stream",
     "text": [
      "{'regret_max': 0.011896312236785889, 'regret_mean': 0.00030408502789214253, 'regret_mults': tensor([[263.8716, 271.1118]], device='cuda:0'), 'payment': 0.9406165480613708}\n"
     ]
    },
    {
     "name": "stderr",
     "output_type": "stream",
     "text": [
      "\r",
      " 93%|█████████▎| 93/100 [2:57:09<12:53, 110.56s/it]"
     ]
    },
    {
     "name": "stdout",
     "output_type": "stream",
     "text": [
      "{'regret_max': 0.01289224624633789, 'regret_mean': 0.0003603487857617438, 'regret_mults': tensor([[277.3359, 274.8692]], device='cuda:0'), 'payment': 0.9467697143554688}\n"
     ]
    },
    {
     "name": "stderr",
     "output_type": "stream",
     "text": [
      "\r",
      " 94%|█████████▍| 94/100 [2:58:58<11:02, 110.35s/it]"
     ]
    },
    {
     "name": "stdout",
     "output_type": "stream",
     "text": [
      "{'regret_max': 0.01490861177444458, 'regret_mean': 0.0004289333592168987, 'regret_mults': tensor([[278.9554, 276.6136]], device='cuda:0'), 'payment': 0.9300920367240906}\n"
     ]
    },
    {
     "name": "stderr",
     "output_type": "stream",
     "text": [
      "\r",
      " 95%|█████████▌| 95/100 [3:00:49<09:11, 110.37s/it]"
     ]
    },
    {
     "name": "stdout",
     "output_type": "stream",
     "text": [
      "{'regret_max': 0.01340717077255249, 'regret_mean': 0.00042450387263670564, 'regret_mults': tensor([[280.7049, 278.2006]], device='cuda:0'), 'payment': 0.943730354309082}\n"
     ]
    },
    {
     "name": "stderr",
     "output_type": "stream",
     "text": [
      "\r",
      " 96%|█████████▌| 96/100 [3:02:40<07:22, 110.57s/it]"
     ]
    },
    {
     "name": "stdout",
     "output_type": "stream",
     "text": [
      "{'regret_max': 0.012287676334381104, 'regret_mean': 0.00030697998590767384, 'regret_mults': tensor([[282.4919, 279.9768]], device='cuda:0'), 'payment': 0.9407373666763306}\n"
     ]
    },
    {
     "name": "stderr",
     "output_type": "stream",
     "text": [
      "\r",
      " 97%|█████████▋| 97/100 [3:04:29<05:30, 110.20s/it]"
     ]
    },
    {
     "name": "stdout",
     "output_type": "stream",
     "text": [
      "{'regret_max': 0.029141217470169067, 'regret_mean': 0.0006811624625697732, 'regret_mults': tensor([[288.5414, 304.1328]], device='cuda:0'), 'payment': 0.894499659538269}\n"
     ]
    },
    {
     "name": "stderr",
     "output_type": "stream",
     "text": [
      "\r",
      " 98%|█████████▊| 98/100 [3:06:19<03:40, 110.18s/it]"
     ]
    },
    {
     "name": "stdout",
     "output_type": "stream",
     "text": [
      "{'regret_max': 0.010267913341522217, 'regret_mean': 0.00026061933021992445, 'regret_mults': tensor([[290.1982, 305.6055]], device='cuda:0'), 'payment': 0.938382625579834}\n"
     ]
    },
    {
     "name": "stderr",
     "output_type": "stream",
     "text": [
      "\r",
      " 99%|█████████▉| 99/100 [3:08:08<01:49, 109.83s/it]"
     ]
    },
    {
     "name": "stdout",
     "output_type": "stream",
     "text": [
      "{'regret_max': 0.013201713562011719, 'regret_mean': 0.0004206643206998706, 'regret_mults': tensor([[294.5854, 308.3942]], device='cuda:0'), 'payment': 0.9307447075843811}\n"
     ]
    },
    {
     "name": "stderr",
     "output_type": "stream",
     "text": [
      "100%|██████████| 100/100 [3:09:59<00:00, 114.00s/it]"
     ]
    },
    {
     "name": "stdout",
     "output_type": "stream",
     "text": [
      "{'regret_max': 0.011426448822021484, 'regret_mean': 0.000257539504673332, 'regret_mults': tensor([[297.9120, 311.8030]], device='cuda:0'), 'payment': 0.9465548396110535}\n",
      "CPU times: user 3h 8min 4s, sys: 58.2 s, total: 3h 9min 2s\n",
      "Wall time: 3h 10min\n"
     ]
    },
    {
     "name": "stderr",
     "output_type": "stream",
     "text": [
      "\n"
     ]
    }
   ],
   "source": [
    "%%time\n",
    "mean_rgt, mean_pay, lagr_mults = train_loop(model, train_loader, args, device=device)"
   ]
  },
  {
   "cell_type": "code",
   "execution_count": 6,
   "metadata": {},
   "outputs": [],
   "source": [
    "dir_name = 'unit_2x15_0_1_experiment_data/'\n",
    "model.save(dir_name)"
   ]
  },
  {
   "cell_type": "code",
   "execution_count": 7,
   "metadata": {},
   "outputs": [
    {
     "name": "stderr",
     "output_type": "stream",
     "text": [
      "1it [00:30, 30.09s/it]"
     ]
    },
    {
     "name": "stdout",
     "output_type": "stream",
     "text": [
      "CPU times: user 29.7 s, sys: 154 ms, total: 29.9 s\n",
      "Wall time: 30.1 s\n"
     ]
    },
    {
     "name": "stderr",
     "output_type": "stream",
     "text": [
      "\n"
     ]
    },
    {
     "data": {
      "text/plain": [
       "{'payment_mean': 0.9476878643035889,\n",
       " 'regret_mean': 0.001382331014610827,\n",
       " 'regret_max': 0.007240504026412964}"
      ]
     },
     "execution_count": 7,
     "metadata": {},
     "output_type": "execute_result"
    }
   ],
   "source": [
    "%%time\n",
    "# model.sinkhorn_rounds = 100\n",
    "# model.sinkhorn_epsilon = 1e-2\n",
    "test_data = ds.generate_dataset_nxk(args.n_agents, args.n_items, args.test_num_examples, item_ranges).to(device)\n",
    "torch.save(test_data, dir_name + 'test_data')\n",
    "#test_data = torch.load(dir_name + 'test_data').to(device=device)\n",
    "cpu_test_data = test_data.clone().to(device='cpu')\n",
    "\n",
    "test_loader = ds.Dataloader(test_data, batch_size=args.test_batch_size, shuffle=True)\n",
    "\n",
    "result = test_loop(model, test_loader, args, device=device)\n",
    "result"
   ]
  },
  {
   "cell_type": "code",
   "execution_count": 8,
   "metadata": {
    "scrolled": true
   },
   "outputs": [
    {
     "name": "stderr",
     "output_type": "stream",
     "text": [
      "1it [05:38, 338.49s/it]"
     ]
    },
    {
     "name": "stdout",
     "output_type": "stream",
     "text": [
      "CPU times: user 5min 35s, sys: 1.66 s, total: 5min 36s\n",
      "Wall time: 5min 38s\n"
     ]
    },
    {
     "name": "stderr",
     "output_type": "stream",
     "text": [
      "\n"
     ]
    },
    {
     "data": {
      "text/plain": [
       "{'payment_mean': 0.9476878046989441,\n",
       " 'regret_mean': 0.00145795161370188,\n",
       " 'regret_max': 0.007241487503051758}"
      ]
     },
     "execution_count": 8,
     "metadata": {},
     "output_type": "execute_result"
    }
   ],
   "source": [
    "%%time\n",
    "args.test_num_examples = 1000\n",
    "args.test_batch_size = 1000\n",
    "args.test_misreport_iter = 1000\n",
    "args.misreport_lr = 1e-1\n",
    "model.sinkhorn_rounds = 10\n",
    "model.sinkhorn_epsilon = 5e-2\n",
    "\n",
    "random_starts = [test_data]\n",
    "for i in range(10):\n",
    "    random_starts.append(ds.generate_dataset_nxk(args.n_agents, args.n_items, args.test_num_examples, item_ranges).to(device))\n",
    "test_loader = ds.Dataloader(test_data, batch_size=args.test_batch_size, shuffle=True)\n",
    "\n",
    "result = test_loop_random_start(model, test_loader, args, random_starts, device=device)\n",
    "result"
   ]
  },
  {
   "cell_type": "code",
   "execution_count": 9,
   "metadata": {},
   "outputs": [],
   "source": [
    "model.save(dir_name)"
   ]
  },
  {
   "cell_type": "code",
   "execution_count": 10,
   "metadata": {},
   "outputs": [],
   "source": [
    "import cvxpy as cp\n",
    "import numpy as np\n",
    "from typing import NamedTuple\n",
    "from tqdm.notebook import tqdm"
   ]
  },
  {
   "cell_type": "code",
   "execution_count": 11,
   "metadata": {},
   "outputs": [],
   "source": [
    "class AuctionResult(NamedTuple):\n",
    "    alloc: np.ndarray\n",
    "    welfare: np.ndarray\n",
    "    payment: np.ndarray"
   ]
  },
  {
   "cell_type": "code",
   "execution_count": 12,
   "metadata": {},
   "outputs": [],
   "source": [
    "def max_welfare_alloc(bids_mat, k, exact_demand=False):\n",
    "    # returns allocation, util of allocation\n",
    "\n",
    "    num_agents = bids_mat.shape[0]\n",
    "    num_items = bids_mat.shape[1]\n",
    "    alloc_matrix = cp.Variable((num_agents, num_items), nonneg=True)\n",
    "    item_supply_constraints = cp.sum(alloc_matrix, axis=0) <= 1\n",
    "    if exact_demand:\n",
    "        agent_demand_constraints = cp.sum(alloc_matrix, axis=1) == k\n",
    "    else:\n",
    "        agent_demand_constraints = cp.sum(alloc_matrix, axis=1) <= k\n",
    "    welfare = cp.sum((cp.multiply(bids_mat, alloc_matrix)))\n",
    "    problem = cp.Problem(cp.Maximize(welfare), [item_supply_constraints, agent_demand_constraints])\n",
    "    problem.solve()\n",
    "    return (alloc_matrix.value, problem.value)"
   ]
  },
  {
   "cell_type": "code",
   "execution_count": 13,
   "metadata": {},
   "outputs": [],
   "source": [
    "def vcg_auction(bids_mat, k, exact_demand=False):\n",
    "    main_alloc, max_welfare_total_util = max_welfare_alloc(bids_mat, k, exact_demand=exact_demand)\n",
    "    payments = np.zeros(bids_mat.shape[0])\n",
    "    player_utils = (bids_mat * main_alloc).sum(axis=1)\n",
    "    num_agents = bids_mat.shape[0]\n",
    "    for i in range(num_agents):\n",
    "        dropped_bid_mat = np.delete(bids_mat, (i), axis=0)\n",
    "        dropped_player_utils = np.delete(player_utils, (i), axis=0) # player utils under full auction\n",
    "        new_alloc, new_total_util = max_welfare_alloc(dropped_bid_mat, k, exact_demand=exact_demand)\n",
    "        new_agent_utils = (new_alloc*dropped_bid_mat).sum(axis=1) # player utils without agent i's bid\n",
    "        payments[i] = (new_agent_utils - dropped_player_utils).sum() \n",
    "    return AuctionResult(main_alloc, player_utils, payments)"
   ]
  },
  {
   "cell_type": "code",
   "execution_count": 14,
   "metadata": {},
   "outputs": [],
   "source": [
    "payments = []\n",
    "for i in range(test_data.shape[0]):\n",
    "    payments.append(vcg_auction(cpu_test_data[i].cpu().numpy(), 1, exact_demand=False).payment.sum())"
   ]
  },
  {
   "cell_type": "code",
   "execution_count": 15,
   "metadata": {},
   "outputs": [
    {
     "data": {
      "text/plain": [
       "0.0018617426402055984"
      ]
     },
     "execution_count": 15,
     "metadata": {},
     "output_type": "execute_result"
    }
   ],
   "source": [
    "np.mean(payments)"
   ]
  },
  {
   "cell_type": "code",
   "execution_count": 16,
   "metadata": {},
   "outputs": [],
   "source": [
    "import pickle\n",
    "to_pkl_lst = [mean_rgt, mean_pay, lagr_mults]\n",
    "for i, fname in enumerate(['mean_rgt', 'mean_pay', 'lagr_mults']):\n",
    "    with open(dir_name + fname, 'wb') as fp:\n",
    "        pickle.dump(to_pkl_lst[i], fp)"
   ]
  }
 ],
 "metadata": {
  "kernelspec": {
   "display_name": "Python 3",
   "language": "python",
   "name": "python3"
  },
  "language_info": {
   "codemirror_mode": {
    "name": "ipython",
    "version": 3
   },
   "file_extension": ".py",
   "mimetype": "text/x-python",
   "name": "python",
   "nbconvert_exporter": "python",
   "pygments_lexer": "ipython3",
   "version": "3.7.4"
  }
 },
 "nbformat": 4,
 "nbformat_minor": 2
}
