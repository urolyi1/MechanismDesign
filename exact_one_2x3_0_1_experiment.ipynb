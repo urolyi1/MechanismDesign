{
 "cells": [
  {
   "cell_type": "code",
   "execution_count": 1,
   "metadata": {},
   "outputs": [],
   "source": [
    "import torch\n",
    "from torch import nn, optim\n",
    "import torch.nn.functional as F\n",
    "import numpy as np\n",
    "from argparse import ArgumentParser\n",
    "from double_net.double_net import DoubleNet, train_loop, train_loop_no_lagrange, test_loop, test_loop_random_start\n",
    "from double_net import datasets as ds\n",
    "import time\n",
    "import double_net.plot_utils as pu\n",
    "import importlib\n",
    "import matplotlib.pyplot as plt"
   ]
  },
  {
   "cell_type": "code",
   "execution_count": 2,
   "metadata": {},
   "outputs": [],
   "source": [
    "if torch.cuda.is_available():\n",
    "    device = 'cuda'\n",
    "else:\n",
    "    device = 'cpu'"
   ]
  },
  {
   "cell_type": "code",
   "execution_count": 3,
   "metadata": {},
   "outputs": [
    {
     "data": {
      "text/plain": [
       "Namespace(batch_size=4096, lagr_update_iter=100, misreport_iter=25, misreport_lr=0.1, model_lr=0.001, n_agents=2, n_items=3, num_epochs=100, num_examples=524288, random_seed=0, rgt_start=0, rho=1, rho_incr_amount=1.0, rho_incr_iter=2, sinkhorn_epsilon=0.05, sinkhorn_rounds=20, test_batch_size=1000, test_iter=5, test_misreport_iter=1000, test_num_examples=1000)"
      ]
     },
     "execution_count": 3,
     "metadata": {},
     "output_type": "execute_result"
    }
   ],
   "source": [
    "parser = ArgumentParser()\n",
    "parser.add_argument('--random-seed', type=int, default=0)\n",
    "parser.add_argument('--num-examples', type=int, default=131072 * 4)\n",
    "parser.add_argument('--test-num-examples', type=int, default=1000)\n",
    "parser.add_argument('--test-iter', type=int, default=5)\n",
    "parser.add_argument('--n-agents', type=int, default=2)\n",
    "parser.add_argument('--n-items', type=int, default=3)\n",
    "parser.add_argument('--num-epochs', type=int, default=100)\n",
    "parser.add_argument('--batch-size', type=int, default=128 * 32)\n",
    "parser.add_argument('--test-batch-size', type=int, default=1000)\n",
    "parser.add_argument('--model-lr', type=float, default=1e-3)\n",
    "parser.add_argument('--misreport-lr', type=float, default=1e-1)\n",
    "parser.add_argument('--misreport-iter', type=int, default=25)\n",
    "parser.add_argument('--test-misreport-iter', type=int, default=1000)\n",
    "parser.add_argument('--rho', type=float, default=1)\n",
    "parser.add_argument('--rho-incr-iter', type=int, default=2)\n",
    "parser.add_argument('--rho-incr-amount', type=float, default=1.0)\n",
    "parser.add_argument('--lagr-update-iter', type=int, default=100)\n",
    "parser.add_argument('--rgt-start', type=int, default=0)\n",
    "parser.add_argument('--sinkhorn-epsilon', type=float, default=5e-2)\n",
    "parser.add_argument('--sinkhorn-rounds', type=int, default=20)\n",
    "\n",
    "\n",
    "args = parser.parse_args(args=[])\n",
    "args"
   ]
  },
  {
   "cell_type": "code",
   "execution_count": 4,
   "metadata": {},
   "outputs": [],
   "source": [
    "torch.manual_seed(args.random_seed)\n",
    "np.random.seed(args.random_seed)\n",
    "\n",
    "item_ranges = ds.preset_valuation_range(args.n_agents, args.n_items, \"\")\n",
    "\n",
    "model = DoubleNet(\n",
    "    args.n_agents, args.n_items, item_ranges, args.sinkhorn_epsilon, args.sinkhorn_rounds, marginal_choice='exact_one'\n",
    ").to(device)\n",
    "\n",
    "train_data = ds.generate_dataset_nxk(args.n_agents, args.n_items, args.num_examples, item_ranges).to(device)\n",
    "train_loader = ds.Dataloader(train_data, batch_size=args.batch_size, shuffle=True)"
   ]
  },
  {
   "cell_type": "code",
   "execution_count": 5,
   "metadata": {
    "scrolled": true
   },
   "outputs": [
    {
     "name": "stderr",
     "output_type": "stream",
     "text": [
      "  1%|          | 1/100 [01:02<1:42:18, 62.00s/it]"
     ]
    },
    {
     "name": "stdout",
     "output_type": "stream",
     "text": [
      "{'regret_max': 0.5358937978744507, 'regret_mean': 0.041644856333732605, 'regret_mults': tensor([[6.5441, 6.5472]], device='cuda:0'), 'payment': 0.3078780770301819}\n"
     ]
    },
    {
     "name": "stderr",
     "output_type": "stream",
     "text": [
      "\r",
      "  2%|▏         | 2/100 [02:04<1:41:20, 62.04s/it]"
     ]
    },
    {
     "name": "stdout",
     "output_type": "stream",
     "text": [
      "{'regret_max': 0.1323900818824768, 'regret_mean': 0.020401962101459503, 'regret_mults': tensor([[8.8317, 8.4898]], device='cuda:0'), 'payment': 0.23913133144378662}\n"
     ]
    },
    {
     "name": "stderr",
     "output_type": "stream",
     "text": [
      "\r",
      "  3%|▎         | 3/100 [03:06<1:40:18, 62.04s/it]"
     ]
    },
    {
     "name": "stdout",
     "output_type": "stream",
     "text": [
      "{'regret_max': 0.09313619136810303, 'regret_mean': 0.009095448069274426, 'regret_mults': tensor([[10.4793,  9.8591]], device='cuda:0'), 'payment': 0.2367151379585266}\n"
     ]
    },
    {
     "name": "stderr",
     "output_type": "stream",
     "text": [
      "\r",
      "  4%|▍         | 4/100 [04:08<1:39:15, 62.03s/it]"
     ]
    },
    {
     "name": "stdout",
     "output_type": "stream",
     "text": [
      "{'regret_max': 0.07208019495010376, 'regret_mean': 0.006445770617574453, 'regret_mults': tensor([[13.3086, 13.0884]], device='cuda:0'), 'payment': 0.24094434082508087}\n"
     ]
    },
    {
     "name": "stderr",
     "output_type": "stream",
     "text": [
      "\r",
      "  5%|▌         | 5/100 [05:10<1:38:14, 62.05s/it]"
     ]
    },
    {
     "name": "stdout",
     "output_type": "stream",
     "text": [
      "{'regret_max': 0.06890398263931274, 'regret_mean': 0.005065295845270157, 'regret_mults': tensor([[14.8672, 14.5413]], device='cuda:0'), 'payment': 0.24602678418159485}\n"
     ]
    },
    {
     "name": "stderr",
     "output_type": "stream",
     "text": [
      "\r",
      "  6%|▌         | 6/100 [06:12<1:37:08, 62.00s/it]"
     ]
    },
    {
     "name": "stdout",
     "output_type": "stream",
     "text": [
      "{'regret_max': 0.06778019666671753, 'regret_mean': 0.004336022771894932, 'regret_mults': tensor([[16.3311, 16.4139]], device='cuda:0'), 'payment': 0.24814213812351227}\n"
     ]
    },
    {
     "name": "stderr",
     "output_type": "stream",
     "text": [
      "\r",
      "  7%|▋         | 7/100 [07:13<1:35:54, 61.88s/it]"
     ]
    },
    {
     "name": "stdout",
     "output_type": "stream",
     "text": [
      "{'regret_max': 0.06579458713531494, 'regret_mean': 0.0036747376434504986, 'regret_mults': tensor([[18.0144, 18.0987]], device='cuda:0'), 'payment': 0.24996507167816162}\n"
     ]
    },
    {
     "name": "stderr",
     "output_type": "stream",
     "text": [
      "\r",
      "  8%|▊         | 8/100 [08:15<1:34:41, 61.75s/it]"
     ]
    },
    {
     "name": "stdout",
     "output_type": "stream",
     "text": [
      "{'regret_max': 0.06502464413642883, 'regret_mean': 0.003261357080191374, 'regret_mults': tensor([[20.9790, 21.2194]], device='cuda:0'), 'payment': 0.2516176104545593}\n"
     ]
    },
    {
     "name": "stderr",
     "output_type": "stream",
     "text": [
      "\r",
      "  9%|▉         | 9/100 [09:16<1:33:33, 61.69s/it]"
     ]
    },
    {
     "name": "stdout",
     "output_type": "stream",
     "text": [
      "{'regret_max': 0.06383264064788818, 'regret_mean': 0.0029800687916576862, 'regret_mults': tensor([[22.2963, 22.9348]], device='cuda:0'), 'payment': 0.2550254464149475}\n"
     ]
    },
    {
     "name": "stderr",
     "output_type": "stream",
     "text": [
      "\r",
      " 10%|█         | 10/100 [10:18<1:32:26, 61.63s/it]"
     ]
    },
    {
     "name": "stdout",
     "output_type": "stream",
     "text": [
      "{'regret_max': 0.06357574462890625, 'regret_mean': 0.0026158904656767845, 'regret_mults': tensor([[24.0365, 24.3464]], device='cuda:0'), 'payment': 0.2580501139163971}\n"
     ]
    },
    {
     "name": "stderr",
     "output_type": "stream",
     "text": [
      "\r",
      " 11%|█         | 11/100 [11:19<1:31:21, 61.59s/it]"
     ]
    },
    {
     "name": "stdout",
     "output_type": "stream",
     "text": [
      "{'regret_max': 0.06601795554161072, 'regret_mean': 0.0025395036209374666, 'regret_mults': tensor([[27.2965, 28.4008]], device='cuda:0'), 'payment': 0.2553403377532959}\n"
     ]
    },
    {
     "name": "stderr",
     "output_type": "stream",
     "text": [
      "\r",
      " 12%|█▏        | 12/100 [12:21<1:30:17, 61.56s/it]"
     ]
    },
    {
     "name": "stdout",
     "output_type": "stream",
     "text": [
      "{'regret_max': 0.06334996223449707, 'regret_mean': 0.002140963915735483, 'regret_mults': tensor([[29.2139, 29.8391]], device='cuda:0'), 'payment': 0.2554194927215576}\n"
     ]
    },
    {
     "name": "stderr",
     "output_type": "stream",
     "text": [
      "\r",
      " 13%|█▎        | 13/100 [13:22<1:29:14, 61.54s/it]"
     ]
    },
    {
     "name": "stdout",
     "output_type": "stream",
     "text": [
      "{'regret_max': 0.061560750007629395, 'regret_mean': 0.002000349573791027, 'regret_mults': tensor([[30.9201, 31.1396]], device='cuda:0'), 'payment': 0.25309979915618896}\n"
     ]
    },
    {
     "name": "stderr",
     "output_type": "stream",
     "text": [
      "\r",
      " 14%|█▍        | 14/100 [14:24<1:28:09, 61.51s/it]"
     ]
    },
    {
     "name": "stdout",
     "output_type": "stream",
     "text": [
      "{'regret_max': 0.061698973178863525, 'regret_mean': 0.0018216697499155998, 'regret_mults': tensor([[32.8397, 32.9379]], device='cuda:0'), 'payment': 0.2542368173599243}\n"
     ]
    },
    {
     "name": "stderr",
     "output_type": "stream",
     "text": [
      "\r",
      " 15%|█▌        | 15/100 [15:25<1:27:11, 61.55s/it]"
     ]
    },
    {
     "name": "stdout",
     "output_type": "stream",
     "text": [
      "{'regret_max': 0.06290149688720703, 'regret_mean': 0.0017166722100228071, 'regret_mults': tensor([[35.6300, 35.9344]], device='cuda:0'), 'payment': 0.252471923828125}\n"
     ]
    },
    {
     "name": "stderr",
     "output_type": "stream",
     "text": [
      "\r",
      " 16%|█▌        | 16/100 [16:27<1:26:08, 61.53s/it]"
     ]
    },
    {
     "name": "stdout",
     "output_type": "stream",
     "text": [
      "{'regret_max': 0.06090649962425232, 'regret_mean': 0.0015782422851771116, 'regret_mults': tensor([[37.0115, 37.6523]], device='cuda:0'), 'payment': 0.24894559383392334}\n"
     ]
    },
    {
     "name": "stderr",
     "output_type": "stream",
     "text": [
      "\r",
      " 17%|█▋        | 17/100 [17:28<1:25:05, 61.51s/it]"
     ]
    },
    {
     "name": "stdout",
     "output_type": "stream",
     "text": [
      "{'regret_max': 0.05793660879135132, 'regret_mean': 0.0014511181507259607, 'regret_mults': tensor([[38.6816, 39.3732]], device='cuda:0'), 'payment': 0.24769708514213562}\n"
     ]
    },
    {
     "name": "stderr",
     "output_type": "stream",
     "text": [
      "\r",
      " 18%|█▊        | 18/100 [18:30<1:24:01, 61.48s/it]"
     ]
    },
    {
     "name": "stdout",
     "output_type": "stream",
     "text": [
      "{'regret_max': 0.0571846067905426, 'regret_mean': 0.0013961093500256538, 'regret_mults': tensor([[42.1535, 42.6971]], device='cuda:0'), 'payment': 0.24368906021118164}\n"
     ]
    },
    {
     "name": "stderr",
     "output_type": "stream",
     "text": [
      "\r",
      " 19%|█▉        | 19/100 [19:31<1:23:01, 61.50s/it]"
     ]
    },
    {
     "name": "stdout",
     "output_type": "stream",
     "text": [
      "{'regret_max': 0.05899609625339508, 'regret_mean': 0.0012885364703834057, 'regret_mults': tensor([[43.3408, 43.8645]], device='cuda:0'), 'payment': 0.24028891324996948}\n"
     ]
    },
    {
     "name": "stderr",
     "output_type": "stream",
     "text": [
      "\r",
      " 20%|██        | 20/100 [20:33<1:21:56, 61.46s/it]"
     ]
    },
    {
     "name": "stdout",
     "output_type": "stream",
     "text": [
      "{'regret_max': 0.06075478345155716, 'regret_mean': 0.0012070692609995604, 'regret_mults': tensor([[44.9721, 45.1521]], device='cuda:0'), 'payment': 0.2396504282951355}\n"
     ]
    },
    {
     "name": "stderr",
     "output_type": "stream",
     "text": [
      "\r",
      " 21%|██        | 21/100 [21:34<1:20:56, 61.47s/it]"
     ]
    },
    {
     "name": "stdout",
     "output_type": "stream",
     "text": [
      "{'regret_max': 0.0546146035194397, 'regret_mean': 0.00112578843254596, 'regret_mults': tensor([[46.6289, 46.7324]], device='cuda:0'), 'payment': 0.2379647195339203}\n"
     ]
    },
    {
     "name": "stderr",
     "output_type": "stream",
     "text": [
      "\r",
      " 22%|██▏       | 22/100 [22:35<1:19:52, 61.44s/it]"
     ]
    },
    {
     "name": "stdout",
     "output_type": "stream",
     "text": [
      "{'regret_max': 0.05617159605026245, 'regret_mean': 0.0011024137493222952, 'regret_mults': tensor([[48.9978, 49.6451]], device='cuda:0'), 'payment': 0.23629754781723022}\n"
     ]
    },
    {
     "name": "stderr",
     "output_type": "stream",
     "text": [
      "\r",
      " 23%|██▎       | 23/100 [23:37<1:18:50, 61.44s/it]"
     ]
    },
    {
     "name": "stdout",
     "output_type": "stream",
     "text": [
      "{'regret_max': 0.05711996555328369, 'regret_mean': 0.0010283744195476174, 'regret_mults': tensor([[50.3622, 50.8806]], device='cuda:0'), 'payment': 0.23305030167102814}\n"
     ]
    },
    {
     "name": "stderr",
     "output_type": "stream",
     "text": [
      "\r",
      " 24%|██▍       | 24/100 [24:38<1:17:48, 61.43s/it]"
     ]
    },
    {
     "name": "stdout",
     "output_type": "stream",
     "text": [
      "{'regret_max': 0.06234505772590637, 'regret_mean': 0.0009735873318277299, 'regret_mults': tensor([[51.7301, 52.1327]], device='cuda:0'), 'payment': 0.23492345213890076}\n"
     ]
    },
    {
     "name": "stderr",
     "output_type": "stream",
     "text": [
      "\r",
      " 25%|██▌       | 25/100 [25:40<1:16:42, 61.37s/it]"
     ]
    },
    {
     "name": "stdout",
     "output_type": "stream",
     "text": [
      "{'regret_max': 0.06067521870136261, 'regret_mean': 0.0009044365724548697, 'regret_mults': tensor([[54.4452, 55.1806]], device='cuda:0'), 'payment': 0.2311813235282898}\n"
     ]
    },
    {
     "name": "stderr",
     "output_type": "stream",
     "text": [
      "\r",
      " 26%|██▌       | 26/100 [26:40<1:15:29, 61.21s/it]"
     ]
    },
    {
     "name": "stdout",
     "output_type": "stream",
     "text": [
      "{'regret_max': 0.057615794241428375, 'regret_mean': 0.0010674383956938982, 'regret_mults': tensor([[55.9211, 56.3716]], device='cuda:0'), 'payment': 0.2249787449836731}\n"
     ]
    },
    {
     "name": "stderr",
     "output_type": "stream",
     "text": [
      "\r",
      " 27%|██▋       | 27/100 [27:41<1:14:24, 61.15s/it]"
     ]
    },
    {
     "name": "stdout",
     "output_type": "stream",
     "text": [
      "{'regret_max': 0.05927455425262451, 'regret_mean': 0.0008276768494397402, 'regret_mults': tensor([[57.1704, 57.5134]], device='cuda:0'), 'payment': 0.2282305657863617}\n"
     ]
    },
    {
     "name": "stderr",
     "output_type": "stream",
     "text": [
      "\r",
      " 28%|██▊       | 28/100 [28:42<1:13:16, 61.06s/it]"
     ]
    },
    {
     "name": "stdout",
     "output_type": "stream",
     "text": [
      "{'regret_max': 0.05045309662818909, 'regret_mean': 0.0007921872893348336, 'regret_mults': tensor([[58.9217, 58.9692]], device='cuda:0'), 'payment': 0.22692738473415375}\n"
     ]
    },
    {
     "name": "stderr",
     "output_type": "stream",
     "text": [
      "\r",
      " 29%|██▉       | 29/100 [29:43<1:12:10, 60.99s/it]"
     ]
    },
    {
     "name": "stdout",
     "output_type": "stream",
     "text": [
      "{'regret_max': 0.05078113079071045, 'regret_mean': 0.0007908731931820512, 'regret_mults': tensor([[61.7433, 62.0840]], device='cuda:0'), 'payment': 0.2260534167289734}\n"
     ]
    },
    {
     "name": "stderr",
     "output_type": "stream",
     "text": [
      "\r",
      " 30%|███       | 30/100 [30:44<1:11:07, 60.96s/it]"
     ]
    },
    {
     "name": "stdout",
     "output_type": "stream",
     "text": [
      "{'regret_max': 0.05569843947887421, 'regret_mean': 0.0007773551042191684, 'regret_mults': tensor([[63.1376, 63.0554]], device='cuda:0'), 'payment': 0.22296927869319916}\n"
     ]
    },
    {
     "name": "stderr",
     "output_type": "stream",
     "text": [
      "\r",
      " 31%|███       | 31/100 [31:45<1:10:03, 60.92s/it]"
     ]
    },
    {
     "name": "stdout",
     "output_type": "stream",
     "text": [
      "{'regret_max': 0.04988548159599304, 'regret_mean': 0.0007277264958247542, 'regret_mults': tensor([[64.4901, 64.1163]], device='cuda:0'), 'payment': 0.22230936586856842}\n"
     ]
    },
    {
     "name": "stderr",
     "output_type": "stream",
     "text": [
      "\r",
      " 32%|███▏      | 32/100 [32:46<1:09:01, 60.91s/it]"
     ]
    },
    {
     "name": "stdout",
     "output_type": "stream",
     "text": [
      "{'regret_max': 0.049590229988098145, 'regret_mean': 0.0006875217659398913, 'regret_mults': tensor([[65.8937, 65.0455]], device='cuda:0'), 'payment': 0.2235640585422516}\n"
     ]
    },
    {
     "name": "stderr",
     "output_type": "stream",
     "text": [
      "\r",
      " 33%|███▎      | 33/100 [33:46<1:07:58, 60.88s/it]"
     ]
    },
    {
     "name": "stdout",
     "output_type": "stream",
     "text": [
      "{'regret_max': 0.04953408241271973, 'regret_mean': 0.0006924350163899362, 'regret_mults': tensor([[69.2075, 67.7831]], device='cuda:0'), 'payment': 0.2212466448545456}\n"
     ]
    },
    {
     "name": "stderr",
     "output_type": "stream",
     "text": [
      "\r",
      " 34%|███▍      | 34/100 [34:47<1:06:57, 60.88s/it]"
     ]
    },
    {
     "name": "stdout",
     "output_type": "stream",
     "text": [
      "{'regret_max': 0.05091899633407593, 'regret_mean': 0.000674146693199873, 'regret_mults': tensor([[70.2619, 68.9393]], device='cuda:0'), 'payment': 0.21952258050441742}\n"
     ]
    },
    {
     "name": "stderr",
     "output_type": "stream",
     "text": [
      "\r",
      " 35%|███▌      | 35/100 [35:48<1:05:57, 60.89s/it]"
     ]
    },
    {
     "name": "stdout",
     "output_type": "stream",
     "text": [
      "{'regret_max': 0.05128106474876404, 'regret_mean': 0.0006284396513365209, 'regret_mults': tensor([[71.2276, 70.2150]], device='cuda:0'), 'payment': 0.21888788044452667}\n"
     ]
    },
    {
     "name": "stderr",
     "output_type": "stream",
     "text": [
      "\r",
      " 36%|███▌      | 36/100 [36:49<1:04:56, 60.89s/it]"
     ]
    },
    {
     "name": "stdout",
     "output_type": "stream",
     "text": [
      "{'regret_max': 0.050178222358226776, 'regret_mean': 0.0006336573278531432, 'regret_mults': tensor([[73.6361, 73.5934]], device='cuda:0'), 'payment': 0.218299001455307}\n"
     ]
    },
    {
     "name": "stderr",
     "output_type": "stream",
     "text": [
      "\r",
      " 37%|███▋      | 37/100 [37:50<1:03:54, 60.86s/it]"
     ]
    },
    {
     "name": "stdout",
     "output_type": "stream",
     "text": [
      "{'regret_max': 0.04678213596343994, 'regret_mean': 0.0005926837329752743, 'regret_mults': tensor([[74.7963, 75.1003]], device='cuda:0'), 'payment': 0.21948012709617615}\n"
     ]
    },
    {
     "name": "stderr",
     "output_type": "stream",
     "text": [
      "\r",
      " 38%|███▊      | 38/100 [38:51<1:02:59, 60.95s/it]"
     ]
    },
    {
     "name": "stdout",
     "output_type": "stream",
     "text": [
      "{'regret_max': 0.05318090319633484, 'regret_mean': 0.0006146760424599051, 'regret_mults': tensor([[75.9232, 76.1271]], device='cuda:0'), 'payment': 0.21675178408622742}\n"
     ]
    },
    {
     "name": "stderr",
     "output_type": "stream",
     "text": [
      "\r",
      " 39%|███▉      | 39/100 [39:52<1:01:56, 60.93s/it]"
     ]
    },
    {
     "name": "stdout",
     "output_type": "stream",
     "text": [
      "{'regret_max': 0.05171152949333191, 'regret_mean': 0.0006186990067362785, 'regret_mults': tensor([[77.3960, 77.8418]], device='cuda:0'), 'payment': 0.2100401669740677}\n"
     ]
    },
    {
     "name": "stderr",
     "output_type": "stream",
     "text": [
      "\r",
      " 40%|████      | 40/100 [40:53<1:01:01, 61.03s/it]"
     ]
    },
    {
     "name": "stdout",
     "output_type": "stream",
     "text": [
      "{'regret_max': 0.04754570126533508, 'regret_mean': 0.0005274766590446234, 'regret_mults': tensor([[80.2263, 79.9581]], device='cuda:0'), 'payment': 0.21665480732917786}\n"
     ]
    },
    {
     "name": "stderr",
     "output_type": "stream",
     "text": [
      "\r",
      " 41%|████      | 41/100 [41:54<1:00:03, 61.08s/it]"
     ]
    },
    {
     "name": "stdout",
     "output_type": "stream",
     "text": [
      "{'regret_max': 0.04647660255432129, 'regret_mean': 0.0005337703041732311, 'regret_mults': tensor([[81.5800, 81.5643]], device='cuda:0'), 'payment': 0.21444690227508545}\n"
     ]
    },
    {
     "name": "stderr",
     "output_type": "stream",
     "text": [
      "\r",
      " 42%|████▏     | 42/100 [42:56<59:09, 61.20s/it]  "
     ]
    },
    {
     "name": "stdout",
     "output_type": "stream",
     "text": [
      "{'regret_max': 0.047395408153533936, 'regret_mean': 0.0006233934545889497, 'regret_mults': tensor([[83.8030, 82.9081]], device='cuda:0'), 'payment': 0.21054226160049438}\n"
     ]
    },
    {
     "name": "stderr",
     "output_type": "stream",
     "text": [
      "\r",
      " 43%|████▎     | 43/100 [43:57<58:11, 61.25s/it]"
     ]
    },
    {
     "name": "stdout",
     "output_type": "stream",
     "text": [
      "{'regret_max': 0.04486992955207825, 'regret_mean': 0.000503218499943614, 'regret_mults': tensor([[86.0427, 85.6301]], device='cuda:0'), 'payment': 0.21458184719085693}\n"
     ]
    },
    {
     "name": "stderr",
     "output_type": "stream",
     "text": [
      "\r",
      " 44%|████▍     | 44/100 [44:59<57:12, 61.29s/it]"
     ]
    },
    {
     "name": "stdout",
     "output_type": "stream",
     "text": [
      "{'regret_max': 0.041828155517578125, 'regret_mean': 0.00046197284245863557, 'regret_mults': tensor([[87.6187, 86.8840]], device='cuda:0'), 'payment': 0.21485094726085663}\n"
     ]
    },
    {
     "name": "stderr",
     "output_type": "stream",
     "text": [
      "\r",
      " 45%|████▌     | 45/100 [46:00<56:13, 61.34s/it]"
     ]
    },
    {
     "name": "stdout",
     "output_type": "stream",
     "text": [
      "{'regret_max': 0.04589724540710449, 'regret_mean': 0.00048138151760213077, 'regret_mults': tensor([[89.4945, 87.9691]], device='cuda:0'), 'payment': 0.21531540155410767}\n"
     ]
    },
    {
     "name": "stderr",
     "output_type": "stream",
     "text": [
      "\r",
      " 46%|████▌     | 46/100 [47:02<55:14, 61.38s/it]"
     ]
    },
    {
     "name": "stdout",
     "output_type": "stream",
     "text": [
      "{'regret_max': 0.04700802266597748, 'regret_mean': 0.0004739767755381763, 'regret_mults': tensor([[90.6908, 88.9167]], device='cuda:0'), 'payment': 0.21433378756046295}\n"
     ]
    },
    {
     "name": "stderr",
     "output_type": "stream",
     "text": [
      "\r",
      " 47%|████▋     | 47/100 [48:03<54:13, 61.39s/it]"
     ]
    },
    {
     "name": "stdout",
     "output_type": "stream",
     "text": [
      "{'regret_max': 0.04342443123459816, 'regret_mean': 0.00045793273602612317, 'regret_mults': tensor([[93.2368, 92.4294]], device='cuda:0'), 'payment': 0.21134813129901886}\n"
     ]
    },
    {
     "name": "stderr",
     "output_type": "stream",
     "text": [
      "\r",
      " 48%|████▊     | 48/100 [49:04<53:12, 61.40s/it]"
     ]
    },
    {
     "name": "stdout",
     "output_type": "stream",
     "text": [
      "{'regret_max': 0.04358644783496857, 'regret_mean': 0.0005841332022100687, 'regret_mults': tensor([[94.1682, 93.8179]], device='cuda:0'), 'payment': 0.21285375952720642}\n"
     ]
    },
    {
     "name": "stderr",
     "output_type": "stream",
     "text": [
      "\r",
      " 49%|████▉     | 49/100 [50:06<52:11, 61.40s/it]"
     ]
    },
    {
     "name": "stdout",
     "output_type": "stream",
     "text": [
      "{'regret_max': 0.04517096281051636, 'regret_mean': 0.0004307229246478528, 'regret_mults': tensor([[95.4351, 94.6256]], device='cuda:0'), 'payment': 0.20923636853694916}\n"
     ]
    },
    {
     "name": "stderr",
     "output_type": "stream",
     "text": [
      "\r",
      " 50%|█████     | 50/100 [51:07<51:10, 61.41s/it]"
     ]
    },
    {
     "name": "stdout",
     "output_type": "stream",
     "text": [
      "{'regret_max': 0.04384636878967285, 'regret_mean': 0.0004083936510141939, 'regret_mults': tensor([[98.2864, 97.5447]], device='cuda:0'), 'payment': 0.21380195021629333}\n"
     ]
    },
    {
     "name": "stderr",
     "output_type": "stream",
     "text": [
      "\r",
      " 51%|█████     | 51/100 [52:09<50:08, 61.41s/it]"
     ]
    },
    {
     "name": "stdout",
     "output_type": "stream",
     "text": [
      "{'regret_max': 0.03999519348144531, 'regret_mean': 0.00039840355748310685, 'regret_mults': tensor([[99.5999, 98.8276]], device='cuda:0'), 'payment': 0.21417659521102905}\n"
     ]
    },
    {
     "name": "stderr",
     "output_type": "stream",
     "text": [
      "\r",
      " 52%|█████▏    | 52/100 [53:10<49:07, 61.41s/it]"
     ]
    },
    {
     "name": "stdout",
     "output_type": "stream",
     "text": [
      "{'regret_max': 0.044391900300979614, 'regret_mean': 0.00044430093839764595, 'regret_mults': tensor([[101.7767, 100.2321]], device='cuda:0'), 'payment': 0.21077249944210052}\n"
     ]
    },
    {
     "name": "stderr",
     "output_type": "stream",
     "text": [
      "\r",
      " 53%|█████▎    | 53/100 [54:12<48:06, 61.43s/it]"
     ]
    },
    {
     "name": "stdout",
     "output_type": "stream",
     "text": [
      "{'regret_max': 0.04456128180027008, 'regret_mean': 0.00039253730210475624, 'regret_mults': tensor([[102.9559, 101.1565]], device='cuda:0'), 'payment': 0.20670396089553833}\n"
     ]
    },
    {
     "name": "stderr",
     "output_type": "stream",
     "text": [
      "\r",
      " 54%|█████▍    | 54/100 [55:13<47:04, 61.41s/it]"
     ]
    },
    {
     "name": "stdout",
     "output_type": "stream",
     "text": [
      "{'regret_max': 0.04123549163341522, 'regret_mean': 0.0003945492208003998, 'regret_mults': tensor([[106.1112, 104.9736]], device='cuda:0'), 'payment': 0.20941179990768433}\n"
     ]
    },
    {
     "name": "stderr",
     "output_type": "stream",
     "text": [
      "\r",
      " 55%|█████▌    | 55/100 [56:14<46:03, 61.42s/it]"
     ]
    },
    {
     "name": "stdout",
     "output_type": "stream",
     "text": [
      "{'regret_max': 0.04016184061765671, 'regret_mean': 0.0003716370847541839, 'regret_mults': tensor([[107.3729, 105.6933]], device='cuda:0'), 'payment': 0.20924267172813416}\n"
     ]
    },
    {
     "name": "stderr",
     "output_type": "stream",
     "text": [
      "\r",
      " 56%|█████▌    | 56/100 [57:16<45:03, 61.43s/it]"
     ]
    },
    {
     "name": "stdout",
     "output_type": "stream",
     "text": [
      "{'regret_max': 0.03955346345901489, 'regret_mean': 0.0007687806501053274, 'regret_mults': tensor([[112.8758, 110.0793]], device='cuda:0'), 'payment': 0.19963544607162476}\n"
     ]
    },
    {
     "name": "stderr",
     "output_type": "stream",
     "text": [
      "\r",
      " 57%|█████▋    | 57/100 [58:17<44:01, 61.42s/it]"
     ]
    },
    {
     "name": "stdout",
     "output_type": "stream",
     "text": [
      "{'regret_max': 0.036841392517089844, 'regret_mean': 0.00033226475352421403, 'regret_mults': tensor([[113.9961, 111.0130]], device='cuda:0'), 'payment': 0.2108452022075653}\n"
     ]
    },
    {
     "name": "stderr",
     "output_type": "stream",
     "text": [
      "\r",
      " 58%|█████▊    | 58/100 [59:19<43:00, 61.44s/it]"
     ]
    },
    {
     "name": "stdout",
     "output_type": "stream",
     "text": [
      "{'regret_max': 0.03705507516860962, 'regret_mean': 0.00032949348678812385, 'regret_mults': tensor([[116.6521, 113.6152]], device='cuda:0'), 'payment': 0.21037891507148743}\n"
     ]
    },
    {
     "name": "stderr",
     "output_type": "stream",
     "text": [
      "\r",
      " 59%|█████▉    | 59/100 [1:00:20<41:58, 61.42s/it]"
     ]
    },
    {
     "name": "stdout",
     "output_type": "stream",
     "text": [
      "{'regret_max': 0.0369696244597435, 'regret_mean': 0.0003256172640249133, 'regret_mults': tensor([[118.5091, 114.7899]], device='cuda:0'), 'payment': 0.21058964729309082}\n"
     ]
    },
    {
     "name": "stderr",
     "output_type": "stream",
     "text": [
      "\r",
      " 60%|██████    | 60/100 [1:01:22<40:56, 61.42s/it]"
     ]
    },
    {
     "name": "stdout",
     "output_type": "stream",
     "text": [
      "{'regret_max': 0.03808203339576721, 'regret_mean': 0.00032415741588920355, 'regret_mults': tensor([[119.5850, 115.9529]], device='cuda:0'), 'payment': 0.2097938358783722}\n"
     ]
    },
    {
     "name": "stderr",
     "output_type": "stream",
     "text": [
      "\r",
      " 61%|██████    | 61/100 [1:02:23<39:56, 61.44s/it]"
     ]
    },
    {
     "name": "stdout",
     "output_type": "stream",
     "text": [
      "{'regret_max': 0.03930500149726868, 'regret_mean': 0.0003299156087450683, 'regret_mults': tensor([[121.7914, 119.0796]], device='cuda:0'), 'payment': 0.2086872160434723}\n"
     ]
    },
    {
     "name": "stderr",
     "output_type": "stream",
     "text": [
      "\r",
      " 62%|██████▏   | 62/100 [1:03:24<38:54, 61.43s/it]"
     ]
    },
    {
     "name": "stdout",
     "output_type": "stream",
     "text": [
      "{'regret_max': 0.0390528067946434, 'regret_mean': 0.00033184720086865127, 'regret_mults': tensor([[122.8949, 120.7243]], device='cuda:0'), 'payment': 0.2077980637550354}\n"
     ]
    },
    {
     "name": "stderr",
     "output_type": "stream",
     "text": [
      "\r",
      " 63%|██████▎   | 63/100 [1:04:26<37:52, 61.41s/it]"
     ]
    },
    {
     "name": "stdout",
     "output_type": "stream",
     "text": [
      "{'regret_max': 0.039807796478271484, 'regret_mean': 0.0003196116886101663, 'regret_mults': tensor([[123.7495, 121.7912]], device='cuda:0'), 'payment': 0.20903559029102325}\n"
     ]
    },
    {
     "name": "stderr",
     "output_type": "stream",
     "text": [
      "\r",
      " 64%|██████▍   | 64/100 [1:05:27<36:50, 61.41s/it]"
     ]
    },
    {
     "name": "stdout",
     "output_type": "stream",
     "text": [
      "{'regret_max': 0.03860902786254883, 'regret_mean': 0.00033469716436229646, 'regret_mults': tensor([[124.5550, 122.8280]], device='cuda:0'), 'payment': 0.20657387375831604}\n"
     ]
    },
    {
     "name": "stderr",
     "output_type": "stream",
     "text": [
      "\r",
      " 65%|██████▌   | 65/100 [1:06:29<35:50, 61.43s/it]"
     ]
    },
    {
     "name": "stdout",
     "output_type": "stream",
     "text": [
      "{'regret_max': 0.03985220193862915, 'regret_mean': 0.00030119699658825994, 'regret_mults': tensor([[127.0309, 124.8792]], device='cuda:0'), 'payment': 0.20608046650886536}\n"
     ]
    },
    {
     "name": "stderr",
     "output_type": "stream",
     "text": [
      "\r",
      " 66%|██████▌   | 66/100 [1:07:30<34:48, 61.44s/it]"
     ]
    },
    {
     "name": "stdout",
     "output_type": "stream",
     "text": [
      "{'regret_max': 0.03914478421211243, 'regret_mean': 0.0003027471248060465, 'regret_mults': tensor([[128.2422, 126.5705]], device='cuda:0'), 'payment': 0.20520031452178955}\n"
     ]
    },
    {
     "name": "stderr",
     "output_type": "stream",
     "text": [
      "\r",
      " 67%|██████▋   | 67/100 [1:08:32<33:47, 61.44s/it]"
     ]
    },
    {
     "name": "stdout",
     "output_type": "stream",
     "text": [
      "{'regret_max': 0.03812246769666672, 'regret_mean': 0.00038047300768084824, 'regret_mults': tensor([[132.0485, 135.9172]], device='cuda:0'), 'payment': 0.20158138871192932}\n"
     ]
    },
    {
     "name": "stderr",
     "output_type": "stream",
     "text": [
      "\r",
      " 68%|██████▊   | 68/100 [1:09:33<32:46, 61.44s/it]"
     ]
    },
    {
     "name": "stdout",
     "output_type": "stream",
     "text": [
      "{'regret_max': 0.037687450647354126, 'regret_mean': 0.0002735912858042866, 'regret_mults': tensor([[134.2097, 138.7659]], device='cuda:0'), 'payment': 0.20606648921966553}\n"
     ]
    },
    {
     "name": "stderr",
     "output_type": "stream",
     "text": [
      "\r",
      " 69%|██████▉   | 69/100 [1:10:34<31:44, 61.44s/it]"
     ]
    },
    {
     "name": "stdout",
     "output_type": "stream",
     "text": [
      "{'regret_max': 0.035998910665512085, 'regret_mean': 0.000266121729509905, 'regret_mults': tensor([[135.5333, 140.2096]], device='cuda:0'), 'payment': 0.20713941752910614}\n"
     ]
    },
    {
     "name": "stderr",
     "output_type": "stream",
     "text": [
      "\r",
      " 70%|███████   | 70/100 [1:11:36<30:43, 61.45s/it]"
     ]
    },
    {
     "name": "stdout",
     "output_type": "stream",
     "text": [
      "{'regret_max': 0.035075873136520386, 'regret_mean': 0.00026743981288746, 'regret_mults': tensor([[136.9773, 141.1735]], device='cuda:0'), 'payment': 0.20691612362861633}\n"
     ]
    },
    {
     "name": "stderr",
     "output_type": "stream",
     "text": [
      "\r",
      " 71%|███████   | 71/100 [1:12:37<29:42, 61.47s/it]"
     ]
    },
    {
     "name": "stdout",
     "output_type": "stream",
     "text": [
      "{'regret_max': 0.039341360330581665, 'regret_mean': 0.0003935906570404768, 'regret_mults': tensor([[141.0899, 143.5206]], device='cuda:0'), 'payment': 0.19945310056209564}\n"
     ]
    },
    {
     "name": "stderr",
     "output_type": "stream",
     "text": [
      "\r",
      " 72%|███████▏  | 72/100 [1:13:39<28:40, 61.45s/it]"
     ]
    },
    {
     "name": "stdout",
     "output_type": "stream",
     "text": [
      "{'regret_max': 0.03727194666862488, 'regret_mean': 0.00025243445998057723, 'regret_mults': tensor([[143.1619, 145.8346]], device='cuda:0'), 'payment': 0.20657621324062347}\n"
     ]
    },
    {
     "name": "stderr",
     "output_type": "stream",
     "text": [
      "\r",
      " 73%|███████▎  | 73/100 [1:14:40<27:38, 61.44s/it]"
     ]
    },
    {
     "name": "stdout",
     "output_type": "stream",
     "text": [
      "{'regret_max': 0.03490695357322693, 'regret_mean': 0.000249343691393733, 'regret_mults': tensor([[144.2019, 147.1088]], device='cuda:0'), 'payment': 0.20624038577079773}\n"
     ]
    },
    {
     "name": "stderr",
     "output_type": "stream",
     "text": [
      "\r",
      " 74%|███████▍  | 74/100 [1:15:42<26:36, 61.41s/it]"
     ]
    },
    {
     "name": "stdout",
     "output_type": "stream",
     "text": [
      "{'regret_max': 0.038215458393096924, 'regret_mean': 0.00038202834548428655, 'regret_mults': tensor([[145.3788, 148.2067]], device='cuda:0'), 'payment': 0.20225703716278076}\n"
     ]
    },
    {
     "name": "stderr",
     "output_type": "stream",
     "text": [
      "\r",
      " 75%|███████▌  | 75/100 [1:16:43<25:35, 61.41s/it]"
     ]
    },
    {
     "name": "stdout",
     "output_type": "stream",
     "text": [
      "{'regret_max': 0.03902333974838257, 'regret_mean': 0.000250150915235281, 'regret_mults': tensor([[148.9905, 151.3623]], device='cuda:0'), 'payment': 0.20373013615608215}\n"
     ]
    },
    {
     "name": "stderr",
     "output_type": "stream",
     "text": [
      "\r",
      " 76%|███████▌  | 76/100 [1:17:44<24:34, 61.42s/it]"
     ]
    },
    {
     "name": "stdout",
     "output_type": "stream",
     "text": [
      "{'regret_max': 0.03974585607647896, 'regret_mean': 0.00023954953940119594, 'regret_mults': tensor([[150.0688, 152.4984]], device='cuda:0'), 'payment': 0.20576852560043335}\n"
     ]
    },
    {
     "name": "stderr",
     "output_type": "stream",
     "text": [
      "\r",
      " 77%|███████▋  | 77/100 [1:18:46<23:32, 61.43s/it]"
     ]
    },
    {
     "name": "stdout",
     "output_type": "stream",
     "text": [
      "{'regret_max': 0.03536027669906616, 'regret_mean': 0.00023715576389804482, 'regret_mults': tensor([[151.4371, 154.0331]], device='cuda:0'), 'payment': 0.20502957701683044}\n"
     ]
    },
    {
     "name": "stderr",
     "output_type": "stream",
     "text": [
      "\r",
      " 78%|███████▊  | 78/100 [1:19:47<22:31, 61.42s/it]"
     ]
    },
    {
     "name": "stdout",
     "output_type": "stream",
     "text": [
      "{'regret_max': 0.037630826234817505, 'regret_mean': 0.00027239526389166713, 'regret_mults': tensor([[152.9321, 155.9906]], device='cuda:0'), 'payment': 0.20240607857704163}\n"
     ]
    },
    {
     "name": "stderr",
     "output_type": "stream",
     "text": [
      "\r",
      " 79%|███████▉  | 79/100 [1:20:49<21:29, 61.41s/it]"
     ]
    },
    {
     "name": "stdout",
     "output_type": "stream",
     "text": [
      "{'regret_max': 0.040477022528648376, 'regret_mean': 0.00024278400815092027, 'regret_mults': tensor([[155.5278, 158.5772]], device='cuda:0'), 'payment': 0.20202241837978363}\n"
     ]
    },
    {
     "name": "stderr",
     "output_type": "stream",
     "text": [
      "\r",
      " 80%|████████  | 80/100 [1:21:50<20:28, 61.41s/it]"
     ]
    },
    {
     "name": "stdout",
     "output_type": "stream",
     "text": [
      "{'regret_max': 0.03705567121505737, 'regret_mean': 0.00023472908651456237, 'regret_mults': tensor([[156.1898, 159.3841]], device='cuda:0'), 'payment': 0.19953304529190063}\n"
     ]
    },
    {
     "name": "stderr",
     "output_type": "stream",
     "text": [
      "\r",
      " 81%|████████  | 81/100 [1:22:51<19:26, 61.41s/it]"
     ]
    },
    {
     "name": "stdout",
     "output_type": "stream",
     "text": [
      "{'regret_max': 0.039822906255722046, 'regret_mean': 0.00024336008937098086, 'regret_mults': tensor([[157.4146, 161.0430]], device='cuda:0'), 'payment': 0.20055751502513885}\n"
     ]
    },
    {
     "name": "stderr",
     "output_type": "stream",
     "text": [
      "\r",
      " 82%|████████▏ | 82/100 [1:23:53<18:25, 61.44s/it]"
     ]
    },
    {
     "name": "stdout",
     "output_type": "stream",
     "text": [
      "{'regret_max': 0.03472033143043518, 'regret_mean': 0.0002294689475093037, 'regret_mults': tensor([[158.4951, 162.7910]], device='cuda:0'), 'payment': 0.20234525203704834}\n"
     ]
    },
    {
     "name": "stderr",
     "output_type": "stream",
     "text": [
      "\r",
      " 83%|████████▎ | 83/100 [1:24:55<17:24, 61.47s/it]"
     ]
    },
    {
     "name": "stdout",
     "output_type": "stream",
     "text": [
      "{'regret_max': 0.04175014793872833, 'regret_mean': 0.0005797074409201741, 'regret_mults': tensor([[162.2795, 165.9846]], device='cuda:0'), 'payment': 0.19100090861320496}\n"
     ]
    },
    {
     "name": "stderr",
     "output_type": "stream",
     "text": [
      "\r",
      " 84%|████████▍ | 84/100 [1:25:56<16:23, 61.47s/it]"
     ]
    },
    {
     "name": "stdout",
     "output_type": "stream",
     "text": [
      "{'regret_max': 0.035003796219825745, 'regret_mean': 0.0002161446027457714, 'regret_mults': tensor([[163.0042, 166.7833]], device='cuda:0'), 'payment': 0.19943515956401825}\n"
     ]
    },
    {
     "name": "stderr",
     "output_type": "stream",
     "text": [
      "\r",
      " 85%|████████▌ | 85/100 [1:26:56<15:16, 61.12s/it]"
     ]
    },
    {
     "name": "stdout",
     "output_type": "stream",
     "text": [
      "{'regret_max': 0.03390619158744812, 'regret_mean': 0.00020964103168807924, 'regret_mults': tensor([[163.7779, 167.7526]], device='cuda:0'), 'payment': 0.20121201872825623}\n"
     ]
    },
    {
     "name": "stderr",
     "output_type": "stream",
     "text": [
      "\r",
      " 86%|████████▌ | 86/100 [1:27:56<14:10, 60.75s/it]"
     ]
    },
    {
     "name": "stdout",
     "output_type": "stream",
     "text": [
      "{'regret_max': 0.0355093777179718, 'regret_mean': 0.00020896716159768403, 'regret_mults': tensor([[166.5728, 170.5106]], device='cuda:0'), 'payment': 0.20415054261684418}\n"
     ]
    },
    {
     "name": "stderr",
     "output_type": "stream",
     "text": [
      "\r",
      " 87%|████████▋ | 87/100 [1:28:56<13:07, 60.56s/it]"
     ]
    },
    {
     "name": "stdout",
     "output_type": "stream",
     "text": [
      "{'regret_max': 0.03411117196083069, 'regret_mean': 0.00020697593572549522, 'regret_mults': tensor([[167.6069, 171.6992]], device='cuda:0'), 'payment': 0.20407827198505402}\n"
     ]
    },
    {
     "name": "stderr",
     "output_type": "stream",
     "text": [
      "\r",
      " 88%|████████▊ | 88/100 [1:29:56<12:04, 60.37s/it]"
     ]
    },
    {
     "name": "stdout",
     "output_type": "stream",
     "text": [
      "{'regret_max': 0.0355459600687027, 'regret_mean': 0.00020663988834712654, 'regret_mults': tensor([[168.5657, 173.1905]], device='cuda:0'), 'payment': 0.2029234915971756}\n"
     ]
    },
    {
     "name": "stderr",
     "output_type": "stream",
     "text": [
      "\r",
      " 89%|████████▉ | 89/100 [1:30:56<11:02, 60.25s/it]"
     ]
    },
    {
     "name": "stdout",
     "output_type": "stream",
     "text": [
      "{'regret_max': 0.03585359826683998, 'regret_mean': 0.00021517377172131091, 'regret_mults': tensor([[170.2265, 174.6266]], device='cuda:0'), 'payment': 0.20199386775493622}\n"
     ]
    },
    {
     "name": "stderr",
     "output_type": "stream",
     "text": [
      "\r",
      " 90%|█████████ | 90/100 [1:31:56<10:01, 60.13s/it]"
     ]
    },
    {
     "name": "stdout",
     "output_type": "stream",
     "text": [
      "{'regret_max': 0.036489829421043396, 'regret_mean': 0.0002084520529024303, 'regret_mults': tensor([[172.8133, 176.6602]], device='cuda:0'), 'payment': 0.20228220522403717}\n"
     ]
    },
    {
     "name": "stderr",
     "output_type": "stream",
     "text": [
      "\r",
      " 91%|█████████ | 91/100 [1:32:56<09:00, 60.06s/it]"
     ]
    },
    {
     "name": "stdout",
     "output_type": "stream",
     "text": [
      "{'regret_max': 0.03558136522769928, 'regret_mean': 0.00024353672051802278, 'regret_mults': tensor([[176.1431, 178.1551]], device='cuda:0'), 'payment': 0.19990794360637665}\n"
     ]
    },
    {
     "name": "stderr",
     "output_type": "stream",
     "text": [
      "\r",
      " 92%|█████████▏| 92/100 [1:33:56<08:00, 60.04s/it]"
     ]
    },
    {
     "name": "stdout",
     "output_type": "stream",
     "text": [
      "{'regret_max': 0.03592415153980255, 'regret_mean': 0.00019906394300051033, 'regret_mults': tensor([[176.9367, 179.0958]], device='cuda:0'), 'payment': 0.20111066102981567}\n"
     ]
    },
    {
     "name": "stderr",
     "output_type": "stream",
     "text": [
      "\r",
      " 93%|█████████▎| 93/100 [1:34:56<07:00, 60.04s/it]"
     ]
    },
    {
     "name": "stdout",
     "output_type": "stream",
     "text": [
      "{'regret_max': 0.03532370179891586, 'regret_mean': 0.00020312529522925615, 'regret_mults': tensor([[178.6000, 180.9299]], device='cuda:0'), 'payment': 0.1992548108100891}\n"
     ]
    },
    {
     "name": "stderr",
     "output_type": "stream",
     "text": [
      "\r",
      " 94%|█████████▍| 94/100 [1:35:56<05:59, 59.96s/it]"
     ]
    },
    {
     "name": "stdout",
     "output_type": "stream",
     "text": [
      "{'regret_max': 0.0351807177066803, 'regret_mean': 0.00020785523520316929, 'regret_mults': tensor([[179.8351, 182.1991]], device='cuda:0'), 'payment': 0.19973573088645935}\n"
     ]
    },
    {
     "name": "stderr",
     "output_type": "stream",
     "text": [
      "\r",
      " 95%|█████████▌| 95/100 [1:36:56<04:59, 59.97s/it]"
     ]
    },
    {
     "name": "stdout",
     "output_type": "stream",
     "text": [
      "{'regret_max': 0.036381691694259644, 'regret_mean': 0.000200672511709854, 'regret_mults': tensor([[180.5233, 183.5226]], device='cuda:0'), 'payment': 0.20040330290794373}\n"
     ]
    },
    {
     "name": "stderr",
     "output_type": "stream",
     "text": [
      "\r",
      " 96%|█████████▌| 96/100 [1:37:56<04:00, 60.13s/it]"
     ]
    },
    {
     "name": "stdout",
     "output_type": "stream",
     "text": [
      "{'regret_max': 0.03343714028596878, 'regret_mean': 0.00030449178302660584, 'regret_mults': tensor([[181.6162, 184.5184]], device='cuda:0'), 'payment': 0.19766810536384583}\n"
     ]
    },
    {
     "name": "stderr",
     "output_type": "stream",
     "text": [
      "\r",
      " 97%|█████████▋| 97/100 [1:38:56<03:00, 60.10s/it]"
     ]
    },
    {
     "name": "stdout",
     "output_type": "stream",
     "text": [
      "{'regret_max': 0.035199105739593506, 'regret_mean': 0.0001883702934719622, 'regret_mults': tensor([[185.0621, 186.9675]], device='cuda:0'), 'payment': 0.20084542036056519}\n"
     ]
    },
    {
     "name": "stderr",
     "output_type": "stream",
     "text": [
      "\r",
      " 98%|█████████▊| 98/100 [1:39:56<02:00, 60.07s/it]"
     ]
    },
    {
     "name": "stdout",
     "output_type": "stream",
     "text": [
      "{'regret_max': 0.0363297238945961, 'regret_mean': 0.00018429096962790936, 'regret_mults': tensor([[186.2087, 188.2539]], device='cuda:0'), 'payment': 0.20227278769016266}\n"
     ]
    },
    {
     "name": "stderr",
     "output_type": "stream",
     "text": [
      "\r",
      " 99%|█████████▉| 99/100 [1:40:56<01:00, 60.07s/it]"
     ]
    },
    {
     "name": "stdout",
     "output_type": "stream",
     "text": [
      "{'regret_max': 0.03486555814743042, 'regret_mean': 0.00018786377040669322, 'regret_mults': tensor([[187.2704, 189.9209]], device='cuda:0'), 'payment': 0.20137229561805725}\n"
     ]
    },
    {
     "name": "stderr",
     "output_type": "stream",
     "text": [
      "100%|██████████| 100/100 [1:41:56<00:00, 61.17s/it]"
     ]
    },
    {
     "name": "stdout",
     "output_type": "stream",
     "text": [
      "{'regret_max': 0.03660711646080017, 'regret_mean': 0.0002621166640892625, 'regret_mults': tensor([[190.7952, 192.9560]], device='cuda:0'), 'payment': 0.1961917132139206}\n",
      "CPU times: user 1h 41min 27s, sys: 18.8 s, total: 1h 41min 46s\n",
      "Wall time: 1h 41min 56s\n"
     ]
    },
    {
     "name": "stderr",
     "output_type": "stream",
     "text": [
      "\n"
     ]
    }
   ],
   "source": [
    "%%time\n",
    "mean_rgt, mean_pay, lagr_mults = train_loop(model, train_loader, args, device=device)"
   ]
  },
  {
   "cell_type": "code",
   "execution_count": 6,
   "metadata": {},
   "outputs": [],
   "source": [
    "dir_name = 'exact_one_2x3_0_1_experiment_data/'"
   ]
  },
  {
   "cell_type": "code",
   "execution_count": 7,
   "metadata": {},
   "outputs": [
    {
     "name": "stderr",
     "output_type": "stream",
     "text": [
      "1it [00:17, 17.06s/it]"
     ]
    },
    {
     "name": "stdout",
     "output_type": "stream",
     "text": [
      "CPU times: user 17 s, sys: 41 ms, total: 17 s\n",
      "Wall time: 17.1 s\n"
     ]
    },
    {
     "name": "stderr",
     "output_type": "stream",
     "text": [
      "\n"
     ]
    },
    {
     "data": {
      "text/plain": [
       "{'payment_mean': 0.1874050498008728,\n",
       " 'regret_mean': 0.0033861410338431597,\n",
       " 'regret_max': 0.034230656921863556}"
      ]
     },
     "execution_count": 7,
     "metadata": {},
     "output_type": "execute_result"
    }
   ],
   "source": [
    "%%time\n",
    "# model.sinkhorn_rounds = 100\n",
    "# model.sinkhorn_epsilon = 1e-2\n",
    "# test_data = ds.generate_dataset_nxk(args.n_agents, args.n_items, args.test_num_examples, item_ranges).to(device)\n",
    "test_data = torch.load(dir_name + 'test_data').to(device=device)\n",
    "cpu_test_data = test_data.clone().to(device='cpu')\n",
    "\n",
    "test_loader = ds.Dataloader(test_data, batch_size=args.test_batch_size, shuffle=True)\n",
    "\n",
    "result = test_loop(model, test_loader, args, device=device)\n",
    "result"
   ]
  },
  {
   "cell_type": "code",
   "execution_count": 17,
   "metadata": {
    "scrolled": true
   },
   "outputs": [
    {
     "name": "stderr",
     "output_type": "stream",
     "text": [
      "1it [03:12, 192.56s/it]"
     ]
    },
    {
     "name": "stdout",
     "output_type": "stream",
     "text": [
      "CPU times: user 3min 11s, sys: 453 ms, total: 3min 12s\n",
      "Wall time: 3min 12s\n"
     ]
    },
    {
     "name": "stderr",
     "output_type": "stream",
     "text": [
      "\n"
     ]
    },
    {
     "data": {
      "text/plain": [
       "{'payment_mean': 0.1874050348997116,\n",
       " 'regret_mean': 0.0035518871154636145,\n",
       " 'regret_max': 0.035107918083667755}"
      ]
     },
     "execution_count": 17,
     "metadata": {},
     "output_type": "execute_result"
    }
   ],
   "source": [
    "%%time\n",
    "args.test_num_examples = 1000\n",
    "args.test_batch_size = 1000\n",
    "args.test_misreport_iter = 1000\n",
    "args.misreport_lr = 1e-1\n",
    "model.sinkhorn_rounds = 20\n",
    "model.sinkhorn_epsilon = 5e-2\n",
    "\n",
    "random_starts = [test_data]\n",
    "for i in range(10):\n",
    "    random_starts.append(ds.generate_dataset_nxk(args.n_agents, args.n_items, args.test_num_examples, item_ranges).to(device))\n",
    "test_loader = ds.Dataloader(test_data, batch_size=args.test_batch_size, shuffle=True)\n",
    "\n",
    "result = test_loop_random_start(model, test_loader, args, random_starts, device=device)\n",
    "result"
   ]
  },
  {
   "cell_type": "code",
   "execution_count": 9,
   "metadata": {},
   "outputs": [],
   "source": [
    "model.save(dir_name)"
   ]
  },
  {
   "cell_type": "code",
   "execution_count": 10,
   "metadata": {},
   "outputs": [],
   "source": [
    "import cvxpy as cp\n",
    "import numpy as np\n",
    "from typing import NamedTuple\n",
    "from tqdm.notebook import tqdm"
   ]
  },
  {
   "cell_type": "code",
   "execution_count": 11,
   "metadata": {},
   "outputs": [],
   "source": [
    "class AuctionResult(NamedTuple):\n",
    "    alloc: np.ndarray\n",
    "    welfare: np.ndarray\n",
    "    payment: np.ndarray"
   ]
  },
  {
   "cell_type": "code",
   "execution_count": 12,
   "metadata": {},
   "outputs": [],
   "source": [
    "def max_welfare_alloc(bids_mat, k, exact_demand=False):\n",
    "    # returns allocation, util of allocation\n",
    "\n",
    "    num_agents = bids_mat.shape[0]\n",
    "    num_items = bids_mat.shape[1]\n",
    "    alloc_matrix = cp.Variable((num_agents, num_items), nonneg=True)\n",
    "    item_supply_constraints = cp.sum(alloc_matrix, axis=0) <= 1\n",
    "    if exact_demand:\n",
    "        agent_demand_constraints = cp.sum(alloc_matrix, axis=1) == k\n",
    "    else:\n",
    "        agent_demand_constraints = cp.sum(alloc_matrix, axis=1) <= k\n",
    "    welfare = cp.sum((cp.multiply(bids_mat, alloc_matrix)))\n",
    "    problem = cp.Problem(cp.Maximize(welfare), [item_supply_constraints, agent_demand_constraints])\n",
    "    problem.solve()\n",
    "    return (alloc_matrix.value, problem.value)"
   ]
  },
  {
   "cell_type": "code",
   "execution_count": 13,
   "metadata": {},
   "outputs": [],
   "source": [
    "def vcg_auction(bids_mat, k, exact_demand=False):\n",
    "    main_alloc, max_welfare_total_util = max_welfare_alloc(bids_mat, k, exact_demand=exact_demand)\n",
    "    payments = np.zeros(bids_mat.shape[0])\n",
    "    player_utils = (bids_mat * main_alloc).sum(axis=1)\n",
    "    num_agents = bids_mat.shape[0]\n",
    "    for i in range(num_agents):\n",
    "        dropped_bid_mat = np.delete(bids_mat, (i), axis=0)\n",
    "        dropped_player_utils = np.delete(player_utils, (i), axis=0) # player utils under full auction\n",
    "        new_alloc, new_total_util = max_welfare_alloc(dropped_bid_mat, k, exact_demand=exact_demand)\n",
    "        new_agent_utils = (new_alloc*dropped_bid_mat).sum(axis=1) # player utils without agent i's bid\n",
    "        payments[i] = (new_agent_utils - dropped_player_utils).sum() \n",
    "    return AuctionResult(main_alloc, player_utils, payments)"
   ]
  },
  {
   "cell_type": "code",
   "execution_count": 14,
   "metadata": {},
   "outputs": [],
   "source": [
    "payments = []\n",
    "for i in range(test_data.shape[0]):\n",
    "    payments.append(vcg_auction(cpu_test_data[i].cpu().numpy(), 1, exact_demand=True).payment.sum())"
   ]
  },
  {
   "cell_type": "code",
   "execution_count": 15,
   "metadata": {},
   "outputs": [
    {
     "data": {
      "text/plain": [
       "0.04831120853033575"
      ]
     },
     "execution_count": 15,
     "metadata": {},
     "output_type": "execute_result"
    }
   ],
   "source": [
    "np.mean(payments)"
   ]
  },
  {
   "cell_type": "code",
   "execution_count": 16,
   "metadata": {},
   "outputs": [],
   "source": [
    "import pickle\n",
    "to_pkl_lst = [mean_rgt, mean_pay, lagr_mults]\n",
    "for i, fname in enumerate(['mean_rgt', 'mean_pay', 'lagr_mults']):\n",
    "    with open(dir_name + fname, 'wb') as fp:\n",
    "        pickle.dump(to_pkl_lst[i], fp)"
   ]
  }
 ],
 "metadata": {
  "kernelspec": {
   "display_name": "Python 3",
   "language": "python",
   "name": "python3"
  },
  "language_info": {
   "codemirror_mode": {
    "name": "ipython",
    "version": 3
   },
   "file_extension": ".py",
   "mimetype": "text/x-python",
   "name": "python",
   "nbconvert_exporter": "python",
   "pygments_lexer": "ipython3",
   "version": "3.7.4"
  }
 },
 "nbformat": 4,
 "nbformat_minor": 2
}
