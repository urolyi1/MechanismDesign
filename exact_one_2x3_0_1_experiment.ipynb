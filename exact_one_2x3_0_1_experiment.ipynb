{
 "cells": [
  {
   "cell_type": "code",
   "execution_count": 1,
   "metadata": {},
   "outputs": [],
   "source": [
    "import torch\n",
    "from torch import nn, optim\n",
    "import torch.nn.functional as F\n",
    "import numpy as np\n",
    "from argparse import ArgumentParser\n",
    "from double_net.double_net import DoubleNet, train_loop, train_loop_no_lagrange, test_loop\n",
    "from double_net import datasets as ds\n",
    "import time\n",
    "import double_net.plot_utils as pu\n",
    "import importlib\n",
    "import matplotlib.pyplot as plt"
   ]
  },
  {
   "cell_type": "code",
   "execution_count": 2,
   "metadata": {},
   "outputs": [],
   "source": [
    "if torch.cuda.is_available():\n",
    "    device = 'cuda'\n",
    "else:\n",
    "    device = 'cpu'"
   ]
  },
  {
   "cell_type": "code",
   "execution_count": 3,
   "metadata": {},
   "outputs": [
    {
     "data": {
      "text/plain": [
       "Namespace(batch_size=4096, lagr_update_iter=100, misreport_iter=25, misreport_lr=0.1, model_lr=0.001, n_agents=2, n_items=3, num_epochs=100, num_examples=524288, random_seed=0, rgt_start=0, rho=1, rho_incr_amount=1.0, rho_incr_iter=2, sinkhorn_epsilon=0.03, sinkhorn_rounds=20, test_batch_size=4096, test_iter=5, test_misreport_iter=1000, test_num_examples=1000)"
      ]
     },
     "execution_count": 3,
     "metadata": {},
     "output_type": "execute_result"
    }
   ],
   "source": [
    "parser = ArgumentParser()\n",
    "parser.add_argument('--random-seed', type=int, default=0)\n",
    "parser.add_argument('--num-examples', type=int, default=131072 * 4)\n",
    "parser.add_argument('--test-num-examples', type=int, default=1000)\n",
    "parser.add_argument('--test-iter', type=int, default=5)\n",
    "parser.add_argument('--n-agents', type=int, default=2)\n",
    "parser.add_argument('--n-items', type=int, default=3)\n",
    "parser.add_argument('--num-epochs', type=int, default=100)\n",
    "parser.add_argument('--batch-size', type=int, default=128 * 32)\n",
    "parser.add_argument('--test-batch-size', type=int, default=1000)\n",
    "parser.add_argument('--model-lr', type=float, default=1e-3)\n",
    "parser.add_argument('--misreport-lr', type=float, default=1e-1)\n",
    "parser.add_argument('--misreport-iter', type=int, default=25)\n",
    "parser.add_argument('--test-misreport-iter', type=int, default=1000)\n",
    "parser.add_argument('--rho', type=float, default=1)\n",
    "parser.add_argument('--rho-incr-iter', type=int, default=2)\n",
    "parser.add_argument('--rho-incr-amount', type=float, default=1.0)\n",
    "parser.add_argument('--lagr-update-iter', type=int, default=100)\n",
    "parser.add_argument('--rgt-start', type=int, default=0)\n",
    "parser.add_argument('--sinkhorn-epsilon', type=float, default=3e-2)\n",
    "parser.add_argument('--sinkhorn-rounds', type=int, default=20)\n",
    "\n",
    "\n",
    "args = parser.parse_args(args=[])\n",
    "args"
   ]
  },
  {
   "cell_type": "code",
   "execution_count": 4,
   "metadata": {},
   "outputs": [],
   "source": [
    "torch.manual_seed(args.random_seed)\n",
    "np.random.seed(args.random_seed)\n",
    "\n",
    "item_ranges = ds.preset_valuation_range(args.n_agents, args.n_items, \"\")\n",
    "\n",
    "model = DoubleNet(\n",
    "    args.n_agents, args.n_items, item_ranges, args.sinkhorn_epsilon, args.sinkhorn_rounds, marginal_choice='exact_one'\n",
    ").to(device)\n",
    "\n",
    "train_data = ds.generate_dataset_nxk(args.n_agents, args.n_items, args.num_examples, item_ranges).to(device)\n",
    "train_loader = ds.Dataloader(train_data, batch_size=args.batch_size, shuffle=True)"
   ]
  },
  {
   "cell_type": "code",
   "execution_count": 5,
   "metadata": {
    "scrolled": true
   },
   "outputs": [
    {
     "name": "stderr",
     "output_type": "stream",
     "text": [
      "  1%|          | 1/100 [01:02<1:43:07, 62.50s/it]"
     ]
    },
    {
     "name": "stdout",
     "output_type": "stream",
     "text": [
      "{'regret_max': 0.5637989044189453, 'regret_mean': 0.03824717923998833, 'regret_mults': tensor([[6.3531, 6.4138]], device='cuda:0'), 'payment': 0.2215757966041565}\n"
     ]
    },
    {
     "name": "stderr",
     "output_type": "stream",
     "text": [
      "\r",
      "  2%|▏         | 2/100 [02:04<1:41:56, 62.42s/it]"
     ]
    },
    {
     "name": "stdout",
     "output_type": "stream",
     "text": [
      "{'regret_max': 0.10445916652679443, 'regret_mean': 0.018735527992248535, 'regret_mults': tensor([[8.1911, 8.3890]], device='cuda:0'), 'payment': 0.17324334383010864}\n"
     ]
    },
    {
     "name": "stderr",
     "output_type": "stream",
     "text": [
      "\r",
      "  3%|▎         | 3/100 [03:06<1:40:49, 62.37s/it]"
     ]
    },
    {
     "name": "stdout",
     "output_type": "stream",
     "text": [
      "{'regret_max': 0.0828857421875, 'regret_mean': 0.012605579569935799, 'regret_mults': tensor([[10.3732, 10.1859]], device='cuda:0'), 'payment': 0.14856737852096558}\n"
     ]
    },
    {
     "name": "stderr",
     "output_type": "stream",
     "text": [
      "\r",
      "  4%|▍         | 4/100 [04:09<1:39:44, 62.34s/it]"
     ]
    },
    {
     "name": "stdout",
     "output_type": "stream",
     "text": [
      "{'regret_max': 0.07739323377609253, 'regret_mean': 0.008959564380347729, 'regret_mults': tensor([[14.4614, 13.6254]], device='cuda:0'), 'payment': 0.14257247745990753}\n"
     ]
    },
    {
     "name": "stderr",
     "output_type": "stream",
     "text": [
      "\r",
      "  5%|▌         | 5/100 [05:11<1:38:41, 62.33s/it]"
     ]
    },
    {
     "name": "stdout",
     "output_type": "stream",
     "text": [
      "{'regret_max': 0.06693601608276367, 'regret_mean': 0.005857533775269985, 'regret_mults': tensor([[16.2244, 15.3035]], device='cuda:0'), 'payment': 0.14042100310325623}\n"
     ]
    },
    {
     "name": "stderr",
     "output_type": "stream",
     "text": [
      "\r",
      "  6%|▌         | 6/100 [06:13<1:37:39, 62.34s/it]"
     ]
    },
    {
     "name": "stdout",
     "output_type": "stream",
     "text": [
      "{'regret_max': 0.06337454915046692, 'regret_mean': 0.004747058264911175, 'regret_mults': tensor([[17.9888, 16.7847]], device='cuda:0'), 'payment': 0.14013023674488068}\n"
     ]
    },
    {
     "name": "stderr",
     "output_type": "stream",
     "text": [
      "\r",
      "  7%|▋         | 7/100 [07:15<1:36:26, 62.22s/it]"
     ]
    },
    {
     "name": "stdout",
     "output_type": "stream",
     "text": [
      "{'regret_max': 0.06835311651229858, 'regret_mean': 0.0040299659594893456, 'regret_mults': tensor([[19.6993, 18.3680]], device='cuda:0'), 'payment': 0.13950449228286743}\n"
     ]
    },
    {
     "name": "stderr",
     "output_type": "stream",
     "text": [
      "\r",
      "  8%|▊         | 8/100 [08:17<1:35:10, 62.07s/it]"
     ]
    },
    {
     "name": "stdout",
     "output_type": "stream",
     "text": [
      "{'regret_max': 0.08898285031318665, 'regret_mean': 0.004010390490293503, 'regret_mults': tensor([[24.1154, 21.3847]], device='cuda:0'), 'payment': 0.13703198730945587}\n"
     ]
    },
    {
     "name": "stderr",
     "output_type": "stream",
     "text": [
      "\r",
      "  9%|▉         | 9/100 [09:19<1:34:01, 61.99s/it]"
     ]
    },
    {
     "name": "stdout",
     "output_type": "stream",
     "text": [
      "{'regret_max': 0.11486220359802246, 'regret_mean': 0.003660733113065362, 'regret_mults': tensor([[26.8467, 24.1115]], device='cuda:0'), 'payment': 0.1555546522140503}\n"
     ]
    },
    {
     "name": "stderr",
     "output_type": "stream",
     "text": [
      "\r",
      " 10%|█         | 10/100 [10:21<1:32:55, 61.96s/it]"
     ]
    },
    {
     "name": "stdout",
     "output_type": "stream",
     "text": [
      "{'regret_max': 0.05022530257701874, 'regret_mean': 0.0022367071360349655, 'regret_mults': tensor([[28.0749, 25.5624]], device='cuda:0'), 'payment': 0.17516010999679565}\n"
     ]
    },
    {
     "name": "stderr",
     "output_type": "stream",
     "text": [
      "\r",
      " 11%|█         | 11/100 [11:22<1:31:45, 61.86s/it]"
     ]
    },
    {
     "name": "stdout",
     "output_type": "stream",
     "text": [
      "{'regret_max': 0.05904799699783325, 'regret_mean': 0.0021387229207903147, 'regret_mults': tensor([[30.7619, 28.5085]], device='cuda:0'), 'payment': 0.18537770211696625}\n"
     ]
    },
    {
     "name": "stderr",
     "output_type": "stream",
     "text": [
      "\r",
      " 12%|█▏        | 12/100 [12:24<1:30:37, 61.79s/it]"
     ]
    },
    {
     "name": "stdout",
     "output_type": "stream",
     "text": [
      "{'regret_max': 0.05198916792869568, 'regret_mean': 0.0018508497159928083, 'regret_mults': tensor([[31.9467, 29.9081]], device='cuda:0'), 'payment': 0.19395847618579865}\n"
     ]
    },
    {
     "name": "stderr",
     "output_type": "stream",
     "text": [
      "\r",
      " 13%|█▎        | 13/100 [13:26<1:29:34, 61.78s/it]"
     ]
    },
    {
     "name": "stdout",
     "output_type": "stream",
     "text": [
      "{'regret_max': 0.05061674118041992, 'regret_mean': 0.001739685656502843, 'regret_mults': tensor([[33.1731, 31.1359]], device='cuda:0'), 'payment': 0.19653582572937012}\n"
     ]
    },
    {
     "name": "stderr",
     "output_type": "stream",
     "text": [
      "\r",
      " 14%|█▍        | 14/100 [14:28<1:28:35, 61.81s/it]"
     ]
    },
    {
     "name": "stdout",
     "output_type": "stream",
     "text": [
      "{'regret_max': 0.05113112926483154, 'regret_mean': 0.0016178463120013475, 'regret_mults': tensor([[34.5740, 32.8382]], device='cuda:0'), 'payment': 0.1964750587940216}\n"
     ]
    },
    {
     "name": "stderr",
     "output_type": "stream",
     "text": [
      "\r",
      " 15%|█▌        | 15/100 [15:29<1:27:31, 61.78s/it]"
     ]
    },
    {
     "name": "stdout",
     "output_type": "stream",
     "text": [
      "{'regret_max': 0.0518781840801239, 'regret_mean': 0.0014637960121035576, 'regret_mults': tensor([[37.2115, 36.1008]], device='cuda:0'), 'payment': 0.19636154174804688}\n"
     ]
    },
    {
     "name": "stderr",
     "output_type": "stream",
     "text": [
      "\r",
      " 16%|█▌        | 16/100 [16:31<1:26:31, 61.80s/it]"
     ]
    },
    {
     "name": "stdout",
     "output_type": "stream",
     "text": [
      "{'regret_max': 0.05289602279663086, 'regret_mean': 0.0013712591025978327, 'regret_mults': tensor([[38.5418, 37.5608]], device='cuda:0'), 'payment': 0.1971583068370819}\n"
     ]
    },
    {
     "name": "stderr",
     "output_type": "stream",
     "text": [
      "\r",
      " 17%|█▋        | 17/100 [17:33<1:25:29, 61.80s/it]"
     ]
    },
    {
     "name": "stdout",
     "output_type": "stream",
     "text": [
      "{'regret_max': 0.05034807324409485, 'regret_mean': 0.001297726295888424, 'regret_mults': tensor([[39.8979, 39.1862]], device='cuda:0'), 'payment': 0.19796288013458252}\n"
     ]
    },
    {
     "name": "stderr",
     "output_type": "stream",
     "text": [
      "\r",
      " 18%|█▊        | 18/100 [18:35<1:24:25, 61.78s/it]"
     ]
    },
    {
     "name": "stdout",
     "output_type": "stream",
     "text": [
      "{'regret_max': 0.04976721107959747, 'regret_mean': 0.001244368264451623, 'regret_mults': tensor([[42.1740, 41.9202]], device='cuda:0'), 'payment': 0.20030969381332397}\n"
     ]
    },
    {
     "name": "stderr",
     "output_type": "stream",
     "text": [
      "\r",
      " 19%|█▉        | 19/100 [19:37<1:23:25, 61.80s/it]"
     ]
    },
    {
     "name": "stdout",
     "output_type": "stream",
     "text": [
      "{'regret_max': 0.051864802837371826, 'regret_mean': 0.0012274866458028555, 'regret_mults': tensor([[43.4985, 43.2400]], device='cuda:0'), 'payment': 0.20336416363716125}\n"
     ]
    },
    {
     "name": "stderr",
     "output_type": "stream",
     "text": [
      "\r",
      " 20%|██        | 20/100 [20:38<1:22:20, 61.76s/it]"
     ]
    },
    {
     "name": "stdout",
     "output_type": "stream",
     "text": [
      "{'regret_max': 0.05048096179962158, 'regret_mean': 0.001159461447969079, 'regret_mults': tensor([[44.8418, 44.5882]], device='cuda:0'), 'payment': 0.2070831060409546}\n"
     ]
    },
    {
     "name": "stderr",
     "output_type": "stream",
     "text": [
      "\r",
      " 21%|██        | 21/100 [21:40<1:21:17, 61.74s/it]"
     ]
    },
    {
     "name": "stdout",
     "output_type": "stream",
     "text": [
      "{'regret_max': 0.05101120471954346, 'regret_mean': 0.0011280274484306574, 'regret_mults': tensor([[46.5240, 45.9782]], device='cuda:0'), 'payment': 0.2090386301279068}\n"
     ]
    },
    {
     "name": "stderr",
     "output_type": "stream",
     "text": [
      "\r",
      " 22%|██▏       | 22/100 [22:42<1:20:14, 61.72s/it]"
     ]
    },
    {
     "name": "stdout",
     "output_type": "stream",
     "text": [
      "{'regret_max': 0.04948599636554718, 'regret_mean': 0.001066671684384346, 'regret_mults': tensor([[49.2440, 48.9785]], device='cuda:0'), 'payment': 0.21217994391918182}\n"
     ]
    },
    {
     "name": "stderr",
     "output_type": "stream",
     "text": [
      "\r",
      " 23%|██▎       | 23/100 [23:43<1:19:14, 61.74s/it]"
     ]
    },
    {
     "name": "stdout",
     "output_type": "stream",
     "text": [
      "{'regret_max': 0.05016651749610901, 'regret_mean': 0.001023735385388136, 'regret_mults': tensor([[50.9092, 50.3593]], device='cuda:0'), 'payment': 0.213550865650177}\n"
     ]
    },
    {
     "name": "stderr",
     "output_type": "stream",
     "text": [
      "\r",
      " 24%|██▍       | 24/100 [24:45<1:18:09, 61.70s/it]"
     ]
    },
    {
     "name": "stdout",
     "output_type": "stream",
     "text": [
      "{'regret_max': 0.04908261448144913, 'regret_mean': 0.001098749926313758, 'regret_mults': tensor([[52.4368, 51.9585]], device='cuda:0'), 'payment': 0.21370144188404083}\n"
     ]
    },
    {
     "name": "stderr",
     "output_type": "stream",
     "text": [
      "\r",
      " 25%|██▌       | 25/100 [25:47<1:17:06, 61.69s/it]"
     ]
    },
    {
     "name": "stdout",
     "output_type": "stream",
     "text": [
      "{'regret_max': 0.049712393432855606, 'regret_mean': 0.0008884362177923322, 'regret_mults': tensor([[55.1430, 54.5255]], device='cuda:0'), 'payment': 0.2174854278564453}\n"
     ]
    },
    {
     "name": "stderr",
     "output_type": "stream",
     "text": [
      "\r",
      " 26%|██▌       | 26/100 [26:48<1:15:57, 61.58s/it]"
     ]
    },
    {
     "name": "stdout",
     "output_type": "stream",
     "text": [
      "{'regret_max': 0.05290213227272034, 'regret_mean': 0.000882064807228744, 'regret_mults': tensor([[56.5825, 55.6737]], device='cuda:0'), 'payment': 0.21707628667354584}\n"
     ]
    },
    {
     "name": "stderr",
     "output_type": "stream",
     "text": [
      "\r",
      " 27%|██▋       | 27/100 [27:49<1:14:47, 61.48s/it]"
     ]
    },
    {
     "name": "stdout",
     "output_type": "stream",
     "text": [
      "{'regret_max': 0.05122464895248413, 'regret_mean': 0.0009180097840726376, 'regret_mults': tensor([[58.0913, 56.7827]], device='cuda:0'), 'payment': 0.21731528639793396}\n"
     ]
    },
    {
     "name": "stderr",
     "output_type": "stream",
     "text": [
      "\r",
      " 28%|██▊       | 28/100 [28:51<1:13:42, 61.42s/it]"
     ]
    },
    {
     "name": "stdout",
     "output_type": "stream",
     "text": [
      "{'regret_max': 0.0500604510307312, 'regret_mean': 0.0008023892878554761, 'regret_mults': tensor([[59.3068, 58.1208]], device='cuda:0'), 'payment': 0.21894952654838562}\n"
     ]
    },
    {
     "name": "stderr",
     "output_type": "stream",
     "text": [
      "\r",
      " 29%|██▉       | 29/100 [29:52<1:12:34, 61.33s/it]"
     ]
    },
    {
     "name": "stdout",
     "output_type": "stream",
     "text": [
      "{'regret_max': 0.05041484162211418, 'regret_mean': 0.0008261483162641525, 'regret_mults': tensor([[61.7957, 60.8139]], device='cuda:0'), 'payment': 0.21809180080890656}\n"
     ]
    },
    {
     "name": "stderr",
     "output_type": "stream",
     "text": [
      "\r",
      " 30%|███       | 30/100 [30:53<1:11:35, 61.37s/it]"
     ]
    },
    {
     "name": "stdout",
     "output_type": "stream",
     "text": [
      "{'regret_max': 0.04897958040237427, 'regret_mean': 0.0007823758060112596, 'regret_mults': tensor([[62.8783, 62.1375]], device='cuda:0'), 'payment': 0.21920132637023926}\n"
     ]
    },
    {
     "name": "stderr",
     "output_type": "stream",
     "text": [
      "\r",
      " 31%|███       | 31/100 [31:54<1:10:31, 61.32s/it]"
     ]
    },
    {
     "name": "stdout",
     "output_type": "stream",
     "text": [
      "{'regret_max': 0.05108301341533661, 'regret_mean': 0.0007834173156879842, 'regret_mults': tensor([[64.4303, 63.3955]], device='cuda:0'), 'payment': 0.21791771054267883}\n"
     ]
    },
    {
     "name": "stderr",
     "output_type": "stream",
     "text": [
      "\r",
      " 32%|███▏      | 32/100 [32:56<1:09:30, 61.34s/it]"
     ]
    },
    {
     "name": "stdout",
     "output_type": "stream",
     "text": [
      "{'regret_max': 0.05063864588737488, 'regret_mean': 0.0007025531958788633, 'regret_mults': tensor([[65.6378, 64.6357]], device='cuda:0'), 'payment': 0.21927502751350403}\n"
     ]
    },
    {
     "name": "stderr",
     "output_type": "stream",
     "text": [
      "\r",
      " 33%|███▎      | 33/100 [33:57<1:08:25, 61.28s/it]"
     ]
    },
    {
     "name": "stdout",
     "output_type": "stream",
     "text": [
      "{'regret_max': 0.05320855975151062, 'regret_mean': 0.0008285344811156392, 'regret_mults': tensor([[68.7702, 67.8267]], device='cuda:0'), 'payment': 0.2139424830675125}\n"
     ]
    },
    {
     "name": "stderr",
     "output_type": "stream",
     "text": [
      "\r",
      " 34%|███▍      | 34/100 [34:58<1:07:23, 61.27s/it]"
     ]
    },
    {
     "name": "stdout",
     "output_type": "stream",
     "text": [
      "{'regret_max': 0.0498712956905365, 'regret_mean': 0.0006703503313474357, 'regret_mults': tensor([[69.8903, 69.2874]], device='cuda:0'), 'payment': 0.21826741099357605}\n"
     ]
    },
    {
     "name": "stderr",
     "output_type": "stream",
     "text": [
      "\r",
      " 35%|███▌      | 35/100 [35:59<1:06:23, 61.29s/it]"
     ]
    },
    {
     "name": "stdout",
     "output_type": "stream",
     "text": [
      "{'regret_max': 0.049722522497177124, 'regret_mean': 0.0006247333949431777, 'regret_mults': tensor([[71.0221, 70.5628]], device='cuda:0'), 'payment': 0.21642491221427917}\n"
     ]
    },
    {
     "name": "stderr",
     "output_type": "stream",
     "text": [
      "\r",
      " 36%|███▌      | 36/100 [37:01<1:05:22, 61.28s/it]"
     ]
    },
    {
     "name": "stdout",
     "output_type": "stream",
     "text": [
      "{'regret_max': 0.04810395836830139, 'regret_mean': 0.000621740473434329, 'regret_mults': tensor([[73.3375, 73.2478]], device='cuda:0'), 'payment': 0.21714156866073608}\n"
     ]
    },
    {
     "name": "stderr",
     "output_type": "stream",
     "text": [
      "\r",
      " 37%|███▋      | 37/100 [38:02<1:04:21, 61.29s/it]"
     ]
    },
    {
     "name": "stdout",
     "output_type": "stream",
     "text": [
      "{'regret_max': 0.05174225568771362, 'regret_mean': 0.0006612787256017327, 'regret_mults': tensor([[74.8611, 74.8166]], device='cuda:0'), 'payment': 0.21597148478031158}\n"
     ]
    },
    {
     "name": "stderr",
     "output_type": "stream",
     "text": [
      "\r",
      " 38%|███▊      | 38/100 [39:03<1:03:19, 61.28s/it]"
     ]
    },
    {
     "name": "stdout",
     "output_type": "stream",
     "text": [
      "{'regret_max': 0.048666760325431824, 'regret_mean': 0.0005557464901357889, 'regret_mults': tensor([[76.2318, 76.1023]], device='cuda:0'), 'payment': 0.21617045998573303}\n"
     ]
    },
    {
     "name": "stderr",
     "output_type": "stream",
     "text": [
      "\r",
      " 39%|███▉      | 39/100 [40:04<1:02:16, 61.26s/it]"
     ]
    },
    {
     "name": "stdout",
     "output_type": "stream",
     "text": [
      "{'regret_max': 0.047283053398132324, 'regret_mean': 0.0006767264567315578, 'regret_mults': tensor([[78.8243, 78.0632]], device='cuda:0'), 'payment': 0.21279266476631165}\n"
     ]
    },
    {
     "name": "stderr",
     "output_type": "stream",
     "text": [
      "\r",
      " 40%|████      | 40/100 [41:06<1:01:17, 61.28s/it]"
     ]
    },
    {
     "name": "stdout",
     "output_type": "stream",
     "text": [
      "{'regret_max': 0.04854780435562134, 'regret_mean': 0.0005175975384190679, 'regret_mults': tensor([[82.2758, 80.5027]], device='cuda:0'), 'payment': 0.21531523764133453}\n"
     ]
    },
    {
     "name": "stderr",
     "output_type": "stream",
     "text": [
      "\r",
      " 41%|████      | 41/100 [42:07<1:00:15, 61.27s/it]"
     ]
    },
    {
     "name": "stdout",
     "output_type": "stream",
     "text": [
      "{'regret_max': 0.051194652915000916, 'regret_mean': 0.0006209689890965819, 'regret_mults': tensor([[83.6451, 82.0277]], device='cuda:0'), 'payment': 0.21236005425453186}\n"
     ]
    },
    {
     "name": "stderr",
     "output_type": "stream",
     "text": [
      "\r",
      " 42%|████▏     | 42/100 [43:08<59:13, 61.27s/it]  "
     ]
    },
    {
     "name": "stdout",
     "output_type": "stream",
     "text": [
      "{'regret_max': 0.046207740902900696, 'regret_mean': 0.00048223137855529785, 'regret_mults': tensor([[84.9673, 83.2331]], device='cuda:0'), 'payment': 0.21506163477897644}\n"
     ]
    },
    {
     "name": "stderr",
     "output_type": "stream",
     "text": [
      "\r",
      " 43%|████▎     | 43/100 [44:10<58:11, 61.25s/it]"
     ]
    },
    {
     "name": "stdout",
     "output_type": "stream",
     "text": [
      "{'regret_max': 0.04438522458076477, 'regret_mean': 0.0005231973482295871, 'regret_mults': tensor([[87.3653, 85.7591]], device='cuda:0'), 'payment': 0.21415051817893982}\n"
     ]
    },
    {
     "name": "stderr",
     "output_type": "stream",
     "text": [
      "\r",
      " 44%|████▍     | 44/100 [45:11<57:10, 61.27s/it]"
     ]
    },
    {
     "name": "stdout",
     "output_type": "stream",
     "text": [
      "{'regret_max': 0.04870101809501648, 'regret_mean': 0.0004947265842929482, 'regret_mults': tensor([[88.2686, 87.1329]], device='cuda:0'), 'payment': 0.2138802409172058}\n"
     ]
    },
    {
     "name": "stderr",
     "output_type": "stream",
     "text": [
      "\r",
      " 45%|████▌     | 45/100 [46:12<56:09, 61.27s/it]"
     ]
    },
    {
     "name": "stdout",
     "output_type": "stream",
     "text": [
      "{'regret_max': 0.04794082045555115, 'regret_mean': 0.0004915465833619237, 'regret_mults': tensor([[89.6753, 88.2470]], device='cuda:0'), 'payment': 0.21251024305820465}\n"
     ]
    },
    {
     "name": "stderr",
     "output_type": "stream",
     "text": [
      "\r",
      " 46%|████▌     | 46/100 [47:13<55:07, 61.25s/it]"
     ]
    },
    {
     "name": "stdout",
     "output_type": "stream",
     "text": [
      "{'regret_max': 0.05269426107406616, 'regret_mean': 0.0004929519491270185, 'regret_mults': tensor([[90.5973, 89.4254]], device='cuda:0'), 'payment': 0.2116776555776596}\n"
     ]
    },
    {
     "name": "stderr",
     "output_type": "stream",
     "text": [
      "\r",
      " 47%|████▋     | 47/100 [48:15<54:05, 61.24s/it]"
     ]
    },
    {
     "name": "stdout",
     "output_type": "stream",
     "text": [
      "{'regret_max': 0.04987359791994095, 'regret_mean': 0.0004425857332535088, 'regret_mults': tensor([[93.4480, 92.5189]], device='cuda:0'), 'payment': 0.21101930737495422}\n"
     ]
    },
    {
     "name": "stderr",
     "output_type": "stream",
     "text": [
      "\r",
      " 48%|████▊     | 48/100 [49:16<53:04, 61.25s/it]"
     ]
    },
    {
     "name": "stdout",
     "output_type": "stream",
     "text": [
      "{'regret_max': 0.05809283256530762, 'regret_mean': 0.0009882645681500435, 'regret_mults': tensor([[94.3374, 93.6144]], device='cuda:0'), 'payment': 0.19763600826263428}\n"
     ]
    },
    {
     "name": "stderr",
     "output_type": "stream",
     "text": [
      "\r",
      " 49%|████▉     | 49/100 [50:17<52:05, 61.28s/it]"
     ]
    },
    {
     "name": "stdout",
     "output_type": "stream",
     "text": [
      "{'regret_max': 0.0408954918384552, 'regret_mean': 0.00041700515430420637, 'regret_mults': tensor([[95.5567, 94.9703]], device='cuda:0'), 'payment': 0.2111760526895523}\n"
     ]
    },
    {
     "name": "stderr",
     "output_type": "stream",
     "text": [
      "\r",
      " 50%|█████     | 50/100 [51:18<51:03, 61.26s/it]"
     ]
    },
    {
     "name": "stdout",
     "output_type": "stream",
     "text": [
      "{'regret_max': 0.04110898822546005, 'regret_mean': 0.0003978466847911477, 'regret_mults': tensor([[98.4299, 97.5044]], device='cuda:0'), 'payment': 0.2111044079065323}\n"
     ]
    },
    {
     "name": "stderr",
     "output_type": "stream",
     "text": [
      "\r",
      " 51%|█████     | 51/100 [52:20<50:01, 61.25s/it]"
     ]
    },
    {
     "name": "stdout",
     "output_type": "stream",
     "text": [
      "{'regret_max': 0.03936035931110382, 'regret_mean': 0.00039855059003457427, 'regret_mults': tensor([[99.3923, 98.9689]], device='cuda:0'), 'payment': 0.21234671771526337}\n"
     ]
    },
    {
     "name": "stderr",
     "output_type": "stream",
     "text": [
      "\r",
      " 52%|█████▏    | 52/100 [53:21<49:02, 61.29s/it]"
     ]
    },
    {
     "name": "stdout",
     "output_type": "stream",
     "text": [
      "{'regret_max': 0.040315479040145874, 'regret_mean': 0.0003868964849971235, 'regret_mults': tensor([[100.6145, 100.2719]], device='cuda:0'), 'payment': 0.21190470457077026}\n"
     ]
    },
    {
     "name": "stderr",
     "output_type": "stream",
     "text": [
      "\r",
      " 53%|█████▎    | 53/100 [54:22<48:00, 61.28s/it]"
     ]
    },
    {
     "name": "stdout",
     "output_type": "stream",
     "text": [
      "{'regret_max': 0.042665380984544754, 'regret_mean': 0.00038554484490305185, 'regret_mults': tensor([[101.9681, 101.7189]], device='cuda:0'), 'payment': 0.21082237362861633}\n"
     ]
    },
    {
     "name": "stderr",
     "output_type": "stream",
     "text": [
      "\r",
      " 54%|█████▍    | 54/100 [55:23<46:57, 61.26s/it]"
     ]
    },
    {
     "name": "stdout",
     "output_type": "stream",
     "text": [
      "{'regret_max': 0.04238097369670868, 'regret_mean': 0.000655219133477658, 'regret_mults': tensor([[106.7950, 105.9495]], device='cuda:0'), 'payment': 0.20554529130458832}\n"
     ]
    },
    {
     "name": "stderr",
     "output_type": "stream",
     "text": [
      "\r",
      " 55%|█████▌    | 55/100 [56:25<45:55, 61.23s/it]"
     ]
    },
    {
     "name": "stdout",
     "output_type": "stream",
     "text": [
      "{'regret_max': 0.04860192537307739, 'regret_mean': 0.0003780666447710246, 'regret_mults': tensor([[107.7612, 106.9118]], device='cuda:0'), 'payment': 0.20341017842292786}\n"
     ]
    },
    {
     "name": "stderr",
     "output_type": "stream",
     "text": [
      "\r",
      " 56%|█████▌    | 56/100 [57:26<44:54, 61.23s/it]"
     ]
    },
    {
     "name": "stdout",
     "output_type": "stream",
     "text": [
      "{'regret_max': 0.038304105401039124, 'regret_mean': 0.0003520290192682296, 'regret_mults': tensor([[108.8853, 108.2238]], device='cuda:0'), 'payment': 0.2099784016609192}\n"
     ]
    },
    {
     "name": "stderr",
     "output_type": "stream",
     "text": [
      "\r",
      " 57%|█████▋    | 57/100 [58:27<43:53, 61.25s/it]"
     ]
    },
    {
     "name": "stdout",
     "output_type": "stream",
     "text": [
      "{'regret_max': 0.03930278867483139, 'regret_mean': 0.0003435562248341739, 'regret_mults': tensor([[110.5151, 109.3986]], device='cuda:0'), 'payment': 0.2093460112810135}\n"
     ]
    },
    {
     "name": "stderr",
     "output_type": "stream",
     "text": [
      "\r",
      " 58%|█████▊    | 58/100 [59:28<42:52, 61.25s/it]"
     ]
    },
    {
     "name": "stdout",
     "output_type": "stream",
     "text": [
      "{'regret_max': 0.0381411574780941, 'regret_mean': 0.0003468802315182984, 'regret_mults': tensor([[114.0354, 112.4280]], device='cuda:0'), 'payment': 0.20816636085510254}\n"
     ]
    },
    {
     "name": "stderr",
     "output_type": "stream",
     "text": [
      "\r",
      " 59%|█████▉    | 59/100 [1:00:30<41:49, 61.22s/it]"
     ]
    },
    {
     "name": "stdout",
     "output_type": "stream",
     "text": [
      "{'regret_max': 0.039560820907354355, 'regret_mean': 0.00038568838499486446, 'regret_mults': tensor([[115.6678, 113.5370]], device='cuda:0'), 'payment': 0.20799890160560608}\n"
     ]
    },
    {
     "name": "stderr",
     "output_type": "stream",
     "text": [
      "\r",
      " 60%|██████    | 60/100 [1:01:31<40:50, 61.27s/it]"
     ]
    },
    {
     "name": "stdout",
     "output_type": "stream",
     "text": [
      "{'regret_max': 0.04193739593029022, 'regret_mean': 0.00034775875974446535, 'regret_mults': tensor([[116.5894, 115.1321]], device='cuda:0'), 'payment': 0.2079395204782486}\n"
     ]
    },
    {
     "name": "stderr",
     "output_type": "stream",
     "text": [
      "\r",
      " 61%|██████    | 61/100 [1:02:32<39:50, 61.29s/it]"
     ]
    },
    {
     "name": "stdout",
     "output_type": "stream",
     "text": [
      "{'regret_max': 0.037489354610443115, 'regret_mean': 0.0003173746226821095, 'regret_mults': tensor([[119.5884, 117.5807]], device='cuda:0'), 'payment': 0.2086474597454071}\n"
     ]
    },
    {
     "name": "stderr",
     "output_type": "stream",
     "text": [
      "\r",
      " 62%|██████▏   | 62/100 [1:03:34<38:49, 61.30s/it]"
     ]
    },
    {
     "name": "stdout",
     "output_type": "stream",
     "text": [
      "{'regret_max': 0.039161041378974915, 'regret_mean': 0.0003582746139727533, 'regret_mults': tensor([[121.1716, 119.2862]], device='cuda:0'), 'payment': 0.20683984458446503}\n"
     ]
    },
    {
     "name": "stderr",
     "output_type": "stream",
     "text": [
      "\r",
      " 63%|██████▎   | 63/100 [1:04:35<37:47, 61.28s/it]"
     ]
    },
    {
     "name": "stdout",
     "output_type": "stream",
     "text": [
      "{'regret_max': 0.040834859013557434, 'regret_mean': 0.00031456240685656667, 'regret_mults': tensor([[122.4519, 120.5727]], device='cuda:0'), 'payment': 0.2057703137397766}\n"
     ]
    },
    {
     "name": "stderr",
     "output_type": "stream",
     "text": [
      "\r",
      " 64%|██████▍   | 64/100 [1:05:36<36:46, 61.29s/it]"
     ]
    },
    {
     "name": "stdout",
     "output_type": "stream",
     "text": [
      "{'regret_max': 0.04046889394521713, 'regret_mean': 0.00045871268957853317, 'regret_mults': tensor([[123.4490, 121.8031]], device='cuda:0'), 'payment': 0.20244300365447998}\n"
     ]
    },
    {
     "name": "stderr",
     "output_type": "stream",
     "text": [
      "\r",
      " 65%|██████▌   | 65/100 [1:06:37<35:45, 61.31s/it]"
     ]
    },
    {
     "name": "stdout",
     "output_type": "stream",
     "text": [
      "{'regret_max': 0.03710631653666496, 'regret_mean': 0.00030179094756022096, 'regret_mults': tensor([[127.2998, 124.0688]], device='cuda:0'), 'payment': 0.20737528800964355}\n"
     ]
    },
    {
     "name": "stderr",
     "output_type": "stream",
     "text": [
      "\r",
      " 66%|██████▌   | 66/100 [1:07:39<34:44, 61.32s/it]"
     ]
    },
    {
     "name": "stdout",
     "output_type": "stream",
     "text": [
      "{'regret_max': 0.03471456468105316, 'regret_mean': 0.0002903516869992018, 'regret_mults': tensor([[129.1401, 125.1523]], device='cuda:0'), 'payment': 0.20702853798866272}\n"
     ]
    },
    {
     "name": "stderr",
     "output_type": "stream",
     "text": [
      "\r",
      " 67%|██████▋   | 67/100 [1:08:40<33:42, 61.29s/it]"
     ]
    },
    {
     "name": "stdout",
     "output_type": "stream",
     "text": [
      "{'regret_max': 0.03742466866970062, 'regret_mean': 0.0003501531027723104, 'regret_mults': tensor([[130.4213, 126.1004]], device='cuda:0'), 'payment': 0.20307722687721252}\n"
     ]
    },
    {
     "name": "stderr",
     "output_type": "stream",
     "text": [
      "\r",
      " 68%|██████▊   | 68/100 [1:09:41<32:41, 61.31s/it]"
     ]
    },
    {
     "name": "stdout",
     "output_type": "stream",
     "text": [
      "{'regret_max': 0.04428479075431824, 'regret_mean': 0.0002968088665511459, 'regret_mults': tensor([[132.5380, 128.6351]], device='cuda:0'), 'payment': 0.2053092122077942}\n"
     ]
    },
    {
     "name": "stderr",
     "output_type": "stream",
     "text": [
      "\r",
      " 69%|██████▉   | 69/100 [1:10:43<31:39, 61.29s/it]"
     ]
    },
    {
     "name": "stdout",
     "output_type": "stream",
     "text": [
      "{'regret_max': 0.039715781807899475, 'regret_mean': 0.0002745753154158592, 'regret_mults': tensor([[133.6149, 130.2115]], device='cuda:0'), 'payment': 0.2066388875246048}\n"
     ]
    },
    {
     "name": "stderr",
     "output_type": "stream",
     "text": [
      "\r",
      " 70%|███████   | 70/100 [1:11:44<30:39, 61.32s/it]"
     ]
    },
    {
     "name": "stdout",
     "output_type": "stream",
     "text": [
      "{'regret_max': 0.04197174310684204, 'regret_mean': 0.000751028535887599, 'regret_mults': tensor([[135.2976, 131.0890]], device='cuda:0'), 'payment': 0.1971965730190277}\n"
     ]
    },
    {
     "name": "stderr",
     "output_type": "stream",
     "text": [
      "\r",
      " 71%|███████   | 71/100 [1:12:45<29:36, 61.27s/it]"
     ]
    },
    {
     "name": "stdout",
     "output_type": "stream",
     "text": [
      "{'regret_max': 0.03583020716905594, 'regret_mean': 0.0002666740329004824, 'regret_mults': tensor([[136.4104, 132.4254]], device='cuda:0'), 'payment': 0.19907888770103455}\n"
     ]
    },
    {
     "name": "stderr",
     "output_type": "stream",
     "text": [
      "\r",
      " 72%|███████▏  | 72/100 [1:13:47<28:36, 61.31s/it]"
     ]
    },
    {
     "name": "stdout",
     "output_type": "stream",
     "text": [
      "{'regret_max': 0.03292688727378845, 'regret_mean': 0.0002593575627543032, 'regret_mults': tensor([[138.5806, 134.8631]], device='cuda:0'), 'payment': 0.2055848240852356}\n"
     ]
    },
    {
     "name": "stderr",
     "output_type": "stream",
     "text": [
      "\r",
      " 73%|███████▎  | 73/100 [1:14:48<27:35, 61.31s/it]"
     ]
    },
    {
     "name": "stdout",
     "output_type": "stream",
     "text": [
      "{'regret_max': 0.03476041927933693, 'regret_mean': 0.0002580248692538589, 'regret_mults': tensor([[139.7554, 136.0727]], device='cuda:0'), 'payment': 0.20677776634693146}\n"
     ]
    },
    {
     "name": "stderr",
     "output_type": "stream",
     "text": [
      "\r",
      " 74%|███████▍  | 74/100 [1:15:49<26:34, 61.31s/it]"
     ]
    },
    {
     "name": "stdout",
     "output_type": "stream",
     "text": [
      "{'regret_max': 0.0336504727602005, 'regret_mean': 0.00025665367138572037, 'regret_mults': tensor([[140.7243, 137.3391]], device='cuda:0'), 'payment': 0.2066718190908432}\n"
     ]
    },
    {
     "name": "stderr",
     "output_type": "stream",
     "text": [
      "\r",
      " 75%|███████▌  | 75/100 [1:16:51<25:33, 61.35s/it]"
     ]
    },
    {
     "name": "stdout",
     "output_type": "stream",
     "text": [
      "{'regret_max': 0.03408117592334747, 'regret_mean': 0.00025666970759630203, 'regret_mults': tensor([[143.1053, 140.2381]], device='cuda:0'), 'payment': 0.206703782081604}\n"
     ]
    },
    {
     "name": "stderr",
     "output_type": "stream",
     "text": [
      "\r",
      " 76%|███████▌  | 76/100 [1:17:52<24:31, 61.33s/it]"
     ]
    },
    {
     "name": "stdout",
     "output_type": "stream",
     "text": [
      "{'regret_max': 0.03605566546320915, 'regret_mean': 0.00025906716473400593, 'regret_mults': tensor([[143.9352, 141.4800]], device='cuda:0'), 'payment': 0.20640236139297485}\n"
     ]
    },
    {
     "name": "stderr",
     "output_type": "stream",
     "text": [
      "\r",
      " 77%|███████▋  | 77/100 [1:18:53<23:30, 61.33s/it]"
     ]
    },
    {
     "name": "stdout",
     "output_type": "stream",
     "text": [
      "{'regret_max': 0.040480971336364746, 'regret_mean': 0.000482215458760038, 'regret_mults': tensor([[145.5211, 143.3407]], device='cuda:0'), 'payment': 0.19540393352508545}\n"
     ]
    },
    {
     "name": "stderr",
     "output_type": "stream",
     "text": [
      "\r",
      " 78%|███████▊  | 78/100 [1:19:54<22:28, 61.28s/it]"
     ]
    },
    {
     "name": "stdout",
     "output_type": "stream",
     "text": [
      "{'regret_max': 0.03517159819602966, 'regret_mean': 0.00024259542988147587, 'regret_mults': tensor([[146.9068, 144.7017]], device='cuda:0'), 'payment': 0.2050434947013855}\n"
     ]
    },
    {
     "name": "stderr",
     "output_type": "stream",
     "text": [
      "\r",
      " 79%|███████▉  | 79/100 [1:20:56<21:27, 61.30s/it]"
     ]
    },
    {
     "name": "stdout",
     "output_type": "stream",
     "text": [
      "{'regret_max': 0.03481192886829376, 'regret_mean': 0.00023783968936186284, 'regret_mults': tensor([[149.2083, 146.9131]], device='cuda:0'), 'payment': 0.20567725598812103}\n"
     ]
    },
    {
     "name": "stderr",
     "output_type": "stream",
     "text": [
      "\r",
      " 80%|████████  | 80/100 [1:21:57<20:25, 61.30s/it]"
     ]
    },
    {
     "name": "stdout",
     "output_type": "stream",
     "text": [
      "{'regret_max': 0.03394727408885956, 'regret_mean': 0.0002395732735749334, 'regret_mults': tensor([[150.3136, 147.9707]], device='cuda:0'), 'payment': 0.20668578147888184}\n"
     ]
    },
    {
     "name": "stderr",
     "output_type": "stream",
     "text": [
      "\r",
      " 81%|████████  | 81/100 [1:22:58<19:25, 61.32s/it]"
     ]
    },
    {
     "name": "stdout",
     "output_type": "stream",
     "text": [
      "{'regret_max': 0.03644675388932228, 'regret_mean': 0.00024683662923052907, 'regret_mults': tensor([[152.0582, 149.1514]], device='cuda:0'), 'payment': 0.2050049751996994}\n"
     ]
    },
    {
     "name": "stderr",
     "output_type": "stream",
     "text": [
      "\r",
      " 82%|████████▏ | 82/100 [1:24:00<18:23, 61.32s/it]"
     ]
    },
    {
     "name": "stdout",
     "output_type": "stream",
     "text": [
      "{'regret_max': 0.034192025661468506, 'regret_mean': 0.0003836983232758939, 'regret_mults': tensor([[153.1215, 150.2622]], device='cuda:0'), 'payment': 0.2027619630098343}\n"
     ]
    },
    {
     "name": "stderr",
     "output_type": "stream",
     "text": [
      "\r",
      " 83%|████████▎ | 83/100 [1:25:01<17:22, 61.29s/it]"
     ]
    },
    {
     "name": "stdout",
     "output_type": "stream",
     "text": [
      "{'regret_max': 0.03796863555908203, 'regret_mean': 0.00023366343521047384, 'regret_mults': tensor([[155.7872, 152.8195]], device='cuda:0'), 'payment': 0.2000674307346344}\n"
     ]
    },
    {
     "name": "stderr",
     "output_type": "stream",
     "text": [
      "\r",
      " 84%|████████▍ | 84/100 [1:26:02<16:21, 61.33s/it]"
     ]
    },
    {
     "name": "stdout",
     "output_type": "stream",
     "text": [
      "{'regret_max': 0.03540565446019173, 'regret_mean': 0.00022517985780723393, 'regret_mults': tensor([[157.1432, 154.1906]], device='cuda:0'), 'payment': 0.2041645348072052}\n"
     ]
    },
    {
     "name": "stderr",
     "output_type": "stream",
     "text": [
      "\r",
      " 85%|████████▌ | 85/100 [1:27:04<15:19, 61.33s/it]"
     ]
    },
    {
     "name": "stdout",
     "output_type": "stream",
     "text": [
      "{'regret_max': 0.034795548766851425, 'regret_mean': 0.0002269967517349869, 'regret_mults': tensor([[158.4924, 155.5018]], device='cuda:0'), 'payment': 0.20452548563480377}\n"
     ]
    },
    {
     "name": "stderr",
     "output_type": "stream",
     "text": [
      "\r",
      " 86%|████████▌ | 86/100 [1:28:05<14:17, 61.28s/it]"
     ]
    },
    {
     "name": "stdout",
     "output_type": "stream",
     "text": [
      "{'regret_max': 0.037420522421598434, 'regret_mean': 0.00023337974562309682, 'regret_mults': tensor([[162.5988, 158.5540]], device='cuda:0'), 'payment': 0.20275264978408813}\n"
     ]
    },
    {
     "name": "stderr",
     "output_type": "stream",
     "text": [
      "\r",
      " 87%|████████▋ | 87/100 [1:29:06<13:16, 61.29s/it]"
     ]
    },
    {
     "name": "stdout",
     "output_type": "stream",
     "text": [
      "{'regret_max': 0.03355520963668823, 'regret_mean': 0.000257276464253664, 'regret_mults': tensor([[163.8550, 159.7325]], device='cuda:0'), 'payment': 0.2009829729795456}\n"
     ]
    },
    {
     "name": "stderr",
     "output_type": "stream",
     "text": [
      "\r",
      " 88%|████████▊ | 88/100 [1:30:07<12:15, 61.29s/it]"
     ]
    },
    {
     "name": "stdout",
     "output_type": "stream",
     "text": [
      "{'regret_max': 0.037182461470365524, 'regret_mean': 0.00021422153804451227, 'regret_mults': tensor([[164.7892, 160.9532]], device='cuda:0'), 'payment': 0.20321819186210632}\n"
     ]
    },
    {
     "name": "stderr",
     "output_type": "stream",
     "text": [
      "\r",
      " 89%|████████▉ | 89/100 [1:31:09<11:14, 61.30s/it]"
     ]
    },
    {
     "name": "stdout",
     "output_type": "stream",
     "text": [
      "{'regret_max': 0.03380867838859558, 'regret_mean': 0.00037577570765279233, 'regret_mults': tensor([[166.7313, 162.1941]], device='cuda:0'), 'payment': 0.19839827716350555}\n"
     ]
    },
    {
     "name": "stderr",
     "output_type": "stream",
     "text": [
      "\r",
      " 90%|█████████ | 90/100 [1:32:10<10:12, 61.24s/it]"
     ]
    },
    {
     "name": "stdout",
     "output_type": "stream",
     "text": [
      "{'regret_max': 0.034793272614479065, 'regret_mean': 0.00020789522386621684, 'regret_mults': tensor([[168.5124, 163.9269]], device='cuda:0'), 'payment': 0.20128804445266724}\n"
     ]
    },
    {
     "name": "stderr",
     "output_type": "stream",
     "text": [
      "\r",
      " 91%|█████████ | 91/100 [1:33:11<09:11, 61.29s/it]"
     ]
    },
    {
     "name": "stdout",
     "output_type": "stream",
     "text": [
      "{'regret_max': 0.0340065062046051, 'regret_mean': 0.00020423854584805667, 'regret_mults': tensor([[169.4874, 164.8820]], device='cuda:0'), 'payment': 0.20322002470493317}\n"
     ]
    },
    {
     "name": "stderr",
     "output_type": "stream",
     "text": [
      "\r",
      " 92%|█████████▏| 92/100 [1:34:12<08:09, 61.23s/it]"
     ]
    },
    {
     "name": "stdout",
     "output_type": "stream",
     "text": [
      "{'regret_max': 0.036716803908348083, 'regret_mean': 0.0002063755237031728, 'regret_mults': tensor([[170.3324, 165.9033]], device='cuda:0'), 'payment': 0.20257768034934998}\n"
     ]
    },
    {
     "name": "stderr",
     "output_type": "stream",
     "text": [
      "\r",
      " 93%|█████████▎| 93/100 [1:35:14<07:08, 61.26s/it]"
     ]
    },
    {
     "name": "stdout",
     "output_type": "stream",
     "text": [
      "{'regret_max': 0.038889721035957336, 'regret_mean': 0.0002139381831511855, 'regret_mults': tensor([[171.9560, 168.5759]], device='cuda:0'), 'payment': 0.20205804705619812}\n"
     ]
    },
    {
     "name": "stderr",
     "output_type": "stream",
     "text": [
      "\r",
      " 94%|█████████▍| 94/100 [1:36:15<06:07, 61.25s/it]"
     ]
    },
    {
     "name": "stdout",
     "output_type": "stream",
     "text": [
      "{'regret_max': 0.03545716404914856, 'regret_mean': 0.00035536481300368905, 'regret_mults': tensor([[175.6141, 171.7482]], device='cuda:0'), 'payment': 0.19726824760437012}\n"
     ]
    },
    {
     "name": "stderr",
     "output_type": "stream",
     "text": [
      "\r",
      " 95%|█████████▌| 95/100 [1:37:16<05:06, 61.28s/it]"
     ]
    },
    {
     "name": "stdout",
     "output_type": "stream",
     "text": [
      "{'regret_max': 0.03342945873737335, 'regret_mean': 0.00020012485038023442, 'regret_mults': tensor([[176.2169, 172.6796]], device='cuda:0'), 'payment': 0.20284296572208405}\n"
     ]
    },
    {
     "name": "stderr",
     "output_type": "stream",
     "text": [
      "\r",
      " 96%|█████████▌| 96/100 [1:38:18<04:05, 61.28s/it]"
     ]
    },
    {
     "name": "stdout",
     "output_type": "stream",
     "text": [
      "{'regret_max': 0.03266964852809906, 'regret_mean': 0.00019369274377822876, 'regret_mults': tensor([[177.0663, 173.6602]], device='cuda:0'), 'payment': 0.20301847159862518}\n"
     ]
    },
    {
     "name": "stderr",
     "output_type": "stream",
     "text": [
      "\r",
      " 97%|█████████▋| 97/100 [1:39:19<03:03, 61.26s/it]"
     ]
    },
    {
     "name": "stdout",
     "output_type": "stream",
     "text": [
      "{'regret_max': 0.03583598881959915, 'regret_mean': 0.0002086107269860804, 'regret_mults': tensor([[179.9207, 175.6378]], device='cuda:0'), 'payment': 0.20084737241268158}\n"
     ]
    },
    {
     "name": "stderr",
     "output_type": "stream",
     "text": [
      "\r",
      " 98%|█████████▊| 98/100 [1:40:20<02:02, 61.25s/it]"
     ]
    },
    {
     "name": "stdout",
     "output_type": "stream",
     "text": [
      "{'regret_max': 0.033624663949012756, 'regret_mean': 0.00019677303498610854, 'regret_mults': tensor([[180.9940, 176.9048]], device='cuda:0'), 'payment': 0.20088815689086914}\n"
     ]
    },
    {
     "name": "stderr",
     "output_type": "stream",
     "text": [
      "\r",
      " 99%|█████████▉| 99/100 [1:41:21<01:01, 61.28s/it]"
     ]
    },
    {
     "name": "stdout",
     "output_type": "stream",
     "text": [
      "{'regret_max': 0.034512512385845184, 'regret_mean': 0.00025466916849836707, 'regret_mults': tensor([[182.5922, 178.1874]], device='cuda:0'), 'payment': 0.1988319456577301}\n"
     ]
    },
    {
     "name": "stderr",
     "output_type": "stream",
     "text": [
      "100%|██████████| 100/100 [1:42:23<00:00, 61.43s/it]"
     ]
    },
    {
     "name": "stdout",
     "output_type": "stream",
     "text": [
      "{'regret_max': 0.032122790813446045, 'regret_mean': 0.00019231901387684047, 'regret_mults': tensor([[184.2610, 179.8855]], device='cuda:0'), 'payment': 0.20093175768852234}\n",
      "CPU times: user 1h 41min 35s, sys: 16.7 s, total: 1h 41min 52s\n",
      "Wall time: 1h 42min 23s\n"
     ]
    },
    {
     "name": "stderr",
     "output_type": "stream",
     "text": [
      "\n"
     ]
    }
   ],
   "source": [
    "%%time\n",
    "train_loop(model, train_loader, args, device=device)"
   ]
  },
  {
   "cell_type": "code",
   "execution_count": 6,
   "metadata": {},
   "outputs": [
    {
     "name": "stderr",
     "output_type": "stream",
     "text": [
      "1it [00:17, 17.66s/it]"
     ]
    },
    {
     "name": "stdout",
     "output_type": "stream",
     "text": [
      "CPU times: user 17.5 s, sys: 64 ms, total: 17.6 s\n",
      "Wall time: 17.7 s\n"
     ]
    },
    {
     "name": "stderr",
     "output_type": "stream",
     "text": [
      "\n"
     ]
    },
    {
     "data": {
      "text/plain": [
       "{'payment_mean': 0.19759562611579895,\n",
       " 'regret_mean': 0.0032645920291543007,\n",
       " 'regret_max': 0.037787556648254395}"
      ]
     },
     "execution_count": 6,
     "metadata": {},
     "output_type": "execute_result"
    }
   ],
   "source": [
    "%%time\n",
    "# model.sinkhorn_rounds = 100\n",
    "# model.sinkhorn_epsilon = 1e-2\n",
    "test_data = ds.generate_dataset_nxk(args.n_agents, args.n_items, args.test_num_examples, item_ranges).to(device)\n",
    "cpu_test_data = test_data.clone()\n",
    "test_loader = ds.Dataloader(test_data, batch_size=args.test_batch_size, shuffle=True)\n",
    "\n",
    "result = test_loop(model, test_loader, args, device=device)\n",
    "result"
   ]
  },
  {
   "cell_type": "code",
   "execution_count": 15,
   "metadata": {},
   "outputs": [],
   "source": [
    "from tqdm import tqdm\n",
    "from double_net import utils_misreport as utils\n",
    "def test_loop_random_start(model, loader, args, random_starts, device='cpu'):\n",
    "    # regrets and payments are 2d: n_samples x n_agents; unfairs is 1d: n_samples.\n",
    "    test_regrets = torch.Tensor().to(device)\n",
    "    test_payments = torch.Tensor().to(device)\n",
    "\n",
    "    for i, batch in tqdm(enumerate(loader)):\n",
    "        batch = batch.to(device)\n",
    "        allocs, payments = model(batch)\n",
    "        truthful_util = utils.calc_agent_util(batch, allocs, payments)\n",
    "        \n",
    "        max_regrets = torch.zeros(truthful_util.shape).to(device=device)\n",
    "        for c in range(len(random_starts)):\n",
    "            misreport_batch = random_starts[c].clone().detach()\n",
    "            utils.optimize_misreports(model, batch, misreport_batch,\n",
    "                                  misreport_iter=args.test_misreport_iter, lr=args.misreport_lr)\n",
    "            misreport_util = utils.tiled_misreport_util(misreport_batch, batch, model)\n",
    "\n",
    "            regrets = misreport_util - truthful_util\n",
    "            positive_regrets = torch.clamp_min(regrets, 0)\n",
    "            max_regrets = torch.max(max_regrets, positive_regrets)\n",
    "\n",
    "        # Record entire test data\n",
    "        test_regrets = torch.cat((test_regrets, max_regrets), dim=0)\n",
    "        test_payments = torch.cat((test_payments, payments), dim=0)\n",
    "\n",
    "    mean_regret = test_regrets.sum(dim=1).mean(dim=0).item()\n",
    "    result = {\n",
    "        \"payment_mean\": test_payments.sum(dim=1).mean(dim=0).item(),\n",
    "        \"regret_mean\": mean_regret,\n",
    "        \"regret_max\": test_regrets.sum(dim=1).max().item(),\n",
    "    }\n",
    "    return result"
   ]
  },
  {
   "cell_type": "code",
   "execution_count": 21,
   "metadata": {
    "scrolled": true
   },
   "outputs": [
    {
     "name": "stderr",
     "output_type": "stream",
     "text": [
      "1it [03:15, 195.64s/it]"
     ]
    },
    {
     "name": "stdout",
     "output_type": "stream",
     "text": [
      "CPU times: user 3min 14s, sys: 544 ms, total: 3min 14s\n",
      "Wall time: 3min 15s\n"
     ]
    },
    {
     "name": "stderr",
     "output_type": "stream",
     "text": [
      "\n"
     ]
    },
    {
     "data": {
      "text/plain": [
       "{'payment_mean': 0.19759562611579895,\n",
       " 'regret_mean': 0.0033729870337992907,\n",
       " 'regret_max': 0.037787556648254395}"
      ]
     },
     "execution_count": 21,
     "metadata": {},
     "output_type": "execute_result"
    }
   ],
   "source": [
    "%%time\n",
    "args.test_num_examples = 1000\n",
    "args.test_batch_size = 1000\n",
    "args.test_misreport_iter = 1000\n",
    "args.misreport_lr = 1e-1\n",
    "model.sinkhorn_rounds = 20\n",
    "model.sinkhorn_epsilon = 3e-2\n",
    "\n",
    "random_starts = [test_data]\n",
    "for i in range(10):\n",
    "    random_starts.append(ds.generate_dataset_nxk(args.n_agents, args.n_items, args.test_num_examples, item_ranges).to(device))\n",
    "test_loader = ds.Dataloader(test_data, batch_size=args.test_batch_size, shuffle=True)\n",
    "\n",
    "result = test_loop_random_start(model, test_loader, args, random_starts, device=device)\n",
    "result"
   ]
  },
  {
   "cell_type": "code",
   "execution_count": 19,
   "metadata": {},
   "outputs": [],
   "source": [
    "torch.save(test_data, './exact_one_2x3_test_data')"
   ]
  },
  {
   "cell_type": "code",
   "execution_count": 8,
   "metadata": {},
   "outputs": [],
   "source": [
    "model.save('./exact_one_2x3_0_1_')"
   ]
  },
  {
   "cell_type": "code",
   "execution_count": 22,
   "metadata": {},
   "outputs": [],
   "source": [
    "import cvxpy as cp\n",
    "import numpy as np\n",
    "from typing import NamedTuple\n",
    "from tqdm.notebook import tqdm"
   ]
  },
  {
   "cell_type": "code",
   "execution_count": 23,
   "metadata": {},
   "outputs": [],
   "source": [
    "class AuctionResult(NamedTuple):\n",
    "    alloc: np.ndarray\n",
    "    welfare: np.ndarray\n",
    "    payment: np.ndarray"
   ]
  },
  {
   "cell_type": "code",
   "execution_count": 24,
   "metadata": {},
   "outputs": [],
   "source": [
    "def max_welfare_alloc(bids_mat, k, exact_demand=False):\n",
    "    # returns allocation, util of allocation\n",
    "\n",
    "    num_agents = bids_mat.shape[0]\n",
    "    num_items = bids_mat.shape[1]\n",
    "    alloc_matrix = cp.Variable((num_agents, num_items), nonneg=True)\n",
    "    item_supply_constraints = cp.sum(alloc_matrix, axis=0) <= 1\n",
    "    if exact_demand:\n",
    "        agent_demand_constraints = cp.sum(alloc_matrix, axis=1) == k\n",
    "    else:\n",
    "        agent_demand_constraints = cp.sum(alloc_matrix, axis=1) <= k\n",
    "    welfare = cp.sum((cp.multiply(bids_mat, alloc_matrix)))\n",
    "    problem = cp.Problem(cp.Maximize(welfare), [item_supply_constraints, agent_demand_constraints])\n",
    "    problem.solve()\n",
    "    return (alloc_matrix.value, problem.value)"
   ]
  },
  {
   "cell_type": "code",
   "execution_count": 25,
   "metadata": {},
   "outputs": [],
   "source": [
    "def vcg_auction(bids_mat, k, exact_demand=False):\n",
    "    main_alloc, max_welfare_total_util = max_welfare_alloc(bids_mat, k, exact_demand=exact_demand)\n",
    "    payments = np.zeros(bids_mat.shape[0])\n",
    "    player_utils = (bids_mat * main_alloc).sum(axis=1)\n",
    "    num_agents = bids_mat.shape[0]\n",
    "    for i in range(num_agents):\n",
    "        dropped_bid_mat = np.delete(bids_mat, (i), axis=0)\n",
    "        dropped_player_utils = np.delete(player_utils, (i), axis=0) # player utils under full auction\n",
    "        new_alloc, new_total_util = max_welfare_alloc(dropped_bid_mat, k, exact_demand=exact_demand)\n",
    "        new_agent_utils = (new_alloc*dropped_bid_mat).sum(axis=1) # player utils without agent i's bid\n",
    "        payments[i] = (new_agent_utils - dropped_player_utils).sum() \n",
    "    return AuctionResult(main_alloc, player_utils, payments)"
   ]
  },
  {
   "cell_type": "code",
   "execution_count": 26,
   "metadata": {},
   "outputs": [],
   "source": [
    "payments = []\n",
    "for i in range(test_data.shape[0]):\n",
    "    payments.append(vcg_auction(cpu_test_data[i].cpu().numpy(), 1, exact_demand=True).payment.sum())"
   ]
  },
  {
   "cell_type": "code",
   "execution_count": 27,
   "metadata": {},
   "outputs": [
    {
     "data": {
      "text/plain": [
       "0.04831120853033575"
      ]
     },
     "execution_count": 27,
     "metadata": {},
     "output_type": "execute_result"
    }
   ],
   "source": [
    "np.mean(payments)"
   ]
  },
  {
   "cell_type": "code",
   "execution_count": null,
   "metadata": {},
   "outputs": [],
   "source": [
    "test_data.shape"
   ]
  },
  {
   "cell_type": "code",
   "execution_count": null,
   "metadata": {},
   "outputs": [],
   "source": [
    "bids = torch.tensor([[\n",
    "    [0., 1., 1.],\n",
    "    [0., 1., 0.]\n",
    "]]).to(device)\n",
    "model.sinkhorn_rounds = 20\n",
    "model.sinkhorn_epsilon = 3e-2\n",
    "model(bids)"
   ]
  },
  {
   "cell_type": "code",
   "execution_count": 15,
   "metadata": {},
   "outputs": [],
   "source": [
    "cated = torch.cat((torch.ones((1, 3, 4)), torch.ones(1, 3, 4) * 2), dim=0)\n",
    "cated[1, 0, 0] = 0 "
   ]
  }
 ],
 "metadata": {
  "kernelspec": {
   "display_name": "Python 3",
   "language": "python",
   "name": "python3"
  },
  "language_info": {
   "codemirror_mode": {
    "name": "ipython",
    "version": 3
   },
   "file_extension": ".py",
   "mimetype": "text/x-python",
   "name": "python",
   "nbconvert_exporter": "python",
   "pygments_lexer": "ipython3",
   "version": "3.7.4"
  }
 },
 "nbformat": 4,
 "nbformat_minor": 2
}
